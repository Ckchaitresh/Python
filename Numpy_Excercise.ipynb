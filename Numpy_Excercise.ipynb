{
 "cells": [
  {
   "cell_type": "code",
   "execution_count": 1,
   "id": "abba38ca-a1b8-48f7-9830-73c2f1f5d4c4",
   "metadata": {},
   "outputs": [
    {
     "name": "stdout",
     "output_type": "stream",
     "text": [
      "[(1001, 'Ford', 'Focus', 2,  40000) (1002, 'Tesla', 'Model X', 4, 360000)\n",
      " (1003, 'BMW', '3 Series', 3, 144000) (1004, 'Ford', 'Focus', 1,  20000)\n",
      " (1005, 'Tesla', 'Model S', 1,  80000)\n",
      " (1006, 'Honda', 'Accord', 1,  26000) (1007, 'Toyota', 'RAV4', 2,  60000)\n",
      " (1008, 'Tesla', 'Model S', 3, 240000)\n",
      " (1009, 'Toyota', 'Camry', 4, 100000)\n",
      " (1010, 'Toyota', 'Corolla', 4,  80000)\n",
      " (1011, 'Toyota', 'RAV4', 4, 120000) (1012, 'Ford', 'Focus', 3,  60000)\n",
      " (1013, 'Ford', 'Explorer', 1,  35000) (1014, 'BMW', 'X3', 1,  42000)\n",
      " (1015, 'Tesla', 'Model S', 1,  80000) (1016, 'BMW', 'X5', 3, 165000)\n",
      " (1017, 'BMW', 'X3', 1,  42000) (1018, 'Honda', 'CR-V', 1,  28000)\n",
      " (1019, 'Toyota', 'Corolla', 5, 100000)\n",
      " (1020, 'Toyota', 'Camry', 4, 100000) (1021, 'BMW', 'X5', 2, 110000)\n",
      " (1022, 'Tesla', 'Model 3', 1,  40000)\n",
      " (1023, 'Honda', 'Accord', 5, 130000) (1024, 'Ford', 'Fiesta', 5,  90000)\n",
      " (1025, 'Honda', 'CR-V', 2,  56000) (1026, 'Tesla', 'Model 3', 1,  40000)\n",
      " (1027, 'Tesla', 'Model S', 5, 400000) (1028, 'Honda', 'Civic', 1,  22000)\n",
      " (1029, 'Ford', 'Focus', 2,  40000) (1030, 'Ford', 'Focus', 4,  80000)\n",
      " (1031, 'Toyota', 'Corolla', 1,  20000)\n",
      " (1032, 'Toyota', 'Corolla', 5, 100000)\n",
      " (1033, 'Toyota', 'RAV4', 2,  60000) (1034, 'Toyota', 'Camry', 5, 125000)\n",
      " (1035, 'Tesla', 'Model 3', 5, 200000) (1036, 'Ford', 'Fiesta', 1,  18000)\n",
      " (1037, 'Ford', 'Fiesta', 4,  72000) (1038, 'BMW', 'X5', 4, 220000)\n",
      " (1039, 'Toyota', 'Camry', 4, 100000) (1040, 'Honda', 'Accord', 2,  52000)\n",
      " (1041, 'Ford', 'Fiesta', 5,  90000) (1042, 'Tesla', 'Model 3', 5, 200000)\n",
      " (1043, 'Ford', 'Fiesta', 4,  72000) (1044, 'Tesla', 'Model X', 4, 360000)\n",
      " (1045, 'Tesla', 'Model 3', 3, 120000) (1046, 'Ford', 'Focus', 2,  40000)\n",
      " (1047, 'Honda', 'Civic', 1,  22000) (1048, 'Honda', 'Civic', 1,  22000)\n",
      " (1049, 'BMW', '3 Series', 3, 144000)\n",
      " (1050, 'Ford', 'Explorer', 2,  70000)\n",
      " (1051, 'Tesla', 'Model X', 3, 270000)\n",
      " (1052, 'Tesla', 'Model S', 2, 160000)\n",
      " (1053, 'Tesla', 'Model X', 4, 360000)\n",
      " (1054, 'BMW', '3 Series', 4, 192000) (1055, 'Ford', 'Focus', 4,  80000)\n",
      " (1056, 'Toyota', 'RAV4', 1,  30000) (1057, 'BMW', '3 Series', 2,  96000)\n",
      " (1058, 'Toyota', 'Camry', 2,  50000) (1059, 'BMW', '3 Series', 5, 240000)\n",
      " (1060, 'Toyota', 'RAV4', 4, 120000) (1061, 'Tesla', 'Model X', 1,  90000)\n",
      " (1062, 'Honda', 'Accord', 4, 104000) (1063, 'Ford', 'Focus', 3,  60000)\n",
      " (1064, 'Tesla', 'Model S', 3, 240000)\n",
      " (1065, 'Tesla', 'Model X', 2, 180000)\n",
      " (1066, 'Honda', 'Accord', 4, 104000) (1067, 'Honda', 'Civic', 4,  88000)\n",
      " (1068, 'Ford', 'Focus', 4,  80000) (1069, 'Tesla', 'Model 3', 4, 160000)\n",
      " (1070, 'Toyota', 'Camry', 1,  25000) (1071, 'BMW', 'X5', 4, 220000)\n",
      " (1072, 'Toyota', 'RAV4', 5, 150000) (1073, 'Ford', 'Explorer', 2,  70000)\n",
      " (1074, 'BMW', '3 Series', 2,  96000) (1075, 'Honda', 'Civic', 1,  22000)\n",
      " (1076, 'Ford', 'Fiesta', 3,  54000) (1077, 'Ford', 'Focus', 4,  80000)\n",
      " (1078, 'Toyota', 'Camry', 1,  25000)\n",
      " (1079, 'Tesla', 'Model 3', 2,  80000) (1080, 'BMW', 'X5', 1,  55000)\n",
      " (1081, 'BMW', 'X5', 4, 220000) (1082, 'Honda', 'Civic', 3,  66000)\n",
      " (1083, 'BMW', '3 Series', 4, 192000) (1084, 'Ford', 'Focus', 3,  60000)\n",
      " (1085, 'Ford', 'Focus', 1,  20000) (1086, 'Ford', 'Explorer', 1,  35000)\n",
      " (1087, 'Ford', 'Fiesta', 1,  18000) (1088, 'Tesla', 'Model S', 2, 160000)\n",
      " (1089, 'Ford', 'Explorer', 1,  35000) (1090, 'BMW', 'X3', 5, 210000)\n",
      " (1091, 'Ford', 'Focus', 2,  40000) (1092, 'Honda', 'CR-V', 2,  56000)\n",
      " (1093, 'Honda', 'Accord', 2,  52000)\n",
      " (1094, 'Tesla', 'Model 3', 3, 120000) (1095, 'Honda', 'Civic', 1,  22000)\n",
      " (1096, 'Toyota', 'RAV4', 5, 150000) (1097, 'Toyota', 'Camry', 2,  50000)\n",
      " (1098, 'Tesla', 'Model 3', 5, 200000)\n",
      " (1099, 'Tesla', 'Model S', 1,  80000) (1100, 'Toyota', 'RAV4', 4, 120000)]\n",
      "1\n"
     ]
    }
   ],
   "source": [
    "import numpy as np\n",
    "\n",
    "car_brands = [\"Toyota\", \"Honda\", \"Ford\", \"BMW\", \"Tesla\"]\n",
    "car_models = {\n",
    "    \"Toyota\": [\"Camry\", \"Corolla\", \"RAV4\"],\n",
    "    \"Honda\": [\"Civic\", \"Accord\", \"CR-V\"],\n",
    "    \"Ford\": [\"Fiesta\", \"Focus\", \"Explorer\"],\n",
    "    \"BMW\": [\"X3\", \"X5\", \"3 Series\"],\n",
    "    \"Tesla\": [\"Model 3\", \"Model S\", \"Model X\"]\n",
    "}\n",
    "car_prices = {\n",
    "    \"Camry\": 25000, \"Corolla\": 20000, \"RAV4\": 30000,\n",
    "    \"Civic\": 22000, \"Accord\": 26000, \"CR-V\": 28000,\n",
    "    \"Fiesta\": 18000, \"Focus\": 20000, \"Explorer\": 35000,\n",
    "    \"X3\": 42000, \"X5\": 55000, \"3 Series\": 48000,\n",
    "    \"Model 3\": 40000, \"Model S\": 80000, \"Model X\": 90000\n",
    "}\n",
    "\n",
    "\n",
    "num_records = 100  \n",
    "customer_ids = np.arange(1001, 1001 + num_records)  \n",
    "\n",
    "brands = np.random.choice(car_brands, size=num_records)\n",
    "models = [np.random.choice(car_models[brand]) for brand in brands]\n",
    "units_sold = np.random.randint(1, 6, size=num_records)  \n",
    "amounts = [units_sold[i] * car_prices[models[i]] for i in range(num_records)]\n",
    "\n",
    "dataset = np.empty(num_records,dtype=[('Customerid', np.int32),\n",
    "                                       ('Carname', np.str_, 20),\n",
    "                                       ('Carmodel', np.str_, 20),\n",
    "                                       ('Units', np.int32),\n",
    "                                       ('Amount', np.int32)])\n",
    "\n",
    "dataset['Customerid'] = customer_ids\n",
    "dataset['Carname'] = brands\n",
    "dataset['Carmodel'] = models\n",
    "dataset['Units'] = units_sold\n",
    "dataset['Amount'] = amounts\n",
    "\n",
    "print(dataset)\n",
    "print(dataset.ndim)\n"
   ]
  },
  {
   "cell_type": "raw",
   "id": "eb785da3-eda8-4f7e-93e6-a02b73b0d3e8",
   "metadata": {},
   "source": [
    "Calculate the total amount"
   ]
  },
  {
   "cell_type": "code",
   "execution_count": 2,
   "id": "7e6e422f-7cb1-41d7-aac0-f79d61bd39ff",
   "metadata": {},
   "outputs": [
    {
     "data": {
      "text/plain": [
       "np.int64(10524000)"
      ]
     },
     "execution_count": 2,
     "metadata": {},
     "output_type": "execute_result"
    }
   ],
   "source": [
    "total=dataset[\"Amount\"].sum() #or np.sum(dataset['Amount']\n",
    "total"
   ]
  },
  {
   "cell_type": "raw",
   "id": "b5795abb-e07d-40b5-ad9c-fa026a781d02",
   "metadata": {},
   "source": [
    " How many unique car brands are present in the dataset?"
   ]
  },
  {
   "cell_type": "code",
   "execution_count": 3,
   "id": "e77507e3-05d0-4fd2-9942-7e5514b26122",
   "metadata": {},
   "outputs": [
    {
     "name": "stdout",
     "output_type": "stream",
     "text": [
      "['BMW' 'Ford' 'Honda' 'Tesla' 'Toyota']\n",
      "5\n"
     ]
    }
   ],
   "source": [
    "un=np.unique(dataset['Carname'])\n",
    "print(un)\n",
    "print(len(un))"
   ]
  },
  {
   "cell_type": "raw",
   "id": "9f0488b6-9b40-48c1-bf7b-4d7c06227c9d",
   "metadata": {},
   "source": [
    "What is the total number of cars sold?"
   ]
  },
  {
   "cell_type": "code",
   "execution_count": 4,
   "id": "2380ae14-4fef-4033-a842-51adfa79f01e",
   "metadata": {},
   "outputs": [
    {
     "name": "stdout",
     "output_type": "stream",
     "text": [
      "278\n"
     ]
    }
   ],
   "source": [
    "sold=np.sum(dataset['Units'])\n",
    "print(sold)\n"
   ]
  },
  {
   "cell_type": "raw",
   "id": "39840a11-bc73-4a96-9010-0c190f62585a",
   "metadata": {},
   "source": [
    "How many units of Tesla cars were sold in total?"
   ]
  },
  {
   "cell_type": "code",
   "execution_count": 5,
   "id": "0fc98be5-94af-488b-9add-7c21fd0b43ad",
   "metadata": {},
   "outputs": [
    {
     "name": "stdout",
     "output_type": "stream",
     "text": [
      "65\n"
     ]
    }
   ],
   "source": [
    "sum=0\n",
    "for i,j in enumerate(dataset['Carname']):\n",
    "    if j=='Tesla':\n",
    "        sum=sum+dataset['Units'][i]\n",
    "print(sum)\n",
    "        "
   ]
  },
  {
   "cell_type": "raw",
   "id": "adbf5945-9103-4e4d-9c92-00001468c8c2",
   "metadata": {},
   "source": [
    "                                                        or"
   ]
  },
  {
   "cell_type": "code",
   "execution_count": 6,
   "id": "9896bc03-5347-462f-a869-f8093725c6ad",
   "metadata": {},
   "outputs": [
    {
     "name": "stdout",
     "output_type": "stream",
     "text": [
      "65\n"
     ]
    }
   ],
   "source": [
    "sum1=0\n",
    "for i,j in enumerate(dataset):\n",
    "    if j[1]=='Tesla':\n",
    "        sum1=sum1+j[3]\n",
    "print(sum1)\n",
    "        "
   ]
  },
  {
   "cell_type": "raw",
   "id": "b1d3214e-2796-4a23-8f3d-86b27050758c",
   "metadata": {},
   "source": [
    "Calculate the total amount (sum of 'Amount' column) for all rows where the 'CarBrand' is 'BMW'"
   ]
  },
  {
   "cell_type": "code",
   "execution_count": 13,
   "id": "c4886949-7f09-4c07-8bf9-4e193f52a935",
   "metadata": {},
   "outputs": [
    {
     "name": "stdout",
     "output_type": "stream",
     "text": [
      "2388000\n"
     ]
    }
   ],
   "source": [
    "sum=0\n",
    "for i,j in enumerate(dataset['Carname']):\n",
    "    if j=='BMW':\n",
    "        sum=sum+dataset['Amount'][i]\n",
    "print(sum)"
   ]
  },
  {
   "cell_type": "raw",
   "id": "999a5faa-cac8-4d65-b00e-727c4d37a30e",
   "metadata": {},
   "source": [
    "Find the average Units sold for all rows where the 'Carname' is 'Toyota'."
   ]
  },
  {
   "cell_type": "code",
   "execution_count": 18,
   "id": "44eaa97f-5a5b-4abf-b56f-8cde082ba8c1",
   "metadata": {},
   "outputs": [
    {
     "name": "stdout",
     "output_type": "stream",
     "text": [
      "3.25\n"
     ]
    }
   ],
   "source": [
    "units=0\n",
    "count=0\n",
    "for i in dataset:\n",
    "    if i[1]=='Toyota':\n",
    "        units=units+i[3]\n",
    "        count=count+1\n",
    "average=units/count\n",
    "print(average)"
   ]
  },
  {
   "cell_type": "raw",
   "id": "f375562b-af88-4dba-bef5-8ac0a1b3ba65",
   "metadata": {},
   "source": [
    "Find the maximum Amount for all rows where the 'Carname' is 'Tesla'"
   ]
  },
  {
   "cell_type": "code",
   "execution_count": 20,
   "id": "57fdd1c0-d18b-4b17-ad3c-5c25e0033249",
   "metadata": {},
   "outputs": [
    {
     "name": "stdout",
     "output_type": "stream",
     "text": [
      "400000\n"
     ]
    }
   ],
   "source": [
    "max1=0\n",
    "for  i in dataset:\n",
    "    if i[1]=='Tesla':\n",
    "        if max1>i[4]:\n",
    "            continue\n",
    "        else:\n",
    "            max1=i[4]\n",
    "print(max1)\n",
    "    "
   ]
  }
 ],
 "metadata": {
  "kernelspec": {
   "display_name": "Python 3 (ipykernel)",
   "language": "python",
   "name": "python3"
  },
  "language_info": {
   "codemirror_mode": {
    "name": "ipython",
    "version": 3
   },
   "file_extension": ".py",
   "mimetype": "text/x-python",
   "name": "python",
   "nbconvert_exporter": "python",
   "pygments_lexer": "ipython3",
   "version": "3.11.0"
  }
 },
 "nbformat": 4,
 "nbformat_minor": 5
}
