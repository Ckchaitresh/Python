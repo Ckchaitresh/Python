{
 "cells": [
  {
   "cell_type": "raw",
   "id": "709a2406-2b00-409f-8fc7-f01a668664ed",
   "metadata": {},
   "source": [
    "Numpy is a linear algebra Library\n"
   ]
  },
  {
   "cell_type": "raw",
   "id": "21283e26-6d0b-4523-b1e5-df21ef075505",
   "metadata": {},
   "source": [
    "How to convert list to numpy array?"
   ]
  },
  {
   "cell_type": "code",
   "execution_count": 140,
   "id": "5d7b11b6-64a3-4284-b1be-ef9f18dfe910",
   "metadata": {},
   "outputs": [
    {
     "data": {
      "text/plain": [
       "[1, 2, 3]"
      ]
     },
     "execution_count": 140,
     "metadata": {},
     "output_type": "execute_result"
    }
   ],
   "source": [
    "my_list=[1,2,3]\n",
    "my_list"
   ]
  },
  {
   "cell_type": "code",
   "execution_count": 141,
   "id": "d1533674-be27-4a62-822e-2cf234ca1855",
   "metadata": {},
   "outputs": [
    {
     "data": {
      "text/plain": [
       "array([1, 2, 3])"
      ]
     },
     "execution_count": 141,
     "metadata": {},
     "output_type": "execute_result"
    }
   ],
   "source": [
    "import numpy as np\n",
    "arr=np.array(my_list)\n",
    "arr"
   ]
  },
  {
   "cell_type": "code",
   "execution_count": 142,
   "id": "71fc807b-7c16-4fd0-8e91-8f657278e4bd",
   "metadata": {},
   "outputs": [
    {
     "data": {
      "text/plain": [
       "array([[1, 2, 3],\n",
       "       [4, 5, 6],\n",
       "       [7, 8, 9]])"
      ]
     },
     "execution_count": 142,
     "metadata": {},
     "output_type": "execute_result"
    }
   ],
   "source": [
    "my_mat=[[1,2,3],[4,5,6],[7,8,9]]\n",
    "arr2=np.array(my_mat)\n",
    "arr2"
   ]
  },
  {
   "cell_type": "raw",
   "id": "2f16333c-0f3c-45a9-9156-b73bd04000b2",
   "metadata": {},
   "source": [
    "How to create a numpy array?\n",
    "np.arange(start,stop,step)"
   ]
  },
  {
   "cell_type": "code",
   "execution_count": 143,
   "id": "f69dde34-5ebf-4ee8-8923-65ce6643a34c",
   "metadata": {},
   "outputs": [
    {
     "data": {
      "text/plain": [
       "array([0, 1, 2, 3, 4, 5, 6, 7, 8, 9])"
      ]
     },
     "execution_count": 143,
     "metadata": {},
     "output_type": "execute_result"
    }
   ],
   "source": [
    "np.arange(0,10)"
   ]
  },
  {
   "cell_type": "code",
   "execution_count": 144,
   "id": "01313466-55d4-47c1-add8-55276df661ad",
   "metadata": {},
   "outputs": [
    {
     "data": {
      "text/plain": [
       "array([0, 2, 4, 6, 8])"
      ]
     },
     "execution_count": 144,
     "metadata": {},
     "output_type": "execute_result"
    }
   ],
   "source": [
    "np.arange(0,10,2)"
   ]
  },
  {
   "cell_type": "raw",
   "id": "fed194e1-7d0b-452c-a921-b9e7e4160f73",
   "metadata": {},
   "source": [
    "How to create 1D array of Zeros\n"
   ]
  },
  {
   "cell_type": "code",
   "execution_count": 145,
   "id": "f3fef658-ffc2-4f42-b38d-526f3b6059ef",
   "metadata": {},
   "outputs": [
    {
     "data": {
      "text/plain": [
       "array([0., 0., 0.])"
      ]
     },
     "execution_count": 145,
     "metadata": {},
     "output_type": "execute_result"
    }
   ],
   "source": [
    "np.zeros(3)"
   ]
  },
  {
   "cell_type": "raw",
   "id": "f2072fc8-3b57-4cdb-8faa-98b5daa3ed52",
   "metadata": {},
   "source": [
    "How to create 2D array of Zeros"
   ]
  },
  {
   "cell_type": "code",
   "execution_count": 146,
   "id": "dafa8956-004c-45a0-9813-56e4ed2f27cd",
   "metadata": {},
   "outputs": [
    {
     "data": {
      "text/plain": [
       "array([[0., 0., 0.],\n",
       "       [0., 0., 0.]])"
      ]
     },
     "execution_count": 146,
     "metadata": {},
     "output_type": "execute_result"
    }
   ],
   "source": [
    "np.zeros((2,3)) #2 rows 3 columns"
   ]
  },
  {
   "cell_type": "raw",
   "id": "1318c50f-6027-4233-8336-49676bcb9887",
   "metadata": {},
   "source": [
    "How to create 1D array of Ones"
   ]
  },
  {
   "cell_type": "code",
   "execution_count": 147,
   "id": "545e607f-d506-483f-b396-4605a4397854",
   "metadata": {},
   "outputs": [
    {
     "data": {
      "text/plain": [
       "array([1., 1.])"
      ]
     },
     "execution_count": 147,
     "metadata": {},
     "output_type": "execute_result"
    }
   ],
   "source": [
    "np.ones(2)"
   ]
  },
  {
   "cell_type": "raw",
   "id": "933685bc-af0f-44da-954b-0f22b0d9c65e",
   "metadata": {},
   "source": [
    "How to create 2D array of Zeros"
   ]
  },
  {
   "cell_type": "code",
   "execution_count": 148,
   "id": "83ff927c-e618-4db4-8531-e66d92c5a9f0",
   "metadata": {},
   "outputs": [
    {
     "data": {
      "text/plain": [
       "array([[1., 1., 1., 1., 1.],\n",
       "       [1., 1., 1., 1., 1.],\n",
       "       [1., 1., 1., 1., 1.],\n",
       "       [1., 1., 1., 1., 1.],\n",
       "       [1., 1., 1., 1., 1.]])"
      ]
     },
     "execution_count": 148,
     "metadata": {},
     "output_type": "execute_result"
    }
   ],
   "source": [
    "np.ones((5,5))"
   ]
  },
  {
   "cell_type": "raw",
   "id": "9e651a71-62a4-4c49-9c2b-aae6c420b1a3",
   "metadata": {},
   "source": [
    "Linspace-Difference between any two concecutive numbers is same throught.\n",
    "\n",
    "np.linspace(start,end,number of samples to generate)"
   ]
  },
  {
   "cell_type": "code",
   "execution_count": 149,
   "id": "f2e7dc37-6302-4c48-866b-ce18580fbf20",
   "metadata": {},
   "outputs": [
    {
     "data": {
      "text/plain": [
       "array([ 0. ,  2.5,  5. ,  7.5, 10. ])"
      ]
     },
     "execution_count": 149,
     "metadata": {},
     "output_type": "execute_result"
    }
   ],
   "source": [
    "np.linspace(0,10,5)"
   ]
  },
  {
   "cell_type": "raw",
   "id": "2eb9d326-a048-4ce7-b1c6-de30b389bd5a",
   "metadata": {},
   "source": [
    "How to create a identity matrix?"
   ]
  },
  {
   "cell_type": "code",
   "execution_count": 150,
   "id": "0ad4a237-be3d-4c87-becd-f0128d53c867",
   "metadata": {},
   "outputs": [
    {
     "data": {
      "text/plain": [
       "array([[1., 0., 0., 0., 0.],\n",
       "       [0., 1., 0., 0., 0.],\n",
       "       [0., 0., 1., 0., 0.],\n",
       "       [0., 0., 0., 1., 0.],\n",
       "       [0., 0., 0., 0., 1.]])"
      ]
     },
     "execution_count": 150,
     "metadata": {},
     "output_type": "execute_result"
    }
   ],
   "source": [
    "np.eye(5) # creates a identity matrix that is one as diagonal & others as zero"
   ]
  },
  {
   "cell_type": "raw",
   "id": "478c7d43-f0c5-45e6-85f3-483224637030",
   "metadata": {},
   "source": [
    "                                                Random"
   ]
  },
  {
   "cell_type": "code",
   "execution_count": 151,
   "id": "017f6557-9ff8-4116-8b0c-c2b87b6d875d",
   "metadata": {},
   "outputs": [
    {
     "data": {
      "text/plain": [
       "array([0.37711185, 0.77761165, 0.87027637, 0.56526839, 0.41480091])"
      ]
     },
     "execution_count": 151,
     "metadata": {},
     "output_type": "execute_result"
    }
   ],
   "source": [
    "np.random.rand(5)  #numbers between 0 and 1 [Exclusive]  -1D array"
   ]
  },
  {
   "cell_type": "code",
   "execution_count": 152,
   "id": "c2fa25d7-ccd0-4ea4-9471-bc66f2394489",
   "metadata": {},
   "outputs": [
    {
     "data": {
      "text/plain": [
       "array([[0.56271971, 0.74385276, 0.56195363, 0.09549686, 0.21541333],\n",
       "       [0.08900503, 0.31263042, 0.35529424, 0.62770582, 0.84587874],\n",
       "       [0.73460436, 0.40334463, 0.20294652, 0.34773149, 0.79089877],\n",
       "       [0.95411575, 0.28643436, 0.34691955, 0.03433247, 0.19984965],\n",
       "       [0.96726963, 0.49793525, 0.08249053, 0.07903911, 0.54992265]])"
      ]
     },
     "execution_count": 152,
     "metadata": {},
     "output_type": "execute_result"
    }
   ],
   "source": [
    "np.random.rand(5,5)"
   ]
  },
  {
   "cell_type": "code",
   "execution_count": 153,
   "id": "32c20e0f-0010-49be-8606-d2012bf105b8",
   "metadata": {},
   "outputs": [
    {
     "data": {
      "text/plain": [
       "array([-0.03791279, -0.36039462])"
      ]
     },
     "execution_count": 153,
     "metadata": {},
     "output_type": "execute_result"
    }
   ],
   "source": [
    "np.random.randn(2) #to get 2 numbers from standard nrmal distribution  -1D array"
   ]
  },
  {
   "cell_type": "code",
   "execution_count": 154,
   "id": "b53cc5c2-ff31-490d-b8c8-6d3b769a6a55",
   "metadata": {},
   "outputs": [
    {
     "data": {
      "text/plain": [
       "array([[-0.47137324,  0.06177197],\n",
       "       [-1.25455275,  0.45808204]])"
      ]
     },
     "execution_count": 154,
     "metadata": {},
     "output_type": "execute_result"
    }
   ],
   "source": [
    "np.random.randn(2,2) #-2D array"
   ]
  },
  {
   "cell_type": "code",
   "execution_count": 155,
   "id": "50a78a6d-70d2-4a94-bd7f-f6d36873a6a0",
   "metadata": {},
   "outputs": [
    {
     "data": {
      "text/plain": [
       "5"
      ]
     },
     "execution_count": 155,
     "metadata": {},
     "output_type": "execute_result"
    }
   ],
   "source": [
    "np.random.randint(1,10)"
   ]
  },
  {
   "cell_type": "code",
   "execution_count": 156,
   "id": "33c59dab-c48d-4a38-9cd3-3498576738e8",
   "metadata": {},
   "outputs": [
    {
     "data": {
      "text/plain": [
       "array([4, 3, 5, 5, 6], dtype=int32)"
      ]
     },
     "execution_count": 156,
     "metadata": {},
     "output_type": "execute_result"
    }
   ],
   "source": [
    "np.random.randint(1,10,5) #5 random numbers from 1-10"
   ]
  },
  {
   "cell_type": "code",
   "execution_count": 157,
   "id": "1d06b1c8-973c-4735-9356-90e57b40b1fb",
   "metadata": {},
   "outputs": [
    {
     "data": {
      "text/plain": [
       "array([ 0,  1,  2,  3,  4,  5,  6,  7,  8,  9, 10, 11, 12, 13, 14, 15, 16,\n",
       "       17, 18, 19, 20, 21, 22, 23, 24])"
      ]
     },
     "execution_count": 157,
     "metadata": {},
     "output_type": "execute_result"
    }
   ],
   "source": [
    "arr=np.arange(0,25)\n",
    "arr"
   ]
  },
  {
   "cell_type": "raw",
   "id": "950c39f6-607a-4e28-b776-e39ac0f988cb",
   "metadata": {},
   "source": [
    "                                                        Reshape\n"
   ]
  },
  {
   "cell_type": "code",
   "execution_count": 158,
   "id": "5fc80052-d085-48e7-bc6c-63f6470adff9",
   "metadata": {},
   "outputs": [
    {
     "data": {
      "text/plain": [
       "array([[ 0,  1,  2,  3,  4],\n",
       "       [ 5,  6,  7,  8,  9],\n",
       "       [10, 11, 12, 13, 14],\n",
       "       [15, 16, 17, 18, 19],\n",
       "       [20, 21, 22, 23, 24]])"
      ]
     },
     "execution_count": 158,
     "metadata": {},
     "output_type": "execute_result"
    }
   ],
   "source": [
    "arr=arr.reshape(5,5)\n",
    "arr"
   ]
  },
  {
   "cell_type": "raw",
   "id": "7d88927d-e0d3-42c6-80ab-7dde6b91a22a",
   "metadata": {},
   "source": [
    "If you cant fill it will show error\n",
    "for eg: arr.shape(5,3) \n",
    "it will show error cannot reshape the array of size 25 into shape(5,3)"
   ]
  },
  {
   "cell_type": "code",
   "execution_count": 159,
   "id": "b2254a54-b02a-4da6-9f2e-b107dfebc0b8",
   "metadata": {},
   "outputs": [
    {
     "ename": "ValueError",
     "evalue": "cannot reshape array of size 25 into shape (5,3)",
     "output_type": "error",
     "traceback": [
      "\u001b[1;31m---------------------------------------------------------------------------\u001b[0m",
      "\u001b[1;31mValueError\u001b[0m                                Traceback (most recent call last)",
      "Cell \u001b[1;32mIn[159], line 1\u001b[0m\n\u001b[1;32m----> 1\u001b[0m \u001b[43marr\u001b[49m\u001b[38;5;241;43m.\u001b[39;49m\u001b[43mreshape\u001b[49m\u001b[43m(\u001b[49m\u001b[38;5;241;43m5\u001b[39;49m\u001b[43m,\u001b[49m\u001b[38;5;241;43m3\u001b[39;49m\u001b[43m)\u001b[49m\n",
      "\u001b[1;31mValueError\u001b[0m: cannot reshape array of size 25 into shape (5,3)"
     ]
    }
   ],
   "source": [
    "arr.reshape(5,3)"
   ]
  },
  {
   "cell_type": "code",
   "execution_count": 160,
   "id": "1a1196aa-1efb-452f-bd98-d6df17791245",
   "metadata": {},
   "outputs": [
    {
     "data": {
      "text/plain": [
       "2"
      ]
     },
     "execution_count": 160,
     "metadata": {},
     "output_type": "execute_result"
    }
   ],
   "source": [
    "arr.ndim"
   ]
  },
  {
   "cell_type": "code",
   "execution_count": 161,
   "id": "1f1f7c97-535c-4ea9-b362-1fe76002573e",
   "metadata": {},
   "outputs": [
    {
     "data": {
      "text/plain": [
       "np.int64(24)"
      ]
     },
     "execution_count": 161,
     "metadata": {},
     "output_type": "execute_result"
    }
   ],
   "source": [
    "arr.max() #to get maximum value in array"
   ]
  },
  {
   "cell_type": "code",
   "execution_count": 162,
   "id": "7a77b9c1-9c4d-4b39-9c4b-ff9f24f3cff5",
   "metadata": {},
   "outputs": [
    {
     "data": {
      "text/plain": [
       "np.int64(0)"
      ]
     },
     "execution_count": 162,
     "metadata": {},
     "output_type": "execute_result"
    }
   ],
   "source": [
    "arr.min() #to get minimum value in array"
   ]
  },
  {
   "cell_type": "code",
   "execution_count": 163,
   "id": "c77b6ec3-0ea8-4314-b1c8-0e996fbea7de",
   "metadata": {},
   "outputs": [
    {
     "data": {
      "text/plain": [
       "np.int64(24)"
      ]
     },
     "execution_count": 163,
     "metadata": {},
     "output_type": "execute_result"
    }
   ],
   "source": [
    "arr.argmax() #argmax()  converts it into a 1D list and finds the index of the maximum value--by default"
   ]
  },
  {
   "cell_type": "code",
   "execution_count": 164,
   "id": "326df024-e2c8-4bc1-bd34-53b5a4f8fd48",
   "metadata": {},
   "outputs": [
    {
     "data": {
      "text/plain": [
       "np.int64(0)"
      ]
     },
     "execution_count": 164,
     "metadata": {},
     "output_type": "execute_result"
    }
   ],
   "source": [
    "arr.argmin()"
   ]
  },
  {
   "cell_type": "raw",
   "id": "70f1e226-3f24-436a-a729-75a932f63573",
   "metadata": {},
   "source": [
    "Column Stack\n",
    "\n",
    "It is a funcction that stacks array as column to form 2d array.It combines 1d array.\n",
    "Input-A tuple or array or list\n",
    "output 2D array where input array become columns\n",
    "np.column_stack(col1,col2.col3)"
   ]
  },
  {
   "cell_type": "code",
   "execution_count": 165,
   "id": "32a7abeb-c313-40ea-9fca-a2e66d25a85c",
   "metadata": {},
   "outputs": [
    {
     "data": {
      "text/plain": [
       "array([['1', 'Chaitresh'],\n",
       "       ['2', 'Varun'],\n",
       "       ['3', 'Shivaprasad'],\n",
       "       ['4', 'Nagatejas']], dtype='<U21')"
      ]
     },
     "execution_count": 165,
     "metadata": {},
     "output_type": "execute_result"
    }
   ],
   "source": [
    "a=[1,2,3,4]\n",
    "b=[\"Chaitresh\",\"Varun\",\"Shivaprasad\",\"Nagatejas\"]\n",
    "arr=np.column_stack((a,b))\n",
    "arr"
   ]
  },
  {
   "cell_type": "raw",
   "id": "7d56cb7c-12d0-4833-a14c-4ec43d7287b4",
   "metadata": {},
   "source": [
    "                                               Numpy Indexing and selection     "
   ]
  },
  {
   "cell_type": "code",
   "execution_count": 166,
   "id": "38c95cd9-31cf-417f-bef2-fd2479032475",
   "metadata": {},
   "outputs": [
    {
     "data": {
      "text/plain": [
       "array([ 1,  2,  3,  4,  5,  6,  7,  8,  9, 10])"
      ]
     },
     "execution_count": 166,
     "metadata": {},
     "output_type": "execute_result"
    }
   ],
   "source": [
    "arr=np.arange(1,11)\n",
    "arr"
   ]
  },
  {
   "cell_type": "code",
   "execution_count": 167,
   "id": "a9aafdf9-671a-4e79-8ae1-77c3a6a3071c",
   "metadata": {},
   "outputs": [
    {
     "name": "stdout",
     "output_type": "stream",
     "text": [
      "4\n"
     ]
    }
   ],
   "source": [
    "print(arr[3])"
   ]
  },
  {
   "cell_type": "code",
   "execution_count": 168,
   "id": "dea5bd59-5ae5-40ea-a527-10d6bcecf122",
   "metadata": {},
   "outputs": [
    {
     "name": "stdout",
     "output_type": "stream",
     "text": [
      "[2 3]\n"
     ]
    }
   ],
   "source": [
    "print(arr[1:3])"
   ]
  },
  {
   "cell_type": "raw",
   "id": "7b71dcdf-61e0-47df-b905-04a63ae76916",
   "metadata": {},
   "source": [
    "                                                Broadcasting"
   ]
  },
  {
   "cell_type": "code",
   "execution_count": 169,
   "id": "10698770-9834-4b32-8086-0591ae56cf03",
   "metadata": {},
   "outputs": [
    {
     "data": {
      "text/plain": [
       "array([ 1,  2,  3,  4,  5,  6,  7,  8,  9, 10])"
      ]
     },
     "execution_count": 169,
     "metadata": {},
     "output_type": "execute_result"
    }
   ],
   "source": [
    "arr=np.arange(1,11)\n",
    "arr\n"
   ]
  },
  {
   "cell_type": "code",
   "execution_count": 170,
   "id": "d12c2fd8-e854-4895-9fa5-dd67bf947583",
   "metadata": {},
   "outputs": [
    {
     "name": "stdout",
     "output_type": "stream",
     "text": [
      "[100 100 100 100 100   6   7   8   9  10]\n"
     ]
    }
   ],
   "source": [
    "arr[0:5]=100\n",
    "print(arr)  #In normal list we cant do this"
   ]
  },
  {
   "cell_type": "code",
   "execution_count": 171,
   "id": "cc06ea64-2d71-44a7-bfa4-ade9ddde367f",
   "metadata": {},
   "outputs": [
    {
     "data": {
      "text/plain": [
       "array([100, 100, 100, 100, 100,   6])"
      ]
     },
     "execution_count": 171,
     "metadata": {},
     "output_type": "execute_result"
    }
   ],
   "source": [
    "copy=arr[0:6]\n",
    "copy"
   ]
  },
  {
   "cell_type": "code",
   "execution_count": 172,
   "id": "261a56a0-eedd-4e2e-9382-6062669f5679",
   "metadata": {},
   "outputs": [
    {
     "name": "stdout",
     "output_type": "stream",
     "text": [
      "[50 50 50 50 50 50]\n",
      "[50 50 50 50 50 50  7  8  9 10]\n"
     ]
    }
   ],
   "source": [
    "copy[0:]=50\n",
    "print(copy)\n",
    "print(arr)   #Data is not copied its just a view\n",
    "\n"
   ]
  },
  {
   "cell_type": "code",
   "execution_count": 173,
   "id": "b904a943-40af-43aa-9b90-1f3797d7777b",
   "metadata": {},
   "outputs": [
    {
     "data": {
      "text/plain": [
       "array([50, 50, 50, 50, 50, 50,  7,  8,  9, 10])"
      ]
     },
     "execution_count": 173,
     "metadata": {},
     "output_type": "execute_result"
    }
   ],
   "source": [
    "#If you dont want viw and want a copy of it then we should use variable.copy()\n",
    "b=arr.copy()\n",
    "b"
   ]
  },
  {
   "cell_type": "code",
   "execution_count": 174,
   "id": "4a1e684c-12da-4e12-931f-3eac77e65633",
   "metadata": {},
   "outputs": [
    {
     "name": "stdout",
     "output_type": "stream",
     "text": [
      "[100 100 100 100 100 100   7   8   9  10]\n",
      "[50 50 50 50 50 50  7  8  9 10]\n"
     ]
    }
   ],
   "source": [
    "b[0:6]=100\n",
    "print(b)\n",
    "\n",
    "\n",
    "print(arr)"
   ]
  },
  {
   "cell_type": "raw",
   "id": "26364e07-1f45-45ca-b0c4-cecafd7fd24b",
   "metadata": {},
   "source": [
    "                                                        Indexing"
   ]
  },
  {
   "cell_type": "code",
   "execution_count": 175,
   "id": "1ed070a0-98c7-4206-b9f2-007904f18cfd",
   "metadata": {},
   "outputs": [
    {
     "data": {
      "text/plain": [
       "array([[ 0,  1,  2,  3,  4],\n",
       "       [ 5,  6,  7,  8,  9],\n",
       "       [10, 11, 12, 13, 14],\n",
       "       [15, 16, 17, 18, 19],\n",
       "       [20, 21, 22, 23, 24]])"
      ]
     },
     "execution_count": 175,
     "metadata": {},
     "output_type": "execute_result"
    }
   ],
   "source": [
    "arr=np.arange(0,25)\n",
    "arr=arr.reshape(5,5)\n",
    "arr"
   ]
  },
  {
   "cell_type": "code",
   "execution_count": 176,
   "id": "78caed17-9263-471d-8389-9d4bda258430",
   "metadata": {},
   "outputs": [
    {
     "data": {
      "text/plain": [
       "array([15, 16, 17, 18, 19])"
      ]
     },
     "execution_count": 176,
     "metadata": {},
     "output_type": "execute_result"
    }
   ],
   "source": [
    "arr[3]"
   ]
  },
  {
   "cell_type": "code",
   "execution_count": 177,
   "id": "d5eadc26-9e7b-46a9-ba86-038cf32c3173",
   "metadata": {},
   "outputs": [
    {
     "data": {
      "text/plain": [
       "array([[0, 1, 2, 3, 4],\n",
       "       [5, 6, 7, 8, 9]])"
      ]
     },
     "execution_count": 177,
     "metadata": {},
     "output_type": "execute_result"
    }
   ],
   "source": [
    "arr[0:2]"
   ]
  },
  {
   "cell_type": "code",
   "execution_count": 178,
   "id": "1489fb17-47a3-408e-9ee9-240f552158c3",
   "metadata": {},
   "outputs": [
    {
     "data": {
      "text/plain": [
       "array([[1, 2, 3, 4],\n",
       "       [6, 7, 8, 9]])"
      ]
     },
     "execution_count": 178,
     "metadata": {},
     "output_type": "execute_result"
    }
   ],
   "source": [
    "arr[:2,1:]"
   ]
  },
  {
   "cell_type": "raw",
   "id": "96a5fc22-1d36-4728-8a78-a6e28a23219c",
   "metadata": {},
   "source": [
    "                                                    Conditional Selection"
   ]
  },
  {
   "cell_type": "code",
   "execution_count": 179,
   "id": "7b61c001-1981-405b-ad19-ecec229d589b",
   "metadata": {},
   "outputs": [
    {
     "data": {
      "text/plain": [
       "array([ 1,  2,  3,  4,  5,  6,  7,  8,  9, 10])"
      ]
     },
     "execution_count": 179,
     "metadata": {},
     "output_type": "execute_result"
    }
   ],
   "source": [
    "arr=np.arange(1,11)\n",
    "arr"
   ]
  },
  {
   "cell_type": "code",
   "execution_count": 180,
   "id": "d976b62b-4488-467b-a5f9-ebf2d5ec2b04",
   "metadata": {},
   "outputs": [
    {
     "data": {
      "text/plain": [
       "array([False, False, False, False, False,  True,  True,  True,  True,\n",
       "        True])"
      ]
     },
     "execution_count": 180,
     "metadata": {},
     "output_type": "execute_result"
    }
   ],
   "source": [
    "arr>5"
   ]
  },
  {
   "cell_type": "code",
   "execution_count": 181,
   "id": "533dbbce-545d-4278-92db-d329a5f6749f",
   "metadata": {},
   "outputs": [
    {
     "data": {
      "text/plain": [
       "array([ 6,  7,  8,  9, 10])"
      ]
     },
     "execution_count": 181,
     "metadata": {},
     "output_type": "execute_result"
    }
   ],
   "source": [
    "arr[arr>5]"
   ]
  },
  {
   "cell_type": "raw",
   "id": "ac4f6bc1-2e76-4f6a-8b32-c917d642e05e",
   "metadata": {},
   "source": [
    "                                                    Operations"
   ]
  },
  {
   "cell_type": "code",
   "execution_count": 182,
   "id": "61e5e8da-a158-4605-aee5-67f24107f725",
   "metadata": {},
   "outputs": [
    {
     "name": "stdout",
     "output_type": "stream",
     "text": [
      "[ 1  2  3  4  5  6  7  8  9 10]\n",
      "[11 12 13 14 15 16 17 18 19 20]\n"
     ]
    }
   ],
   "source": [
    "arr=np.arange(1,11)\n",
    "print(arr)\n",
    "arr2=np.arange(11,21)\n",
    "print(arr2)"
   ]
  },
  {
   "cell_type": "code",
   "execution_count": 183,
   "id": "26b4dcd9-220b-468b-a998-c2b0af63863a",
   "metadata": {},
   "outputs": [
    {
     "data": {
      "text/plain": [
       "[1, 2, 3, 4]"
      ]
     },
     "execution_count": 183,
     "metadata": {},
     "output_type": "execute_result"
    }
   ],
   "source": [
    "add=np.add(arr,arr2)\n",
    "a"
   ]
  },
  {
   "cell_type": "code",
   "execution_count": 184,
   "id": "34005823-eeed-465c-ae73-435225a73bfe",
   "metadata": {},
   "outputs": [
    {
     "data": {
      "text/plain": [
       "array([-10, -10, -10, -10, -10, -10, -10, -10, -10, -10])"
      ]
     },
     "execution_count": 184,
     "metadata": {},
     "output_type": "execute_result"
    }
   ],
   "source": [
    "sub=np.subtract(arr,arr2)\n",
    "sub"
   ]
  },
  {
   "cell_type": "code",
   "execution_count": 185,
   "id": "2cf9229e-0d45-4064-8aed-0ee78a42dfe0",
   "metadata": {},
   "outputs": [
    {
     "data": {
      "text/plain": [
       "array([ 11,  24,  39,  56,  75,  96, 119, 144, 171, 200])"
      ]
     },
     "execution_count": 185,
     "metadata": {},
     "output_type": "execute_result"
    }
   ],
   "source": [
    "mul=np.multiply(arr,arr2) #---For 1D array\n",
    "mul"
   ]
  },
  {
   "cell_type": "code",
   "execution_count": 186,
   "id": "cda18f13-c61d-40f3-8ae3-a825160e5d98",
   "metadata": {},
   "outputs": [
    {
     "name": "stdout",
     "output_type": "stream",
     "text": [
      "[[ 0  1  2  3  4]\n",
      " [ 5  6  7  8  9]\n",
      " [10 11 12 13 14]\n",
      " [15 16 17 18 19]\n",
      " [20 21 22 23 24]]\n",
      "[[ 150  160  170  180  190]\n",
      " [ 400  435  470  505  540]\n",
      " [ 650  710  770  830  890]\n",
      " [ 900  985 1070 1155 1240]\n",
      " [1150 1260 1370 1480 1590]]\n"
     ]
    }
   ],
   "source": [
    "arr1=np.arange(0,25)\n",
    "arr1=arr1.reshape(5,5)\n",
    "print(arr1)\n",
    "print(arr1.dot(arr1)) #Multiplication for 2D matrix"
   ]
  },
  {
   "cell_type": "raw",
   "id": "f2da191c-c470-4b38-83bf-17b284b55637",
   "metadata": {},
   "source": [
    "Normally if yoy=u divide a value by 0 it will give error but in numpy it will give warning"
   ]
  },
  {
   "cell_type": "code",
   "execution_count": 187,
   "id": "a34170fd-5b93-4cdb-819c-ad34e30d5c3b",
   "metadata": {},
   "outputs": [
    {
     "name": "stdout",
     "output_type": "stream",
     "text": [
      "[ 1  2  3  4  5  6  7  8  9 10]\n"
     ]
    }
   ],
   "source": [
    "arr=np.arange(1,11)\n",
    "print(arr)"
   ]
  },
  {
   "cell_type": "code",
   "execution_count": 188,
   "id": "77c0d9c0-90c7-473c-9e0b-06bd66ba8f76",
   "metadata": {},
   "outputs": [
    {
     "name": "stdout",
     "output_type": "stream",
     "text": [
      "[inf inf inf inf inf inf inf inf inf inf]\n"
     ]
    },
    {
     "name": "stderr",
     "output_type": "stream",
     "text": [
      "C:\\Users\\user\\AppData\\Local\\Temp\\ipykernel_14056\\1395739493.py:1: RuntimeWarning: divide by zero encountered in divide\n",
      "  print(arr/0)\n"
     ]
    }
   ],
   "source": [
    "print(arr/0)"
   ]
  },
  {
   "cell_type": "raw",
   "id": "1539eff7-e3dd-487e-bf6f-ff4470b01462",
   "metadata": {},
   "source": [
    "Universal Functions\n"
   ]
  },
  {
   "cell_type": "code",
   "execution_count": 189,
   "id": "b856c110-8808-4a63-a109-fe864fe00455",
   "metadata": {},
   "outputs": [
    {
     "data": {
      "text/plain": [
       "array([1.        , 1.41421356, 1.73205081, 2.        , 2.23606798,\n",
       "       2.44948974, 2.64575131, 2.82842712, 3.        , 3.16227766])"
      ]
     },
     "execution_count": 189,
     "metadata": {},
     "output_type": "execute_result"
    }
   ],
   "source": [
    "np.sqrt(arr)"
   ]
  },
  {
   "cell_type": "code",
   "execution_count": 191,
   "id": "fdb65850-21c4-4e9e-8170-f4a10230c72b",
   "metadata": {},
   "outputs": [
    {
     "data": {
      "text/plain": [
       "array([2.71828183e+00, 7.38905610e+00, 2.00855369e+01, 5.45981500e+01,\n",
       "       1.48413159e+02, 4.03428793e+02, 1.09663316e+03, 2.98095799e+03,\n",
       "       8.10308393e+03, 2.20264658e+04])"
      ]
     },
     "execution_count": 191,
     "metadata": {},
     "output_type": "execute_result"
    }
   ],
   "source": [
    "np.exp(arr)"
   ]
  },
  {
   "cell_type": "code",
   "execution_count": null,
   "id": "40202bc8-b063-4421-82ab-6707b42970e3",
   "metadata": {},
   "outputs": [],
   "source": []
  }
 ],
 "metadata": {
  "kernelspec": {
   "display_name": "Python 3 (ipykernel)",
   "language": "python",
   "name": "python3"
  },
  "language_info": {
   "codemirror_mode": {
    "name": "ipython",
    "version": 3
   },
   "file_extension": ".py",
   "mimetype": "text/x-python",
   "name": "python",
   "nbconvert_exporter": "python",
   "pygments_lexer": "ipython3",
   "version": "3.11.0"
  }
 },
 "nbformat": 4,
 "nbformat_minor": 5
}
