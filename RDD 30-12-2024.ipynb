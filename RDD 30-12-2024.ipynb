{
 "cells": [
  {
   "cell_type": "raw",
   "id": "95dd4a39-b631-44d9-8ae0-d000e45f8101",
   "metadata": {},
   "source": [
    "                                                                        RDD Operations"
   ]
  },
  {
   "cell_type": "code",
   "execution_count": 1,
   "id": "acc66bf3-3e02-46fa-9d3e-84b6f71a7bf0",
   "metadata": {},
   "outputs": [],
   "source": [
    "from pyspark.sql import SparkSession"
   ]
  },
  {
   "cell_type": "code",
   "execution_count": 2,
   "id": "2c7c4339-9928-435b-ac12-f48cfcae5e7d",
   "metadata": {},
   "outputs": [],
   "source": [
    "spark=SparkSession.builder.getOrCreate()"
   ]
  },
  {
   "cell_type": "code",
   "execution_count": 3,
   "id": "42227365-abbc-43ba-b5d1-0cf8070ae556",
   "metadata": {},
   "outputs": [],
   "source": [
    "rdd=spark.sparkContext.parallelize([1,2,3,4,5,6])"
   ]
  },
  {
   "cell_type": "code",
   "execution_count": 4,
   "id": "199abd28-94c5-491c-80d1-87bc7f200483",
   "metadata": {},
   "outputs": [
    {
     "data": {
      "text/plain": [
       "[1, 2, 3, 4, 5, 6]"
      ]
     },
     "execution_count": 4,
     "metadata": {},
     "output_type": "execute_result"
    }
   ],
   "source": [
    "rdd.collect()"
   ]
  },
  {
   "cell_type": "code",
   "execution_count": 5,
   "id": "c43d7b19-740f-4136-9494-12717d8eedb0",
   "metadata": {},
   "outputs": [
    {
     "data": {
      "text/plain": [
       "[1, 4, 9, 16, 25, 36]"
      ]
     },
     "execution_count": 5,
     "metadata": {},
     "output_type": "execute_result"
    }
   ],
   "source": [
    "rdd1=rdd.map(lambda x:x**2)  #map transformation applies a given function to each element of the RDD\n",
    "rdd1.collect()"
   ]
  },
  {
   "cell_type": "code",
   "execution_count": 6,
   "id": "87359d36-5263-4fce-86c1-fa31038cfcd5",
   "metadata": {},
   "outputs": [
    {
     "data": {
      "text/plain": [
       "[16, 25, 36]"
      ]
     },
     "execution_count": 6,
     "metadata": {},
     "output_type": "execute_result"
    }
   ],
   "source": [
    "rdd2=rdd1.filter(lambda x:x>10)  #filter transformation creates a new RDD by selecting only the elements that satisfy a given condition\n",
    "rdd2.collect()"
   ]
  },
  {
   "cell_type": "raw",
   "id": "8686a818-5457-438d-aeb7-3aa33734396b",
   "metadata": {},
   "source": [
    "                                    Combining Map and Filter"
   ]
  },
  {
   "cell_type": "code",
   "execution_count": 7,
   "id": "7bb67c41-095d-461c-b938-80e69e7763ba",
   "metadata": {},
   "outputs": [
    {
     "data": {
      "text/plain": [
       "[16, 25, 36]"
      ]
     },
     "execution_count": 7,
     "metadata": {},
     "output_type": "execute_result"
    }
   ],
   "source": [
    "rdd3=rdd.map(lambda x:x**2).filter(lambda x:x>10)\n",
    "rdd3.collect()"
   ]
  },
  {
   "cell_type": "raw",
   "id": "6a7a60b5-3867-49bd-8d32-739b4f849031",
   "metadata": {},
   "source": [
    "                                                                        Flat Map\n",
    "flatMap() can produce zero, one, or more output elements for each input element.\n",
    "You have an RDD of lists and want a single RDD containing all elements of those lists or to split the sentence into words"
   ]
  },
  {
   "cell_type": "code",
   "execution_count": 8,
   "id": "36044fff-c949-4031-8fa5-e69025523b8f",
   "metadata": {},
   "outputs": [
    {
     "data": {
      "text/plain": [
       "['Chaitesh Sharp', 'Manasa Sharp']"
      ]
     },
     "execution_count": 8,
     "metadata": {},
     "output_type": "execute_result"
    }
   ],
   "source": [
    "rdd=spark.sparkContext.parallelize(['Chaitesh Sharp','Manasa Sharp'])\n",
    "rdd.collect()\n"
   ]
  },
  {
   "cell_type": "code",
   "execution_count": 9,
   "id": "bd664d22-f474-4a2a-a763-741011a52ea9",
   "metadata": {},
   "outputs": [
    {
     "name": "stdout",
     "output_type": "stream",
     "text": [
      "Chaitesh Sharp\n",
      "Manasa Sharp\n"
     ]
    }
   ],
   "source": [
    "for item in rdd.collect():\n",
    "    print(item)"
   ]
  },
  {
   "cell_type": "code",
   "execution_count": 10,
   "id": "bc2a9141-f836-4941-a554-761e33a4d6bf",
   "metadata": {},
   "outputs": [
    {
     "name": "stdout",
     "output_type": "stream",
     "text": [
      "['Chaitesh', 'Sharp']\n",
      "['Manasa', 'Sharp']\n"
     ]
    }
   ],
   "source": [
    "rdd1=rdd.map(lambda x:x.split(' '))\n",
    "for items in rdd1.collect():\n",
    "    print(items)"
   ]
  },
  {
   "cell_type": "code",
   "execution_count": 11,
   "id": "02541379-db6a-49c4-8d1a-9233c3241cbf",
   "metadata": {},
   "outputs": [
    {
     "name": "stdout",
     "output_type": "stream",
     "text": [
      "Chaitesh\n",
      "Sharp\n",
      "Manasa\n",
      "Sharp\n"
     ]
    },
    {
     "data": {
      "text/plain": [
       "['Chaitesh', 'Sharp', 'Manasa', 'Sharp']"
      ]
     },
     "execution_count": 11,
     "metadata": {},
     "output_type": "execute_result"
    }
   ],
   "source": [
    "rdd2=rdd.flatMap(lambda x:x.split(' '))\n",
    "for items in rdd2.collect():\n",
    "    print(items)\n",
    "rdd2.collect()"
   ]
  },
  {
   "cell_type": "code",
   "execution_count": 12,
   "id": "4c23a94f-53dc-445e-ba5c-6ba04b54d467",
   "metadata": {},
   "outputs": [
    {
     "data": {
      "text/plain": [
       "[[1, 2], [3, 4], [5]]"
      ]
     },
     "execution_count": 12,
     "metadata": {},
     "output_type": "execute_result"
    }
   ],
   "source": [
    "cd=spark.sparkContext.parallelize([[1, 2], [3, 4], [5]])\n",
    "cd.collect()"
   ]
  },
  {
   "cell_type": "code",
   "execution_count": 13,
   "id": "1a13eb19-0451-4252-ad9a-f8f7f55abe07",
   "metadata": {},
   "outputs": [
    {
     "data": {
      "text/plain": [
       "[1, 2, 3, 4, 5]"
      ]
     },
     "execution_count": 13,
     "metadata": {},
     "output_type": "execute_result"
    }
   ],
   "source": [
    "rdd1=cd.flatMap(lambda x:x)  #It flattens the nested lists into a single-level RDD.\n",
    "\n",
    "rdd1.collect()"
   ]
  },
  {
   "cell_type": "raw",
   "id": "d7d69edd-8ff1-462d-be11-36369ccf9b92",
   "metadata": {},
   "source": [
    "Find the average of a dataset using RDD, while applying different transformations and actions on integers:"
   ]
  },
  {
   "cell_type": "code",
   "execution_count": 14,
   "id": "5ad78dae-b1dc-4ad0-bde1-d42b56b04f28",
   "metadata": {},
   "outputs": [],
   "source": [
    "import random"
   ]
  },
  {
   "cell_type": "code",
   "execution_count": 15,
   "id": "da5bda7f-88ba-4369-9faf-72bd013dd7da",
   "metadata": {},
   "outputs": [
    {
     "data": {
      "text/plain": [
       "[43, 31, 60, 65, 59]"
      ]
     },
     "execution_count": 15,
     "metadata": {},
     "output_type": "execute_result"
    }
   ],
   "source": [
    "data=random.sample(range(1,100),50)\n",
    "data[0:5]"
   ]
  },
  {
   "cell_type": "code",
   "execution_count": 16,
   "id": "0276f09e-138f-4894-9700-d753d9e166f6",
   "metadata": {},
   "outputs": [
    {
     "data": {
      "text/plain": [
       "[43, 31, 60, 65, 59]"
      ]
     },
     "execution_count": 16,
     "metadata": {},
     "output_type": "execute_result"
    }
   ],
   "source": [
    "rdd=spark.sparkContext.parallelize(data)\n",
    "rdd.take(5)"
   ]
  },
  {
   "cell_type": "code",
   "execution_count": 17,
   "id": "5b09e907-fb7f-4155-8302-7004fec9535a",
   "metadata": {},
   "outputs": [
    {
     "data": {
      "text/plain": [
       "[45, 33, 62, 67, 61]"
      ]
     },
     "execution_count": 17,
     "metadata": {},
     "output_type": "execute_result"
    }
   ],
   "source": [
    "tranform=rdd.map(lambda x:x+2)\n",
    "tranform.take(5)"
   ]
  },
  {
   "cell_type": "code",
   "execution_count": 18,
   "id": "ff8f43c1-5dea-46ba-9fd1-f0501574d5f3",
   "metadata": {},
   "outputs": [
    {
     "data": {
      "text/plain": [
       "[60, 65, 59, 96, 77]"
      ]
     },
     "execution_count": 18,
     "metadata": {},
     "output_type": "execute_result"
    }
   ],
   "source": [
    "filtered=rdd.filter(lambda x:x>50) #filter numbers greater than 50\n",
    "filtered.take(5)"
   ]
  },
  {
   "cell_type": "code",
   "execution_count": 19,
   "id": "43b3a60d-e09d-49e5-a7ef-2a1a311210c2",
   "metadata": {},
   "outputs": [],
   "source": [
    "count=filtered.count() #count the number of elements"
   ]
  },
  {
   "cell_type": "code",
   "execution_count": 20,
   "id": "3478f5db-f03d-469f-b3a9-c4885d0c3270",
   "metadata": {},
   "outputs": [
    {
     "data": {
      "text/plain": [
       "22"
      ]
     },
     "execution_count": 20,
     "metadata": {},
     "output_type": "execute_result"
    }
   ],
   "source": [
    "count"
   ]
  },
  {
   "cell_type": "code",
   "execution_count": 21,
   "id": "0ea9830e-ebbf-4c64-8883-af2afdf7ff86",
   "metadata": {},
   "outputs": [
    {
     "data": {
      "text/plain": [
       "1675"
      ]
     },
     "execution_count": 21,
     "metadata": {},
     "output_type": "execute_result"
    }
   ],
   "source": [
    "sum1=filtered.reduce(lambda x,y:x+y)\n",
    "sum1"
   ]
  },
  {
   "cell_type": "code",
   "execution_count": 22,
   "id": "aa865b84-6ec7-4def-93a3-462528b10333",
   "metadata": {},
   "outputs": [
    {
     "data": {
      "text/plain": [
       "76.13636363636364"
      ]
     },
     "execution_count": 22,
     "metadata": {},
     "output_type": "execute_result"
    }
   ],
   "source": [
    "average=sum1/count\n",
    "average"
   ]
  },
  {
   "cell_type": "raw",
   "id": "accb0bca-03d1-4c80-8271-799e828c253e",
   "metadata": {},
   "source": [
    "                                            Creating Key value pairs in RDD"
   ]
  },
  {
   "cell_type": "code",
   "execution_count": 23,
   "id": "1fb776cf-bdfc-4109-8de7-d739b17cbf78",
   "metadata": {},
   "outputs": [
    {
     "data": {
      "text/plain": [
       "[('apple', 1), ('banana', 2), ('orange', 3)]"
      ]
     },
     "execution_count": 23,
     "metadata": {},
     "output_type": "execute_result"
    }
   ],
   "source": [
    "rdd=spark.sparkContext.parallelize([('apple',1),('banana',2),('orange',3)])\n",
    "rdd.collect()"
   ]
  },
  {
   "cell_type": "code",
   "execution_count": 24,
   "id": "1bad462c-8695-45ba-919f-85b3d7587119",
   "metadata": {},
   "outputs": [
    {
     "data": {
      "text/plain": [
       "[('apple', 11), ('banana', 12), ('orange', 13)]"
      ]
     },
     "execution_count": 24,
     "metadata": {},
     "output_type": "execute_result"
    }
   ],
   "source": [
    "rdd1=rdd.mapValues(lambda x:x+10) #Applies a function to the values of a key-value pair RDD \n",
    "rdd1.collect()"
   ]
  },
  {
   "cell_type": "code",
   "execution_count": 25,
   "id": "2baa858c-dcf8-4b0e-9a2a-1892bdedf88e",
   "metadata": {},
   "outputs": [
    {
     "data": {
      "text/plain": [
       "[('apple', 1),\n",
       " ('apple', 11),\n",
       " ('banana', 2),\n",
       " ('banana', 12),\n",
       " ('orange', 3),\n",
       " ('orange', 13)]"
      ]
     },
     "execution_count": 25,
     "metadata": {},
     "output_type": "execute_result"
    }
   ],
   "source": [
    "rdd_flatmap = rdd.flatMapValues(lambda x: [x, x+10])  \n",
    "rdd_flatmap.collect()"
   ]
  },
  {
   "cell_type": "code",
   "execution_count": 26,
   "id": "c38db6e7-c8fe-428c-a934-05eb6099d208",
   "metadata": {},
   "outputs": [
    {
     "data": {
      "text/plain": [
       "[('apple', [1, 1]), ('banana', [2, 2]), ('orange', [3, 3])]"
      ]
     },
     "execution_count": 26,
     "metadata": {},
     "output_type": "execute_result"
    }
   ],
   "source": [
    "rdd_map=rdd.mapValues(lambda x:[x,x])   #if we use mapValues\n",
    "rdd_map.collect()"
   ]
  },
  {
   "cell_type": "code",
   "execution_count": 27,
   "id": "f7d4c1ae-a0fe-44ab-bcee-23f06f349dd2",
   "metadata": {},
   "outputs": [],
   "source": [
    "rdd = spark.sparkContext.parallelize([(\"apple\", 1), (\"banana\", 2), (\"apple\", 3), (\"banana\", 1)])"
   ]
  },
  {
   "cell_type": "code",
   "execution_count": 28,
   "id": "168272eb-19f3-43cc-a716-bc35d9ac5eed",
   "metadata": {},
   "outputs": [
    {
     "data": {
      "text/plain": [
       "[('apple', 1), ('banana', 2), ('apple', 3), ('banana', 1)]"
      ]
     },
     "execution_count": 28,
     "metadata": {},
     "output_type": "execute_result"
    }
   ],
   "source": [
    "rdd.collect()"
   ]
  },
  {
   "cell_type": "code",
   "execution_count": 29,
   "id": "b9ed791b-a1f1-4bd4-9ab7-cece66e78992",
   "metadata": {},
   "outputs": [
    {
     "data": {
      "text/plain": [
       "[('apple', 4), ('banana', 3)]"
      ]
     },
     "execution_count": 29,
     "metadata": {},
     "output_type": "execute_result"
    }
   ],
   "source": [
    "rdd_red=rdd.reduceByKey(lambda x,y:x+y) #reducebykey function reduced the values for each key\n",
    "rdd_red.collect()       "
   ]
  },
  {
   "cell_type": "code",
   "execution_count": 30,
   "id": "a3701a0e-f37b-4009-883b-38465bbea814",
   "metadata": {},
   "outputs": [],
   "source": [
    "rdd = spark.sparkContext.parallelize([(\"apple\", 1), (\"banana\", 2), (\"apple\", 3), (\"banana\", 1),(\"apple\", 1)]) #shuffle operations happen "
   ]
  },
  {
   "cell_type": "code",
   "execution_count": 31,
   "id": "7142a788-8d94-4712-bf95-d470809b0055",
   "metadata": {},
   "outputs": [
    {
     "data": {
      "text/plain": [
       "[('apple', 5), ('banana', 3)]"
      ]
     },
     "execution_count": 31,
     "metadata": {},
     "output_type": "execute_result"
    }
   ],
   "source": [
    "rdd_red=rdd.reduceByKey(lambda x,y:x+y) #reducebykey function reduced the values for each key \n",
    "rdd_red.collect()       "
   ]
  },
  {
   "cell_type": "code",
   "execution_count": 32,
   "id": "6c12ae02-64cc-4e69-93bd-b65591429665",
   "metadata": {},
   "outputs": [
    {
     "data": {
      "text/plain": [
       "[('apple', <pyspark.resultiterable.ResultIterable at 0x2e4d5ee95d0>),\n",
       " ('banana', <pyspark.resultiterable.ResultIterable at 0x2e4d5f28790>)]"
      ]
     },
     "execution_count": 32,
     "metadata": {},
     "output_type": "execute_result"
    }
   ],
   "source": [
    "gro=rdd.groupByKey()\n",
    "gro.collect()"
   ]
  },
  {
   "cell_type": "code",
   "execution_count": 33,
   "id": "d4bf4351-0c1e-4e11-ad79-9bc5fc488431",
   "metadata": {},
   "outputs": [
    {
     "data": {
      "text/plain": [
       "[('apple', [1, 3, 1]), ('banana', [2, 1])]"
      ]
     },
     "execution_count": 33,
     "metadata": {},
     "output_type": "execute_result"
    }
   ],
   "source": [
    "result=gro.mapValues(list) #to convert result iterable into list\n",
    "result.collect()"
   ]
  },
  {
   "cell_type": "code",
   "execution_count": 34,
   "id": "357edca8-5d1c-4027-a19d-fb39cce3b079",
   "metadata": {},
   "outputs": [],
   "source": [
    "rdd = spark.sparkContext.parallelize([(\"apple\", 1), (\"banana\", 2), (\"apple\", 3), (\"banana\", 1),(\"apple\", 1),(\"orange\", 1),('papaya',2)])"
   ]
  },
  {
   "cell_type": "code",
   "execution_count": 35,
   "id": "05aca8bf-e181-4f4b-8bb5-482dc2cac098",
   "metadata": {},
   "outputs": [
    {
     "data": {
      "text/plain": [
       "[('apple', 1),\n",
       " ('banana', 2),\n",
       " ('apple', 3),\n",
       " ('banana', 1),\n",
       " ('apple', 1),\n",
       " ('orange', 1),\n",
       " ('papaya', 2)]"
      ]
     },
     "execution_count": 35,
     "metadata": {},
     "output_type": "execute_result"
    }
   ],
   "source": [
    "rdd.collect()"
   ]
  },
  {
   "cell_type": "code",
   "execution_count": 36,
   "id": "f1fcc254-ef85-4b52-bb06-bc674ea4e5db",
   "metadata": {},
   "outputs": [
    {
     "data": {
      "text/plain": [
       "[('apple', 1),\n",
       " ('apple', 3),\n",
       " ('apple', 1),\n",
       " ('banana', 2),\n",
       " ('banana', 1),\n",
       " ('orange', 1),\n",
       " ('papaya', 2)]"
      ]
     },
     "execution_count": 36,
     "metadata": {},
     "output_type": "execute_result"
    }
   ],
   "source": [
    "result=rdd.sortByKey() #default ascending if we want descending we use ascending=False\n",
    "result.collect()"
   ]
  },
  {
   "cell_type": "code",
   "execution_count": 37,
   "id": "5a04fc59-c206-4f05-af9f-5b6b67e6edf8",
   "metadata": {},
   "outputs": [
    {
     "data": {
      "text/plain": [
       "[('papaya', 2),\n",
       " ('orange', 1),\n",
       " ('banana', 2),\n",
       " ('banana', 1),\n",
       " ('apple', 1),\n",
       " ('apple', 3),\n",
       " ('apple', 1)]"
      ]
     },
     "execution_count": 37,
     "metadata": {},
     "output_type": "execute_result"
    }
   ],
   "source": [
    "result=rdd.sortByKey(ascending=False)\n",
    "result.collect()"
   ]
  },
  {
   "cell_type": "raw",
   "id": "c3aec110-f97d-4ceb-9e16-44954f08ebb5",
   "metadata": {},
   "source": [
    "                                                CombineByKey\n",
    "Syntax\n",
    "rdd.combineByKey(createCombiner,mergevalue,mergecombiner)"
   ]
  },
  {
   "cell_type": "code",
   "execution_count": 38,
   "id": "b97706d6-5b65-4671-8f7c-4cb121de45f6",
   "metadata": {},
   "outputs": [
    {
     "data": {
      "text/plain": [
       "[('apple', 1),\n",
       " ('banana', 2),\n",
       " ('apple', 3),\n",
       " ('banana', 1),\n",
       " ('apple', 2),\n",
       " ('apple', 1),\n",
       " ('banana', 2),\n",
       " ('apple', 3),\n",
       " ('banana', 1),\n",
       " ('apple', 2)]"
      ]
     },
     "execution_count": 38,
     "metadata": {},
     "output_type": "execute_result"
    }
   ],
   "source": [
    "rdd = spark.sparkContext.parallelize([(\"apple\", 1), (\"banana\", 2), (\"apple\", 3), (\"banana\", 1), (\"apple\", 2),(\"apple\", 1), (\"banana\", 2), (\"apple\", 3), (\"banana\", 1), (\"apple\", 2)])\n",
    "rdd.collect()"
   ]
  },
  {
   "cell_type": "code",
   "execution_count": 39,
   "id": "6e4a8821-23aa-464d-8c1c-759d2d63cf10",
   "metadata": {},
   "outputs": [
    {
     "data": {
      "text/plain": [
       "[('apple', 12), ('banana', 6)]"
      ]
     },
     "execution_count": 39,
     "metadata": {},
     "output_type": "execute_result"
    }
   ],
   "source": [
    "combine=rdd.combineByKey(lambda value:value,\n",
    "                         lambda combo,value:combo+value,\n",
    "                         lambda combo1,combo2:combo1+combo2)\n",
    "combine.collect()"
   ]
  },
  {
   "cell_type": "raw",
   "id": "17806d74-3fb8-4a4d-9717-822789650a27",
   "metadata": {},
   "source": [
    "reduceByKey is used for simple aggregation such as sum,max,min but if we need to find mre complex such as average"
   ]
  },
  {
   "cell_type": "code",
   "execution_count": 40,
   "id": "099e50c3-7a16-4d60-8120-ab1aa45e2724",
   "metadata": {},
   "outputs": [
    {
     "data": {
      "text/plain": [
       "[('apple', (12, 6)), ('banana', (6, 4))]"
      ]
     },
     "execution_count": 40,
     "metadata": {},
     "output_type": "execute_result"
    }
   ],
   "source": [
    "result=rdd.combineByKey(lambda value:(value,1),\n",
    "                        lambda comb,value:(comb[0]+value,comb[1]+1),\n",
    "                        lambda comb1,comb2:(comb1[0]+comb2[0],comb1[1]+comb2[1]))\n",
    "result.collect()"
   ]
  },
  {
   "cell_type": "code",
   "execution_count": 41,
   "id": "2c29a37a-acbc-45f1-a843-887aed613cf4",
   "metadata": {},
   "outputs": [
    {
     "data": {
      "text/plain": [
       "[('apple', 2.0), ('banana', 1.5)]"
      ]
     },
     "execution_count": 41,
     "metadata": {},
     "output_type": "execute_result"
    }
   ],
   "source": [
    "final_result=result.mapValues(lambda x:x[0]/x[1])\n",
    "final_result.collect()"
   ]
  },
  {
   "cell_type": "raw",
   "id": "8cde14bd-c35d-484f-8a33-f0d42398f1ae",
   "metadata": {},
   "source": [
    "Concat Using CombineByKey"
   ]
  },
  {
   "cell_type": "code",
   "execution_count": 43,
   "id": "dd51ebe3-e028-493a-aa8c-6151ca0affe0",
   "metadata": {},
   "outputs": [
    {
     "data": {
      "text/plain": [
       "[('U1', 'Logged in'),\n",
       " ('U2', 'Viewed product'),\n",
       " ('U1', 'Added product to cart'),\n",
       " ('U3', 'Logged in'),\n",
       " ('U2', 'Checked out'),\n",
       " ('U1', 'Made a purchase')]"
      ]
     },
     "execution_count": 43,
     "metadata": {},
     "output_type": "execute_result"
    }
   ],
   "source": [
    "activity= [\n",
    "    (\"U1\", \"Logged in\"),\n",
    "    (\"U2\", \"Viewed product\"),\n",
    "    (\"U1\", \"Added product to cart\"),\n",
    "    (\"U3\", \"Logged in\"),\n",
    "    (\"U2\", \"Checked out\"),\n",
    "    (\"U1\", \"Made a purchase\")\n",
    "]\n",
    "rdd=spark.sparkContext.parallelize(activity)\n",
    "rdd.collect()"
   ]
  },
  {
   "cell_type": "code",
   "execution_count": 45,
   "id": "e1961221-dc53-40c1-8dd8-345549d93452",
   "metadata": {},
   "outputs": [
    {
     "data": {
      "text/plain": [
       "[('U3', 'Logged in'),\n",
       " ('U1', 'Logged in,Added product to cart,Made a purchase'),\n",
       " ('U2', 'Viewed product,Checked out')]"
      ]
     },
     "execution_count": 45,
     "metadata": {},
     "output_type": "execute_result"
    }
   ],
   "source": [
    "result=rdd.combineByKey(lambda value:value,\n",
    "                        lambda comb,value:comb+','+value,\n",
    "                        lambda comb1,comb2:comb1+','+comb2)\n",
    "result.collect()"
   ]
  },
  {
   "cell_type": "raw",
   "id": "cba38099-b6d6-44a5-9770-c98daffdb981",
   "metadata": {},
   "source": [
    "                                                    Actions in RDD"
   ]
  },
  {
   "cell_type": "code",
   "execution_count": 46,
   "id": "6179e51c-83a4-498b-81ba-0593d789a4a6",
   "metadata": {},
   "outputs": [
    {
     "data": {
      "text/plain": [
       "1"
      ]
     },
     "execution_count": 46,
     "metadata": {},
     "output_type": "execute_result"
    }
   ],
   "source": [
    "rdd=spark.sparkContext.parallelize([1,2,3,4,5,6])\n",
    "rdd.first()"
   ]
  },
  {
   "cell_type": "code",
   "execution_count": null,
   "id": "7a0483ca-6f30-4ba3-b4e7-cd70dd93b1cb",
   "metadata": {},
   "outputs": [],
   "source": []
  }
 ],
 "metadata": {
  "kernelspec": {
   "display_name": "Python 3 (ipykernel)",
   "language": "python",
   "name": "python3"
  },
  "language_info": {
   "codemirror_mode": {
    "name": "ipython",
    "version": 3
   },
   "file_extension": ".py",
   "mimetype": "text/x-python",
   "name": "python",
   "nbconvert_exporter": "python",
   "pygments_lexer": "ipython3",
   "version": "3.11.0"
  }
 },
 "nbformat": 4,
 "nbformat_minor": 5
}
