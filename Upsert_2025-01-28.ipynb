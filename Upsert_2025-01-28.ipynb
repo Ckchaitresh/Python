{
 "cells": [
  {
   "cell_type": "code",
   "execution_count": 0,
   "metadata": {
    "application/vnd.databricks.v1+cell": {
     "cellMetadata": {
      "byteLimit": 2048000,
      "rowLimit": 10000
     },
     "inputWidgets": {},
     "nuid": "6d2d21cf-3f5c-460e-a687-8f4ccada5b56",
     "showTitle": false,
     "tableResultSettingsMap": {},
     "title": ""
    }
   },
   "outputs": [],
   "source": [
    "from pyspark.sql.types import *\n",
    "\n",
    "schema = StructType([\n",
    "    StructField(\"EnqueuedTimeUtc\", StringType(), True),\n",
    "    StructField(\"Properties\", StructType([\n",
    "        StructField(\"appTopic\", StringType(), True),\n",
    "        StructField(\"relatedGroupId\", StringType(), True)\n",
    "    ])),\n",
    "    StructField(\"SystemProperties\", StructType([\n",
    "        StructField(\"connectionDeviceId\", StringType(), True),\n",
    "        StructField(\"connectionAuthMethod\", StringType(), True),\n",
    "        StructField(\"connectionDeviceGenerationId\", StringType(), True),\n",
    "        StructField(\"contentType\", StringType(), True),\n",
    "        StructField(\"contentEncoding\", StringType(), True),\n",
    "        StructField(\"enqueuedTime\", StringType(), True)\n",
    "    ])),\n",
    "    StructField(\"Body\", StructType([\n",
    "        StructField(\"type\", StringType(), True),\n",
    "        StructField(\"mnsn\", StringType(), True),\n",
    "        StructField(\"timestamp\", LongType(), True),\n",
    "        StructField(\"scheduleName\", StringType(), True),\n",
    "        StructField(\"smsProperties\", StructType([\n",
    "            StructField(\"service\", StructType([\n",
    "                StructField(\"print\", StructType([\n",
    "                    StructField(\"mediaPathList\", ArrayType(StructType([\n",
    "                        StructField(\"id\", StringType(), True),\n",
    "                        StructField(\"type\", StringType(), True)\n",
    "                    ])), True),\n",
    "                    StructField(\"channelList\", ArrayType(StructType([\n",
    "                        StructField(\"id\", StringType(), True),\n",
    "                        StructField(\"descriptionLanguageDefault\", StringType(), True),\n",
    "                        StructField(\"mediaPathDefault\", StringType(), True)\n",
    "                    ])), True),\n",
    "                    StructField(\"descriptionLanguageList\", ArrayType(StructType([\n",
    "                        StructField(\"id\", StringType(), True),\n",
    "                        StructField(\"family\", StringType(), True),\n",
    "                        StructField(\"version\", StringType(), True),\n",
    "                        StructField(\"level\", StringType(), True),\n",
    "                        StructField(\"description\", StringType(), True),\n",
    "                        StructField(\"orientationDefault\", StringType(), True),\n",
    "                        StructField(\"langVersion\", StringType(), True)\n",
    "                    ])), True)\n",
    "                ]))\n",
    "            ]))\n",
    "        ])),\n",
    "        StructField(\"interface\", StructType([\n",
    "            StructField(\"ethernetList\", ArrayType(StructType([\n",
    "                StructField(\"id\", StringType(), True),\n",
    "                StructField(\"type\", StringType(), True),\n",
    "                StructField(\"address\", StringType(), True)\n",
    "            ])), True),\n",
    "            StructField(\"ipList\", ArrayType(StructType([\n",
    "                StructField(\"address\", StringType(), True),\n",
    "                StructField(\"defaultRoute\", StringType(), True),\n",
    "                StructField(\"subnetMask\", StringType(), True),\n",
    "                StructField(\"ethernetId\", StringType(), True)\n",
    "            ])), True)\n",
    "        ])),\n",
    "        StructField(\"device\", StructType([\n",
    "            StructField(\"memory\", StructType([\n",
    "                StructField(\"size\", StringType(), True)\n",
    "            ])),\n",
    "            StructField(\"deviceEntryList\", ArrayType(StructType([\n",
    "                StructField(\"type\", StringType(), True),\n",
    "                StructField(\"description\", StringType(), True),\n",
    "                StructField(\"status\", StringType(), True),\n",
    "                StructField(\"errors\", StringType(), True),\n",
    "                StructField(\"deviceID\", StringType(), True),\n",
    "                StructField(\"deviceIndex\", StringType(), True)\n",
    "            ])), True),\n",
    "            StructField(\"configuration\", StructType([\n",
    "                StructField(\"duplexModule\", StringType(), True),\n",
    "                StructField(\"installedOptions\", StructType([\n",
    "                    StructField(\"value\", StringType(), True),\n",
    "                    StructField(\"dsk\", StringType(), True)\n",
    "                ]))\n",
    "            ]))\n",
    "        ]))\n",
    "    ]))\n",
    "])\n"
   ]
  },
  {
   "cell_type": "code",
   "execution_count": 0,
   "metadata": {
    "application/vnd.databricks.v1+cell": {
     "cellMetadata": {
      "byteLimit": 2048000,
      "rowLimit": 10000
     },
     "inputWidgets": {},
     "nuid": "bd981180-57f2-4719-8e7c-3f7ae1a99a6e",
     "showTitle": false,
     "tableResultSettingsMap": {},
     "title": ""
    }
   },
   "outputs": [],
   "source": [
    "df=spark.read.format('json').schema(schema).load('dbfs:/FileStore/tables/New.json')"
   ]
  },
  {
   "cell_type": "code",
   "execution_count": 0,
   "metadata": {
    "application/vnd.databricks.v1+cell": {
     "cellMetadata": {
      "byteLimit": 2048000,
      "rowLimit": 10000
     },
     "inputWidgets": {},
     "nuid": "44a0d564-3083-47dd-90d4-3667f9b5b9ba",
     "showTitle": false,
     "tableResultSettingsMap": {},
     "title": ""
    }
   },
   "outputs": [
    {
     "output_type": "stream",
     "name": "stdout",
     "output_type": "stream",
     "text": [
      "+--------------------+--------------------+--------------------+--------------------+\n|     EnqueuedTimeUtc|          Properties|    SystemProperties|                Body|\n+--------------------+--------------------+--------------------+--------------------+\n|2024-08-20T09:56:...|{rp.mib/dev/96d1f...|{96d1f469-e0b7-4e...|{smsProps, mn=TVg...|\n|2024-08-20T09:56:...|{rp.mib/dev/96d1f...|{a0ba43aa-f3c1-42...|{smsProps, mn=TVg...|\n|2024-08-20T09:56:...|{rp.mib/dev/96d1f...|{96d1f469-e0b7-4e...|{smsProps, mn=TVg...|\n|2024-08-20T09:56:...|{rp.mib/dev/96d1f...|{5b98aa47-2d23-4b...|{smsProps, mn=TVg...|\n|2024-08-20T09:56:...|{rp.mib/dev/96d1f...|{96d1f469-e0b7-4e...|{smsProps, mn=TVg...|\n|2024-08-20T09:56:...|{rp.mib/dev/96d1f...|{a0ba43aa-f3c1-42...|{smsProps, mn=TVg...|\n|2024-08-20T09:56:...|{rp.mib/dev/96d1f...|{96d1f469-e0b7-4e...|{smsProps, mn=TVg...|\n|2024-08-20T09:56:...|{rp.mib/dev/96d1f...|{5b98aa47-2d23-4b...|{smsProps, mn=TVg...|\n|2024-08-20T09:56:...|{rp.mib/dev/96d1f...|{96d1f469-e0b7-4e...|{smsProps, mn=TVg...|\n|2024-08-20T09:56:...|{rp.mib/dev/96d1f...|{a0ba43aa-f3c1-42...|{smsProps, mn=TVg...|\n+--------------------+--------------------+--------------------+--------------------+\n\n"
     ]
    }
   ],
   "source": [
    "df.show()"
   ]
  },
  {
   "cell_type": "code",
   "execution_count": 0,
   "metadata": {
    "application/vnd.databricks.v1+cell": {
     "cellMetadata": {
      "byteLimit": 2048000,
      "rowLimit": 10000
     },
     "inputWidgets": {},
     "nuid": "7f05d656-9974-4466-b2d4-5141c914424b",
     "showTitle": false,
     "tableResultSettingsMap": {},
     "title": ""
    }
   },
   "outputs": [
    {
     "output_type": "display_data",
     "data": {
      "text/html": [
       "<style scoped>\n",
       "  .table-result-container {\n",
       "    max-height: 300px;\n",
       "    overflow: auto;\n",
       "  }\n",
       "  table, th, td {\n",
       "    border: 1px solid black;\n",
       "    border-collapse: collapse;\n",
       "  }\n",
       "  th, td {\n",
       "    padding: 5px;\n",
       "  }\n",
       "  th {\n",
       "    text-align: left;\n",
       "  }\n",
       "</style><div class='table-result-container'><table class='table-result'><thead style='background-color: white'><tr><th>EnqueuedTimeUtc</th><th>Properties</th><th>SystemProperties</th><th>Body</th></tr></thead><tbody><tr><td>2024-08-20T09:56:52.534Z</td><td>List(rp.mib/dev/96d1f469-e0b7-4ee9-8791-41fb1a20-1-1, 96d1f469-e0b7-4ee9-8791-41fb1a20d40f-1)</td><td>List(96d1f469-e0b7-4ee9-8791-41fb1a20d40f, {\"scope\":\"device\",\"type\":\"sas\",\"issuer\":\"iothub\"}, 638525549558955677, application/JSON, UTF-8, 2024-06-01T09:52:03.1780000Z)</td><td>List(smsProps, mn=TVgwMDAx:sn=MDUxMTMxMzAwMDE=, 1724147812588, basicUpdate, List(List(List(List(List(1, simplex), List(2, duplexLongEdgeBinding), List(3, duplexShortEdgeBinding)), List(List(1, 1, 1), List(2, 1, 1), List(3, 1, 1), List(4, 1, 1), List(5, 1, 1), List(6, 1, 1), List(7, 1, 1)), List(List(1, langAutomatic, 04.50.Z2.00, , Automatic Switching, portrait, ), List(2, langPJL, 04.50.Z2.00, 6, PJL, portrait, 6), List(4, langPCL, 04.50.Z2.00, 5c, PCL5c Emulation, portrait, 5c), List(5, langPCLXL, 04.50.Z2.00, 6, PCL6 Emulation, portrait, 6), List(6, langPS, 04.50.Z2.00, 3, Adobe PostScript 3, portrait, 3018.103), List(7, langPDF, 04.50.Z2.00, 1, Adobe PDF, portrait, 7e), List(8, langTIFF, 04.50.Z2.00, 1, TIFF, portrait, 1))))), null, null)</td></tr><tr><td>2024-08-20T09:56:52.589Z</td><td>List(rp.mib/dev/96d1f469-e0b7-4ee9-8791-41fb1a20-1-1, 96d1f469-e0b7-4ee9-8791-41fb1a20d40f-1)</td><td>List(a0ba43aa-f3c1-4298-a0b1-82ed3bc3751f, {\"scope\":\"device\",\"type\":\"sas\",\"issuer\":\"iothub\"}, 638421240880264662, application/JSON, UTF-8, 2024-05-20T01:29:08.3050000Z)</td><td>List(smsProps, mn=TVgwMDAx:sn=MDUxMTMxMzAwMDE=, 1724147812589, counterUpdate, List(null), null, null)</td></tr><tr><td>2024-08-20T09:56:52.589Z</td><td>List(rp.mib/dev/96d1f469-e0b7-4ee9-8791-41fb1a20-1-1, 96d1f469-e0b7-4ee9-8791-41fb1a20d40f-1)</td><td>List(96d1f469-e0b7-4ee9-8791-41fb1a20d40f, {\"scope\":\"device\",\"type\":\"sas\",\"issuer\":\"iothub\"}, 638525549558955677, application/JSON, UTF-8, 2024-06-01T09:52:02.6930000Z)</td><td>List(smsProps, mn=TVgwMDAx:sn=MDUxMTMxMzAwMDE=, 1724147812589, deviceStatus, List(null), null, null)</td></tr><tr><td>2024-08-20T09:56:52.589Z</td><td>List(rp.mib/dev/96d1f469-e0b7-4ee9-8791-41fb1a20-1-1, 96d1f469-e0b7-4ee9-8791-41fb1a20d40f-1)</td><td>List(5b98aa47-2d23-4b69-b94d-40763b602734, {\"scope\":\"device\",\"type\":\"sas\",\"issuer\":\"iothub\"}, 638508164062718307, application/JSON, UTF-8, 2024-05-22T07:28:55.4560000Z)</td><td>List(smsProps, mn=TVgwMDAx:sn=MDUxMTMxMzAwMDE=, 1724147812589, suppliesUpdate, List(null), null, null)</td></tr><tr><td>2024-08-20T09:56:52.589Z</td><td>List(rp.mib/dev/96d1f469-e0b7-4ee9-8791-41fb1a20-1-2, 96d1f469-e0b7-4ee9-8791-41fb1a20d40f-1)</td><td>List(96d1f469-e0b7-4ee9-8791-41fb1a20d40f, {\"scope\":\"device\",\"type\":\"sas\",\"issuer\":\"iothub\"}, 638525549558955677, application/JSON, UTF-8, 2024-06-01T09:52:03.1780000Z)</td><td>List(smsProps, mn=TVgwMDAy:sn=MDUxMTMxMzAwMDI=, 1724147812591, basicUpdate, List(List(List(List(List(1, simplex), List(2, duplexLongEdgeBinding), List(3, duplexShortEdgeBinding)), List(List(1, 1, 1), List(2, 1, 1), List(3, 1, 1), List(4, 1, 1), List(5, 1, 1), List(6, 1, 1), List(7, 1, 1)), List(List(1, langAutomatic, 04.50.Z2.00, , Automatic Switching, portrait, ), List(2, langPJL, 04.50.Z2.00, 6, PJL, portrait, 6), List(4, langPCL, 04.50.Z2.00, 5c, PCL5c Emulation, portrait, 5c), List(5, langPCLXL, 04.50.Z2.00, 6, PCL6 Emulation, portrait, 6), List(6, langPS, 04.50.Z2.00, 3, Adobe PostScript 3, portrait, 3018.103), List(7, langPDF, 04.50.Z2.00, 1, Adobe PDF, portrait, 7e), List(8, langTIFF, 04.50.Z2.00, 1, TIFF, portrait, 1))))), null, null)</td></tr><tr><td>2024-08-20T09:56:52.608Z</td><td>List(rp.mib/dev/96d1f469-e0b7-4ee9-8791-41fb1a20-1-2, 96d1f469-e0b7-4ee9-8791-41fb1a20d40f-1)</td><td>List(a0ba43aa-f3c1-4298-a0b1-82ed3bc3751f, {\"scope\":\"device\",\"type\":\"sas\",\"issuer\":\"iothub\"}, 638421240880264662, application/JSON, UTF-8, 2024-05-20T01:29:08.3050000Z)</td><td>List(smsProps, mn=TVgwMDAy:sn=MDUxMTMxMzAwMDI=, 1724147812608, counterUpdate, List(null), null, null)</td></tr><tr><td>2024-08-20T09:56:52.608Z</td><td>List(rp.mib/dev/96d1f469-e0b7-4ee9-8791-41fb1a20-1-2, 96d1f469-e0b7-4ee9-8791-41fb1a20d40f-1)</td><td>List(96d1f469-e0b7-4ee9-8791-41fb1a20d40f, {\"scope\":\"device\",\"type\":\"sas\",\"issuer\":\"iothub\"}, 638525549558955677, application/JSON, UTF-8, 2024-06-01T09:52:02.6930000Z)</td><td>List(smsProps, mn=TVgwMDAy:sn=MDUxMTMxMzAwMDI=, 1724147812608, deviceStatus, List(null), null, null)</td></tr><tr><td>2024-08-20T09:56:52.609Z</td><td>List(rp.mib/dev/96d1f469-e0b7-4ee9-8791-41fb1a20-1-2, 96d1f469-e0b7-4ee9-8791-41fb1a20d40f-1)</td><td>List(5b98aa47-2d23-4b69-b94d-40763b602734, {\"scope\":\"device\",\"type\":\"sas\",\"issuer\":\"iothub\"}, 638508164062718307, application/JSON, UTF-8, 2024-05-22T07:28:55.4560000Z)</td><td>List(smsProps, mn=TVgwMDAy:sn=MDUxMTMxMzAwMDI=, 1724147812609, suppliesUpdate, List(null), null, null)</td></tr><tr><td>2024-08-20T09:56:52.609Z</td><td>List(rp.mib/dev/96d1f469-e0b7-4ee9-8791-41fb1a20-1-3, 96d1f469-e0b7-4ee9-8791-41fb1a20d40f-1)</td><td>List(96d1f469-e0b7-4ee9-8791-41fb1a20d40f, {\"scope\":\"device\",\"type\":\"sas\",\"issuer\":\"iothub\"}, 638525549558955677, application/JSON, UTF-8, 2024-06-01T09:52:03.1780000Z)</td><td>List(smsProps, mn=TVgwMDAz:sn=MDUxMTMxMzAwMDM=, 1724147812610, basicUpdate, List(List(List(List(List(1, simplex), List(2, duplexLongEdgeBinding), List(3, duplexShortEdgeBinding)), List(List(1, 1, 1), List(2, 1, 1), List(3, 1, 1), List(4, 1, 1), List(5, 1, 1), List(6, 1, 1), List(7, 1, 1)), List(List(1, langAutomatic, 04.50.Z2.00, , Automatic Switching, portrait, ), List(2, langPJL, 04.50.Z2.00, 6, PJL, portrait, 6), List(4, langPCL, 04.50.Z2.00, 5c, PCL5c Emulation, portrait, 5c), List(5, langPCLXL, 04.50.Z2.00, 6, PCL6 Emulation, portrait, 6), List(6, langPS, 04.50.Z2.00, 3, Adobe PostScript 3, portrait, 3018.103), List(7, langPDF, 04.50.Z2.00, 1, Adobe PDF, portrait, 7e), List(8, langTIFF, 04.50.Z2.00, 1, TIFF, portrait, 1))))), null, null)</td></tr><tr><td>2024-08-20T09:56:52.610Z</td><td>List(rp.mib/dev/96d1f469-e0b7-4ee9-8791-41fb1a20-1-3, 96d1f469-e0b7-4ee9-8791-41fb1a20d40f-1)</td><td>List(a0ba43aa-f3c1-4298-a0b1-82ed3bc3751f, {\"scope\":\"device\",\"type\":\"sas\",\"issuer\":\"iothub\"}, 638421240880264662, application/JSON, UTF-8, 2024-05-20T01:29:08.3050000Z)</td><td>List(smsProps, mn=TVgwMDAz:sn=MDUxMTMxMzAwMDM=, 1724147812610, counterUpdate, List(null), null, null)</td></tr></tbody></table></div>"
      ]
     },
     "metadata": {
      "application/vnd.databricks.v1+output": {
       "addedWidgets": {},
       "aggData": [],
       "aggError": "",
       "aggOverflow": false,
       "aggSchema": [],
       "aggSeriesLimitReached": false,
       "aggType": "",
       "arguments": {},
       "columnCustomDisplayInfos": {},
       "data": [
        [
         "2024-08-20T09:56:52.534Z",
         [
          "rp.mib/dev/96d1f469-e0b7-4ee9-8791-41fb1a20-1-1",
          "96d1f469-e0b7-4ee9-8791-41fb1a20d40f-1"
         ],
         [
          "96d1f469-e0b7-4ee9-8791-41fb1a20d40f",
          "{\"scope\":\"device\",\"type\":\"sas\",\"issuer\":\"iothub\"}",
          "638525549558955677",
          "application/JSON",
          "UTF-8",
          "2024-06-01T09:52:03.1780000Z"
         ],
         [
          "smsProps",
          "mn=TVgwMDAx:sn=MDUxMTMxMzAwMDE=",
          1724147812588,
          "basicUpdate",
          [
           [
            [
             [
              [
               "1",
               "simplex"
              ],
              [
               "2",
               "duplexLongEdgeBinding"
              ],
              [
               "3",
               "duplexShortEdgeBinding"
              ]
             ],
             [
              [
               "1",
               "1",
               "1"
              ],
              [
               "2",
               "1",
               "1"
              ],
              [
               "3",
               "1",
               "1"
              ],
              [
               "4",
               "1",
               "1"
              ],
              [
               "5",
               "1",
               "1"
              ],
              [
               "6",
               "1",
               "1"
              ],
              [
               "7",
               "1",
               "1"
              ]
             ],
             [
              [
               "1",
               "langAutomatic",
               "04.50.Z2.00",
               "",
               "Automatic Switching",
               "portrait",
               ""
              ],
              [
               "2",
               "langPJL",
               "04.50.Z2.00",
               "6",
               "PJL",
               "portrait",
               "6"
              ],
              [
               "4",
               "langPCL",
               "04.50.Z2.00",
               "5c",
               "PCL5c Emulation",
               "portrait",
               "5c"
              ],
              [
               "5",
               "langPCLXL",
               "04.50.Z2.00",
               "6",
               "PCL6 Emulation",
               "portrait",
               "6"
              ],
              [
               "6",
               "langPS",
               "04.50.Z2.00",
               "3",
               "Adobe PostScript 3",
               "portrait",
               "3018.103"
              ],
              [
               "7",
               "langPDF",
               "04.50.Z2.00",
               "1",
               "Adobe PDF",
               "portrait",
               "7e"
              ],
              [
               "8",
               "langTIFF",
               "04.50.Z2.00",
               "1",
               "TIFF",
               "portrait",
               "1"
              ]
             ]
            ]
           ]
          ],
          null,
          null
         ]
        ],
        [
         "2024-08-20T09:56:52.589Z",
         [
          "rp.mib/dev/96d1f469-e0b7-4ee9-8791-41fb1a20-1-1",
          "96d1f469-e0b7-4ee9-8791-41fb1a20d40f-1"
         ],
         [
          "a0ba43aa-f3c1-4298-a0b1-82ed3bc3751f",
          "{\"scope\":\"device\",\"type\":\"sas\",\"issuer\":\"iothub\"}",
          "638421240880264662",
          "application/JSON",
          "UTF-8",
          "2024-05-20T01:29:08.3050000Z"
         ],
         [
          "smsProps",
          "mn=TVgwMDAx:sn=MDUxMTMxMzAwMDE=",
          1724147812589,
          "counterUpdate",
          [
           null
          ],
          null,
          null
         ]
        ],
        [
         "2024-08-20T09:56:52.589Z",
         [
          "rp.mib/dev/96d1f469-e0b7-4ee9-8791-41fb1a20-1-1",
          "96d1f469-e0b7-4ee9-8791-41fb1a20d40f-1"
         ],
         [
          "96d1f469-e0b7-4ee9-8791-41fb1a20d40f",
          "{\"scope\":\"device\",\"type\":\"sas\",\"issuer\":\"iothub\"}",
          "638525549558955677",
          "application/JSON",
          "UTF-8",
          "2024-06-01T09:52:02.6930000Z"
         ],
         [
          "smsProps",
          "mn=TVgwMDAx:sn=MDUxMTMxMzAwMDE=",
          1724147812589,
          "deviceStatus",
          [
           null
          ],
          null,
          null
         ]
        ],
        [
         "2024-08-20T09:56:52.589Z",
         [
          "rp.mib/dev/96d1f469-e0b7-4ee9-8791-41fb1a20-1-1",
          "96d1f469-e0b7-4ee9-8791-41fb1a20d40f-1"
         ],
         [
          "5b98aa47-2d23-4b69-b94d-40763b602734",
          "{\"scope\":\"device\",\"type\":\"sas\",\"issuer\":\"iothub\"}",
          "638508164062718307",
          "application/JSON",
          "UTF-8",
          "2024-05-22T07:28:55.4560000Z"
         ],
         [
          "smsProps",
          "mn=TVgwMDAx:sn=MDUxMTMxMzAwMDE=",
          1724147812589,
          "suppliesUpdate",
          [
           null
          ],
          null,
          null
         ]
        ],
        [
         "2024-08-20T09:56:52.589Z",
         [
          "rp.mib/dev/96d1f469-e0b7-4ee9-8791-41fb1a20-1-2",
          "96d1f469-e0b7-4ee9-8791-41fb1a20d40f-1"
         ],
         [
          "96d1f469-e0b7-4ee9-8791-41fb1a20d40f",
          "{\"scope\":\"device\",\"type\":\"sas\",\"issuer\":\"iothub\"}",
          "638525549558955677",
          "application/JSON",
          "UTF-8",
          "2024-06-01T09:52:03.1780000Z"
         ],
         [
          "smsProps",
          "mn=TVgwMDAy:sn=MDUxMTMxMzAwMDI=",
          1724147812591,
          "basicUpdate",
          [
           [
            [
             [
              [
               "1",
               "simplex"
              ],
              [
               "2",
               "duplexLongEdgeBinding"
              ],
              [
               "3",
               "duplexShortEdgeBinding"
              ]
             ],
             [
              [
               "1",
               "1",
               "1"
              ],
              [
               "2",
               "1",
               "1"
              ],
              [
               "3",
               "1",
               "1"
              ],
              [
               "4",
               "1",
               "1"
              ],
              [
               "5",
               "1",
               "1"
              ],
              [
               "6",
               "1",
               "1"
              ],
              [
               "7",
               "1",
               "1"
              ]
             ],
             [
              [
               "1",
               "langAutomatic",
               "04.50.Z2.00",
               "",
               "Automatic Switching",
               "portrait",
               ""
              ],
              [
               "2",
               "langPJL",
               "04.50.Z2.00",
               "6",
               "PJL",
               "portrait",
               "6"
              ],
              [
               "4",
               "langPCL",
               "04.50.Z2.00",
               "5c",
               "PCL5c Emulation",
               "portrait",
               "5c"
              ],
              [
               "5",
               "langPCLXL",
               "04.50.Z2.00",
               "6",
               "PCL6 Emulation",
               "portrait",
               "6"
              ],
              [
               "6",
               "langPS",
               "04.50.Z2.00",
               "3",
               "Adobe PostScript 3",
               "portrait",
               "3018.103"
              ],
              [
               "7",
               "langPDF",
               "04.50.Z2.00",
               "1",
               "Adobe PDF",
               "portrait",
               "7e"
              ],
              [
               "8",
               "langTIFF",
               "04.50.Z2.00",
               "1",
               "TIFF",
               "portrait",
               "1"
              ]
             ]
            ]
           ]
          ],
          null,
          null
         ]
        ],
        [
         "2024-08-20T09:56:52.608Z",
         [
          "rp.mib/dev/96d1f469-e0b7-4ee9-8791-41fb1a20-1-2",
          "96d1f469-e0b7-4ee9-8791-41fb1a20d40f-1"
         ],
         [
          "a0ba43aa-f3c1-4298-a0b1-82ed3bc3751f",
          "{\"scope\":\"device\",\"type\":\"sas\",\"issuer\":\"iothub\"}",
          "638421240880264662",
          "application/JSON",
          "UTF-8",
          "2024-05-20T01:29:08.3050000Z"
         ],
         [
          "smsProps",
          "mn=TVgwMDAy:sn=MDUxMTMxMzAwMDI=",
          1724147812608,
          "counterUpdate",
          [
           null
          ],
          null,
          null
         ]
        ],
        [
         "2024-08-20T09:56:52.608Z",
         [
          "rp.mib/dev/96d1f469-e0b7-4ee9-8791-41fb1a20-1-2",
          "96d1f469-e0b7-4ee9-8791-41fb1a20d40f-1"
         ],
         [
          "96d1f469-e0b7-4ee9-8791-41fb1a20d40f",
          "{\"scope\":\"device\",\"type\":\"sas\",\"issuer\":\"iothub\"}",
          "638525549558955677",
          "application/JSON",
          "UTF-8",
          "2024-06-01T09:52:02.6930000Z"
         ],
         [
          "smsProps",
          "mn=TVgwMDAy:sn=MDUxMTMxMzAwMDI=",
          1724147812608,
          "deviceStatus",
          [
           null
          ],
          null,
          null
         ]
        ],
        [
         "2024-08-20T09:56:52.609Z",
         [
          "rp.mib/dev/96d1f469-e0b7-4ee9-8791-41fb1a20-1-2",
          "96d1f469-e0b7-4ee9-8791-41fb1a20d40f-1"
         ],
         [
          "5b98aa47-2d23-4b69-b94d-40763b602734",
          "{\"scope\":\"device\",\"type\":\"sas\",\"issuer\":\"iothub\"}",
          "638508164062718307",
          "application/JSON",
          "UTF-8",
          "2024-05-22T07:28:55.4560000Z"
         ],
         [
          "smsProps",
          "mn=TVgwMDAy:sn=MDUxMTMxMzAwMDI=",
          1724147812609,
          "suppliesUpdate",
          [
           null
          ],
          null,
          null
         ]
        ],
        [
         "2024-08-20T09:56:52.609Z",
         [
          "rp.mib/dev/96d1f469-e0b7-4ee9-8791-41fb1a20-1-3",
          "96d1f469-e0b7-4ee9-8791-41fb1a20d40f-1"
         ],
         [
          "96d1f469-e0b7-4ee9-8791-41fb1a20d40f",
          "{\"scope\":\"device\",\"type\":\"sas\",\"issuer\":\"iothub\"}",
          "638525549558955677",
          "application/JSON",
          "UTF-8",
          "2024-06-01T09:52:03.1780000Z"
         ],
         [
          "smsProps",
          "mn=TVgwMDAz:sn=MDUxMTMxMzAwMDM=",
          1724147812610,
          "basicUpdate",
          [
           [
            [
             [
              [
               "1",
               "simplex"
              ],
              [
               "2",
               "duplexLongEdgeBinding"
              ],
              [
               "3",
               "duplexShortEdgeBinding"
              ]
             ],
             [
              [
               "1",
               "1",
               "1"
              ],
              [
               "2",
               "1",
               "1"
              ],
              [
               "3",
               "1",
               "1"
              ],
              [
               "4",
               "1",
               "1"
              ],
              [
               "5",
               "1",
               "1"
              ],
              [
               "6",
               "1",
               "1"
              ],
              [
               "7",
               "1",
               "1"
              ]
             ],
             [
              [
               "1",
               "langAutomatic",
               "04.50.Z2.00",
               "",
               "Automatic Switching",
               "portrait",
               ""
              ],
              [
               "2",
               "langPJL",
               "04.50.Z2.00",
               "6",
               "PJL",
               "portrait",
               "6"
              ],
              [
               "4",
               "langPCL",
               "04.50.Z2.00",
               "5c",
               "PCL5c Emulation",
               "portrait",
               "5c"
              ],
              [
               "5",
               "langPCLXL",
               "04.50.Z2.00",
               "6",
               "PCL6 Emulation",
               "portrait",
               "6"
              ],
              [
               "6",
               "langPS",
               "04.50.Z2.00",
               "3",
               "Adobe PostScript 3",
               "portrait",
               "3018.103"
              ],
              [
               "7",
               "langPDF",
               "04.50.Z2.00",
               "1",
               "Adobe PDF",
               "portrait",
               "7e"
              ],
              [
               "8",
               "langTIFF",
               "04.50.Z2.00",
               "1",
               "TIFF",
               "portrait",
               "1"
              ]
             ]
            ]
           ]
          ],
          null,
          null
         ]
        ],
        [
         "2024-08-20T09:56:52.610Z",
         [
          "rp.mib/dev/96d1f469-e0b7-4ee9-8791-41fb1a20-1-3",
          "96d1f469-e0b7-4ee9-8791-41fb1a20d40f-1"
         ],
         [
          "a0ba43aa-f3c1-4298-a0b1-82ed3bc3751f",
          "{\"scope\":\"device\",\"type\":\"sas\",\"issuer\":\"iothub\"}",
          "638421240880264662",
          "application/JSON",
          "UTF-8",
          "2024-05-20T01:29:08.3050000Z"
         ],
         [
          "smsProps",
          "mn=TVgwMDAz:sn=MDUxMTMxMzAwMDM=",
          1724147812610,
          "counterUpdate",
          [
           null
          ],
          null,
          null
         ]
        ]
       ],
       "datasetInfos": [],
       "dbfsResultPath": null,
       "isJsonSchema": true,
       "metadata": {},
       "overflow": false,
       "plotOptions": {
        "customPlotOptions": {},
        "displayType": "table",
        "pivotAggregation": null,
        "pivotColumns": null,
        "xColumns": null,
        "yColumns": null
       },
       "removedWidgets": [],
       "schema": [
        {
         "metadata": "{}",
         "name": "EnqueuedTimeUtc",
         "type": "\"string\""
        },
        {
         "metadata": "{}",
         "name": "Properties",
         "type": "{\"type\":\"struct\",\"fields\":[{\"name\":\"appTopic\",\"type\":\"string\",\"nullable\":true,\"metadata\":{}},{\"name\":\"relatedGroupId\",\"type\":\"string\",\"nullable\":true,\"metadata\":{}}]}"
        },
        {
         "metadata": "{}",
         "name": "SystemProperties",
         "type": "{\"type\":\"struct\",\"fields\":[{\"name\":\"connectionDeviceId\",\"type\":\"string\",\"nullable\":true,\"metadata\":{}},{\"name\":\"connectionAuthMethod\",\"type\":\"string\",\"nullable\":true,\"metadata\":{}},{\"name\":\"connectionDeviceGenerationId\",\"type\":\"string\",\"nullable\":true,\"metadata\":{}},{\"name\":\"contentType\",\"type\":\"string\",\"nullable\":true,\"metadata\":{}},{\"name\":\"contentEncoding\",\"type\":\"string\",\"nullable\":true,\"metadata\":{}},{\"name\":\"enqueuedTime\",\"type\":\"string\",\"nullable\":true,\"metadata\":{}}]}"
        },
        {
         "metadata": "{}",
         "name": "Body",
         "type": "{\"type\":\"struct\",\"fields\":[{\"name\":\"type\",\"type\":\"string\",\"nullable\":true,\"metadata\":{}},{\"name\":\"mnsn\",\"type\":\"string\",\"nullable\":true,\"metadata\":{}},{\"name\":\"timestamp\",\"type\":\"long\",\"nullable\":true,\"metadata\":{}},{\"name\":\"scheduleName\",\"type\":\"string\",\"nullable\":true,\"metadata\":{}},{\"name\":\"smsProperties\",\"type\":{\"type\":\"struct\",\"fields\":[{\"name\":\"service\",\"type\":{\"type\":\"struct\",\"fields\":[{\"name\":\"print\",\"type\":{\"type\":\"struct\",\"fields\":[{\"name\":\"mediaPathList\",\"type\":{\"type\":\"array\",\"elementType\":{\"type\":\"struct\",\"fields\":[{\"name\":\"id\",\"type\":\"string\",\"nullable\":true,\"metadata\":{}},{\"name\":\"type\",\"type\":\"string\",\"nullable\":true,\"metadata\":{}}]},\"containsNull\":true},\"nullable\":true,\"metadata\":{}},{\"name\":\"channelList\",\"type\":{\"type\":\"array\",\"elementType\":{\"type\":\"struct\",\"fields\":[{\"name\":\"id\",\"type\":\"string\",\"nullable\":true,\"metadata\":{}},{\"name\":\"descriptionLanguageDefault\",\"type\":\"string\",\"nullable\":true,\"metadata\":{}},{\"name\":\"mediaPathDefault\",\"type\":\"string\",\"nullable\":true,\"metadata\":{}}]},\"containsNull\":true},\"nullable\":true,\"metadata\":{}},{\"name\":\"descriptionLanguageList\",\"type\":{\"type\":\"array\",\"elementType\":{\"type\":\"struct\",\"fields\":[{\"name\":\"id\",\"type\":\"string\",\"nullable\":true,\"metadata\":{}},{\"name\":\"family\",\"type\":\"string\",\"nullable\":true,\"metadata\":{}},{\"name\":\"version\",\"type\":\"string\",\"nullable\":true,\"metadata\":{}},{\"name\":\"level\",\"type\":\"string\",\"nullable\":true,\"metadata\":{}},{\"name\":\"description\",\"type\":\"string\",\"nullable\":true,\"metadata\":{}},{\"name\":\"orientationDefault\",\"type\":\"string\",\"nullable\":true,\"metadata\":{}},{\"name\":\"langVersion\",\"type\":\"string\",\"nullable\":true,\"metadata\":{}}]},\"containsNull\":true},\"nullable\":true,\"metadata\":{}}]},\"nullable\":true,\"metadata\":{}}]},\"nullable\":true,\"metadata\":{}}]},\"nullable\":true,\"metadata\":{}},{\"name\":\"interface\",\"type\":{\"type\":\"struct\",\"fields\":[{\"name\":\"ethernetList\",\"type\":{\"type\":\"array\",\"elementType\":{\"type\":\"struct\",\"fields\":[{\"name\":\"id\",\"type\":\"string\",\"nullable\":true,\"metadata\":{}},{\"name\":\"type\",\"type\":\"string\",\"nullable\":true,\"metadata\":{}},{\"name\":\"address\",\"type\":\"string\",\"nullable\":true,\"metadata\":{}}]},\"containsNull\":true},\"nullable\":true,\"metadata\":{}},{\"name\":\"ipList\",\"type\":{\"type\":\"array\",\"elementType\":{\"type\":\"struct\",\"fields\":[{\"name\":\"address\",\"type\":\"string\",\"nullable\":true,\"metadata\":{}},{\"name\":\"defaultRoute\",\"type\":\"string\",\"nullable\":true,\"metadata\":{}},{\"name\":\"subnetMask\",\"type\":\"string\",\"nullable\":true,\"metadata\":{}},{\"name\":\"ethernetId\",\"type\":\"string\",\"nullable\":true,\"metadata\":{}}]},\"containsNull\":true},\"nullable\":true,\"metadata\":{}}]},\"nullable\":true,\"metadata\":{}},{\"name\":\"device\",\"type\":{\"type\":\"struct\",\"fields\":[{\"name\":\"memory\",\"type\":{\"type\":\"struct\",\"fields\":[{\"name\":\"size\",\"type\":\"string\",\"nullable\":true,\"metadata\":{}}]},\"nullable\":true,\"metadata\":{}},{\"name\":\"deviceEntryList\",\"type\":{\"type\":\"array\",\"elementType\":{\"type\":\"struct\",\"fields\":[{\"name\":\"type\",\"type\":\"string\",\"nullable\":true,\"metadata\":{}},{\"name\":\"description\",\"type\":\"string\",\"nullable\":true,\"metadata\":{}},{\"name\":\"status\",\"type\":\"string\",\"nullable\":true,\"metadata\":{}},{\"name\":\"errors\",\"type\":\"string\",\"nullable\":true,\"metadata\":{}},{\"name\":\"deviceID\",\"type\":\"string\",\"nullable\":true,\"metadata\":{}},{\"name\":\"deviceIndex\",\"type\":\"string\",\"nullable\":true,\"metadata\":{}}]},\"containsNull\":true},\"nullable\":true,\"metadata\":{}},{\"name\":\"configuration\",\"type\":{\"type\":\"struct\",\"fields\":[{\"name\":\"duplexModule\",\"type\":\"string\",\"nullable\":true,\"metadata\":{}},{\"name\":\"installedOptions\",\"type\":{\"type\":\"struct\",\"fields\":[{\"name\":\"value\",\"type\":\"string\",\"nullable\":true,\"metadata\":{}},{\"name\":\"dsk\",\"type\":\"string\",\"nullable\":true,\"metadata\":{}}]},\"nullable\":true,\"metadata\":{}}]},\"nullable\":true,\"metadata\":{}}]},\"nullable\":true,\"metadata\":{}}]}"
        }
       ],
       "type": "table"
      }
     },
     "output_type": "display_data"
    }
   ],
   "source": [
    "df.display()"
   ]
  },
  {
   "cell_type": "code",
   "execution_count": 0,
   "metadata": {
    "application/vnd.databricks.v1+cell": {
     "cellMetadata": {
      "byteLimit": 2048000,
      "rowLimit": 10000
     },
     "inputWidgets": {},
     "nuid": "31020e85-f242-4a12-945e-5035a61dad8f",
     "showTitle": false,
     "tableResultSettingsMap": {},
     "title": ""
    }
   },
   "outputs": [
    {
     "output_type": "stream",
     "name": "stdout",
     "output_type": "stream",
     "text": [
      "+--------------+\n|  scheduleName|\n+--------------+\n|  deviceStatus|\n|   basicUpdate|\n| counterUpdate|\n|suppliesUpdate|\n+--------------+\n\n"
     ]
    }
   ],
   "source": [
    "df.select('Body.scheduleName').distinct().show()"
   ]
  },
  {
   "cell_type": "code",
   "execution_count": 0,
   "metadata": {
    "application/vnd.databricks.v1+cell": {
     "cellMetadata": {
      "byteLimit": 2048000,
      "rowLimit": 10000
     },
     "inputWidgets": {},
     "nuid": "16e94751-b785-42c6-9d49-42876a3df23a",
     "showTitle": false,
     "tableResultSettingsMap": {},
     "title": ""
    }
   },
   "outputs": [
    {
     "output_type": "stream",
     "name": "stdout",
     "output_type": "stream",
     "text": [
      "+--------------------+--------------------+--------------------+--------------------+\n|     EnqueuedTimeUtc|          Properties|    SystemProperties|                Body|\n+--------------------+--------------------+--------------------+--------------------+\n|2024-08-20T09:56:...|{rp.mib/dev/96d1f...|{96d1f469-e0b7-4e...|{smsProps, mn=TVg...|\n|2024-08-20T09:56:...|{rp.mib/dev/96d1f...|{96d1f469-e0b7-4e...|{smsProps, mn=TVg...|\n|2024-08-20T09:56:...|{rp.mib/dev/96d1f...|{96d1f469-e0b7-4e...|{smsProps, mn=TVg...|\n+--------------------+--------------------+--------------------+--------------------+\n\n"
     ]
    }
   ],
   "source": [
    "df1=df.filter(df['Body.scheduleName']=='basicUpdate')\n",
    "df1.show()"
   ]
  },
  {
   "cell_type": "code",
   "execution_count": 0,
   "metadata": {
    "application/vnd.databricks.v1+cell": {
     "cellMetadata": {
      "byteLimit": 2048000,
      "rowLimit": 10000
     },
     "inputWidgets": {},
     "nuid": "102ae479-bf54-47e3-9450-51af3ea7e2e7",
     "showTitle": false,
     "tableResultSettingsMap": {},
     "title": ""
    }
   },
   "outputs": [],
   "source": [
    "sorted_df1=df1.orderBy(df['Body.timestamp'].desc())"
   ]
  },
  {
   "cell_type": "code",
   "execution_count": 0,
   "metadata": {
    "application/vnd.databricks.v1+cell": {
     "cellMetadata": {
      "byteLimit": 2048000,
      "rowLimit": 10000
     },
     "inputWidgets": {},
     "nuid": "0309d1bd-aa60-4214-9be3-8b4daa999d3c",
     "showTitle": false,
     "tableResultSettingsMap": {},
     "title": ""
    }
   },
   "outputs": [
    {
     "output_type": "display_data",
     "data": {
      "text/html": [
       "<style scoped>\n",
       "  .table-result-container {\n",
       "    max-height: 300px;\n",
       "    overflow: auto;\n",
       "  }\n",
       "  table, th, td {\n",
       "    border: 1px solid black;\n",
       "    border-collapse: collapse;\n",
       "  }\n",
       "  th, td {\n",
       "    padding: 5px;\n",
       "  }\n",
       "  th {\n",
       "    text-align: left;\n",
       "  }\n",
       "</style><div class='table-result-container'><table class='table-result'><thead style='background-color: white'><tr><th>EnqueuedTimeUtc</th><th>Properties</th><th>SystemProperties</th><th>Body</th></tr></thead><tbody><tr><td>2024-08-20T09:56:52.609Z</td><td>List(rp.mib/dev/96d1f469-e0b7-4ee9-8791-41fb1a20-1-3, 96d1f469-e0b7-4ee9-8791-41fb1a20d40f-1)</td><td>List(96d1f469-e0b7-4ee9-8791-41fb1a20d40f, {\"scope\":\"device\",\"type\":\"sas\",\"issuer\":\"iothub\"}, 638525549558955677, application/JSON, UTF-8, 2024-06-01T09:52:03.1780000Z)</td><td>List(smsProps, mn=TVgwMDAz:sn=MDUxMTMxMzAwMDM=, 1724147812610, basicUpdate, List(List(List(List(List(1, simplex), List(2, duplexLongEdgeBinding), List(3, duplexShortEdgeBinding)), List(List(1, 1, 1), List(2, 1, 1), List(3, 1, 1), List(4, 1, 1), List(5, 1, 1), List(6, 1, 1), List(7, 1, 1)), List(List(1, langAutomatic, 04.50.Z2.00, , Automatic Switching, portrait, ), List(2, langPJL, 04.50.Z2.00, 6, PJL, portrait, 6), List(4, langPCL, 04.50.Z2.00, 5c, PCL5c Emulation, portrait, 5c), List(5, langPCLXL, 04.50.Z2.00, 6, PCL6 Emulation, portrait, 6), List(6, langPS, 04.50.Z2.00, 3, Adobe PostScript 3, portrait, 3018.103), List(7, langPDF, 04.50.Z2.00, 1, Adobe PDF, portrait, 7e), List(8, langTIFF, 04.50.Z2.00, 1, TIFF, portrait, 1))))), null, null)</td></tr><tr><td>2024-08-20T09:56:52.589Z</td><td>List(rp.mib/dev/96d1f469-e0b7-4ee9-8791-41fb1a20-1-2, 96d1f469-e0b7-4ee9-8791-41fb1a20d40f-1)</td><td>List(96d1f469-e0b7-4ee9-8791-41fb1a20d40f, {\"scope\":\"device\",\"type\":\"sas\",\"issuer\":\"iothub\"}, 638525549558955677, application/JSON, UTF-8, 2024-06-01T09:52:03.1780000Z)</td><td>List(smsProps, mn=TVgwMDAy:sn=MDUxMTMxMzAwMDI=, 1724147812591, basicUpdate, List(List(List(List(List(1, simplex), List(2, duplexLongEdgeBinding), List(3, duplexShortEdgeBinding)), List(List(1, 1, 1), List(2, 1, 1), List(3, 1, 1), List(4, 1, 1), List(5, 1, 1), List(6, 1, 1), List(7, 1, 1)), List(List(1, langAutomatic, 04.50.Z2.00, , Automatic Switching, portrait, ), List(2, langPJL, 04.50.Z2.00, 6, PJL, portrait, 6), List(4, langPCL, 04.50.Z2.00, 5c, PCL5c Emulation, portrait, 5c), List(5, langPCLXL, 04.50.Z2.00, 6, PCL6 Emulation, portrait, 6), List(6, langPS, 04.50.Z2.00, 3, Adobe PostScript 3, portrait, 3018.103), List(7, langPDF, 04.50.Z2.00, 1, Adobe PDF, portrait, 7e), List(8, langTIFF, 04.50.Z2.00, 1, TIFF, portrait, 1))))), null, null)</td></tr><tr><td>2024-08-20T09:56:52.534Z</td><td>List(rp.mib/dev/96d1f469-e0b7-4ee9-8791-41fb1a20-1-1, 96d1f469-e0b7-4ee9-8791-41fb1a20d40f-1)</td><td>List(96d1f469-e0b7-4ee9-8791-41fb1a20d40f, {\"scope\":\"device\",\"type\":\"sas\",\"issuer\":\"iothub\"}, 638525549558955677, application/JSON, UTF-8, 2024-06-01T09:52:03.1780000Z)</td><td>List(smsProps, mn=TVgwMDAx:sn=MDUxMTMxMzAwMDE=, 1724147812588, basicUpdate, List(List(List(List(List(1, simplex), List(2, duplexLongEdgeBinding), List(3, duplexShortEdgeBinding)), List(List(1, 1, 1), List(2, 1, 1), List(3, 1, 1), List(4, 1, 1), List(5, 1, 1), List(6, 1, 1), List(7, 1, 1)), List(List(1, langAutomatic, 04.50.Z2.00, , Automatic Switching, portrait, ), List(2, langPJL, 04.50.Z2.00, 6, PJL, portrait, 6), List(4, langPCL, 04.50.Z2.00, 5c, PCL5c Emulation, portrait, 5c), List(5, langPCLXL, 04.50.Z2.00, 6, PCL6 Emulation, portrait, 6), List(6, langPS, 04.50.Z2.00, 3, Adobe PostScript 3, portrait, 3018.103), List(7, langPDF, 04.50.Z2.00, 1, Adobe PDF, portrait, 7e), List(8, langTIFF, 04.50.Z2.00, 1, TIFF, portrait, 1))))), null, null)</td></tr></tbody></table></div>"
      ]
     },
     "metadata": {
      "application/vnd.databricks.v1+output": {
       "addedWidgets": {},
       "aggData": [],
       "aggError": "",
       "aggOverflow": false,
       "aggSchema": [],
       "aggSeriesLimitReached": false,
       "aggType": "",
       "arguments": {},
       "columnCustomDisplayInfos": {},
       "data": [
        [
         "2024-08-20T09:56:52.609Z",
         [
          "rp.mib/dev/96d1f469-e0b7-4ee9-8791-41fb1a20-1-3",
          "96d1f469-e0b7-4ee9-8791-41fb1a20d40f-1"
         ],
         [
          "96d1f469-e0b7-4ee9-8791-41fb1a20d40f",
          "{\"scope\":\"device\",\"type\":\"sas\",\"issuer\":\"iothub\"}",
          "638525549558955677",
          "application/JSON",
          "UTF-8",
          "2024-06-01T09:52:03.1780000Z"
         ],
         [
          "smsProps",
          "mn=TVgwMDAz:sn=MDUxMTMxMzAwMDM=",
          1724147812610,
          "basicUpdate",
          [
           [
            [
             [
              [
               "1",
               "simplex"
              ],
              [
               "2",
               "duplexLongEdgeBinding"
              ],
              [
               "3",
               "duplexShortEdgeBinding"
              ]
             ],
             [
              [
               "1",
               "1",
               "1"
              ],
              [
               "2",
               "1",
               "1"
              ],
              [
               "3",
               "1",
               "1"
              ],
              [
               "4",
               "1",
               "1"
              ],
              [
               "5",
               "1",
               "1"
              ],
              [
               "6",
               "1",
               "1"
              ],
              [
               "7",
               "1",
               "1"
              ]
             ],
             [
              [
               "1",
               "langAutomatic",
               "04.50.Z2.00",
               "",
               "Automatic Switching",
               "portrait",
               ""
              ],
              [
               "2",
               "langPJL",
               "04.50.Z2.00",
               "6",
               "PJL",
               "portrait",
               "6"
              ],
              [
               "4",
               "langPCL",
               "04.50.Z2.00",
               "5c",
               "PCL5c Emulation",
               "portrait",
               "5c"
              ],
              [
               "5",
               "langPCLXL",
               "04.50.Z2.00",
               "6",
               "PCL6 Emulation",
               "portrait",
               "6"
              ],
              [
               "6",
               "langPS",
               "04.50.Z2.00",
               "3",
               "Adobe PostScript 3",
               "portrait",
               "3018.103"
              ],
              [
               "7",
               "langPDF",
               "04.50.Z2.00",
               "1",
               "Adobe PDF",
               "portrait",
               "7e"
              ],
              [
               "8",
               "langTIFF",
               "04.50.Z2.00",
               "1",
               "TIFF",
               "portrait",
               "1"
              ]
             ]
            ]
           ]
          ],
          null,
          null
         ]
        ],
        [
         "2024-08-20T09:56:52.589Z",
         [
          "rp.mib/dev/96d1f469-e0b7-4ee9-8791-41fb1a20-1-2",
          "96d1f469-e0b7-4ee9-8791-41fb1a20d40f-1"
         ],
         [
          "96d1f469-e0b7-4ee9-8791-41fb1a20d40f",
          "{\"scope\":\"device\",\"type\":\"sas\",\"issuer\":\"iothub\"}",
          "638525549558955677",
          "application/JSON",
          "UTF-8",
          "2024-06-01T09:52:03.1780000Z"
         ],
         [
          "smsProps",
          "mn=TVgwMDAy:sn=MDUxMTMxMzAwMDI=",
          1724147812591,
          "basicUpdate",
          [
           [
            [
             [
              [
               "1",
               "simplex"
              ],
              [
               "2",
               "duplexLongEdgeBinding"
              ],
              [
               "3",
               "duplexShortEdgeBinding"
              ]
             ],
             [
              [
               "1",
               "1",
               "1"
              ],
              [
               "2",
               "1",
               "1"
              ],
              [
               "3",
               "1",
               "1"
              ],
              [
               "4",
               "1",
               "1"
              ],
              [
               "5",
               "1",
               "1"
              ],
              [
               "6",
               "1",
               "1"
              ],
              [
               "7",
               "1",
               "1"
              ]
             ],
             [
              [
               "1",
               "langAutomatic",
               "04.50.Z2.00",
               "",
               "Automatic Switching",
               "portrait",
               ""
              ],
              [
               "2",
               "langPJL",
               "04.50.Z2.00",
               "6",
               "PJL",
               "portrait",
               "6"
              ],
              [
               "4",
               "langPCL",
               "04.50.Z2.00",
               "5c",
               "PCL5c Emulation",
               "portrait",
               "5c"
              ],
              [
               "5",
               "langPCLXL",
               "04.50.Z2.00",
               "6",
               "PCL6 Emulation",
               "portrait",
               "6"
              ],
              [
               "6",
               "langPS",
               "04.50.Z2.00",
               "3",
               "Adobe PostScript 3",
               "portrait",
               "3018.103"
              ],
              [
               "7",
               "langPDF",
               "04.50.Z2.00",
               "1",
               "Adobe PDF",
               "portrait",
               "7e"
              ],
              [
               "8",
               "langTIFF",
               "04.50.Z2.00",
               "1",
               "TIFF",
               "portrait",
               "1"
              ]
             ]
            ]
           ]
          ],
          null,
          null
         ]
        ],
        [
         "2024-08-20T09:56:52.534Z",
         [
          "rp.mib/dev/96d1f469-e0b7-4ee9-8791-41fb1a20-1-1",
          "96d1f469-e0b7-4ee9-8791-41fb1a20d40f-1"
         ],
         [
          "96d1f469-e0b7-4ee9-8791-41fb1a20d40f",
          "{\"scope\":\"device\",\"type\":\"sas\",\"issuer\":\"iothub\"}",
          "638525549558955677",
          "application/JSON",
          "UTF-8",
          "2024-06-01T09:52:03.1780000Z"
         ],
         [
          "smsProps",
          "mn=TVgwMDAx:sn=MDUxMTMxMzAwMDE=",
          1724147812588,
          "basicUpdate",
          [
           [
            [
             [
              [
               "1",
               "simplex"
              ],
              [
               "2",
               "duplexLongEdgeBinding"
              ],
              [
               "3",
               "duplexShortEdgeBinding"
              ]
             ],
             [
              [
               "1",
               "1",
               "1"
              ],
              [
               "2",
               "1",
               "1"
              ],
              [
               "3",
               "1",
               "1"
              ],
              [
               "4",
               "1",
               "1"
              ],
              [
               "5",
               "1",
               "1"
              ],
              [
               "6",
               "1",
               "1"
              ],
              [
               "7",
               "1",
               "1"
              ]
             ],
             [
              [
               "1",
               "langAutomatic",
               "04.50.Z2.00",
               "",
               "Automatic Switching",
               "portrait",
               ""
              ],
              [
               "2",
               "langPJL",
               "04.50.Z2.00",
               "6",
               "PJL",
               "portrait",
               "6"
              ],
              [
               "4",
               "langPCL",
               "04.50.Z2.00",
               "5c",
               "PCL5c Emulation",
               "portrait",
               "5c"
              ],
              [
               "5",
               "langPCLXL",
               "04.50.Z2.00",
               "6",
               "PCL6 Emulation",
               "portrait",
               "6"
              ],
              [
               "6",
               "langPS",
               "04.50.Z2.00",
               "3",
               "Adobe PostScript 3",
               "portrait",
               "3018.103"
              ],
              [
               "7",
               "langPDF",
               "04.50.Z2.00",
               "1",
               "Adobe PDF",
               "portrait",
               "7e"
              ],
              [
               "8",
               "langTIFF",
               "04.50.Z2.00",
               "1",
               "TIFF",
               "portrait",
               "1"
              ]
             ]
            ]
           ]
          ],
          null,
          null
         ]
        ]
       ],
       "datasetInfos": [],
       "dbfsResultPath": null,
       "isJsonSchema": true,
       "metadata": {},
       "overflow": false,
       "plotOptions": {
        "customPlotOptions": {},
        "displayType": "table",
        "pivotAggregation": null,
        "pivotColumns": null,
        "xColumns": null,
        "yColumns": null
       },
       "removedWidgets": [],
       "schema": [
        {
         "metadata": "{}",
         "name": "EnqueuedTimeUtc",
         "type": "\"string\""
        },
        {
         "metadata": "{}",
         "name": "Properties",
         "type": "{\"type\":\"struct\",\"fields\":[{\"name\":\"appTopic\",\"type\":\"string\",\"nullable\":true,\"metadata\":{}},{\"name\":\"relatedGroupId\",\"type\":\"string\",\"nullable\":true,\"metadata\":{}}]}"
        },
        {
         "metadata": "{}",
         "name": "SystemProperties",
         "type": "{\"type\":\"struct\",\"fields\":[{\"name\":\"connectionDeviceId\",\"type\":\"string\",\"nullable\":true,\"metadata\":{}},{\"name\":\"connectionAuthMethod\",\"type\":\"string\",\"nullable\":true,\"metadata\":{}},{\"name\":\"connectionDeviceGenerationId\",\"type\":\"string\",\"nullable\":true,\"metadata\":{}},{\"name\":\"contentType\",\"type\":\"string\",\"nullable\":true,\"metadata\":{}},{\"name\":\"contentEncoding\",\"type\":\"string\",\"nullable\":true,\"metadata\":{}},{\"name\":\"enqueuedTime\",\"type\":\"string\",\"nullable\":true,\"metadata\":{}}]}"
        },
        {
         "metadata": "{}",
         "name": "Body",
         "type": "{\"type\":\"struct\",\"fields\":[{\"name\":\"type\",\"type\":\"string\",\"nullable\":true,\"metadata\":{}},{\"name\":\"mnsn\",\"type\":\"string\",\"nullable\":true,\"metadata\":{}},{\"name\":\"timestamp\",\"type\":\"long\",\"nullable\":true,\"metadata\":{}},{\"name\":\"scheduleName\",\"type\":\"string\",\"nullable\":true,\"metadata\":{}},{\"name\":\"smsProperties\",\"type\":{\"type\":\"struct\",\"fields\":[{\"name\":\"service\",\"type\":{\"type\":\"struct\",\"fields\":[{\"name\":\"print\",\"type\":{\"type\":\"struct\",\"fields\":[{\"name\":\"mediaPathList\",\"type\":{\"type\":\"array\",\"elementType\":{\"type\":\"struct\",\"fields\":[{\"name\":\"id\",\"type\":\"string\",\"nullable\":true,\"metadata\":{}},{\"name\":\"type\",\"type\":\"string\",\"nullable\":true,\"metadata\":{}}]},\"containsNull\":true},\"nullable\":true,\"metadata\":{}},{\"name\":\"channelList\",\"type\":{\"type\":\"array\",\"elementType\":{\"type\":\"struct\",\"fields\":[{\"name\":\"id\",\"type\":\"string\",\"nullable\":true,\"metadata\":{}},{\"name\":\"descriptionLanguageDefault\",\"type\":\"string\",\"nullable\":true,\"metadata\":{}},{\"name\":\"mediaPathDefault\",\"type\":\"string\",\"nullable\":true,\"metadata\":{}}]},\"containsNull\":true},\"nullable\":true,\"metadata\":{}},{\"name\":\"descriptionLanguageList\",\"type\":{\"type\":\"array\",\"elementType\":{\"type\":\"struct\",\"fields\":[{\"name\":\"id\",\"type\":\"string\",\"nullable\":true,\"metadata\":{}},{\"name\":\"family\",\"type\":\"string\",\"nullable\":true,\"metadata\":{}},{\"name\":\"version\",\"type\":\"string\",\"nullable\":true,\"metadata\":{}},{\"name\":\"level\",\"type\":\"string\",\"nullable\":true,\"metadata\":{}},{\"name\":\"description\",\"type\":\"string\",\"nullable\":true,\"metadata\":{}},{\"name\":\"orientationDefault\",\"type\":\"string\",\"nullable\":true,\"metadata\":{}},{\"name\":\"langVersion\",\"type\":\"string\",\"nullable\":true,\"metadata\":{}}]},\"containsNull\":true},\"nullable\":true,\"metadata\":{}}]},\"nullable\":true,\"metadata\":{}}]},\"nullable\":true,\"metadata\":{}}]},\"nullable\":true,\"metadata\":{}},{\"name\":\"interface\",\"type\":{\"type\":\"struct\",\"fields\":[{\"name\":\"ethernetList\",\"type\":{\"type\":\"array\",\"elementType\":{\"type\":\"struct\",\"fields\":[{\"name\":\"id\",\"type\":\"string\",\"nullable\":true,\"metadata\":{}},{\"name\":\"type\",\"type\":\"string\",\"nullable\":true,\"metadata\":{}},{\"name\":\"address\",\"type\":\"string\",\"nullable\":true,\"metadata\":{}}]},\"containsNull\":true},\"nullable\":true,\"metadata\":{}},{\"name\":\"ipList\",\"type\":{\"type\":\"array\",\"elementType\":{\"type\":\"struct\",\"fields\":[{\"name\":\"address\",\"type\":\"string\",\"nullable\":true,\"metadata\":{}},{\"name\":\"defaultRoute\",\"type\":\"string\",\"nullable\":true,\"metadata\":{}},{\"name\":\"subnetMask\",\"type\":\"string\",\"nullable\":true,\"metadata\":{}},{\"name\":\"ethernetId\",\"type\":\"string\",\"nullable\":true,\"metadata\":{}}]},\"containsNull\":true},\"nullable\":true,\"metadata\":{}}]},\"nullable\":true,\"metadata\":{}},{\"name\":\"device\",\"type\":{\"type\":\"struct\",\"fields\":[{\"name\":\"memory\",\"type\":{\"type\":\"struct\",\"fields\":[{\"name\":\"size\",\"type\":\"string\",\"nullable\":true,\"metadata\":{}}]},\"nullable\":true,\"metadata\":{}},{\"name\":\"deviceEntryList\",\"type\":{\"type\":\"array\",\"elementType\":{\"type\":\"struct\",\"fields\":[{\"name\":\"type\",\"type\":\"string\",\"nullable\":true,\"metadata\":{}},{\"name\":\"description\",\"type\":\"string\",\"nullable\":true,\"metadata\":{}},{\"name\":\"status\",\"type\":\"string\",\"nullable\":true,\"metadata\":{}},{\"name\":\"errors\",\"type\":\"string\",\"nullable\":true,\"metadata\":{}},{\"name\":\"deviceID\",\"type\":\"string\",\"nullable\":true,\"metadata\":{}},{\"name\":\"deviceIndex\",\"type\":\"string\",\"nullable\":true,\"metadata\":{}}]},\"containsNull\":true},\"nullable\":true,\"metadata\":{}},{\"name\":\"configuration\",\"type\":{\"type\":\"struct\",\"fields\":[{\"name\":\"duplexModule\",\"type\":\"string\",\"nullable\":true,\"metadata\":{}},{\"name\":\"installedOptions\",\"type\":{\"type\":\"struct\",\"fields\":[{\"name\":\"value\",\"type\":\"string\",\"nullable\":true,\"metadata\":{}},{\"name\":\"dsk\",\"type\":\"string\",\"nullable\":true,\"metadata\":{}}]},\"nullable\":true,\"metadata\":{}}]},\"nullable\":true,\"metadata\":{}}]},\"nullable\":true,\"metadata\":{}}]}"
        }
       ],
       "type": "table"
      }
     },
     "output_type": "display_data"
    }
   ],
   "source": [
    "sorted_df1.display()"
   ]
  },
  {
   "cell_type": "code",
   "execution_count": 0,
   "metadata": {
    "application/vnd.databricks.v1+cell": {
     "cellMetadata": {
      "byteLimit": 2048000,
      "rowLimit": 10000
     },
     "inputWidgets": {},
     "nuid": "94a0f72b-3ec6-4699-81eb-a08e026321cf",
     "showTitle": false,
     "tableResultSettingsMap": {},
     "title": ""
    }
   },
   "outputs": [
    {
     "output_type": "stream",
     "name": "stdout",
     "output_type": "stream",
     "text": [
      "+-------------+\n|    timestamp|\n+-------------+\n|1724147812610|\n|1724147812591|\n|1724147812588|\n+-------------+\n\n"
     ]
    }
   ],
   "source": [
    "sorted_df1.select('Body.timestamp').show()"
   ]
  },
  {
   "cell_type": "code",
   "execution_count": 0,
   "metadata": {
    "application/vnd.databricks.v1+cell": {
     "cellMetadata": {
      "byteLimit": 2048000,
      "rowLimit": 10000
     },
     "inputWidgets": {},
     "nuid": "75e5e48a-0328-46d1-8690-315e8f50f30f",
     "showTitle": false,
     "tableResultSettingsMap": {},
     "title": ""
    }
   },
   "outputs": [
    {
     "output_type": "stream",
     "name": "stdout",
     "output_type": "stream",
     "text": [
      "+-------------+---------------------+\n|timestamp    |Time                 |\n+-------------+---------------------+\n|1724147812610|+56606-01-26 11:56:50|\n|1724147812591|+56606-01-26 11:56:31|\n|1724147812588|+56606-01-26 11:56:28|\n+-------------+---------------------+\n\n"
     ]
    }
   ],
   "source": [
    "import pyspark.sql.functions as F\n",
    "df5=sorted_df1.withColumn('Time',F.from_unixtime('Body.timestamp'))\n",
    "df5.select('Body.timestamp','Time').show(truncate=False)"
   ]
  },
  {
   "cell_type": "code",
   "execution_count": 0,
   "metadata": {
    "application/vnd.databricks.v1+cell": {
     "cellMetadata": {
      "byteLimit": 2048000,
      "rowLimit": 10000
     },
     "inputWidgets": {},
     "nuid": "bf1c7bb9-6601-4782-af0a-4449041e3707",
     "showTitle": false,
     "tableResultSettingsMap": {},
     "title": ""
    }
   },
   "outputs": [
    {
     "output_type": "stream",
     "name": "stdout",
     "output_type": "stream",
     "text": [
      "+------------------------+-----------------------------------------------------------------------------------------+--------------------------------------------------------------------------------------------------------------------------------------------------------------------+--------------------------------------------------------------------------------------------------------------------------------------------------------------------------------------------------------------------------------------------------------------------------------------------------------------------------------------------------------------------------------------------------------------------------------------------------------------------------------------------------------------------------------------------------------------------------------------------------------------------------------------------------------------------------------+\n|EnqueuedTimeUtc         |Properties                                                                               |SystemProperties                                                                                                                                                    |Body                                                                                                                                                                                                                                                                                                                                                                                                                                                                                                                                                                                                                                                                            |\n+------------------------+-----------------------------------------------------------------------------------------+--------------------------------------------------------------------------------------------------------------------------------------------------------------------+--------------------------------------------------------------------------------------------------------------------------------------------------------------------------------------------------------------------------------------------------------------------------------------------------------------------------------------------------------------------------------------------------------------------------------------------------------------------------------------------------------------------------------------------------------------------------------------------------------------------------------------------------------------------------------+\n|2024-08-20T09:56:52.609Z|{rp.mib/dev/96d1f469-e0b7-4ee9-8791-41fb1a20-1-3, 96d1f469-e0b7-4ee9-8791-41fb1a20d40f-1}|{96d1f469-e0b7-4ee9-8791-41fb1a20d40f, {\"scope\":\"device\",\"type\":\"sas\",\"issuer\":\"iothub\"}, 638525549558955677, application/JSON, UTF-8, 2024-06-01T09:52:03.1780000Z}|{smsProps, mn=TVgwMDAz:sn=MDUxMTMxMzAwMDM=, 1724147812610, basicUpdate, {{{[{1, simplex}, {2, duplexLongEdgeBinding}, {3, duplexShortEdgeBinding}], [{1, 1, 1}, {2, 1, 1}, {3, 1, 1}, {4, 1, 1}, {5, 1, 1}, {6, 1, 1}, {7, 1, 1}], [{1, langAutomatic, 04.50.Z2.00, , Automatic Switching, portrait, }, {2, langPJL, 04.50.Z2.00, 6, PJL, portrait, 6}, {4, langPCL, 04.50.Z2.00, 5c, PCL5c Emulation, portrait, 5c}, {5, langPCLXL, 04.50.Z2.00, 6, PCL6 Emulation, portrait, 6}, {6, langPS, 04.50.Z2.00, 3, Adobe PostScript 3, portrait, 3018.103}, {7, langPDF, 04.50.Z2.00, 1, Adobe PDF, portrait, 7e}, {8, langTIFF, 04.50.Z2.00, 1, TIFF, portrait, 1}]}}}, null, null}|\n+------------------------+-----------------------------------------------------------------------------------------+--------------------------------------------------------------------------------------------------------------------------------------------------------------------+--------------------------------------------------------------------------------------------------------------------------------------------------------------------------------------------------------------------------------------------------------------------------------------------------------------------------------------------------------------------------------------------------------------------------------------------------------------------------------------------------------------------------------------------------------------------------------------------------------------------------------------------------------------------------------+\n\n"
     ]
    }
   ],
   "source": [
    "newdf=sorted_df1.limit(1)\n",
    "newdf.show(truncate=False)"
   ]
  },
  {
   "cell_type": "code",
   "execution_count": 0,
   "metadata": {
    "application/vnd.databricks.v1+cell": {
     "cellMetadata": {
      "byteLimit": 2048000,
      "rowLimit": 10000
     },
     "inputWidgets": {},
     "nuid": "d0c7e018-2f42-464b-b727-6f9d71743edf",
     "showTitle": false,
     "tableResultSettingsMap": {},
     "title": ""
    }
   },
   "outputs": [],
   "source": [
    "sorted_df1=sorted_df1.subtract(newdf)"
   ]
  },
  {
   "cell_type": "code",
   "execution_count": 0,
   "metadata": {
    "application/vnd.databricks.v1+cell": {
     "cellMetadata": {
      "byteLimit": 2048000,
      "rowLimit": 10000
     },
     "inputWidgets": {},
     "nuid": "b063da6f-9977-4361-82f2-c8e273e8c6bb",
     "showTitle": false,
     "tableResultSettingsMap": {},
     "title": ""
    }
   },
   "outputs": [
    {
     "output_type": "stream",
     "name": "stdout",
     "output_type": "stream",
     "text": [
      "+--------------------+--------------------+--------------------+--------------------+\n|     EnqueuedTimeUtc|          Properties|    SystemProperties|                Body|\n+--------------------+--------------------+--------------------+--------------------+\n|2024-08-20T09:56:...|{rp.mib/dev/96d1f...|{96d1f469-e0b7-4e...|{smsProps, mn=TVg...|\n|2024-08-20T09:56:...|{rp.mib/dev/96d1f...|{96d1f469-e0b7-4e...|{smsProps, mn=TVg...|\n+--------------------+--------------------+--------------------+--------------------+\n\n"
     ]
    }
   ],
   "source": [
    "sorted_df1.show()"
   ]
  },
  {
   "cell_type": "code",
   "execution_count": 0,
   "metadata": {
    "application/vnd.databricks.v1+cell": {
     "cellMetadata": {
      "byteLimit": 2048000,
      "rowLimit": 10000
     },
     "inputWidgets": {},
     "nuid": "86b6ea29-e2b9-4ddc-bd72-eb275dcc6fff",
     "showTitle": false,
     "tableResultSettingsMap": {},
     "title": ""
    }
   },
   "outputs": [],
   "source": [
    "newdf.write.format('delta').mode('overwrite').save('basicUpdate1')"
   ]
  },
  {
   "cell_type": "code",
   "execution_count": 0,
   "metadata": {
    "application/vnd.databricks.v1+cell": {
     "cellMetadata": {
      "byteLimit": 2048000,
      "rowLimit": 10000
     },
     "inputWidgets": {},
     "nuid": "fab49e5d-5d51-4c94-842e-463c07b4619e",
     "showTitle": false,
     "tableResultSettingsMap": {},
     "title": ""
    }
   },
   "outputs": [
    {
     "output_type": "stream",
     "name": "stdout",
     "output_type": "stream",
     "text": [
      "+--------------------+--------------------+--------------------+--------------------+\n|     EnqueuedTimeUtc|          Properties|    SystemProperties|                Body|\n+--------------------+--------------------+--------------------+--------------------+\n|2024-08-20T09:56:...|{rp.mib/dev/96d1f...|{96d1f469-e0b7-4e...|{smsProps, mn=TVg...|\n+--------------------+--------------------+--------------------+--------------------+\n\n"
     ]
    }
   ],
   "source": [
    "df4=spark.read.table('basicUpdate1')\n",
    "df4.show()"
   ]
  },
  {
   "cell_type": "code",
   "execution_count": 0,
   "metadata": {
    "application/vnd.databricks.v1+cell": {
     "cellMetadata": {
      "byteLimit": 2048000,
      "rowLimit": 10000
     },
     "inputWidgets": {},
     "nuid": "d804e2f4-d2b0-4867-b9f9-b9a60f616ec2",
     "showTitle": false,
     "tableResultSettingsMap": {},
     "title": ""
    }
   },
   "outputs": [],
   "source": [
    "from delta.tables import DeltaTable\n",
    "\n",
    "deltatable=DeltaTable.forName(spark,'basicUpdate1')\n"
   ]
  },
  {
   "cell_type": "code",
   "execution_count": 0,
   "metadata": {
    "application/vnd.databricks.v1+cell": {
     "cellMetadata": {
      "byteLimit": 2048000,
      "rowLimit": 10000
     },
     "inputWidgets": {},
     "nuid": "7b7cff1b-50e4-4346-88ff-b823bcbf8edd",
     "showTitle": false,
     "tableResultSettingsMap": {},
     "title": ""
    }
   },
   "outputs": [],
   "source": [
    "deltatable.alias('old').merge(\n",
    "    sorted_df1.alias('new'),\n",
    "    \"old.Body.mnsn = new.Body.mnsn\"\n",
    ").whenMatchedUpdate(\n",
    "    condition=\"new.Body.timestamp > old.Body.timestamp\",\n",
    "    set={'old.Body': 'new.Body','old.EnqueuedTimeUtc': 'new.EnqueuedTimeUtc','old.Properties': 'new.Properties','old.SystemProperties': 'new.SystemProperties'}\n",
    ").whenNotMatchedInsertAll().execute()\n"
   ]
  },
  {
   "cell_type": "code",
   "execution_count": 0,
   "metadata": {
    "application/vnd.databricks.v1+cell": {
     "cellMetadata": {
      "byteLimit": 2048000,
      "rowLimit": 10000
     },
     "inputWidgets": {},
     "nuid": "eb54de26-4709-4e8d-ab2c-1dabc636b770",
     "showTitle": false,
     "tableResultSettingsMap": {},
     "title": ""
    }
   },
   "outputs": [
    {
     "output_type": "display_data",
     "data": {
      "text/html": [
       "<style scoped>\n",
       "  .table-result-container {\n",
       "    max-height: 300px;\n",
       "    overflow: auto;\n",
       "  }\n",
       "  table, th, td {\n",
       "    border: 1px solid black;\n",
       "    border-collapse: collapse;\n",
       "  }\n",
       "  th, td {\n",
       "    padding: 5px;\n",
       "  }\n",
       "  th {\n",
       "    text-align: left;\n",
       "  }\n",
       "</style><div class='table-result-container'><table class='table-result'><thead style='background-color: white'><tr><th>EnqueuedTimeUtc</th><th>Properties</th><th>SystemProperties</th><th>Body</th></tr></thead><tbody><tr><td>2024-08-20T09:56:52.534Z</td><td>List(rp.mib/dev/96d1f469-e0b7-4ee9-8791-41fb1a20-1-1, 96d1f469-e0b7-4ee9-8791-41fb1a20d40f-1)</td><td>List(96d1f469-e0b7-4ee9-8791-41fb1a20d40f, {\"scope\":\"device\",\"type\":\"sas\",\"issuer\":\"iothub\"}, 638525549558955677, application/JSON, UTF-8, 2024-06-01T09:52:03.1780000Z)</td><td>List(smsProps, mn=TVgwMDAx:sn=MDUxMTMxMzAwMDE=, 1724147812588, basicUpdate, List(List(List(List(List(1, simplex), List(2, duplexLongEdgeBinding), List(3, duplexShortEdgeBinding)), List(List(1, 1, 1), List(2, 1, 1), List(3, 1, 1), List(4, 1, 1), List(5, 1, 1), List(6, 1, 1), List(7, 1, 1)), List(List(1, langAutomatic, 04.50.Z2.00, , Automatic Switching, portrait, ), List(2, langPJL, 04.50.Z2.00, 6, PJL, portrait, 6), List(4, langPCL, 04.50.Z2.00, 5c, PCL5c Emulation, portrait, 5c), List(5, langPCLXL, 04.50.Z2.00, 6, PCL6 Emulation, portrait, 6), List(6, langPS, 04.50.Z2.00, 3, Adobe PostScript 3, portrait, 3018.103), List(7, langPDF, 04.50.Z2.00, 1, Adobe PDF, portrait, 7e), List(8, langTIFF, 04.50.Z2.00, 1, TIFF, portrait, 1))))), null, null)</td></tr><tr><td>2024-08-20T09:56:52.589Z</td><td>List(rp.mib/dev/96d1f469-e0b7-4ee9-8791-41fb1a20-1-2, 96d1f469-e0b7-4ee9-8791-41fb1a20d40f-1)</td><td>List(96d1f469-e0b7-4ee9-8791-41fb1a20d40f, {\"scope\":\"device\",\"type\":\"sas\",\"issuer\":\"iothub\"}, 638525549558955677, application/JSON, UTF-8, 2024-06-01T09:52:03.1780000Z)</td><td>List(smsProps, mn=TVgwMDAy:sn=MDUxMTMxMzAwMDI=, 1724147812591, basicUpdate, List(List(List(List(List(1, simplex), List(2, duplexLongEdgeBinding), List(3, duplexShortEdgeBinding)), List(List(1, 1, 1), List(2, 1, 1), List(3, 1, 1), List(4, 1, 1), List(5, 1, 1), List(6, 1, 1), List(7, 1, 1)), List(List(1, langAutomatic, 04.50.Z2.00, , Automatic Switching, portrait, ), List(2, langPJL, 04.50.Z2.00, 6, PJL, portrait, 6), List(4, langPCL, 04.50.Z2.00, 5c, PCL5c Emulation, portrait, 5c), List(5, langPCLXL, 04.50.Z2.00, 6, PCL6 Emulation, portrait, 6), List(6, langPS, 04.50.Z2.00, 3, Adobe PostScript 3, portrait, 3018.103), List(7, langPDF, 04.50.Z2.00, 1, Adobe PDF, portrait, 7e), List(8, langTIFF, 04.50.Z2.00, 1, TIFF, portrait, 1))))), null, null)</td></tr><tr><td>2024-08-20T09:56:52.609Z</td><td>List(rp.mib/dev/96d1f469-e0b7-4ee9-8791-41fb1a20-1-3, 96d1f469-e0b7-4ee9-8791-41fb1a20d40f-1)</td><td>List(96d1f469-e0b7-4ee9-8791-41fb1a20d40f, {\"scope\":\"device\",\"type\":\"sas\",\"issuer\":\"iothub\"}, 638525549558955677, application/JSON, UTF-8, 2024-06-01T09:52:03.1780000Z)</td><td>List(smsProps, mn=TVgwMDAz:sn=MDUxMTMxMzAwMDM=, 1724147812610, basicUpdate, List(List(List(List(List(1, simplex), List(2, duplexLongEdgeBinding), List(3, duplexShortEdgeBinding)), List(List(1, 1, 1), List(2, 1, 1), List(3, 1, 1), List(4, 1, 1), List(5, 1, 1), List(6, 1, 1), List(7, 1, 1)), List(List(1, langAutomatic, 04.50.Z2.00, , Automatic Switching, portrait, ), List(2, langPJL, 04.50.Z2.00, 6, PJL, portrait, 6), List(4, langPCL, 04.50.Z2.00, 5c, PCL5c Emulation, portrait, 5c), List(5, langPCLXL, 04.50.Z2.00, 6, PCL6 Emulation, portrait, 6), List(6, langPS, 04.50.Z2.00, 3, Adobe PostScript 3, portrait, 3018.103), List(7, langPDF, 04.50.Z2.00, 1, Adobe PDF, portrait, 7e), List(8, langTIFF, 04.50.Z2.00, 1, TIFF, portrait, 1))))), null, null)</td></tr></tbody></table></div>"
      ]
     },
     "metadata": {
      "application/vnd.databricks.v1+output": {
       "addedWidgets": {},
       "aggData": [],
       "aggError": "",
       "aggOverflow": false,
       "aggSchema": [],
       "aggSeriesLimitReached": false,
       "aggType": "",
       "arguments": {},
       "columnCustomDisplayInfos": {},
       "data": [
        [
         "2024-08-20T09:56:52.534Z",
         [
          "rp.mib/dev/96d1f469-e0b7-4ee9-8791-41fb1a20-1-1",
          "96d1f469-e0b7-4ee9-8791-41fb1a20d40f-1"
         ],
         [
          "96d1f469-e0b7-4ee9-8791-41fb1a20d40f",
          "{\"scope\":\"device\",\"type\":\"sas\",\"issuer\":\"iothub\"}",
          "638525549558955677",
          "application/JSON",
          "UTF-8",
          "2024-06-01T09:52:03.1780000Z"
         ],
         [
          "smsProps",
          "mn=TVgwMDAx:sn=MDUxMTMxMzAwMDE=",
          1724147812588,
          "basicUpdate",
          [
           [
            [
             [
              [
               "1",
               "simplex"
              ],
              [
               "2",
               "duplexLongEdgeBinding"
              ],
              [
               "3",
               "duplexShortEdgeBinding"
              ]
             ],
             [
              [
               "1",
               "1",
               "1"
              ],
              [
               "2",
               "1",
               "1"
              ],
              [
               "3",
               "1",
               "1"
              ],
              [
               "4",
               "1",
               "1"
              ],
              [
               "5",
               "1",
               "1"
              ],
              [
               "6",
               "1",
               "1"
              ],
              [
               "7",
               "1",
               "1"
              ]
             ],
             [
              [
               "1",
               "langAutomatic",
               "04.50.Z2.00",
               "",
               "Automatic Switching",
               "portrait",
               ""
              ],
              [
               "2",
               "langPJL",
               "04.50.Z2.00",
               "6",
               "PJL",
               "portrait",
               "6"
              ],
              [
               "4",
               "langPCL",
               "04.50.Z2.00",
               "5c",
               "PCL5c Emulation",
               "portrait",
               "5c"
              ],
              [
               "5",
               "langPCLXL",
               "04.50.Z2.00",
               "6",
               "PCL6 Emulation",
               "portrait",
               "6"
              ],
              [
               "6",
               "langPS",
               "04.50.Z2.00",
               "3",
               "Adobe PostScript 3",
               "portrait",
               "3018.103"
              ],
              [
               "7",
               "langPDF",
               "04.50.Z2.00",
               "1",
               "Adobe PDF",
               "portrait",
               "7e"
              ],
              [
               "8",
               "langTIFF",
               "04.50.Z2.00",
               "1",
               "TIFF",
               "portrait",
               "1"
              ]
             ]
            ]
           ]
          ],
          null,
          null
         ]
        ],
        [
         "2024-08-20T09:56:52.589Z",
         [
          "rp.mib/dev/96d1f469-e0b7-4ee9-8791-41fb1a20-1-2",
          "96d1f469-e0b7-4ee9-8791-41fb1a20d40f-1"
         ],
         [
          "96d1f469-e0b7-4ee9-8791-41fb1a20d40f",
          "{\"scope\":\"device\",\"type\":\"sas\",\"issuer\":\"iothub\"}",
          "638525549558955677",
          "application/JSON",
          "UTF-8",
          "2024-06-01T09:52:03.1780000Z"
         ],
         [
          "smsProps",
          "mn=TVgwMDAy:sn=MDUxMTMxMzAwMDI=",
          1724147812591,
          "basicUpdate",
          [
           [
            [
             [
              [
               "1",
               "simplex"
              ],
              [
               "2",
               "duplexLongEdgeBinding"
              ],
              [
               "3",
               "duplexShortEdgeBinding"
              ]
             ],
             [
              [
               "1",
               "1",
               "1"
              ],
              [
               "2",
               "1",
               "1"
              ],
              [
               "3",
               "1",
               "1"
              ],
              [
               "4",
               "1",
               "1"
              ],
              [
               "5",
               "1",
               "1"
              ],
              [
               "6",
               "1",
               "1"
              ],
              [
               "7",
               "1",
               "1"
              ]
             ],
             [
              [
               "1",
               "langAutomatic",
               "04.50.Z2.00",
               "",
               "Automatic Switching",
               "portrait",
               ""
              ],
              [
               "2",
               "langPJL",
               "04.50.Z2.00",
               "6",
               "PJL",
               "portrait",
               "6"
              ],
              [
               "4",
               "langPCL",
               "04.50.Z2.00",
               "5c",
               "PCL5c Emulation",
               "portrait",
               "5c"
              ],
              [
               "5",
               "langPCLXL",
               "04.50.Z2.00",
               "6",
               "PCL6 Emulation",
               "portrait",
               "6"
              ],
              [
               "6",
               "langPS",
               "04.50.Z2.00",
               "3",
               "Adobe PostScript 3",
               "portrait",
               "3018.103"
              ],
              [
               "7",
               "langPDF",
               "04.50.Z2.00",
               "1",
               "Adobe PDF",
               "portrait",
               "7e"
              ],
              [
               "8",
               "langTIFF",
               "04.50.Z2.00",
               "1",
               "TIFF",
               "portrait",
               "1"
              ]
             ]
            ]
           ]
          ],
          null,
          null
         ]
        ],
        [
         "2024-08-20T09:56:52.609Z",
         [
          "rp.mib/dev/96d1f469-e0b7-4ee9-8791-41fb1a20-1-3",
          "96d1f469-e0b7-4ee9-8791-41fb1a20d40f-1"
         ],
         [
          "96d1f469-e0b7-4ee9-8791-41fb1a20d40f",
          "{\"scope\":\"device\",\"type\":\"sas\",\"issuer\":\"iothub\"}",
          "638525549558955677",
          "application/JSON",
          "UTF-8",
          "2024-06-01T09:52:03.1780000Z"
         ],
         [
          "smsProps",
          "mn=TVgwMDAz:sn=MDUxMTMxMzAwMDM=",
          1724147812610,
          "basicUpdate",
          [
           [
            [
             [
              [
               "1",
               "simplex"
              ],
              [
               "2",
               "duplexLongEdgeBinding"
              ],
              [
               "3",
               "duplexShortEdgeBinding"
              ]
             ],
             [
              [
               "1",
               "1",
               "1"
              ],
              [
               "2",
               "1",
               "1"
              ],
              [
               "3",
               "1",
               "1"
              ],
              [
               "4",
               "1",
               "1"
              ],
              [
               "5",
               "1",
               "1"
              ],
              [
               "6",
               "1",
               "1"
              ],
              [
               "7",
               "1",
               "1"
              ]
             ],
             [
              [
               "1",
               "langAutomatic",
               "04.50.Z2.00",
               "",
               "Automatic Switching",
               "portrait",
               ""
              ],
              [
               "2",
               "langPJL",
               "04.50.Z2.00",
               "6",
               "PJL",
               "portrait",
               "6"
              ],
              [
               "4",
               "langPCL",
               "04.50.Z2.00",
               "5c",
               "PCL5c Emulation",
               "portrait",
               "5c"
              ],
              [
               "5",
               "langPCLXL",
               "04.50.Z2.00",
               "6",
               "PCL6 Emulation",
               "portrait",
               "6"
              ],
              [
               "6",
               "langPS",
               "04.50.Z2.00",
               "3",
               "Adobe PostScript 3",
               "portrait",
               "3018.103"
              ],
              [
               "7",
               "langPDF",
               "04.50.Z2.00",
               "1",
               "Adobe PDF",
               "portrait",
               "7e"
              ],
              [
               "8",
               "langTIFF",
               "04.50.Z2.00",
               "1",
               "TIFF",
               "portrait",
               "1"
              ]
             ]
            ]
           ]
          ],
          null,
          null
         ]
        ]
       ],
       "datasetInfos": [],
       "dbfsResultPath": null,
       "isJsonSchema": true,
       "metadata": {},
       "overflow": false,
       "plotOptions": {
        "customPlotOptions": {},
        "displayType": "table",
        "pivotAggregation": null,
        "pivotColumns": null,
        "xColumns": null,
        "yColumns": null
       },
       "removedWidgets": [],
       "schema": [
        {
         "metadata": "{}",
         "name": "EnqueuedTimeUtc",
         "type": "\"string\""
        },
        {
         "metadata": "{}",
         "name": "Properties",
         "type": "{\"type\":\"struct\",\"fields\":[{\"name\":\"appTopic\",\"type\":\"string\",\"nullable\":true,\"metadata\":{}},{\"name\":\"relatedGroupId\",\"type\":\"string\",\"nullable\":true,\"metadata\":{}}]}"
        },
        {
         "metadata": "{}",
         "name": "SystemProperties",
         "type": "{\"type\":\"struct\",\"fields\":[{\"name\":\"connectionDeviceId\",\"type\":\"string\",\"nullable\":true,\"metadata\":{}},{\"name\":\"connectionAuthMethod\",\"type\":\"string\",\"nullable\":true,\"metadata\":{}},{\"name\":\"connectionDeviceGenerationId\",\"type\":\"string\",\"nullable\":true,\"metadata\":{}},{\"name\":\"contentType\",\"type\":\"string\",\"nullable\":true,\"metadata\":{}},{\"name\":\"contentEncoding\",\"type\":\"string\",\"nullable\":true,\"metadata\":{}},{\"name\":\"enqueuedTime\",\"type\":\"string\",\"nullable\":true,\"metadata\":{}}]}"
        },
        {
         "metadata": "{}",
         "name": "Body",
         "type": "{\"type\":\"struct\",\"fields\":[{\"name\":\"type\",\"type\":\"string\",\"nullable\":true,\"metadata\":{}},{\"name\":\"mnsn\",\"type\":\"string\",\"nullable\":true,\"metadata\":{}},{\"name\":\"timestamp\",\"type\":\"long\",\"nullable\":true,\"metadata\":{}},{\"name\":\"scheduleName\",\"type\":\"string\",\"nullable\":true,\"metadata\":{}},{\"name\":\"smsProperties\",\"type\":{\"type\":\"struct\",\"fields\":[{\"name\":\"service\",\"type\":{\"type\":\"struct\",\"fields\":[{\"name\":\"print\",\"type\":{\"type\":\"struct\",\"fields\":[{\"name\":\"mediaPathList\",\"type\":{\"type\":\"array\",\"elementType\":{\"type\":\"struct\",\"fields\":[{\"name\":\"id\",\"type\":\"string\",\"nullable\":true,\"metadata\":{}},{\"name\":\"type\",\"type\":\"string\",\"nullable\":true,\"metadata\":{}}]},\"containsNull\":true},\"nullable\":true,\"metadata\":{}},{\"name\":\"channelList\",\"type\":{\"type\":\"array\",\"elementType\":{\"type\":\"struct\",\"fields\":[{\"name\":\"id\",\"type\":\"string\",\"nullable\":true,\"metadata\":{}},{\"name\":\"descriptionLanguageDefault\",\"type\":\"string\",\"nullable\":true,\"metadata\":{}},{\"name\":\"mediaPathDefault\",\"type\":\"string\",\"nullable\":true,\"metadata\":{}}]},\"containsNull\":true},\"nullable\":true,\"metadata\":{}},{\"name\":\"descriptionLanguageList\",\"type\":{\"type\":\"array\",\"elementType\":{\"type\":\"struct\",\"fields\":[{\"name\":\"id\",\"type\":\"string\",\"nullable\":true,\"metadata\":{}},{\"name\":\"family\",\"type\":\"string\",\"nullable\":true,\"metadata\":{}},{\"name\":\"version\",\"type\":\"string\",\"nullable\":true,\"metadata\":{}},{\"name\":\"level\",\"type\":\"string\",\"nullable\":true,\"metadata\":{}},{\"name\":\"description\",\"type\":\"string\",\"nullable\":true,\"metadata\":{}},{\"name\":\"orientationDefault\",\"type\":\"string\",\"nullable\":true,\"metadata\":{}},{\"name\":\"langVersion\",\"type\":\"string\",\"nullable\":true,\"metadata\":{}}]},\"containsNull\":true},\"nullable\":true,\"metadata\":{}}]},\"nullable\":true,\"metadata\":{}}]},\"nullable\":true,\"metadata\":{}}]},\"nullable\":true,\"metadata\":{}},{\"name\":\"interface\",\"type\":{\"type\":\"struct\",\"fields\":[{\"name\":\"ethernetList\",\"type\":{\"type\":\"array\",\"elementType\":{\"type\":\"struct\",\"fields\":[{\"name\":\"id\",\"type\":\"string\",\"nullable\":true,\"metadata\":{}},{\"name\":\"type\",\"type\":\"string\",\"nullable\":true,\"metadata\":{}},{\"name\":\"address\",\"type\":\"string\",\"nullable\":true,\"metadata\":{}}]},\"containsNull\":true},\"nullable\":true,\"metadata\":{}},{\"name\":\"ipList\",\"type\":{\"type\":\"array\",\"elementType\":{\"type\":\"struct\",\"fields\":[{\"name\":\"address\",\"type\":\"string\",\"nullable\":true,\"metadata\":{}},{\"name\":\"defaultRoute\",\"type\":\"string\",\"nullable\":true,\"metadata\":{}},{\"name\":\"subnetMask\",\"type\":\"string\",\"nullable\":true,\"metadata\":{}},{\"name\":\"ethernetId\",\"type\":\"string\",\"nullable\":true,\"metadata\":{}}]},\"containsNull\":true},\"nullable\":true,\"metadata\":{}}]},\"nullable\":true,\"metadata\":{}},{\"name\":\"device\",\"type\":{\"type\":\"struct\",\"fields\":[{\"name\":\"memory\",\"type\":{\"type\":\"struct\",\"fields\":[{\"name\":\"size\",\"type\":\"string\",\"nullable\":true,\"metadata\":{}}]},\"nullable\":true,\"metadata\":{}},{\"name\":\"deviceEntryList\",\"type\":{\"type\":\"array\",\"elementType\":{\"type\":\"struct\",\"fields\":[{\"name\":\"type\",\"type\":\"string\",\"nullable\":true,\"metadata\":{}},{\"name\":\"description\",\"type\":\"string\",\"nullable\":true,\"metadata\":{}},{\"name\":\"status\",\"type\":\"string\",\"nullable\":true,\"metadata\":{}},{\"name\":\"errors\",\"type\":\"string\",\"nullable\":true,\"metadata\":{}},{\"name\":\"deviceID\",\"type\":\"string\",\"nullable\":true,\"metadata\":{}},{\"name\":\"deviceIndex\",\"type\":\"string\",\"nullable\":true,\"metadata\":{}}]},\"containsNull\":true},\"nullable\":true,\"metadata\":{}},{\"name\":\"configuration\",\"type\":{\"type\":\"struct\",\"fields\":[{\"name\":\"duplexModule\",\"type\":\"string\",\"nullable\":true,\"metadata\":{}},{\"name\":\"installedOptions\",\"type\":{\"type\":\"struct\",\"fields\":[{\"name\":\"value\",\"type\":\"string\",\"nullable\":true,\"metadata\":{}},{\"name\":\"dsk\",\"type\":\"string\",\"nullable\":true,\"metadata\":{}}]},\"nullable\":true,\"metadata\":{}}]},\"nullable\":true,\"metadata\":{}}]},\"nullable\":true,\"metadata\":{}}]}"
        }
       ],
       "type": "table"
      }
     },
     "output_type": "display_data"
    }
   ],
   "source": [
    "df4=spark.read.table('basicUpdate1')\n",
    "df4.display()\n",
    "\n"
   ]
  },
  {
   "cell_type": "code",
   "execution_count": 0,
   "metadata": {
    "application/vnd.databricks.v1+cell": {
     "cellMetadata": {
      "byteLimit": 2048000,
      "rowLimit": 10000
     },
     "inputWidgets": {},
     "nuid": "748f2cdf-495d-411c-b296-9927a9e45b3d",
     "showTitle": false,
     "tableResultSettingsMap": {},
     "title": ""
    }
   },
   "outputs": [],
   "source": [
    "dataframe=spark.read.format('json').schema(schema).load('dbfs:/FileStore/tables/New3.json')"
   ]
  },
  {
   "cell_type": "code",
   "execution_count": 0,
   "metadata": {
    "application/vnd.databricks.v1+cell": {
     "cellMetadata": {
      "byteLimit": 2048000,
      "rowLimit": 10000
     },
     "inputWidgets": {},
     "nuid": "31c236c8-5510-4372-8281-4f8c4421f79b",
     "showTitle": false,
     "tableResultSettingsMap": {},
     "title": ""
    }
   },
   "outputs": [
    {
     "output_type": "stream",
     "name": "stdout",
     "output_type": "stream",
     "text": [
      "+--------------------+--------------------+--------------------+--------------------+\n|     EnqueuedTimeUtc|          Properties|    SystemProperties|                Body|\n+--------------------+--------------------+--------------------+--------------------+\n|2024-08-20T09:56:...|{rp.mib/dev/96d1f...|{96d1f469-e0b7-4e...|{smsProps, mn=TVg...|\n|2024-08-20T09:56:...|{rp.mib/dev/96d1f...|{5b98aa47-2d23-4b...|{smsProps, mn=TVg...|\n|2024-08-20T09:56:...|{rp.mib/dev/96d1f...|{96d1f469-e0b7-4e...|{smsProps, mn=TVg...|\n|2024-08-20T09:56:...|{rp.mib/dev/96d1f...|{a0ba43aa-f3c1-42...|{smsProps, mn=TVg...|\n|2024-08-20T09:56:...|{rp.mib/dev/96d1f...|{96d1f469-e0b7-4e...|{smsProps, mn=TVg...|\n|2024-08-20T09:56:...|{rp.mib/dev/96d1f...|{5b98aa47-2d23-4b...|{smsProps, mn=TVg...|\n|2024-08-20T09:56:...|{rp.mib/dev/96d1f...|{96d1f469-e0b7-4e...|{smsProps, mn=TVg...|\n|2024-08-20T09:56:...|{rp.mib/dev/96d1f...|{a0ba43aa-f3c1-42...|{smsProps, mn=TVg...|\n|2024-08-20T09:56:...|{rp.mib/dev/96d1f...|{96d1f469-e0b7-4e...|{smsProps, mn=TVg...|\n|2024-08-20T09:56:...|{rp.mib/dev/96d1f...|{5b98aa47-2d23-4b...|{smsProps, mn=TVg...|\n+--------------------+--------------------+--------------------+--------------------+\n\n"
     ]
    }
   ],
   "source": [
    "dataframe.show()"
   ]
  },
  {
   "cell_type": "code",
   "execution_count": 0,
   "metadata": {
    "application/vnd.databricks.v1+cell": {
     "cellMetadata": {
      "byteLimit": 2048000,
      "rowLimit": 10000
     },
     "inputWidgets": {},
     "nuid": "40f51972-96d3-4bb7-8457-be745a8d620c",
     "showTitle": false,
     "tableResultSettingsMap": {},
     "title": ""
    }
   },
   "outputs": [
    {
     "output_type": "stream",
     "name": "stdout",
     "output_type": "stream",
     "text": [
      "+--------------+\n|  scheduleName|\n+--------------+\n|  deviceStatus|\n|   basicUpdate|\n| counterUpdate|\n|suppliesUpdate|\n+--------------+\n\n"
     ]
    }
   ],
   "source": [
    "dataframe.select('Body.scheduleName').distinct().show()"
   ]
  },
  {
   "cell_type": "code",
   "execution_count": 0,
   "metadata": {
    "application/vnd.databricks.v1+cell": {
     "cellMetadata": {
      "byteLimit": 2048000,
      "rowLimit": 10000
     },
     "inputWidgets": {},
     "nuid": "a4365942-c597-4444-9a1d-631fec6999f3",
     "showTitle": false,
     "tableResultSettingsMap": {},
     "title": ""
    }
   },
   "outputs": [
    {
     "output_type": "stream",
     "name": "stdout",
     "output_type": "stream",
     "text": [
      "+--------------------+--------------------+--------------------+--------------------+\n|     EnqueuedTimeUtc|          Properties|    SystemProperties|                Body|\n+--------------------+--------------------+--------------------+--------------------+\n|2024-08-20T09:56:...|{rp.mib/dev/96d1f...|{96d1f469-e0b7-4e...|{smsProps, mn=TVg...|\n|2024-08-20T09:56:...|{rp.mib/dev/96d1f...|{96d1f469-e0b7-4e...|{smsProps, mn=TVg...|\n+--------------------+--------------------+--------------------+--------------------+\n\n"
     ]
    }
   ],
   "source": [
    "df6=dataframe.filter(dataframe['Body.scheduleName']=='basicUpdate')\n",
    "df6.show()"
   ]
  },
  {
   "cell_type": "code",
   "execution_count": 0,
   "metadata": {
    "application/vnd.databricks.v1+cell": {
     "cellMetadata": {
      "byteLimit": 2048000,
      "rowLimit": 10000
     },
     "inputWidgets": {},
     "nuid": "3ce570a2-557f-489b-934a-188cda29d207",
     "showTitle": false,
     "tableResultSettingsMap": {},
     "title": ""
    }
   },
   "outputs": [],
   "source": [
    "sorted_df2=df6.orderBy(dataframe['Body.timestamp'].desc())"
   ]
  },
  {
   "cell_type": "code",
   "execution_count": 0,
   "metadata": {
    "application/vnd.databricks.v1+cell": {
     "cellMetadata": {
      "byteLimit": 2048000,
      "rowLimit": 10000
     },
     "inputWidgets": {},
     "nuid": "0807e681-0f6d-4c48-9d6a-0f91c1880846",
     "showTitle": false,
     "tableResultSettingsMap": {},
     "title": ""
    }
   },
   "outputs": [
    {
     "output_type": "stream",
     "name": "stdout",
     "output_type": "stream",
     "text": [
      "+--------------------+--------------------+--------------------+--------------------+\n|     EnqueuedTimeUtc|          Properties|    SystemProperties|                Body|\n+--------------------+--------------------+--------------------+--------------------+\n|2024-08-20T09:56:...|{rp.mib/dev/96d1f...|{96d1f469-e0b7-4e...|{smsProps, mn=TVg...|\n|2024-08-20T09:56:...|{rp.mib/dev/96d1f...|{96d1f469-e0b7-4e...|{smsProps, mn=TVg...|\n+--------------------+--------------------+--------------------+--------------------+\n\n"
     ]
    }
   ],
   "source": [
    "sorted_df2.show()"
   ]
  },
  {
   "cell_type": "code",
   "execution_count": 0,
   "metadata": {
    "application/vnd.databricks.v1+cell": {
     "cellMetadata": {
      "byteLimit": 2048000,
      "rowLimit": 10000
     },
     "inputWidgets": {},
     "nuid": "dd511850-4059-44a1-81d9-7dc707b30d9d",
     "showTitle": false,
     "tableResultSettingsMap": {},
     "title": ""
    }
   },
   "outputs": [
    {
     "output_type": "stream",
     "name": "stdout",
     "output_type": "stream",
     "text": [
      "+-------------+\n|    timestamp|\n+-------------+\n|1724147812619|\n|1724147812615|\n+-------------+\n\n"
     ]
    }
   ],
   "source": [
    "sorted_df2.select('Body.timestamp').show()"
   ]
  },
  {
   "cell_type": "code",
   "execution_count": 0,
   "metadata": {
    "application/vnd.databricks.v1+cell": {
     "cellMetadata": {
      "byteLimit": 2048000,
      "rowLimit": 10000
     },
     "inputWidgets": {},
     "nuid": "43c5d202-3339-4c8b-b297-03579400b46d",
     "showTitle": false,
     "tableResultSettingsMap": {},
     "title": ""
    }
   },
   "outputs": [
    {
     "output_type": "stream",
     "name": "stdout",
     "output_type": "stream",
     "text": [
      "+--------------------------------------------------------------------------------------------------------------------------------------------------------------------------------------------------------------------------------------------------------------------------------------------------------------------------------------------------------------------------------------------------------------------------------------------------------------------------------------------------------------------------------------------------------------------------------------------------------------------------------------------------------------------------------+\n|Body                                                                                                                                                                                                                                                                                                                                                                                                                                                                                                                                                                                                                                                                            |\n+--------------------------------------------------------------------------------------------------------------------------------------------------------------------------------------------------------------------------------------------------------------------------------------------------------------------------------------------------------------------------------------------------------------------------------------------------------------------------------------------------------------------------------------------------------------------------------------------------------------------------------------------------------------------------------+\n|{smsProps, mn=TVgwMDA1:sn=MDUxMTMxMzAwMDU=, 1724147812619, basicUpdate, {{{[{1, simplex}, {2, duplexLongEdgeBinding}, {3, duplexShortEdgeBinding}], [{1, 1, 1}, {2, 1, 1}, {3, 1, 1}, {4, 1, 1}, {5, 1, 1}, {6, 1, 1}, {7, 1, 1}], [{1, langAutomatic, 04.50.Z2.00, , Automatic Switching, portrait, }, {2, langPJL, 04.50.Z2.00, 6, PJL, portrait, 6}, {4, langPCL, 04.50.Z2.00, 5c, PCL5c Emulation, portrait, 5c}, {5, langPCLXL, 04.50.Z2.00, 6, PCL6 Emulation, portrait, 6}, {6, langPS, 04.50.Z2.00, 3, Adobe PostScript 3, portrait, 3018.103}, {7, langPDF, 04.50.Z2.00, 1, Adobe PDF, portrait, 7e}, {8, langTIFF, 04.50.Z2.00, 1, TIFF, portrait, 1}]}}}, null, null}|\n|{smsProps, mn=TVgwMDAx:sn=MDUxMTMxMzAwMDE=, 1724147812615, basicUpdate, {{{[{1, simplex}, {2, duplexLongEdgeBinding}, {3, duplexShortEdgeBinding}], [{1, 1, 1}, {2, 1, 1}, {3, 1, 1}, {4, 1, 1}, {5, 1, 1}, {6, 1, 1}, {7, 1, 1}], [{1, langAutomatic, 04.50.Z2.00, , Automatic Switching, portrait, }, {2, langPJL, 04.50.Z2.00, 6, PJL, portrait, 6}, {4, langPCL, 04.50.Z2.00, 5c, PCL5c Emulation, portrait, 5c}, {5, langPCLXL, 04.50.Z2.00, 6, PCL6 Emulation, portrait, 6}, {6, langPS, 04.50.Z2.00, 3, Adobe PostScript 3, portrait, 3018.103}, {7, langPDF, 04.50.Z2.00, 1, Adobe PDF, portrait, 7e}, {8, langTIFF, 04.50.Z2.00, 1, TIFF, portrait, 1}]}}}, null, null}|\n+--------------------------------------------------------------------------------------------------------------------------------------------------------------------------------------------------------------------------------------------------------------------------------------------------------------------------------------------------------------------------------------------------------------------------------------------------------------------------------------------------------------------------------------------------------------------------------------------------------------------------------------------------------------------------------+\n\n"
     ]
    }
   ],
   "source": [
    "sorted_df2.select('Body').show(truncate=False)"
   ]
  },
  {
   "cell_type": "code",
   "execution_count": 0,
   "metadata": {
    "application/vnd.databricks.v1+cell": {
     "cellMetadata": {
      "byteLimit": 2048000,
      "rowLimit": 10000
     },
     "inputWidgets": {},
     "nuid": "27af3899-cf2f-46f5-bf5f-47b00d7dcd52",
     "showTitle": false,
     "tableResultSettingsMap": {},
     "title": ""
    }
   },
   "outputs": [
    {
     "output_type": "stream",
     "name": "stdout",
     "output_type": "stream",
     "text": [
      "+-----------------------------------------------------------------------------------------+\n|Properties                                                                               |\n+-----------------------------------------------------------------------------------------+\n|{rp.mib/dev/96d1f469-e0b7-4ee9-8791-41fb1a20-1-5, 96d1f469-e0b7-4ee9-8791-41fb1a20d40f-1}|\n|{rp.mib/dev/96d1f469-e0b7-4ee9-8791-41fb1a20-1-4, 96d1f469-e0b7-4ee9-8791-41fb1a20d40f-1}|\n+-----------------------------------------------------------------------------------------+\n\n"
     ]
    }
   ],
   "source": [
    "sorted_df2.select('Properties').show(truncate=False)"
   ]
  },
  {
   "cell_type": "code",
   "execution_count": 0,
   "metadata": {
    "application/vnd.databricks.v1+cell": {
     "cellMetadata": {
      "byteLimit": 2048000,
      "rowLimit": 10000
     },
     "inputWidgets": {},
     "nuid": "2e988edb-ef8c-42ce-af7a-20f695168a0c",
     "showTitle": false,
     "tableResultSettingsMap": {},
     "title": ""
    }
   },
   "outputs": [
    {
     "output_type": "stream",
     "name": "stdout",
     "output_type": "stream",
     "text": [
      "+-----------------------------------------------------------------------------------------+\n|Properties                                                                               |\n+-----------------------------------------------------------------------------------------+\n|{rp.mib/dev/96d1f469-e0b7-4ee9-8791-41fb1a20-1-1, 96d1f469-e0b7-4ee9-8791-41fb1a20d40f-1}|\n|{rp.mib/dev/96d1f469-e0b7-4ee9-8791-41fb1a20-1-2, 96d1f469-e0b7-4ee9-8791-41fb1a20d40f-1}|\n|{rp.mib/dev/96d1f469-e0b7-4ee9-8791-41fb1a20-1-3, 96d1f469-e0b7-4ee9-8791-41fb1a20d40f-1}|\n+-----------------------------------------------------------------------------------------+\n\n"
     ]
    }
   ],
   "source": [
    "df4.select('Properties').show(truncate=False)"
   ]
  },
  {
   "cell_type": "code",
   "execution_count": 0,
   "metadata": {
    "application/vnd.databricks.v1+cell": {
     "cellMetadata": {
      "byteLimit": 2048000,
      "rowLimit": 10000
     },
     "inputWidgets": {},
     "nuid": "5c9103cb-cc15-4638-926e-79195105d5af",
     "showTitle": false,
     "tableResultSettingsMap": {},
     "title": ""
    }
   },
   "outputs": [],
   "source": [
    "deltatable.alias('old').merge(\n",
    "    sorted_df2.alias('new'),\n",
    "    \"old.Body.mnsn = new.Body.mnsn\"\n",
    ").whenMatchedUpdate(\n",
    "    condition=\"new.Body.timestamp > old.Body.timestamp\",\n",
    "    set={'old.Body': 'new.Body','old.EnqueuedTimeUtc': 'new.EnqueuedTimeUtc','old.Properties': 'new.Properties','old.SystemProperties': 'new.SystemProperties'}\n",
    ").whenNotMatchedInsertAll().execute()"
   ]
  },
  {
   "cell_type": "code",
   "execution_count": 0,
   "metadata": {
    "application/vnd.databricks.v1+cell": {
     "cellMetadata": {
      "byteLimit": 2048000,
      "rowLimit": 10000
     },
     "inputWidgets": {},
     "nuid": "50861138-b557-421d-97b1-ea85f8722bec",
     "showTitle": false,
     "tableResultSettingsMap": {},
     "title": ""
    }
   },
   "outputs": [
    {
     "output_type": "stream",
     "name": "stdout",
     "output_type": "stream",
     "text": [
      "+-----------------------------------------------------------------------------------------+\n|Properties                                                                               |\n+-----------------------------------------------------------------------------------------+\n|{rp.mib/dev/96d1f469-e0b7-4ee9-8791-41fb1a20-1-5, 96d1f469-e0b7-4ee9-8791-41fb1a20d40f-1}|\n|{rp.mib/dev/96d1f469-e0b7-4ee9-8791-41fb1a20-1-4, 96d1f469-e0b7-4ee9-8791-41fb1a20d40f-1}|\n|{rp.mib/dev/96d1f469-e0b7-4ee9-8791-41fb1a20-1-3, 96d1f469-e0b7-4ee9-8791-41fb1a20d40f-1}|\n|{rp.mib/dev/96d1f469-e0b7-4ee9-8791-41fb1a20-1-2, 96d1f469-e0b7-4ee9-8791-41fb1a20d40f-1}|\n+-----------------------------------------------------------------------------------------+\n\n"
     ]
    }
   ],
   "source": [
    "df4.select('Properties').show(truncate=False)"
   ]
  },
  {
   "cell_type": "code",
   "execution_count": 0,
   "metadata": {
    "application/vnd.databricks.v1+cell": {
     "cellMetadata": {
      "byteLimit": 2048000,
      "rowLimit": 10000
     },
     "inputWidgets": {},
     "nuid": "442b22c4-5b9f-4e00-b96e-5a5d603f4e0c",
     "showTitle": false,
     "tableResultSettingsMap": {},
     "title": ""
    }
   },
   "outputs": [
    {
     "output_type": "stream",
     "name": "stdout",
     "output_type": "stream",
     "text": [
      "+--------------------------------------------------------------------------------------------------------------------------------------------------------------------------------------------------------------------------------------------------------------------------------------------------------------------------------------------------------------------------------------------------------------------------------------------------------------------------------------------------------------------------------------------------------------------------------------------------------------------------------------------------------------------------------+\n|Body                                                                                                                                                                                                                                                                                                                                                                                                                                                                                                                                                                                                                                                                            |\n+--------------------------------------------------------------------------------------------------------------------------------------------------------------------------------------------------------------------------------------------------------------------------------------------------------------------------------------------------------------------------------------------------------------------------------------------------------------------------------------------------------------------------------------------------------------------------------------------------------------------------------------------------------------------------------+\n|{smsProps, mn=TVgwMDA1:sn=MDUxMTMxMzAwMDU=, 1724147812619, basicUpdate, {{{[{1, simplex}, {2, duplexLongEdgeBinding}, {3, duplexShortEdgeBinding}], [{1, 1, 1}, {2, 1, 1}, {3, 1, 1}, {4, 1, 1}, {5, 1, 1}, {6, 1, 1}, {7, 1, 1}], [{1, langAutomatic, 04.50.Z2.00, , Automatic Switching, portrait, }, {2, langPJL, 04.50.Z2.00, 6, PJL, portrait, 6}, {4, langPCL, 04.50.Z2.00, 5c, PCL5c Emulation, portrait, 5c}, {5, langPCLXL, 04.50.Z2.00, 6, PCL6 Emulation, portrait, 6}, {6, langPS, 04.50.Z2.00, 3, Adobe PostScript 3, portrait, 3018.103}, {7, langPDF, 04.50.Z2.00, 1, Adobe PDF, portrait, 7e}, {8, langTIFF, 04.50.Z2.00, 1, TIFF, portrait, 1}]}}}, null, null}|\n|{smsProps, mn=TVgwMDAx:sn=MDUxMTMxMzAwMDE=, 1724147812615, basicUpdate, {{{[{1, simplex}, {2, duplexLongEdgeBinding}, {3, duplexShortEdgeBinding}], [{1, 1, 1}, {2, 1, 1}, {3, 1, 1}, {4, 1, 1}, {5, 1, 1}, {6, 1, 1}, {7, 1, 1}], [{1, langAutomatic, 04.50.Z2.00, , Automatic Switching, portrait, }, {2, langPJL, 04.50.Z2.00, 6, PJL, portrait, 6}, {4, langPCL, 04.50.Z2.00, 5c, PCL5c Emulation, portrait, 5c}, {5, langPCLXL, 04.50.Z2.00, 6, PCL6 Emulation, portrait, 6}, {6, langPS, 04.50.Z2.00, 3, Adobe PostScript 3, portrait, 3018.103}, {7, langPDF, 04.50.Z2.00, 1, Adobe PDF, portrait, 7e}, {8, langTIFF, 04.50.Z2.00, 1, TIFF, portrait, 1}]}}}, null, null}|\n|{smsProps, mn=TVgwMDAz:sn=MDUxMTMxMzAwMDM=, 1724147812610, basicUpdate, {{{[{1, simplex}, {2, duplexLongEdgeBinding}, {3, duplexShortEdgeBinding}], [{1, 1, 1}, {2, 1, 1}, {3, 1, 1}, {4, 1, 1}, {5, 1, 1}, {6, 1, 1}, {7, 1, 1}], [{1, langAutomatic, 04.50.Z2.00, , Automatic Switching, portrait, }, {2, langPJL, 04.50.Z2.00, 6, PJL, portrait, 6}, {4, langPCL, 04.50.Z2.00, 5c, PCL5c Emulation, portrait, 5c}, {5, langPCLXL, 04.50.Z2.00, 6, PCL6 Emulation, portrait, 6}, {6, langPS, 04.50.Z2.00, 3, Adobe PostScript 3, portrait, 3018.103}, {7, langPDF, 04.50.Z2.00, 1, Adobe PDF, portrait, 7e}, {8, langTIFF, 04.50.Z2.00, 1, TIFF, portrait, 1}]}}}, null, null}|\n|{smsProps, mn=TVgwMDAy:sn=MDUxMTMxMzAwMDI=, 1724147812591, basicUpdate, {{{[{1, simplex}, {2, duplexLongEdgeBinding}, {3, duplexShortEdgeBinding}], [{1, 1, 1}, {2, 1, 1}, {3, 1, 1}, {4, 1, 1}, {5, 1, 1}, {6, 1, 1}, {7, 1, 1}], [{1, langAutomatic, 04.50.Z2.00, , Automatic Switching, portrait, }, {2, langPJL, 04.50.Z2.00, 6, PJL, portrait, 6}, {4, langPCL, 04.50.Z2.00, 5c, PCL5c Emulation, portrait, 5c}, {5, langPCLXL, 04.50.Z2.00, 6, PCL6 Emulation, portrait, 6}, {6, langPS, 04.50.Z2.00, 3, Adobe PostScript 3, portrait, 3018.103}, {7, langPDF, 04.50.Z2.00, 1, Adobe PDF, portrait, 7e}, {8, langTIFF, 04.50.Z2.00, 1, TIFF, portrait, 1}]}}}, null, null}|\n+--------------------------------------------------------------------------------------------------------------------------------------------------------------------------------------------------------------------------------------------------------------------------------------------------------------------------------------------------------------------------------------------------------------------------------------------------------------------------------------------------------------------------------------------------------------------------------------------------------------------------------------------------------------------------------+\n\n"
     ]
    }
   ],
   "source": [
    "df4.select('Body').show(truncate=False)"
   ]
  },
  {
   "cell_type": "code",
   "execution_count": 0,
   "metadata": {
    "application/vnd.databricks.v1+cell": {
     "cellMetadata": {
      "byteLimit": 2048000,
      "rowLimit": 10000
     },
     "inputWidgets": {},
     "nuid": "acb95d99-b7cf-4c53-b960-adae3f47ccc5",
     "showTitle": false,
     "tableResultSettingsMap": {},
     "title": ""
    }
   },
   "outputs": [],
   "source": []
  }
 ],
 "metadata": {
  "application/vnd.databricks.v1+notebook": {
   "computePreferences": null,
   "dashboards": [],
   "environmentMetadata": {
    "base_environment": "",
    "client": "1"
   },
   "language": "python",
   "notebookMetadata": {
    "pythonIndentUnit": 4
   },
   "notebookName": "Upsert 2025-01-28 10:26:24",
   "widgets": {}
  }
 },
 "nbformat": 4,
 "nbformat_minor": 0
}
