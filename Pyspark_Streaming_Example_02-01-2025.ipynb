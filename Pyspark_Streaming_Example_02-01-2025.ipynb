{
 "cells": [
  {
   "cell_type": "code",
   "execution_count": 1,
   "id": "1c225dfa-221d-41c7-a5e9-c828c7c2eca1",
   "metadata": {},
   "outputs": [],
   "source": [
    "from pyspark.sql import SparkSession\n",
    "from pyspark.streaming import StreamingContext\n",
    "import time"
   ]
  },
  {
   "cell_type": "code",
   "execution_count": 2,
   "id": "33c7c60a-7c0f-4a5d-82ad-0790ff5d4f4b",
   "metadata": {},
   "outputs": [],
   "source": [
    "spark = SparkSession.builder \\\n",
    "    .appName(\"BasicSparkStreaming 1\") \\\n",
    "    .getOrCreate()"
   ]
  },
  {
   "cell_type": "code",
   "execution_count": 3,
   "id": "6d36bdbf-55bd-46b2-849f-162f55c39498",
   "metadata": {},
   "outputs": [
    {
     "name": "stderr",
     "output_type": "stream",
     "text": [
      "C:\\Users\\user\\AppData\\Local\\Programs\\Python\\Python311\\Lib\\site-packages\\pyspark\\streaming\\context.py:72: FutureWarning: DStream is deprecated as of Spark 3.4.0. Migrate to Structured Streaming.\n",
      "  warnings.warn(\n"
     ]
    },
    {
     "name": "stdout",
     "output_type": "stream",
     "text": [
      "-------------------------------------------\n",
      "Time: 2025-01-02 15:27:30\n",
      "-------------------------------------------\n",
      "('Hello', 1)\n",
      "('World', 1)\n",
      "\n",
      "-------------------------------------------\n",
      "Time: 2025-01-02 15:27:40\n",
      "-------------------------------------------\n",
      "\n",
      "-------------------------------------------\n",
      "Time: 2025-01-02 15:27:50\n",
      "-------------------------------------------\n",
      "('This', 1)\n",
      "('is', 1)\n",
      "('Pyspark', 1)\n",
      "('Operation', 1)\n",
      "\n"
     ]
    }
   ],
   "source": [
    "ssc = StreamingContext(spark.sparkContext, 10)"
   ]
  },
  {
   "cell_type": "code",
   "execution_count": 4,
   "id": "3d8a941c-5106-4dcc-af68-90f5a1aff7a2",
   "metadata": {},
   "outputs": [],
   "source": [
    "host='localhost'\n",
    "port=9998\n",
    "lines=ssc.socketTextStream(host,port)"
   ]
  },
  {
   "cell_type": "code",
   "execution_count": 5,
   "id": "97ef708b-d32d-48a6-a8f8-2d2e1e25fa58",
   "metadata": {},
   "outputs": [],
   "source": [
    "words=lines.flatMap(lambda words:words.split(' '))\n",
    "wordcount=words.map(lambda word:(word,1))\n",
    "totalcount=wordcount.reduceByKey(lambda  x,y:x+y)"
   ]
  },
  {
   "cell_type": "code",
   "execution_count": 6,
   "id": "6e1662d2-9262-4ad5-aace-3c7214d22131",
   "metadata": {},
   "outputs": [],
   "source": [
    "totalcount.pprint()"
   ]
  },
  {
   "cell_type": "code",
   "execution_count": 7,
   "id": "f3006af3-578b-466c-bf18-d0d442e477c4",
   "metadata": {},
   "outputs": [],
   "source": [
    "ssc.start()"
   ]
  },
  {
   "cell_type": "code",
   "execution_count": 8,
   "id": "7eac7a09-e260-40ce-8f2b-303471a38e16",
   "metadata": {},
   "outputs": [],
   "source": [
    "time.sleep(40)\n",
    "ssc.stop()"
   ]
  },
  {
   "cell_type": "code",
   "execution_count": 9,
   "id": "507c8a25-5d79-4735-b9e7-0a88e57da0d8",
   "metadata": {},
   "outputs": [],
   "source": [
    "ssc.awaitTermination()"
   ]
  },
  {
   "cell_type": "code",
   "execution_count": 11,
   "id": "885abe0e-0d44-4cbd-bba2-0721fb2ebfb4",
   "metadata": {},
   "outputs": [],
   "source": [
    "spark.stop()"
   ]
  },
  {
   "cell_type": "code",
   "execution_count": null,
   "id": "9d845b2a-f1f6-41ec-86d0-09b2ca699e27",
   "metadata": {},
   "outputs": [],
   "source": []
  }
 ],
 "metadata": {
  "kernelspec": {
   "display_name": "Python 3 (ipykernel)",
   "language": "python",
   "name": "python3"
  },
  "language_info": {
   "codemirror_mode": {
    "name": "ipython",
    "version": 3
   },
   "file_extension": ".py",
   "mimetype": "text/x-python",
   "name": "python",
   "nbconvert_exporter": "python",
   "pygments_lexer": "ipython3",
   "version": "3.11.0"
  }
 },
 "nbformat": 4,
 "nbformat_minor": 5
}
