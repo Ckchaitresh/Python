{
 "cells": [
  {
   "cell_type": "markdown",
   "id": "7e55abb3-4807-4293-9369-1088ab6713e6",
   "metadata": {},
   "source": [
    "##### from pyspark.sql import SparkSession"
   ]
  },
  {
   "cell_type": "code",
   "execution_count": 2,
   "id": "611bf8a4-a721-4cc1-9aa2-7e60ef25d07b",
   "metadata": {},
   "outputs": [],
   "source": [
    "\n",
    "spark=SparkSession.builder.getOrCreate()\n"
   ]
  },
  {
   "cell_type": "raw",
   "id": "4cb2ecde-b358-4a7c-adb7-48e8c8cba0dd",
   "metadata": {},
   "source": [
    "Load the tsv file and add custom headers namely Device ID, Customer ID, Price, Alerts, City and State\n"
   ]
  },
  {
   "cell_type": "code",
   "execution_count": 4,
   "id": "5d21870e-cdd1-4735-b5b2-fb611de45556",
   "metadata": {},
   "outputs": [
    {
     "name": "stdout",
     "output_type": "stream",
     "text": [
      "+--------+----------+---------+------+---------+-----+\n",
      "|deviceid|customerid|    price|alerts| location|state|\n",
      "+--------+----------+---------+------+---------+-----+\n",
      "|       1|        11|      100|    14|Bengaluru|   KA|\n",
      "|       2|        22|\"\"\"200\"\"\"|    25|   Mysuru|   KA|\n",
      "|       3|        33|      300|     6|       AP| NULL|\n",
      "|       4|        44|      ten|     7|  Chennai|   TN|\n",
      "|       5|      NULL|      250|     8| Hubballi|   KA|\n",
      "|       6|        66|      600|     9|    Bidar|   KA|\n",
      "|       7|        77|     NULL|     7| Belagavi|   KA|\n",
      "+--------+----------+---------+------+---------+-----+\n",
      "\n"
     ]
    }
   ],
   "source": [
    "df=spark.read.option(\"header\",\"true\")\\\n",
    "        .option(\"delimiter\",\"\\t\")\\\n",
    "        .option(\"inferSchema\",\"true\")\\\n",
    "        .csv(\"customers.txt\")\n",
    "df.show()"
   ]
  },
  {
   "cell_type": "code",
   "execution_count": 5,
   "id": "a9ac1cb6-dea6-404a-bd59-876ab4c640e5",
   "metadata": {},
   "outputs": [
    {
     "name": "stdout",
     "output_type": "stream",
     "text": [
      "+---------+-----------+---------+------+---------+-----+\n",
      "|Device ID|Customer ID|    Price|Alerts|     City|State|\n",
      "+---------+-----------+---------+------+---------+-----+\n",
      "|        1|         11|      100|    14|Bengaluru|   KA|\n",
      "|        2|         22|\"\"\"200\"\"\"|    25|   Mysuru|   KA|\n",
      "|        3|         33|      300|     6|       AP| NULL|\n",
      "|        4|         44|      ten|     7|  Chennai|   TN|\n",
      "|        5|       NULL|      250|     8| Hubballi|   KA|\n",
      "|        6|         66|      600|     9|    Bidar|   KA|\n",
      "|        7|         77|     NULL|     7| Belagavi|   KA|\n",
      "+---------+-----------+---------+------+---------+-----+\n",
      "\n"
     ]
    }
   ],
   "source": [
    "df=df.withColumnRenamed(\"deviceid\",\"Device ID\")\\\n",
    "     .withColumnRenamed(\"customerid\",\"Customer ID\")\\\n",
    "     .withColumnRenamed(\"price\",\"Price\")\\\n",
    "     .withColumnRenamed(\"alerts\",\"Alerts\")\\\n",
    "     .withColumnRenamed(\"location\",\"City\")\\\n",
    "     .withColumnRenamed(\"state\",\"State\")\n",
    "df.show()\n",
    "    \n",
    "    \n",
    "    "
   ]
  },
  {
   "cell_type": "code",
   "execution_count": 19,
   "id": "92fecc0a-f2b1-4699-89bc-d3bf1d41137e",
   "metadata": {},
   "outputs": [
    {
     "name": "stdout",
     "output_type": "stream",
     "text": [
      "The dataset contains 3 missing values.\n"
     ]
    }
   ],
   "source": [
    "if df.columns:  \n",
    "    missing_count = df.select([df[col].isNull().alias(col) for col in df.columns]).rdd.flatMap(lambda row: row).sum()\n",
    "    if missing_count > 0:\n",
    "        print(f\"The dataset contains {missing_count} missing values.\")\n",
    "    else:\n",
    "        print(\"The dataset does not contain any missing values.\")\n",
    "else:\n",
    "    print(\"The dataset is empty.\")\n"
   ]
  },
  {
   "cell_type": "raw",
   "id": "c12dcd96-9bd3-44f5-9c60-61e06f99c003",
   "metadata": {},
   "source": [
    "Print the columns with number of missing values"
   ]
  },
  {
   "cell_type": "code",
   "execution_count": 21,
   "id": "899e6a2a-7e27-48cf-bee5-08b3cedd950c",
   "metadata": {},
   "outputs": [
    {
     "name": "stdout",
     "output_type": "stream",
     "text": [
      "Column 'Device ID' has no missing values.\n",
      "Column 'Customer ID' has 1 missing values.\n",
      "Column 'Price' has 1 missing values.\n",
      "Column 'Alerts' has no missing values.\n",
      "Column 'City' has no missing values.\n",
      "Column 'State' has 1 missing values.\n"
     ]
    }
   ],
   "source": [
    "from pyspark.sql.functions import col, sum as _sum, when\n",
    "\n",
    "\n",
    "missing_values = df.select([\n",
    "    _sum(when(col(c).isNull(), 1).otherwise(0)).alias(c) for c in df.columns\n",
    "])\n",
    "\n",
    "\n",
    "missing_values_dict = missing_values.collect()[0].asDict()\n",
    "for column, missing_count in missing_values_dict.items():\n",
    "    if missing_count > 0:\n",
    "        print(f\"Column '{column}' has {missing_count} missing values.\")\n",
    "    else:\n",
    "        print(f\"Column '{column}' has no missing values.\")"
   ]
  },
  {
   "cell_type": "code",
   "execution_count": 22,
   "id": "79ff7a1e-5dbc-4964-bc2e-767e9b211b0f",
   "metadata": {},
   "outputs": [
    {
     "name": "stdout",
     "output_type": "stream",
     "text": [
      "+---------+-----------+-----+------+---------+-----+\n",
      "|Device ID|Customer ID|price|Alerts|     City|State|\n",
      "+---------+-----------+-----+------+---------+-----+\n",
      "|        1|         11|100.0|    14|Bengaluru|   KA|\n",
      "|        2|         22|312.5|    25|   Mysuru|   KA|\n",
      "|        3|         33|300.0|     6|       AP| NULL|\n",
      "|        4|         44|312.5|     7|  Chennai|   TN|\n",
      "|        5|       NULL|250.0|     8| Hubballi|   KA|\n",
      "|        6|         66|600.0|     9|    Bidar|   KA|\n",
      "|        7|         77|312.5|     7| Belagavi|   KA|\n",
      "+---------+-----------+-----+------+---------+-----+\n",
      "\n"
     ]
    }
   ],
   "source": [
    "from pyspark.sql.functions import col, mean, when\n",
    "\n",
    "# Calculate the mean price, ignoring nulls and invalid values\n",
    "mean_price = df.filter(col(\"price\").cast(\"float\").isNotNull()) \\\n",
    "               .agg(mean(col(\"price\").cast(\"float\")).alias(\"mean_price\")) \\\n",
    "               .collect()[0][\"mean_price\"]\n",
    "\n",
    "# Fill missing or invalid values with the mean price\n",
    "df = df.withColumn(\n",
    "    \"price\",\n",
    "    when(col(\"price\").cast(\"float\").isNotNull(), col(\"price\").cast(\"float\"))\n",
    "    .otherwise(mean_price)\n",
    ")\n",
    "\n",
    "df.show()\n"
   ]
  },
  {
   "cell_type": "code",
   "execution_count": 23,
   "id": "d6a56c09-9546-4e61-b608-33d39f177f6e",
   "metadata": {},
   "outputs": [
    {
     "name": "stdout",
     "output_type": "stream",
     "text": [
      "+---------+-----------+-----+------+---------+-----+\n",
      "|Device ID|Customer ID|price|Alerts|     City|State|\n",
      "+---------+-----------+-----+------+---------+-----+\n",
      "|        1|         11|100.0|    14|Bengaluru|   KA|\n",
      "|        2|         22|312.5|    25|   Mysuru|   KA|\n",
      "|        3|         33|300.0|     6|       AP| NULL|\n",
      "|        4|         44|312.5|     7|  Chennai|   TN|\n",
      "|        6|         66|600.0|     9|    Bidar|   KA|\n",
      "|        7|         77|312.5|     7| Belagavi|   KA|\n",
      "+---------+-----------+-----+------+---------+-----+\n",
      "\n"
     ]
    }
   ],
   "source": [
    "# Drop rows with missing values in 'Device ID' or 'Customer ID' columns\n",
    "df_cleaned = df.dropna(subset=[\"Device ID\", \"Customer ID\"])\n",
    "d\n",
    "# Show the cleaned DataFrame\n",
    "df_cleaned.show()\n"
   ]
  },
  {
   "cell_type": "code",
   "execution_count": 68,
   "id": "de81094b-7a17-4a70-9b59-9fc5fd7b4106",
   "metadata": {},
   "outputs": [],
   "source": [
    "spark.stop()"
   ]
  },
  {
   "cell_type": "raw",
   "id": "757df006-57a9-429f-bf80-11e07d263bad",
   "metadata": {},
   "source": [
    "Generate data with schema: MovieID, UserID, Rating and Timestamp"
   ]
  },
  {
   "cell_type": "code",
   "execution_count": 91,
   "id": "d4687b0e-cb50-4abd-bf3a-9285b5edb011",
   "metadata": {},
   "outputs": [],
   "source": [
    "from pyspark.sql import SparkSession\n",
    "\n",
    "import random\n",
    "import time\n",
    "from pyspark.sql.functions import from_unixtime,avg,count"
   ]
  },
  {
   "cell_type": "code",
   "execution_count": 92,
   "id": "b48113d1-6b42-4bce-8e18-25835453e953",
   "metadata": {},
   "outputs": [],
   "source": [
    "spark=SparkSession.builder.getOrCreate()"
   ]
  },
  {
   "cell_type": "code",
   "execution_count": 93,
   "id": "febde37b-3077-4fef-ac59-a84a7d6a8918",
   "metadata": {},
   "outputs": [],
   "source": [
    "\n",
    "num_movies = 50\n",
    "num_users = 100\n",
    "num_records = 1000\n",
    "\n",
    "data = []\n",
    "for _ in range(num_records):\n",
    "    MovieID = random.randint(1, num_movies)\n",
    "    UserID = random.randint(1, num_users)\n",
    "    Rating = random.randint(1, 5)\n",
    "    Timestamp = random.randint(1000000000, int(time.time()))\n",
    "    data.append((MovieID, UserID, Rating, Timestamp))\n",
    "\n",
    "\n",
    "schema = [\"MovieID\", \"UserID\", \"Rating\", \"Timestamp\"]\n",
    "\n",
    "df = spark.createDataFrame(data, schema=schema)"
   ]
  },
  {
   "cell_type": "code",
   "execution_count": 94,
   "id": "772a57b9-7ce7-4e79-9673-5f9fdbc42dcb",
   "metadata": {},
   "outputs": [
    {
     "name": "stdout",
     "output_type": "stream",
     "text": [
      "+-------+------+------+----------+\n",
      "|MovieID|UserID|Rating| Timestamp|\n",
      "+-------+------+------+----------+\n",
      "|     28|    53|     3|1632767770|\n",
      "|     42|    49|     1|1688043799|\n",
      "|     13|    69|     3|1308999534|\n",
      "|     45|    13|     2|1412473479|\n",
      "|     37|    21|     2|1646702472|\n",
      "|      3|    31|     4|1404908724|\n",
      "|     43|    13|     4|1085426366|\n",
      "|     47|    31|     1|1559772793|\n",
      "|     30|     4|     1|1521149794|\n",
      "|      8|    34|     5|1724967767|\n",
      "|      4|    22|     5|1151004703|\n",
      "|     45|    64|     3|1009948704|\n",
      "|     38|    73|     4|1636287775|\n",
      "|     10|    93|     3|1388758473|\n",
      "|      9|    38|     2|1477016530|\n",
      "|     27|    94|     4|1089428729|\n",
      "|      1|    87|     2|1227282262|\n",
      "|      6|    57|     3|1262642664|\n",
      "|     46|    69|     4|1052676396|\n",
      "|     47|    66|     1|1300482245|\n",
      "+-------+------+------+----------+\n",
      "only showing top 20 rows\n",
      "\n"
     ]
    },
    {
     "data": {
      "text/plain": [
       "1000"
      ]
     },
     "execution_count": 94,
     "metadata": {},
     "output_type": "execute_result"
    }
   ],
   "source": [
    "df.show()\n",
    "df.count()"
   ]
  },
  {
   "cell_type": "code",
   "execution_count": 95,
   "id": "5c03eec2-730a-47a2-9e4c-24fed9d21caa",
   "metadata": {},
   "outputs": [
    {
     "name": "stdout",
     "output_type": "stream",
     "text": [
      "+-------+------+------+----------+-------------------+\n",
      "|MovieID|UserID|Rating| Timestamp|       ReadableDate|\n",
      "+-------+------+------+----------+-------------------+\n",
      "|     28|    53|     3|1632767770|2021-09-28 00:06:10|\n",
      "|     42|    49|     1|1688043799|2023-06-29 18:33:19|\n",
      "|     13|    69|     3|1308999534|2011-06-25 16:28:54|\n",
      "|     45|    13|     2|1412473479|2014-10-05 07:14:39|\n",
      "|     37|    21|     2|1646702472|2022-03-08 06:51:12|\n",
      "|      3|    31|     4|1404908724|2014-07-09 17:55:24|\n",
      "|     43|    13|     4|1085426366|2004-05-25 00:49:26|\n",
      "|     47|    31|     1|1559772793|2019-06-06 03:43:13|\n",
      "|     30|     4|     1|1521149794|2018-03-16 03:06:34|\n",
      "|      8|    34|     5|1724967767|2024-08-30 03:12:47|\n",
      "|      4|    22|     5|1151004703|2006-06-23 01:01:43|\n",
      "|     45|    64|     3|1009948704|2002-01-02 10:48:24|\n",
      "|     38|    73|     4|1636287775|2021-11-07 17:52:55|\n",
      "|     10|    93|     3|1388758473|2014-01-03 19:44:33|\n",
      "|      9|    38|     2|1477016530|2016-10-21 07:52:10|\n",
      "|     27|    94|     4|1089428729|2004-07-10 08:35:29|\n",
      "|      1|    87|     2|1227282262|2008-11-21 21:14:22|\n",
      "|      6|    57|     3|1262642664|2010-01-05 03:34:24|\n",
      "|     46|    69|     4|1052676396|2003-05-11 23:36:36|\n",
      "|     47|    66|     1|1300482245|2011-03-19 02:34:05|\n",
      "+-------+------+------+----------+-------------------+\n",
      "only showing top 20 rows\n",
      "\n"
     ]
    }
   ],
   "source": [
    "df=df.withColumn(\"ReadableDate\", from_unixtime(df['Timestamp'], \"yyyy-MM-dd HH:mm:ss\"))\n",
    "df.show()"
   ]
  },
  {
   "cell_type": "code",
   "execution_count": 96,
   "id": "11dac040-e4b6-4ed9-9a5b-233c4f7b297c",
   "metadata": {},
   "outputs": [
    {
     "name": "stdout",
     "output_type": "stream",
     "text": [
      "+-------+------------------+\n",
      "|MovieID|       avg(Rating)|\n",
      "+-------+------------------+\n",
      "|     26|3.3076923076923075|\n",
      "|     29|3.3043478260869565|\n",
      "|     19|2.8333333333333335|\n",
      "|     22| 2.789473684210526|\n",
      "|      7|2.8333333333333335|\n",
      "|     34|2.8260869565217392|\n",
      "|     50|               3.0|\n",
      "|     43|              3.25|\n",
      "|     32|2.7857142857142856|\n",
      "|     31|              3.12|\n",
      "|     39|2.5789473684210527|\n",
      "|     25| 2.933333333333333|\n",
      "|      6|3.0588235294117645|\n",
      "|      9|             3.625|\n",
      "|     27|               2.9|\n",
      "|     17|2.4210526315789473|\n",
      "|     41|2.8095238095238093|\n",
      "|     28|3.0454545454545454|\n",
      "|     33| 2.857142857142857|\n",
      "|      5|2.9473684210526314|\n",
      "+-------+------------------+\n",
      "only showing top 20 rows\n",
      "\n"
     ]
    }
   ],
   "source": [
    "df.groupBy(\"MovieID\").agg(avg('Rating')).show()\n"
   ]
  },
  {
   "cell_type": "raw",
   "id": "005fe2a0-8353-440d-a8fb-5e49ad302382",
   "metadata": {},
   "source": [
    "Identify users who have rated more than 5 movies."
   ]
  },
  {
   "cell_type": "code",
   "execution_count": 76,
   "id": "6ae5ea70-4590-4b19-b72a-769858a9e6c9",
   "metadata": {},
   "outputs": [
    {
     "name": "stdout",
     "output_type": "stream",
     "text": [
      "+------+----------+\n",
      "|UserID|MovieCount|\n",
      "+------+----------+\n",
      "|    26|        11|\n",
      "|    29|         8|\n",
      "|    65|        14|\n",
      "|    19|         8|\n",
      "|    54|        12|\n",
      "|    22|        17|\n",
      "|    77|         7|\n",
      "|     7|        13|\n",
      "|    94|         9|\n",
      "|    50|         4|\n",
      "|    57|         8|\n",
      "|    32|        13|\n",
      "|    43|         5|\n",
      "|    84|        11|\n",
      "|    31|        13|\n",
      "|    98|        14|\n",
      "|    39|         7|\n",
      "|    25|        12|\n",
      "|    95|         9|\n",
      "|    71|         7|\n",
      "+------+----------+\n",
      "only showing top 20 rows\n",
      "\n"
     ]
    }
   ],
   "source": [
    "movie_count = df.groupBy('UserID').agg(count('MovieID').alias('MovieCount'))\n",
    "movie_count.show()"
   ]
  },
  {
   "cell_type": "code",
   "execution_count": 79,
   "id": "a206fb98-4c44-4ef5-9c9b-db23b53b7144",
   "metadata": {},
   "outputs": [
    {
     "name": "stdout",
     "output_type": "stream",
     "text": [
      "+------+----------+\n",
      "|UserID|MovieCount|\n",
      "+------+----------+\n",
      "|    50|         4|\n",
      "|    93|         4|\n",
      "|    34|         3|\n",
      "+------+----------+\n",
      "\n"
     ]
    }
   ],
   "source": [
    "usercount=movie_count.filter(movie_count['MovieCount']<5)\n",
    "usercount.show()"
   ]
  },
  {
   "cell_type": "code",
   "execution_count": 81,
   "id": "df4d84f3-38ce-4945-a252-31bd3b20435b",
   "metadata": {},
   "outputs": [
    {
     "name": "stdout",
     "output_type": "stream",
     "text": [
      "root\n",
      " |-- MovieID: long (nullable = true)\n",
      " |-- UserID: long (nullable = true)\n",
      " |-- Rating: long (nullable = true)\n",
      " |-- Timestamp: long (nullable = true)\n",
      " |-- ReadableDate: string (nullable = true)\n",
      "\n"
     ]
    }
   ],
   "source": [
    "df.printSchema()"
   ]
  },
  {
   "cell_type": "code",
   "execution_count": 86,
   "id": "5c181adb-41bb-4eb3-8096-e35185ec36f2",
   "metadata": {},
   "outputs": [
    {
     "name": "stdout",
     "output_type": "stream",
     "text": [
      "+-------+------+\n",
      "|MovieID|Rating|\n",
      "+-------+------+\n",
      "|     42|     5|\n",
      "|     31|     5|\n",
      "|     28|     5|\n",
      "|     37|     5|\n",
      "|     31|     5|\n",
      "+-------+------+\n",
      "only showing top 5 rows\n",
      "\n"
     ]
    }
   ],
   "source": [
    "df.select(\"MovieID\",\"Rating\").orderBy(df[\"Rating\"].desc()).show(5)"
   ]
  },
  {
   "cell_type": "code",
   "execution_count": 87,
   "id": "f5ce77f9-f526-4450-b2e3-7c40bdef1d50",
   "metadata": {},
   "outputs": [],
   "source": [
    "import matplotlib.pyplot as plt"
   ]
  },
  {
   "cell_type": "code",
   "execution_count": 88,
   "id": "8715d02a-3e62-4706-a286-a619c8c92012",
   "metadata": {},
   "outputs": [
    {
     "data": {
      "text/plain": [
       "Text(0.5, 1.0, 'Number of Movies Rated by Each User')"
      ]
     },
     "execution_count": 88,
     "metadata": {},
     "output_type": "execute_result"
    },
    {
     "data": {
      "image/png": "[encoded data removed]",
      "text/plain": [
       "<Figure size 1200x600 with 1 Axes>"
      ]
     },
     "metadata": {},
     "output_type": "display_data"
    }
   ],
   "source": [
    "visualization=movie_count.toPandas()\n",
    "plt.figure(figsize=(12, 6))\n",
    "plt.bar(visualization['UserID'], visualization['MovieCount'], color='skyblue')\n",
    "plt.xlabel('User ID')\n",
    "plt.ylabel('Number of Movies Rated')\n",
    "plt.title('Number of Movies Rated by Each User')\n"
   ]
  },
  {
   "cell_type": "code",
   "execution_count": 97,
   "id": "c6bbd7b5-802e-4889-82cb-dce3e0f7f88f",
   "metadata": {},
   "outputs": [],
   "source": [
    "spark.stop()"
   ]
  },
  {
   "cell_type": "code",
   "execution_count": null,
   "id": "af2c4ec4-82c9-40cb-ab6b-4d186a68dfdf",
   "metadata": {},
   "outputs": [],
   "source": []
  }
 ],
 "metadata": {
  "kernelspec": {
   "display_name": "Python 3 (ipykernel)",
   "language": "python",
   "name": "python3"
  },
  "language_info": {
   "codemirror_mode": {
    "name": "ipython",
    "version": 3
   },
   "file_extension": ".py",
   "mimetype": "text/x-python",
   "name": "python",
   "nbconvert_exporter": "python",
   "pygments_lexer": "ipython3",
   "version": "3.11.0"
  }
 },
 "nbformat": 4,
 "nbformat_minor": 5
}
