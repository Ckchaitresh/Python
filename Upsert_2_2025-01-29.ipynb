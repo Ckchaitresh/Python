{
 "cells": [
  {
   "cell_type": "code",
   "execution_count": 0,
   "metadata": {
    "application/vnd.databricks.v1+cell": {
     "cellMetadata": {
      "byteLimit": 2048000,
      "rowLimit": 10000
     },
     "inputWidgets": {},
     "nuid": "02cca870-694a-4e92-900d-41b93bcfe1a1",
     "showTitle": false,
     "tableResultSettingsMap": {},
     "title": ""
    }
   },
   "outputs": [],
   "source": [
    "from pyspark.sql.types import *\n",
    "\n",
    "schema = StructType([\n",
    "    StructField(\"EnqueuedTimeUtc\", StringType(), True),\n",
    "    StructField(\"Properties\", StructType([\n",
    "        StructField(\"appTopic\", StringType(), True),\n",
    "        StructField(\"relatedGroupId\", StringType(), True)\n",
    "    ])),\n",
    "    StructField(\"SystemProperties\", StructType([\n",
    "        StructField(\"connectionDeviceId\", StringType(), True),\n",
    "        StructField(\"connectionAuthMethod\", StringType(), True),\n",
    "        StructField(\"connectionDeviceGenerationId\", StringType(), True),\n",
    "        StructField(\"contentType\", StringType(), True),\n",
    "        StructField(\"contentEncoding\", StringType(), True),\n",
    "        StructField(\"enqueuedTime\", StringType(), True)\n",
    "    ])),\n",
    "    StructField(\"Body\", StructType([\n",
    "        StructField(\"type\", StringType(), True),\n",
    "        StructField(\"mnsn\", StringType(), True),\n",
    "        StructField(\"timestamp\", LongType(), True),\n",
    "        StructField(\"scheduleName\", StringType(), True),\n",
    "        StructField(\"smsProperties\", StructType([\n",
    "            StructField(\"service\", StructType([\n",
    "                StructField(\"print\", StructType([\n",
    "                    StructField(\"mediaPathList\", ArrayType(StructType([\n",
    "                        StructField(\"id\", StringType(), True),\n",
    "                        StructField(\"type\", StringType(), True)\n",
    "                    ])), True),\n",
    "                    StructField(\"channelList\", ArrayType(StructType([\n",
    "                        StructField(\"id\", StringType(), True),\n",
    "                        StructField(\"descriptionLanguageDefault\", StringType(), True),\n",
    "                        StructField(\"mediaPathDefault\", StringType(), True)\n",
    "                    ])), True),\n",
    "                    StructField(\"descriptionLanguageList\", ArrayType(StructType([\n",
    "                        StructField(\"id\", StringType(), True),\n",
    "                        StructField(\"family\", StringType(), True),\n",
    "                        StructField(\"version\", StringType(), True),\n",
    "                        StructField(\"level\", StringType(), True),\n",
    "                        StructField(\"description\", StringType(), True),\n",
    "                        StructField(\"orientationDefault\", StringType(), True),\n",
    "                        StructField(\"langVersion\", StringType(), True)\n",
    "                    ])), True)\n",
    "                ]))\n",
    "            ]))\n",
    "        ])),\n",
    "        StructField(\"interface\", StructType([\n",
    "            StructField(\"ethernetList\", ArrayType(StructType([\n",
    "                StructField(\"id\", StringType(), True),\n",
    "                StructField(\"type\", StringType(), True),\n",
    "                StructField(\"address\", StringType(), True)\n",
    "            ])), True),\n",
    "            StructField(\"ipList\", ArrayType(StructType([\n",
    "                StructField(\"address\", StringType(), True),\n",
    "                StructField(\"defaultRoute\", StringType(), True),\n",
    "                StructField(\"subnetMask\", StringType(), True),\n",
    "                StructField(\"ethernetId\", StringType(), True)\n",
    "            ])), True)\n",
    "        ])),\n",
    "        StructField(\"device\", StructType([\n",
    "            StructField(\"memory\", StructType([\n",
    "                StructField(\"size\", StringType(), True)\n",
    "            ])),\n",
    "            StructField(\"deviceEntryList\", ArrayType(StructType([\n",
    "                StructField(\"type\", StringType(), True),\n",
    "                StructField(\"description\", StringType(), True),\n",
    "                StructField(\"status\", StringType(), True),\n",
    "                StructField(\"errors\", StringType(), True),\n",
    "                StructField(\"deviceID\", StringType(), True),\n",
    "                StructField(\"deviceIndex\", StringType(), True)\n",
    "            ])), True),\n",
    "            StructField(\"configuration\", StructType([\n",
    "                StructField(\"duplexModule\", StringType(), True),\n",
    "                StructField(\"installedOptions\", StructType([\n",
    "                    StructField(\"value\", StringType(), True),\n",
    "                    StructField(\"dsk\", StringType(), True)\n",
    "                ]))\n",
    "            ]))\n",
    "        ]))\n",
    "    ]))\n",
    "])\n"
   ]
  },
  {
   "cell_type": "code",
   "execution_count": 0,
   "metadata": {
    "application/vnd.databricks.v1+cell": {
     "cellMetadata": {
      "byteLimit": 2048000,
      "rowLimit": 10000
     },
     "inputWidgets": {},
     "nuid": "088ee9d2-e93c-48ef-ba06-177eb7aa5dcb",
     "showTitle": false,
     "tableResultSettingsMap": {},
     "title": ""
    }
   },
   "outputs": [],
   "source": [
    "json_file_path = \"dbfs:/FileStore/tables/New6.json\""
   ]
  },
  {
   "cell_type": "code",
   "execution_count": 0,
   "metadata": {
    "application/vnd.databricks.v1+cell": {
     "cellMetadata": {
      "byteLimit": 2048000,
      "rowLimit": 10000
     },
     "inputWidgets": {},
     "nuid": "06e3a46f-ea7a-4e98-99f4-a911afcd4af3",
     "showTitle": false,
     "tableResultSettingsMap": {},
     "title": ""
    }
   },
   "outputs": [],
   "source": [
    "df=spark.read.format('json').schema(schema).load(json_file_path)"
   ]
  },
  {
   "cell_type": "code",
   "execution_count": 0,
   "metadata": {
    "application/vnd.databricks.v1+cell": {
     "cellMetadata": {
      "byteLimit": 2048000,
      "rowLimit": 10000
     },
     "inputWidgets": {},
     "nuid": "5e89a74c-b3cd-4e2a-ae23-dd05021c21d3",
     "showTitle": false,
     "tableResultSettingsMap": {},
     "title": ""
    }
   },
   "outputs": [
    {
     "output_type": "stream",
     "name": "stdout",
     "output_type": "stream",
     "text": [
      "+--------------------+--------------------+--------------------+--------------------+\n|     EnqueuedTimeUtc|          Properties|    SystemProperties|                Body|\n+--------------------+--------------------+--------------------+--------------------+\n|2024-08-20T09:56:...|{rp.mib/dev/96d1f...|{96d1f469-e0b7-4e...|{type, mn=TVgwMDA...|\n|2024-08-20T09:56:...|{rp.mib/dev/96d1f...|{a0ba43aa-f3c1-42...|{smsProps, mn=TVg...|\n|2024-08-20T09:56:...|{rp.mib/dev/96d1f...|{96d1f469-e0b7-4e...|{smsProps, mn=TVg...|\n|2024-08-20T09:56:...|{rp.mib/dev/96d1f...|{5b98aa47-2d23-4b...|{smsProps, mn=TVg...|\n|2024-08-20T09:56:...|{rp.mib/dev/96d1f...|{96d1f469-e0b7-4e...|{smsProps, mn=TVg...|\n|2024-08-20T09:56:...|{rp.mib/dev/96d1f...|{a0ba43aa-f3c1-42...|{smsProps, mn=TVg...|\n|2024-08-20T09:56:...|{rp.mib/dev/96d1f...|{96d1f469-e0b7-4e...|{smsProps, mn=TVg...|\n|2024-08-20T09:56:...|{rp.mib/dev/96d1f...|{5b98aa47-2d23-4b...|{smsProps, mn=TVg...|\n|2024-08-20T09:56:...|{rp.mib/dev/96d1f...|{96d1f469-e0b7-4e...|{smsProps, mn=TVg...|\n|2024-08-20T09:56:...|{rp.mib/dev/96d1f...|{a0ba43aa-f3c1-42...|{smsProps, mn=TVg...|\n+--------------------+--------------------+--------------------+--------------------+\n\n"
     ]
    }
   ],
   "source": [
    "df.show()"
   ]
  },
  {
   "cell_type": "code",
   "execution_count": 0,
   "metadata": {
    "application/vnd.databricks.v1+cell": {
     "cellMetadata": {
      "byteLimit": 2048000,
      "rowLimit": 10000
     },
     "inputWidgets": {},
     "nuid": "3ccd297c-071e-4efe-a305-0725d96aa1b4",
     "showTitle": false,
     "tableResultSettingsMap": {},
     "title": ""
    }
   },
   "outputs": [
    {
     "output_type": "stream",
     "name": "stdout",
     "output_type": "stream",
     "text": [
      "+--------------+\n|  scheduleName|\n+--------------+\n|  deviceStatus|\n|   basicUpdate|\n| counterUpdate|\n|suppliesUpdate|\n+--------------+\n\n"
     ]
    }
   ],
   "source": [
    "df.select('Body.scheduleName').distinct().show()"
   ]
  },
  {
   "cell_type": "code",
   "execution_count": 0,
   "metadata": {
    "application/vnd.databricks.v1+cell": {
     "cellMetadata": {
      "byteLimit": 2048000,
      "rowLimit": 10000
     },
     "inputWidgets": {},
     "nuid": "c83fdc0a-2bf4-4223-ab11-42ee8832e839",
     "showTitle": false,
     "tableResultSettingsMap": {},
     "title": ""
    }
   },
   "outputs": [
    {
     "output_type": "stream",
     "name": "stdout",
     "output_type": "stream",
     "text": [
      "+--------------------+--------------------+--------------------+--------------------+\n|     EnqueuedTimeUtc|          Properties|    SystemProperties|                Body|\n+--------------------+--------------------+--------------------+--------------------+\n|2024-08-20T09:56:...|{rp.mib/dev/96d1f...|{96d1f469-e0b7-4e...|{type, mn=TVgwMDA...|\n|2024-08-20T09:56:...|{rp.mib/dev/96d1f...|{96d1f469-e0b7-4e...|{smsProps, mn=TVg...|\n|2024-08-20T09:56:...|{rp.mib/dev/96d1f...|{96d1f469-e0b7-4e...|{smsProps, mn=TVg...|\n+--------------------+--------------------+--------------------+--------------------+\n\n"
     ]
    }
   ],
   "source": [
    "df1=df.filter(df['Body.scheduleName']=='basicUpdate')\n",
    "df1.show()"
   ]
  },
  {
   "cell_type": "code",
   "execution_count": 0,
   "metadata": {
    "application/vnd.databricks.v1+cell": {
     "cellMetadata": {
      "byteLimit": 2048000,
      "rowLimit": 10000
     },
     "inputWidgets": {},
     "nuid": "d4187178-fe23-4c6a-b2c0-ae830d70b949",
     "showTitle": false,
     "tableResultSettingsMap": {},
     "title": ""
    }
   },
   "outputs": [],
   "source": [
    "from pyspark.sql.window import Window\n",
    "window=Window.partitionBy('Body.mnsn').orderBy('Body.timestamp')\n"
   ]
  },
  {
   "cell_type": "code",
   "execution_count": 0,
   "metadata": {
    "application/vnd.databricks.v1+cell": {
     "cellMetadata": {
      "byteLimit": 2048000,
      "rowLimit": 10000
     },
     "inputWidgets": {},
     "nuid": "b046d5d1-5389-4b53-97b5-d4ab3af746d9",
     "showTitle": false,
     "tableResultSettingsMap": {},
     "title": ""
    }
   },
   "outputs": [
    {
     "output_type": "stream",
     "name": "stdout",
     "output_type": "stream",
     "text": [
      "+--------------------+--------------------+--------------------+--------------------+----------+\n|     EnqueuedTimeUtc|          Properties|    SystemProperties|                Body|row_number|\n+--------------------+--------------------+--------------------+--------------------+----------+\n|2024-08-20T09:56:...|{rp.mib/dev/96d1f...|{96d1f469-e0b7-4e...|{type, mn=TVgwMDA...|         1|\n|2024-08-20T09:56:...|{rp.mib/dev/96d1f...|{96d1f469-e0b7-4e...|{smsProps, mn=TVg...|         1|\n|2024-08-20T09:56:...|{rp.mib/dev/96d1f...|{96d1f469-e0b7-4e...|{smsProps, mn=TVg...|         1|\n+--------------------+--------------------+--------------------+--------------------+----------+\n\n"
     ]
    }
   ],
   "source": [
    "import pyspark.sql.functions as F\n",
    "df1=df1.withColumn('row_number',F.row_number().over(window))\n",
    "df1.show()"
   ]
  },
  {
   "cell_type": "code",
   "execution_count": 0,
   "metadata": {
    "application/vnd.databricks.v1+cell": {
     "cellMetadata": {
      "byteLimit": 2048000,
      "rowLimit": 10000
     },
     "inputWidgets": {},
     "nuid": "38acb545-b583-4eec-a8ac-85dd6d2d964f",
     "showTitle": false,
     "tableResultSettingsMap": {},
     "title": ""
    }
   },
   "outputs": [],
   "source": [
    "df_final=df1.filter(df1['row_number']==1)"
   ]
  },
  {
   "cell_type": "code",
   "execution_count": 0,
   "metadata": {
    "application/vnd.databricks.v1+cell": {
     "cellMetadata": {
      "byteLimit": 2048000,
      "rowLimit": 10000
     },
     "inputWidgets": {},
     "nuid": "cd3a1573-ba7e-4605-b609-196394a0fdaf",
     "showTitle": false,
     "tableResultSettingsMap": {},
     "title": ""
    }
   },
   "outputs": [
    {
     "output_type": "stream",
     "name": "stdout",
     "output_type": "stream",
     "text": [
      "+--------------------+--------------------+--------------------+--------------------+\n|     EnqueuedTimeUtc|          Properties|    SystemProperties|                Body|\n+--------------------+--------------------+--------------------+--------------------+\n|2024-08-20T09:56:...|{rp.mib/dev/96d1f...|{96d1f469-e0b7-4e...|{type, mn=TVgwMDA...|\n|2024-08-20T09:56:...|{rp.mib/dev/96d1f...|{96d1f469-e0b7-4e...|{smsProps, mn=TVg...|\n|2024-08-20T09:56:...|{rp.mib/dev/96d1f...|{96d1f469-e0b7-4e...|{smsProps, mn=TVg...|\n+--------------------+--------------------+--------------------+--------------------+\n\n"
     ]
    }
   ],
   "source": [
    "df_final=df_final.drop('row_number')\n",
    "df_final.show()"
   ]
  },
  {
   "cell_type": "code",
   "execution_count": 0,
   "metadata": {
    "application/vnd.databricks.v1+cell": {
     "cellMetadata": {
      "byteLimit": 2048000,
      "rowLimit": 10000
     },
     "inputWidgets": {},
     "nuid": "6fd7ca71-fac7-471a-bb9f-f79179359eb4",
     "showTitle": false,
     "tableResultSettingsMap": {},
     "title": ""
    }
   },
   "outputs": [],
   "source": [
    "delta_table_path='dbfs:/FileStore/tables/basicupdate'"
   ]
  },
  {
   "cell_type": "code",
   "execution_count": 0,
   "metadata": {
    "application/vnd.databricks.v1+cell": {
     "cellMetadata": {
      "byteLimit": 2048000,
      "rowLimit": 10000
     },
     "inputWidgets": {},
     "nuid": "46085aa5-7fce-4a47-8161-904ab11a3c66",
     "showTitle": false,
     "tableResultSettingsMap": {},
     "title": ""
    }
   },
   "outputs": [],
   "source": [
    "from delta.tables import DeltaTable\n",
    "if not DeltaTable.isDeltaTable(spark,delta_table_path):\n",
    "    df_final.write.format('delta').mode('overwrite').save(delta_table_path)\n",
    "else:\n",
    "    deltatable=DeltaTable.forPath(spark,delta_table_path)\n",
    "\n",
    "    deltatable.alias('old').merge(\n",
    "        df_final.alias('new'),\n",
    "        'old.Body.mnsn=new.Body.mnsn'\n",
    "    ).whenMatchedUpdate(\n",
    "        condition='new.Body.timestamp>old.Body.timestamp',\n",
    "        set={'old.Body': 'new.Body','old.EnqueuedTimeUtc': 'new.EnqueuedTimeUtc','old.Properties': 'new.Properties','old.SystemProperties': 'new.SystemProperties'}\n",
    "    ).whenNotMatchedInsertAll().execute()"
   ]
  },
  {
   "cell_type": "code",
   "execution_count": 0,
   "metadata": {
    "application/vnd.databricks.v1+cell": {
     "cellMetadata": {
      "byteLimit": 2048000,
      "rowLimit": 10000
     },
     "inputWidgets": {},
     "nuid": "f0329ae1-5e78-442c-9d65-3a607cf9e1ec",
     "showTitle": false,
     "tableResultSettingsMap": {},
     "title": ""
    }
   },
   "outputs": [],
   "source": [
    "# deltatable.alias('old').merge(\n",
    "#         df_final.alias('new'),\n",
    "#         'old.Body.mnsn = new.Body.mnsn'\n",
    "#     ).whenMatchedUpdate(\n",
    "#         condition=(\n",
    "#             \"new.Body.timestamp > old.Body.timestamp AND new.Body IS NOT NULL AND new.EnqueuedTimeUtc IS NOT NULL AND new.Properties IS NOT NULL AND new.SystemProperties IS NOT NULL\"\n",
    "#         ),\n",
    "#         set={\n",
    "#             \"old.Body\": col(\"new.Body\"),\n",
    "#             \"old.EnqueuedTimeUtc\": col(\"new.EnqueuedTimeUtc\"),\n",
    "#             \"old.Properties\": col(\"new.Properties\"),\n",
    "#             \"old.SystemProperties\": col(\"new.SystemProperties\")\n",
    "#         }\n",
    "#     ).whenNotMatchedInsertAll().execute()"
   ]
  },
  {
   "cell_type": "code",
   "execution_count": 0,
   "metadata": {
    "application/vnd.databricks.v1+cell": {
     "cellMetadata": {
      "byteLimit": 2048000,
      "rowLimit": 10000
     },
     "inputWidgets": {},
     "nuid": "f5053063-03b7-44be-ace5-04309d627371",
     "showTitle": false,
     "tableResultSettingsMap": {},
     "title": ""
    }
   },
   "outputs": [],
   "source": [
    "#The coalesce() function in PySpark returns the first non-null value from the given columns"
   ]
  },
  {
   "cell_type": "code",
   "execution_count": 0,
   "metadata": {
    "application/vnd.databricks.v1+cell": {
     "cellMetadata": {
      "byteLimit": 2048000,
      "rowLimit": 10000
     },
     "inputWidgets": {},
     "nuid": "ccafac89-8ee6-49b7-a9e4-95fd26c31e72",
     "showTitle": false,
     "tableResultSettingsMap": {},
     "title": ""
    }
   },
   "outputs": [],
   "source": [
    "# deltatable.alias('old').merge(\n",
    "#     df_final.alias('new'),\n",
    "#     'old.Body.mnsn = new.Body.mnsn'\n",
    "# ).whenMatchedUpdate(\n",
    "#     condition=\"new.Body.timestamp > old.Body.timestamp\",\n",
    "#     set={\n",
    "#         \"old.Body\": coalesce(col(\"new.Body\"), col(\"old.Body\")), \n",
    "#         \"old.EnqueuedTimeUtc\": coalesce(col(\"new.EnqueuedTimeUtc\"), col(\"old.EnqueuedTimeUtc\")),\n",
    "#         \"old.Properties\": coalesce(col(\"new.Properties\"), col(\"old.Properties\")),\n",
    "#         \"old.SystemProperties\": coalesce(col(\"new.SystemProperties\"), col(\"old.SystemProperties\"))\n",
    "#     }\n",
    "# ).execute()"
   ]
  },
  {
   "cell_type": "code",
   "execution_count": 0,
   "metadata": {
    "application/vnd.databricks.v1+cell": {
     "cellMetadata": {
      "byteLimit": 2048000,
      "rowLimit": 10000
     },
     "inputWidgets": {},
     "nuid": "352a57f3-f222-4b33-8cdc-13e8dc9bb95b",
     "showTitle": false,
     "tableResultSettingsMap": {},
     "title": ""
    }
   },
   "outputs": [],
   "source": []
  }
 ],
 "metadata": {
  "application/vnd.databricks.v1+notebook": {
   "computePreferences": null,
   "dashboards": [],
   "environmentMetadata": {
    "base_environment": "",
    "client": "1"
   },
   "language": "python",
   "notebookMetadata": {
    "pythonIndentUnit": 4
   },
   "notebookName": "Upsert_2_2025-01-29 09:37:43",
   "widgets": {}
  }
 },
 "nbformat": 4,
 "nbformat_minor": 0
}
