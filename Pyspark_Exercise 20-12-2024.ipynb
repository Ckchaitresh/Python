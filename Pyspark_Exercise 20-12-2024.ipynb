{
 "cells": [
  {
   "cell_type": "code",
   "execution_count": 1,
   "id": "ead167e7-2e4f-4927-b3eb-009600ddb7ba",
   "metadata": {},
   "outputs": [],
   "source": [
    "from pyspark.sql import SparkSession"
   ]
  },
  {
   "cell_type": "code",
   "execution_count": 2,
   "id": "611bf8a4-a721-4cc1-9aa2-7e60ef25d07b",
   "metadata": {},
   "outputs": [],
   "source": [
    "\n",
    "spark=SparkSession.builder.getOrCreate()\n"
   ]
  },
  {
   "cell_type": "raw",
   "id": "4cb2ecde-b358-4a7c-adb7-48e8c8cba0dd",
   "metadata": {},
   "source": [
    "Load the tsv file and add custom headers namely Device ID, Customer ID, Price, Alerts, City and State\n"
   ]
  },
  {
   "cell_type": "code",
   "execution_count": 3,
   "id": "5d21870e-cdd1-4735-b5b2-fb611de45556",
   "metadata": {},
   "outputs": [
    {
     "name": "stdout",
     "output_type": "stream",
     "text": [
      "+--------+----------+---------+------+---------+-----+\n",
      "|deviceid|customerid|    price|alerts| location|state|\n",
      "+--------+----------+---------+------+---------+-----+\n",
      "|       1|        11|      100|    14|Bengaluru|   KA|\n",
      "|       2|        22|\"\"\"200\"\"\"|    25|   Mysuru|   KA|\n",
      "|       3|        33|      300|     6|       AP| NULL|\n",
      "|       4|        44|      ten|     7|  Chennai|   TN|\n",
      "|       5|      NULL|      250|     8| Hubballi|   KA|\n",
      "|       6|        66|      600|     9|    Bidar|   KA|\n",
      "|       7|        77|     NULL|     7| Belagavi|   KA|\n",
      "+--------+----------+---------+------+---------+-----+\n",
      "\n"
     ]
    }
   ],
   "source": [
    "df=spark.read.option(\"header\",\"true\")\\\n",
    "        .option(\"delimiter\",\"\\t\")\\\n",
    "        .option(\"inferSchema\",\"true\")\\\n",
    "        .csv(\"customers.txt\")\n",
    "df.show()"
   ]
  },
  {
   "cell_type": "code",
   "execution_count": 4,
   "id": "a9ac1cb6-dea6-404a-bd59-876ab4c640e5",
   "metadata": {},
   "outputs": [
    {
     "name": "stdout",
     "output_type": "stream",
     "text": [
      "+---------+-----------+---------+------+---------+-----+\n",
      "|Device ID|Customer ID|    Price|Alerts|     City|State|\n",
      "+---------+-----------+---------+------+---------+-----+\n",
      "|        1|         11|      100|    14|Bengaluru|   KA|\n",
      "|        2|         22|\"\"\"200\"\"\"|    25|   Mysuru|   KA|\n",
      "|        3|         33|      300|     6|       AP| NULL|\n",
      "|        4|         44|      ten|     7|  Chennai|   TN|\n",
      "|        5|       NULL|      250|     8| Hubballi|   KA|\n",
      "|        6|         66|      600|     9|    Bidar|   KA|\n",
      "|        7|         77|     NULL|     7| Belagavi|   KA|\n",
      "+---------+-----------+---------+------+---------+-----+\n",
      "\n"
     ]
    }
   ],
   "source": [
    "df=df.withColumnRenamed(\"deviceid\",\"Device ID\")\\\n",
    "     .withColumnRenamed(\"customerid\",\"Customer ID\")\\\n",
    "     .withColumnRenamed(\"price\",\"Price\")\\\n",
    "     .withColumnRenamed(\"alerts\",\"Alerts\")\\\n",
    "     .withColumnRenamed(\"location\",\"City\")\\\n",
    "     .withColumnRenamed(\"state\",\"State\")\n",
    "df.show()\n",
    "    \n",
    "    \n",
    "    "
   ]
  },
  {
   "cell_type": "code",
   "execution_count": 5,
   "id": "92fecc0a-f2b1-4699-89bc-d3bf1d41137e",
   "metadata": {},
   "outputs": [
    {
     "name": "stdout",
     "output_type": "stream",
     "text": [
      "The dataset contains 3 missing values.\n"
     ]
    }
   ],
   "source": [
    "if df.columns:  \n",
    "    missing_count = df.select([df[col].isNull().alias(col) for col in df.columns]).rdd.flatMap(lambda row: row).sum()\n",
    "    if missing_count > 0:\n",
    "        print(f\"The dataset contains {missing_count} missing values.\")\n",
    "    else:\n",
    "        print(\"The dataset does not contain any missing values.\")\n",
    "else:\n",
    "    print(\"The dataset is empty.\")\n"
   ]
  },
  {
   "cell_type": "raw",
   "id": "c12dcd96-9bd3-44f5-9c60-61e06f99c003",
   "metadata": {},
   "source": [
    "Print the columns with number of missing values"
   ]
  },
  {
   "cell_type": "code",
   "execution_count": 6,
   "id": "899e6a2a-7e27-48cf-bee5-08b3cedd950c",
   "metadata": {},
   "outputs": [
    {
     "name": "stdout",
     "output_type": "stream",
     "text": [
      "Column 'Device ID' has no missing values.\n",
      "Column 'Customer ID' has 1 missing values.\n",
      "Column 'Price' has 1 missing values.\n",
      "Column 'Alerts' has no missing values.\n",
      "Column 'City' has no missing values.\n",
      "Column 'State' has 1 missing values.\n"
     ]
    }
   ],
   "source": [
    "from pyspark.sql.functions import col, sum as _sum, when\n",
    "\n",
    "\n",
    "missing_values = df.select([\n",
    "    _sum(when(col(c).isNull(), 1).otherwise(0)).alias(c) for c in df.columns\n",
    "])\n",
    "\n",
    "\n",
    "missing_values_dict = missing_values.collect()[0].asDict()\n",
    "for column, missing_count in missing_values_dict.items():\n",
    "    if missing_count > 0:\n",
    "        print(f\"Column '{column}' has {missing_count} missing values.\")\n",
    "    else:\n",
    "        print(f\"Column '{column}' has no missing values.\")"
   ]
  },
  {
   "cell_type": "code",
   "execution_count": 7,
   "id": "79ff7a1e-5dbc-4964-bc2e-767e9b211b0f",
   "metadata": {},
   "outputs": [
    {
     "name": "stdout",
     "output_type": "stream",
     "text": [
      "+---------+-----------+-----+------+---------+-----+\n",
      "|Device ID|Customer ID|price|Alerts|     City|State|\n",
      "+---------+-----------+-----+------+---------+-----+\n",
      "|        1|         11|100.0|    14|Bengaluru|   KA|\n",
      "|        2|         22|312.5|    25|   Mysuru|   KA|\n",
      "|        3|         33|300.0|     6|       AP| NULL|\n",
      "|        4|         44|312.5|     7|  Chennai|   TN|\n",
      "|        5|       NULL|250.0|     8| Hubballi|   KA|\n",
      "|        6|         66|600.0|     9|    Bidar|   KA|\n",
      "|        7|         77|312.5|     7| Belagavi|   KA|\n",
      "+---------+-----------+-----+------+---------+-----+\n",
      "\n"
     ]
    }
   ],
   "source": [
    "from pyspark.sql.functions import col, mean, when\n",
    "\n",
    "# Calculate the mean price, ignoring nulls and invalid values\n",
    "mean_price = df.filter(col(\"price\").cast(\"float\").isNotNull()) \\\n",
    "               .agg(mean(col(\"price\").cast(\"float\")).alias(\"mean_price\")) \\\n",
    "               .collect()[0][\"mean_price\"]\n",
    "\n",
    "# Fill missing or invalid values with the mean price\n",
    "df = df.withColumn(\n",
    "    \"price\",\n",
    "    when(col(\"price\").cast(\"float\").isNotNull(), col(\"price\").cast(\"float\"))\n",
    "    .otherwise(mean_price)\n",
    ")\n",
    "\n",
    "df.show()\n"
   ]
  },
  {
   "cell_type": "code",
   "execution_count": 8,
   "id": "d6a56c09-9546-4e61-b608-33d39f177f6e",
   "metadata": {},
   "outputs": [
    {
     "name": "stdout",
     "output_type": "stream",
     "text": [
      "+---------+-----------+-----+------+---------+-----+\n",
      "|Device ID|Customer ID|price|Alerts|     City|State|\n",
      "+---------+-----------+-----+------+---------+-----+\n",
      "|        1|         11|100.0|    14|Bengaluru|   KA|\n",
      "|        2|         22|312.5|    25|   Mysuru|   KA|\n",
      "|        3|         33|300.0|     6|       AP| NULL|\n",
      "|        4|         44|312.5|     7|  Chennai|   TN|\n",
      "|        6|         66|600.0|     9|    Bidar|   KA|\n",
      "|        7|         77|312.5|     7| Belagavi|   KA|\n",
      "+---------+-----------+-----+------+---------+-----+\n",
      "\n"
     ]
    }
   ],
   "source": [
    "# Drop rows with missing values in 'Device ID' or 'Customer ID' columns\n",
    "df_cleaned = df.dropna(subset=[\"Device ID\", \"Customer ID\"])\n",
    "\n",
    "# Show the cleaned DataFrame\n",
    "df_cleaned.show()\n"
   ]
  },
  {
   "cell_type": "code",
   "execution_count": 9,
   "id": "de81094b-7a17-4a70-9b59-9fc5fd7b4106",
   "metadata": {},
   "outputs": [],
   "source": [
    "spark.stop()"
   ]
  },
  {
   "cell_type": "raw",
   "id": "757df006-57a9-429f-bf80-11e07d263bad",
   "metadata": {},
   "source": [
    "Generate data with schema: MovieID, UserID, Rating and Timestamp"
   ]
  },
  {
   "cell_type": "code",
   "execution_count": 10,
   "id": "d4687b0e-cb50-4abd-bf3a-9285b5edb011",
   "metadata": {},
   "outputs": [],
   "source": [
    "from pyspark.sql import SparkSession\n",
    "\n",
    "import random\n",
    "import time\n",
    "from pyspark.sql.functions import from_unixtime,avg,count"
   ]
  },
  {
   "cell_type": "code",
   "execution_count": 11,
   "id": "b48113d1-6b42-4bce-8e18-25835453e953",
   "metadata": {},
   "outputs": [],
   "source": [
    "spark=SparkSession.builder.getOrCreate()"
   ]
  },
  {
   "cell_type": "code",
   "execution_count": 12,
   "id": "febde37b-3077-4fef-ac59-a84a7d6a8918",
   "metadata": {},
   "outputs": [],
   "source": [
    "\n",
    "num_movies = 50\n",
    "num_users = 100\n",
    "num_records = 1000\n",
    "\n",
    "data = []\n",
    "for _ in range(num_records):\n",
    "    MovieID = random.randint(1, num_movies)\n",
    "    UserID = random.randint(1, num_users)\n",
    "    Rating = random.randint(1, 5)\n",
    "    Timestamp = random.randint(1000000000, int(time.time()))\n",
    "    data.append((MovieID, UserID, Rating, Timestamp))\n",
    "\n",
    "\n",
    "schema = [\"MovieID\", \"UserID\", \"Rating\", \"Timestamp\"]\n",
    "\n",
    "df = spark.createDataFrame(data, schema=schema)"
   ]
  },
  {
   "cell_type": "code",
   "execution_count": 13,
   "id": "772a57b9-7ce7-4e79-9673-5f9fdbc42dcb",
   "metadata": {},
   "outputs": [
    {
     "name": "stdout",
     "output_type": "stream",
     "text": [
      "+-------+------+------+----------+\n",
      "|MovieID|UserID|Rating| Timestamp|\n",
      "+-------+------+------+----------+\n",
      "|     31|    88|     2|1231402040|\n",
      "|      9|    87|     4|1700612632|\n",
      "|      6|    63|     5|1262336762|\n",
      "|     17|    33|     3|1531475648|\n",
      "|     21|    80|     1|1624852591|\n",
      "|     19|    34|     2|1194726774|\n",
      "|     26|     9|     1|1647725148|\n",
      "|     20|    26|     5|1528432124|\n",
      "|      9|    26|     1|1267129569|\n",
      "|     29|    88|     4|1290235099|\n",
      "|      2|    59|     3|1584190906|\n",
      "|      8|    42|     4|1009172913|\n",
      "|     27|    97|     1|1443544679|\n",
      "|     28|    49|     5|1659790581|\n",
      "|     48|    15|     2|1054322991|\n",
      "|     43|     7|     5|1550394803|\n",
      "|     44|    69|     4|1330892567|\n",
      "|      3|    51|     5|1092840925|\n",
      "|     32|    73|     3|1714209900|\n",
      "|     25|    40|     4|1309337065|\n",
      "+-------+------+------+----------+\n",
      "only showing top 20 rows\n",
      "\n"
     ]
    },
    {
     "data": {
      "text/plain": [
       "1000"
      ]
     },
     "execution_count": 13,
     "metadata": {},
     "output_type": "execute_result"
    }
   ],
   "source": [
    "df.show()\n",
    "df.count()"
   ]
  },
  {
   "cell_type": "code",
   "execution_count": 14,
   "id": "5c03eec2-730a-47a2-9e4c-24fed9d21caa",
   "metadata": {},
   "outputs": [
    {
     "name": "stdout",
     "output_type": "stream",
     "text": [
      "+-------+------+------+----------+-------------------+\n",
      "|MovieID|UserID|Rating| Timestamp|       ReadableDate|\n",
      "+-------+------+------+----------+-------------------+\n",
      "|     31|    88|     2|1231402040|2009-01-08 13:37:20|\n",
      "|      9|    87|     4|1700612632|2023-11-22 05:53:52|\n",
      "|      6|    63|     5|1262336762|2010-01-01 14:36:02|\n",
      "|     17|    33|     3|1531475648|2018-07-13 15:24:08|\n",
      "|     21|    80|     1|1624852591|2021-06-28 09:26:31|\n",
      "|     19|    34|     2|1194726774|2007-11-11 02:02:54|\n",
      "|     26|     9|     1|1647725148|2022-03-20 02:55:48|\n",
      "|     20|    26|     5|1528432124|2018-06-08 09:58:44|\n",
      "|      9|    26|     1|1267129569|2010-02-26 01:56:09|\n",
      "|     29|    88|     4|1290235099|2010-11-20 12:08:19|\n",
      "|      2|    59|     3|1584190906|2020-03-14 18:31:46|\n",
      "|      8|    42|     4|1009172913|2001-12-24 11:18:33|\n",
      "|     27|    97|     1|1443544679|2015-09-29 22:07:59|\n",
      "|     28|    49|     5|1659790581|2022-08-06 18:26:21|\n",
      "|     48|    15|     2|1054322991|2003-05-31 00:59:51|\n",
      "|     43|     7|     5|1550394803|2019-02-17 14:43:23|\n",
      "|     44|    69|     4|1330892567|2012-03-05 01:52:47|\n",
      "|      3|    51|     5|1092840925|2004-08-18 20:25:25|\n",
      "|     32|    73|     3|1714209900|2024-04-27 14:55:00|\n",
      "|     25|    40|     4|1309337065|2011-06-29 14:14:25|\n",
      "+-------+------+------+----------+-------------------+\n",
      "only showing top 20 rows\n",
      "\n"
     ]
    }
   ],
   "source": [
    "df=df.withColumn(\"ReadableDate\", from_unixtime(df['Timestamp'], \"yyyy-MM-dd HH:mm:ss\"))\n",
    "df.show()"
   ]
  },
  {
   "cell_type": "code",
   "execution_count": 15,
   "id": "11dac040-e4b6-4ed9-9a5b-233c4f7b297c",
   "metadata": {},
   "outputs": [
    {
     "name": "stdout",
     "output_type": "stream",
     "text": [
      "+-------+------------------+\n",
      "|MovieID|       avg(Rating)|\n",
      "+-------+------------------+\n",
      "|     26|2.6785714285714284|\n",
      "|     29|2.8260869565217392|\n",
      "|     19| 3.210526315789474|\n",
      "|     22|               3.0|\n",
      "|      7|              2.75|\n",
      "|     34|               3.3|\n",
      "|     50|               3.0|\n",
      "|     43|              3.16|\n",
      "|     32|2.8947368421052633|\n",
      "|     31|               3.1|\n",
      "|     39|2.9130434782608696|\n",
      "|     25|2.9473684210526314|\n",
      "|      6|3.1923076923076925|\n",
      "|      9|              2.65|\n",
      "|     27|             2.875|\n",
      "|     17|               2.5|\n",
      "|     41| 2.588235294117647|\n",
      "|     28| 3.272727272727273|\n",
      "|     33|2.7142857142857144|\n",
      "|      5|              3.35|\n",
      "+-------+------------------+\n",
      "only showing top 20 rows\n",
      "\n"
     ]
    }
   ],
   "source": [
    "df.groupBy(\"MovieID\").agg(avg('Rating')).show()\n"
   ]
  },
  {
   "cell_type": "raw",
   "id": "005fe2a0-8353-440d-a8fb-5e49ad302382",
   "metadata": {},
   "source": [
    "Identify users who have rated more than 5 movies."
   ]
  },
  {
   "cell_type": "code",
   "execution_count": null,
   "id": "c097a55f-5ac7-4fda-a5f1-7132b5a76065",
   "metadata": {},
   "outputs": [],
   "source": []
  },
  {
   "cell_type": "code",
   "execution_count": 16,
   "id": "6ae5ea70-4590-4b19-b72a-769858a9e6c9",
   "metadata": {},
   "outputs": [
    {
     "name": "stdout",
     "output_type": "stream",
     "text": [
      "+------+----------+\n",
      "|UserID|MovieCount|\n",
      "+------+----------+\n",
      "|    26|        18|\n",
      "|    29|         5|\n",
      "|    65|        13|\n",
      "|    54|         8|\n",
      "|    22|        11|\n",
      "|     7|         8|\n",
      "|    34|        13|\n",
      "|    50|         9|\n",
      "|    94|        13|\n",
      "|    57|        10|\n",
      "|    32|         7|\n",
      "|    43|        13|\n",
      "|    84|         8|\n",
      "|    31|        13|\n",
      "|    39|         7|\n",
      "|    25|        13|\n",
      "|    95|         8|\n",
      "|    71|        10|\n",
      "|    68|        11|\n",
      "|     6|         8|\n",
      "+------+----------+\n",
      "only showing top 20 rows\n",
      "\n"
     ]
    }
   ],
   "source": [
    "movie_count = df.groupBy('UserID').agg(count('MovieID').alias('MovieCount'))\n",
    "movie_count.show()"
   ]
  },
  {
   "cell_type": "code",
   "execution_count": 17,
   "id": "a206fb98-4c44-4ef5-9c9b-db23b53b7144",
   "metadata": {},
   "outputs": [
    {
     "name": "stdout",
     "output_type": "stream",
     "text": [
      "+------+----------+\n",
      "|UserID|MovieCount|\n",
      "+------+----------+\n",
      "|    67|         3|\n",
      "|    19|         2|\n",
      "|    77|         4|\n",
      "+------+----------+\n",
      "\n"
     ]
    }
   ],
   "source": [
    "usercount=movie_count.filter(movie_count['MovieCount']<5)\n",
    "usercount.show()"
   ]
  },
  {
   "cell_type": "code",
   "execution_count": 18,
   "id": "df4d84f3-38ce-4945-a252-31bd3b20435b",
   "metadata": {},
   "outputs": [
    {
     "name": "stdout",
     "output_type": "stream",
     "text": [
      "root\n",
      " |-- MovieID: long (nullable = true)\n",
      " |-- UserID: long (nullable = true)\n",
      " |-- Rating: long (nullable = true)\n",
      " |-- Timestamp: long (nullable = true)\n",
      " |-- ReadableDate: string (nullable = true)\n",
      "\n"
     ]
    }
   ],
   "source": [
    "df.printSchema()"
   ]
  },
  {
   "cell_type": "code",
   "execution_count": 19,
   "id": "5c181adb-41bb-4eb3-8096-e35185ec36f2",
   "metadata": {},
   "outputs": [
    {
     "name": "stdout",
     "output_type": "stream",
     "text": [
      "+-------+------+\n",
      "|MovieID|Rating|\n",
      "+-------+------+\n",
      "|     43|     5|\n",
      "|     25|     5|\n",
      "|     47|     5|\n",
      "|     43|     5|\n",
      "|     29|     5|\n",
      "+-------+------+\n",
      "only showing top 5 rows\n",
      "\n"
     ]
    }
   ],
   "source": [
    "df.select(\"MovieID\",\"Rating\").orderBy(df[\"Rating\"].desc()).show(5)"
   ]
  },
  {
   "cell_type": "code",
   "execution_count": 20,
   "id": "f5ce77f9-f526-4450-b2e3-7c40bdef1d50",
   "metadata": {},
   "outputs": [],
   "source": [
    "import matplotlib.pyplot as plt"
   ]
  },
  {
   "cell_type": "code",
   "execution_count": 21,
   "id": "8715d02a-3e62-4706-a286-a619c8c92012",
   "metadata": {},
   "outputs": [
    {
     "data": {
      "text/plain": [
       "Text(0.5, 1.0, 'Number of Movies Rated by Each User')"
      ]
     },
     "execution_count": 21,
     "metadata": {},
     "output_type": "execute_result"
    },
    {
     "data": {
      "image/png": "[encoded data removed]",
      "text/plain": [
       "<Figure size 1200x600 with 1 Axes>"
      ]
     },
     "metadata": {},
     "output_type": "display_data"
    }
   ],
   "source": [
    "visualization=movie_count.toPandas()\n",
    "plt.figure(figsize=(12, 6))\n",
    "plt.bar(visualization['UserID'], visualization['MovieCount'], color='skyblue')\n",
    "plt.xlabel('User ID')\n",
    "plt.ylabel('Number of Movies Rated')\n",
    "plt.title('Number of Movies Rated by Each User')\n"
   ]
  },
  {
   "cell_type": "raw",
   "id": "458560ad-ea22-4d0e-93eb-998df8b223fa",
   "metadata": {},
   "source": [
    "                                                Assignment 2"
   ]
  },
  {
   "cell_type": "code",
   "execution_count": 22,
   "id": "32357622-d137-4ec5-9825-2b9420820512",
   "metadata": {},
   "outputs": [],
   "source": [
    "from pyspark.sql.functions import col, hour, avg, desc,count\n",
    "import matplotlib.pyplot as plt\n",
    "from pyspark.sql import SparkSession"
   ]
  },
  {
   "cell_type": "code",
   "execution_count": 23,
   "id": "14bcba81-c933-4c66-b208-9f83113a13d8",
   "metadata": {},
   "outputs": [],
   "source": [
    "spark = SparkSession.builder \\\n",
    "    .appName(\"Trip Data Analysis\") \\\n",
    "    .getOrCreate()"
   ]
  },
  {
   "cell_type": "code",
   "execution_count": 24,
   "id": "7efb0ea2-8a6d-451a-b019-b1779d0fdc42",
   "metadata": {},
   "outputs": [],
   "source": [
    "#Generate data with schema: TripID, StartTime, EndTime, Distance, Fare\n",
    "data = [\n",
    "    (\"T1\", \"2024-12-20 08:30:00\", \"2024-12-20 09:00:00\", 15.0, 25.0),\n",
    "    (\"T2\", \"2024-12-20 09:15:00\", \"2024-12-20 09:45:00\", 20.0, 35.0),\n",
    "    (\"T3\", \"2024-12-20 10:00:00\", \"2024-12-20 10:45:00\", 10.0, 15.0),\n",
    "    (\"T4\", \"2024-12-20 11:30:00\", \"2024-12-20 12:15:00\", 30.0, 50.0),\n",
    "    (\"T5\", \"2024-12-20 13:00:00\", \"2024-12-20 14:00:00\", 50.0, 75.0),\n",
    "]\n",
    "schema = [\"TripID\", \"StartTime\", \"EndTime\", \"Distance\", \"Fare\"]"
   ]
  },
  {
   "cell_type": "code",
   "execution_count": 25,
   "id": "cfa4e8c8-7304-4086-91bb-ec242c4b1eaa",
   "metadata": {},
   "outputs": [
    {
     "name": "stdout",
     "output_type": "stream",
     "text": [
      "+------+-------------------+-------------------+--------+----+\n",
      "|TripID|          StartTime|            EndTime|Distance|Fare|\n",
      "+------+-------------------+-------------------+--------+----+\n",
      "|    T1|2024-12-20 08:30:00|2024-12-20 09:00:00|    15.0|25.0|\n",
      "|    T2|2024-12-20 09:15:00|2024-12-20 09:45:00|    20.0|35.0|\n",
      "|    T3|2024-12-20 10:00:00|2024-12-20 10:45:00|    10.0|15.0|\n",
      "|    T4|2024-12-20 11:30:00|2024-12-20 12:15:00|    30.0|50.0|\n",
      "|    T5|2024-12-20 13:00:00|2024-12-20 14:00:00|    50.0|75.0|\n",
      "+------+-------------------+-------------------+--------+----+\n",
      "\n"
     ]
    }
   ],
   "source": [
    "trip_df = spark.createDataFrame(data, schema)\n",
    "trip_df.show()"
   ]
  },
  {
   "cell_type": "code",
   "execution_count": 26,
   "id": "6bb88167-6692-4968-861d-0c43fd709664",
   "metadata": {},
   "outputs": [
    {
     "name": "stdout",
     "output_type": "stream",
     "text": [
      "+------+-------------------+-------------------+--------+----+------------------+\n",
      "|TripID|          StartTime|            EndTime|Distance|Fare|       FarePerMile|\n",
      "+------+-------------------+-------------------+--------+----+------------------+\n",
      "|    T1|2024-12-20 08:30:00|2024-12-20 09:00:00|    15.0|25.0|1.6666666666666667|\n",
      "|    T2|2024-12-20 09:15:00|2024-12-20 09:45:00|    20.0|35.0|              1.75|\n",
      "|    T3|2024-12-20 10:00:00|2024-12-20 10:45:00|    10.0|15.0|               1.5|\n",
      "|    T4|2024-12-20 11:30:00|2024-12-20 12:15:00|    30.0|50.0|1.6666666666666667|\n",
      "|    T5|2024-12-20 13:00:00|2024-12-20 14:00:00|    50.0|75.0|               1.5|\n",
      "+------+-------------------+-------------------+--------+----+------------------+\n",
      "\n",
      "+------------------+\n",
      "|    AvgFarePerMile|\n",
      "+------------------+\n",
      "|1.6166666666666667|\n",
      "+------------------+\n",
      "\n"
     ]
    }
   ],
   "source": [
    "trip_df = trip_df.withColumn(\"FarePerMile\", trip_df[\"Fare\"] / trip_df[\"Distance\"])\n",
    "trip_df.show()\n",
    "avg_fare = trip_df.select(avg(\"FarePerMile\").alias(\"AvgFarePerMile\")) #avg(column) gives average of the particular column \n",
    "\n",
    "avg_fare.show() #.alias will give new name of the column for this particular line of code"
   ]
  },
  {
   "cell_type": "code",
   "execution_count": 27,
   "id": "8ae00f67-009a-441d-b83c-841f1465dddc",
   "metadata": {},
   "outputs": [],
   "source": [
    "from pyspark.sql.functions import unix_timestamp,from_unixtime"
   ]
  },
  {
   "cell_type": "code",
   "execution_count": 28,
   "id": "249e21b1-2cca-485b-8c4e-0f320ceb7483",
   "metadata": {},
   "outputs": [
    {
     "name": "stdout",
     "output_type": "stream",
     "text": [
      "+------+-------------------+-------------------+--------+----+------------------+------------+\n",
      "|TripID|          StartTime|            EndTime|Distance|Fare|       FarePerMile|TripDuration|\n",
      "+------+-------------------+-------------------+--------+----+------------------+------------+\n",
      "|    T1|2024-12-20 08:30:00|2024-12-20 09:00:00|    15.0|25.0|1.6666666666666667|        30.0|\n",
      "|    T2|2024-12-20 09:15:00|2024-12-20 09:45:00|    20.0|35.0|              1.75|        30.0|\n",
      "|    T3|2024-12-20 10:00:00|2024-12-20 10:45:00|    10.0|15.0|               1.5|        45.0|\n",
      "|    T4|2024-12-20 11:30:00|2024-12-20 12:15:00|    30.0|50.0|1.6666666666666667|        45.0|\n",
      "|    T5|2024-12-20 13:00:00|2024-12-20 14:00:00|    50.0|75.0|               1.5|        60.0|\n",
      "+------+-------------------+-------------------+--------+----+------------------+------------+\n",
      "\n"
     ]
    }
   ],
   "source": [
    "#Find the average fare per mile\n",
    "trip_df = trip_df.withColumn(\n",
    "    \"TripDuration\",\n",
    "    (unix_timestamp(trip_df[\"EndTime\"]) - unix_timestamp(trip_df[\"StartTime\"])) / 60\n",
    ")\n",
    "trip_df.show()"
   ]
  },
  {
   "cell_type": "code",
   "execution_count": 29,
   "id": "d2a090ee-c84e-4239-9949-338d89ee420e",
   "metadata": {},
   "outputs": [
    {
     "name": "stdout",
     "output_type": "stream",
     "text": [
      "+------+-------------------+-------------------+--------+----+------------------+------------+\n",
      "|TripID|          StartTime|            EndTime|Distance|Fare|       FarePerMile|TripDuration|\n",
      "+------+-------------------+-------------------+--------+----+------------------+------------+\n",
      "|    T5|2024-12-20 13:00:00|2024-12-20 14:00:00|    50.0|75.0|               1.5|        60.0|\n",
      "|    T4|2024-12-20 11:30:00|2024-12-20 12:15:00|    30.0|50.0|1.6666666666666667|        45.0|\n",
      "|    T2|2024-12-20 09:15:00|2024-12-20 09:45:00|    20.0|35.0|              1.75|        30.0|\n",
      "+------+-------------------+-------------------+--------+----+------------------+------------+\n",
      "only showing top 3 rows\n",
      "\n"
     ]
    }
   ],
   "source": [
    "#Identify the top 3 longest trips based on distance\n",
    "longest_trips = trip_df.orderBy(trip_df[\"Distance\"].desc()) #it will sort distance in descending order\n",
    "longest_trips.show(3)\n"
   ]
  },
  {
   "cell_type": "raw",
   "id": "44ff7c8a-a496-4d57-b4a5-daaed5ec5cf5",
   "metadata": {},
   "source": [
    "The hour function extracts the hour component from a timestamp or datetime string.\n",
    "For example, if StartTime is \"2024-12-20 08:30:00\", the hour function will return 8"
   ]
  },
  {
   "cell_type": "code",
   "execution_count": 30,
   "id": "d48a3878-3847-4b97-9ce8-542a5380aeb6",
   "metadata": {},
   "outputs": [
    {
     "name": "stdout",
     "output_type": "stream",
     "text": [
      "+------+-------------------+-------------------+--------+----+------------------+------------+----+\n",
      "|TripID|          StartTime|            EndTime|Distance|Fare|       FarePerMile|TripDuration|Hour|\n",
      "+------+-------------------+-------------------+--------+----+------------------+------------+----+\n",
      "|    T1|2024-12-20 08:30:00|2024-12-20 09:00:00|    15.0|25.0|1.6666666666666667|        30.0|   8|\n",
      "|    T2|2024-12-20 09:15:00|2024-12-20 09:45:00|    20.0|35.0|              1.75|        30.0|   9|\n",
      "|    T3|2024-12-20 10:00:00|2024-12-20 10:45:00|    10.0|15.0|               1.5|        45.0|  10|\n",
      "|    T4|2024-12-20 11:30:00|2024-12-20 12:15:00|    30.0|50.0|1.6666666666666667|        45.0|  11|\n",
      "|    T5|2024-12-20 13:00:00|2024-12-20 14:00:00|    50.0|75.0|               1.5|        60.0|  13|\n",
      "+------+-------------------+-------------------+--------+----+------------------+------------+----+\n",
      "\n",
      "+----+-----------+\n",
      "|Hour|count(Hour)|\n",
      "+----+-----------+\n",
      "|   8|          1|\n",
      "|   9|          1|\n",
      "|  10|          1|\n",
      "|  11|          1|\n",
      "|  13|          1|\n",
      "+----+-----------+\n",
      "\n"
     ]
    }
   ],
   "source": [
    "#Group trips by hour of the day and calculate the total number of trips per hour\n",
    "trip_df = trip_df.withColumn(\"Hour\", hour(\"StartTime\"))\n",
    "trip_df.show()\n",
    "trips_per_hour = trip_df.groupBy(\"Hour\").agg(count(\"Hour\")).orderBy('Hour')\n",
    "trips_per_hour.show()"
   ]
  },
  {
   "cell_type": "code",
   "execution_count": 31,
   "id": "4abe3d5b-a6d7-4254-a5e8-45bdf470dd61",
   "metadata": {},
   "outputs": [
    {
     "data": {
      "image/png": "[encoded data removed]",
      "text/plain": [
       "<Figure size 1000x600 with 1 Axes>"
      ]
     },
     "metadata": {},
     "output_type": "display_data"
    }
   ],
   "source": [
    "pandas_df = trips_per_hour.toPandas()\n",
    "\n",
    "plt.figure(figsize=(10, 6))\n",
    "plt.bar(pandas_df[\"Hour\"], pandas_df[\"count(Hour)\"], color=\"skyblue\")\n",
    "plt.xlabel(\"Hour of the Day\")\n",
    "plt.ylabel(\"Number of Trips\")\n",
    "plt.title(\"Trips Per Hour of the Day\")\n",
    "plt.xticks(range(0, 24))\n",
    "plt.grid(axis=\"y\", linestyle=\"--\", alpha=0.7)\n",
    "plt.show()"
   ]
  },
  {
   "cell_type": "raw",
   "id": "a49a5c73-a92f-40fc-9d30-dadfbc8bec8c",
   "metadata": {},
   "source": [
    "unix_timestamp\n",
    "Converts a timestamp or date string into a Unix timestamp (number of seconds since January 1, 1970)."
   ]
  },
  {
   "cell_type": "code",
   "execution_count": 192,
   "id": "2674da60-c36c-4978-aab3-aaa8813457f7",
   "metadata": {},
   "outputs": [
    {
     "name": "stdout",
     "output_type": "stream",
     "text": [
      "+-------------------+\n",
      "|          StartTime|\n",
      "+-------------------+\n",
      "|2024-12-20 08:30:00|\n",
      "+-------------------+\n",
      "\n",
      "+-------------------+----------+\n",
      "|          StartTime|  UnixTime|\n",
      "+-------------------+----------+\n",
      "|2024-12-20 08:30:00|1734663600|\n",
      "+-------------------+----------+\n",
      "\n"
     ]
    }
   ],
   "source": [
    "from pyspark.sql.functions import unix_timestamp\n",
    "\n",
    "df = spark.createDataFrame([(\"2024-12-20 08:30:00\",)], [\"StartTime\"])\n",
    "df.show()\n",
    "df = df.withColumn(\"UnixTime\", unix_timestamp(\"StartTime\"))\n",
    "df.show()"
   ]
  },
  {
   "cell_type": "raw",
   "id": "eaae8ee5-1d29-4e6c-809d-27ab97e581a7",
   "metadata": {},
   "source": [
    "from_unixtime\n",
    "Converts a Unix timestamp back to a human-readable timestamp string.\n"
   ]
  },
  {
   "cell_type": "code",
   "execution_count": 193,
   "id": "709ef520-ae87-470f-ac96-6ee8bfc4625f",
   "metadata": {},
   "outputs": [
    {
     "name": "stdout",
     "output_type": "stream",
     "text": [
      "+-------------------+----------+-------------------+\n",
      "|          StartTime|  UnixTime|       ReadableTime|\n",
      "+-------------------+----------+-------------------+\n",
      "|2024-12-20 08:30:00|1734663600|2024-12-20 08:30:00|\n",
      "+-------------------+----------+-------------------+\n",
      "\n"
     ]
    }
   ],
   "source": [
    "df = df.withColumn(\"ReadableTime\", from_unixtime(\"UnixTime\"))\n",
    "df.show()"
   ]
  },
  {
   "cell_type": "code",
   "execution_count": 219,
   "id": "ffbc2877-879f-4e0a-8b91-78dd1c30ccf8",
   "metadata": {},
   "outputs": [],
   "source": [
    "from pyspark.sql.functions import col, hour, avg, desc,split\n",
    "import matplotlib.pyplot as plt\n",
    "from pyspark.sql import SparkSession"
   ]
  },
  {
   "cell_type": "code",
   "execution_count": 220,
   "id": "bafd2ef9-aeed-4223-96bc-1c98c56dfe56",
   "metadata": {},
   "outputs": [],
   "source": [
    "spark=SparkSession.builder.appName(\"LogAnalysis\").getOrCreate()"
   ]
  },
  {
   "cell_type": "code",
   "execution_count": 221,
   "id": "0b741a33-4416-4ed0-89c4-296cdb6750ae",
   "metadata": {},
   "outputs": [
    {
     "name": "stdout",
     "output_type": "stream",
     "text": [
      "+--------------------+\n",
      "|               value|\n",
      "+--------------------+\n",
      "|\"2024-12-18 10:15...|\n",
      "|\"2023-12-18 11:16...|\n",
      "|\"2022-12-18 13:17...|\n",
      "|\"2021-12-18 17:18...|\n",
      "|\"2020-12-18 8:19:...|\n",
      "|\"2019-12-18 9:20:...|\n",
      "|\"2024-12-18 11:21...|\n",
      "|\"2023-12-18 8:22:...|\n",
      "|\"2022-12-18 5:23:...|\n",
      "|\"2021-12-18 5:24:...|\n",
      "|\"2020-12-18 7:25:...|\n",
      "|\"2022-12-18 10:26...|\n",
      "|\"2024-12-18 11:27...|\n",
      "|\"2024-12-18 12:28...|\n",
      "|\"2024-12-18 13:29...|\n",
      "|\"2024-12-18 13:30...|\n",
      "|\"2024-12-18 16:31...|\n",
      "|\"2024-12-18 10:32...|\n",
      "|\"2024-12-18 12:33...|\n",
      "|\"2024-12-18 15:34...|\n",
      "+--------------------+\n",
      "\n"
     ]
    }
   ],
   "source": [
    "df=spark.read.text(\"Log_File.txt\")\n",
    "df.show()"
   ]
  },
  {
   "cell_type": "code",
   "execution_count": 222,
   "id": "80e66525-37ee-4e3f-ae09-16153cf724bf",
   "metadata": {},
   "outputs": [],
   "source": [
    "from pyspark.sql.functions import split, concat, lit\n",
    "\n",
    "parsed_df = df.withColumn(\"timestamp\", concat(split(df[\"value\"], \" \")[0],lit(\" \"),split(df[\"value\"],\" \")[1])) \\\n",
    "                        .withColumn(\"log_level\", split(df[\"value\"], \" \")[2]) \\\n",
    "                        .withColumn(\"message\", concat(split(df[\"value\"], \" \")[3],lit(\" \"),split(df['value'],\" \")[4],lit(\" \"),split(df['value'],\" \")[5]))\n",
    "#splitting and concating the values "
   ]
  },
  {
   "cell_type": "code",
   "execution_count": 223,
   "id": "e9a17834-d2a8-45f0-b80f-4340634fb1cc",
   "metadata": {},
   "outputs": [
    {
     "name": "stdout",
     "output_type": "stream",
     "text": [
      "+--------------------+--------------------+---------+--------------------+\n",
      "|               value|           timestamp|log_level|             message|\n",
      "+--------------------+--------------------+---------+--------------------+\n",
      "|\"2024-12-18 10:15...|\"2024-12-18 10:15:32|     INFO|     User logged in\"|\n",
      "|\"2023-12-18 11:16...|\"2023-12-18 11:16:02|    ERROR|     Page not found\"|\n",
      "|\"2022-12-18 13:17...|\"2022-12-18 13:17:20|     INFO|Data uploaded suc...|\n",
      "|\"2021-12-18 17:18...|\"2021-12-18 17:18:45|     INFO|     User logged in\"|\n",
      "|\"2020-12-18 8:19:...| \"2020-12-18 8:19:12|    ERROR|     Page not found\"|\n",
      "|\"2019-12-18 9:20:...| \"2019-12-18 9:20:30|     INFO|Data uploaded suc...|\n",
      "|\"2024-12-18 11:21...|\"2024-12-18 11:21:55|     INFO|     User logged in\"|\n",
      "|\"2023-12-18 8:22:...| \"2023-12-18 8:22:18|    ERROR|     Page not found\"|\n",
      "|\"2022-12-18 5:23:...| \"2022-12-18 5:23:35|     INFO|Data uploaded suc...|\n",
      "|\"2021-12-18 5:24:...| \"2021-12-18 5:24:00|     INFO|     User logged in\"|\n",
      "|\"2020-12-18 7:25:...| \"2020-12-18 7:25:25|    ERROR|     Page not found\"|\n",
      "|\"2022-12-18 10:26...|\"2022-12-18 10:26:50|     INFO|Data uploaded suc...|\n",
      "|\"2024-12-18 11:27...|\"2024-12-18 11:27:10|     INFO|     User logged in\"|\n",
      "|\"2024-12-18 12:28...|\"2024-12-18 12:28:05|    ERROR|     Page not found\"|\n",
      "|\"2024-12-18 13:29...|\"2024-12-18 13:29:15|     INFO|Data uploaded suc...|\n",
      "|\"2024-12-18 13:30...|\"2024-12-18 13:30:40|     INFO|     User logged in\"|\n",
      "|\"2024-12-18 16:31...|\"2024-12-18 16:31:50|    ERROR|     Page not found\"|\n",
      "|\"2024-12-18 10:32...|\"2024-12-18 10:32:30|     INFO|Data uploaded suc...|\n",
      "|\"2024-12-18 12:33...|\"2024-12-18 12:33:20|     INFO|     User logged in\"|\n",
      "|\"2024-12-18 15:34...|\"2024-12-18 15:34:10|    ERROR|     Page not found\"|\n",
      "+--------------------+--------------------+---------+--------------------+\n",
      "\n"
     ]
    }
   ],
   "source": [
    "parsed_df.show()"
   ]
  },
  {
   "cell_type": "code",
   "execution_count": 224,
   "id": "3b9c1634-2c88-4997-9b10-f1ee31801785",
   "metadata": {},
   "outputs": [
    {
     "name": "stdout",
     "output_type": "stream",
     "text": [
      "+---------+-----+\n",
      "|log_level|count|\n",
      "+---------+-----+\n",
      "|     INFO|   13|\n",
      "|    ERROR|    7|\n",
      "+---------+-----+\n",
      "\n"
     ]
    }
   ],
   "source": [
    "#Count the number of occurrences of each log level\n",
    "logs = parsed_df.groupBy(\"log_level\").count()\n",
    "logs.show()"
   ]
  },
  {
   "cell_type": "code",
   "execution_count": 225,
   "id": "7af75932-95d9-455e-b96f-b3533d800ac8",
   "metadata": {},
   "outputs": [
    {
     "name": "stdout",
     "output_type": "stream",
     "text": [
      "+--------------------+--------------------+---------+---------------+\n",
      "|               value|           timestamp|log_level|        message|\n",
      "+--------------------+--------------------+---------+---------------+\n",
      "|\"2023-12-18 11:16...|\"2023-12-18 11:16:02|    ERROR|Page not found\"|\n",
      "|\"2020-12-18 8:19:...| \"2020-12-18 8:19:12|    ERROR|Page not found\"|\n",
      "|\"2023-12-18 8:22:...| \"2023-12-18 8:22:18|    ERROR|Page not found\"|\n",
      "|\"2020-12-18 7:25:...| \"2020-12-18 7:25:25|    ERROR|Page not found\"|\n",
      "|\"2024-12-18 12:28...|\"2024-12-18 12:28:05|    ERROR|Page not found\"|\n",
      "|\"2024-12-18 16:31...|\"2024-12-18 16:31:50|    ERROR|Page not found\"|\n",
      "|\"2024-12-18 15:34...|\"2024-12-18 15:34:10|    ERROR|Page not found\"|\n",
      "+--------------------+--------------------+---------+---------------+\n",
      "\n"
     ]
    }
   ],
   "source": [
    "#Filter and display only the ERROR logs\n",
    "error = parsed_df.filter(parsed_df[\"log_level\"] == \"ERROR\")\n",
    "error.show()"
   ]
  },
  {
   "cell_type": "code",
   "execution_count": 227,
   "id": "30c6c6e5-ebaa-42f6-8359-43148d9be897",
   "metadata": {},
   "outputs": [
    {
     "name": "stdout",
     "output_type": "stream",
     "text": [
      "+--------------------+-------------------+---------+--------------------+\n",
      "|               value|          timestamp|log_level|             message|\n",
      "+--------------------+-------------------+---------+--------------------+\n",
      "|\"2024-12-18 10:15...|2024-12-18 10:15:32|     INFO|     User logged in\"|\n",
      "|\"2023-12-18 11:16...|2023-12-18 11:16:02|    ERROR|     Page not found\"|\n",
      "|\"2022-12-18 13:17...|2022-12-18 13:17:20|     INFO|Data uploaded suc...|\n",
      "|\"2021-12-18 17:18...|2021-12-18 17:18:45|     INFO|     User logged in\"|\n",
      "|\"2020-12-18 8:19:...| 2020-12-18 8:19:12|    ERROR|     Page not found\"|\n",
      "|\"2019-12-18 9:20:...| 2019-12-18 9:20:30|     INFO|Data uploaded suc...|\n",
      "|\"2024-12-18 11:21...|2024-12-18 11:21:55|     INFO|     User logged in\"|\n",
      "|\"2023-12-18 8:22:...| 2023-12-18 8:22:18|    ERROR|     Page not found\"|\n",
      "|\"2022-12-18 5:23:...| 2022-12-18 5:23:35|     INFO|Data uploaded suc...|\n",
      "|\"2021-12-18 5:24:...| 2021-12-18 5:24:00|     INFO|     User logged in\"|\n",
      "|\"2020-12-18 7:25:...| 2020-12-18 7:25:25|    ERROR|     Page not found\"|\n",
      "|\"2022-12-18 10:26...|2022-12-18 10:26:50|     INFO|Data uploaded suc...|\n",
      "|\"2024-12-18 11:27...|2024-12-18 11:27:10|     INFO|     User logged in\"|\n",
      "|\"2024-12-18 12:28...|2024-12-18 12:28:05|    ERROR|     Page not found\"|\n",
      "|\"2024-12-18 13:29...|2024-12-18 13:29:15|     INFO|Data uploaded suc...|\n",
      "|\"2024-12-18 13:30...|2024-12-18 13:30:40|     INFO|     User logged in\"|\n",
      "|\"2024-12-18 16:31...|2024-12-18 16:31:50|    ERROR|     Page not found\"|\n",
      "|\"2024-12-18 10:32...|2024-12-18 10:32:30|     INFO|Data uploaded suc...|\n",
      "|\"2024-12-18 12:33...|2024-12-18 12:33:20|     INFO|     User logged in\"|\n",
      "|\"2024-12-18 15:34...|2024-12-18 15:34:10|    ERROR|     Page not found\"|\n",
      "+--------------------+-------------------+---------+--------------------+\n",
      "\n"
     ]
    }
   ],
   "source": [
    "from pyspark.sql.functions import regexp_replace, col\n",
    "\n",
    "# To Remove the extra double quote from the timestamp column\n",
    "cleaned_df = parsed_df.withColumn(\"timestamp\", regexp_replace(\"timestamp\", r'^\"|\"$', \"\"))\n",
    "\n",
    "cleaned_df.show()\n"
   ]
  },
  {
   "cell_type": "code",
   "execution_count": 228,
   "id": "bf861477-b066-4898-8389-3f109fcc1d12",
   "metadata": {},
   "outputs": [
    {
     "name": "stdout",
     "output_type": "stream",
     "text": [
      "+--------------------+-------------------+---------+--------------------+\n",
      "|               value|          timestamp|log_level|             message|\n",
      "+--------------------+-------------------+---------+--------------------+\n",
      "|\"2024-12-18 10:15...|2024-12-18 10:15:32|     INFO|      User logged in|\n",
      "|\"2023-12-18 11:16...|2023-12-18 11:16:02|    ERROR|      Page not found|\n",
      "|\"2022-12-18 13:17...|2022-12-18 13:17:20|     INFO|Data uploaded suc...|\n",
      "|\"2021-12-18 17:18...|2021-12-18 17:18:45|     INFO|      User logged in|\n",
      "|\"2020-12-18 8:19:...| 2020-12-18 8:19:12|    ERROR|      Page not found|\n",
      "|\"2019-12-18 9:20:...| 2019-12-18 9:20:30|     INFO|Data uploaded suc...|\n",
      "|\"2024-12-18 11:21...|2024-12-18 11:21:55|     INFO|      User logged in|\n",
      "|\"2023-12-18 8:22:...| 2023-12-18 8:22:18|    ERROR|      Page not found|\n",
      "|\"2022-12-18 5:23:...| 2022-12-18 5:23:35|     INFO|Data uploaded suc...|\n",
      "|\"2021-12-18 5:24:...| 2021-12-18 5:24:00|     INFO|      User logged in|\n",
      "|\"2020-12-18 7:25:...| 2020-12-18 7:25:25|    ERROR|      Page not found|\n",
      "|\"2022-12-18 10:26...|2022-12-18 10:26:50|     INFO|Data uploaded suc...|\n",
      "|\"2024-12-18 11:27...|2024-12-18 11:27:10|     INFO|      User logged in|\n",
      "|\"2024-12-18 12:28...|2024-12-18 12:28:05|    ERROR|      Page not found|\n",
      "|\"2024-12-18 13:29...|2024-12-18 13:29:15|     INFO|Data uploaded suc...|\n",
      "|\"2024-12-18 13:30...|2024-12-18 13:30:40|     INFO|      User logged in|\n",
      "|\"2024-12-18 16:31...|2024-12-18 16:31:50|    ERROR|      Page not found|\n",
      "|\"2024-12-18 10:32...|2024-12-18 10:32:30|     INFO|Data uploaded suc...|\n",
      "|\"2024-12-18 12:33...|2024-12-18 12:33:20|     INFO|      User logged in|\n",
      "|\"2024-12-18 15:34...|2024-12-18 15:34:10|    ERROR|      Page not found|\n",
      "+--------------------+-------------------+---------+--------------------+\n",
      "\n"
     ]
    }
   ],
   "source": [
    "cleaned_df = cleaned_df.withColumn(\"message\", regexp_replace(col(\"message\"), r'^\"|\"$', \"\"))\n",
    "\n",
    "cleaned_df.show()\n"
   ]
  },
  {
   "cell_type": "code",
   "execution_count": 229,
   "id": "bd5b0258-d88d-41ad-ac31-c3a94d24cee1",
   "metadata": {},
   "outputs": [
    {
     "name": "stdout",
     "output_type": "stream",
     "text": [
      "+--------------------+-------------------+---------+--------------------+----+\n",
      "|               value|          timestamp|log_level|             message|Hour|\n",
      "+--------------------+-------------------+---------+--------------------+----+\n",
      "|\"2024-12-18 10:15...|2024-12-18 10:15:32|     INFO|      User logged in|  10|\n",
      "|\"2023-12-18 11:16...|2023-12-18 11:16:02|    ERROR|      Page not found|  11|\n",
      "|\"2022-12-18 13:17...|2022-12-18 13:17:20|     INFO|Data uploaded suc...|  13|\n",
      "|\"2021-12-18 17:18...|2021-12-18 17:18:45|     INFO|      User logged in|  17|\n",
      "|\"2020-12-18 8:19:...| 2020-12-18 8:19:12|    ERROR|      Page not found|   8|\n",
      "|\"2019-12-18 9:20:...| 2019-12-18 9:20:30|     INFO|Data uploaded suc...|   9|\n",
      "|\"2024-12-18 11:21...|2024-12-18 11:21:55|     INFO|      User logged in|  11|\n",
      "|\"2023-12-18 8:22:...| 2023-12-18 8:22:18|    ERROR|      Page not found|   8|\n",
      "|\"2022-12-18 5:23:...| 2022-12-18 5:23:35|     INFO|Data uploaded suc...|   5|\n",
      "|\"2021-12-18 5:24:...| 2021-12-18 5:24:00|     INFO|      User logged in|   5|\n",
      "|\"2020-12-18 7:25:...| 2020-12-18 7:25:25|    ERROR|      Page not found|   7|\n",
      "|\"2022-12-18 10:26...|2022-12-18 10:26:50|     INFO|Data uploaded suc...|  10|\n",
      "|\"2024-12-18 11:27...|2024-12-18 11:27:10|     INFO|      User logged in|  11|\n",
      "|\"2024-12-18 12:28...|2024-12-18 12:28:05|    ERROR|      Page not found|  12|\n",
      "|\"2024-12-18 13:29...|2024-12-18 13:29:15|     INFO|Data uploaded suc...|  13|\n",
      "|\"2024-12-18 13:30...|2024-12-18 13:30:40|     INFO|      User logged in|  13|\n",
      "|\"2024-12-18 16:31...|2024-12-18 16:31:50|    ERROR|      Page not found|  16|\n",
      "|\"2024-12-18 10:32...|2024-12-18 10:32:30|     INFO|Data uploaded suc...|  10|\n",
      "|\"2024-12-18 12:33...|2024-12-18 12:33:20|     INFO|      User logged in|  12|\n",
      "|\"2024-12-18 15:34...|2024-12-18 15:34:10|    ERROR|      Page not found|  15|\n",
      "+--------------------+-------------------+---------+--------------------+----+\n",
      "\n"
     ]
    }
   ],
   "source": [
    "df = cleaned_df.withColumn(\"Hour\", hour(\"timestamp\"))\n",
    "\n",
    "df.show()"
   ]
  },
  {
   "cell_type": "code",
   "execution_count": 230,
   "id": "64ff36ee-5e50-4dbd-be28-1561c4c339dd",
   "metadata": {},
   "outputs": [
    {
     "name": "stdout",
     "output_type": "stream",
     "text": [
      "+----+----------+\n",
      "|Hour|No of Logs|\n",
      "+----+----------+\n",
      "|  12|         2|\n",
      "|  13|         3|\n",
      "|  16|         1|\n",
      "|   5|         2|\n",
      "|  15|         1|\n",
      "|  17|         1|\n",
      "|   9|         1|\n",
      "|   8|         2|\n",
      "|   7|         1|\n",
      "|  10|         3|\n",
      "|  11|         3|\n",
      "+----+----------+\n",
      "\n"
     ]
    }
   ],
   "source": [
    "df=df.groupBy('Hour').agg(count('log_level').alias(\"No of Logs\"))\n",
    "df.show()"
   ]
  },
  {
   "cell_type": "code",
   "execution_count": 231,
   "id": "8e9d8930-273f-471e-aae7-b9f78e633187",
   "metadata": {},
   "outputs": [],
   "source": [
    "import matplotlib.pyplot as plt"
   ]
  },
  {
   "cell_type": "code",
   "execution_count": 232,
   "id": "90f957c5-3086-4e53-b6a1-18852a889feb",
   "metadata": {},
   "outputs": [],
   "source": [
    "df=df.toPandas()"
   ]
  },
  {
   "cell_type": "code",
   "execution_count": 233,
   "id": "c16bb03c-5d4e-4d53-a41a-ca17d4cddeac",
   "metadata": {},
   "outputs": [
    {
     "data": {
      "text/plain": [
       "Text(0.5, 1.0, 'Visualization')"
      ]
     },
     "execution_count": 233,
     "metadata": {},
     "output_type": "execute_result"
    },
    {
     "data": {
      "image/png": "[encoded data removed]",
      "text/plain": [
       "<Figure size 1600x600 with 1 Axes>"
      ]
     },
     "metadata": {},
     "output_type": "display_data"
    }
   ],
   "source": [
    "fig=plt.figure(figsize=(16,6))\n",
    "axes=fig.add_axes([0.1,0.1,0.8,0.8])\n",
    "axes.bar(df['Hour'],df['No of Logs'])\n",
    "axes.set_xlabel(\"Hour\")\n",
    "axes.set_ylabel(\"Number of logs\")\n",
    "axes.set_title(\"Visualization\")\n"
   ]
  },
  {
   "cell_type": "code",
   "execution_count": 234,
   "id": "540647cf-ad67-4e4f-bffc-4b89e8219adf",
   "metadata": {},
   "outputs": [],
   "source": [
    "spark.stop()"
   ]
  },
  {
   "cell_type": "code",
   "execution_count": null,
   "id": "872e7916-8109-452a-b7a9-6b5a098804a0",
   "metadata": {},
   "outputs": [],
   "source": []
  }
 ],
 "metadata": {
  "kernelspec": {
   "display_name": "Python 3 (ipykernel)",
   "language": "python",
   "name": "python3"
  },
  "language_info": {
   "codemirror_mode": {
    "name": "ipython",
    "version": 3
   },
   "file_extension": ".py",
   "mimetype": "text/x-python",
   "name": "python",
   "nbconvert_exporter": "python",
   "pygments_lexer": "ipython3",
   "version": "3.11.0"
  }
 },
 "nbformat": 4,
 "nbformat_minor": 5
}
