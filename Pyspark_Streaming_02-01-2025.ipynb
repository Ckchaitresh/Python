{
 "cells": [
  {
   "cell_type": "code",
   "execution_count": 1,
   "id": "b3a2279d-a82f-4825-9919-fbdede7ae933",
   "metadata": {},
   "outputs": [],
   "source": [
    "from pyspark.sql import SparkSession\n",
    "from pyspark.streaming import StreamingContext\n",
    "import time"
   ]
  },
  {
   "cell_type": "code",
   "execution_count": 2,
   "id": "f7a64c3d-869c-4376-b37a-e00ac6894e53",
   "metadata": {},
   "outputs": [],
   "source": [
    "spark = SparkSession.builder \\\n",
    "    .appName(\"BasicSparkStreaming\") \\\n",
    "    .getOrCreate()"
   ]
  },
  {
   "cell_type": "code",
   "execution_count": 3,
   "id": "da239625-c23e-437a-afc3-a457bb113421",
   "metadata": {},
   "outputs": [
    {
     "name": "stderr",
     "output_type": "stream",
     "text": [
      "C:\\Users\\user\\AppData\\Local\\Programs\\Python\\Python311\\Lib\\site-packages\\pyspark\\streaming\\context.py:72: FutureWarning: DStream is deprecated as of Spark 3.4.0. Migrate to Structured Streaming.\n",
      "  warnings.warn(\n"
     ]
    },
    {
     "name": "stdout",
     "output_type": "stream",
     "text": [
      "-------------------------------------------\n",
      "Time: 2025-01-02 15:25:25\n",
      "-------------------------------------------\n",
      "\n",
      "-------------------------------------------\n",
      "Time: 2025-01-02 15:25:30\n",
      "-------------------------------------------\n",
      "\n",
      "-------------------------------------------\n",
      "Time: 2025-01-02 15:25:35\n",
      "-------------------------------------------\n",
      "Hello World\n",
      "\n",
      "-------------------------------------------\n",
      "Time: 2025-01-02 15:25:40\n",
      "-------------------------------------------\n",
      "\n",
      "-------------------------------------------\n",
      "Time: 2025-01-02 15:25:45\n",
      "-------------------------------------------\n",
      "This is Basic Pyspark Example\n",
      "\n",
      "-------------------------------------------\n",
      "Time: 2025-01-02 15:25:50\n",
      "-------------------------------------------\n",
      "\n"
     ]
    }
   ],
   "source": [
    "ssc = StreamingContext(spark.sparkContext, 5)"
   ]
  },
  {
   "cell_type": "code",
   "execution_count": 4,
   "id": "3162d0c2-6ad7-4801-bc06-5fcba02660b9",
   "metadata": {},
   "outputs": [],
   "source": [
    "host = \"localhost\"\n",
    "port = 9999\n",
    "lines = ssc.socketTextStream(host, port)\n"
   ]
  },
  {
   "cell_type": "code",
   "execution_count": 5,
   "id": "a17555f8-2bc0-4b10-b596-a60def30f279",
   "metadata": {},
   "outputs": [],
   "source": [
    "lines.pprint()"
   ]
  },
  {
   "cell_type": "code",
   "execution_count": 6,
   "id": "92e1e764-2d24-4652-9d38-3af033c74319",
   "metadata": {},
   "outputs": [],
   "source": [
    "ssc.start()"
   ]
  },
  {
   "cell_type": "code",
   "execution_count": 7,
   "id": "d1d117d0-315d-4774-a800-068bb20f76cb",
   "metadata": {},
   "outputs": [],
   "source": [
    "time.sleep(30)\n",
    "ssc.stop()  \n",
    "\n"
   ]
  },
  {
   "cell_type": "code",
   "execution_count": 8,
   "id": "d2960815-4915-4b80-b538-8431ccb17841",
   "metadata": {},
   "outputs": [],
   "source": [
    "ssc.awaitTermination()\n"
   ]
  },
  {
   "cell_type": "code",
   "execution_count": 9,
   "id": "d55bafe4-947b-4e06-be36-abe16651f35e",
   "metadata": {},
   "outputs": [],
   "source": [
    "spark.stop()"
   ]
  },
  {
   "cell_type": "code",
   "execution_count": null,
   "id": "4849a87f-b9ec-4ac2-a137-f6bb976a4383",
   "metadata": {},
   "outputs": [],
   "source": []
  }
 ],
 "metadata": {
  "kernelspec": {
   "display_name": "Python 3 (ipykernel)",
   "language": "python",
   "name": "python3"
  },
  "language_info": {
   "codemirror_mode": {
    "name": "ipython",
    "version": 3
   },
   "file_extension": ".py",
   "mimetype": "text/x-python",
   "name": "python",
   "nbconvert_exporter": "python",
   "pygments_lexer": "ipython3",
   "version": "3.11.0"
  }
 },
 "nbformat": 4,
 "nbformat_minor": 5
}
