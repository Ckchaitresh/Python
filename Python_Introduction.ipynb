{
 "cells": [
  {
   "cell_type": "markdown",
   "id": "689430a4-c93b-4a79-8346-9acd7ad57bb2",
   "metadata": {},
   "source": [
    "Introduction To Python"
   ]
  },
  {
   "cell_type": "markdown",
   "id": "becd784c-a010-42dc-a531-58c09856464a",
   "metadata": {},
   "source": [
    "Python is an object oriented language which has all the features but python rograms are slower cmpared to C"
   ]
  },
  {
   "cell_type": "markdown",
   "id": "2c6a0894-efac-4aa5-897c-1dcbd10ba5c5",
   "metadata": {},
   "source": [
    "How to Give input?\n",
    "\n",
    "* input()"
   ]
  },
  {
   "cell_type": "markdown",
   "id": "f75e452e-19e0-4543-945f-d8b8b59b4009",
   "metadata": {},
   "source": [
    "How to display?\n",
    "\n",
    "print(\"    \") "
   ]
  },
  {
   "cell_type": "markdown",
   "id": "ab3aa3b2-8245-43dd-a662-68cd7790452b",
   "metadata": {},
   "source": [
    "Conditions to write variables\n",
    "\n",
    "* Special Characters are not allowed except under score.\n",
    "\n",
    "* Should not start with number and so as which you have learnt in basics"
   ]
  },
  {
   "cell_type": "markdown",
   "id": "573e2354-efc0-45c0-abff-1fe726e4d7f8",
   "metadata": {},
   "source": [
    "Example to take input from user and print"
   ]
  },
  {
   "cell_type": "code",
   "execution_count": 3,
   "id": "669ff462-63d9-4450-b52b-f9ceff616cc1",
   "metadata": {},
   "outputs": [
    {
     "name": "stdin",
     "output_type": "stream",
     "text": [
      " Chaitresh\n"
     ]
    },
    {
     "name": "stdout",
     "output_type": "stream",
     "text": [
      "My name is Chaitresh\n"
     ]
    }
   ],
   "source": [
    "name=input()\n",
    "print(\"My name is\",name)"
   ]
  },
  {
   "cell_type": "markdown",
   "id": "848a5b15-f531-4a67-8342-ef593e168c26",
   "metadata": {},
   "source": [
    "We can also write words to display nside the input"
   ]
  },
  {
   "cell_type": "code",
   "execution_count": 4,
   "id": "a2bdd946-6349-4d99-9169-a212e7f24a0c",
   "metadata": {},
   "outputs": [
    {
     "name": "stdin",
     "output_type": "stream",
     "text": [
      "Enter Your Name:\n",
      " Chaitresh K\n"
     ]
    },
    {
     "name": "stdout",
     "output_type": "stream",
     "text": [
      "My name is Chaitresh K\n"
     ]
    }
   ],
   "source": [
    "name=input(\"Enter Your Name:\\n\")\n",
    "print(\"My name is\",name)"
   ]
  },
  {
   "cell_type": "markdown",
   "id": "d85217a2-ee56-4792-b914-feb46fe431cd",
   "metadata": {},
   "source": [
    "*In Python by default the input in python is read as string\n",
    "\n",
    "Example\n",
    "\n",
    "a=input()\n",
    "\n",
    "* a is read as string "
   ]
  },
  {
   "cell_type": "markdown",
   "id": "ed2fc7c5-d2a3-4fb2-aed3-c3259b2ca2c6",
   "metadata": {},
   "source": [
    "How to convert ?\n",
    "\n",
    "*We should Type cast\n",
    "\n",
    "a=int(input())\n",
    "b=float(input())\n"
   ]
  },
  {
   "cell_type": "markdown",
   "id": "ee0c855d-cbcb-44dc-a7e0-d5a94319d945",
   "metadata": {},
   "source": [
    "We can use eval if we dont know int or float \n",
    "\n",
    "It will autmatically convert based on the input we give\n"
   ]
  },
  {
   "cell_type": "markdown",
   "id": "7730b475-f4ee-4e32-adf2-492c4fbcd12f",
   "metadata": {},
   "source": [
    "a=eval(input())"
   ]
  },
  {
   "cell_type": "code",
   "execution_count": 5,
   "id": "554bceb0-4499-4c09-a22f-5fe874f0908f",
   "metadata": {},
   "outputs": [
    {
     "name": "stdin",
     "output_type": "stream",
     "text": [
      "Enter the number 55\n"
     ]
    },
    {
     "data": {
      "text/plain": [
       "10"
      ]
     },
     "execution_count": 5,
     "metadata": {},
     "output_type": "execute_result"
    }
   ],
   "source": [
    "#Read an integer value of 2 digit and find sum of the digit\n",
    "\n",
    "a=int(input(\"Enter the number\"))\n",
    "b=(a//10)+(a%10)\n",
    "b\n"
   ]
  },
  {
   "cell_type": "code",
   "execution_count": 6,
   "id": "bc613b2a-72c0-4de7-854c-c7bc27b56ab2",
   "metadata": {},
   "outputs": [
    {
     "name": "stdin",
     "output_type": "stream",
     "text": [
      "Enter the number 65\n"
     ]
    },
    {
     "data": {
      "text/plain": [
       "56"
      ]
     },
     "execution_count": 6,
     "metadata": {},
     "output_type": "execute_result"
    }
   ],
   "source": [
    "#Read an integer vvalue and reverse\n",
    "a=int(input(\"Enter the number\"))\n",
    "b=(a%10)*10 + (a//10)\n",
    "b"
   ]
  },
  {
   "cell_type": "code",
   "execution_count": 7,
   "id": "b3799502-9215-43c7-bcc8-29671be77cca",
   "metadata": {},
   "outputs": [
    {
     "name": "stdin",
     "output_type": "stream",
     "text": [
      " 2\n"
     ]
    },
    {
     "name": "stdout",
     "output_type": "stream",
     "text": [
      "Entered number is: 2\n"
     ]
    },
    {
     "name": "stdin",
     "output_type": "stream",
     "text": [
      " 20\n"
     ]
    },
    {
     "name": "stdout",
     "output_type": "stream",
     "text": [
      "Entered number is: 20\n"
     ]
    },
    {
     "name": "stdin",
     "output_type": "stream",
     "text": [
      " 35\n"
     ]
    },
    {
     "name": "stdout",
     "output_type": "stream",
     "text": [
      "Entered number is: 35\n"
     ]
    },
    {
     "name": "stdin",
     "output_type": "stream",
     "text": [
      " 42\n"
     ]
    },
    {
     "name": "stdout",
     "output_type": "stream",
     "text": [
      "Entered number is: 42\n"
     ]
    }
   ],
   "source": [
    "#### Loop-Repeat or execute set of statements for specified number of times\n",
    "for v in 1,2,3,4:\n",
    "    n=int(input())\n",
    "    print(\"Entered number is:\",n)\n",
    "# v is a variable to get value from the list given and run the statements enclosed\n",
    "\n",
    "#range is an inbuilt function tto generate numbers from the starting value to ending value -1\n"
   ]
  },
  {
   "cell_type": "code",
   "execution_count": 8,
   "id": "d328490e-fadc-46dd-9a02-6402f63f8dc9",
   "metadata": {},
   "outputs": [
    {
     "name": "stdout",
     "output_type": "stream",
     "text": [
      "1\n",
      "3\n",
      "5\n",
      "7\n",
      "9\n"
     ]
    }
   ],
   "source": [
    "for v in range(1,10,2):\n",
    "    print(v)\n",
    "# By default it is incremented by +1\n",
    "#if you want you can specify more"
   ]
  },
  {
   "cell_type": "code",
   "execution_count": 9,
   "id": "c5a213e5-3f57-42db-9378-6490645dea7b",
   "metadata": {},
   "outputs": [
    {
     "name": "stdout",
     "output_type": "stream",
     "text": [
      "10\n",
      "9\n",
      "8\n",
      "7\n",
      "6\n",
      "5\n",
      "4\n",
      "3\n",
      "2\n",
      "1\n"
     ]
    }
   ],
   "source": [
    "for v in range(10,0,-1):\n",
    "    print(v)\n",
    "#start value:10\n",
    "#end value:0\n",
    "#decrement:-1\n",
    "#values from 10 to 1 will be generated in reverse order\n"
   ]
  },
  {
   "cell_type": "code",
   "execution_count": 10,
   "id": "db9841a1-a408-4cc5-86d9-11d05338378b",
   "metadata": {},
   "outputs": [
    {
     "name": "stdout",
     "output_type": "stream",
     "text": [
      "HELLO\n"
     ]
    }
   ],
   "source": [
    "#String is immutable\n",
    "s='hello'\n",
    "s=s.upper()\n",
    "print(s)\n",
    "#Converts from lowercase to upper case"
   ]
  },
  {
   "cell_type": "code",
   "execution_count": 11,
   "id": "cbf162b4-51f3-40ac-a145-b3de18405dee",
   "metadata": {},
   "outputs": [
    {
     "name": "stdout",
     "output_type": "stream",
     "text": [
      "True  with strip\n"
     ]
    }
   ],
   "source": [
    "s='hello'\n",
    "r='   hello'\n",
    "r=r.strip() #remove spaces at the beggining or end\n",
    "if s==r:\n",
    "    print(\"True  with strip\")\n",
    "else:\n",
    "    print(\"Trur without strip\")"
   ]
  },
  {
   "cell_type": "code",
   "execution_count": 12,
   "id": "537d286f-aa94-4b2b-97d2-7a66c2e648f7",
   "metadata": {},
   "outputs": [
    {
     "name": "stdout",
     "output_type": "stream",
     "text": [
      "cello\n"
     ]
    }
   ],
   "source": [
    "s='hello'\n",
    "s=s.replace('h','c') #replace(oldvalue,newvalue)\n",
    "print(s)"
   ]
  },
  {
   "cell_type": "code",
   "execution_count": 13,
   "id": "ee40197b-d575-4f06-bbc6-e7cb388f4ca4",
   "metadata": {},
   "outputs": [
    {
     "name": "stdout",
     "output_type": "stream",
     "text": [
      "6\n"
     ]
    }
   ],
   "source": [
    "s='hello world'\n",
    "a=s.find('world') #it finds the position index of the world it includes spaces also\n",
    "print(a)\n"
   ]
  },
  {
   "cell_type": "code",
   "execution_count": 14,
   "id": "a968a3d6-2200-48ce-94f9-eae8ed6565b8",
   "metadata": {},
   "outputs": [
    {
     "name": "stdout",
     "output_type": "stream",
     "text": [
      "['hello', 'world']\n",
      "['10', '20', '30']\n"
     ]
    }
   ],
   "source": [
    "s='hello world'\n",
    "s=s.split(' ') #based on space\n",
    "print(s)\n",
    "\n",
    "t='10:20:30'\n",
    "t=t.split(':') #based on colon\n",
    "print(t)"
   ]
  },
  {
   "cell_type": "code",
   "execution_count": 15,
   "id": "ba508080-362a-46e8-af7a-91b60e86b318",
   "metadata": {},
   "outputs": [
    {
     "name": "stdout",
     "output_type": "stream",
     "text": [
      "olleh\n"
     ]
    }
   ],
   "source": [
    "#Reverse a string in python\n",
    "t='hello'\n",
    "print(t[::-1])"
   ]
  },
  {
   "cell_type": "code",
   "execution_count": 16,
   "id": "c9ef0a6a-50d7-4db8-8d6b-803d676bc841",
   "metadata": {},
   "outputs": [
    {
     "name": "stdout",
     "output_type": "stream",
     "text": [
      "It is palindrome\n"
     ]
    }
   ],
   "source": [
    "#Reverse a string and check whether it is palindrome or not\n",
    "s='malayalam'\n",
    "c=s[::-1]\n",
    "if c==s:\n",
    "    print(\"It is palindrome\")\n",
    "else:\n",
    "    print(\"Not Palindrome\")"
   ]
  },
  {
   "cell_type": "code",
   "execution_count": 17,
   "id": "cfff660c-fe36-48c9-8e07-45f4dcff2e29",
   "metadata": {},
   "outputs": [
    {
     "name": "stdout",
     "output_type": "stream",
     "text": [
      "hel\n"
     ]
    }
   ],
   "source": [
    "#String slicing\n",
    "w='hello'\n",
    "print(w[0:3])"
   ]
  },
  {
   "cell_type": "code",
   "execution_count": 18,
   "id": "2b78450b-f8ec-4a38-959e-01965a293367",
   "metadata": {},
   "outputs": [],
   "source": [
    "#ALL functions in Strings\n",
    "#Let s be variable then \n",
    "#s.upper()\n",
    "#s.lower()\n",
    "#s.strip()\n",
    "#s.replace()\n",
    "#s.find() or s.index()\n",
    "#s[::-1]\n",
    "#s.count()\n",
    "#len(s)"
   ]
  },
  {
   "cell_type": "code",
   "execution_count": 19,
   "id": "acf5bcf2-159d-45f4-9bac-7cd8fa26018b",
   "metadata": {},
   "outputs": [
    {
     "name": "stdout",
     "output_type": "stream",
     "text": [
      "User is : chaitreshk1999\n",
      "Provider is gmail.com\n"
     ]
    }
   ],
   "source": [
    "#Accept a email id and print user and provider in seperate lines\n",
    "email='chaitreshk1999@gmail.com'\n",
    "x=email.find('@')\n",
    "user=email[0:x]\n",
    "provider=email[x+1:]\n",
    "print(\"User is :\",user)\n",
    "print(\"Provider is\",provider)"
   ]
  },
  {
   "cell_type": "code",
   "execution_count": 20,
   "id": "a0bcfc36-4152-49f6-99ca-2520777a6293",
   "metadata": {},
   "outputs": [
    {
     "name": "stdout",
     "output_type": "stream",
     "text": [
      "olleH\n"
     ]
    }
   ],
   "source": [
    "#Write a program to reverse  without using inbuilt function\n",
    "\n",
    "s='Hello'\n",
    "r=''\n",
    "for i in s:\n",
    "    r=i+r  # H->e+H->l+e+H\n",
    "print(r)\n"
   ]
  },
  {
   "cell_type": "code",
   "execution_count": 21,
   "id": "4b00095a-d65b-4640-9a6a-2c9bac93b760",
   "metadata": {},
   "outputs": [
    {
     "name": "stdout",
     "output_type": "stream",
     "text": [
      "5\n"
     ]
    }
   ],
   "source": [
    "#Random Object\n",
    "import random\n",
    "v=random.randint(1,5)\n",
    "print(v)"
   ]
  },
  {
   "cell_type": "code",
   "execution_count": 22,
   "id": "0045eced-185c-434e-9bfe-5bc413d2a2cb",
   "metadata": {},
   "outputs": [
    {
     "name": "stdout",
     "output_type": "stream",
     "text": [
      "Q\n"
     ]
    }
   ],
   "source": [
    "#Write a program to generate random latters\n",
    "c=random.randint(65,90)\n",
    "print(chr(c))"
   ]
  },
  {
   "cell_type": "code",
   "execution_count": 23,
   "id": "1f633e51-0e64-4845-9c70-3c5d554c6e36",
   "metadata": {},
   "outputs": [
    {
     "name": "stdout",
     "output_type": "stream",
     "text": [
      "XKYMYDPCUK\n"
     ]
    }
   ],
   "source": [
    "W=''\n",
    "for i in range(0,10):\n",
    "    v=random.randint(65,90)\n",
    "    W=W+chr(v)\n",
    "print(W)"
   ]
  },
  {
   "cell_type": "code",
   "execution_count": 24,
   "id": "9360207c-169e-42d1-874e-6415ea485585",
   "metadata": {},
   "outputs": [
    {
     "name": "stdout",
     "output_type": "stream",
     "text": [
      "CHGWIB\n"
     ]
    }
   ],
   "source": [
    "a=random.sample(range(65,90),6) #it will generate 6 random numbers with no repetation\n",
    "w=''\n",
    "for i in a:\n",
    "    w=w+chr(i)\n",
    "print(w)"
   ]
  },
  {
   "cell_type": "code",
   "execution_count": 41,
   "id": "eb8d64bd-b215-4f71-a19f-ce47e496fda5",
   "metadata": {},
   "outputs": [
    {
     "name": "stdout",
     "output_type": "stream",
     "text": [
      "Guess the number\n"
     ]
    },
    {
     "name": "stdin",
     "output_type": "stream",
     "text": [
      " 55\n"
     ]
    },
    {
     "name": "stdout",
     "output_type": "stream",
     "text": [
      "Try lesser number\n"
     ]
    },
    {
     "name": "stdin",
     "output_type": "stream",
     "text": [
      " 45\n"
     ]
    },
    {
     "name": "stdout",
     "output_type": "stream",
     "text": [
      "Try lesser number\n"
     ]
    },
    {
     "name": "stdin",
     "output_type": "stream",
     "text": [
      " 35\n"
     ]
    },
    {
     "name": "stdout",
     "output_type": "stream",
     "text": [
      "Try lesser number\n"
     ]
    },
    {
     "name": "stdin",
     "output_type": "stream",
     "text": [
      " 25\n"
     ]
    },
    {
     "name": "stdout",
     "output_type": "stream",
     "text": [
      "Try lesser number\n"
     ]
    },
    {
     "name": "stdin",
     "output_type": "stream",
     "text": [
      " 15\n"
     ]
    },
    {
     "name": "stdout",
     "output_type": "stream",
     "text": [
      "Try lesser number\n"
     ]
    },
    {
     "name": "stdin",
     "output_type": "stream",
     "text": [
      " 5\n"
     ]
    },
    {
     "name": "stdout",
     "output_type": "stream",
     "text": [
      "try greater number\n"
     ]
    },
    {
     "name": "stdin",
     "output_type": "stream",
     "text": [
      " 7\n"
     ]
    },
    {
     "name": "stdout",
     "output_type": "stream",
     "text": [
      "try greater number\n"
     ]
    },
    {
     "name": "stdin",
     "output_type": "stream",
     "text": [
      " 6\n"
     ]
    },
    {
     "name": "stdout",
     "output_type": "stream",
     "text": [
      "try greater number\n"
     ]
    },
    {
     "name": "stdin",
     "output_type": "stream",
     "text": [
      " 9\n"
     ]
    },
    {
     "name": "stdout",
     "output_type": "stream",
     "text": [
      "try greater number\n"
     ]
    },
    {
     "name": "stdin",
     "output_type": "stream",
     "text": [
      " 10\n"
     ]
    },
    {
     "name": "stdout",
     "output_type": "stream",
     "text": [
      "try greater number\n"
     ]
    },
    {
     "name": "stdin",
     "output_type": "stream",
     "text": [
      " 11\n"
     ]
    },
    {
     "name": "stdout",
     "output_type": "stream",
     "text": [
      "try greater number\n"
     ]
    },
    {
     "name": "stdin",
     "output_type": "stream",
     "text": [
      " 14\n"
     ]
    },
    {
     "name": "stdout",
     "output_type": "stream",
     "text": [
      "Try lesser number\n"
     ]
    },
    {
     "name": "stdin",
     "output_type": "stream",
     "text": [
      " 13\n"
     ]
    },
    {
     "name": "stdout",
     "output_type": "stream",
     "text": [
      "Try lesser number\n",
      "You Lost\n"
     ]
    }
   ],
   "source": [
    "##### Print to guess the number generated by computer\n",
    "import time\n",
    "word=random.randint(1,100)\n",
    "a=time.perf_counter()\n",
    "print(\"Guess the number\")\n",
    "\n",
    "while(time.perf_counter()-a)<=30:\n",
    "    guess=int(input())\n",
    "    if guess==word:\n",
    "        print(\"you guessed the right word\")\n",
    "        break\n",
    "    elif guess<word:\n",
    "        print(\"try greater number\")\n",
    "    else:\n",
    "        print(\"Try lesser number\")\n",
    "if guess!=word:\n",
    "    print(\"You Lost\")\n"
   ]
  },
  {
   "cell_type": "code",
   "execution_count": 44,
   "id": "dc365cc3-1108-447e-b52c-9cc96c989695",
   "metadata": {},
   "outputs": [
    {
     "name": "stdout",
     "output_type": "stream",
     "text": [
      "Collecting num2words\n",
      "  Downloading num2words-0.5.13-py3-none-any.whl.metadata (12 kB)\n",
      "Collecting docopt>=0.6.2 (from num2words)\n",
      "  Downloading docopt-0.6.2.tar.gz (25 kB)\n",
      "  Installing build dependencies: started\n",
      "  Installing build dependencies: finished with status 'done'\n",
      "  Getting requirements to build wheel: started\n",
      "  Getting requirements to build wheel: finished with status 'done'\n",
      "  Preparing metadata (pyproject.toml): started\n",
      "  Preparing metadata (pyproject.toml): finished with status 'done'\n",
      "Downloading num2words-0.5.13-py3-none-any.whl (143 kB)\n",
      "Building wheels for collected packages: docopt\n",
      "  Building wheel for docopt (pyproject.toml): started\n",
      "  Building wheel for docopt (pyproject.toml): finished with status 'done'\n",
      "  Created wheel for docopt: filename=docopt-0.6.2-py2.py3-none-any.whl size=13776 sha256=a5d73870ade2931c154b46431f18f97b8353ea7cac0579a1a83788dcd962ad2a\n",
      "  Stored in directory: c:\\users\\user\\appdata\\local\\pip\\cache\\wheels\\0b\\1d\\03\\175286677fb5a1341cc3e4755bf8ec0ed08f3329afd67446b0\n",
      "Successfully built docopt\n",
      "Installing collected packages: docopt, num2words\n",
      "Successfully installed docopt-0.6.2 num2words-0.5.13\n"
     ]
    }
   ],
   "source": [
    "!pip install num2words\n"
   ]
  },
  {
   "cell_type": "code",
   "execution_count": 46,
   "id": "f3b3afb7-14a5-4717-a711-4d84d53278c5",
   "metadata": {},
   "outputs": [
    {
     "name": "stdout",
     "output_type": "stream",
     "text": [
      "eleven\n"
     ]
    }
   ],
   "source": [
    "from num2words import num2words\n",
    "print(num2words(11))  #It will convert numbers to words"
   ]
  },
  {
   "cell_type": "code",
   "execution_count": 48,
   "id": "6e40e72e-0ec5-4f14-9cc7-a040382b891f",
   "metadata": {},
   "outputs": [
    {
     "name": "stdout",
     "output_type": "stream",
     "text": [
      "Collecting counter\n",
      "  Downloading Counter-1.0.0.tar.gz (5.2 kB)\n",
      "  Installing build dependencies: started\n",
      "  Installing build dependencies: finished with status 'done'\n",
      "  Getting requirements to build wheel: started\n",
      "  Getting requirements to build wheel: finished with status 'done'\n",
      "  Preparing metadata (pyproject.toml): started\n",
      "  Preparing metadata (pyproject.toml): finished with status 'done'\n",
      "Building wheels for collected packages: counter\n",
      "  Building wheel for counter (pyproject.toml): started\n",
      "  Building wheel for counter (pyproject.toml): finished with status 'done'\n",
      "  Created wheel for counter: filename=Counter-1.0.0-py3-none-any.whl size=5424 sha256=906ca0412a63b34147db7e0e26de102309be1b3dbf97c6ede922b4e12d20f2be\n",
      "  Stored in directory: c:\\users\\user\\appdata\\local\\pip\\cache\\wheels\\04\\74\\15\\ca37c78a9593c79051a2c9a22e2a81f241fd8ff5b8c945f2bc\n",
      "Successfully built counter\n",
      "Installing collected packages: counter\n",
      "Successfully installed counter-1.0.0\n"
     ]
    }
   ],
   "source": [
    "!pip install counter"
   ]
  },
  {
   "cell_type": "raw",
   "id": "4f9ca9f0-51b5-40f5-9ff1-2c6f4f9d7fe9",
   "metadata": {},
   "source": [
    "Count the fequency in string"
   ]
  },
  {
   "cell_type": "code",
   "execution_count": 52,
   "id": "66a1c5bc-75b3-4d88-87f6-420a63613c99",
   "metadata": {},
   "outputs": [
    {
     "name": "stdin",
     "output_type": "stream",
     "text": [
      " chaitreshk\n"
     ]
    },
    {
     "name": "stdout",
     "output_type": "stream",
     "text": [
      "Counter({'h': 2, 'c': 1, 'a': 1, 'i': 1, 't': 1, 'r': 1, 'e': 1, 's': 1, 'k': 1})\n"
     ]
    }
   ],
   "source": [
    "from collections import Counter\n",
    "a=input()\n",
    "b=Counter(a)\n",
    "print(b)"
   ]
  },
  {
   "cell_type": "raw",
   "id": "61dd1c20-fd58-4a7e-b973-3fde11ba40a4",
   "metadata": {},
   "source": [
    "                                                                        or                        "
   ]
  },
  {
   "cell_type": "code",
   "execution_count": 53,
   "id": "17d702bd-c0c0-495a-8602-e49400d471bd",
   "metadata": {},
   "outputs": [
    {
     "name": "stdin",
     "output_type": "stream",
     "text": [
      " chaitresh\n"
     ]
    },
    {
     "name": "stdout",
     "output_type": "stream",
     "text": [
      "{'c': 1, 'h': 2, 'a': 1, 'i': 1, 't': 1, 'r': 1, 'e': 1, 's': 1}\n"
     ]
    }
   ],
   "source": [
    "a=input()\n",
    "b={}\n",
    "\n",
    "for i in  a:\n",
    "    if b.get(i)==None:\n",
    "        b[i]=1\n",
    "    else:\n",
    "        b[i]=b[i]+1\n",
    "print(b)"
   ]
  },
  {
   "cell_type": "raw",
   "id": "5bcdf238-c150-4ce6-9587-8d2caa1e9040",
   "metadata": {},
   "source": [
    "                                                                Sets"
   ]
  },
  {
   "cell_type": "code",
   "execution_count": 55,
   "id": "8cce6e5c-dce9-4e53-84d4-0e21455c73d7",
   "metadata": {},
   "outputs": [
    {
     "data": {
      "text/plain": [
       "{1, 2, 3, 4}"
      ]
     },
     "execution_count": 55,
     "metadata": {},
     "output_type": "execute_result"
    }
   ],
   "source": [
    "#Creating Set\n",
    "\n",
    "my_set={1,2,3,4}\n",
    "my_set"
   ]
  },
  {
   "cell_type": "code",
   "execution_count": 56,
   "id": "8f6f5c44-a7fa-47d7-a9d7-3d641e10dbea",
   "metadata": {},
   "outputs": [
    {
     "data": {
      "text/plain": [
       "{1, 2, 3, 4}"
      ]
     },
     "execution_count": 56,
     "metadata": {},
     "output_type": "execute_result"
    }
   ],
   "source": [
    "my=set([1,2,3,4])\n",
    "my"
   ]
  },
  {
   "cell_type": "code",
   "execution_count": 58,
   "id": "e2d15410-5bac-488c-9baa-7409c503f7a7",
   "metadata": {},
   "outputs": [
    {
     "data": {
      "text/plain": [
       "{1, 2, 3, 4, 10}"
      ]
     },
     "execution_count": 58,
     "metadata": {},
     "output_type": "execute_result"
    }
   ],
   "source": [
    "#Adding an element to a set\n",
    "my_set.add(10)\n",
    "my_set"
   ]
  },
  {
   "cell_type": "code",
   "execution_count": 60,
   "id": "466b16de-9569-45b6-9acd-7cd382c859c9",
   "metadata": {},
   "outputs": [
    {
     "data": {
      "text/plain": [
       "{1, 2, 3, 4, 10, 20, 30}"
      ]
     },
     "execution_count": 60,
     "metadata": {},
     "output_type": "execute_result"
    }
   ],
   "source": [
    "#Adding Multiple elements\n",
    "my_set.update([10,20,30])\n",
    "my_set"
   ]
  },
  {
   "cell_type": "code",
   "execution_count": 61,
   "id": "ce423dbf-3e7e-4a05-b5f4-0210a6cb7547",
   "metadata": {},
   "outputs": [
    {
     "data": {
      "text/plain": [
       "{1, '1', 10, 2, '2', 20, '3', 3, 30, 4}"
      ]
     },
     "execution_count": 61,
     "metadata": {},
     "output_type": "execute_result"
    }
   ],
   "source": [
    "my_set.update('123')\n",
    "my_set"
   ]
  },
  {
   "cell_type": "code",
   "execution_count": 62,
   "id": "157c813f-fc64-4c3d-80ef-9cab0ee0379b",
   "metadata": {},
   "outputs": [],
   "source": [
    "#We cannot do assigning or indexing in sets eg:my_set[0]=10\n"
   ]
  },
  {
   "cell_type": "code",
   "execution_count": 63,
   "id": "6ec22f36-32af-4f5b-8402-0d9f4418edcd",
   "metadata": {},
   "outputs": [
    {
     "data": {
      "text/plain": [
       "{'1', 10, 2, '2', 20, '3', 3, 30, 4}"
      ]
     },
     "execution_count": 63,
     "metadata": {},
     "output_type": "execute_result"
    }
   ],
   "source": [
    "#Removing an element in set\n",
    "my_set.remove(1) #if element is not there it will raise error\n",
    "my_set"
   ]
  },
  {
   "cell_type": "code",
   "execution_count": 64,
   "id": "63b3d1f2-af36-4028-b8d2-581f49bff4b0",
   "metadata": {},
   "outputs": [
    {
     "data": {
      "text/plain": [
       "{10, 2, '2', 20, '3', 3, 30, 4}"
      ]
     },
     "execution_count": 64,
     "metadata": {},
     "output_type": "execute_result"
    }
   ],
   "source": [
    "my_set.remove('1')\n",
    "my_set"
   ]
  },
  {
   "cell_type": "code",
   "execution_count": 65,
   "id": "6ae73104-8bb0-4831-9762-746f5721864b",
   "metadata": {},
   "outputs": [
    {
     "data": {
      "text/plain": [
       "{2, '2', 20, '3', 3, 30, 4}"
      ]
     },
     "execution_count": 65,
     "metadata": {},
     "output_type": "execute_result"
    }
   ],
   "source": [
    "my_set.discard(10) #if element is nt there also it will not raise error\n",
    "my_set"
   ]
  },
  {
   "cell_type": "code",
   "execution_count": 66,
   "id": "debf316d-8a1a-4c70-bc50-0d61c66240b0",
   "metadata": {},
   "outputs": [
    {
     "data": {
      "text/plain": [
       "{2, '2', 20, 3, 30, 4}"
      ]
     },
     "execution_count": 66,
     "metadata": {},
     "output_type": "execute_result"
    }
   ],
   "source": [
    "my_set.pop() #removes an arbitary element\n",
    "my_set"
   ]
  },
  {
   "cell_type": "code",
   "execution_count": 72,
   "id": "89e779f1-49b8-4cf8-b349-3af04fc55ec8",
   "metadata": {},
   "outputs": [
    {
     "data": {
      "text/plain": [
       "{0, 1, 2, 3, 4, 5, 6, 7, 8}"
      ]
     },
     "execution_count": 72,
     "metadata": {},
     "output_type": "execute_result"
    }
   ],
   "source": [
    "set1={1,2,3,4,5}\n",
    "set2={6,8,6,7,0}\n",
    "union_set=set1.union(set2) #or set1|set2\n",
    "union_set"
   ]
  },
  {
   "cell_type": "code",
   "execution_count": 69,
   "id": "e3784fe0-dca1-4f4a-afe9-9dc95256b9a1",
   "metadata": {},
   "outputs": [
    {
     "data": {
      "text/plain": [
       "{5}"
      ]
     },
     "execution_count": 69,
     "metadata": {},
     "output_type": "execute_result"
    }
   ],
   "source": [
    "set1={1,2,3,4,5}\n",
    "set2={6,5,6,7,0}\n",
    "intersection_set=set1.intersection(set2) #or set1&set2\n",
    "intersection_set"
   ]
  },
  {
   "cell_type": "code",
   "execution_count": 73,
   "id": "72450bec-4201-44a8-ba8d-0294d54f3407",
   "metadata": {},
   "outputs": [
    {
     "data": {
      "text/plain": [
       "{1, 2, 3, 4}"
      ]
     },
     "execution_count": 73,
     "metadata": {},
     "output_type": "execute_result"
    }
   ],
   "source": [
    "set1={1,2,3,4,5}  #all elements that are in set1 not in set2\n",
    "set2={6,5,6,7,0}\n",
    "difference=set1.difference(set2)\n",
    "difference"
   ]
  },
  {
   "cell_type": "code",
   "execution_count": 78,
   "id": "875b9094-312b-480b-9a98-cbb597da1f78",
   "metadata": {},
   "outputs": [
    {
     "data": {
      "text/plain": [
       "{0, 1, 2, 3, 4, 6, 7}"
      ]
     },
     "execution_count": 78,
     "metadata": {},
     "output_type": "execute_result"
    }
   ],
   "source": [
    "set1={1,2,3,4,5}  \n",
    "\n",
    "set2={6,5,7,0}  #common elements are not taken\n",
    "\n",
    "a=set1^(set2)\n",
    "a"
   ]
  },
  {
   "cell_type": "code",
   "execution_count": null,
   "id": "1224876a-91a6-4c4d-a961-6761bec6c3b1",
   "metadata": {},
   "outputs": [],
   "source": []
  }
 ],
 "metadata": {
  "kernelspec": {
   "display_name": "Python 3 (ipykernel)",
   "language": "python",
   "name": "python3"
  },
  "language_info": {
   "codemirror_mode": {
    "name": "ipython",
    "version": 3
   },
   "file_extension": ".py",
   "mimetype": "text/x-python",
   "name": "python",
   "nbconvert_exporter": "python",
   "pygments_lexer": "ipython3",
   "version": "3.13.0"
  }
 },
 "nbformat": 4,
 "nbformat_minor": 5
}
