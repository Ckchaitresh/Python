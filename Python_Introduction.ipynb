{
 "cells": [
  {
   "cell_type": "markdown",
   "id": "689430a4-c93b-4a79-8346-9acd7ad57bb2",
   "metadata": {},
   "source": [
    "Introduction To Python"
   ]
  },
  {
   "cell_type": "markdown",
   "id": "becd784c-a010-42dc-a531-58c09856464a",
   "metadata": {},
   "source": [
    "Python is an object oriented language which has all the features but python rograms are slower cmpared to C"
   ]
  },
  {
   "cell_type": "markdown",
   "id": "2c6a0894-efac-4aa5-897c-1dcbd10ba5c5",
   "metadata": {},
   "source": [
    "How to Give input?\n",
    "\n",
    "* input()"
   ]
  },
  {
   "cell_type": "markdown",
   "id": "f75e452e-19e0-4543-945f-d8b8b59b4009",
   "metadata": {},
   "source": [
    "How to display?\n",
    "\n",
    "print(\"    \") "
   ]
  },
  {
   "cell_type": "markdown",
   "id": "ab3aa3b2-8245-43dd-a662-68cd7790452b",
   "metadata": {},
   "source": [
    "Conditions to write variables\n",
    "\n",
    "* Special Characters are not allowed except under score.\n",
    "\n",
    "* Should not start with number and so as which you have learnt in basics"
   ]
  },
  {
   "cell_type": "markdown",
   "id": "573e2354-efc0-45c0-abff-1fe726e4d7f8",
   "metadata": {},
   "source": [
    "Example to take input from user and print"
   ]
  },
  {
   "cell_type": "code",
   "execution_count": 3,
   "id": "669ff462-63d9-4450-b52b-f9ceff616cc1",
   "metadata": {},
   "outputs": [
    {
     "name": "stdin",
     "output_type": "stream",
     "text": [
      " Chaitresh K\n"
     ]
    },
    {
     "name": "stdout",
     "output_type": "stream",
     "text": [
      "My name is Chaitresh K\n"
     ]
    }
   ],
   "source": [
    "name=input()\n",
    "print(\"My name is\",name)"
   ]
  },
  {
   "cell_type": "markdown",
   "id": "848a5b15-f531-4a67-8342-ef593e168c26",
   "metadata": {},
   "source": [
    "We can also write words to display nside the input"
   ]
  },
  {
   "cell_type": "code",
   "execution_count": 8,
   "id": "a2bdd946-6349-4d99-9169-a212e7f24a0c",
   "metadata": {},
   "outputs": [
    {
     "name": "stdin",
     "output_type": "stream",
     "text": [
      "Enter Your Name:\n",
      " Chaitresh K\n"
     ]
    },
    {
     "name": "stdout",
     "output_type": "stream",
     "text": [
      "My name is Chaitresh K\n"
     ]
    }
   ],
   "source": [
    "name=input(\"Enter Your Name:\\n\")\n",
    "print(\"My name is\",name)"
   ]
  },
  {
   "cell_type": "markdown",
   "id": "d85217a2-ee56-4792-b914-feb46fe431cd",
   "metadata": {},
   "source": [
    "*In Python by default the input in python is read as string\n",
    "\n",
    "Example\n",
    "\n",
    "a=input()\n",
    "\n",
    "* a is read as string "
   ]
  },
  {
   "cell_type": "markdown",
   "id": "ed2fc7c5-d2a3-4fb2-aed3-c3259b2ca2c6",
   "metadata": {},
   "source": [
    "How to convert ?\n",
    "\n",
    "*We should Type cast\n",
    "\n",
    "a=int(input())\n",
    "b=float(input())\n"
   ]
  },
  {
   "cell_type": "markdown",
   "id": "ee0c855d-cbcb-44dc-a7e0-d5a94319d945",
   "metadata": {},
   "source": [
    "We can use eval if we dont know int or float \n",
    "\n",
    "It will autmatically convert based on the input we give\n"
   ]
  },
  {
   "cell_type": "markdown",
   "id": "7730b475-f4ee-4e32-adf2-492c4fbcd12f",
   "metadata": {},
   "source": [
    "a=eval(input())"
   ]
  },
  {
   "cell_type": "code",
   "execution_count": 8,
   "id": "554bceb0-4499-4c09-a22f-5fe874f0908f",
   "metadata": {},
   "outputs": [
    {
     "name": "stdin",
     "output_type": "stream",
     "text": [
      "Enter the number 45\n"
     ]
    },
    {
     "data": {
      "text/plain": [
       "9"
      ]
     },
     "execution_count": 8,
     "metadata": {},
     "output_type": "execute_result"
    }
   ],
   "source": [
    "#Read an integer value of 2 digit and find sum of the digit\n",
    "\n",
    "a=int(input(\"Enter the number\"))\n",
    "b=(a//10)+(a%10)\n",
    "b\n"
   ]
  },
  {
   "cell_type": "code",
   "execution_count": 10,
   "id": "bc613b2a-72c0-4de7-854c-c7bc27b56ab2",
   "metadata": {},
   "outputs": [
    {
     "name": "stdin",
     "output_type": "stream",
     "text": [
      "Enter the number 64\n"
     ]
    },
    {
     "data": {
      "text/plain": [
       "46"
      ]
     },
     "execution_count": 10,
     "metadata": {},
     "output_type": "execute_result"
    }
   ],
   "source": [
    "#Read an integer vvalue and reverse\n",
    "a=int(input(\"Enter the number\"))\n",
    "b=(a%10)*10 + (a//10)\n",
    "b"
   ]
  },
  {
   "cell_type": "code",
   "execution_count": null,
   "id": "b432bddc-c3f1-452a-8205-395348e84cf2",
   "metadata": {},
   "outputs": [],
   "source": []
  }
 ],
 "metadata": {
  "kernelspec": {
   "display_name": "Python 3 (ipykernel)",
   "language": "python",
   "name": "python3"
  },
  "language_info": {
   "codemirror_mode": {
    "name": "ipython",
    "version": 3
   },
   "file_extension": ".py",
   "mimetype": "text/x-python",
   "name": "python",
   "nbconvert_exporter": "python",
   "pygments_lexer": "ipython3",
   "version": "3.13.0"
  }
 },
 "nbformat": 4,
 "nbformat_minor": 5
}
