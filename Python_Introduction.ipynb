{
 "cells": [
  {
   "cell_type": "markdown",
   "id": "689430a4-c93b-4a79-8346-9acd7ad57bb2",
   "metadata": {},
   "source": [
    "Introduction To Python"
   ]
  },
  {
   "cell_type": "markdown",
   "id": "becd784c-a010-42dc-a531-58c09856464a",
   "metadata": {},
   "source": [
    "Python is an object oriented language which has all the features but python rograms are slower cmpared to C"
   ]
  },
  {
   "cell_type": "markdown",
   "id": "2c6a0894-efac-4aa5-897c-1dcbd10ba5c5",
   "metadata": {},
   "source": [
    "How to Give input?\n",
    "\n",
    "* input()"
   ]
  },
  {
   "cell_type": "markdown",
   "id": "f75e452e-19e0-4543-945f-d8b8b59b4009",
   "metadata": {},
   "source": [
    "How to display?\n",
    "\n",
    "print(\"    \") "
   ]
  },
  {
   "cell_type": "markdown",
   "id": "ab3aa3b2-8245-43dd-a662-68cd7790452b",
   "metadata": {},
   "source": [
    "Conditions to write variables\n",
    "\n",
    "* Special Characters are not allowed except under score.\n",
    "\n",
    "* Should not start with number and so as which you have learnt in basics"
   ]
  },
  {
   "cell_type": "markdown",
   "id": "573e2354-efc0-45c0-abff-1fe726e4d7f8",
   "metadata": {},
   "source": [
    "Example to take input from user and print"
   ]
  },
  {
   "cell_type": "code",
   "execution_count": 3,
   "id": "669ff462-63d9-4450-b52b-f9ceff616cc1",
   "metadata": {},
   "outputs": [
    {
     "name": "stdin",
     "output_type": "stream",
     "text": [
      " Chaitresh K\n"
     ]
    },
    {
     "name": "stdout",
     "output_type": "stream",
     "text": [
      "My name is Chaitresh K\n"
     ]
    }
   ],
   "source": [
    "name=input()\n",
    "print(\"My name is\",name)"
   ]
  },
  {
   "cell_type": "markdown",
   "id": "848a5b15-f531-4a67-8342-ef593e168c26",
   "metadata": {},
   "source": [
    "We can also write words to display nside the input"
   ]
  },
  {
   "cell_type": "code",
   "execution_count": 8,
   "id": "a2bdd946-6349-4d99-9169-a212e7f24a0c",
   "metadata": {},
   "outputs": [
    {
     "name": "stdin",
     "output_type": "stream",
     "text": [
      "Enter Your Name:\n",
      " Chaitresh K\n"
     ]
    },
    {
     "name": "stdout",
     "output_type": "stream",
     "text": [
      "My name is Chaitresh K\n"
     ]
    }
   ],
   "source": [
    "name=input(\"Enter Your Name:\\n\")\n",
    "print(\"My name is\",name)"
   ]
  },
  {
   "cell_type": "code",
   "execution_count": null,
   "id": "68f122c3-3644-4256-b2e9-231c0d60da82",
   "metadata": {},
   "outputs": [],
   "source": []
  }
 ],
 "metadata": {
  "kernelspec": {
   "display_name": "Python 3 (ipykernel)",
   "language": "python",
   "name": "python3"
  },
  "language_info": {
   "codemirror_mode": {
    "name": "ipython",
    "version": 3
   },
   "file_extension": ".py",
   "mimetype": "text/x-python",
   "name": "python",
   "nbconvert_exporter": "python",
   "pygments_lexer": "ipython3",
   "version": "3.13.0"
  }
 },
 "nbformat": 4,
 "nbformat_minor": 5
}
