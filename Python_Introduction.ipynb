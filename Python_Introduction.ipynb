{
 "cells": [
  {
   "cell_type": "markdown",
   "id": "689430a4-c93b-4a79-8346-9acd7ad57bb2",
   "metadata": {},
   "source": [
    "Introduction To Python"
   ]
  },
  {
   "cell_type": "markdown",
   "id": "becd784c-a010-42dc-a531-58c09856464a",
   "metadata": {},
   "source": [
    "Python is an object oriented language which has all the features but python rograms are slower cmpared to C"
   ]
  },
  {
   "cell_type": "markdown",
   "id": "2c6a0894-efac-4aa5-897c-1dcbd10ba5c5",
   "metadata": {},
   "source": [
    "How to Give input?\n",
    "\n",
    "* input()"
   ]
  },
  {
   "cell_type": "markdown",
   "id": "f75e452e-19e0-4543-945f-d8b8b59b4009",
   "metadata": {},
   "source": [
    "How to display?\n",
    "\n",
    "print(\"    \") "
   ]
  },
  {
   "cell_type": "markdown",
   "id": "ab3aa3b2-8245-43dd-a662-68cd7790452b",
   "metadata": {},
   "source": [
    "Conditions to write variables\n",
    "\n",
    "* Special Characters are not allowed except under score.\n",
    "\n",
    "* Should not start with number and so as which you have learnt in basics"
   ]
  },
  {
   "cell_type": "markdown",
   "id": "573e2354-efc0-45c0-abff-1fe726e4d7f8",
   "metadata": {},
   "source": [
    "Example to take input from user and print"
   ]
  },
  {
   "cell_type": "code",
   "execution_count": 3,
   "id": "669ff462-63d9-4450-b52b-f9ceff616cc1",
   "metadata": {},
   "outputs": [
    {
     "name": "stdin",
     "output_type": "stream",
     "text": [
      " Chaitresh K\n"
     ]
    },
    {
     "name": "stdout",
     "output_type": "stream",
     "text": [
      "My name is Chaitresh K\n"
     ]
    }
   ],
   "source": [
    "name=input()\n",
    "print(\"My name is\",name)"
   ]
  },
  {
   "cell_type": "markdown",
   "id": "848a5b15-f531-4a67-8342-ef593e168c26",
   "metadata": {},
   "source": [
    "We can also write words to display nside the input"
   ]
  },
  {
   "cell_type": "code",
   "execution_count": 8,
   "id": "a2bdd946-6349-4d99-9169-a212e7f24a0c",
   "metadata": {},
   "outputs": [
    {
     "name": "stdin",
     "output_type": "stream",
     "text": [
      "Enter Your Name:\n",
      " Chaitresh K\n"
     ]
    },
    {
     "name": "stdout",
     "output_type": "stream",
     "text": [
      "My name is Chaitresh K\n"
     ]
    }
   ],
   "source": [
    "name=input(\"Enter Your Name:\\n\")\n",
    "print(\"My name is\",name)"
   ]
  },
  {
   "cell_type": "markdown",
   "id": "d85217a2-ee56-4792-b914-feb46fe431cd",
   "metadata": {},
   "source": [
    "*In Python by default the input in python is read as string\n",
    "\n",
    "Example\n",
    "\n",
    "a=input()\n",
    "\n",
    "* a is read as string "
   ]
  },
  {
   "cell_type": "markdown",
   "id": "ed2fc7c5-d2a3-4fb2-aed3-c3259b2ca2c6",
   "metadata": {},
   "source": [
    "How to convert ?\n",
    "\n",
    "*We should Type cast\n",
    "\n",
    "a=int(input())\n",
    "b=float(input())\n"
   ]
  },
  {
   "cell_type": "markdown",
   "id": "ee0c855d-cbcb-44dc-a7e0-d5a94319d945",
   "metadata": {},
   "source": [
    "We can use eval if we dont know int or float \n",
    "\n",
    "It will autmatically convert based on the input we give\n"
   ]
  },
  {
   "cell_type": "markdown",
   "id": "7730b475-f4ee-4e32-adf2-492c4fbcd12f",
   "metadata": {},
   "source": [
    "a=eval(input())"
   ]
  },
  {
   "cell_type": "code",
   "execution_count": 8,
   "id": "554bceb0-4499-4c09-a22f-5fe874f0908f",
   "metadata": {},
   "outputs": [
    {
     "name": "stdin",
     "output_type": "stream",
     "text": [
      "Enter the number 45\n"
     ]
    },
    {
     "data": {
      "text/plain": [
       "9"
      ]
     },
     "execution_count": 8,
     "metadata": {},
     "output_type": "execute_result"
    }
   ],
   "source": [
    "#Read an integer value of 2 digit and find sum of the digit\n",
    "\n",
    "a=int(input(\"Enter the number\"))\n",
    "b=(a//10)+(a%10)\n",
    "b\n"
   ]
  },
  {
   "cell_type": "code",
   "execution_count": 10,
   "id": "bc613b2a-72c0-4de7-854c-c7bc27b56ab2",
   "metadata": {},
   "outputs": [
    {
     "name": "stdin",
     "output_type": "stream",
     "text": [
      "Enter the number 64\n"
     ]
    },
    {
     "data": {
      "text/plain": [
       "46"
      ]
     },
     "execution_count": 10,
     "metadata": {},
     "output_type": "execute_result"
    }
   ],
   "source": [
    "#Read an integer vvalue and reverse\n",
    "a=int(input(\"Enter the number\"))\n",
    "b=(a%10)*10 + (a//10)\n",
    "b"
   ]
  },
  {
   "cell_type": "code",
   "execution_count": 13,
   "id": "b3799502-9215-43c7-bcc8-29671be77cca",
   "metadata": {},
   "outputs": [
    {
     "name": "stdin",
     "output_type": "stream",
     "text": [
      " 10\n"
     ]
    },
    {
     "name": "stdout",
     "output_type": "stream",
     "text": [
      "Entered number is: 10\n"
     ]
    },
    {
     "name": "stdin",
     "output_type": "stream",
     "text": [
      " 20\n"
     ]
    },
    {
     "name": "stdout",
     "output_type": "stream",
     "text": [
      "Entered number is: 20\n"
     ]
    },
    {
     "name": "stdin",
     "output_type": "stream",
     "text": [
      " 30\n"
     ]
    },
    {
     "name": "stdout",
     "output_type": "stream",
     "text": [
      "Entered number is: 30\n"
     ]
    },
    {
     "name": "stdin",
     "output_type": "stream",
     "text": [
      " 40\n"
     ]
    },
    {
     "name": "stdout",
     "output_type": "stream",
     "text": [
      "Entered number is: 40\n"
     ]
    }
   ],
   "source": [
    "#### Loop-Repeat or execute set of statements for specified number of times\n",
    "for v in 1,2,3,4:\n",
    "    n=int(input())\n",
    "    print(\"Entered number is:\",n)\n",
    "# v is a variable to get value from the list given and run the statements enclosed\n",
    "\n",
    "#range is an inbuilt function tto generate numbers from the starting value to ending value -1\n"
   ]
  },
  {
   "cell_type": "code",
   "execution_count": 14,
   "id": "d328490e-fadc-46dd-9a02-6402f63f8dc9",
   "metadata": {},
   "outputs": [
    {
     "name": "stdout",
     "output_type": "stream",
     "text": [
      "1\n",
      "3\n",
      "5\n",
      "7\n",
      "9\n"
     ]
    }
   ],
   "source": [
    "for v in range(1,10,2):\n",
    "    print(v)\n",
    "# By default it is incremented by +1\n",
    "#if you want you can specify more"
   ]
  },
  {
   "cell_type": "code",
   "execution_count": 17,
   "id": "c5a213e5-3f57-42db-9378-6490645dea7b",
   "metadata": {},
   "outputs": [
    {
     "name": "stdout",
     "output_type": "stream",
     "text": [
      "10\n",
      "9\n",
      "8\n",
      "7\n",
      "6\n",
      "5\n",
      "4\n",
      "3\n",
      "2\n",
      "1\n"
     ]
    }
   ],
   "source": [
    "for v in range(10,0,-1):\n",
    "    print(v)\n",
    "#start value:10\n",
    "#end value:0\n",
    "#decrement:-1\n",
    "#values from 10 to 1 will be generated in reverse order\n"
   ]
  },
  {
   "cell_type": "code",
   "execution_count": 19,
   "id": "db9841a1-a408-4cc5-86d9-11d05338378b",
   "metadata": {},
   "outputs": [
    {
     "name": "stdout",
     "output_type": "stream",
     "text": [
      "HELLO\n"
     ]
    }
   ],
   "source": [
    "#String is immutable\n",
    "s='hello'\n",
    "s=s.upper()\n",
    "print(s)\n",
    "#Converts from lowercase to upper case"
   ]
  },
  {
   "cell_type": "code",
   "execution_count": 20,
   "id": "cbf162b4-51f3-40ac-a145-b3de18405dee",
   "metadata": {},
   "outputs": [
    {
     "name": "stdout",
     "output_type": "stream",
     "text": [
      "True  with strip\n"
     ]
    }
   ],
   "source": [
    "s='hello'\n",
    "r='   hello'\n",
    "r=r.strip() #remove spaces at the beggining or end\n",
    "if s==r:\n",
    "    print(\"True  with strip\")\n",
    "else:\n",
    "    print(\"Trur without strip\")"
   ]
  },
  {
   "cell_type": "code",
   "execution_count": 22,
   "id": "537d286f-aa94-4b2b-97d2-7a66c2e648f7",
   "metadata": {},
   "outputs": [
    {
     "name": "stdout",
     "output_type": "stream",
     "text": [
      "cello\n"
     ]
    }
   ],
   "source": [
    "s='hello'\n",
    "s=s.replace('h','c') #replace(oldvalue,newvalue)\n",
    "print(s)"
   ]
  },
  {
   "cell_type": "code",
   "execution_count": 23,
   "id": "ee40197b-d575-4f06-bbc6-e7cb388f4ca4",
   "metadata": {},
   "outputs": [
    {
     "name": "stdout",
     "output_type": "stream",
     "text": [
      "6\n"
     ]
    }
   ],
   "source": [
    "s='hello world'\n",
    "a=s.find('world') #it finds the position index of the world it includes spaces also\n",
    "print(a)\n"
   ]
  },
  {
   "cell_type": "code",
   "execution_count": 25,
   "id": "a968a3d6-2200-48ce-94f9-eae8ed6565b8",
   "metadata": {},
   "outputs": [
    {
     "name": "stdout",
     "output_type": "stream",
     "text": [
      "['hello', 'world']\n",
      "['10', '20', '30']\n"
     ]
    }
   ],
   "source": [
    "s='hello world'\n",
    "s=s.split(' ') #based on space\n",
    "print(s)\n",
    "\n",
    "t='10:20:30'\n",
    "t=t.split(':') #based on colon\n",
    "print(t)"
   ]
  },
  {
   "cell_type": "code",
   "execution_count": 26,
   "id": "ba508080-362a-46e8-af7a-91b60e86b318",
   "metadata": {},
   "outputs": [
    {
     "name": "stdout",
     "output_type": "stream",
     "text": [
      "olleh\n"
     ]
    }
   ],
   "source": [
    "#Reverse a string in python\n",
    "t='hello'\n",
    "print(t[::-1])"
   ]
  },
  {
   "cell_type": "code",
   "execution_count": 28,
   "id": "c9ef0a6a-50d7-4db8-8d6b-803d676bc841",
   "metadata": {},
   "outputs": [
    {
     "name": "stdout",
     "output_type": "stream",
     "text": [
      "It is palindrome\n"
     ]
    }
   ],
   "source": [
    "#Reverse a string and check whether it is palindrome or not\n",
    "s='malayalam'\n",
    "c=s[::-1]\n",
    "if c==s:\n",
    "    print(\"It is palindrome\")\n",
    "else:\n",
    "    print(\"Not Palindrome\")"
   ]
  },
  {
   "cell_type": "code",
   "execution_count": 29,
   "id": "cfff660c-fe36-48c9-8e07-45f4dcff2e29",
   "metadata": {},
   "outputs": [
    {
     "name": "stdout",
     "output_type": "stream",
     "text": [
      "hel\n"
     ]
    }
   ],
   "source": [
    "#String slicing\n",
    "w='hello'\n",
    "print(w[0:3])"
   ]
  },
  {
   "cell_type": "code",
   "execution_count": 31,
   "id": "2b78450b-f8ec-4a38-959e-01965a293367",
   "metadata": {},
   "outputs": [],
   "source": [
    "#ALL functions in Strings\n",
    "#Let s be variable then \n",
    "#s.upper()\n",
    "#s.lower()\n",
    "#s.strip()\n",
    "#s.replace()\n",
    "#s.find() or s.index()\n",
    "#s[::-1]\n",
    "#s.count()\n",
    "#len(s)"
   ]
  },
  {
   "cell_type": "code",
   "execution_count": 32,
   "id": "acf5bcf2-159d-45f4-9bac-7cd8fa26018b",
   "metadata": {},
   "outputs": [
    {
     "name": "stdout",
     "output_type": "stream",
     "text": [
      "User is : chaitreshk1999\n",
      "Provider is gmail.com\n"
     ]
    }
   ],
   "source": [
    "#Accept a email id and print user and provider in seperate lines\n",
    "email='chaitreshk1999@gmail.com'\n",
    "x=email.find('@')\n",
    "user=email[0:x]\n",
    "provider=email[x+1:]\n",
    "print(\"User is :\",user)\n",
    "print(\"Provider is\",provider)"
   ]
  },
  {
   "cell_type": "code",
   "execution_count": 33,
   "id": "a0bcfc36-4152-49f6-99ca-2520777a6293",
   "metadata": {},
   "outputs": [
    {
     "name": "stdout",
     "output_type": "stream",
     "text": [
      "olleH\n"
     ]
    }
   ],
   "source": [
    "#Write a program to reverse  without using inbuilt function\n",
    "\n",
    "s='Hello'\n",
    "r=''\n",
    "for i in s:\n",
    "    r=i+r  # H->e+H->l+e+H\n",
    "print(r)\n"
   ]
  },
  {
   "cell_type": "code",
   "execution_count": 34,
   "id": "4b00095a-d65b-4640-9a6a-2c9bac93b760",
   "metadata": {},
   "outputs": [
    {
     "name": "stdout",
     "output_type": "stream",
     "text": [
      "5\n"
     ]
    }
   ],
   "source": [
    "#Random Object\n",
    "import random\n",
    "v=random.randint(1,5)\n",
    "print(v)"
   ]
  },
  {
   "cell_type": "code",
   "execution_count": 35,
   "id": "0045eced-185c-434e-9bfe-5bc413d2a2cb",
   "metadata": {},
   "outputs": [
    {
     "name": "stdout",
     "output_type": "stream",
     "text": [
      "C\n"
     ]
    }
   ],
   "source": [
    "#Write a program to generate random latters\n",
    "c=random.randint(65,90)\n",
    "print(chr(c))"
   ]
  },
  {
   "cell_type": "code",
   "execution_count": 41,
   "id": "1f633e51-0e64-4845-9c70-3c5d554c6e36",
   "metadata": {},
   "outputs": [
    {
     "name": "stdout",
     "output_type": "stream",
     "text": [
      "MORTVPPKEE\n"
     ]
    }
   ],
   "source": [
    "W=''\n",
    "for i in range(0,10):\n",
    "    v=random.randint(65,90)\n",
    "    W=W+chr(v)\n",
    "print(W)"
   ]
  },
  {
   "cell_type": "code",
   "execution_count": 48,
   "id": "9360207c-169e-42d1-874e-6415ea485585",
   "metadata": {},
   "outputs": [
    {
     "name": "stdout",
     "output_type": "stream",
     "text": [
      "MJLDKC\n"
     ]
    }
   ],
   "source": [
    "a=random.sample(range(65,90),6) #it will generate 6 random numbers with no repetation\n",
    "w=''\n",
    "for i in a:\n",
    "    w=w+chr(i)\n",
    "print(w)"
   ]
  },
  {
   "cell_type": "code",
   "execution_count": null,
   "id": "eb8d64bd-b215-4f71-a19f-ce47e496fda5",
   "metadata": {},
   "outputs": [],
   "source": [
    "##### Print to guess the number generated by computer\n",
    "import time\n",
    "word=random.randint(1,100)\n",
    "a=time.perf_counter()\n",
    "print(\"Guess the number\")\n",
    "\n",
    "while(time.perf_counter()-a)<=30:\n",
    "    guess=int(input())\n",
    "    if guess==word:\n",
    "        print(\"you guessed the right word\")\n",
    "    elif guess<word:\n",
    "        print(\"try greater number\")\n",
    "    else:\n",
    "        print(\"Try lesser number\")\n",
    "if guess!=word:\n",
    "    print(\"You Lost\")\n"
   ]
  },
  {
   "cell_type": "code",
   "execution_count": null,
   "id": "fac2b87c-624f-4fd8-a2fa-25e4728a8957",
   "metadata": {},
   "outputs": [],
   "source": []
  }
 ],
 "metadata": {
  "kernelspec": {
   "display_name": "Python 3 (ipykernel)",
   "language": "python",
   "name": "python3"
  },
  "language_info": {
   "codemirror_mode": {
    "name": "ipython",
    "version": 3
   },
   "file_extension": ".py",
   "mimetype": "text/x-python",
   "name": "python",
   "nbconvert_exporter": "python",
   "pygments_lexer": "ipython3",
   "version": "3.13.0"
  }
 },
 "nbformat": 4,
 "nbformat_minor": 5
}
