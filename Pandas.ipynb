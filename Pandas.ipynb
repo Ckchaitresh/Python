{
 "cells": [
  {
   "cell_type": "code",
   "execution_count": 1,
   "id": "6b6d9f6d-12b3-4800-bbd5-57aadb6a6c4b",
   "metadata": {},
   "outputs": [],
   "source": [
    "#Open Source library built on top of numpy\n",
    "#used for cleaning and preparation\n"
   ]
  },
  {
   "cell_type": "code",
   "execution_count": 4,
   "id": "5ac9e6be-6bf6-4a35-b877-a1876e00704e",
   "metadata": {},
   "outputs": [],
   "source": [
    "import pandas as pd\n",
    "import numpy as np"
   ]
  },
  {
   "cell_type": "code",
   "execution_count": 7,
   "id": "e27b1a5e-59ec-448f-8482-f45727aa149b",
   "metadata": {},
   "outputs": [],
   "source": [
    "#Series\n",
    "labels=['a','b','c','d']\n",
    "my_data=[10,20,30,40]\n",
    "arr=np.array(my_data)\n",
    "d={'a':10,'b':20,'c':30}\n"
   ]
  },
  {
   "cell_type": "code",
   "execution_count": 8,
   "id": "2ea765df-efd6-43e2-9d78-3f0560c253a6",
   "metadata": {},
   "outputs": [
    {
     "data": {
      "text/plain": [
       "a    10\n",
       "b    20\n",
       "c    30\n",
       "d    40\n",
       "dtype: int64"
      ]
     },
     "execution_count": 8,
     "metadata": {},
     "output_type": "execute_result"
    }
   ],
   "source": [
    "#passing data into series\n",
    "pd.Series(data=my_data,index=labels)"
   ]
  },
  {
   "cell_type": "code",
   "execution_count": 9,
   "id": "43cde901-37f4-47d5-8fc9-6e0dda21e13d",
   "metadata": {},
   "outputs": [
    {
     "data": {
      "text/plain": [
       "a    10\n",
       "b    20\n",
       "c    30\n",
       "dtype: int64"
      ]
     },
     "execution_count": 9,
     "metadata": {},
     "output_type": "execute_result"
    }
   ],
   "source": [
    "pd.Series(d)#passing a dictionary"
   ]
  },
  {
   "cell_type": "code",
   "execution_count": 11,
   "id": "98367e9c-23a2-42dc-89e8-308289a60250",
   "metadata": {},
   "outputs": [
    {
     "data": {
      "text/plain": [
       "0      <built-in function sum>\n",
       "1    <built-in function print>\n",
       "2      <built-in function len>\n",
       "dtype: object"
      ]
     },
     "execution_count": 11,
     "metadata": {},
     "output_type": "execute_result"
    }
   ],
   "source": [
    "#series can hld any datatype int,float,string\n",
    "#we can also pass built in function\n",
    "pd.Series(data=[sum,print,len])"
   ]
  },
  {
   "cell_type": "code",
   "execution_count": 13,
   "id": "d1b6cf4c-ab9f-44cc-b3d4-918975d6f3ba",
   "metadata": {},
   "outputs": [
    {
     "data": {
      "text/plain": [
       "USA        1\n",
       "Germany    2\n",
       "USSR       3\n",
       "Japan      4\n",
       "dtype: int64"
      ]
     },
     "execution_count": 13,
     "metadata": {},
     "output_type": "execute_result"
    }
   ],
   "source": [
    "#How to grab Information?\n",
    "ser1=pd.Series([1,2,3,4],['USA','Germany','USSR','Japan'])\n",
    "ser1"
   ]
  },
  {
   "cell_type": "code",
   "execution_count": 18,
   "id": "a613eabb-9a2d-4f84-a536-f5c92077f3a1",
   "metadata": {},
   "outputs": [
    {
     "data": {
      "text/plain": [
       "np.int64(1)"
      ]
     },
     "execution_count": 18,
     "metadata": {},
     "output_type": "execute_result"
    }
   ],
   "source": [
    "#We can access using index labels \n",
    "\n",
    "ser1['USA']"
   ]
  },
  {
   "cell_type": "code",
   "execution_count": 20,
   "id": "3691150b-74b0-4a61-8a42-6f01b4192617",
   "metadata": {},
   "outputs": [
    {
     "data": {
      "text/plain": [
       "USA        1\n",
       "Germany    2\n",
       "Italy      5\n",
       "Japan      4\n",
       "dtype: int64"
      ]
     },
     "execution_count": 20,
     "metadata": {},
     "output_type": "execute_result"
    }
   ],
   "source": [
    "ser2=pd.Series([1,2,5,4],['USA','Germany','Italy','Japan'])\n",
    "ser2"
   ]
  },
  {
   "cell_type": "code",
   "execution_count": 21,
   "id": "906fba58-92f3-4e7e-9595-995bcdbfcf28",
   "metadata": {},
   "outputs": [
    {
     "data": {
      "text/plain": [
       "Germany    4.0\n",
       "Italy      NaN\n",
       "Japan      8.0\n",
       "USA        2.0\n",
       "USSR       NaN\n",
       "dtype: float64"
      ]
     },
     "execution_count": 21,
     "metadata": {},
     "output_type": "execute_result"
    }
   ],
   "source": [
    "#if we add two series \n",
    "ser1+ser2"
   ]
  },
  {
   "cell_type": "code",
   "execution_count": 22,
   "id": "0dd5706f-1fe1-4477-9808-d779e3e7f07b",
   "metadata": {},
   "outputs": [],
   "source": [
    "#in the above when we add these series it will try to do the operation based on index,if it cannot find the match it will give nan"
   ]
  },
  {
   "cell_type": "markdown",
   "id": "cbc3833b-4c8a-4bcd-b1c5-30ceb605fa3c",
   "metadata": {},
   "source": [
    "                                                                    Dataframes"
   ]
  },
  {
   "cell_type": "code",
   "execution_count": 23,
   "id": "3118495e-7d5f-4ae0-91ee-51956b227c48",
   "metadata": {},
   "outputs": [
    {
     "data": {
      "text/html": [
       "<div>\n",
       "<style scoped>\n",
       "    .dataframe tbody tr th:only-of-type {\n",
       "        vertical-align: middle;\n",
       "    }\n",
       "\n",
       "    .dataframe tbody tr th {\n",
       "        vertical-align: top;\n",
       "    }\n",
       "\n",
       "    .dataframe thead th {\n",
       "        text-align: right;\n",
       "    }\n",
       "</style>\n",
       "<table border=\"1\" class=\"dataframe\">\n",
       "  <thead>\n",
       "    <tr style=\"text-align: right;\">\n",
       "      <th></th>\n",
       "    </tr>\n",
       "  </thead>\n",
       "  <tbody>\n",
       "  </tbody>\n",
       "</table>\n",
       "</div>"
      ],
      "text/plain": [
       "Empty DataFrame\n",
       "Columns: []\n",
       "Index: []"
      ]
     },
     "execution_count": 23,
     "metadata": {},
     "output_type": "execute_result"
    }
   ],
   "source": [
    "#Syntax \n",
    "pd.DataFrame(data=None,index=None,columns=None,dtype=None,copy=False)"
   ]
  },
  {
   "cell_type": "code",
   "execution_count": 30,
   "id": "396b8b86-be66-4a18-b849-717954f35b2e",
   "metadata": {},
   "outputs": [
    {
     "data": {
      "text/html": [
       "<div>\n",
       "<style scoped>\n",
       "    .dataframe tbody tr th:only-of-type {\n",
       "        vertical-align: middle;\n",
       "    }\n",
       "\n",
       "    .dataframe tbody tr th {\n",
       "        vertical-align: top;\n",
       "    }\n",
       "\n",
       "    .dataframe thead th {\n",
       "        text-align: right;\n",
       "    }\n",
       "</style>\n",
       "<table border=\"1\" class=\"dataframe\">\n",
       "  <thead>\n",
       "    <tr style=\"text-align: right;\">\n",
       "      <th></th>\n",
       "      <th>W</th>\n",
       "      <th>X</th>\n",
       "      <th>Y</th>\n",
       "      <th>Z</th>\n",
       "    </tr>\n",
       "  </thead>\n",
       "  <tbody>\n",
       "    <tr>\n",
       "      <th>A</th>\n",
       "      <td>-0.439568</td>\n",
       "      <td>0.822822</td>\n",
       "      <td>0.246248</td>\n",
       "      <td>0.546029</td>\n",
       "    </tr>\n",
       "    <tr>\n",
       "      <th>B</th>\n",
       "      <td>0.761487</td>\n",
       "      <td>0.157528</td>\n",
       "      <td>-1.520171</td>\n",
       "      <td>0.648728</td>\n",
       "    </tr>\n",
       "    <tr>\n",
       "      <th>C</th>\n",
       "      <td>-0.270709</td>\n",
       "      <td>0.382448</td>\n",
       "      <td>1.668600</td>\n",
       "      <td>0.499507</td>\n",
       "    </tr>\n",
       "    <tr>\n",
       "      <th>D</th>\n",
       "      <td>-0.556925</td>\n",
       "      <td>-0.890022</td>\n",
       "      <td>-0.080057</td>\n",
       "      <td>-0.317839</td>\n",
       "    </tr>\n",
       "    <tr>\n",
       "      <th>E</th>\n",
       "      <td>-0.537349</td>\n",
       "      <td>-0.526787</td>\n",
       "      <td>-1.021011</td>\n",
       "      <td>0.766681</td>\n",
       "    </tr>\n",
       "  </tbody>\n",
       "</table>\n",
       "</div>"
      ],
      "text/plain": [
       "          W         X         Y         Z\n",
       "A -0.439568  0.822822  0.246248  0.546029\n",
       "B  0.761487  0.157528 -1.520171  0.648728\n",
       "C -0.270709  0.382448  1.668600  0.499507\n",
       "D -0.556925 -0.890022 -0.080057 -0.317839\n",
       "E -0.537349 -0.526787 -1.021011  0.766681"
      ]
     },
     "execution_count": 30,
     "metadata": {},
     "output_type": "execute_result"
    }
   ],
   "source": [
    "df=pd.DataFrame(data=np.random.randn(5,4),index=['A','B','C','D','E'],columns=['W','X','Y','Z'])\n",
    "df"
   ]
  },
  {
   "cell_type": "code",
   "execution_count": 31,
   "id": "cca2ae6a-8116-48b3-af33-8827755326f5",
   "metadata": {},
   "outputs": [],
   "source": [
    "#How to grab values in DataFrame?\n"
   ]
  },
  {
   "cell_type": "code",
   "execution_count": 35,
   "id": "76a58425-27f1-4811-b830-1878c38671dc",
   "metadata": {},
   "outputs": [
    {
     "name": "stdout",
     "output_type": "stream",
     "text": [
      "A   -0.439568\n",
      "B    0.761487\n",
      "C   -0.270709\n",
      "D   -0.556925\n",
      "E   -0.537349\n",
      "Name: W, dtype: float64\n",
      "<class 'pandas.core.series.Series'>\n"
     ]
    }
   ],
   "source": [
    "print(df['W']) #selecting columns\n",
    "#the output will be in series \n",
    "print(type(df['W']))"
   ]
  },
  {
   "cell_type": "code",
   "execution_count": 37,
   "id": "845064d2-d42e-4844-b68e-ffc953a29e47",
   "metadata": {},
   "outputs": [
    {
     "name": "stdout",
     "output_type": "stream",
     "text": [
      "          W         Z\n",
      "A -0.439568  0.546029\n",
      "B  0.761487  0.648728\n",
      "C -0.270709  0.499507\n",
      "D -0.556925 -0.317839\n",
      "E -0.537349  0.766681\n"
     ]
    }
   ],
   "source": [
    "#to select multiple columns\n",
    "\n",
    "print(df[['W','Z']])"
   ]
  },
  {
   "cell_type": "code",
   "execution_count": 46,
   "id": "9e32e865-cf55-45bb-801f-f19a55342e19",
   "metadata": {},
   "outputs": [
    {
     "name": "stdout",
     "output_type": "stream",
     "text": [
      "          W         X         Y         Z       new\n",
      "A -0.439568  0.822822  0.246248  0.546029  0.106461\n",
      "B  0.761487  0.157528 -1.520171  0.648728  1.410215\n",
      "C -0.270709  0.382448  1.668600  0.499507  0.228798\n",
      "D -0.556925 -0.890022 -0.080057 -0.317839 -0.874764\n",
      "E -0.537349 -0.526787 -1.021011  0.766681  0.229331\n"
     ]
    }
   ],
   "source": [
    "#to create a new column\n",
    "\n",
    "df['new']=df['W']+df['Z']\n",
    "print(df)"
   ]
  },
  {
   "cell_type": "raw",
   "id": "1d2c4079-515c-4e81-9477-222e624ec899",
   "metadata": {},
   "source": [
    "#if you want to delete or drop the cloumn\n",
    "#syntax\n",
    "df.drop('columnname',axis=0,level=None,inplace=False,errors='raise')\n",
    "axis=0 by default \n",
    "If you wat to drop or delete the column you should specify axis=1 \n",
    "If you want to drop or delete the row you should specify axis=0 which is default "
   ]
  },
  {
   "cell_type": "code",
   "execution_count": 47,
   "id": "344739a3-f908-4690-b1ca-11eced73b67d",
   "metadata": {},
   "outputs": [
    {
     "data": {
      "text/html": [
       "<div>\n",
       "<style scoped>\n",
       "    .dataframe tbody tr th:only-of-type {\n",
       "        vertical-align: middle;\n",
       "    }\n",
       "\n",
       "    .dataframe tbody tr th {\n",
       "        vertical-align: top;\n",
       "    }\n",
       "\n",
       "    .dataframe thead th {\n",
       "        text-align: right;\n",
       "    }\n",
       "</style>\n",
       "<table border=\"1\" class=\"dataframe\">\n",
       "  <thead>\n",
       "    <tr style=\"text-align: right;\">\n",
       "      <th></th>\n",
       "      <th>W</th>\n",
       "      <th>X</th>\n",
       "      <th>Y</th>\n",
       "      <th>Z</th>\n",
       "    </tr>\n",
       "  </thead>\n",
       "  <tbody>\n",
       "    <tr>\n",
       "      <th>A</th>\n",
       "      <td>-0.439568</td>\n",
       "      <td>0.822822</td>\n",
       "      <td>0.246248</td>\n",
       "      <td>0.546029</td>\n",
       "    </tr>\n",
       "    <tr>\n",
       "      <th>B</th>\n",
       "      <td>0.761487</td>\n",
       "      <td>0.157528</td>\n",
       "      <td>-1.520171</td>\n",
       "      <td>0.648728</td>\n",
       "    </tr>\n",
       "    <tr>\n",
       "      <th>C</th>\n",
       "      <td>-0.270709</td>\n",
       "      <td>0.382448</td>\n",
       "      <td>1.668600</td>\n",
       "      <td>0.499507</td>\n",
       "    </tr>\n",
       "    <tr>\n",
       "      <th>D</th>\n",
       "      <td>-0.556925</td>\n",
       "      <td>-0.890022</td>\n",
       "      <td>-0.080057</td>\n",
       "      <td>-0.317839</td>\n",
       "    </tr>\n",
       "    <tr>\n",
       "      <th>E</th>\n",
       "      <td>-0.537349</td>\n",
       "      <td>-0.526787</td>\n",
       "      <td>-1.021011</td>\n",
       "      <td>0.766681</td>\n",
       "    </tr>\n",
       "  </tbody>\n",
       "</table>\n",
       "</div>"
      ],
      "text/plain": [
       "          W         X         Y         Z\n",
       "A -0.439568  0.822822  0.246248  0.546029\n",
       "B  0.761487  0.157528 -1.520171  0.648728\n",
       "C -0.270709  0.382448  1.668600  0.499507\n",
       "D -0.556925 -0.890022 -0.080057 -0.317839\n",
       "E -0.537349 -0.526787 -1.021011  0.766681"
      ]
     },
     "execution_count": 47,
     "metadata": {},
     "output_type": "execute_result"
    }
   ],
   "source": [
    "df.drop('new',axis=1,inplace=True)\n",
    "df\n",
    "#if you dont mention inplace=True then it will show new column it will be not deleted from the column"
   ]
  },
  {
   "cell_type": "code",
   "execution_count": 48,
   "id": "d8380867-8b11-49c5-9f53-545ef9c5d38d",
   "metadata": {},
   "outputs": [
    {
     "data": {
      "text/html": [
       "<div>\n",
       "<style scoped>\n",
       "    .dataframe tbody tr th:only-of-type {\n",
       "        vertical-align: middle;\n",
       "    }\n",
       "\n",
       "    .dataframe tbody tr th {\n",
       "        vertical-align: top;\n",
       "    }\n",
       "\n",
       "    .dataframe thead th {\n",
       "        text-align: right;\n",
       "    }\n",
       "</style>\n",
       "<table border=\"1\" class=\"dataframe\">\n",
       "  <thead>\n",
       "    <tr style=\"text-align: right;\">\n",
       "      <th></th>\n",
       "      <th>W</th>\n",
       "      <th>X</th>\n",
       "      <th>Y</th>\n",
       "      <th>Z</th>\n",
       "    </tr>\n",
       "  </thead>\n",
       "  <tbody>\n",
       "    <tr>\n",
       "      <th>A</th>\n",
       "      <td>-0.439568</td>\n",
       "      <td>0.822822</td>\n",
       "      <td>0.246248</td>\n",
       "      <td>0.546029</td>\n",
       "    </tr>\n",
       "    <tr>\n",
       "      <th>B</th>\n",
       "      <td>0.761487</td>\n",
       "      <td>0.157528</td>\n",
       "      <td>-1.520171</td>\n",
       "      <td>0.648728</td>\n",
       "    </tr>\n",
       "    <tr>\n",
       "      <th>C</th>\n",
       "      <td>-0.270709</td>\n",
       "      <td>0.382448</td>\n",
       "      <td>1.668600</td>\n",
       "      <td>0.499507</td>\n",
       "    </tr>\n",
       "    <tr>\n",
       "      <th>D</th>\n",
       "      <td>-0.556925</td>\n",
       "      <td>-0.890022</td>\n",
       "      <td>-0.080057</td>\n",
       "      <td>-0.317839</td>\n",
       "    </tr>\n",
       "  </tbody>\n",
       "</table>\n",
       "</div>"
      ],
      "text/plain": [
       "          W         X         Y         Z\n",
       "A -0.439568  0.822822  0.246248  0.546029\n",
       "B  0.761487  0.157528 -1.520171  0.648728\n",
       "C -0.270709  0.382448  1.668600  0.499507\n",
       "D -0.556925 -0.890022 -0.080057 -0.317839"
      ]
     },
     "execution_count": 48,
     "metadata": {},
     "output_type": "execute_result"
    }
   ],
   "source": [
    "df.drop('E',axis=0,inplace=True)\n",
    "df"
   ]
  },
  {
   "cell_type": "code",
   "execution_count": 50,
   "id": "e3680c59-ee42-47e8-bd4c-8a8c01e4a73b",
   "metadata": {},
   "outputs": [
    {
     "name": "stdout",
     "output_type": "stream",
     "text": [
      "W   -0.270709\n",
      "X    0.382448\n",
      "Y    1.668600\n",
      "Z    0.499507\n",
      "Name: C, dtype: float64\n",
      "W   -0.270709\n",
      "X    0.382448\n",
      "Y    1.668600\n",
      "Z    0.499507\n",
      "Name: C, dtype: float64\n"
     ]
    }
   ],
   "source": [
    "#selecting rows\n",
    "\n",
    "print(df.loc['C']) #labels based selection [indexing]\n",
    "print(df.iloc[2]) #numerical pased indexing [position based]"
   ]
  },
  {
   "cell_type": "code",
   "execution_count": 53,
   "id": "c524985f-7708-4409-9875-233f8dd63dc9",
   "metadata": {},
   "outputs": [
    {
     "data": {
      "text/html": [
       "<div>\n",
       "<style scoped>\n",
       "    .dataframe tbody tr th:only-of-type {\n",
       "        vertical-align: middle;\n",
       "    }\n",
       "\n",
       "    .dataframe tbody tr th {\n",
       "        vertical-align: top;\n",
       "    }\n",
       "\n",
       "    .dataframe thead th {\n",
       "        text-align: right;\n",
       "    }\n",
       "</style>\n",
       "<table border=\"1\" class=\"dataframe\">\n",
       "  <thead>\n",
       "    <tr style=\"text-align: right;\">\n",
       "      <th></th>\n",
       "      <th>W</th>\n",
       "      <th>X</th>\n",
       "      <th>Y</th>\n",
       "      <th>Z</th>\n",
       "    </tr>\n",
       "  </thead>\n",
       "  <tbody>\n",
       "    <tr>\n",
       "      <th>A</th>\n",
       "      <td>-0.439568</td>\n",
       "      <td>0.822822</td>\n",
       "      <td>0.246248</td>\n",
       "      <td>0.546029</td>\n",
       "    </tr>\n",
       "    <tr>\n",
       "      <th>B</th>\n",
       "      <td>0.761487</td>\n",
       "      <td>0.157528</td>\n",
       "      <td>-1.520171</td>\n",
       "      <td>0.648728</td>\n",
       "    </tr>\n",
       "  </tbody>\n",
       "</table>\n",
       "</div>"
      ],
      "text/plain": [
       "          W         X         Y         Z\n",
       "A -0.439568  0.822822  0.246248  0.546029\n",
       "B  0.761487  0.157528 -1.520171  0.648728"
      ]
     },
     "execution_count": 53,
     "metadata": {},
     "output_type": "execute_result"
    }
   ],
   "source": [
    "df.loc[['A','B']] #TO select multiple rows"
   ]
  },
  {
   "cell_type": "code",
   "execution_count": 55,
   "id": "60929ab4-0bdd-4ee1-a1a7-caffe5dd81ff",
   "metadata": {},
   "outputs": [
    {
     "data": {
      "text/html": [
       "<div>\n",
       "<style scoped>\n",
       "    .dataframe tbody tr th:only-of-type {\n",
       "        vertical-align: middle;\n",
       "    }\n",
       "\n",
       "    .dataframe tbody tr th {\n",
       "        vertical-align: top;\n",
       "    }\n",
       "\n",
       "    .dataframe thead th {\n",
       "        text-align: right;\n",
       "    }\n",
       "</style>\n",
       "<table border=\"1\" class=\"dataframe\">\n",
       "  <thead>\n",
       "    <tr style=\"text-align: right;\">\n",
       "      <th></th>\n",
       "      <th>W</th>\n",
       "      <th>Z</th>\n",
       "    </tr>\n",
       "  </thead>\n",
       "  <tbody>\n",
       "    <tr>\n",
       "      <th>A</th>\n",
       "      <td>-0.439568</td>\n",
       "      <td>0.546029</td>\n",
       "    </tr>\n",
       "    <tr>\n",
       "      <th>B</th>\n",
       "      <td>0.761487</td>\n",
       "      <td>0.648728</td>\n",
       "    </tr>\n",
       "  </tbody>\n",
       "</table>\n",
       "</div>"
      ],
      "text/plain": [
       "          W         Z\n",
       "A -0.439568  0.546029\n",
       "B  0.761487  0.648728"
      ]
     },
     "execution_count": 55,
     "metadata": {},
     "output_type": "execute_result"
    }
   ],
   "source": [
    "#if you want 2 or more rows and two or more columns\n",
    "df.loc[['A','B'],['W','Z']]"
   ]
  },
  {
   "cell_type": "code",
   "execution_count": 57,
   "id": "5734177d-4f76-4858-9004-b72e79b411e4",
   "metadata": {},
   "outputs": [
    {
     "name": "stdout",
     "output_type": "stream",
     "text": [
      "          W         X         Y\n",
      "A -0.439568  0.822822  0.246248\n",
      "B  0.761487  0.157528 -1.520171\n",
      "C -0.270709  0.382448  1.668600\n",
      "          W         X         Y\n",
      "A -0.439568  0.822822  0.246248\n",
      "B  0.761487  0.157528 -1.520171\n",
      "C -0.270709  0.382448  1.668600\n"
     ]
    }
   ],
   "source": [
    "#Same as sicing we have in pandas\n",
    "print(df.iloc[0:3,0:3]) #first 0:3 for rows and second 0:3 for columns\n",
    "print(df.loc[\"A\":\"C\",\"W\":\"Y\"]) #It is inclusive & include both"
   ]
  },
  {
   "cell_type": "raw",
   "id": "e715776c-7b1f-475b-a2b7-a96ddbd717e8",
   "metadata": {},
   "source": [
    "                                                    Conditional Operators"
   ]
  },
  {
   "cell_type": "code",
   "execution_count": 58,
   "id": "c30ea2da-5a98-45a6-8569-e16c0f074489",
   "metadata": {},
   "outputs": [
    {
     "data": {
      "text/html": [
       "<div>\n",
       "<style scoped>\n",
       "    .dataframe tbody tr th:only-of-type {\n",
       "        vertical-align: middle;\n",
       "    }\n",
       "\n",
       "    .dataframe tbody tr th {\n",
       "        vertical-align: top;\n",
       "    }\n",
       "\n",
       "    .dataframe thead th {\n",
       "        text-align: right;\n",
       "    }\n",
       "</style>\n",
       "<table border=\"1\" class=\"dataframe\">\n",
       "  <thead>\n",
       "    <tr style=\"text-align: right;\">\n",
       "      <th></th>\n",
       "      <th>W</th>\n",
       "      <th>X</th>\n",
       "      <th>Y</th>\n",
       "      <th>Z</th>\n",
       "    </tr>\n",
       "  </thead>\n",
       "  <tbody>\n",
       "    <tr>\n",
       "      <th>A</th>\n",
       "      <td>False</td>\n",
       "      <td>True</td>\n",
       "      <td>True</td>\n",
       "      <td>True</td>\n",
       "    </tr>\n",
       "    <tr>\n",
       "      <th>B</th>\n",
       "      <td>True</td>\n",
       "      <td>True</td>\n",
       "      <td>False</td>\n",
       "      <td>True</td>\n",
       "    </tr>\n",
       "    <tr>\n",
       "      <th>C</th>\n",
       "      <td>False</td>\n",
       "      <td>True</td>\n",
       "      <td>True</td>\n",
       "      <td>True</td>\n",
       "    </tr>\n",
       "    <tr>\n",
       "      <th>D</th>\n",
       "      <td>False</td>\n",
       "      <td>False</td>\n",
       "      <td>False</td>\n",
       "      <td>False</td>\n",
       "    </tr>\n",
       "  </tbody>\n",
       "</table>\n",
       "</div>"
      ],
      "text/plain": [
       "       W      X      Y      Z\n",
       "A  False   True   True   True\n",
       "B   True   True  False   True\n",
       "C  False   True   True   True\n",
       "D  False  False  False  False"
      ]
     },
     "execution_count": 58,
     "metadata": {},
     "output_type": "execute_result"
    }
   ],
   "source": [
    "df>0 #It will Print Boolean Values"
   ]
  },
  {
   "cell_type": "code",
   "execution_count": 66,
   "id": "19faf97e-9a3c-443c-8f73-aa21cbbc5f2c",
   "metadata": {},
   "outputs": [
    {
     "data": {
      "text/html": [
       "<div>\n",
       "<style scoped>\n",
       "    .dataframe tbody tr th:only-of-type {\n",
       "        vertical-align: middle;\n",
       "    }\n",
       "\n",
       "    .dataframe tbody tr th {\n",
       "        vertical-align: top;\n",
       "    }\n",
       "\n",
       "    .dataframe thead th {\n",
       "        text-align: right;\n",
       "    }\n",
       "</style>\n",
       "<table border=\"1\" class=\"dataframe\">\n",
       "  <thead>\n",
       "    <tr style=\"text-align: right;\">\n",
       "      <th></th>\n",
       "      <th>W</th>\n",
       "      <th>X</th>\n",
       "      <th>Y</th>\n",
       "      <th>Z</th>\n",
       "    </tr>\n",
       "  </thead>\n",
       "  <tbody>\n",
       "    <tr>\n",
       "      <th>A</th>\n",
       "      <td>NaN</td>\n",
       "      <td>0.822822</td>\n",
       "      <td>0.246248</td>\n",
       "      <td>0.546029</td>\n",
       "    </tr>\n",
       "    <tr>\n",
       "      <th>B</th>\n",
       "      <td>0.761487</td>\n",
       "      <td>0.157528</td>\n",
       "      <td>NaN</td>\n",
       "      <td>0.648728</td>\n",
       "    </tr>\n",
       "    <tr>\n",
       "      <th>C</th>\n",
       "      <td>NaN</td>\n",
       "      <td>0.382448</td>\n",
       "      <td>1.668600</td>\n",
       "      <td>0.499507</td>\n",
       "    </tr>\n",
       "    <tr>\n",
       "      <th>D</th>\n",
       "      <td>NaN</td>\n",
       "      <td>NaN</td>\n",
       "      <td>NaN</td>\n",
       "      <td>NaN</td>\n",
       "    </tr>\n",
       "  </tbody>\n",
       "</table>\n",
       "</div>"
      ],
      "text/plain": [
       "          W         X         Y         Z\n",
       "A       NaN  0.822822  0.246248  0.546029\n",
       "B  0.761487  0.157528       NaN  0.648728\n",
       "C       NaN  0.382448  1.668600  0.499507\n",
       "D       NaN       NaN       NaN       NaN"
      ]
     },
     "execution_count": 66,
     "metadata": {},
     "output_type": "execute_result"
    }
   ],
   "source": [
    "bool=df>0\n",
    "df[bool]# we will get values & Nan in place of false"
   ]
  },
  {
   "cell_type": "code",
   "execution_count": 67,
   "id": "3f8bf631-2c15-4561-b9d9-b125092d7486",
   "metadata": {},
   "outputs": [
    {
     "data": {
      "text/plain": [
       "A    False\n",
       "B     True\n",
       "C    False\n",
       "D    False\n",
       "Name: W, dtype: bool"
      ]
     },
     "execution_count": 67,
     "metadata": {},
     "output_type": "execute_result"
    }
   ],
   "source": [
    "#If you want any column values above 0\n",
    "df['W']>0"
   ]
  },
  {
   "cell_type": "code",
   "execution_count": 70,
   "id": "a837de66-29cf-4d68-af8e-2d519bef533d",
   "metadata": {},
   "outputs": [
    {
     "data": {
      "text/html": [
       "<div>\n",
       "<style scoped>\n",
       "    .dataframe tbody tr th:only-of-type {\n",
       "        vertical-align: middle;\n",
       "    }\n",
       "\n",
       "    .dataframe tbody tr th {\n",
       "        vertical-align: top;\n",
       "    }\n",
       "\n",
       "    .dataframe thead th {\n",
       "        text-align: right;\n",
       "    }\n",
       "</style>\n",
       "<table border=\"1\" class=\"dataframe\">\n",
       "  <thead>\n",
       "    <tr style=\"text-align: right;\">\n",
       "      <th></th>\n",
       "      <th>W</th>\n",
       "      <th>X</th>\n",
       "      <th>Y</th>\n",
       "      <th>Z</th>\n",
       "    </tr>\n",
       "  </thead>\n",
       "  <tbody>\n",
       "    <tr>\n",
       "      <th>B</th>\n",
       "      <td>0.761487</td>\n",
       "      <td>0.157528</td>\n",
       "      <td>-1.520171</td>\n",
       "      <td>0.648728</td>\n",
       "    </tr>\n",
       "  </tbody>\n",
       "</table>\n",
       "</div>"
      ],
      "text/plain": [
       "          W         X         Y         Z\n",
       "B  0.761487  0.157528 -1.520171  0.648728"
      ]
     },
     "execution_count": 70,
     "metadata": {},
     "output_type": "execute_result"
    }
   ],
   "source": [
    "df[df['W']>0]"
   ]
  },
  {
   "cell_type": "code",
   "execution_count": 71,
   "id": "5baa5abd-408e-46f5-b4b4-6aa53c18155c",
   "metadata": {},
   "outputs": [
    {
     "data": {
      "text/plain": [
       "A    0\n",
       "B    0\n",
       "C    0\n",
       "D    0\n",
       "Name: W, dtype: int64"
      ]
     },
     "execution_count": 71,
     "metadata": {},
     "output_type": "execute_result"
    }
   ],
   "source": [
    "#to comvert particular column to different datatypes\n",
    "df['W'].astype(int) #it will convert the values of W column into int"
   ]
  },
  {
   "cell_type": "code",
   "execution_count": 76,
   "id": "8cb77da0-3ba3-43cb-b07d-61f21f878b1c",
   "metadata": {},
   "outputs": [
    {
     "data": {
      "text/plain": [
       "A    False\n",
       "B    False\n",
       "C    False\n",
       "D     True\n",
       "Name: Z, dtype: bool"
      ]
     },
     "execution_count": 76,
     "metadata": {},
     "output_type": "execute_result"
    }
   ],
   "source": [
    "df['Z']<0 #numbers <0 in z"
   ]
  },
  {
   "cell_type": "code",
   "execution_count": 78,
   "id": "b9338a0a-2238-43ae-a057-ecb8c9e8479b",
   "metadata": {},
   "outputs": [
    {
     "data": {
      "text/plain": [
       "D   -0.317839\n",
       "Name: Z, dtype: float64"
      ]
     },
     "execution_count": 78,
     "metadata": {},
     "output_type": "execute_result"
    }
   ],
   "source": [
    "df[df['Z']<0]['Z'] #particular column"
   ]
  },
  {
   "cell_type": "code",
   "execution_count": 80,
   "id": "cae473e2-d869-48da-9a24-bda3addf4ebb",
   "metadata": {},
   "outputs": [],
   "source": [
    "#To change the column name \n",
    "#df.columns=['New name','New Name'] or\n",
    "#df.replace(columns={\"oldname\":\"newname\"},inplace=True)"
   ]
  },
  {
   "cell_type": "raw",
   "id": "9a2ab0c5-ad81-463f-ae7d-c8e24398b742",
   "metadata": {},
   "source": [
    "In pandas and operator or operator does not wrk we should use & | operator \n",
    "and and or are designed for scalar values (single True or False values),When applied to pandas objects like Series or DataFrames, which contain multiple elements, they cause errors."
   ]
  },
  {
   "cell_type": "code",
   "execution_count": 82,
   "id": "74f0c44b-aa92-4736-bd40-b4acc08f8a93",
   "metadata": {},
   "outputs": [
    {
     "data": {
      "text/html": [
       "<div>\n",
       "<style scoped>\n",
       "    .dataframe tbody tr th:only-of-type {\n",
       "        vertical-align: middle;\n",
       "    }\n",
       "\n",
       "    .dataframe tbody tr th {\n",
       "        vertical-align: top;\n",
       "    }\n",
       "\n",
       "    .dataframe thead th {\n",
       "        text-align: right;\n",
       "    }\n",
       "</style>\n",
       "<table border=\"1\" class=\"dataframe\">\n",
       "  <thead>\n",
       "    <tr style=\"text-align: right;\">\n",
       "      <th></th>\n",
       "      <th>W</th>\n",
       "      <th>X</th>\n",
       "      <th>Y</th>\n",
       "      <th>Z</th>\n",
       "    </tr>\n",
       "  </thead>\n",
       "  <tbody>\n",
       "    <tr>\n",
       "      <th>A</th>\n",
       "      <td>-0.439568</td>\n",
       "      <td>0.822822</td>\n",
       "      <td>0.246248</td>\n",
       "      <td>0.546029</td>\n",
       "    </tr>\n",
       "    <tr>\n",
       "      <th>B</th>\n",
       "      <td>0.761487</td>\n",
       "      <td>0.157528</td>\n",
       "      <td>-1.520171</td>\n",
       "      <td>0.648728</td>\n",
       "    </tr>\n",
       "    <tr>\n",
       "      <th>C</th>\n",
       "      <td>-0.270709</td>\n",
       "      <td>0.382448</td>\n",
       "      <td>1.668600</td>\n",
       "      <td>0.499507</td>\n",
       "    </tr>\n",
       "    <tr>\n",
       "      <th>D</th>\n",
       "      <td>-0.556925</td>\n",
       "      <td>-0.890022</td>\n",
       "      <td>-0.080057</td>\n",
       "      <td>-0.317839</td>\n",
       "    </tr>\n",
       "  </tbody>\n",
       "</table>\n",
       "</div>"
      ],
      "text/plain": [
       "          W         X         Y         Z\n",
       "A -0.439568  0.822822  0.246248  0.546029\n",
       "B  0.761487  0.157528 -1.520171  0.648728\n",
       "C -0.270709  0.382448  1.668600  0.499507\n",
       "D -0.556925 -0.890022 -0.080057 -0.317839"
      ]
     },
     "execution_count": 82,
     "metadata": {},
     "output_type": "execute_result"
    }
   ],
   "source": [
    "df"
   ]
  },
  {
   "cell_type": "code",
   "execution_count": 87,
   "id": "e049b291-9fe7-485d-9be6-c8a1aed635c6",
   "metadata": {},
   "outputs": [
    {
     "data": {
      "text/html": [
       "<div>\n",
       "<style scoped>\n",
       "    .dataframe tbody tr th:only-of-type {\n",
       "        vertical-align: middle;\n",
       "    }\n",
       "\n",
       "    .dataframe tbody tr th {\n",
       "        vertical-align: top;\n",
       "    }\n",
       "\n",
       "    .dataframe thead th {\n",
       "        text-align: right;\n",
       "    }\n",
       "</style>\n",
       "<table border=\"1\" class=\"dataframe\">\n",
       "  <thead>\n",
       "    <tr style=\"text-align: right;\">\n",
       "      <th></th>\n",
       "      <th>W</th>\n",
       "      <th>X</th>\n",
       "      <th>Y</th>\n",
       "      <th>Z</th>\n",
       "    </tr>\n",
       "  </thead>\n",
       "  <tbody>\n",
       "    <tr>\n",
       "      <th>B</th>\n",
       "      <td>0.761487</td>\n",
       "      <td>0.157528</td>\n",
       "      <td>-1.520171</td>\n",
       "      <td>0.648728</td>\n",
       "    </tr>\n",
       "  </tbody>\n",
       "</table>\n",
       "</div>"
      ],
      "text/plain": [
       "          W         X         Y         Z\n",
       "B  0.761487  0.157528 -1.520171  0.648728"
      ]
     },
     "execution_count": 87,
     "metadata": {},
     "output_type": "execute_result"
    }
   ],
   "source": [
    "df[(df['W']>0) & (df['Z']>0)]"
   ]
  },
  {
   "cell_type": "code",
   "execution_count": 88,
   "id": "9d7728b2-3878-40c5-80a1-d397b0b8a63e",
   "metadata": {},
   "outputs": [
    {
     "data": {
      "text/html": [
       "<div>\n",
       "<style scoped>\n",
       "    .dataframe tbody tr th:only-of-type {\n",
       "        vertical-align: middle;\n",
       "    }\n",
       "\n",
       "    .dataframe tbody tr th {\n",
       "        vertical-align: top;\n",
       "    }\n",
       "\n",
       "    .dataframe thead th {\n",
       "        text-align: right;\n",
       "    }\n",
       "</style>\n",
       "<table border=\"1\" class=\"dataframe\">\n",
       "  <thead>\n",
       "    <tr style=\"text-align: right;\">\n",
       "      <th></th>\n",
       "      <th>W</th>\n",
       "      <th>X</th>\n",
       "      <th>Y</th>\n",
       "      <th>Z</th>\n",
       "    </tr>\n",
       "  </thead>\n",
       "  <tbody>\n",
       "    <tr>\n",
       "      <th>A</th>\n",
       "      <td>-0.439568</td>\n",
       "      <td>0.822822</td>\n",
       "      <td>0.246248</td>\n",
       "      <td>0.546029</td>\n",
       "    </tr>\n",
       "    <tr>\n",
       "      <th>B</th>\n",
       "      <td>0.761487</td>\n",
       "      <td>0.157528</td>\n",
       "      <td>-1.520171</td>\n",
       "      <td>0.648728</td>\n",
       "    </tr>\n",
       "    <tr>\n",
       "      <th>C</th>\n",
       "      <td>-0.270709</td>\n",
       "      <td>0.382448</td>\n",
       "      <td>1.668600</td>\n",
       "      <td>0.499507</td>\n",
       "    </tr>\n",
       "  </tbody>\n",
       "</table>\n",
       "</div>"
      ],
      "text/plain": [
       "          W         X         Y         Z\n",
       "A -0.439568  0.822822  0.246248  0.546029\n",
       "B  0.761487  0.157528 -1.520171  0.648728\n",
       "C -0.270709  0.382448  1.668600  0.499507"
      ]
     },
     "execution_count": 88,
     "metadata": {},
     "output_type": "execute_result"
    }
   ],
   "source": [
    "df[(df['W']>0) | (df['Z']>0)]"
   ]
  },
  {
   "cell_type": "raw",
   "id": "f8bc67c8-847e-43b1-8047-e95cdce07394",
   "metadata": {},
   "source": [
    "                                                Reset Index\n",
    "The reset_index() function in pandas is used to reset the index of a DataFrame. It reassigns a default integer index to the DataFrame while optionally retaining or discarding the original index."
   ]
  },
  {
   "cell_type": "code",
   "execution_count": 89,
   "id": "fbc55838-141c-48ef-9202-88123be6bf00",
   "metadata": {},
   "outputs": [],
   "source": [
    "df.reset_index(inplace=True)"
   ]
  },
  {
   "cell_type": "code",
   "execution_count": 90,
   "id": "43cffadb-fb3a-49ae-a190-294cd5b9f3ec",
   "metadata": {},
   "outputs": [
    {
     "data": {
      "text/html": [
       "<div>\n",
       "<style scoped>\n",
       "    .dataframe tbody tr th:only-of-type {\n",
       "        vertical-align: middle;\n",
       "    }\n",
       "\n",
       "    .dataframe tbody tr th {\n",
       "        vertical-align: top;\n",
       "    }\n",
       "\n",
       "    .dataframe thead th {\n",
       "        text-align: right;\n",
       "    }\n",
       "</style>\n",
       "<table border=\"1\" class=\"dataframe\">\n",
       "  <thead>\n",
       "    <tr style=\"text-align: right;\">\n",
       "      <th></th>\n",
       "      <th>index</th>\n",
       "      <th>W</th>\n",
       "      <th>X</th>\n",
       "      <th>Y</th>\n",
       "      <th>Z</th>\n",
       "    </tr>\n",
       "  </thead>\n",
       "  <tbody>\n",
       "    <tr>\n",
       "      <th>0</th>\n",
       "      <td>A</td>\n",
       "      <td>-0.439568</td>\n",
       "      <td>0.822822</td>\n",
       "      <td>0.246248</td>\n",
       "      <td>0.546029</td>\n",
       "    </tr>\n",
       "    <tr>\n",
       "      <th>1</th>\n",
       "      <td>B</td>\n",
       "      <td>0.761487</td>\n",
       "      <td>0.157528</td>\n",
       "      <td>-1.520171</td>\n",
       "      <td>0.648728</td>\n",
       "    </tr>\n",
       "    <tr>\n",
       "      <th>2</th>\n",
       "      <td>C</td>\n",
       "      <td>-0.270709</td>\n",
       "      <td>0.382448</td>\n",
       "      <td>1.668600</td>\n",
       "      <td>0.499507</td>\n",
       "    </tr>\n",
       "    <tr>\n",
       "      <th>3</th>\n",
       "      <td>D</td>\n",
       "      <td>-0.556925</td>\n",
       "      <td>-0.890022</td>\n",
       "      <td>-0.080057</td>\n",
       "      <td>-0.317839</td>\n",
       "    </tr>\n",
       "  </tbody>\n",
       "</table>\n",
       "</div>"
      ],
      "text/plain": [
       "  index         W         X         Y         Z\n",
       "0     A -0.439568  0.822822  0.246248  0.546029\n",
       "1     B  0.761487  0.157528 -1.520171  0.648728\n",
       "2     C -0.270709  0.382448  1.668600  0.499507\n",
       "3     D -0.556925 -0.890022 -0.080057 -0.317839"
      ]
     },
     "execution_count": 90,
     "metadata": {},
     "output_type": "execute_result"
    }
   ],
   "source": [
    "df"
   ]
  },
  {
   "cell_type": "code",
   "execution_count": 98,
   "id": "fc029866-0080-42e3-92ad-3ab6a3199b03",
   "metadata": {},
   "outputs": [
    {
     "data": {
      "text/html": [
       "<div>\n",
       "<style scoped>\n",
       "    .dataframe tbody tr th:only-of-type {\n",
       "        vertical-align: middle;\n",
       "    }\n",
       "\n",
       "    .dataframe tbody tr th {\n",
       "        vertical-align: top;\n",
       "    }\n",
       "\n",
       "    .dataframe thead th {\n",
       "        text-align: right;\n",
       "    }\n",
       "</style>\n",
       "<table border=\"1\" class=\"dataframe\">\n",
       "  <thead>\n",
       "    <tr style=\"text-align: right;\">\n",
       "      <th></th>\n",
       "      <th>index</th>\n",
       "      <th>W</th>\n",
       "      <th>X</th>\n",
       "      <th>Y</th>\n",
       "      <th>Z</th>\n",
       "      <th>States</th>\n",
       "    </tr>\n",
       "    <tr>\n",
       "      <th>States</th>\n",
       "      <th></th>\n",
       "      <th></th>\n",
       "      <th></th>\n",
       "      <th></th>\n",
       "      <th></th>\n",
       "      <th></th>\n",
       "    </tr>\n",
       "  </thead>\n",
       "  <tbody>\n",
       "    <tr>\n",
       "      <th>CA</th>\n",
       "      <td>A</td>\n",
       "      <td>-0.439568</td>\n",
       "      <td>0.822822</td>\n",
       "      <td>0.246248</td>\n",
       "      <td>0.546029</td>\n",
       "      <td>CA</td>\n",
       "    </tr>\n",
       "    <tr>\n",
       "      <th>NY</th>\n",
       "      <td>B</td>\n",
       "      <td>0.761487</td>\n",
       "      <td>0.157528</td>\n",
       "      <td>-1.520171</td>\n",
       "      <td>0.648728</td>\n",
       "      <td>NY</td>\n",
       "    </tr>\n",
       "    <tr>\n",
       "      <th>WY</th>\n",
       "      <td>C</td>\n",
       "      <td>-0.270709</td>\n",
       "      <td>0.382448</td>\n",
       "      <td>1.668600</td>\n",
       "      <td>0.499507</td>\n",
       "      <td>WY</td>\n",
       "    </tr>\n",
       "    <tr>\n",
       "      <th>OR</th>\n",
       "      <td>D</td>\n",
       "      <td>-0.556925</td>\n",
       "      <td>-0.890022</td>\n",
       "      <td>-0.080057</td>\n",
       "      <td>-0.317839</td>\n",
       "      <td>OR</td>\n",
       "    </tr>\n",
       "  </tbody>\n",
       "</table>\n",
       "</div>"
      ],
      "text/plain": [
       "       index         W         X         Y         Z States\n",
       "States                                                     \n",
       "CA         A -0.439568  0.822822  0.246248  0.546029     CA\n",
       "NY         B  0.761487  0.157528 -1.520171  0.648728     NY\n",
       "WY         C -0.270709  0.382448  1.668600  0.499507     WY\n",
       "OR         D -0.556925 -0.890022 -0.080057 -0.317839     OR"
      ]
     },
     "execution_count": 98,
     "metadata": {},
     "output_type": "execute_result"
    }
   ],
   "source": [
    "#Lets Create a new Column\n",
    "new=['CA','NY','WY','OR']\n",
    "df['States']=new\n",
    "df"
   ]
  },
  {
   "cell_type": "raw",
   "id": "45663fc7-066e-4e16-9250-b7edd6a81f6c",
   "metadata": {},
   "source": [
    "                                                            Set Index"
   ]
  },
  {
   "cell_type": "code",
   "execution_count": 99,
   "id": "2d10d8c3-4fe6-4855-a7a6-bce1a8463ea2",
   "metadata": {},
   "outputs": [],
   "source": [
    "df.set_index('States',inplace=True)"
   ]
  },
  {
   "cell_type": "code",
   "execution_count": 100,
   "id": "8765c70e-c210-4283-91fc-0bfea63a1c7c",
   "metadata": {},
   "outputs": [
    {
     "data": {
      "text/html": [
       "<div>\n",
       "<style scoped>\n",
       "    .dataframe tbody tr th:only-of-type {\n",
       "        vertical-align: middle;\n",
       "    }\n",
       "\n",
       "    .dataframe tbody tr th {\n",
       "        vertical-align: top;\n",
       "    }\n",
       "\n",
       "    .dataframe thead th {\n",
       "        text-align: right;\n",
       "    }\n",
       "</style>\n",
       "<table border=\"1\" class=\"dataframe\">\n",
       "  <thead>\n",
       "    <tr style=\"text-align: right;\">\n",
       "      <th></th>\n",
       "      <th>index</th>\n",
       "      <th>W</th>\n",
       "      <th>X</th>\n",
       "      <th>Y</th>\n",
       "      <th>Z</th>\n",
       "    </tr>\n",
       "    <tr>\n",
       "      <th>States</th>\n",
       "      <th></th>\n",
       "      <th></th>\n",
       "      <th></th>\n",
       "      <th></th>\n",
       "      <th></th>\n",
       "    </tr>\n",
       "  </thead>\n",
       "  <tbody>\n",
       "    <tr>\n",
       "      <th>CA</th>\n",
       "      <td>A</td>\n",
       "      <td>-0.439568</td>\n",
       "      <td>0.822822</td>\n",
       "      <td>0.246248</td>\n",
       "      <td>0.546029</td>\n",
       "    </tr>\n",
       "    <tr>\n",
       "      <th>NY</th>\n",
       "      <td>B</td>\n",
       "      <td>0.761487</td>\n",
       "      <td>0.157528</td>\n",
       "      <td>-1.520171</td>\n",
       "      <td>0.648728</td>\n",
       "    </tr>\n",
       "    <tr>\n",
       "      <th>WY</th>\n",
       "      <td>C</td>\n",
       "      <td>-0.270709</td>\n",
       "      <td>0.382448</td>\n",
       "      <td>1.668600</td>\n",
       "      <td>0.499507</td>\n",
       "    </tr>\n",
       "    <tr>\n",
       "      <th>OR</th>\n",
       "      <td>D</td>\n",
       "      <td>-0.556925</td>\n",
       "      <td>-0.890022</td>\n",
       "      <td>-0.080057</td>\n",
       "      <td>-0.317839</td>\n",
       "    </tr>\n",
       "  </tbody>\n",
       "</table>\n",
       "</div>"
      ],
      "text/plain": [
       "       index         W         X         Y         Z\n",
       "States                                              \n",
       "CA         A -0.439568  0.822822  0.246248  0.546029\n",
       "NY         B  0.761487  0.157528 -1.520171  0.648728\n",
       "WY         C -0.270709  0.382448  1.668600  0.499507\n",
       "OR         D -0.556925 -0.890022 -0.080057 -0.317839"
      ]
     },
     "execution_count": 100,
     "metadata": {},
     "output_type": "execute_result"
    }
   ],
   "source": [
    "df"
   ]
  },
  {
   "cell_type": "raw",
   "id": "d2653afd-2de2-47f6-945d-b557a936282c",
   "metadata": {},
   "source": [
    "Difference between reset_index() nd set_index() is that set_index will replace the existing index\n",
    "If Column name is not there in the dataframe and you are trying to set that particular column as the index then set_index will not work we should use \n",
    "new=['CA','NY','WY','OR']\n",
    "df.index=new\n",
    "\n",
    "If you just want to change the name of the index then we should  use \n",
    "df.index.name='New index name'"
   ]
  },
  {
   "cell_type": "raw",
   "id": "e890a475-f1af-4c77-a19a-87df9d6dadef",
   "metadata": {},
   "source": [
    "                                                                Missing Data"
   ]
  },
  {
   "cell_type": "code",
   "execution_count": 101,
   "id": "847bd1b4-5f01-44fe-9a5f-51677004fc3b",
   "metadata": {},
   "outputs": [
    {
     "data": {
      "text/html": [
       "<div>\n",
       "<style scoped>\n",
       "    .dataframe tbody tr th:only-of-type {\n",
       "        vertical-align: middle;\n",
       "    }\n",
       "\n",
       "    .dataframe tbody tr th {\n",
       "        vertical-align: top;\n",
       "    }\n",
       "\n",
       "    .dataframe thead th {\n",
       "        text-align: right;\n",
       "    }\n",
       "</style>\n",
       "<table border=\"1\" class=\"dataframe\">\n",
       "  <thead>\n",
       "    <tr style=\"text-align: right;\">\n",
       "      <th></th>\n",
       "      <th>A</th>\n",
       "      <th>B</th>\n",
       "      <th>C</th>\n",
       "    </tr>\n",
       "  </thead>\n",
       "  <tbody>\n",
       "    <tr>\n",
       "      <th>0</th>\n",
       "      <td>1.0</td>\n",
       "      <td>5.0</td>\n",
       "      <td>1</td>\n",
       "    </tr>\n",
       "    <tr>\n",
       "      <th>1</th>\n",
       "      <td>2.0</td>\n",
       "      <td>NaN</td>\n",
       "      <td>2</td>\n",
       "    </tr>\n",
       "    <tr>\n",
       "      <th>2</th>\n",
       "      <td>NaN</td>\n",
       "      <td>NaN</td>\n",
       "      <td>3</td>\n",
       "    </tr>\n",
       "  </tbody>\n",
       "</table>\n",
       "</div>"
      ],
      "text/plain": [
       "     A    B  C\n",
       "0  1.0  5.0  1\n",
       "1  2.0  NaN  2\n",
       "2  NaN  NaN  3"
      ]
     },
     "execution_count": 101,
     "metadata": {},
     "output_type": "execute_result"
    }
   ],
   "source": [
    "d={'A':[1,2,np.nan],'B':[5,np.nan,np.nan],'C':[1,2,3]}\n",
    "df=pd.DataFrame(d)\n",
    "df"
   ]
  },
  {
   "cell_type": "raw",
   "id": "d6983b59-2179-413b-b07a-cfbdd1b29feb",
   "metadata": {},
   "source": [
    "#dropna() function -it will drop columns or rows with nan values\n",
    "#syntax\n",
    "df.dropna(axis=0,how='any',thresh=None,subset=None,inplace=True)"
   ]
  },
  {
   "cell_type": "code",
   "execution_count": null,
   "id": "b04a2d16-a274-4810-a11d-37136eab6dd6",
   "metadata": {},
   "outputs": [],
   "source": []
  }
 ],
 "metadata": {
  "kernelspec": {
   "display_name": "Python 3 (ipykernel)",
   "language": "python",
   "name": "python3"
  },
  "language_info": {
   "codemirror_mode": {
    "name": "ipython",
    "version": 3
   },
   "file_extension": ".py",
   "mimetype": "text/x-python",
   "name": "python",
   "nbconvert_exporter": "python",
   "pygments_lexer": "ipython3",
   "version": "3.13.0"
  }
 },
 "nbformat": 4,
 "nbformat_minor": 5
}
