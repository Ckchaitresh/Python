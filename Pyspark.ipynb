{
 "cells": [
  {
   "cell_type": "code",
   "execution_count": 142,
   "id": "e0f70977-3685-4aef-b7be-740cd849c6d0",
   "metadata": {},
   "outputs": [],
   "source": [
    "from pyspark.sql import SparkSession"
   ]
  },
  {
   "cell_type": "raw",
   "id": "88f2e8e9-a07c-4f1d-bc9d-45fa9733d8b0",
   "metadata": {},
   "source": [
    "Creating RDD"
   ]
  },
  {
   "cell_type": "code",
   "execution_count": 143,
   "id": "62637756-c982-4eda-aa36-c4b97437f1ad",
   "metadata": {},
   "outputs": [
    {
     "data": {
      "text/plain": [
       "[('Mysore', 1), ('Bengaluru', 2)]"
      ]
     },
     "execution_count": 143,
     "metadata": {},
     "output_type": "execute_result"
    }
   ],
   "source": [
    "\n",
    "spark=SparkSession.builder.getOrCreate()\n",
    "\n",
    "rdd=spark.sparkContext.parallelize([('Mysore',1),(\"Bengaluru\",2)])\n",
    "rdd.collect()"
   ]
  },
  {
   "cell_type": "code",
   "execution_count": 82,
   "id": "8f6f30c3-7654-4ae9-85e5-a63371cbe7c5",
   "metadata": {},
   "outputs": [
    {
     "data": {
      "text/plain": [
       "2"
      ]
     },
     "execution_count": 82,
     "metadata": {},
     "output_type": "execute_result"
    }
   ],
   "source": [
    "rdd.count()"
   ]
  },
  {
   "cell_type": "raw",
   "id": "3f559532-c730-471b-b175-5ab516a88c5e",
   "metadata": {},
   "source": [
    "\n",
    "Dataframe from RDD"
   ]
  },
  {
   "cell_type": "code",
   "execution_count": 83,
   "id": "fb6a61b8-0673-4855-a10e-7407e8e47487",
   "metadata": {},
   "outputs": [
    {
     "name": "stdout",
     "output_type": "stream",
     "text": [
      "+---------+----+\n",
      "|     City|Rank|\n",
      "+---------+----+\n",
      "|   Mysore|   1|\n",
      "|Bengaluru|   2|\n",
      "+---------+----+\n",
      "\n"
     ]
    }
   ],
   "source": [
    "\n",
    "df=spark.createDataFrame(rdd,schema=['City','Rank'])\n",
    "df.show()"
   ]
  },
  {
   "cell_type": "code",
   "execution_count": 84,
   "id": "fb503af1-2894-4d4a-a48e-862aae8a8189",
   "metadata": {},
   "outputs": [
    {
     "name": "stdout",
     "output_type": "stream",
     "text": [
      "+------+----+\n",
      "|  City|Rank|\n",
      "+------+----+\n",
      "|Mysore|   1|\n",
      "+------+----+\n",
      "only showing top 1 row\n",
      "\n"
     ]
    }
   ],
   "source": [
    "df.show(1)"
   ]
  },
  {
   "cell_type": "code",
   "execution_count": 85,
   "id": "f49b9f3e-06ce-4494-881f-9fbb4360df10",
   "metadata": {},
   "outputs": [
    {
     "name": "stdout",
     "output_type": "stream",
     "text": [
      "root\n",
      " |-- City: string (nullable = true)\n",
      " |-- Rank: long (nullable = true)\n",
      "\n"
     ]
    }
   ],
   "source": [
    "df.printSchema()"
   ]
  },
  {
   "cell_type": "raw",
   "id": "202f3cf2-8cd1-4e54-bb05-ea6881908a7a",
   "metadata": {},
   "source": [
    "DataFrame"
   ]
  },
  {
   "cell_type": "code",
   "execution_count": 86,
   "id": "d6d5a91b-d377-4646-8690-ded8e8b11006",
   "metadata": {},
   "outputs": [],
   "source": [
    "from datetime import date,datetime"
   ]
  },
  {
   "cell_type": "code",
   "execution_count": 87,
   "id": "50178ba3-6b6d-4af3-a6da-be14b3490d07",
   "metadata": {},
   "outputs": [
    {
     "name": "stdout",
     "output_type": "stream",
     "text": [
      "+-----------+---+-------------------+\n",
      "|       NAME|AGE|               DATE|\n",
      "+-----------+---+-------------------+\n",
      "|  Chaitresh| 24|2024-12-14 10:00:00|\n",
      "|Shivaprasad| 23|2024-12-14 10:00:00|\n",
      "+-----------+---+-------------------+\n",
      "\n",
      "root\n",
      " |-- NAME: string (nullable = true)\n",
      " |-- AGE: long (nullable = true)\n",
      " |-- DATE: timestamp (nullable = true)\n",
      "\n"
     ]
    }
   ],
   "source": [
    "df=spark.createDataFrame([(\"Chaitresh\",24,datetime(2024,12,14,10)),(\"Shivaprasad\",23,datetime(2024,12,14,10))],schema=['NAME','AGE',\"DATE\"])\n",
    "\n",
    "df.show()\n",
    "df.printSchema()"
   ]
  },
  {
   "cell_type": "raw",
   "id": "07aa0dbe-3d64-425b-bac8-2a4677392179",
   "metadata": {},
   "source": [
    "Read a csv file"
   ]
  },
  {
   "cell_type": "code",
   "execution_count": 145,
   "id": "10980345-97b9-4899-8c15-c4bf819bd889",
   "metadata": {},
   "outputs": [
    {
     "name": "stdout",
     "output_type": "stream",
     "text": [
      "+---------------+-----------+----------------+---------------+--------------------+--------+-----------------+-------------------------+-----------+--------------------+-----------------+-----------------+\n",
      "|Item_Identifier|Item_Weight|Item_Fat_Content|Item_Visibility|           Item_Type|Item_MRP|Outlet_Identifier|Outlet_Establishment_Year|Outlet_Size|Outlet_Location_Type|      Outlet_Type|Item_Outlet_Sales|\n",
      "+---------------+-----------+----------------+---------------+--------------------+--------+-----------------+-------------------------+-----------+--------------------+-----------------+-----------------+\n",
      "|          FDA15|        9.3|         Low Fat|    0.016047301|               Dairy|249.8092|           OUT049|                     1999|     Medium|              Tier 1|Supermarket Type1|         3735.138|\n",
      "|          DRC01|       5.92|         Regular|    0.019278216|         Soft Drinks| 48.2692|           OUT018|                     2009|     Medium|              Tier 3|Supermarket Type2|         443.4228|\n",
      "|          FDN15|       17.5|         Low Fat|    0.016760075|                Meat| 141.618|           OUT049|                     1999|     Medium|              Tier 1|Supermarket Type1|          2097.27|\n",
      "|          FDX07|       19.2|         Regular|            0.0|Fruits and Vegeta...| 182.095|           OUT010|                     1998|       NULL|              Tier 3|    Grocery Store|           732.38|\n",
      "|          NCD19|       8.93|         Low Fat|            0.0|           Household| 53.8614|           OUT013|                     1987|       High|              Tier 3|Supermarket Type1|         994.7052|\n",
      "+---------------+-----------+----------------+---------------+--------------------+--------+-----------------+-------------------------+-----------+--------------------+-----------------+-----------------+\n",
      "only showing top 5 rows\n",
      "\n"
     ]
    }
   ],
   "source": [
    "df=spark.read.csv(\"BigMart Sales.csv\",inferSchema=True,header=True)\n",
    "df.show(5)"
   ]
  },
  {
   "cell_type": "code",
   "execution_count": 89,
   "id": "c165e7fb-56ac-44ac-b54c-3dbb6a6af625",
   "metadata": {},
   "outputs": [
    {
     "name": "stdout",
     "output_type": "stream",
     "text": [
      "root\n",
      " |-- Item_Identifier: string (nullable = true)\n",
      " |-- Item_Weight: double (nullable = true)\n",
      " |-- Item_Fat_Content: string (nullable = true)\n",
      " |-- Item_Visibility: double (nullable = true)\n",
      " |-- Item_Type: string (nullable = true)\n",
      " |-- Item_MRP: double (nullable = true)\n",
      " |-- Outlet_Identifier: string (nullable = true)\n",
      " |-- Outlet_Establishment_Year: integer (nullable = true)\n",
      " |-- Outlet_Size: string (nullable = true)\n",
      " |-- Outlet_Location_Type: string (nullable = true)\n",
      " |-- Outlet_Type: string (nullable = true)\n",
      " |-- Item_Outlet_Sales: double (nullable = true)\n",
      "\n"
     ]
    }
   ],
   "source": [
    "df.printSchema()"
   ]
  },
  {
   "cell_type": "code",
   "execution_count": 146,
   "id": "c1405f42-fd4d-449d-9a3d-3b4e58da691a",
   "metadata": {},
   "outputs": [
    {
     "data": {
      "text/plain": [
       "[Row(Item_Identifier='FDA15', Item_Weight=9.3, Item_Fat_Content='Low Fat', Item_Visibility=0.016047301, Item_Type='Dairy', Item_MRP=249.8092, Outlet_Identifier='OUT049', Outlet_Establishment_Year=1999, Outlet_Size='Medium', Outlet_Location_Type='Tier 1', Outlet_Type='Supermarket Type1', Item_Outlet_Sales=3735.138),\n",
       " Row(Item_Identifier='DRC01', Item_Weight=5.92, Item_Fat_Content='Regular', Item_Visibility=0.019278216, Item_Type='Soft Drinks', Item_MRP=48.2692, Outlet_Identifier='OUT018', Outlet_Establishment_Year=2009, Outlet_Size='Medium', Outlet_Location_Type='Tier 3', Outlet_Type='Supermarket Type2', Item_Outlet_Sales=443.4228),\n",
       " Row(Item_Identifier='FDN15', Item_Weight=17.5, Item_Fat_Content='Low Fat', Item_Visibility=0.016760075, Item_Type='Meat', Item_MRP=141.618, Outlet_Identifier='OUT049', Outlet_Establishment_Year=1999, Outlet_Size='Medium', Outlet_Location_Type='Tier 1', Outlet_Type='Supermarket Type1', Item_Outlet_Sales=2097.27),\n",
       " Row(Item_Identifier='FDX07', Item_Weight=19.2, Item_Fat_Content='Regular', Item_Visibility=0.0, Item_Type='Fruits and Vegetables', Item_MRP=182.095, Outlet_Identifier='OUT010', Outlet_Establishment_Year=1998, Outlet_Size=None, Outlet_Location_Type='Tier 3', Outlet_Type='Grocery Store', Item_Outlet_Sales=732.38),\n",
       " Row(Item_Identifier='NCD19', Item_Weight=8.93, Item_Fat_Content='Low Fat', Item_Visibility=0.0, Item_Type='Household', Item_MRP=53.8614, Outlet_Identifier='OUT013', Outlet_Establishment_Year=1987, Outlet_Size='High', Outlet_Location_Type='Tier 3', Outlet_Type='Supermarket Type1', Item_Outlet_Sales=994.7052),\n",
       " Row(Item_Identifier='FDP36', Item_Weight=10.395, Item_Fat_Content='Regular', Item_Visibility=0.0, Item_Type='Baking Goods', Item_MRP=51.4008, Outlet_Identifier='OUT018', Outlet_Establishment_Year=2009, Outlet_Size='Medium', Outlet_Location_Type='Tier 3', Outlet_Type='Supermarket Type2', Item_Outlet_Sales=556.6088),\n",
       " Row(Item_Identifier='FDO10', Item_Weight=13.65, Item_Fat_Content='Regular', Item_Visibility=0.012741089, Item_Type='Snack Foods', Item_MRP=57.6588, Outlet_Identifier='OUT013', Outlet_Establishment_Year=1987, Outlet_Size='High', Outlet_Location_Type='Tier 3', Outlet_Type='Supermarket Type1', Item_Outlet_Sales=343.5528),\n",
       " Row(Item_Identifier='FDP10', Item_Weight=None, Item_Fat_Content='Low Fat', Item_Visibility=0.127469857, Item_Type='Snack Foods', Item_MRP=107.7622, Outlet_Identifier='OUT027', Outlet_Establishment_Year=1985, Outlet_Size='Medium', Outlet_Location_Type='Tier 3', Outlet_Type='Supermarket Type3', Item_Outlet_Sales=4022.7636),\n",
       " Row(Item_Identifier='FDH17', Item_Weight=16.2, Item_Fat_Content='Regular', Item_Visibility=0.016687114, Item_Type='Frozen Foods', Item_MRP=96.9726, Outlet_Identifier='OUT045', Outlet_Establishment_Year=2002, Outlet_Size=None, Outlet_Location_Type='Tier 2', Outlet_Type='Supermarket Type1', Item_Outlet_Sales=1076.5986),\n",
       " Row(Item_Identifier='FDU28', Item_Weight=19.2, Item_Fat_Content='Regular', Item_Visibility=0.09444959, Item_Type='Frozen Foods', Item_MRP=187.8214, Outlet_Identifier='OUT017', Outlet_Establishment_Year=2007, Outlet_Size=None, Outlet_Location_Type='Tier 2', Outlet_Type='Supermarket Type1', Item_Outlet_Sales=4710.535),\n",
       " Row(Item_Identifier='FDY07', Item_Weight=11.8, Item_Fat_Content='Low Fat', Item_Visibility=0.0, Item_Type='Fruits and Vegetables', Item_MRP=45.5402, Outlet_Identifier='OUT049', Outlet_Establishment_Year=1999, Outlet_Size='Medium', Outlet_Location_Type='Tier 1', Outlet_Type='Supermarket Type1', Item_Outlet_Sales=1516.0266),\n",
       " Row(Item_Identifier='FDA03', Item_Weight=18.5, Item_Fat_Content='Regular', Item_Visibility=0.045463773, Item_Type='Dairy', Item_MRP=144.1102, Outlet_Identifier='OUT046', Outlet_Establishment_Year=1997, Outlet_Size='Small', Outlet_Location_Type='Tier 1', Outlet_Type='Supermarket Type1', Item_Outlet_Sales=2187.153),\n",
       " Row(Item_Identifier='FDX32', Item_Weight=15.1, Item_Fat_Content='Regular', Item_Visibility=0.1000135, Item_Type='Fruits and Vegetables', Item_MRP=145.4786, Outlet_Identifier='OUT049', Outlet_Establishment_Year=1999, Outlet_Size='Medium', Outlet_Location_Type='Tier 1', Outlet_Type='Supermarket Type1', Item_Outlet_Sales=1589.2646),\n",
       " Row(Item_Identifier='FDS46', Item_Weight=17.6, Item_Fat_Content='Regular', Item_Visibility=0.047257328, Item_Type='Snack Foods', Item_MRP=119.6782, Outlet_Identifier='OUT046', Outlet_Establishment_Year=1997, Outlet_Size='Small', Outlet_Location_Type='Tier 1', Outlet_Type='Supermarket Type1', Item_Outlet_Sales=2145.2076),\n",
       " Row(Item_Identifier='FDF32', Item_Weight=16.35, Item_Fat_Content='Low Fat', Item_Visibility=0.0680243, Item_Type='Fruits and Vegetables', Item_MRP=196.4426, Outlet_Identifier='OUT013', Outlet_Establishment_Year=1987, Outlet_Size='High', Outlet_Location_Type='Tier 3', Outlet_Type='Supermarket Type1', Item_Outlet_Sales=1977.426),\n",
       " Row(Item_Identifier='FDP49', Item_Weight=9.0, Item_Fat_Content='Regular', Item_Visibility=0.069088961, Item_Type='Breakfast', Item_MRP=56.3614, Outlet_Identifier='OUT046', Outlet_Establishment_Year=1997, Outlet_Size='Small', Outlet_Location_Type='Tier 1', Outlet_Type='Supermarket Type1', Item_Outlet_Sales=1547.3192),\n",
       " Row(Item_Identifier='NCB42', Item_Weight=11.8, Item_Fat_Content='Low Fat', Item_Visibility=0.008596051, Item_Type='Health and Hygiene', Item_MRP=115.3492, Outlet_Identifier='OUT018', Outlet_Establishment_Year=2009, Outlet_Size='Medium', Outlet_Location_Type='Tier 3', Outlet_Type='Supermarket Type2', Item_Outlet_Sales=1621.8888),\n",
       " Row(Item_Identifier='FDP49', Item_Weight=9.0, Item_Fat_Content='Regular', Item_Visibility=0.069196376, Item_Type='Breakfast', Item_MRP=54.3614, Outlet_Identifier='OUT049', Outlet_Establishment_Year=1999, Outlet_Size='Medium', Outlet_Location_Type='Tier 1', Outlet_Type='Supermarket Type1', Item_Outlet_Sales=718.3982),\n",
       " Row(Item_Identifier='DRI11', Item_Weight=None, Item_Fat_Content='Low Fat', Item_Visibility=0.034237682, Item_Type='Hard Drinks', Item_MRP=113.2834, Outlet_Identifier='OUT027', Outlet_Establishment_Year=1985, Outlet_Size='Medium', Outlet_Location_Type='Tier 3', Outlet_Type='Supermarket Type3', Item_Outlet_Sales=2303.668),\n",
       " Row(Item_Identifier='FDU02', Item_Weight=13.35, Item_Fat_Content='Low Fat', Item_Visibility=0.10249212, Item_Type='Dairy', Item_MRP=230.5352, Outlet_Identifier='OUT035', Outlet_Establishment_Year=2004, Outlet_Size='Small', Outlet_Location_Type='Tier 2', Outlet_Type='Supermarket Type1', Item_Outlet_Sales=2748.4224),\n",
       " Row(Item_Identifier='FDN22', Item_Weight=18.85, Item_Fat_Content='Regular', Item_Visibility=0.138190277, Item_Type='Snack Foods', Item_MRP=250.8724, Outlet_Identifier='OUT013', Outlet_Establishment_Year=1987, Outlet_Size='High', Outlet_Location_Type='Tier 3', Outlet_Type='Supermarket Type1', Item_Outlet_Sales=3775.086),\n",
       " Row(Item_Identifier='FDW12', Item_Weight=None, Item_Fat_Content='Regular', Item_Visibility=0.035399923, Item_Type='Baking Goods', Item_MRP=144.5444, Outlet_Identifier='OUT027', Outlet_Establishment_Year=1985, Outlet_Size='Medium', Outlet_Location_Type='Tier 3', Outlet_Type='Supermarket Type3', Item_Outlet_Sales=4064.0432),\n",
       " Row(Item_Identifier='NCB30', Item_Weight=14.6, Item_Fat_Content='Low Fat', Item_Visibility=0.025698134, Item_Type='Household', Item_MRP=196.5084, Outlet_Identifier='OUT035', Outlet_Establishment_Year=2004, Outlet_Size='Small', Outlet_Location_Type='Tier 2', Outlet_Type='Supermarket Type1', Item_Outlet_Sales=1587.2672),\n",
       " Row(Item_Identifier='FDC37', Item_Weight=None, Item_Fat_Content='Low Fat', Item_Visibility=0.057556998, Item_Type='Baking Goods', Item_MRP=107.6938, Outlet_Identifier='OUT019', Outlet_Establishment_Year=1985, Outlet_Size='Small', Outlet_Location_Type='Tier 1', Outlet_Type='Grocery Store', Item_Outlet_Sales=214.3876),\n",
       " Row(Item_Identifier='FDR28', Item_Weight=13.85, Item_Fat_Content='Regular', Item_Visibility=0.025896485, Item_Type='Frozen Foods', Item_MRP=165.021, Outlet_Identifier='OUT046', Outlet_Establishment_Year=1997, Outlet_Size='Small', Outlet_Location_Type='Tier 1', Outlet_Type='Supermarket Type1', Item_Outlet_Sales=4078.025),\n",
       " Row(Item_Identifier='NCD06', Item_Weight=13.0, Item_Fat_Content='Low Fat', Item_Visibility=0.099887103, Item_Type='Household', Item_MRP=45.906, Outlet_Identifier='OUT017', Outlet_Establishment_Year=2007, Outlet_Size=None, Outlet_Location_Type='Tier 2', Outlet_Type='Supermarket Type1', Item_Outlet_Sales=838.908),\n",
       " Row(Item_Identifier='FDV10', Item_Weight=7.645, Item_Fat_Content='Regular', Item_Visibility=0.066693437, Item_Type='Snack Foods', Item_MRP=42.3112, Outlet_Identifier='OUT035', Outlet_Establishment_Year=2004, Outlet_Size='Small', Outlet_Location_Type='Tier 2', Outlet_Type='Supermarket Type1', Item_Outlet_Sales=1065.28),\n",
       " Row(Item_Identifier='DRJ59', Item_Weight=11.65, Item_Fat_Content='low fat', Item_Visibility=0.019356132, Item_Type='Hard Drinks', Item_MRP=39.1164, Outlet_Identifier='OUT013', Outlet_Establishment_Year=1987, Outlet_Size='High', Outlet_Location_Type='Tier 3', Outlet_Type='Supermarket Type1', Item_Outlet_Sales=308.9312),\n",
       " Row(Item_Identifier='FDE51', Item_Weight=5.925, Item_Fat_Content='Regular', Item_Visibility=0.161466534, Item_Type='Dairy', Item_MRP=45.5086, Outlet_Identifier='OUT010', Outlet_Establishment_Year=1998, Outlet_Size=None, Outlet_Location_Type='Tier 3', Outlet_Type='Grocery Store', Item_Outlet_Sales=178.4344),\n",
       " Row(Item_Identifier='FDC14', Item_Weight=None, Item_Fat_Content='Regular', Item_Visibility=0.072221801, Item_Type='Canned', Item_MRP=43.6454, Outlet_Identifier='OUT019', Outlet_Establishment_Year=1985, Outlet_Size='Small', Outlet_Location_Type='Tier 1', Outlet_Type='Grocery Store', Item_Outlet_Sales=125.8362),\n",
       " Row(Item_Identifier='FDV38', Item_Weight=19.25, Item_Fat_Content='Low Fat', Item_Visibility=0.170348551, Item_Type='Dairy', Item_MRP=55.7956, Outlet_Identifier='OUT010', Outlet_Establishment_Year=1998, Outlet_Size=None, Outlet_Location_Type='Tier 3', Outlet_Type='Grocery Store', Item_Outlet_Sales=163.7868),\n",
       " Row(Item_Identifier='NCS17', Item_Weight=18.6, Item_Fat_Content='Low Fat', Item_Visibility=0.080829372, Item_Type='Health and Hygiene', Item_MRP=96.4436, Outlet_Identifier='OUT018', Outlet_Establishment_Year=2009, Outlet_Size='Medium', Outlet_Location_Type='Tier 3', Outlet_Type='Supermarket Type2', Item_Outlet_Sales=2741.7644),\n",
       " Row(Item_Identifier='FDP33', Item_Weight=18.7, Item_Fat_Content='Low Fat', Item_Visibility=0.0, Item_Type='Snack Foods', Item_MRP=256.6672, Outlet_Identifier='OUT018', Outlet_Establishment_Year=2009, Outlet_Size='Medium', Outlet_Location_Type='Tier 3', Outlet_Type='Supermarket Type2', Item_Outlet_Sales=3068.0064),\n",
       " Row(Item_Identifier='FDO23', Item_Weight=17.85, Item_Fat_Content='Low Fat', Item_Visibility=0.0, Item_Type='Breads', Item_MRP=93.1436, Outlet_Identifier='OUT045', Outlet_Establishment_Year=2002, Outlet_Size=None, Outlet_Location_Type='Tier 2', Outlet_Type='Supermarket Type1', Item_Outlet_Sales=2174.5028),\n",
       " Row(Item_Identifier='DRH01', Item_Weight=17.5, Item_Fat_Content='Low Fat', Item_Visibility=0.097904029, Item_Type='Soft Drinks', Item_MRP=174.8738, Outlet_Identifier='OUT046', Outlet_Establishment_Year=1997, Outlet_Size='Small', Outlet_Location_Type='Tier 1', Outlet_Type='Supermarket Type1', Item_Outlet_Sales=2085.2856),\n",
       " Row(Item_Identifier='NCX29', Item_Weight=10.0, Item_Fat_Content='Low Fat', Item_Visibility=0.089291137, Item_Type='Health and Hygiene', Item_MRP=146.7102, Outlet_Identifier='OUT049', Outlet_Establishment_Year=1999, Outlet_Size='Medium', Outlet_Location_Type='Tier 1', Outlet_Type='Supermarket Type1', Item_Outlet_Sales=3791.0652),\n",
       " Row(Item_Identifier='FDV20', Item_Weight=None, Item_Fat_Content='Regular', Item_Visibility=0.059511812, Item_Type='Fruits and Vegetables', Item_MRP=128.0678, Outlet_Identifier='OUT027', Outlet_Establishment_Year=1985, Outlet_Size='Medium', Outlet_Location_Type='Tier 3', Outlet_Type='Supermarket Type3', Item_Outlet_Sales=2797.6916),\n",
       " Row(Item_Identifier='DRZ11', Item_Weight=8.85, Item_Fat_Content='Regular', Item_Visibility=0.113123893, Item_Type='Soft Drinks', Item_MRP=122.5388, Outlet_Identifier='OUT018', Outlet_Establishment_Year=2009, Outlet_Size='Medium', Outlet_Location_Type='Tier 3', Outlet_Type='Supermarket Type2', Item_Outlet_Sales=1609.9044),\n",
       " Row(Item_Identifier='FDX10', Item_Weight=None, Item_Fat_Content='Regular', Item_Visibility=0.123111453, Item_Type='Snack Foods', Item_MRP=36.9874, Outlet_Identifier='OUT027', Outlet_Establishment_Year=1985, Outlet_Size='Medium', Outlet_Location_Type='Tier 3', Outlet_Type='Supermarket Type3', Item_Outlet_Sales=388.1614),\n",
       " Row(Item_Identifier='FDB34', Item_Weight=None, Item_Fat_Content='Low Fat', Item_Visibility=0.026480954, Item_Type='Snack Foods', Item_MRP=87.6198, Outlet_Identifier='OUT027', Outlet_Establishment_Year=1985, Outlet_Size='Medium', Outlet_Location_Type='Tier 3', Outlet_Type='Supermarket Type3', Item_Outlet_Sales=2180.495),\n",
       " Row(Item_Identifier='FDU02', Item_Weight=13.35, Item_Fat_Content='Low Fat', Item_Visibility=0.102511504, Item_Type='Dairy', Item_MRP=230.6352, Outlet_Identifier='OUT046', Outlet_Establishment_Year=1997, Outlet_Size='Small', Outlet_Location_Type='Tier 1', Outlet_Type='Supermarket Type1', Item_Outlet_Sales=3435.528),\n",
       " Row(Item_Identifier='FDK43', Item_Weight=9.8, Item_Fat_Content='Low Fat', Item_Visibility=0.02681843, Item_Type='Meat', Item_MRP=126.002, Outlet_Identifier='OUT013', Outlet_Establishment_Year=1987, Outlet_Size='High', Outlet_Location_Type='Tier 3', Outlet_Type='Supermarket Type1', Item_Outlet_Sales=2150.534),\n",
       " Row(Item_Identifier='FDA46', Item_Weight=13.6, Item_Fat_Content='Low Fat', Item_Visibility=0.117818348, Item_Type='Snack Foods', Item_MRP=192.9136, Outlet_Identifier='OUT049', Outlet_Establishment_Year=1999, Outlet_Size='Medium', Outlet_Location_Type='Tier 1', Outlet_Type='Supermarket Type1', Item_Outlet_Sales=2527.3768),\n",
       " Row(Item_Identifier='FDC02', Item_Weight=21.35, Item_Fat_Content='Low Fat', Item_Visibility=0.069102831, Item_Type='Canned', Item_MRP=259.9278, Outlet_Identifier='OUT018', Outlet_Establishment_Year=2009, Outlet_Size='Medium', Outlet_Location_Type='Tier 3', Outlet_Type='Supermarket Type2', Item_Outlet_Sales=6768.5228),\n",
       " Row(Item_Identifier='FDL50', Item_Weight=12.15, Item_Fat_Content='Regular', Item_Visibility=0.042277867, Item_Type='Canned', Item_MRP=126.5046, Outlet_Identifier='OUT013', Outlet_Establishment_Year=1987, Outlet_Size='High', Outlet_Location_Type='Tier 3', Outlet_Type='Supermarket Type1', Item_Outlet_Sales=373.5138),\n",
       " Row(Item_Identifier='FDM39', Item_Weight=6.42, Item_Fat_Content='LF', Item_Visibility=0.089498926, Item_Type='Dairy', Item_MRP=178.1002, Outlet_Identifier='OUT010', Outlet_Establishment_Year=1998, Outlet_Size=None, Outlet_Location_Type='Tier 3', Outlet_Type='Grocery Store', Item_Outlet_Sales=358.2004),\n",
       " Row(Item_Identifier='NCP05', Item_Weight=19.6, Item_Fat_Content='Low Fat', Item_Visibility=0.0, Item_Type='Health and Hygiene', Item_MRP=153.3024, Outlet_Identifier='OUT045', Outlet_Establishment_Year=2002, Outlet_Size=None, Outlet_Location_Type='Tier 2', Outlet_Type='Supermarket Type1', Item_Outlet_Sales=2428.8384),\n",
       " Row(Item_Identifier='FDV49', Item_Weight=10.0, Item_Fat_Content='Low Fat', Item_Visibility=0.025879577, Item_Type='Canned', Item_MRP=265.2226, Outlet_Identifier='OUT045', Outlet_Establishment_Year=2002, Outlet_Size=None, Outlet_Location_Type='Tier 2', Outlet_Type='Supermarket Type1', Item_Outlet_Sales=5815.0972),\n",
       " Row(Item_Identifier='FDL12', Item_Weight=15.85, Item_Fat_Content='Regular', Item_Visibility=0.121632721, Item_Type='Baking Goods', Item_MRP=60.622, Outlet_Identifier='OUT046', Outlet_Establishment_Year=1997, Outlet_Size='Small', Outlet_Location_Type='Tier 1', Outlet_Type='Supermarket Type1', Item_Outlet_Sales=2576.646),\n",
       " Row(Item_Identifier='FDS02', Item_Weight=None, Item_Fat_Content='Regular', Item_Visibility=0.255394896, Item_Type='Dairy', Item_MRP=196.8794, Outlet_Identifier='OUT019', Outlet_Establishment_Year=1985, Outlet_Size='Small', Outlet_Location_Type='Tier 1', Outlet_Type='Grocery Store', Item_Outlet_Sales=780.3176),\n",
       " Row(Item_Identifier='NCL17', Item_Weight=7.39, Item_Fat_Content='Low Fat', Item_Visibility=0.067779712, Item_Type='Health and Hygiene', Item_MRP=143.8812, Outlet_Identifier='OUT046', Outlet_Establishment_Year=1997, Outlet_Size='Small', Outlet_Location_Type='Tier 1', Outlet_Type='Supermarket Type1', Item_Outlet_Sales=3134.5864),\n",
       " Row(Item_Identifier='FDM40', Item_Weight=10.195, Item_Fat_Content='Low Fat', Item_Visibility=0.159803853, Item_Type='Frozen Foods', Item_MRP=141.5154, Outlet_Identifier='OUT013', Outlet_Establishment_Year=1987, Outlet_Size='High', Outlet_Location_Type='Tier 3', Outlet_Type='Supermarket Type1', Item_Outlet_Sales=850.8924),\n",
       " Row(Item_Identifier='FDR13', Item_Weight=9.895, Item_Fat_Content='Regular', Item_Visibility=0.028696932, Item_Type='Canned', Item_MRP=117.0492, Outlet_Identifier='OUT013', Outlet_Establishment_Year=1987, Outlet_Size='High', Outlet_Location_Type='Tier 3', Outlet_Type='Supermarket Type1', Item_Outlet_Sales=810.9444),\n",
       " Row(Item_Identifier='FDA43', Item_Weight=10.895, Item_Fat_Content='Low Fat', Item_Visibility=0.065041581, Item_Type='Fruits and Vegetables', Item_MRP=196.3794, Outlet_Identifier='OUT017', Outlet_Establishment_Year=2007, Outlet_Size=None, Outlet_Location_Type='Tier 2', Outlet_Type='Supermarket Type1', Item_Outlet_Sales=3121.2704),\n",
       " Row(Item_Identifier='NCP18', Item_Weight=12.15, Item_Fat_Content='Low Fat', Item_Visibility=0.028760013, Item_Type='Household', Item_MRP=151.4708, Outlet_Identifier='OUT017', Outlet_Establishment_Year=2007, Outlet_Size=None, Outlet_Location_Type='Tier 2', Outlet_Type='Supermarket Type1', Item_Outlet_Sales=4815.0656),\n",
       " Row(Item_Identifier='FDK21', Item_Weight=7.905, Item_Fat_Content='Low Fat', Item_Visibility=0.010053105, Item_Type='Snack Foods', Item_MRP=249.0408, Outlet_Identifier='OUT018', Outlet_Establishment_Year=2009, Outlet_Size='Medium', Outlet_Location_Type='Tier 3', Outlet_Type='Supermarket Type2', Item_Outlet_Sales=6258.52),\n",
       " Row(Item_Identifier='NCX54', Item_Weight=9.195, Item_Fat_Content='Low Fat', Item_Visibility=0.048157338, Item_Type='Household', Item_MRP=106.1622, Outlet_Identifier='OUT045', Outlet_Establishment_Year=2002, Outlet_Size=None, Outlet_Location_Type='Tier 2', Outlet_Type='Supermarket Type1', Item_Outlet_Sales=2117.244),\n",
       " Row(Item_Identifier='DRK35', Item_Weight=8.365, Item_Fat_Content='Low Fat', Item_Visibility=0.071958197, Item_Type='Hard Drinks', Item_MRP=38.0506, Outlet_Identifier='OUT049', Outlet_Establishment_Year=1999, Outlet_Size='Medium', Outlet_Location_Type='Tier 1', Outlet_Type='Supermarket Type1', Item_Outlet_Sales=796.9626),\n",
       " Row(Item_Identifier='FDY21', Item_Weight=15.1, Item_Fat_Content='Low Fat', Item_Visibility=0.173481304, Item_Type='Snack Foods', Item_MRP=194.511, Outlet_Identifier='OUT046', Outlet_Establishment_Year=1997, Outlet_Size='Small', Outlet_Location_Type='Tier 1', Outlet_Type='Supermarket Type1', Item_Outlet_Sales=4910.275),\n",
       " Row(Item_Identifier='FDI26', Item_Weight=None, Item_Fat_Content='Low Fat', Item_Visibility=0.061082177, Item_Type='Canned', Item_MRP=180.0344, Outlet_Identifier='OUT019', Outlet_Establishment_Year=1985, Outlet_Size='Small', Outlet_Location_Type='Tier 1', Outlet_Type='Grocery Store', Item_Outlet_Sales=892.172),\n",
       " Row(Item_Identifier='FDM20', Item_Weight=10.0, Item_Fat_Content='Low Fat', Item_Visibility=0.0, Item_Type='Fruits and Vegetables', Item_MRP=246.9144, Outlet_Identifier='OUT018', Outlet_Establishment_Year=2009, Outlet_Size='Medium', Outlet_Location_Type='Tier 3', Outlet_Type='Supermarket Type2', Item_Outlet_Sales=3185.1872),\n",
       " Row(Item_Identifier='FDV27', Item_Weight=7.97, Item_Fat_Content='Regular', Item_Visibility=0.040071131, Item_Type='Meat', Item_MRP=87.3514, Outlet_Identifier='OUT045', Outlet_Establishment_Year=2002, Outlet_Size=None, Outlet_Location_Type='Tier 2', Outlet_Type='Supermarket Type1', Item_Outlet_Sales=1062.6168),\n",
       " Row(Item_Identifier='FDF09', Item_Weight=None, Item_Fat_Content='Low Fat', Item_Visibility=0.012090074, Item_Type='Fruits and Vegetables', Item_MRP=38.2848, Outlet_Identifier='OUT027', Outlet_Establishment_Year=1985, Outlet_Size='Medium', Outlet_Location_Type='Tier 3', Outlet_Type='Supermarket Type3', Item_Outlet_Sales=484.7024),\n",
       " Row(Item_Identifier='FDY40', Item_Weight=None, Item_Fat_Content='Regular', Item_Visibility=0.15028599, Item_Type='Frozen Foods', Item_MRP=51.0692, Outlet_Identifier='OUT019', Outlet_Establishment_Year=1985, Outlet_Size='Small', Outlet_Location_Type='Tier 1', Outlet_Type='Grocery Store', Item_Outlet_Sales=147.8076),\n",
       " Row(Item_Identifier='FDY45', Item_Weight=None, Item_Fat_Content='Low Fat', Item_Visibility=0.026015519, Item_Type='Snack Foods', Item_MRP=255.8356, Outlet_Identifier='OUT027', Outlet_Establishment_Year=1985, Outlet_Size='Medium', Outlet_Location_Type='Tier 3', Outlet_Type='Supermarket Type3', Item_Outlet_Sales=2543.356),\n",
       " Row(Item_Identifier='FDC46', Item_Weight=17.7, Item_Fat_Content='LF', Item_Visibility=0.195068226, Item_Type='Snack Foods', Item_MRP=185.4266, Outlet_Identifier='OUT010', Outlet_Establishment_Year=1998, Outlet_Size=None, Outlet_Location_Type='Tier 3', Outlet_Type='Grocery Store', Item_Outlet_Sales=184.4266),\n",
       " Row(Item_Identifier='FDH19', Item_Weight=19.35, Item_Fat_Content='Low Fat', Item_Visibility=0.033082215, Item_Type='Meat', Item_MRP=172.5738, Outlet_Identifier='OUT035', Outlet_Establishment_Year=2004, Outlet_Size='Small', Outlet_Location_Type='Tier 2', Outlet_Type='Supermarket Type1', Item_Outlet_Sales=4865.6664),\n",
       " Row(Item_Identifier='FDZ03', Item_Weight=13.65, Item_Fat_Content='Regular', Item_Visibility=0.078946455, Item_Type='Dairy', Item_MRP=186.024, Outlet_Identifier='OUT045', Outlet_Establishment_Year=2002, Outlet_Size=None, Outlet_Location_Type='Tier 2', Outlet_Type='Supermarket Type1', Item_Outlet_Sales=1118.544),\n",
       " Row(Item_Identifier='DRH37', Item_Weight=17.6, Item_Fat_Content='Low Fat', Item_Visibility=0.041700756, Item_Type='Soft Drinks', Item_MRP=164.8526, Outlet_Identifier='OUT045', Outlet_Establishment_Year=2002, Outlet_Size=None, Outlet_Location_Type='Tier 2', Outlet_Type='Supermarket Type1', Item_Outlet_Sales=2302.3364),\n",
       " Row(Item_Identifier='NCI17', Item_Weight=8.645, Item_Fat_Content='Low Fat', Item_Visibility=0.143422643, Item_Type='Health and Hygiene', Item_MRP=95.841, Outlet_Identifier='OUT046', Outlet_Establishment_Year=1997, Outlet_Size='Small', Outlet_Location_Type='Tier 1', Outlet_Type='Supermarket Type1', Item_Outlet_Sales=2027.361),\n",
       " Row(Item_Identifier='FDJ58', Item_Weight=15.6, Item_Fat_Content='Regular', Item_Visibility=0.105296072, Item_Type='Snack Foods', Item_MRP=170.1764, Outlet_Identifier='OUT046', Outlet_Establishment_Year=1997, Outlet_Size='Small', Outlet_Location_Type='Tier 1', Outlet_Type='Supermarket Type1', Item_Outlet_Sales=3435.528),\n",
       " Row(Item_Identifier='FDL12', Item_Weight=15.85, Item_Fat_Content='Regular', Item_Visibility=0.121531501, Item_Type='Baking Goods', Item_MRP=59.222, Outlet_Identifier='OUT013', Outlet_Establishment_Year=1987, Outlet_Size='High', Outlet_Location_Type='Tier 3', Outlet_Type='Supermarket Type1', Item_Outlet_Sales=599.22),\n",
       " Row(Item_Identifier='FDH35', Item_Weight=18.25, Item_Fat_Content='Low Fat', Item_Visibility=0.0, Item_Type='Starchy Foods', Item_MRP=164.7526, Outlet_Identifier='OUT045', Outlet_Establishment_Year=2002, Outlet_Size=None, Outlet_Location_Type='Tier 2', Outlet_Type='Supermarket Type1', Item_Outlet_Sales=4604.6728),\n",
       " Row(Item_Identifier='FDG02', Item_Weight=7.855, Item_Fat_Content='Low Fat', Item_Visibility=0.011324862, Item_Type='Canned', Item_MRP=189.6188, Outlet_Identifier='OUT017', Outlet_Establishment_Year=2007, Outlet_Size=None, Outlet_Location_Type='Tier 2', Outlet_Type='Supermarket Type1', Item_Outlet_Sales=2285.0256),\n",
       " Row(Item_Identifier='NCZ18', Item_Weight=7.825, Item_Fat_Content='low fat', Item_Visibility=0.186357148, Item_Type='Household', Item_MRP=254.3698, Outlet_Identifier='OUT049', Outlet_Establishment_Year=1999, Outlet_Size='Medium', Outlet_Location_Type='Tier 1', Outlet_Type='Supermarket Type1', Item_Outlet_Sales=5580.7356),\n",
       " Row(Item_Identifier='FDC29', Item_Weight=8.39, Item_Fat_Content='Regular', Item_Visibility=0.024205661, Item_Type='Frozen Foods', Item_MRP=114.0176, Outlet_Identifier='OUT046', Outlet_Establishment_Year=1997, Outlet_Size='Small', Outlet_Location_Type='Tier 1', Outlet_Type='Supermarket Type1', Item_Outlet_Sales=2290.352),\n",
       " Row(Item_Identifier='FDQ10', Item_Weight=12.85, Item_Fat_Content='Low Fat', Item_Visibility=0.033230816, Item_Type='Snack Foods', Item_MRP=172.3422, Outlet_Identifier='OUT049', Outlet_Establishment_Year=1999, Outlet_Size='Medium', Outlet_Location_Type='Tier 1', Outlet_Type='Supermarket Type1', Item_Outlet_Sales=1207.0954),\n",
       " Row(Item_Identifier='FDN48', Item_Weight=None, Item_Fat_Content='Low Fat', Item_Visibility=0.113720344, Item_Type='Baking Goods', Item_MRP=89.9804, Outlet_Identifier='OUT019', Outlet_Establishment_Year=1985, Outlet_Size='Small', Outlet_Location_Type='Tier 1', Outlet_Type='Grocery Store', Item_Outlet_Sales=643.1628),\n",
       " Row(Item_Identifier='FDL04', Item_Weight=19.0, Item_Fat_Content='Low Fat', Item_Visibility=0.112556507, Item_Type='Frozen Foods', Item_MRP=104.9622, Outlet_Identifier='OUT017', Outlet_Establishment_Year=2007, Outlet_Size=None, Outlet_Location_Type='Tier 2', Outlet_Type='Supermarket Type1', Item_Outlet_Sales=1587.933),\n",
       " Row(Item_Identifier='FDV25', Item_Weight=5.905, Item_Fat_Content='Low Fat', Item_Visibility=0.0, Item_Type='Canned', Item_MRP=222.5456, Outlet_Identifier='OUT045', Outlet_Establishment_Year=2002, Outlet_Size=None, Outlet_Location_Type='Tier 2', Outlet_Type='Supermarket Type1', Item_Outlet_Sales=5305.0944),\n",
       " Row(Item_Identifier='FDD58', Item_Weight=7.76, Item_Fat_Content='Low Fat', Item_Visibility=0.059352241, Item_Type='Snack Foods', Item_MRP=101.87, Outlet_Identifier='OUT046', Outlet_Establishment_Year=1997, Outlet_Size='Small', Outlet_Location_Type='Tier 1', Outlet_Type='Supermarket Type1', Item_Outlet_Sales=1697.79),\n",
       " Row(Item_Identifier='FDN04', Item_Weight=11.8, Item_Fat_Content='reg', Item_Visibility=0.014087057, Item_Type='Frozen Foods', Item_MRP=180.3344, Outlet_Identifier='OUT046', Outlet_Establishment_Year=1997, Outlet_Size='Small', Outlet_Location_Type='Tier 1', Outlet_Type='Supermarket Type1', Item_Outlet_Sales=1427.4752),\n",
       " Row(Item_Identifier='FDV45', Item_Weight=16.75, Item_Fat_Content='low fat', Item_Visibility=0.045230944, Item_Type='Snack Foods', Item_MRP=187.9556, Outlet_Identifier='OUT018', Outlet_Establishment_Year=2009, Outlet_Size='Medium', Outlet_Location_Type='Tier 3', Outlet_Type='Supermarket Type2', Item_Outlet_Sales=4693.89),\n",
       " Row(Item_Identifier='NCL18', Item_Weight=None, Item_Fat_Content='Low Fat', Item_Visibility=0.293417759, Item_Type='Household', Item_MRP=194.6136, Outlet_Identifier='OUT019', Outlet_Establishment_Year=1985, Outlet_Size='Small', Outlet_Location_Type='Tier 1', Outlet_Type='Grocery Store', Item_Outlet_Sales=583.2408),\n",
       " Row(Item_Identifier='FDR12', Item_Weight=None, Item_Fat_Content='Regular', Item_Visibility=0.031382044, Item_Type='Baking Goods', Item_MRP=171.3764, Outlet_Identifier='OUT027', Outlet_Establishment_Year=1985, Outlet_Size='Medium', Outlet_Location_Type='Tier 3', Outlet_Type='Supermarket Type3', Item_Outlet_Sales=3091.9752),\n",
       " Row(Item_Identifier='FDG20', Item_Weight=15.5, Item_Fat_Content='Regular', Item_Visibility=0.12639886, Item_Type='Fruits and Vegetables', Item_MRP=177.0028, Outlet_Identifier='OUT017', Outlet_Establishment_Year=2007, Outlet_Size=None, Outlet_Location_Type='Tier 2', Outlet_Type='Supermarket Type1', Item_Outlet_Sales=2479.4392),\n",
       " Row(Item_Identifier='FDZ55', Item_Weight=6.055, Item_Fat_Content='Low Fat', Item_Visibility=0.025403898, Item_Type='Fruits and Vegetables', Item_MRP=160.992, Outlet_Identifier='OUT035', Outlet_Establishment_Year=2004, Outlet_Size='Small', Outlet_Location_Type='Tier 2', Outlet_Type='Supermarket Type1', Item_Outlet_Sales=2716.464),\n",
       " Row(Item_Identifier='FDQ49', Item_Weight=None, Item_Fat_Content='Regular', Item_Visibility=0.039057677, Item_Type='Breakfast', Item_MRP=155.963, Outlet_Identifier='OUT027', Outlet_Establishment_Year=1985, Outlet_Size='Medium', Outlet_Location_Type='Tier 3', Outlet_Type='Supermarket Type3', Item_Outlet_Sales=3285.723),\n",
       " Row(Item_Identifier='FDN33', Item_Weight=6.305, Item_Fat_Content='Regular', Item_Visibility=0.123115764, Item_Type='Snack Foods', Item_MRP=95.6436, Outlet_Identifier='OUT046', Outlet_Establishment_Year=1997, Outlet_Size='Small', Outlet_Location_Type='Tier 1', Outlet_Type='Supermarket Type1', Item_Outlet_Sales=661.8052),\n",
       " Row(Item_Identifier='FDN27', Item_Weight=20.85, Item_Fat_Content='Low Fat', Item_Visibility=0.039624006, Item_Type='Meat', Item_MRP=117.2808, Outlet_Identifier='OUT049', Outlet_Establishment_Year=1999, Outlet_Size='Medium', Outlet_Location_Type='Tier 1', Outlet_Type='Supermarket Type1', Item_Outlet_Sales=1523.3504),\n",
       " Row(Item_Identifier='FDW20', Item_Weight=20.75, Item_Fat_Content='Low Fat', Item_Visibility=0.040421193, Item_Type='Fruits and Vegetables', Item_MRP=122.173, Outlet_Identifier='OUT010', Outlet_Establishment_Year=1998, Outlet_Size=None, Outlet_Location_Type='Tier 3', Outlet_Type='Grocery Store', Item_Outlet_Sales=369.519),\n",
       " Row(Item_Identifier='DRG27', Item_Weight=8.895, Item_Fat_Content='Low Fat', Item_Visibility=0.105274111, Item_Type='Dairy', Item_MRP=39.9138, Outlet_Identifier='OUT049', Outlet_Establishment_Year=1999, Outlet_Size='Medium', Outlet_Location_Type='Tier 1', Outlet_Type='Supermarket Type1', Item_Outlet_Sales=690.4346),\n",
       " Row(Item_Identifier='DRI25', Item_Weight=19.6, Item_Fat_Content='Low Fat', Item_Visibility=0.033970195, Item_Type='Soft Drinks', Item_MRP=55.1614, Outlet_Identifier='OUT045', Outlet_Establishment_Year=2002, Outlet_Size=None, Outlet_Location_Type='Tier 2', Outlet_Type='Supermarket Type1', Item_Outlet_Sales=1381.535),\n",
       " Row(Item_Identifier='FDA44', Item_Weight=19.7, Item_Fat_Content='Low Fat', Item_Visibility=0.053212652, Item_Type='Fruits and Vegetables', Item_MRP=57.893, Outlet_Identifier='OUT035', Outlet_Establishment_Year=2004, Outlet_Size='Small', Outlet_Location_Type='Tier 2', Outlet_Type='Supermarket Type1', Item_Outlet_Sales=622.523),\n",
       " Row(Item_Identifier='NCR17', Item_Weight=9.8, Item_Fat_Content='Low Fat', Item_Visibility=0.024378706, Item_Type='Health and Hygiene', Item_MRP=114.5492, Outlet_Identifier='OUT035', Outlet_Establishment_Year=2004, Outlet_Size='Small', Outlet_Location_Type='Tier 2', Outlet_Type='Supermarket Type1', Item_Outlet_Sales=1274.3412),\n",
       " Row(Item_Identifier='FDU04', Item_Weight=None, Item_Fat_Content='Low Fat', Item_Visibility=0.009714595, Item_Type='Frozen Foods', Item_MRP=120.0414, Outlet_Identifier='OUT019', Outlet_Establishment_Year=1985, Outlet_Size='Small', Outlet_Location_Type='Tier 1', Outlet_Type='Grocery Store', Item_Outlet_Sales=487.3656),\n",
       " Row(Item_Identifier='FDF41', Item_Weight=12.15, Item_Fat_Content='Low Fat', Item_Visibility=0.131383762, Item_Type='Frozen Foods', Item_MRP=246.046, Outlet_Identifier='OUT049', Outlet_Establishment_Year=1999, Outlet_Size='Medium', Outlet_Location_Type='Tier 1', Outlet_Type='Supermarket Type1', Item_Outlet_Sales=1231.73),\n",
       " Row(Item_Identifier='FDB56', Item_Weight=8.75, Item_Fat_Content='Regular', Item_Visibility=0.07461309, Item_Type='Fruits and Vegetables', Item_MRP=187.4556, Outlet_Identifier='OUT035', Outlet_Establishment_Year=2004, Outlet_Size='Small', Outlet_Location_Type='Tier 2', Outlet_Type='Supermarket Type1', Item_Outlet_Sales=3755.112),\n",
       " Row(Item_Identifier='NCP18', Item_Weight=None, Item_Fat_Content='Low Fat', Item_Visibility=0.028459761, Item_Type='Household', Item_MRP=149.9708, Outlet_Identifier='OUT027', Outlet_Establishment_Year=1985, Outlet_Size='Medium', Outlet_Location_Type='Tier 3', Outlet_Type='Supermarket Type3', Item_Outlet_Sales=4363.6532),\n",
       " Row(Item_Identifier='FDB56', Item_Weight=8.75, Item_Fat_Content='Regular', Item_Visibility=0.074627201, Item_Type='Fruits and Vegetables', Item_MRP=187.8556, Outlet_Identifier='OUT046', Outlet_Establishment_Year=1997, Outlet_Size='Small', Outlet_Location_Type='Tier 1', Outlet_Type='Supermarket Type1', Item_Outlet_Sales=1314.2892),\n",
       " Row(Item_Identifier='FDT28', Item_Weight=13.3, Item_Fat_Content='Low Fat', Item_Visibility=0.063695084, Item_Type='Frozen Foods', Item_MRP=151.0708, Outlet_Identifier='OUT045', Outlet_Establishment_Year=2002, Outlet_Size=None, Outlet_Location_Type='Tier 2', Outlet_Type='Supermarket Type1', Item_Outlet_Sales=1805.6496),\n",
       " Row(Item_Identifier='FDD10', Item_Weight=None, Item_Fat_Content='Regular', Item_Visibility=0.045797829, Item_Type='Snack Foods', Item_MRP=178.5344, Outlet_Identifier='OUT027', Outlet_Establishment_Year=1985, Outlet_Size='Medium', Outlet_Location_Type='Tier 3', Outlet_Type='Supermarket Type3', Item_Outlet_Sales=2854.9504),\n",
       " Row(Item_Identifier='FDW57', Item_Weight=8.31, Item_Fat_Content='Regular', Item_Visibility=0.115857223, Item_Type='Snack Foods', Item_MRP=179.1028, Outlet_Identifier='OUT049', Outlet_Establishment_Year=1999, Outlet_Size='Medium', Outlet_Location_Type='Tier 1', Outlet_Type='Supermarket Type1', Item_Outlet_Sales=3896.2616),\n",
       " Row(Item_Identifier='DRB48', Item_Weight=16.75, Item_Fat_Content='Regular', Item_Visibility=0.024832806, Item_Type='Soft Drinks', Item_MRP=38.7822, Outlet_Identifier='OUT013', Outlet_Establishment_Year=1987, Outlet_Size='High', Outlet_Location_Type='Tier 3', Outlet_Type='Supermarket Type1', Item_Outlet_Sales=667.7974),\n",
       " Row(Item_Identifier='FDP09', Item_Weight=19.75, Item_Fat_Content='Low Fat', Item_Visibility=0.034027909, Item_Type='Snack Foods', Item_MRP=212.0902, Outlet_Identifier='OUT018', Outlet_Establishment_Year=2009, Outlet_Size='Medium', Outlet_Location_Type='Tier 3', Outlet_Type='Supermarket Type2', Item_Outlet_Sales=3185.853),\n",
       " Row(Item_Identifier='FDH14', Item_Weight=17.1, Item_Fat_Content='Regular', Item_Visibility=0.0467696, Item_Type='Canned', Item_MRP=141.1838, Outlet_Identifier='OUT013', Outlet_Establishment_Year=1987, Outlet_Size='High', Outlet_Location_Type='Tier 3', Outlet_Type='Supermarket Type1', Item_Outlet_Sales=2247.7408),\n",
       " Row(Item_Identifier='FDA47', Item_Weight=10.5, Item_Fat_Content='Regular', Item_Visibility=0.116576702, Item_Type='Baking Goods', Item_MRP=163.121, Outlet_Identifier='OUT013', Outlet_Establishment_Year=1987, Outlet_Size='High', Outlet_Location_Type='Tier 3', Outlet_Type='Supermarket Type1', Item_Outlet_Sales=1794.331),\n",
       " Row(Item_Identifier='FDG12', Item_Weight=6.635, Item_Fat_Content='Regular', Item_Visibility=0.0, Item_Type='Baking Goods', Item_MRP=121.3098, Outlet_Identifier='OUT045', Outlet_Establishment_Year=2002, Outlet_Size=None, Outlet_Location_Type='Tier 2', Outlet_Type='Supermarket Type1', Item_Outlet_Sales=2530.7058),\n",
       " Row(Item_Identifier='DRE60', Item_Weight=None, Item_Fat_Content='low fat', Item_Visibility=0.278974075, Item_Type='Soft Drinks', Item_MRP=225.372, Outlet_Identifier='OUT019', Outlet_Establishment_Year=1985, Outlet_Size='Small', Outlet_Location_Type='Tier 1', Outlet_Type='Grocery Store', Item_Outlet_Sales=679.116),\n",
       " Row(Item_Identifier='DRK49', Item_Weight=14.15, Item_Fat_Content='Low Fat', Item_Visibility=0.035913805, Item_Type='Soft Drinks', Item_MRP=41.4138, Outlet_Identifier='OUT013', Outlet_Establishment_Year=1987, Outlet_Size='High', Outlet_Location_Type='Tier 3', Outlet_Type='Supermarket Type1', Item_Outlet_Sales=812.276),\n",
       " Row(Item_Identifier='FDD03', Item_Weight=13.3, Item_Fat_Content='Low Fat', Item_Visibility=0.079806266, Item_Type='Dairy', Item_MRP=232.53, Outlet_Identifier='OUT046', Outlet_Establishment_Year=1997, Outlet_Size='Small', Outlet_Location_Type='Tier 1', Outlet_Type='Supermarket Type1', Item_Outlet_Sales=699.09),\n",
       " Row(Item_Identifier='FDS52', Item_Weight=8.89, Item_Fat_Content='low fat', Item_Visibility=0.005505481, Item_Type='Frozen Foods', Item_MRP=102.4016, Outlet_Identifier='OUT017', Outlet_Establishment_Year=2007, Outlet_Size=None, Outlet_Location_Type='Tier 2', Outlet_Type='Supermarket Type1', Item_Outlet_Sales=2732.4432),\n",
       " Row(Item_Identifier='FDW39', Item_Weight=None, Item_Fat_Content='Regular', Item_Visibility=0.064625342, Item_Type='Meat', Item_MRP=176.937, Outlet_Identifier='OUT019', Outlet_Establishment_Year=1985, Outlet_Size='Small', Outlet_Location_Type='Tier 1', Outlet_Type='Grocery Store', Item_Outlet_Sales=176.437),\n",
       " Row(Item_Identifier='FDX34', Item_Weight=None, Item_Fat_Content='Low Fat', Item_Visibility=0.071636937, Item_Type='Snack Foods', Item_MRP=121.7098, Outlet_Identifier='OUT027', Outlet_Establishment_Year=1985, Outlet_Size='Medium', Outlet_Location_Type='Tier 3', Outlet_Type='Supermarket Type3', Item_Outlet_Sales=4097.3332),\n",
       " Row(Item_Identifier='FDV11', Item_Weight=9.1, Item_Fat_Content='Regular', Item_Visibility=0.0, Item_Type='Breads', Item_MRP=173.2054, Outlet_Identifier='OUT045', Outlet_Establishment_Year=2002, Outlet_Size=None, Outlet_Location_Type='Tier 2', Outlet_Type='Supermarket Type1', Item_Outlet_Sales=3151.8972),\n",
       " Row(Item_Identifier='FDD17', Item_Weight=7.5, Item_Fat_Content='Low Fat', Item_Visibility=0.032677678, Item_Type='Frozen Foods', Item_MRP=239.0906, Outlet_Identifier='OUT049', Outlet_Establishment_Year=1999, Outlet_Size='Medium', Outlet_Location_Type='Tier 1', Outlet_Type='Supermarket Type1', Item_Outlet_Sales=5942.265),\n",
       " Row(Item_Identifier='FDZ16', Item_Weight=16.85, Item_Fat_Content='Regular', Item_Visibility=0.160760054, Item_Type='Frozen Foods', Item_MRP=192.4478, Outlet_Identifier='OUT017', Outlet_Establishment_Year=2007, Outlet_Size=None, Outlet_Location_Type='Tier 2', Outlet_Type='Supermarket Type1', Item_Outlet_Sales=4843.695),\n",
       " Row(Item_Identifier='FDZ46', Item_Weight=7.485, Item_Fat_Content='Low Fat', Item_Visibility=0.06911065, Item_Type='Snack Foods', Item_MRP=109.0228, Outlet_Identifier='OUT035', Outlet_Establishment_Year=2004, Outlet_Size='Small', Outlet_Location_Type='Tier 2', Outlet_Type='Supermarket Type1', Item_Outlet_Sales=2542.0244),\n",
       " Row(Item_Identifier='DRA12', Item_Weight=11.6, Item_Fat_Content='Low Fat', Item_Visibility=0.041177505, Item_Type='Soft Drinks', Item_MRP=140.3154, Outlet_Identifier='OUT017', Outlet_Establishment_Year=2007, Outlet_Size=None, Outlet_Location_Type='Tier 2', Outlet_Type='Supermarket Type1', Item_Outlet_Sales=2552.6772),\n",
       " Row(Item_Identifier='FDY58', Item_Weight=11.65, Item_Fat_Content='Low Fat', Item_Visibility=0.040081193, Item_Type='Snack Foods', Item_MRP=227.0694, Outlet_Identifier='OUT018', Outlet_Establishment_Year=2009, Outlet_Size='Medium', Outlet_Location_Type='Tier 3', Outlet_Type='Supermarket Type2', Item_Outlet_Sales=1141.847),\n",
       " Row(Item_Identifier='NCF19', Item_Weight=13.0, Item_Fat_Content='Low Fat', Item_Visibility=0.035307322, Item_Type='Household', Item_MRP=47.5034, Outlet_Identifier='OUT017', Outlet_Establishment_Year=2007, Outlet_Size=None, Outlet_Location_Type='Tier 2', Outlet_Type='Supermarket Type1', Item_Outlet_Sales=680.4476),\n",
       " Row(Item_Identifier='DRJ13', Item_Weight=12.65, Item_Fat_Content='LF', Item_Visibility=0.063017847, Item_Type='Soft Drinks', Item_MRP=159.0578, Outlet_Identifier='OUT045', Outlet_Establishment_Year=2002, Outlet_Size=None, Outlet_Location_Type='Tier 2', Outlet_Type='Supermarket Type1', Item_Outlet_Sales=2085.9514),\n",
       " Row(Item_Identifier='FDB14', Item_Weight=20.25, Item_Fat_Content='Regular', Item_Visibility=0.171938781, Item_Type='Canned', Item_MRP=92.512, Outlet_Identifier='OUT010', Outlet_Establishment_Year=1998, Outlet_Size=None, Outlet_Location_Type='Tier 3', Outlet_Type='Grocery Store', Item_Outlet_Sales=186.424),\n",
       " Row(Item_Identifier='FDJ38', Item_Weight=8.6, Item_Fat_Content='Regular', Item_Visibility=0.040197932, Item_Type='Canned', Item_MRP=190.153, Outlet_Identifier='OUT035', Outlet_Establishment_Year=2004, Outlet_Size='Small', Outlet_Location_Type='Tier 2', Outlet_Type='Supermarket Type1', Item_Outlet_Sales=3036.048),\n",
       " Row(Item_Identifier='FDW11', Item_Weight=12.6, Item_Fat_Content='Low Fat', Item_Visibility=0.049058014, Item_Type='Breads', Item_MRP=62.7194, Outlet_Identifier='OUT017', Outlet_Establishment_Year=2007, Outlet_Size=None, Outlet_Location_Type='Tier 2', Outlet_Type='Supermarket Type1', Item_Outlet_Sales=866.8716),\n",
       " Row(Item_Identifier='FDL40', Item_Weight=17.7, Item_Fat_Content='Low Fat', Item_Visibility=0.01161096, Item_Type='Frozen Foods', Item_MRP=95.041, Outlet_Identifier='OUT035', Outlet_Establishment_Year=2004, Outlet_Size='Small', Outlet_Location_Type='Tier 2', Outlet_Type='Supermarket Type1', Item_Outlet_Sales=868.869),\n",
       " Row(Item_Identifier='DRI49', Item_Weight=14.15, Item_Fat_Content='Low Fat', Item_Visibility=0.183507295, Item_Type='Soft Drinks', Item_MRP=82.4276, Outlet_Identifier='OUT046', Outlet_Establishment_Year=1997, Outlet_Size='Small', Outlet_Location_Type='Tier 1', Outlet_Type='Supermarket Type1', Item_Outlet_Sales=1137.1864),\n",
       " Row(Item_Identifier='FDV38', Item_Weight=19.25, Item_Fat_Content='Low Fat', Item_Visibility=0.102349519, Item_Type='Dairy', Item_MRP=52.7956, Outlet_Identifier='OUT017', Outlet_Establishment_Year=2007, Outlet_Size=None, Outlet_Location_Type='Tier 2', Outlet_Type='Supermarket Type1', Item_Outlet_Sales=928.1252),\n",
       " Row(Item_Identifier='DRG23', Item_Weight=8.88, Item_Fat_Content='Low Fat', Item_Visibility=0.086708987, Item_Type='Hard Drinks', Item_MRP=151.7682, Outlet_Identifier='OUT013', Outlet_Establishment_Year=1987, Outlet_Size='High', Outlet_Location_Type='Tier 3', Outlet_Type='Supermarket Type1', Item_Outlet_Sales=762.341),\n",
       " Row(Item_Identifier='NCP30', Item_Weight=20.5, Item_Fat_Content='Low Fat', Item_Visibility=0.032835147, Item_Type='Household', Item_MRP=40.2822, Outlet_Identifier='OUT045', Outlet_Establishment_Year=2002, Outlet_Size=None, Outlet_Location_Type='Tier 2', Outlet_Type='Supermarket Type1', Item_Outlet_Sales=707.0796),\n",
       " Row(Item_Identifier='FDY25', Item_Weight=None, Item_Fat_Content='Low Fat', Item_Visibility=0.033809913, Item_Type='Canned', Item_MRP=180.5976, Outlet_Identifier='OUT027', Outlet_Establishment_Year=1985, Outlet_Size='Medium', Outlet_Location_Type='Tier 3', Outlet_Type='Supermarket Type3', Item_Outlet_Sales=7968.2944),\n",
       " Row(Item_Identifier='NCH54', Item_Weight=13.5, Item_Fat_Content='Low Fat', Item_Visibility=0.07266912, Item_Type='Household', Item_MRP=160.292, Outlet_Identifier='OUT046', Outlet_Establishment_Year=1997, Outlet_Size='Small', Outlet_Location_Type='Tier 1', Outlet_Type='Supermarket Type1', Item_Outlet_Sales=1438.128),\n",
       " Row(Item_Identifier='NCR53', Item_Weight=None, Item_Fat_Content='Low Fat', Item_Visibility=0.144338493, Item_Type='Health and Hygiene', Item_MRP=224.4404, Outlet_Identifier='OUT027', Outlet_Establishment_Year=1985, Outlet_Size='Medium', Outlet_Location_Type='Tier 3', Outlet_Type='Supermarket Type3', Item_Outlet_Sales=6976.2524),\n",
       " Row(Item_Identifier='FDS52', Item_Weight=8.89, Item_Fat_Content='Low Fat', Item_Visibility=0.009163216, Item_Type='Frozen Foods', Item_MRP=101.7016, Outlet_Identifier='OUT010', Outlet_Establishment_Year=1998, Outlet_Size=None, Outlet_Location_Type='Tier 3', Outlet_Type='Grocery Store', Item_Outlet_Sales=101.2016),\n",
       " Row(Item_Identifier='FDG02', Item_Weight=7.855, Item_Fat_Content='Low Fat', Item_Visibility=0.011307038, Item_Type='Canned', Item_MRP=188.5188, Outlet_Identifier='OUT018', Outlet_Establishment_Year=2009, Outlet_Size='Medium', Outlet_Location_Type='Tier 3', Outlet_Type='Supermarket Type2', Item_Outlet_Sales=952.094),\n",
       " Row(Item_Identifier='NCO26', Item_Weight=7.235, Item_Fat_Content='Low Fat', Item_Visibility=0.076855628, Item_Type='Household', Item_MRP=116.0492, Outlet_Identifier='OUT046', Outlet_Establishment_Year=1997, Outlet_Size='Small', Outlet_Location_Type='Tier 1', Outlet_Type='Supermarket Type1', Item_Outlet_Sales=1969.4364),\n",
       " Row(Item_Identifier='FDH35', Item_Weight=None, Item_Fat_Content='Low Fat', Item_Visibility=0.059956876, Item_Type='Starchy Foods', Item_MRP=165.4526, Outlet_Identifier='OUT027', Outlet_Establishment_Year=1985, Outlet_Size='Medium', Outlet_Location_Type='Tier 3', Outlet_Type='Supermarket Type3', Item_Outlet_Sales=5262.4832),\n",
       " Row(Item_Identifier='FDB51', Item_Weight=6.92, Item_Fat_Content='Low Fat', Item_Visibility=0.038532062, Item_Type='Dairy', Item_MRP=60.5852, Outlet_Identifier='OUT045', Outlet_Establishment_Year=2002, Outlet_Size=None, Outlet_Location_Type='Tier 2', Outlet_Type='Supermarket Type1', Item_Outlet_Sales=1314.2892),\n",
       " Row(Item_Identifier='FDX44', Item_Weight=9.3, Item_Fat_Content='Low Fat', Item_Visibility=0.043209581, Item_Type='Fruits and Vegetables', Item_MRP=90.8172, Outlet_Identifier='OUT017', Outlet_Establishment_Year=2007, Outlet_Size=None, Outlet_Location_Type='Tier 2', Outlet_Type='Supermarket Type1', Item_Outlet_Sales=535.3032),\n",
       " Row(Item_Identifier='NCN07', Item_Weight=18.5, Item_Fat_Content='Low Fat', Item_Visibility=0.056816465, Item_Type='Others', Item_MRP=132.1284, Outlet_Identifier='OUT010', Outlet_Establishment_Year=1998, Outlet_Size=None, Outlet_Location_Type='Tier 3', Outlet_Type='Grocery Store', Item_Outlet_Sales=263.6568),\n",
       " Row(Item_Identifier='NCC31', Item_Weight=8.02, Item_Fat_Content='Low Fat', Item_Visibility=0.019866705, Item_Type='Household', Item_MRP=154.5972, Outlet_Identifier='OUT035', Outlet_Establishment_Year=2004, Outlet_Size='Small', Outlet_Location_Type='Tier 2', Outlet_Type='Supermarket Type1', Item_Outlet_Sales=1402.1748),\n",
       " Row(Item_Identifier='NCX54', Item_Weight=9.195, Item_Fat_Content='Low Fat', Item_Visibility=0.048331717, Item_Type='Household', Item_MRP=105.1622, Outlet_Identifier='OUT017', Outlet_Establishment_Year=2007, Outlet_Size=None, Outlet_Location_Type='Tier 2', Outlet_Type='Supermarket Type1', Item_Outlet_Sales=1693.7952),\n",
       " Row(Item_Identifier='NCO55', Item_Weight=12.8, Item_Fat_Content='Low Fat', Item_Visibility=0.091221855, Item_Type='Others', Item_MRP=105.5938, Outlet_Identifier='OUT045', Outlet_Establishment_Year=2002, Outlet_Size=None, Outlet_Location_Type='Tier 2', Outlet_Type='Supermarket Type1', Item_Outlet_Sales=2143.876),\n",
       " Row(Item_Identifier='NCC30', Item_Weight=16.6, Item_Fat_Content='Low Fat', Item_Visibility=0.027622076, Item_Type='Household', Item_MRP=177.6344, Outlet_Identifier='OUT049', Outlet_Establishment_Year=1999, Outlet_Size='Medium', Outlet_Location_Type='Tier 1', Outlet_Type='Supermarket Type1', Item_Outlet_Sales=2676.516),\n",
       " Row(Item_Identifier='FDI16', Item_Weight=14.0, Item_Fat_Content='Regular', Item_Visibility=0.0, Item_Type='Frozen Foods', Item_MRP=53.064, Outlet_Identifier='OUT035', Outlet_Establishment_Year=2004, Outlet_Size='Small', Outlet_Location_Type='Tier 2', Outlet_Type='Supermarket Type1', Item_Outlet_Sales=905.488),\n",
       " Row(Item_Identifier='FDP16', Item_Weight=18.6, Item_Fat_Content='Low Fat', Item_Visibility=0.039355947, Item_Type='Frozen Foods', Item_MRP=246.3802, Outlet_Identifier='OUT049', Outlet_Establishment_Year=1999, Outlet_Size='Medium', Outlet_Location_Type='Tier 1', Outlet_Type='Supermarket Type1', Item_Outlet_Sales=7370.406),\n",
       " Row(Item_Identifier='FDB11', Item_Weight=16.0, Item_Fat_Content='Low Fat', Item_Visibility=0.060836524, Item_Type='Starchy Foods', Item_MRP=226.8404, Outlet_Identifier='OUT035', Outlet_Establishment_Year=2004, Outlet_Size='Small', Outlet_Location_Type='Tier 2', Outlet_Type='Supermarket Type1', Item_Outlet_Sales=6301.1312),\n",
       " Row(Item_Identifier='NCB06', Item_Weight=17.6, Item_Fat_Content='Low Fat', Item_Visibility=0.082316506, Item_Type='Health and Hygiene', Item_MRP=160.692, Outlet_Identifier='OUT035', Outlet_Establishment_Year=2004, Outlet_Size='Small', Outlet_Location_Type='Tier 2', Outlet_Type='Supermarket Type1', Item_Outlet_Sales=1597.92),\n",
       " Row(Item_Identifier='FDA45', Item_Weight=21.25, Item_Fat_Content='Low Fat', Item_Visibility=0.155350299, Item_Type='Snack Foods', Item_MRP=178.237, Outlet_Identifier='OUT035', Outlet_Establishment_Year=2004, Outlet_Size='Small', Outlet_Location_Type='Tier 2', Outlet_Type='Supermarket Type1', Item_Outlet_Sales=529.311),\n",
       " Row(Item_Identifier='NCO26', Item_Weight=7.235, Item_Fat_Content='Low Fat', Item_Visibility=0.076841095, Item_Type='Household', Item_MRP=117.5492, Outlet_Identifier='OUT035', Outlet_Establishment_Year=2004, Outlet_Size='Small', Outlet_Location_Type='Tier 2', Outlet_Type='Supermarket Type1', Item_Outlet_Sales=1969.4364),\n",
       " Row(Item_Identifier='DRJ25', Item_Weight=14.6, Item_Fat_Content='Low Fat', Item_Visibility=0.151419185, Item_Type='Soft Drinks', Item_MRP=50.3692, Outlet_Identifier='OUT017', Outlet_Establishment_Year=2007, Outlet_Size=None, Outlet_Location_Type='Tier 2', Outlet_Type='Supermarket Type1', Item_Outlet_Sales=1034.6532),\n",
       " Row(Item_Identifier='FDR28', Item_Weight=13.85, Item_Fat_Content='reg', Item_Visibility=0.026001976, Item_Type='Frozen Foods', Item_MRP=161.521, Outlet_Identifier='OUT018', Outlet_Establishment_Year=2009, Outlet_Size='Medium', Outlet_Location_Type='Tier 3', Outlet_Type='Supermarket Type2', Item_Outlet_Sales=1794.331),\n",
       " Row(Item_Identifier='FDI04', Item_Weight=13.65, Item_Fat_Content='Regular', Item_Visibility=0.073209447, Item_Type='Frozen Foods', Item_MRP=197.6426, Outlet_Identifier='OUT018', Outlet_Establishment_Year=2009, Outlet_Size='Medium', Outlet_Location_Type='Tier 3', Outlet_Type='Supermarket Type2', Item_Outlet_Sales=2768.3964),\n",
       " Row(Item_Identifier='DRK12', Item_Weight=None, Item_Fat_Content='Low Fat', Item_Visibility=0.041683481, Item_Type='Soft Drinks', Item_MRP=31.29, Outlet_Identifier='OUT027', Outlet_Establishment_Year=1985, Outlet_Size='Medium', Outlet_Location_Type='Tier 3', Outlet_Type='Supermarket Type3', Item_Outlet_Sales=898.83),\n",
       " Row(Item_Identifier='FDX20', Item_Weight=7.365, Item_Fat_Content='Low Fat', Item_Visibility=0.042560252, Item_Type='Fruits and Vegetables', Item_MRP=226.172, Outlet_Identifier='OUT046', Outlet_Establishment_Year=1997, Outlet_Size='Small', Outlet_Location_Type='Tier 1', Outlet_Type='Supermarket Type1', Item_Outlet_Sales=3169.208),\n",
       " Row(Item_Identifier='NCI18', Item_Weight=18.35, Item_Fat_Content='Low Fat', Item_Visibility=0.014081156, Item_Type='Household', Item_MRP=223.5746, Outlet_Identifier='OUT018', Outlet_Establishment_Year=2009, Outlet_Size='Medium', Outlet_Location_Type='Tier 3', Outlet_Type='Supermarket Type2', Item_Outlet_Sales=3589.9936),\n",
       " Row(Item_Identifier='FDB36', Item_Weight=5.465, Item_Fat_Content='Regular', Item_Visibility=0.0, Item_Type='Baking Goods', Item_MRP=132.5626, Outlet_Identifier='OUT018', Outlet_Establishment_Year=2009, Outlet_Size='Medium', Outlet_Location_Type='Tier 3', Outlet_Type='Supermarket Type2', Item_Outlet_Sales=262.3252),\n",
       " Row(Item_Identifier='FDN13', Item_Weight=18.6, Item_Fat_Content='Low Fat', Item_Visibility=0.152918384, Item_Type='Breakfast', Item_MRP=99.8358, Outlet_Identifier='OUT017', Outlet_Establishment_Year=2007, Outlet_Size=None, Outlet_Location_Type='Tier 2', Outlet_Type='Supermarket Type1', Item_Outlet_Sales=1910.1802),\n",
       " Row(Item_Identifier='DRD24', Item_Weight=13.85, Item_Fat_Content='Low Fat', Item_Visibility=0.030969274, Item_Type='Soft Drinks', Item_MRP=140.9154, Outlet_Identifier='OUT017', Outlet_Establishment_Year=2007, Outlet_Size=None, Outlet_Location_Type='Tier 2', Outlet_Type='Supermarket Type1', Item_Outlet_Sales=1701.7848),\n",
       " Row(Item_Identifier='FDQ28', Item_Weight=14.0, Item_Fat_Content='Regular', Item_Visibility=0.060376776, Item_Type='Frozen Foods', Item_MRP=154.5656, Outlet_Identifier='OUT013', Outlet_Establishment_Year=1987, Outlet_Size='High', Outlet_Location_Type='Tier 3', Outlet_Type='Supermarket Type1', Item_Outlet_Sales=2471.4496),\n",
       " Row(Item_Identifier='FDM22', Item_Weight=14.0, Item_Fat_Content='Regular', Item_Visibility=0.04192285, Item_Type='Snack Foods', Item_MRP=54.764, Outlet_Identifier='OUT013', Outlet_Establishment_Year=1987, Outlet_Size='High', Outlet_Location_Type='Tier 3', Outlet_Type='Supermarket Type1', Item_Outlet_Sales=1331.6),\n",
       " Row(Item_Identifier='FDR07', Item_Weight=None, Item_Fat_Content='Low Fat', Item_Visibility=0.077367431, Item_Type='Fruits and Vegetables', Item_MRP=97.0094, Outlet_Identifier='OUT027', Outlet_Establishment_Year=1985, Outlet_Size='Medium', Outlet_Location_Type='Tier 3', Outlet_Type='Supermarket Type3', Item_Outlet_Sales=1808.9786),\n",
       " Row(Item_Identifier='FDV25', Item_Weight=5.905, Item_Fat_Content='Low Fat', Item_Visibility=0.045838211, Item_Type='Canned', Item_MRP=222.5456, Outlet_Identifier='OUT018', Outlet_Establishment_Year=2009, Outlet_Size='Medium', Outlet_Location_Type='Tier 3', Outlet_Type='Supermarket Type2', Item_Outlet_Sales=3315.684),\n",
       " Row(Item_Identifier='DRF49', Item_Weight=7.27, Item_Fat_Content='Low Fat', Item_Visibility=0.071077939, Item_Type='Soft Drinks', Item_MRP=114.2518, Outlet_Identifier='OUT046', Outlet_Establishment_Year=1997, Outlet_Size='Small', Outlet_Location_Type='Tier 1', Outlet_Type='Supermarket Type1', Item_Outlet_Sales=2618.5914),\n",
       " Row(Item_Identifier='FDW51', Item_Weight=6.155, Item_Fat_Content='Regular', Item_Visibility=0.094659871, Item_Type='Meat', Item_MRP=214.556, Outlet_Identifier='OUT046', Outlet_Establishment_Year=1997, Outlet_Size='Small', Outlet_Location_Type='Tier 1', Outlet_Type='Supermarket Type1', Item_Outlet_Sales=2769.728),\n",
       " Row(Item_Identifier='DRL01', Item_Weight=19.5, Item_Fat_Content='Regular', Item_Visibility=0.077608838, Item_Type='Soft Drinks', Item_MRP=233.4958, Outlet_Identifier='OUT017', Outlet_Establishment_Year=2007, Outlet_Size=None, Outlet_Location_Type='Tier 2', Outlet_Type='Supermarket Type1', Item_Outlet_Sales=5375.0034),\n",
       " Row(Item_Identifier='FDP25', Item_Weight=15.2, Item_Fat_Content='Low Fat', Item_Visibility=0.021327477, Item_Type='Canned', Item_MRP=216.8824, Outlet_Identifier='OUT017', Outlet_Establishment_Year=2007, Outlet_Size=None, Outlet_Location_Type='Tier 2', Outlet_Type='Supermarket Type1', Item_Outlet_Sales=2838.9712),\n",
       " Row(Item_Identifier='FDL50', Item_Weight=12.15, Item_Fat_Content='Regular', Item_Visibility=0.042485444, Item_Type='Canned', Item_MRP=125.0046, Outlet_Identifier='OUT018', Outlet_Establishment_Year=2009, Outlet_Size='Medium', Outlet_Location_Type='Tier 3', Outlet_Type='Supermarket Type2', Item_Outlet_Sales=1743.0644),\n",
       " Row(Item_Identifier='NCB30', Item_Weight=None, Item_Fat_Content='Low Fat', Item_Visibility=0.025578526, Item_Type='Household', Item_MRP=198.8084, Outlet_Identifier='OUT027', Outlet_Establishment_Year=1985, Outlet_Size='Medium', Outlet_Location_Type='Tier 3', Outlet_Type='Supermarket Type3', Item_Outlet_Sales=5555.4352),\n",
       " Row(Item_Identifier='FDW11', Item_Weight=12.6, Item_Fat_Content='Low Fat', Item_Visibility=0.0489808, Item_Type='Breads', Item_MRP=61.9194, Outlet_Identifier='OUT018', Outlet_Establishment_Year=2009, Outlet_Size='Medium', Outlet_Location_Type='Tier 3', Outlet_Type='Supermarket Type2', Item_Outlet_Sales=619.194),\n",
       " Row(Item_Identifier='NCM43', Item_Weight=14.5, Item_Fat_Content='Low Fat', Item_Visibility=0.019471688, Item_Type='Others', Item_MRP=164.821, Outlet_Identifier='OUT035', Outlet_Establishment_Year=2004, Outlet_Size='Small', Outlet_Location_Type='Tier 2', Outlet_Type='Supermarket Type1', Item_Outlet_Sales=2120.573),\n",
       " Row(Item_Identifier='FDK44', Item_Weight=16.6, Item_Fat_Content='Low Fat', Item_Visibility=0.122918852, Item_Type='Fruits and Vegetables', Item_MRP=173.0738, Outlet_Identifier='OUT017', Outlet_Establishment_Year=2007, Outlet_Size=None, Outlet_Location_Type='Tier 2', Outlet_Type='Supermarket Type1', Item_Outlet_Sales=3823.0236),\n",
       " Row(Item_Identifier='FDM15', Item_Weight=11.8, Item_Fat_Content='Regular', Item_Visibility=0.057373797, Item_Type='Meat', Item_MRP=151.4366, Outlet_Identifier='OUT013', Outlet_Establishment_Year=1987, Outlet_Size='High', Outlet_Location_Type='Tier 3', Outlet_Type='Supermarket Type1', Item_Outlet_Sales=1360.2294),\n",
       " Row(Item_Identifier='FDS31', Item_Weight=13.1, Item_Fat_Content='Regular', Item_Visibility=0.044155597, Item_Type='Fruits and Vegetables', Item_MRP=178.8318, Outlet_Identifier='OUT013', Outlet_Establishment_Year=1987, Outlet_Size='High', Outlet_Location_Type='Tier 3', Outlet_Type='Supermarket Type1', Item_Outlet_Sales=3969.4996),\n",
       " Row(Item_Identifier='FDI32', Item_Weight=17.7, Item_Fat_Content='Low Fat', Item_Visibility=0.291865402, Item_Type='Fruits and Vegetables', Item_MRP=115.1834, Outlet_Identifier='OUT010', Outlet_Establishment_Year=1998, Outlet_Size=None, Outlet_Location_Type='Tier 3', Outlet_Type='Grocery Store', Item_Outlet_Sales=345.5502),\n",
       " Row(Item_Identifier='FDR47', Item_Weight=17.85, Item_Fat_Content='LF', Item_Visibility=0.0, Item_Type='Breads', Item_MRP=196.5794, Outlet_Identifier='OUT010', Outlet_Establishment_Year=1998, Outlet_Size=None, Outlet_Location_Type='Tier 3', Outlet_Type='Grocery Store', Item_Outlet_Sales=585.2382),\n",
       " Row(Item_Identifier='FDB35', Item_Weight=12.3, Item_Fat_Content='Regular', Item_Visibility=0.064750025, Item_Type='Starchy Foods', Item_MRP=92.6804, Outlet_Identifier='OUT045', Outlet_Establishment_Year=2002, Outlet_Size=None, Outlet_Location_Type='Tier 2', Outlet_Type='Supermarket Type1', Item_Outlet_Sales=1010.6844),\n",
       " Row(Item_Identifier='NCU05', Item_Weight=11.8, Item_Fat_Content='Low Fat', Item_Visibility=0.098312421, Item_Type='Health and Hygiene', Item_MRP=81.4618, Outlet_Identifier='OUT010', Outlet_Establishment_Year=1998, Outlet_Size=None, Outlet_Location_Type='Tier 3', Outlet_Type='Grocery Store', Item_Outlet_Sales=161.1236),\n",
       " Row(Item_Identifier='DRY23', Item_Weight=None, Item_Fat_Content='Regular', Item_Visibility=0.191013663, Item_Type='Soft Drinks', Item_MRP=42.1112, Outlet_Identifier='OUT019', Outlet_Establishment_Year=1985, Outlet_Size='Small', Outlet_Location_Type='Tier 1', Outlet_Type='Grocery Store', Item_Outlet_Sales=42.6112),\n",
       " Row(Item_Identifier='FDO24', Item_Weight=11.1, Item_Fat_Content='Low Fat', Item_Visibility=0.176573035, Item_Type='Baking Goods', Item_MRP=157.4604, Outlet_Identifier='OUT045', Outlet_Establishment_Year=2002, Outlet_Size=None, Outlet_Location_Type='Tier 2', Outlet_Type='Supermarket Type1', Item_Outlet_Sales=3010.7476),\n",
       " Row(Item_Identifier='FDQ28', Item_Weight=None, Item_Fat_Content='Regular', Item_Visibility=0.060134441, Item_Type='Frozen Foods', Item_MRP=153.0656, Outlet_Identifier='OUT027', Outlet_Establishment_Year=1985, Outlet_Size='Medium', Outlet_Location_Type='Tier 3', Outlet_Type='Supermarket Type3', Item_Outlet_Sales=6024.1584),\n",
       " Row(Item_Identifier='FDV39', Item_Weight=11.3, Item_Fat_Content='Low Fat', Item_Visibility=0.007294652, Item_Type='Meat', Item_MRP=198.1426, Outlet_Identifier='OUT045', Outlet_Establishment_Year=2002, Outlet_Size=None, Outlet_Location_Type='Tier 2', Outlet_Type='Supermarket Type1', Item_Outlet_Sales=988.713),\n",
       " Row(Item_Identifier='NCO17', Item_Weight=None, Item_Fat_Content='Low Fat', Item_Visibility=0.128478462, Item_Type='Health and Hygiene', Item_MRP=117.944, Outlet_Identifier='OUT019', Outlet_Establishment_Year=1985, Outlet_Size='Small', Outlet_Location_Type='Tier 1', Outlet_Type='Grocery Store', Item_Outlet_Sales=239.688),\n",
       " Row(Item_Identifier='FDU50', Item_Weight=5.75, Item_Fat_Content='Regular', Item_Visibility=0.075107656, Item_Type='Dairy', Item_MRP=112.8176, Outlet_Identifier='OUT013', Outlet_Establishment_Year=1987, Outlet_Size='High', Outlet_Location_Type='Tier 3', Outlet_Type='Supermarket Type1', Item_Outlet_Sales=1374.2112),\n",
       " Row(Item_Identifier='FDT12', Item_Weight=None, Item_Fat_Content='Regular', Item_Visibility=0.049381406, Item_Type='Baking Goods', Item_MRP=226.8062, Outlet_Identifier='OUT027', Outlet_Establishment_Year=1985, Outlet_Size='Medium', Outlet_Location_Type='Tier 3', Outlet_Type='Supermarket Type3', Item_Outlet_Sales=4739.8302),\n",
       " Row(Item_Identifier='FDK58', Item_Weight=11.35, Item_Fat_Content='Regular', Item_Visibility=0.045165796, Item_Type='Snack Foods', Item_MRP=100.0016, Outlet_Identifier='OUT018', Outlet_Establishment_Year=2009, Outlet_Size='Medium', Outlet_Location_Type='Tier 3', Outlet_Type='Supermarket Type2', Item_Outlet_Sales=1012.016),\n",
       " Row(Item_Identifier='FDO08', Item_Weight=None, Item_Fat_Content='Regular', Item_Visibility=0.09415375, Item_Type='Fruits and Vegetables', Item_MRP=165.7526, Outlet_Identifier='OUT019', Outlet_Establishment_Year=1985, Outlet_Size='Small', Outlet_Location_Type='Tier 1', Outlet_Type='Grocery Store', Item_Outlet_Sales=657.8104),\n",
       " Row(Item_Identifier='NCW29', Item_Weight=14.0, Item_Fat_Content='Low Fat', Item_Visibility=0.028907832, Item_Type='Health and Hygiene', Item_MRP=130.431, Outlet_Identifier='OUT049', Outlet_Establishment_Year=1999, Outlet_Size='Medium', Outlet_Location_Type='Tier 1', Outlet_Type='Supermarket Type1', Item_Outlet_Sales=778.986),\n",
       " Row(Item_Identifier='FDE04', Item_Weight=19.75, Item_Fat_Content='Regular', Item_Visibility=0.018059621, Item_Type='Frozen Foods', Item_MRP=179.766, Outlet_Identifier='OUT045', Outlet_Establishment_Year=2002, Outlet_Size=None, Outlet_Location_Type='Tier 2', Outlet_Type='Supermarket Type1', Item_Outlet_Sales=2336.958),\n",
       " Row(Item_Identifier='NCB19', Item_Weight=6.525, Item_Fat_Content='Low Fat', Item_Visibility=0.090436094, Item_Type='Household', Item_MRP=85.0882, Outlet_Identifier='OUT049', Outlet_Establishment_Year=1999, Outlet_Size='Medium', Outlet_Location_Type='Tier 1', Outlet_Type='Supermarket Type1', Item_Outlet_Sales=2233.0932),\n",
       " Row(Item_Identifier='FDV15', Item_Weight=10.3, Item_Fat_Content='Low Fat', Item_Visibility=0.146399712, Item_Type='Meat', Item_MRP=103.9648, Outlet_Identifier='OUT049', Outlet_Establishment_Year=1999, Outlet_Size='Medium', Outlet_Location_Type='Tier 1', Outlet_Type='Supermarket Type1', Item_Outlet_Sales=1661.8368),\n",
       " Row(Item_Identifier='FDL58', Item_Weight=5.78, Item_Fat_Content='Regular', Item_Visibility=0.074264356, Item_Type='Snack Foods', Item_MRP=264.7568, Outlet_Identifier='OUT049', Outlet_Establishment_Year=1999, Outlet_Size='Medium', Outlet_Location_Type='Tier 1', Outlet_Type='Supermarket Type1', Item_Outlet_Sales=4745.8224),\n",
       " Row(Item_Identifier='FDA08', Item_Weight=11.85, Item_Fat_Content='Regular', Item_Visibility=0.050186726, Item_Type='Fruits and Vegetables', Item_MRP=164.1526, Outlet_Identifier='OUT045', Outlet_Establishment_Year=2002, Outlet_Size=None, Outlet_Location_Type='Tier 2', Outlet_Type='Supermarket Type1', Item_Outlet_Sales=3124.5994),\n",
       " Row(Item_Identifier='FDT43', Item_Weight=16.35, Item_Fat_Content='Low Fat', Item_Visibility=0.020631654, Item_Type='Fruits and Vegetables', Item_MRP=50.1324, Outlet_Identifier='OUT018', Outlet_Establishment_Year=2009, Outlet_Size='Medium', Outlet_Location_Type='Tier 3', Outlet_Type='Supermarket Type2', Item_Outlet_Sales=467.3916),\n",
       " Row(Item_Identifier='NCX06', Item_Weight=None, Item_Fat_Content='Low Fat', Item_Visibility=0.01561108, Item_Type='Household', Item_MRP=182.5976, Outlet_Identifier='OUT027', Outlet_Establishment_Year=1985, Outlet_Size='Medium', Outlet_Location_Type='Tier 3', Outlet_Type='Supermarket Type3', Item_Outlet_Sales=5070.7328),\n",
       " Row(Item_Identifier='FDT20', Item_Weight=10.5, Item_Fat_Content='Low Fat', Item_Visibility=0.041395445, Item_Type='Fruits and Vegetables', Item_MRP=37.6164, Outlet_Identifier='OUT046', Outlet_Establishment_Year=1997, Outlet_Size='Small', Outlet_Location_Type='Tier 1', Outlet_Type='Supermarket Type1', Item_Outlet_Sales=540.6296),\n",
       " Row(Item_Identifier='FDB41', Item_Weight=19.0, Item_Fat_Content='Regular', Item_Visibility=0.097313129, Item_Type='Frozen Foods', Item_MRP=48.0718, Outlet_Identifier='OUT046', Outlet_Establishment_Year=1997, Outlet_Size='Small', Outlet_Location_Type='Tier 1', Outlet_Type='Supermarket Type1', Item_Outlet_Sales=992.7078),\n",
       " Row(Item_Identifier='NCN55', Item_Weight=14.6, Item_Fat_Content='Low Fat', Item_Visibility=0.059582996, Item_Type='Others', Item_MRP=238.8538, Outlet_Identifier='OUT049', Outlet_Establishment_Year=1999, Outlet_Size='Medium', Outlet_Location_Type='Tier 1', Outlet_Type='Supermarket Type1', Item_Outlet_Sales=6008.845),\n",
       " Row(Item_Identifier='FDE40', Item_Weight=None, Item_Fat_Content='Regular', Item_Visibility=0.098663652, Item_Type='Dairy', Item_MRP=62.9194, Outlet_Identifier='OUT027', Outlet_Establishment_Year=1985, Outlet_Size='Medium', Outlet_Location_Type='Tier 3', Outlet_Type='Supermarket Type3', Item_Outlet_Sales=2105.2596),\n",
       " Row(Item_Identifier='FDX49', Item_Weight=None, Item_Fat_Content='reg', Item_Visibility=0.101338651, Item_Type='Canned', Item_MRP=232.63, Outlet_Identifier='OUT027', Outlet_Establishment_Year=1985, Outlet_Size='Medium', Outlet_Location_Type='Tier 3', Outlet_Type='Supermarket Type3', Item_Outlet_Sales=5359.69),\n",
       " Row(Item_Identifier='NCM53', Item_Weight=18.75, Item_Fat_Content='Low Fat', Item_Visibility=0.052146456, Item_Type='Health and Hygiene', Item_MRP=104.628, Outlet_Identifier='OUT045', Outlet_Establishment_Year=2002, Outlet_Size=None, Outlet_Location_Type='Tier 2', Outlet_Type='Supermarket Type1', Item_Outlet_Sales=745.696),\n",
       " Row(Item_Identifier='FDE36', Item_Weight=5.26, Item_Fat_Content='Regular', Item_Visibility=0.041764487, Item_Type='Baking Goods', Item_MRP=161.8868, Outlet_Identifier='OUT035', Outlet_Establishment_Year=2004, Outlet_Size='Small', Outlet_Location_Type='Tier 2', Outlet_Type='Supermarket Type1', Item_Outlet_Sales=3275.736),\n",
       " Row(Item_Identifier='FDN57', Item_Weight=18.25, Item_Fat_Content='Low Fat', Item_Visibility=0.054344186, Item_Type='Snack Foods', Item_MRP=140.2154, Outlet_Identifier='OUT045', Outlet_Establishment_Year=2002, Outlet_Size=None, Outlet_Location_Type='Tier 2', Outlet_Type='Supermarket Type1', Item_Outlet_Sales=1701.7848),\n",
       " Row(Item_Identifier='FDI24', Item_Weight=None, Item_Fat_Content='Low Fat', Item_Visibility=0.078362484, Item_Type='Baking Goods', Item_MRP=177.937, Outlet_Identifier='OUT027', Outlet_Establishment_Year=1985, Outlet_Size='Medium', Outlet_Location_Type='Tier 3', Outlet_Type='Supermarket Type3', Item_Outlet_Sales=6704.606),\n",
       " Row(Item_Identifier='FDI19', Item_Weight=15.1, Item_Fat_Content='Low Fat', Item_Visibility=0.052339069, Item_Type='Meat', Item_MRP=242.7512, Outlet_Identifier='OUT046', Outlet_Establishment_Year=1997, Outlet_Size='Small', Outlet_Location_Type='Tier 1', Outlet_Type='Supermarket Type1', Item_Outlet_Sales=4119.9704),\n",
       " Row(Item_Identifier='FDF24', Item_Weight=15.5, Item_Fat_Content='Regular', Item_Visibility=0.042464962, Item_Type='Baking Goods', Item_MRP=81.5934, Outlet_Identifier='OUT010', Outlet_Establishment_Year=1998, Outlet_Size=None, Outlet_Location_Type='Tier 3', Outlet_Type='Grocery Store', Item_Outlet_Sales=327.5736),\n",
       " Row(Item_Identifier='FDG52', Item_Weight=13.65, Item_Fat_Content='Low Fat', Item_Visibility=0.065732883, Item_Type='Frozen Foods', Item_MRP=45.7402, Outlet_Identifier='OUT049', Outlet_Establishment_Year=1999, Outlet_Size='Medium', Outlet_Location_Type='Tier 1', Outlet_Type='Supermarket Type1', Item_Outlet_Sales=780.9834),\n",
       " Row(Item_Identifier='DRF36', Item_Weight=16.1, Item_Fat_Content='LF', Item_Visibility=0.023625114, Item_Type='Soft Drinks', Item_MRP=189.3846, Outlet_Identifier='OUT045', Outlet_Establishment_Year=2002, Outlet_Size=None, Outlet_Location_Type='Tier 2', Outlet_Type='Supermarket Type1', Item_Outlet_Sales=3630.6074),\n",
       " Row(Item_Identifier='FDS45', Item_Weight=None, Item_Fat_Content='Regular', Item_Visibility=0.051643608, Item_Type='Snack Foods', Item_MRP=107.3622, Outlet_Identifier='OUT019', Outlet_Establishment_Year=1985, Outlet_Size='Small', Outlet_Location_Type='Tier 1', Outlet_Type='Grocery Store', Item_Outlet_Sales=317.5866),\n",
       " Row(Item_Identifier='FDX40', Item_Weight=12.85, Item_Fat_Content='Low Fat', Item_Visibility=0.165694219, Item_Type='Frozen Foods', Item_MRP=39.7164, Outlet_Identifier='OUT010', Outlet_Establishment_Year=1998, Outlet_Size=None, Outlet_Location_Type='Tier 3', Outlet_Type='Grocery Store', Item_Outlet_Sales=231.6984),\n",
       " Row(Item_Identifier='DRK12', Item_Weight=9.5, Item_Fat_Content='LF', Item_Visibility=0.041878397, Item_Type='Soft Drinks', Item_MRP=32.99, Outlet_Identifier='OUT035', Outlet_Establishment_Year=2004, Outlet_Size='Small', Outlet_Location_Type='Tier 2', Outlet_Type='Supermarket Type1', Item_Outlet_Sales=133.16),\n",
       " Row(Item_Identifier='DRC27', Item_Weight=13.8, Item_Fat_Content='Low Fat', Item_Visibility=0.058091482, Item_Type='Dairy', Item_MRP=245.1802, Outlet_Identifier='OUT035', Outlet_Establishment_Year=2004, Outlet_Size='Small', Outlet_Location_Type='Tier 2', Outlet_Type='Supermarket Type1', Item_Outlet_Sales=5650.6446),\n",
       " Row(Item_Identifier='FDL58', Item_Weight=5.78, Item_Fat_Content='Regular', Item_Visibility=0.0, Item_Type='Snack Foods', Item_MRP=263.7568, Outlet_Identifier='OUT017', Outlet_Establishment_Year=2007, Outlet_Size=None, Outlet_Location_Type='Tier 2', Outlet_Type='Supermarket Type1', Item_Outlet_Sales=2636.568),\n",
       " Row(Item_Identifier='NCD30', Item_Weight=19.7, Item_Fat_Content='Low Fat', Item_Visibility=0.026903714, Item_Type='Household', Item_MRP=96.0726, Outlet_Identifier='OUT045', Outlet_Establishment_Year=2002, Outlet_Size=None, Outlet_Location_Type='Tier 2', Outlet_Type='Supermarket Type1', Item_Outlet_Sales=1272.3438),\n",
       " Row(Item_Identifier='NCZ54', Item_Weight=14.65, Item_Fat_Content='Low Fat', Item_Visibility=0.0, Item_Type='Household', Item_MRP=161.5552, Outlet_Identifier='OUT010', Outlet_Establishment_Year=1998, Outlet_Size=None, Outlet_Location_Type='Tier 3', Outlet_Type='Grocery Store', Item_Outlet_Sales=324.9104),\n",
       " Row(Item_Identifier='FDE10', Item_Weight=6.67, Item_Fat_Content='Regular', Item_Visibility=0.150554711, Item_Type='Snack Foods', Item_MRP=130.0626, Outlet_Identifier='OUT010', Outlet_Establishment_Year=1998, Outlet_Size=None, Outlet_Location_Type='Tier 3', Outlet_Type='Grocery Store', Item_Outlet_Sales=131.1626),\n",
       " Row(Item_Identifier='FDR44', Item_Weight=6.11, Item_Fat_Content='Regular', Item_Visibility=0.0, Item_Type='Fruits and Vegetables', Item_MRP=131.2968, Outlet_Identifier='OUT010', Outlet_Establishment_Year=1998, Outlet_Size=None, Outlet_Location_Type='Tier 3', Outlet_Type='Grocery Store', Item_Outlet_Sales=260.9936),\n",
       " Row(Item_Identifier='FDP28', Item_Weight=13.65, Item_Fat_Content='Regular', Item_Visibility=0.134975628, Item_Type='Frozen Foods', Item_MRP=260.0936, Outlet_Identifier='OUT010', Outlet_Establishment_Year=1998, Outlet_Size=None, Outlet_Location_Type='Tier 3', Outlet_Type='Grocery Store', Item_Outlet_Sales=260.9936),\n",
       " Row(Item_Identifier='FDX15', Item_Weight=17.2, Item_Fat_Content='Low Fat', Item_Visibility=0.15616879, Item_Type='Meat', Item_MRP=160.6578, Outlet_Identifier='OUT013', Outlet_Establishment_Year=1987, Outlet_Size='High', Outlet_Location_Type='Tier 3', Outlet_Type='Supermarket Type1', Item_Outlet_Sales=3690.5294),\n",
       " Row(Item_Identifier='FDA39', Item_Weight=6.32, Item_Fat_Content='LF', Item_Visibility=0.0, Item_Type='Meat', Item_MRP=40.2822, Outlet_Identifier='OUT035', Outlet_Establishment_Year=2004, Outlet_Size='Small', Outlet_Location_Type='Tier 2', Outlet_Type='Supermarket Type1', Item_Outlet_Sales=1139.1838),\n",
       " Row(Item_Identifier='FDY24', Item_Weight=4.88, Item_Fat_Content='Regular', Item_Visibility=0.133700752, Item_Type='Baking Goods', Item_MRP=52.9298, Outlet_Identifier='OUT049', Outlet_Establishment_Year=1999, Outlet_Size='Medium', Outlet_Location_Type='Tier 1', Outlet_Type='Supermarket Type1', Item_Outlet_Sales=1995.4026),\n",
       " Row(Item_Identifier='FDC60', Item_Weight=5.425, Item_Fat_Content='Regular', Item_Visibility=0.115119905, Item_Type='Baking Goods', Item_MRP=88.3514, Outlet_Identifier='OUT017', Outlet_Establishment_Year=2007, Outlet_Size=None, Outlet_Location_Type='Tier 2', Outlet_Type='Supermarket Type1', Item_Outlet_Sales=1416.8224),\n",
       " Row(Item_Identifier='FDH28', Item_Weight=15.85, Item_Fat_Content='Regular', Item_Visibility=0.110030997, Item_Type='Frozen Foods', Item_MRP=37.2506, Outlet_Identifier='OUT046', Outlet_Establishment_Year=1997, Outlet_Size='Small', Outlet_Location_Type='Tier 1', Outlet_Type='Supermarket Type1', Item_Outlet_Sales=265.6542),\n",
       " Row(Item_Identifier='FDT25', Item_Weight=7.5, Item_Fat_Content='Low Fat', Item_Visibility=0.051038045, Item_Type='Canned', Item_MRP=121.7072, Outlet_Identifier='OUT017', Outlet_Establishment_Year=2007, Outlet_Size=None, Outlet_Location_Type='Tier 2', Outlet_Type='Supermarket Type1', Item_Outlet_Sales=3552.7088),\n",
       " Row(Item_Identifier='DRJ13', Item_Weight=12.65, Item_Fat_Content='Low Fat', Item_Visibility=0.062837968, Item_Type='Soft Drinks', Item_MRP=161.5578, Outlet_Identifier='OUT013', Outlet_Establishment_Year=1987, Outlet_Size='High', Outlet_Location_Type='Tier 3', Outlet_Type='Supermarket Type1', Item_Outlet_Sales=2406.867),\n",
       " Row(Item_Identifier='NCO07', Item_Weight=None, Item_Fat_Content='Low Fat', Item_Visibility=0.017116983, Item_Type='Others', Item_MRP=211.956, Outlet_Identifier='OUT019', Outlet_Establishment_Year=1985, Outlet_Size='Small', Outlet_Location_Type='Tier 1', Outlet_Type='Grocery Store', Item_Outlet_Sales=213.056),\n",
       " Row(Item_Identifier='FDW20', Item_Weight=20.75, Item_Fat_Content='Low Fat', Item_Visibility=0.024129332, Item_Type='Fruits and Vegetables', Item_MRP=124.173, Outlet_Identifier='OUT013', Outlet_Establishment_Year=1987, Outlet_Size='High', Outlet_Location_Type='Tier 3', Outlet_Type='Supermarket Type1', Item_Outlet_Sales=2956.152),\n",
       " Row(Item_Identifier='DRF27', Item_Weight=None, Item_Fat_Content='Low Fat', Item_Visibility=0.049754975, Item_Type='Dairy', Item_MRP=152.134, Outlet_Identifier='OUT019', Outlet_Establishment_Year=1985, Outlet_Size='Small', Outlet_Location_Type='Tier 1', Outlet_Type='Grocery Store', Item_Outlet_Sales=153.134),\n",
       " Row(Item_Identifier='FDS49', Item_Weight=9.0, Item_Fat_Content='Low Fat', Item_Visibility=0.0, Item_Type='Canned', Item_MRP=79.7644, Outlet_Identifier='OUT035', Outlet_Establishment_Year=2004, Outlet_Size='Small', Outlet_Location_Type='Tier 2', Outlet_Type='Supermarket Type1', Item_Outlet_Sales=1649.8524),\n",
       " Row(Item_Identifier='FDX25', Item_Weight=None, Item_Fat_Content='Low Fat', Item_Visibility=0.101561568, Item_Type='Canned', Item_MRP=181.9292, Outlet_Identifier='OUT027', Outlet_Establishment_Year=1985, Outlet_Size='Medium', Outlet_Location_Type='Tier 3', Outlet_Type='Supermarket Type3', Item_Outlet_Sales=3101.2964),\n",
       " Row(Item_Identifier='NCX42', Item_Weight=None, Item_Fat_Content='Low Fat', Item_Visibility=0.005949644, Item_Type='Household', Item_MRP=165.6526, Outlet_Identifier='OUT027', Outlet_Establishment_Year=1985, Outlet_Size='Medium', Outlet_Location_Type='Tier 3', Outlet_Type='Supermarket Type3', Item_Outlet_Sales=4769.1254),\n",
       " Row(Item_Identifier='FDG33', Item_Weight=None, Item_Fat_Content='Regular', Item_Visibility=0.13956116, Item_Type='Seafood', Item_MRP=170.4764, Outlet_Identifier='OUT027', Outlet_Establishment_Year=1985, Outlet_Size='Medium', Outlet_Location_Type='Tier 3', Outlet_Type='Supermarket Type3', Item_Outlet_Sales=3435.528),\n",
       " Row(Item_Identifier='FDL56', Item_Weight=14.1, Item_Fat_Content='Low Fat', Item_Visibility=0.126035694, Item_Type='Fruits and Vegetables', Item_MRP=86.4198, Outlet_Identifier='OUT045', Outlet_Establishment_Year=2002, Outlet_Size=None, Outlet_Location_Type='Tier 2', Outlet_Type='Supermarket Type1', Item_Outlet_Sales=1133.8574),\n",
       " Row(Item_Identifier='FDF14', Item_Weight=7.55, Item_Fat_Content='Low Fat', Item_Visibility=0.027164679, Item_Type='Canned', Item_MRP=152.334, Outlet_Identifier='OUT035', Outlet_Establishment_Year=2004, Outlet_Size='Small', Outlet_Location_Type='Tier 2', Outlet_Type='Supermarket Type1', Item_Outlet_Sales=2603.278),\n",
       " Row(Item_Identifier='NCD06', Item_Weight=13.0, Item_Fat_Content='Low Fat', Item_Visibility=0.099325278, Item_Type='Household', Item_MRP=45.406, Outlet_Identifier='OUT046', Outlet_Establishment_Year=1997, Outlet_Size='Small', Outlet_Location_Type='Tier 1', Outlet_Type='Supermarket Type1', Item_Outlet_Sales=605.878),\n",
       " Row(Item_Identifier='DRM47', Item_Weight=None, Item_Fat_Content='Low Fat', Item_Visibility=0.04357366, Item_Type='Hard Drinks', Item_MRP=192.8846, Outlet_Identifier='OUT027', Outlet_Establishment_Year=1985, Outlet_Size='Medium', Outlet_Location_Type='Tier 3', Outlet_Type='Supermarket Type3', Item_Outlet_Sales=2293.0152),\n",
       " Row(Item_Identifier='FDS46', Item_Weight=None, Item_Fat_Content='Regular', Item_Visibility=0.082741482, Item_Type='Snack Foods', Item_MRP=118.7782, Outlet_Identifier='OUT019', Outlet_Establishment_Year=1985, Outlet_Size='Small', Outlet_Location_Type='Tier 1', Outlet_Type='Grocery Store', Item_Outlet_Sales=119.1782),\n",
       " Row(Item_Identifier='FDB35', Item_Weight=12.3, Item_Fat_Content='Regular', Item_Visibility=0.064565202, Item_Type='Starchy Foods', Item_MRP=92.9804, Outlet_Identifier='OUT013', Outlet_Establishment_Year=1987, Outlet_Size='High', Outlet_Location_Type='Tier 3', Outlet_Type='Supermarket Type1', Item_Outlet_Sales=1929.4884),\n",
       " Row(Item_Identifier='FDX21', Item_Weight=None, Item_Fat_Content='LF', Item_Visibility=0.084554569, Item_Type='Snack Foods', Item_MRP=109.8912, Outlet_Identifier='OUT027', Outlet_Establishment_Year=1985, Outlet_Size='Medium', Outlet_Location_Type='Tier 3', Outlet_Type='Supermarket Type3', Item_Outlet_Sales=2074.6328),\n",
       " Row(Item_Identifier='NCU05', Item_Weight=None, Item_Fat_Content='Low Fat', Item_Visibility=0.058451805, Item_Type='Health and Hygiene', Item_MRP=79.9618, Outlet_Identifier='OUT027', Outlet_Establishment_Year=1985, Outlet_Size='Medium', Outlet_Location_Type='Tier 3', Outlet_Type='Supermarket Type3', Item_Outlet_Sales=241.6854),\n",
       " Row(Item_Identifier='NCR38', Item_Weight=17.25, Item_Fat_Content='Low Fat', Item_Visibility=0.113748685, Item_Type='Household', Item_MRP=251.3724, Outlet_Identifier='OUT045', Outlet_Establishment_Year=2002, Outlet_Size=None, Outlet_Location_Type='Tier 2', Outlet_Type='Supermarket Type1', Item_Outlet_Sales=6795.1548),\n",
       " Row(Item_Identifier='NCR18', Item_Weight=15.85, Item_Fat_Content='Low Fat', Item_Visibility=0.020603511, Item_Type='Household', Item_MRP=42.7112, Outlet_Identifier='OUT017', Outlet_Establishment_Year=2007, Outlet_Size=None, Outlet_Location_Type='Tier 2', Outlet_Type='Supermarket Type1', Item_Outlet_Sales=639.168),\n",
       " Row(Item_Identifier='NCU41', Item_Weight=18.85, Item_Fat_Content='Low Fat', Item_Visibility=0.052044976, Item_Type='Health and Hygiene', Item_MRP=192.1846, Outlet_Identifier='OUT035', Outlet_Establishment_Year=2004, Outlet_Size='Small', Outlet_Location_Type='Tier 2', Outlet_Type='Supermarket Type1', Item_Outlet_Sales=3248.4382),\n",
       " Row(Item_Identifier='FDY56', Item_Weight=16.35, Item_Fat_Content='Regular', Item_Visibility=0.062764429, Item_Type='Fruits and Vegetables', Item_MRP=227.6062, Outlet_Identifier='OUT017', Outlet_Establishment_Year=2007, Outlet_Size=None, Outlet_Location_Type='Tier 2', Outlet_Type='Supermarket Type1', Item_Outlet_Sales=7222.5984),\n",
       " Row(Item_Identifier='DRJ51', Item_Weight=14.1, Item_Fat_Content='Low Fat', Item_Visibility=0.087977262, Item_Type='Dairy', Item_MRP=229.0668, Outlet_Identifier='OUT035', Outlet_Establishment_Year=2004, Outlet_Size='Small', Outlet_Location_Type='Tier 2', Outlet_Type='Supermarket Type1', Item_Outlet_Sales=3225.1352),\n",
       " Row(Item_Identifier='FDK21', Item_Weight=7.905, Item_Fat_Content='Low Fat', Item_Visibility=0.010010425, Item_Type='Snack Foods', Item_MRP=249.0408, Outlet_Identifier='OUT035', Outlet_Establishment_Year=2004, Outlet_Size='Small', Outlet_Location_Type='Tier 2', Outlet_Type='Supermarket Type1', Item_Outlet_Sales=3755.112),\n",
       " Row(Item_Identifier='FDY25', Item_Weight=12.0, Item_Fat_Content='Low Fat', Item_Visibility=0.033946163, Item_Type='Canned', Item_MRP=179.3976, Outlet_Identifier='OUT013', Outlet_Establishment_Year=1987, Outlet_Size='High', Outlet_Location_Type='Tier 3', Outlet_Type='Supermarket Type1', Item_Outlet_Sales=3440.8544),\n",
       " Row(Item_Identifier='FDU44', Item_Weight=12.15, Item_Fat_Content='Regular', Item_Visibility=0.058414678, Item_Type='Fruits and Vegetables', Item_MRP=163.4552, Outlet_Identifier='OUT035', Outlet_Establishment_Year=2004, Outlet_Size='Small', Outlet_Location_Type='Tier 2', Outlet_Type='Supermarket Type1', Item_Outlet_Sales=974.7312),\n",
       " Row(Item_Identifier='FDL43', Item_Weight=10.1, Item_Fat_Content='Low Fat', Item_Visibility=0.027106459, Item_Type='Meat', Item_MRP=75.367, Outlet_Identifier='OUT049', Outlet_Establishment_Year=1999, Outlet_Size='Medium', Outlet_Location_Type='Tier 1', Outlet_Type='Supermarket Type1', Item_Outlet_Sales=535.969),\n",
       " Row(Item_Identifier='FDF05', Item_Weight=17.5, Item_Fat_Content='Low Fat', Item_Visibility=0.027022883, Item_Type='Frozen Foods', Item_MRP=262.491, Outlet_Identifier='OUT017', Outlet_Establishment_Year=2007, Outlet_Size=None, Outlet_Location_Type='Tier 2', Outlet_Type='Supermarket Type1', Item_Outlet_Sales=5259.82),\n",
       " Row(Item_Identifier='DRF15', Item_Weight=None, Item_Fat_Content='Low Fat', Item_Visibility=0.058153409, Item_Type='Dairy', Item_MRP=152.034, Outlet_Identifier='OUT019', Outlet_Establishment_Year=1985, Outlet_Size='Small', Outlet_Location_Type='Tier 1', Outlet_Type='Grocery Store', Item_Outlet_Sales=306.268),\n",
       " Row(Item_Identifier='FDL20', Item_Weight=17.1, Item_Fat_Content='Low Fat', Item_Visibility=0.128937661, Item_Type='Fruits and Vegetables', Item_MRP=112.3886, Outlet_Identifier='OUT018', Outlet_Establishment_Year=2009, Outlet_Size='Medium', Outlet_Location_Type='Tier 3', Outlet_Type='Supermarket Type2', Item_Outlet_Sales=1779.0176),\n",
       " Row(Item_Identifier='FDV32', Item_Weight=7.785, Item_Fat_Content='Low Fat', Item_Visibility=0.088846306, Item_Type='Fruits and Vegetables', Item_MRP=61.451, Outlet_Identifier='OUT049', Outlet_Establishment_Year=1999, Outlet_Size='Medium', Outlet_Location_Type='Tier 1', Outlet_Type='Supermarket Type1', Item_Outlet_Sales=759.012),\n",
       " Row(Item_Identifier='FDJ34', Item_Weight=11.8, Item_Fat_Content='Regular', Item_Visibility=0.09357779, Item_Type='Snack Foods', Item_MRP=125.9704, Outlet_Identifier='OUT013', Outlet_Establishment_Year=1987, Outlet_Size='High', Outlet_Location_Type='Tier 3', Outlet_Type='Supermarket Type1', Item_Outlet_Sales=1877.556),\n",
       " Row(Item_Identifier='FDG08', Item_Weight=13.15, Item_Fat_Content='Regular', Item_Visibility=0.165694678, Item_Type='Fruits and Vegetables', Item_MRP=171.8764, Outlet_Identifier='OUT045', Outlet_Establishment_Year=2002, Outlet_Size=None, Outlet_Location_Type='Tier 2', Outlet_Type='Supermarket Type1', Item_Outlet_Sales=3779.0808),\n",
       " Row(Item_Identifier='FDQ04', Item_Weight=None, Item_Fat_Content='Low Fat', Item_Visibility=0.148392623, Item_Type='Frozen Foods', Item_MRP=41.5796, Outlet_Identifier='OUT019', Outlet_Establishment_Year=1985, Outlet_Size='Small', Outlet_Location_Type='Tier 1', Outlet_Type='Grocery Store', Item_Outlet_Sales=41.2796),\n",
       " Row(Item_Identifier='FDW13', Item_Weight=8.5, Item_Fat_Content='Low Fat', Item_Visibility=0.098438394, Item_Type='Canned', Item_MRP=51.1324, Outlet_Identifier='OUT017', Outlet_Establishment_Year=2007, Outlet_Size=None, Outlet_Location_Type='Tier 2', Outlet_Type='Supermarket Type1', Item_Outlet_Sales=259.662),\n",
       " Row(Item_Identifier='NCI17', Item_Weight=8.645, Item_Fat_Content='Low Fat', Item_Visibility=0.143303291, Item_Type='Health and Hygiene', Item_MRP=96.341, Outlet_Identifier='OUT013', Outlet_Establishment_Year=1987, Outlet_Size='High', Outlet_Location_Type='Tier 3', Outlet_Type='Supermarket Type1', Item_Outlet_Sales=193.082),\n",
       " Row(Item_Identifier='FDY03', Item_Weight=17.6, Item_Fat_Content='Regular', Item_Visibility=0.076276208, Item_Type='Meat', Item_MRP=110.9202, Outlet_Identifier='OUT045', Outlet_Establishment_Year=2002, Outlet_Size=None, Outlet_Location_Type='Tier 2', Outlet_Type='Supermarket Type1', Item_Outlet_Sales=1687.803),\n",
       " Row(Item_Identifier='FDS12', Item_Weight=9.1, Item_Fat_Content='Low Fat', Item_Visibility=0.175103435, Item_Type='Baking Goods', Item_MRP=127.5362, Outlet_Identifier='OUT017', Outlet_Establishment_Year=2007, Outlet_Size=None, Outlet_Location_Type='Tier 2', Outlet_Type='Supermarket Type1', Item_Outlet_Sales=4655.9394),\n",
       " Row(Item_Identifier='FDJ55', Item_Weight=12.8, Item_Fat_Content='Regular', Item_Visibility=0.023511371, Item_Type='Meat', Item_MRP=225.9404, Outlet_Identifier='OUT013', Outlet_Establishment_Year=1987, Outlet_Size='High', Outlet_Location_Type='Tier 3', Outlet_Type='Supermarket Type1', Item_Outlet_Sales=4950.8888),\n",
       " Row(Item_Identifier='DRK01', Item_Weight=7.63, Item_Fat_Content='Low Fat', Item_Visibility=0.06105276, Item_Type='Soft Drinks', Item_MRP=95.4436, Outlet_Identifier='OUT035', Outlet_Establishment_Year=2004, Outlet_Size='Small', Outlet_Location_Type='Tier 2', Outlet_Type='Supermarket Type1', Item_Outlet_Sales=1418.154),\n",
       " Row(Item_Identifier='FDG28', Item_Weight=9.285, Item_Fat_Content='Regular', Item_Visibility=0.049559042, Item_Type='Frozen Foods', Item_MRP=246.4144, Outlet_Identifier='OUT017', Outlet_Establishment_Year=2007, Outlet_Size=None, Outlet_Location_Type='Tier 2', Outlet_Type='Supermarket Type1', Item_Outlet_Sales=1225.072),\n",
       " Row(Item_Identifier='FDY38', Item_Weight=13.6, Item_Fat_Content='Regular', Item_Visibility=0.119418124, Item_Type='Dairy', Item_MRP=231.03, Outlet_Identifier='OUT045', Outlet_Establishment_Year=2002, Outlet_Size=None, Outlet_Location_Type='Tier 2', Outlet_Type='Supermarket Type1', Item_Outlet_Sales=5359.69),\n",
       " Row(Item_Identifier='FDN01', Item_Weight=8.895, Item_Fat_Content='Low Fat', Item_Visibility=0.072545601, Item_Type='Breakfast', Item_MRP=176.237, Outlet_Identifier='OUT045', Outlet_Establishment_Year=2002, Outlet_Size=None, Outlet_Location_Type='Tier 2', Outlet_Type='Supermarket Type1', Item_Outlet_Sales=1764.37),\n",
       " Row(Item_Identifier='NCR54', Item_Weight=16.35, Item_Fat_Content='Low Fat', Item_Visibility=0.090486828, Item_Type='Household', Item_MRP=195.211, Outlet_Identifier='OUT013', Outlet_Establishment_Year=1987, Outlet_Size='High', Outlet_Location_Type='Tier 3', Outlet_Type='Supermarket Type1', Item_Outlet_Sales=2553.343),\n",
       " Row(Item_Identifier='FDG29', Item_Weight=17.6, Item_Fat_Content='Low Fat', Item_Visibility=0.056245075, Item_Type='Frozen Foods', Item_MRP=43.3454, Outlet_Identifier='OUT013', Outlet_Establishment_Year=1987, Outlet_Size='High', Outlet_Location_Type='Tier 3', Outlet_Type='Supermarket Type1', Item_Outlet_Sales=1006.6896),\n",
       " Row(Item_Identifier='FDG24', Item_Weight=7.975, Item_Fat_Content='Low Fat', Item_Visibility=0.014618973, Item_Type='Baking Goods', Item_MRP=85.225, Outlet_Identifier='OUT013', Outlet_Establishment_Year=1987, Outlet_Size='High', Outlet_Location_Type='Tier 3', Outlet_Type='Supermarket Type1', Item_Outlet_Sales=1081.925),\n",
       " Row(Item_Identifier='FDG59', Item_Weight=15.85, Item_Fat_Content='Low Fat', Item_Visibility=0.043479126, Item_Type='Starchy Foods', Item_MRP=36.7164, Outlet_Identifier='OUT017', Outlet_Establishment_Year=2007, Outlet_Size=None, Outlet_Location_Type='Tier 2', Outlet_Type='Supermarket Type1', Item_Outlet_Sales=308.9312),\n",
       " Row(Item_Identifier='FDM28', Item_Weight=15.7, Item_Fat_Content='Low Fat', Item_Visibility=0.045166237, Item_Type='Frozen Foods', Item_MRP=178.666, Outlet_Identifier='OUT013', Outlet_Establishment_Year=1987, Outlet_Size='High', Outlet_Location_Type='Tier 3', Outlet_Type='Supermarket Type1', Item_Outlet_Sales=2516.724),\n",
       " Row(Item_Identifier='FDW04', Item_Weight=8.985, Item_Fat_Content='Regular', Item_Visibility=0.057827101, Item_Type='Frozen Foods', Item_MRP=128.831, Outlet_Identifier='OUT046', Outlet_Establishment_Year=1997, Outlet_Size='Small', Outlet_Location_Type='Tier 1', Outlet_Type='Supermarket Type1', Item_Outlet_Sales=1428.141),\n",
       " Row(Item_Identifier='FDS26', Item_Weight=20.35, Item_Fat_Content='Low Fat', Item_Visibility=0.089394766, Item_Type='Dairy', Item_MRP=260.1594, Outlet_Identifier='OUT013', Outlet_Establishment_Year=1987, Outlet_Size='High', Outlet_Location_Type='Tier 3', Outlet_Type='Supermarket Type1', Item_Outlet_Sales=2093.2752),\n",
       " Row(Item_Identifier='FDQ56', Item_Weight=6.59, Item_Fat_Content='Low Fat', Item_Visibility=0.10550944, Item_Type='Fruits and Vegetables', Item_MRP=85.6908, Outlet_Identifier='OUT013', Outlet_Establishment_Year=1987, Outlet_Size='High', Outlet_Location_Type='Tier 3', Outlet_Type='Supermarket Type1', Item_Outlet_Sales=1929.4884),\n",
       " Row(Item_Identifier='FDK51', Item_Weight=19.85, Item_Fat_Content='Low Fat', Item_Visibility=0.005234153, Item_Type='Dairy', Item_MRP=264.0884, Outlet_Identifier='OUT035', Outlet_Establishment_Year=2004, Outlet_Size='Small', Outlet_Location_Type='Tier 2', Outlet_Type='Supermarket Type1', Item_Outlet_Sales=5829.7448),\n",
       " Row(Item_Identifier='FDL22', Item_Weight=16.85, Item_Fat_Content='Low Fat', Item_Visibility=0.036390174, Item_Type='Snack Foods', Item_MRP=91.4488, Outlet_Identifier='OUT046', Outlet_Establishment_Year=1997, Outlet_Size='Small', Outlet_Location_Type='Tier 1', Outlet_Type='Supermarket Type1', Item_Outlet_Sales=2082.6224),\n",
       " Row(Item_Identifier='FDH19', Item_Weight=None, Item_Fat_Content='Low Fat', Item_Visibility=0.03292824, Item_Type='Meat', Item_MRP=173.1738, Outlet_Identifier='OUT027', Outlet_Establishment_Year=1985, Outlet_Size='Medium', Outlet_Location_Type='Tier 3', Outlet_Type='Supermarket Type3', Item_Outlet_Sales=7298.4996),\n",
       " Row(Item_Identifier='FDY55', Item_Weight=16.75, Item_Fat_Content='Low Fat', Item_Visibility=0.081252534, Item_Type='Fruits and Vegetables', Item_MRP=256.4988, Outlet_Identifier='OUT013', Outlet_Establishment_Year=1987, Outlet_Size='High', Outlet_Location_Type='Tier 3', Outlet_Type='Supermarket Type1', Item_Outlet_Sales=7452.9652),\n",
       " Row(Item_Identifier='FDY03', Item_Weight=17.6, Item_Fat_Content='Regular', Item_Visibility=0.076552407, Item_Type='Meat', Item_MRP=110.5202, Outlet_Identifier='OUT017', Outlet_Establishment_Year=2007, Outlet_Size=None, Outlet_Location_Type='Tier 2', Outlet_Type='Supermarket Type1', Item_Outlet_Sales=450.0808),\n",
       " Row(Item_Identifier='FDK21', Item_Weight=7.905, Item_Fat_Content='Low Fat', Item_Visibility=0.016758569, Item_Type='Snack Foods', Item_MRP=250.4408, Outlet_Identifier='OUT010', Outlet_Establishment_Year=1998, Outlet_Size=None, Outlet_Location_Type='Tier 3', Outlet_Type='Grocery Store', Item_Outlet_Sales=500.6816),\n",
       " Row(Item_Identifier='FDZ10', Item_Weight=None, Item_Fat_Content='Low Fat', Item_Visibility=0.044248175, Item_Type='Snack Foods', Item_MRP=126.202, Outlet_Identifier='OUT027', Outlet_Establishment_Year=1985, Outlet_Size='Medium', Outlet_Location_Type='Tier 3', Outlet_Type='Supermarket Type3', Item_Outlet_Sales=3668.558),\n",
       " Row(Item_Identifier='FDZ32', Item_Weight=7.785, Item_Fat_Content='Regular', Item_Visibility=0.038288087, Item_Type='Fruits and Vegetables', Item_MRP=103.1964, Outlet_Identifier='OUT018', Outlet_Establishment_Year=2009, Outlet_Size='Medium', Outlet_Location_Type='Tier 3', Outlet_Type='Supermarket Type2', Item_Outlet_Sales=736.3748),\n",
       " Row(Item_Identifier='NCZ18', Item_Weight=7.825, Item_Fat_Content='Low Fat', Item_Visibility=0.186032678, Item_Type='Household', Item_MRP=253.0698, Outlet_Identifier='OUT035', Outlet_Establishment_Year=2004, Outlet_Size='Small', Outlet_Location_Type='Tier 2', Outlet_Type='Supermarket Type1', Item_Outlet_Sales=6088.0752),\n",
       " Row(Item_Identifier='NCF07', Item_Weight=None, Item_Fat_Content='Low Fat', Item_Visibility=0.031867464, Item_Type='Household', Item_MRP=101.0016, Outlet_Identifier='OUT027', Outlet_Establishment_Year=1985, Outlet_Size='Medium', Outlet_Location_Type='Tier 3', Outlet_Type='Supermarket Type3', Item_Outlet_Sales=2125.2336),\n",
       " Row(Item_Identifier='DRE49', Item_Weight=20.75, Item_Fat_Content='Low Fat', Item_Visibility=0.021370201, Item_Type='Soft Drinks', Item_MRP=153.0024, Outlet_Identifier='OUT017', Outlet_Establishment_Year=2007, Outlet_Size=None, Outlet_Location_Type='Tier 2', Outlet_Type='Supermarket Type1', Item_Outlet_Sales=2277.036),\n",
       " Row(Item_Identifier='FDJ08', Item_Weight=None, Item_Fat_Content='Low Fat', Item_Visibility=0.193772568, Item_Type='Fruits and Vegetables', Item_MRP=190.3846, Outlet_Identifier='OUT019', Outlet_Establishment_Year=1985, Outlet_Size='Small', Outlet_Location_Type='Tier 1', Outlet_Type='Grocery Store', Item_Outlet_Sales=573.2538),\n",
       " Row(Item_Identifier='FDT39', Item_Weight=6.26, Item_Fat_Content='Regular', Item_Visibility=0.009866049, Item_Type='Meat', Item_MRP=151.1366, Outlet_Identifier='OUT035', Outlet_Establishment_Year=2004, Outlet_Size='Small', Outlet_Location_Type='Tier 2', Outlet_Type='Supermarket Type1', Item_Outlet_Sales=2267.049),\n",
       " Row(Item_Identifier='FDE08', Item_Weight=18.2, Item_Fat_Content='Low Fat', Item_Visibility=0.082551042, Item_Type='Fruits and Vegetables', Item_MRP=147.3734, Outlet_Identifier='OUT010', Outlet_Establishment_Year=1998, Outlet_Size=None, Outlet_Location_Type='Tier 3', Outlet_Type='Grocery Store', Item_Outlet_Sales=296.9468),\n",
       " Row(Item_Identifier='NCD06', Item_Weight=13.0, Item_Fat_Content='Low Fat', Item_Visibility=0.099729888, Item_Type='Household', Item_MRP=46.306, Outlet_Identifier='OUT018', Outlet_Establishment_Year=2009, Outlet_Size='Medium', Outlet_Location_Type='Tier 3', Outlet_Type='Supermarket Type2', Item_Outlet_Sales=559.272),\n",
       " Row(Item_Identifier='FDB57', Item_Weight=20.25, Item_Fat_Content='Regular', Item_Visibility=0.018801549, Item_Type='Fruits and Vegetables', Item_MRP=222.1772, Outlet_Identifier='OUT035', Outlet_Establishment_Year=2004, Outlet_Size='Small', Outlet_Location_Type='Tier 2', Outlet_Type='Supermarket Type1', Item_Outlet_Sales=5559.43),\n",
       " Row(Item_Identifier='NCT54', Item_Weight=8.695, Item_Fat_Content='Low Fat', Item_Visibility=0.119721451, Item_Type='Household', Item_MRP=95.5094, Outlet_Identifier='OUT049', Outlet_Establishment_Year=1999, Outlet_Size='Medium', Outlet_Location_Type='Tier 1', Outlet_Type='Supermarket Type1', Item_Outlet_Sales=1237.7222),\n",
       " Row(Item_Identifier='DRF49', Item_Weight=7.27, Item_Fat_Content='Low Fat', Item_Visibility=0.071222087, Item_Type='Soft Drinks', Item_MRP=113.5518, Outlet_Identifier='OUT045', Outlet_Establishment_Year=2002, Outlet_Size=None, Outlet_Location_Type='Tier 2', Outlet_Type='Supermarket Type1', Item_Outlet_Sales=569.259),\n",
       " Row(Item_Identifier='FDM25', Item_Weight=None, Item_Fat_Content='Regular', Item_Visibility=0.060371962, Item_Type='Breakfast', Item_MRP=174.0712, Outlet_Identifier='OUT027', Outlet_Establishment_Year=1985, Outlet_Size='Medium', Outlet_Location_Type='Tier 3', Outlet_Type='Supermarket Type3', Item_Outlet_Sales=3866.9664),\n",
       " Row(Item_Identifier='FDF20', Item_Weight=12.85, Item_Fat_Content='low fat', Item_Visibility=0.033287541, Item_Type='Fruits and Vegetables', Item_MRP=198.4768, Outlet_Identifier='OUT045', Outlet_Establishment_Year=2002, Outlet_Size=None, Outlet_Location_Type='Tier 2', Outlet_Type='Supermarket Type1', Item_Outlet_Sales=1379.5376),\n",
       " Row(Item_Identifier='FDH27', Item_Weight=7.075, Item_Fat_Content='Low Fat', Item_Visibility=0.05858462, Item_Type='Dairy', Item_MRP=142.7128, Outlet_Identifier='OUT018', Outlet_Establishment_Year=2009, Outlet_Size='Medium', Outlet_Location_Type='Tier 3', Outlet_Type='Supermarket Type2', Item_Outlet_Sales=1869.5664),\n",
       " Row(Item_Identifier='FDV60', Item_Weight=None, Item_Fat_Content='Regular', Item_Visibility=0.11679292, Item_Type='Baking Goods', Item_MRP=196.211, Outlet_Identifier='OUT027', Outlet_Establishment_Year=1985, Outlet_Size='Medium', Outlet_Location_Type='Tier 3', Outlet_Type='Supermarket Type3', Item_Outlet_Sales=5499.508),\n",
       " Row(Item_Identifier='FDY59', Item_Weight=8.195, Item_Fat_Content='Low Fat', Item_Visibility=0.031452265, Item_Type='Baking Goods', Item_MRP=94.3462, Outlet_Identifier='OUT049', Outlet_Establishment_Year=1999, Outlet_Size='Medium', Outlet_Location_Type='Tier 1', Outlet_Type='Supermarket Type1', Item_Outlet_Sales=925.462),\n",
       " Row(Item_Identifier='FDK36', Item_Weight=7.09, Item_Fat_Content='Low Fat', Item_Visibility=0.00721395, Item_Type='Baking Goods', Item_MRP=47.9034, Outlet_Identifier='OUT035', Outlet_Establishment_Year=2004, Outlet_Size='Small', Outlet_Location_Type='Tier 2', Outlet_Type='Supermarket Type1', Item_Outlet_Sales=583.2408),\n",
       " Row(Item_Identifier='NCM31', Item_Weight=6.095, Item_Fat_Content='Low Fat', Item_Visibility=0.081196619, Item_Type='Others', Item_MRP=141.4154, Outlet_Identifier='OUT046', Outlet_Establishment_Year=1997, Outlet_Size='Small', Outlet_Location_Type='Tier 1', Outlet_Type='Supermarket Type1', Item_Outlet_Sales=1418.154),\n",
       " Row(Item_Identifier='FDE33', Item_Weight=19.35, Item_Fat_Content='Regular', Item_Visibility=0.049916364, Item_Type='Fruits and Vegetables', Item_MRP=80.2644, Outlet_Identifier='OUT017', Outlet_Establishment_Year=2007, Outlet_Size=None, Outlet_Location_Type='Tier 2', Outlet_Type='Supermarket Type1', Item_Outlet_Sales=942.7728),\n",
       " Row(Item_Identifier='FDU36', Item_Weight=6.15, Item_Fat_Content='Low Fat', Item_Visibility=0.04627095, Item_Type='Baking Goods', Item_MRP=99.3384, Outlet_Identifier='OUT046', Outlet_Establishment_Year=1997, Outlet_Size='Small', Outlet_Location_Type='Tier 1', Outlet_Type='Supermarket Type1', Item_Outlet_Sales=2364.9216),\n",
       " Row(Item_Identifier='FDV13', Item_Weight=None, Item_Fat_Content='Regular', Item_Visibility=0.02747716, Item_Type='Canned', Item_MRP=87.9856, Outlet_Identifier='OUT027', Outlet_Establishment_Year=1985, Outlet_Size='Medium', Outlet_Location_Type='Tier 3', Outlet_Type='Supermarket Type3', Item_Outlet_Sales=3251.7672),\n",
       " Row(Item_Identifier='FDV20', Item_Weight=None, Item_Fat_Content='Regular', Item_Visibility=0.104704537, Item_Type='Fruits and Vegetables', Item_MRP=125.2678, Outlet_Identifier='OUT019', Outlet_Establishment_Year=1985, Outlet_Size='Small', Outlet_Location_Type='Tier 1', Outlet_Type='Grocery Store', Item_Outlet_Sales=254.3356),\n",
       " Row(Item_Identifier='NCQ54', Item_Weight=17.7, Item_Fat_Content='Low Fat', Item_Visibility=0.012540003, Item_Type='Household', Item_MRP=167.0474, Outlet_Identifier='OUT035', Outlet_Establishment_Year=2004, Outlet_Size='Small', Outlet_Location_Type='Tier 2', Outlet_Type='Supermarket Type1', Item_Outlet_Sales=5895.659),\n",
       " Row(Item_Identifier='FDO23', Item_Weight=17.85, Item_Fat_Content='Low Fat', Item_Visibility=0.147023834, Item_Type='Breads', Item_MRP=93.7436, Outlet_Identifier='OUT018', Outlet_Establishment_Year=2009, Outlet_Size='Medium', Outlet_Location_Type='Tier 3', Outlet_Type='Supermarket Type2', Item_Outlet_Sales=1134.5232),\n",
       " Row(Item_Identifier='DRE60', Item_Weight=9.395, Item_Fat_Content='Low Fat', Item_Visibility=0.159657596, Item_Type='Soft Drinks', Item_MRP=224.972, Outlet_Identifier='OUT045', Outlet_Establishment_Year=2002, Outlet_Size=None, Outlet_Location_Type='Tier 2', Outlet_Type='Supermarket Type1', Item_Outlet_Sales=7696.648),\n",
       " Row(Item_Identifier='DRP47', Item_Weight=15.75, Item_Fat_Content='Low Fat', Item_Visibility=0.141398626, Item_Type='Hard Drinks', Item_MRP=250.5382, Outlet_Identifier='OUT017', Outlet_Establishment_Year=2007, Outlet_Size=None, Outlet_Location_Type='Tier 2', Outlet_Type='Supermarket Type1', Item_Outlet_Sales=2775.7202),\n",
       " Row(Item_Identifier='FDB21', Item_Weight=7.475, Item_Fat_Content='Low Fat', Item_Visibility=0.148821808, Item_Type='Fruits and Vegetables', Item_MRP=241.2854, Outlet_Identifier='OUT045', Outlet_Establishment_Year=2002, Outlet_Size=None, Outlet_Location_Type='Tier 2', Outlet_Type='Supermarket Type1', Item_Outlet_Sales=5317.0788),\n",
       " Row(Item_Identifier='FDR04', Item_Weight=7.075, Item_Fat_Content='Low Fat', Item_Visibility=0.0, Item_Type='Frozen Foods', Item_MRP=98.0068, Outlet_Identifier='OUT018', Outlet_Establishment_Year=2009, Outlet_Size='Medium', Outlet_Location_Type='Tier 3', Outlet_Type='Supermarket Type2', Item_Outlet_Sales=874.8612),\n",
       " Row(Item_Identifier='FDX23', Item_Weight=6.445, Item_Fat_Content='Low Fat', Item_Visibility=0.029691762, Item_Type='Baking Goods', Item_MRP=92.6436, Outlet_Identifier='OUT046', Outlet_Establishment_Year=1997, Outlet_Size='Small', Outlet_Location_Type='Tier 1', Outlet_Type='Supermarket Type1', Item_Outlet_Sales=1039.9796),\n",
       " Row(Item_Identifier='FDX19', Item_Weight=19.1, Item_Fat_Content='Low Fat', Item_Visibility=0.096715523, Item_Type='Fruits and Vegetables', Item_MRP=235.0958, Outlet_Identifier='OUT035', Outlet_Establishment_Year=2004, Outlet_Size='Small', Outlet_Location_Type='Tier 2', Outlet_Type='Supermarket Type1', Item_Outlet_Sales=3038.0454),\n",
       " Row(Item_Identifier='FDD40', Item_Weight=20.25, Item_Fat_Content='Regular', Item_Visibility=0.014790559, Item_Type='Dairy', Item_MRP=193.6162, Outlet_Identifier='OUT035', Outlet_Establishment_Year=2004, Outlet_Size='Small', Outlet_Location_Type='Tier 2', Outlet_Type='Supermarket Type1', Item_Outlet_Sales=3848.324),\n",
       " Row(Item_Identifier='FDA01', Item_Weight=15.0, Item_Fat_Content='Regular', Item_Visibility=0.054378253, Item_Type='Canned', Item_MRP=59.1904, Outlet_Identifier='OUT046', Outlet_Establishment_Year=1997, Outlet_Size='Small', Outlet_Location_Type='Tier 1', Outlet_Type='Supermarket Type1', Item_Outlet_Sales=527.3136),\n",
       " Row(Item_Identifier='FDS33', Item_Weight=6.67, Item_Fat_Content='Regular', Item_Visibility=0.123428594, Item_Type='Snack Foods', Item_MRP=89.1514, Outlet_Identifier='OUT046', Outlet_Establishment_Year=1997, Outlet_Size='Small', Outlet_Location_Type='Tier 1', Outlet_Type='Supermarket Type1', Item_Outlet_Sales=2390.8878),\n",
       " Row(Item_Identifier='FDM50', Item_Weight=None, Item_Fat_Content='Regular', Item_Visibility=0.029943463, Item_Type='Canned', Item_MRP=60.222, Outlet_Identifier='OUT027', Outlet_Establishment_Year=1985, Outlet_Size='Medium', Outlet_Location_Type='Tier 3', Outlet_Type='Supermarket Type3', Item_Outlet_Sales=1677.816),\n",
       " Row(Item_Identifier='FDB29', Item_Weight=16.7, Item_Fat_Content='Regular', Item_Visibility=0.052368061, Item_Type='Frozen Foods', Item_MRP=112.7176, Outlet_Identifier='OUT013', Outlet_Establishment_Year=1987, Outlet_Size='High', Outlet_Location_Type='Tier 3', Outlet_Type='Supermarket Type1', Item_Outlet_Sales=801.6232),\n",
       " Row(Item_Identifier='FDF46', Item_Weight=7.07, Item_Fat_Content='Low Fat', Item_Visibility=0.093861144, Item_Type='Snack Foods', Item_MRP=115.5834, Outlet_Identifier='OUT045', Outlet_Establishment_Year=2002, Outlet_Size=None, Outlet_Location_Type='Tier 2', Outlet_Type='Supermarket Type1', Item_Outlet_Sales=1267.0174),\n",
       " Row(Item_Identifier='FDA33', Item_Weight=6.48, Item_Fat_Content='Low Fat', Item_Visibility=0.033968647, Item_Type='Snack Foods', Item_MRP=148.0076, Outlet_Identifier='OUT045', Outlet_Establishment_Year=2002, Outlet_Size=None, Outlet_Location_Type='Tier 2', Outlet_Type='Supermarket Type1', Item_Outlet_Sales=886.8456),\n",
       " Row(Item_Identifier='FDC08', Item_Weight=19.0, Item_Fat_Content='Regular', Item_Visibility=0.173154079, Item_Type='Fruits and Vegetables', Item_MRP=228.272, Outlet_Identifier='OUT010', Outlet_Establishment_Year=1998, Outlet_Size=None, Outlet_Location_Type='Tier 3', Outlet_Type='Grocery Store', Item_Outlet_Sales=452.744),\n",
       " Row(Item_Identifier='FDB53', Item_Weight=13.35, Item_Fat_Content='Low Fat', Item_Visibility=0.139735226, Item_Type='Frozen Foods', Item_MRP=147.5392, Outlet_Identifier='OUT045', Outlet_Establishment_Year=2002, Outlet_Size=None, Outlet_Location_Type='Tier 2', Outlet_Type='Supermarket Type1', Item_Outlet_Sales=3877.6192),\n",
       " Row(Item_Identifier='FDY31', Item_Weight=None, Item_Fat_Content='Low Fat', Item_Visibility=0.043351896, Item_Type='Fruits and Vegetables', Item_MRP=146.6418, Outlet_Identifier='OUT027', Outlet_Establishment_Year=1985, Outlet_Size='Medium', Outlet_Location_Type='Tier 3', Outlet_Type='Supermarket Type3', Item_Outlet_Sales=4414.254),\n",
       " Row(Item_Identifier='DRQ35', Item_Weight=None, Item_Fat_Content='Low Fat', Item_Visibility=0.042086652, Item_Type='Hard Drinks', Item_MRP=122.4388, Outlet_Identifier='OUT027', Outlet_Establishment_Year=1985, Outlet_Size='Medium', Outlet_Location_Type='Tier 3', Outlet_Type='Supermarket Type3', Item_Outlet_Sales=5448.9072),\n",
       " Row(Item_Identifier='FDX36', Item_Weight=9.695, Item_Fat_Content='Regular', Item_Visibility=0.12848269, Item_Type='Baking Goods', Item_MRP=223.9404, Outlet_Identifier='OUT049', Outlet_Establishment_Year=1999, Outlet_Size='Medium', Outlet_Location_Type='Tier 1', Outlet_Type='Supermarket Type1', Item_Outlet_Sales=4950.8888),\n",
       " Row(Item_Identifier='DRD13', Item_Weight=15.0, Item_Fat_Content='Low Fat', Item_Visibility=0.049357077, Item_Type='Soft Drinks', Item_MRP=62.6168, Outlet_Identifier='OUT017', Outlet_Establishment_Year=2007, Outlet_Size=None, Outlet_Location_Type='Tier 2', Outlet_Type='Supermarket Type1', Item_Outlet_Sales=958.752),\n",
       " Row(Item_Identifier='FDC52', Item_Weight=11.15, Item_Fat_Content='Regular', Item_Visibility=0.008326735, Item_Type='Dairy', Item_MRP=149.9708, Outlet_Identifier='OUT017', Outlet_Establishment_Year=2007, Outlet_Size=None, Outlet_Location_Type='Tier 2', Outlet_Type='Supermarket Type1', Item_Outlet_Sales=1956.1204),\n",
       " Row(Item_Identifier='FDB45', Item_Weight=20.85, Item_Fat_Content='Low Fat', Item_Visibility=0.021362955, Item_Type='Fruits and Vegetables', Item_MRP=103.2306, Outlet_Identifier='OUT049', Outlet_Establishment_Year=1999, Outlet_Size='Medium', Outlet_Location_Type='Tier 1', Outlet_Type='Supermarket Type1', Item_Outlet_Sales=2404.2038),\n",
       " Row(Item_Identifier='NCK19', Item_Weight=9.8, Item_Fat_Content='Low Fat', Item_Visibility=0.151420934, Item_Type='Others', Item_MRP=194.3478, Outlet_Identifier='OUT010', Outlet_Establishment_Year=1998, Outlet_Size=None, Outlet_Location_Type='Tier 3', Outlet_Type='Grocery Store', Item_Outlet_Sales=387.4956),\n",
       " Row(Item_Identifier='FDV51', Item_Weight=16.35, Item_Fat_Content='Low Fat', Item_Visibility=0.032511818, Item_Type='Meat', Item_MRP=165.0842, Outlet_Identifier='OUT013', Outlet_Establishment_Year=1987, Outlet_Size='High', Outlet_Location_Type='Tier 3', Outlet_Type='Supermarket Type1', Item_Outlet_Sales=994.7052),\n",
       " Row(Item_Identifier='FDZ35', Item_Weight=9.6, Item_Fat_Content='Regular', Item_Visibility=0.022323658, Item_Type='Breads', Item_MRP=101.299, Outlet_Identifier='OUT045', Outlet_Establishment_Year=2002, Outlet_Size=None, Outlet_Location_Type='Tier 2', Outlet_Type='Supermarket Type1', Item_Outlet_Sales=1754.383),\n",
       " Row(Item_Identifier='NCW17', Item_Weight=None, Item_Fat_Content='Low Fat', Item_Visibility=0.019292355, Item_Type='Health and Hygiene', Item_MRP=129.9994, Outlet_Identifier='OUT027', Outlet_Establishment_Year=1985, Outlet_Size='Medium', Outlet_Location_Type='Tier 3', Outlet_Type='Supermarket Type3', Item_Outlet_Sales=3340.9844),\n",
       " Row(Item_Identifier='FDV59', Item_Weight=13.35, Item_Fat_Content='Low Fat', Item_Visibility=0.048124443, Item_Type='Breads', Item_MRP=216.7166, Outlet_Identifier='OUT045', Outlet_Establishment_Year=2002, Outlet_Size=None, Outlet_Location_Type='Tier 2', Outlet_Type='Supermarket Type1', Item_Outlet_Sales=3918.8988),\n",
       " Row(Item_Identifier='DRH39', Item_Weight=20.7, Item_Fat_Content='Low Fat', Item_Visibility=0.09261307, Item_Type='Dairy', Item_MRP=76.367, Outlet_Identifier='OUT013', Outlet_Establishment_Year=1987, Outlet_Size='High', Outlet_Location_Type='Tier 3', Outlet_Type='Supermarket Type1', Item_Outlet_Sales=306.268),\n",
       " Row(Item_Identifier='FDN60', Item_Weight=None, Item_Fat_Content='Low Fat', Item_Visibility=0.094697274, Item_Type='Baking Goods', Item_MRP=158.4604, Outlet_Identifier='OUT027', Outlet_Establishment_Year=1985, Outlet_Size='Medium', Outlet_Location_Type='Tier 3', Outlet_Type='Supermarket Type3', Item_Outlet_Sales=4278.4308),\n",
       " Row(Item_Identifier='FDU55', Item_Weight=16.2, Item_Fat_Content='Low Fat', Item_Visibility=0.035984104, Item_Type='Fruits and Vegetables', Item_MRP=260.6278, Outlet_Identifier='OUT045', Outlet_Establishment_Year=2002, Outlet_Size=None, Outlet_Location_Type='Tier 2', Outlet_Type='Supermarket Type1', Item_Outlet_Sales=4425.5726),\n",
       " Row(Item_Identifier='FDN58', Item_Weight=None, Item_Fat_Content='Regular', Item_Visibility=0.056596985, Item_Type='Snack Foods', Item_MRP=230.9984, Outlet_Identifier='OUT027', Outlet_Establishment_Year=1985, Outlet_Size='Medium', Outlet_Location_Type='Tier 3', Outlet_Type='Supermarket Type3', Item_Outlet_Sales=9267.936),\n",
       " Row(Item_Identifier='FDC41', Item_Weight=None, Item_Fat_Content='Low Fat', Item_Visibility=0.2047, Item_Type='Frozen Foods', Item_MRP=76.867, Outlet_Identifier='OUT019', Outlet_Establishment_Year=1985, Outlet_Size='Small', Outlet_Location_Type='Tier 1', Outlet_Type='Grocery Store', Item_Outlet_Sales=229.701),\n",
       " Row(Item_Identifier='FDO01', Item_Weight=None, Item_Fat_Content='Regular', Item_Visibility=0.020618324, Item_Type='Breakfast', Item_MRP=129.3994, Outlet_Identifier='OUT027', Outlet_Establishment_Year=1985, Outlet_Size='Medium', Outlet_Location_Type='Tier 3', Outlet_Type='Supermarket Type3', Item_Outlet_Sales=2055.9904),\n",
       " Row(Item_Identifier='NCO43', Item_Weight=5.5, Item_Fat_Content='Low Fat', Item_Visibility=0.04709821, Item_Type='Others', Item_MRP=101.3016, Outlet_Identifier='OUT046', Outlet_Establishment_Year=1997, Outlet_Size='Small', Outlet_Location_Type='Tier 1', Outlet_Type='Supermarket Type1', Item_Outlet_Sales=3339.6528),\n",
       " Row(Item_Identifier='FDQ07', Item_Weight=15.1, Item_Fat_Content='Regular', Item_Visibility=0.087584126, Item_Type='Fruits and Vegetables', Item_MRP=221.7456, Outlet_Identifier='OUT045', Outlet_Establishment_Year=2002, Outlet_Size=None, Outlet_Location_Type='Tier 2', Outlet_Type='Supermarket Type1', Item_Outlet_Sales=6410.3224),\n",
       " Row(Item_Identifier='FDF28', Item_Weight=15.7, Item_Fat_Content='Regular', Item_Visibility=0.038078899, Item_Type='Frozen Foods', Item_MRP=122.9046, Outlet_Identifier='OUT017', Outlet_Establishment_Year=2007, Outlet_Size=None, Outlet_Location_Type='Tier 2', Outlet_Type='Supermarket Type1', Item_Outlet_Sales=1992.0736),\n",
       " Row(Item_Identifier='FDM01', Item_Weight=7.895, Item_Fat_Content='reg', Item_Visibility=0.095102092, Item_Type='Breakfast', Item_MRP=104.4332, Outlet_Identifier='OUT017', Outlet_Establishment_Year=2007, Outlet_Size=None, Outlet_Location_Type='Tier 2', Outlet_Type='Supermarket Type1', Item_Outlet_Sales=2870.9296),\n",
       " Row(Item_Identifier='FDY49', Item_Weight=None, Item_Fat_Content='Regular', Item_Visibility=0.011953902, Item_Type='Canned', Item_MRP=164.5184, Outlet_Identifier='OUT027', Outlet_Establishment_Year=1985, Outlet_Size='Medium', Outlet_Location_Type='Tier 3', Outlet_Type='Supermarket Type3', Item_Outlet_Sales=2807.0128),\n",
       " Row(Item_Identifier='FDR24', Item_Weight=17.35, Item_Fat_Content='Regular', Item_Visibility=0.062799379, Item_Type='Baking Goods', Item_MRP=88.183, Outlet_Identifier='OUT013', Outlet_Establishment_Year=1987, Outlet_Size='High', Outlet_Location_Type='Tier 3', Outlet_Type='Supermarket Type1', Item_Outlet_Sales=539.298),\n",
       " Row(Item_Identifier='NCY18', Item_Weight=7.285, Item_Fat_Content='Low Fat', Item_Visibility=0.031125709, Item_Type='Household', Item_MRP=174.3054, Outlet_Identifier='OUT013', Outlet_Establishment_Year=1987, Outlet_Size='High', Outlet_Location_Type='Tier 3', Outlet_Type='Supermarket Type1', Item_Outlet_Sales=4377.635),\n",
       " Row(Item_Identifier='NCY30', Item_Weight=20.25, Item_Fat_Content='Low Fat', Item_Visibility=0.026005891, Item_Type='Household', Item_MRP=180.9976, Outlet_Identifier='OUT045', Outlet_Establishment_Year=2002, Outlet_Size=None, Outlet_Location_Type='Tier 2', Outlet_Type='Supermarket Type1', Item_Outlet_Sales=2716.464),\n",
       " Row(Item_Identifier='FDJ22', Item_Weight=None, Item_Fat_Content='Low Fat', Item_Visibility=0.09246392, Item_Type='Snack Foods', Item_MRP=190.9504, Outlet_Identifier='OUT019', Outlet_Establishment_Year=1985, Outlet_Size='Small', Outlet_Location_Type='Tier 1', Outlet_Type='Grocery Store', Item_Outlet_Sales=383.5008),\n",
       " Row(Item_Identifier='DRI37', Item_Weight=15.85, Item_Fat_Content='Low Fat', Item_Visibility=0.107765165, Item_Type='Soft Drinks', Item_MRP=59.5904, Outlet_Identifier='OUT049', Outlet_Establishment_Year=1999, Outlet_Size='Medium', Outlet_Location_Type='Tier 1', Outlet_Type='Supermarket Type1', Item_Outlet_Sales=703.0848),\n",
       " Row(Item_Identifier='FDL27', Item_Weight=6.17, Item_Fat_Content='Low Fat', Item_Visibility=0.010647477, Item_Type='Meat', Item_MRP=66.3826, Outlet_Identifier='OUT049', Outlet_Establishment_Year=1999, Outlet_Size='Medium', Outlet_Location_Type='Tier 1', Outlet_Type='Supermarket Type1', Item_Outlet_Sales=1937.478),\n",
       " Row(Item_Identifier='NCO30', Item_Weight=19.5, Item_Fat_Content='Low Fat', Item_Visibility=0.015749341, Item_Type='Household', Item_MRP=182.2608, Outlet_Identifier='OUT049', Outlet_Establishment_Year=1999, Outlet_Size='Medium', Outlet_Location_Type='Tier 1', Outlet_Type='Supermarket Type1', Item_Outlet_Sales=3307.6944),\n",
       " Row(Item_Identifier='NCB07', Item_Weight=19.2, Item_Fat_Content='Low Fat', Item_Visibility=0.077628053, Item_Type='Household', Item_MRP=197.611, Outlet_Identifier='OUT049', Outlet_Establishment_Year=1999, Outlet_Size='Medium', Outlet_Location_Type='Tier 1', Outlet_Type='Supermarket Type1', Item_Outlet_Sales=3142.576),\n",
       " Row(Item_Identifier='FDX25', Item_Weight=16.7, Item_Fat_Content='Low Fat', Item_Visibility=0.0, Item_Type='Canned', Item_MRP=181.2292, Outlet_Identifier='OUT018', Outlet_Establishment_Year=2009, Outlet_Size='Medium', Outlet_Location_Type='Tier 3', Outlet_Type='Supermarket Type2', Item_Outlet_Sales=2554.0088),\n",
       " Row(Item_Identifier='FDP59', Item_Weight=20.85, Item_Fat_Content='Regular', Item_Visibility=0.056695731, Item_Type='Breads', Item_MRP=104.0648, Outlet_Identifier='OUT018', Outlet_Establishment_Year=2009, Outlet_Size='Medium', Outlet_Location_Type='Tier 3', Outlet_Type='Supermarket Type2', Item_Outlet_Sales=1869.5664),\n",
       " Row(Item_Identifier='FDR59', Item_Weight=14.5, Item_Fat_Content='Regular', Item_Visibility=0.063993068, Item_Type='Breads', Item_MRP=260.4594, Outlet_Identifier='OUT045', Outlet_Establishment_Year=2002, Outlet_Size=None, Outlet_Location_Type='Tier 2', Outlet_Type='Supermarket Type1', Item_Outlet_Sales=5494.8474),\n",
       " Row(Item_Identifier='FDT27', Item_Weight=11.395, Item_Fat_Content='Regular', Item_Visibility=0.069529262, Item_Type='Meat', Item_MRP=233.1616, Outlet_Identifier='OUT013', Outlet_Establishment_Year=1987, Outlet_Size='High', Outlet_Location_Type='Tier 3', Outlet_Type='Supermarket Type1', Item_Outlet_Sales=6093.4016),\n",
       " Row(Item_Identifier='DRI01', Item_Weight=7.97, Item_Fat_Content='Low Fat', Item_Visibility=0.034452949, Item_Type='Soft Drinks', Item_MRP=174.0422, Outlet_Identifier='OUT046', Outlet_Establishment_Year=1997, Outlet_Size='Small', Outlet_Location_Type='Tier 1', Outlet_Type='Supermarket Type1', Item_Outlet_Sales=2586.633),\n",
       " Row(Item_Identifier='FDU09', Item_Weight=7.71, Item_Fat_Content='Regular', Item_Visibility=0.06670068, Item_Type='Snack Foods', Item_MRP=55.2956, Outlet_Identifier='OUT049', Outlet_Establishment_Year=1999, Outlet_Size='Medium', Outlet_Location_Type='Tier 1', Outlet_Type='Supermarket Type1', Item_Outlet_Sales=1255.6988),\n",
       " Row(Item_Identifier='FDH26', Item_Weight=19.25, Item_Fat_Content='Regular', Item_Visibility=0.034699737, Item_Type='Canned', Item_MRP=141.7496, Outlet_Identifier='OUT046', Outlet_Establishment_Year=1997, Outlet_Size='Small', Outlet_Location_Type='Tier 1', Outlet_Type='Supermarket Type1', Item_Outlet_Sales=4093.3384),\n",
       " Row(Item_Identifier='FDH27', Item_Weight=7.075, Item_Fat_Content='Low Fat', Item_Visibility=0.058346939, Item_Type='Dairy', Item_MRP=142.2128, Outlet_Identifier='OUT046', Outlet_Establishment_Year=1997, Outlet_Size='Small', Outlet_Location_Type='Tier 1', Outlet_Type='Supermarket Type1', Item_Outlet_Sales=3163.8816),\n",
       " Row(Item_Identifier='FDN39', Item_Weight=None, Item_Fat_Content='Regular', Item_Visibility=0.065203103, Item_Type='Meat', Item_MRP=166.0816, Outlet_Identifier='OUT027', Outlet_Establishment_Year=1985, Outlet_Size='Medium', Outlet_Location_Type='Tier 3', Outlet_Type='Supermarket Type3', Item_Outlet_Sales=5033.448),\n",
       " Row(Item_Identifier='FDH40', Item_Weight=11.6, Item_Fat_Content='Regular', Item_Visibility=0.078929571, Item_Type='Frozen Foods', Item_MRP=79.9276, Outlet_Identifier='OUT046', Outlet_Establishment_Year=1997, Outlet_Size='Small', Outlet_Location_Type='Tier 1', Outlet_Type='Supermarket Type1', Item_Outlet_Sales=1137.1864),\n",
       " Row(Item_Identifier='FDJ56', Item_Weight=None, Item_Fat_Content='Low Fat', Item_Visibility=0.182514881, Item_Type='Fruits and Vegetables', Item_MRP=98.77, Outlet_Identifier='OUT027', Outlet_Establishment_Year=1985, Outlet_Size='Medium', Outlet_Location_Type='Tier 3', Outlet_Type='Supermarket Type3', Item_Outlet_Sales=2696.49),\n",
       " Row(Item_Identifier='DRN47', Item_Weight=12.1, Item_Fat_Content='Low Fat', Item_Visibility=0.016895293, Item_Type='Hard Drinks', Item_MRP=178.566, Outlet_Identifier='OUT018', Outlet_Establishment_Year=2009, Outlet_Size='Medium', Outlet_Location_Type='Tier 3', Outlet_Type='Supermarket Type2', Item_Outlet_Sales=898.83),\n",
       " Row(Item_Identifier='NCO17', Item_Weight=10.0, Item_Fat_Content='Low Fat', Item_Visibility=0.073379745, Item_Type='Health and Hygiene', Item_MRP=118.244, Outlet_Identifier='OUT046', Outlet_Establishment_Year=1997, Outlet_Size='Small', Outlet_Location_Type='Tier 1', Outlet_Type='Supermarket Type1', Item_Outlet_Sales=2756.412),\n",
       " Row(Item_Identifier='FDX60', Item_Weight=14.35, Item_Fat_Content='Low Fat', Item_Visibility=0.08075758, Item_Type='Baking Goods', Item_MRP=81.896, Outlet_Identifier='OUT045', Outlet_Establishment_Year=2002, Outlet_Size=None, Outlet_Location_Type='Tier 2', Outlet_Type='Supermarket Type1', Item_Outlet_Sales=878.856),\n",
       " Row(Item_Identifier='FDT22', Item_Weight=10.395, Item_Fat_Content='Low Fat', Item_Visibility=0.112271498, Item_Type='Snack Foods', Item_MRP=58.222, Outlet_Identifier='OUT049', Outlet_Establishment_Year=1999, Outlet_Size='Medium', Outlet_Location_Type='Tier 1', Outlet_Type='Supermarket Type1', Item_Outlet_Sales=659.142),\n",
       " Row(Item_Identifier='FDX26', Item_Weight=None, Item_Fat_Content='Low Fat', Item_Visibility=0.153741385, Item_Type='Dairy', Item_MRP=182.6292, Outlet_Identifier='OUT019', Outlet_Establishment_Year=1985, Outlet_Size='Small', Outlet_Location_Type='Tier 1', Outlet_Type='Grocery Store', Item_Outlet_Sales=182.4292),\n",
       " Row(Item_Identifier='FDG45', Item_Weight=8.1, Item_Fat_Content='Low Fat', Item_Visibility=0.127929521, Item_Type='Fruits and Vegetables', Item_MRP=211.4902, Outlet_Identifier='OUT013', Outlet_Establishment_Year=1987, Outlet_Size='High', Outlet_Location_Type='Tier 3', Outlet_Type='Supermarket Type1', Item_Outlet_Sales=3610.6334),\n",
       " Row(Item_Identifier='FDD44', Item_Weight=8.05, Item_Fat_Content='Regular', Item_Visibility=0.07838564, Item_Type='Fruits and Vegetables', Item_MRP=256.4646, Outlet_Identifier='OUT035', Outlet_Establishment_Year=2004, Outlet_Size='Small', Outlet_Location_Type='Tier 2', Outlet_Type='Supermarket Type1', Item_Outlet_Sales=5153.292),\n",
       " Row(Item_Identifier='FDS15', Item_Weight=9.195, Item_Fat_Content='Regular', Item_Visibility=0.078502143, Item_Type='Meat', Item_MRP=108.7596, Outlet_Identifier='OUT017', Outlet_Establishment_Year=2007, Outlet_Size=None, Outlet_Location_Type='Tier 2', Outlet_Type='Supermarket Type1', Item_Outlet_Sales=2588.6304),\n",
       " Row(Item_Identifier='FDL51', Item_Weight=20.7, Item_Fat_Content='Regular', Item_Visibility=0.047684831, Item_Type='Dairy', Item_MRP=212.5876, Outlet_Identifier='OUT018', Outlet_Establishment_Year=2009, Outlet_Size='Medium', Outlet_Location_Type='Tier 3', Outlet_Type='Supermarket Type2', Item_Outlet_Sales=1286.3256),\n",
       " Row(Item_Identifier='FDL32', Item_Weight=15.7, Item_Fat_Content='Regular', Item_Visibility=0.123159656, Item_Type='Fruits and Vegetables', Item_MRP=110.1544, Outlet_Identifier='OUT017', Outlet_Establishment_Year=2007, Outlet_Size=None, Outlet_Location_Type='Tier 2', Outlet_Type='Supermarket Type1', Item_Outlet_Sales=1230.3984),\n",
       " Row(Item_Identifier='FDZ07', Item_Weight=None, Item_Fat_Content='Regular', Item_Visibility=0.0, Item_Type='Fruits and Vegetables', Item_MRP=60.2194, Outlet_Identifier='OUT027', Outlet_Establishment_Year=1985, Outlet_Size='Medium', Outlet_Location_Type='Tier 3', Outlet_Type='Supermarket Type3', Item_Outlet_Sales=1733.7432),\n",
       " Row(Item_Identifier='NCW53', Item_Weight=None, Item_Fat_Content='Low Fat', Item_Visibility=0.053392944, Item_Type='Health and Hygiene', Item_MRP=193.8162, Outlet_Identifier='OUT019', Outlet_Establishment_Year=1985, Outlet_Size='Small', Outlet_Location_Type='Tier 1', Outlet_Type='Grocery Store', Item_Outlet_Sales=384.8324),\n",
       " Row(Item_Identifier='NCA54', Item_Weight=16.5, Item_Fat_Content='Low Fat', Item_Visibility=0.036715907, Item_Type='Household', Item_MRP=180.0318, Outlet_Identifier='OUT045', Outlet_Establishment_Year=2002, Outlet_Size=None, Outlet_Location_Type='Tier 2', Outlet_Type='Supermarket Type1', Item_Outlet_Sales=3969.4996),\n",
       " Row(Item_Identifier='FDX09', Item_Weight=9.0, Item_Fat_Content='Low Fat', Item_Visibility=0.065236932, Item_Type='Snack Foods', Item_MRP=176.437, Outlet_Identifier='OUT035', Outlet_Establishment_Year=2004, Outlet_Size='Small', Outlet_Location_Type='Tier 2', Outlet_Type='Supermarket Type1', Item_Outlet_Sales=7763.228),\n",
       " Row(Item_Identifier='FDO51', Item_Weight=6.785, Item_Fat_Content='Regular', Item_Visibility=0.041947547, Item_Type='Meat', Item_MRP=41.2112, Outlet_Identifier='OUT013', Outlet_Establishment_Year=1987, Outlet_Size='High', Outlet_Location_Type='Tier 3', Outlet_Type='Supermarket Type1', Item_Outlet_Sales=809.6128),\n",
       " Row(Item_Identifier='FDW49', Item_Weight=19.5, Item_Fat_Content='Low Fat', Item_Visibility=0.082888496, Item_Type='Canned', Item_MRP=178.6002, Outlet_Identifier='OUT018', Outlet_Establishment_Year=2009, Outlet_Size='Medium', Outlet_Location_Type='Tier 3', Outlet_Type='Supermarket Type2', Item_Outlet_Sales=1253.7014),\n",
       " Row(Item_Identifier='FDB27', Item_Weight=7.575, Item_Fat_Content='Low Fat', Item_Visibility=0.055390121, Item_Type='Dairy', Item_MRP=195.2768, Outlet_Identifier='OUT046', Outlet_Establishment_Year=1997, Outlet_Size='Small', Outlet_Location_Type='Tier 1', Outlet_Type='Supermarket Type1', Item_Outlet_Sales=5715.2272),\n",
       " Row(Item_Identifier='FDF45', Item_Weight=18.2, Item_Fat_Content='Regular', Item_Visibility=0.012194556, Item_Type='Fruits and Vegetables', Item_MRP=57.7904, Outlet_Identifier='OUT013', Outlet_Establishment_Year=1987, Outlet_Size='High', Outlet_Location_Type='Tier 3', Outlet_Type='Supermarket Type1', Item_Outlet_Sales=1464.76),\n",
       " Row(Item_Identifier='FDV02', Item_Weight=16.75, Item_Fat_Content='Low Fat', Item_Visibility=0.060495243, Item_Type='Dairy', Item_MRP=169.8106, Outlet_Identifier='OUT013', Outlet_Establishment_Year=1987, Outlet_Size='High', Outlet_Location_Type='Tier 3', Outlet_Type='Supermarket Type1', Item_Outlet_Sales=3251.1014),\n",
       " Row(Item_Identifier='FDY28', Item_Weight=7.47, Item_Fat_Content='Regular', Item_Visibility=0.0, Item_Type='Frozen Foods', Item_MRP=214.3218, Outlet_Identifier='OUT035', Outlet_Establishment_Year=2004, Outlet_Size='Small', Outlet_Location_Type='Tier 2', Outlet_Type='Supermarket Type1', Item_Outlet_Sales=4274.436),\n",
       " Row(Item_Identifier='FDX31', Item_Weight=None, Item_Fat_Content='Regular', Item_Visibility=0.014753811, Item_Type='Fruits and Vegetables', Item_MRP=231.7958, Outlet_Identifier='OUT027', Outlet_Establishment_Year=1985, Outlet_Size='Medium', Outlet_Location_Type='Tier 3', Outlet_Type='Supermarket Type3', Item_Outlet_Sales=5375.0034),\n",
       " Row(Item_Identifier='FDR43', Item_Weight=None, Item_Fat_Content='Low Fat', Item_Visibility=0.160707489, Item_Type='Fruits and Vegetables', Item_MRP=38.019, Outlet_Identifier='OUT027', Outlet_Establishment_Year=1985, Outlet_Size='Medium', Outlet_Location_Type='Tier 3', Outlet_Type='Supermarket Type3', Item_Outlet_Sales=1318.284),\n",
       " Row(Item_Identifier='FDP51', Item_Weight=13.85, Item_Fat_Content='Regular', Item_Visibility=0.085622362, Item_Type='Meat', Item_MRP=119.4124, Outlet_Identifier='OUT018', Outlet_Establishment_Year=2009, Outlet_Size='Medium', Outlet_Location_Type='Tier 3', Outlet_Type='Supermarket Type2', Item_Outlet_Sales=2251.7356),\n",
       " Row(Item_Identifier='FDL52', Item_Weight=6.635, Item_Fat_Content='Regular', Item_Visibility=0.046350909, Item_Type='Frozen Foods', Item_MRP=37.4506, Outlet_Identifier='OUT017', Outlet_Establishment_Year=2007, Outlet_Size=None, Outlet_Location_Type='Tier 2', Outlet_Type='Supermarket Type1', Item_Outlet_Sales=1176.4686),\n",
       " Row(Item_Identifier='FDR44', Item_Weight=6.11, Item_Fat_Content='Regular', Item_Visibility=0.102920886, Item_Type='Fruits and Vegetables', Item_MRP=130.4968, Outlet_Identifier='OUT046', Outlet_Establishment_Year=1997, Outlet_Size='Small', Outlet_Location_Type='Tier 1', Outlet_Type='Supermarket Type1', Item_Outlet_Sales=3523.4136),\n",
       " Row(Item_Identifier='FDB34', Item_Weight=15.25, Item_Fat_Content='Low Fat', Item_Visibility=0.026604781, Item_Type='Snack Foods', Item_MRP=86.2198, Outlet_Identifier='OUT035', Outlet_Establishment_Year=2004, Outlet_Size='Small', Outlet_Location_Type='Tier 2', Outlet_Type='Supermarket Type1', Item_Outlet_Sales=610.5386),\n",
       " Row(Item_Identifier='FDC50', Item_Weight=15.85, Item_Fat_Content='Low Fat', Item_Visibility=0.0, Item_Type='Canned', Item_MRP=96.4094, Outlet_Identifier='OUT035', Outlet_Establishment_Year=2004, Outlet_Size='Small', Outlet_Location_Type='Tier 2', Outlet_Type='Supermarket Type1', Item_Outlet_Sales=1237.7222),\n",
       " Row(Item_Identifier='FDT57', Item_Weight=15.2, Item_Fat_Content='Low Fat', Item_Visibility=0.031860325, Item_Type='Snack Foods', Item_MRP=235.1248, Outlet_Identifier='OUT010', Outlet_Establishment_Year=1998, Outlet_Size=None, Outlet_Location_Type='Tier 3', Outlet_Type='Grocery Store', Item_Outlet_Sales=474.0496),\n",
       " Row(Item_Identifier='FDP22', Item_Weight=None, Item_Fat_Content='Regular', Item_Visibility=0.0, Item_Type='Snack Foods', Item_MRP=52.6666, Outlet_Identifier='OUT027', Outlet_Establishment_Year=1985, Outlet_Size='Medium', Outlet_Location_Type='Tier 3', Outlet_Type='Supermarket Type3', Item_Outlet_Sales=717.7324),\n",
       " Row(Item_Identifier='DRE49', Item_Weight=20.75, Item_Fat_Content='LF', Item_Visibility=0.021250002, Item_Type='Soft Drinks', Item_MRP=150.5024, Outlet_Identifier='OUT046', Outlet_Establishment_Year=1997, Outlet_Size='Small', Outlet_Location_Type='Tier 1', Outlet_Type='Supermarket Type1', Item_Outlet_Sales=2580.6408),\n",
       " Row(Item_Identifier='FDM40', Item_Weight=10.195, Item_Fat_Content='Low Fat', Item_Visibility=0.159936948, Item_Type='Frozen Foods', Item_MRP=143.2154, Outlet_Identifier='OUT046', Outlet_Establishment_Year=1997, Outlet_Size='Small', Outlet_Location_Type='Tier 1', Outlet_Type='Supermarket Type1', Item_Outlet_Sales=2552.6772),\n",
       " Row(Item_Identifier='FDY32', Item_Weight=7.605, Item_Fat_Content='Low Fat', Item_Visibility=0.129503146, Item_Type='Fruits and Vegetables', Item_MRP=164.021, Outlet_Identifier='OUT045', Outlet_Establishment_Year=2002, Outlet_Size=None, Outlet_Location_Type='Tier 2', Outlet_Type='Supermarket Type1', Item_Outlet_Sales=3914.904),\n",
       " Row(Item_Identifier='FDW07', Item_Weight=18.0, Item_Fat_Content='Regular', Item_Visibility=0.142688846, Item_Type='Fruits and Vegetables', Item_MRP=88.5514, Outlet_Identifier='OUT046', Outlet_Establishment_Year=1997, Outlet_Size='Small', Outlet_Location_Type='Tier 1', Outlet_Type='Supermarket Type1', Item_Outlet_Sales=796.9626),\n",
       " Row(Item_Identifier='FDU02', Item_Weight=None, Item_Fat_Content='Low Fat', Item_Visibility=0.179484411, Item_Type='Dairy', Item_MRP=228.9352, Outlet_Identifier='OUT019', Outlet_Establishment_Year=1985, Outlet_Size='Small', Outlet_Location_Type='Tier 1', Outlet_Type='Grocery Store', Item_Outlet_Sales=916.1408),\n",
       " Row(Item_Identifier='NCF18', Item_Weight=18.35, Item_Fat_Content='Low Fat', Item_Visibility=0.089163056, Item_Type='Household', Item_MRP=191.3504, Outlet_Identifier='OUT045', Outlet_Establishment_Year=2002, Outlet_Size=None, Outlet_Location_Type='Tier 2', Outlet_Type='Supermarket Type1', Item_Outlet_Sales=3259.7568),\n",
       " Row(Item_Identifier='FDQ56', Item_Weight=6.59, Item_Fat_Content='Low Fat', Item_Visibility=0.105761491, Item_Type='Fruits and Vegetables', Item_MRP=84.8908, Outlet_Identifier='OUT049', Outlet_Establishment_Year=1999, Outlet_Size='Medium', Outlet_Location_Type='Tier 1', Outlet_Type='Supermarket Type1', Item_Outlet_Sales=1677.816),\n",
       " Row(Item_Identifier='FDN58', Item_Weight=13.8, Item_Fat_Content='reg', Item_Visibility=0.056960814, Item_Type='Snack Foods', Item_MRP=230.0984, Outlet_Identifier='OUT049', Outlet_Establishment_Year=1999, Outlet_Size='Medium', Outlet_Location_Type='Tier 1', Outlet_Type='Supermarket Type1', Item_Outlet_Sales=3707.1744),\n",
       " Row(Item_Identifier='FDG35', Item_Weight=21.2, Item_Fat_Content='Regular', Item_Visibility=0.00704098, Item_Type='Starchy Foods', Item_MRP=173.5738, Outlet_Identifier='OUT046', Outlet_Establishment_Year=1997, Outlet_Size='Small', Outlet_Location_Type='Tier 1', Outlet_Type='Supermarket Type1', Item_Outlet_Sales=2954.1546),\n",
       " Row(Item_Identifier='FDY34', Item_Weight=10.5, Item_Fat_Content='Regular', Item_Visibility=0.011026594, Item_Type='Snack Foods', Item_MRP=166.4842, Outlet_Identifier='OUT018', Outlet_Establishment_Year=2009, Outlet_Size='Medium', Outlet_Location_Type='Tier 3', Outlet_Type='Supermarket Type2', Item_Outlet_Sales=2652.5472),\n",
       " Row(Item_Identifier='NCE19', Item_Weight=8.97, Item_Fat_Content='Low Fat', Item_Visibility=0.093203257, Item_Type='Household', Item_MRP=52.7956, Outlet_Identifier='OUT045', Outlet_Establishment_Year=2002, Outlet_Size=None, Outlet_Location_Type='Tier 2', Outlet_Type='Supermarket Type1', Item_Outlet_Sales=1037.3164),\n",
       " Row(Item_Identifier='NCK31', Item_Weight=None, Item_Fat_Content='Low Fat', Item_Visibility=0.026916794, Item_Type='Others', Item_MRP=50.9666, Outlet_Identifier='OUT027', Outlet_Establishment_Year=1985, Outlet_Size='Medium', Outlet_Location_Type='Tier 3', Outlet_Type='Supermarket Type3', Item_Outlet_Sales=717.7324),\n",
       " Row(Item_Identifier='NCJ29', Item_Weight=10.6, Item_Fat_Content='Low Fat', Item_Visibility=0.035264298, Item_Type='Health and Hygiene', Item_MRP=86.1224, Outlet_Identifier='OUT045', Outlet_Establishment_Year=2002, Outlet_Size=None, Outlet_Location_Type='Tier 2', Outlet_Type='Supermarket Type1', Item_Outlet_Sales=426.112),\n",
       " Row(Item_Identifier='FDT59', Item_Weight=13.65, Item_Fat_Content='Low Fat', Item_Visibility=0.015908424, Item_Type='Breads', Item_MRP=231.1668, Outlet_Identifier='OUT035', Outlet_Establishment_Year=2004, Outlet_Size='Small', Outlet_Location_Type='Tier 2', Outlet_Type='Supermarket Type1', Item_Outlet_Sales=6911.004),\n",
       " Row(Item_Identifier='NCX41', Item_Weight=19.0, Item_Fat_Content='Low Fat', Item_Visibility=0.017719277, Item_Type='Health and Hygiene', Item_MRP=211.0244, Outlet_Identifier='OUT046', Outlet_Establishment_Year=1997, Outlet_Size='Small', Outlet_Location_Type='Tier 1', Outlet_Type='Supermarket Type1', Item_Outlet_Sales=3811.0392),\n",
       " Row(Item_Identifier='FDU45', Item_Weight=None, Item_Fat_Content='Regular', Item_Visibility=0.035334201, Item_Type='Snack Foods', Item_MRP=115.3518, Outlet_Identifier='OUT027', Outlet_Establishment_Year=1985, Outlet_Size='Medium', Outlet_Location_Type='Tier 3', Outlet_Type='Supermarket Type3', Item_Outlet_Sales=2277.036),\n",
       " Row(Item_Identifier='FDW24', Item_Weight=None, Item_Fat_Content='Low Fat', Item_Visibility=0.065652494, Item_Type='Baking Goods', Item_MRP=48.9034, Outlet_Identifier='OUT019', Outlet_Establishment_Year=1985, Outlet_Size='Small', Outlet_Location_Type='Tier 1', Outlet_Type='Grocery Store', Item_Outlet_Sales=48.6034),\n",
       " Row(Item_Identifier='FDF22', Item_Weight=6.865, Item_Fat_Content='Low Fat', Item_Visibility=0.056919038, Item_Type='Snack Foods', Item_MRP=212.8218, Outlet_Identifier='OUT049', Outlet_Establishment_Year=1999, Outlet_Size='Medium', Outlet_Location_Type='Tier 1', Outlet_Type='Supermarket Type1', Item_Outlet_Sales=5770.4886),\n",
       " Row(Item_Identifier='FDM60', Item_Weight=10.8, Item_Fat_Content='Regular', Item_Visibility=0.048143292, Item_Type='Baking Goods', Item_MRP=40.2138, Outlet_Identifier='OUT046', Outlet_Establishment_Year=1997, Outlet_Size='Small', Outlet_Location_Type='Tier 1', Outlet_Type='Supermarket Type1', Item_Outlet_Sales=690.4346),\n",
       " Row(Item_Identifier='FDR02', Item_Weight=16.7, Item_Fat_Content='Low Fat', Item_Visibility=0.022047313, Item_Type='Dairy', Item_MRP=110.2886, Outlet_Identifier='OUT013', Outlet_Establishment_Year=1987, Outlet_Size='High', Outlet_Location_Type='Tier 3', Outlet_Type='Supermarket Type1', Item_Outlet_Sales=1890.2062),\n",
       " Row(Item_Identifier='DRP35', Item_Weight=None, Item_Fat_Content='Low Fat', Item_Visibility=0.090427268, Item_Type='Hard Drinks', Item_MRP=126.2336, Outlet_Identifier='OUT027', Outlet_Establishment_Year=1985, Outlet_Size='Medium', Outlet_Location_Type='Tier 3', Outlet_Type='Supermarket Type3', Item_Outlet_Sales=3195.84),\n",
       " Row(Item_Identifier='FDS48', Item_Weight=15.15, Item_Fat_Content='Low Fat', Item_Visibility=0.027779254, Item_Type='Baking Goods', Item_MRP=150.1708, Outlet_Identifier='OUT046', Outlet_Establishment_Year=1997, Outlet_Size='Small', Outlet_Location_Type='Tier 1', Outlet_Type='Supermarket Type1', Item_Outlet_Sales=1504.708),\n",
       " Row(Item_Identifier='NCZ42', Item_Weight=10.5, Item_Fat_Content='Low Fat', Item_Visibility=0.0, Item_Type='Household', Item_MRP=238.3248, Outlet_Identifier='OUT010', Outlet_Establishment_Year=1998, Outlet_Size=None, Outlet_Location_Type='Tier 3', Outlet_Type='Grocery Store', Item_Outlet_Sales=711.0744),\n",
       " Row(Item_Identifier='FDZ38', Item_Weight=17.6, Item_Fat_Content='Low Fat', Item_Visibility=0.008033611, Item_Type='Dairy', Item_MRP=174.2422, Outlet_Identifier='OUT018', Outlet_Establishment_Year=2009, Outlet_Size='Medium', Outlet_Location_Type='Tier 3', Outlet_Type='Supermarket Type2', Item_Outlet_Sales=4311.055),\n",
       " Row(Item_Identifier='FDH19', Item_Weight=19.35, Item_Fat_Content='Low Fat', Item_Visibility=0.033088472, Item_Type='Meat', Item_MRP=175.4738, Outlet_Identifier='OUT046', Outlet_Establishment_Year=1997, Outlet_Size='Small', Outlet_Location_Type='Tier 1', Outlet_Type='Supermarket Type1', Item_Outlet_Sales=521.3214),\n",
       " Row(Item_Identifier='NCB55', Item_Weight=15.7, Item_Fat_Content='Low Fat', Item_Visibility=0.160663021, Item_Type='Household', Item_MRP=59.4562, Outlet_Identifier='OUT046', Outlet_Establishment_Year=1997, Outlet_Size='Small', Outlet_Location_Type='Tier 1', Outlet_Type='Supermarket Type1', Item_Outlet_Sales=829.5868),\n",
       " Row(Item_Identifier='FDC15', Item_Weight=18.1, Item_Fat_Content='LF', Item_Visibility=0.178975721, Item_Type='Dairy', Item_MRP=155.5288, Outlet_Identifier='OUT017', Outlet_Establishment_Year=2007, Outlet_Size=None, Outlet_Location_Type='Tier 2', Outlet_Type='Supermarket Type1', Item_Outlet_Sales=1571.288),\n",
       " Row(Item_Identifier='FDF11', Item_Weight=10.195, Item_Fat_Content='Regular', Item_Visibility=0.017627888, Item_Type='Starchy Foods', Item_MRP=239.6538, Outlet_Identifier='OUT035', Outlet_Establishment_Year=2004, Outlet_Size='Small', Outlet_Location_Type='Tier 2', Outlet_Type='Supermarket Type1', Item_Outlet_Sales=2403.538),\n",
       " Row(Item_Identifier='FDW35', Item_Weight=None, Item_Fat_Content='low fat', Item_Visibility=0.0194158, Item_Type='Breads', Item_MRP=41.6454, Outlet_Identifier='OUT019', Outlet_Establishment_Year=1985, Outlet_Size='Small', Outlet_Location_Type='Tier 1', Outlet_Type='Grocery Store', Item_Outlet_Sales=83.8908),\n",
       " Row(Item_Identifier='FDB44', Item_Weight=6.655, Item_Fat_Content='Low Fat', Item_Visibility=0.016993225, Item_Type='Fruits and Vegetables', Item_MRP=211.0586, Outlet_Identifier='OUT045', Outlet_Establishment_Year=2002, Outlet_Size=None, Outlet_Location_Type='Tier 2', Outlet_Type='Supermarket Type1', Item_Outlet_Sales=844.2344),\n",
       " Row(Item_Identifier='NCC06', Item_Weight=19.0, Item_Fat_Content='Low Fat', Item_Visibility=0.027139013, Item_Type='Household', Item_MRP=127.3336, Outlet_Identifier='OUT017', Outlet_Establishment_Year=2007, Outlet_Size=None, Outlet_Location_Type='Tier 2', Outlet_Type='Supermarket Type1', Item_Outlet_Sales=2940.1728),\n",
       " Row(Item_Identifier='FDR04', Item_Weight=7.075, Item_Fat_Content='Low Fat', Item_Visibility=0.03777249, Item_Type='Frozen Foods', Item_MRP=98.0068, Outlet_Identifier='OUT010', Outlet_Establishment_Year=1998, Outlet_Size=None, Outlet_Location_Type='Tier 3', Outlet_Type='Grocery Store', Item_Outlet_Sales=291.6204),\n",
       " Row(Item_Identifier='FDB17', Item_Weight=13.15, Item_Fat_Content='Low Fat', Item_Visibility=0.036746479, Item_Type='Frozen Foods', Item_MRP=181.2976, Outlet_Identifier='OUT045', Outlet_Establishment_Year=2002, Outlet_Size=None, Outlet_Location_Type='Tier 2', Outlet_Type='Supermarket Type1', Item_Outlet_Sales=3259.7568),\n",
       " Row(Item_Identifier='FDW43', Item_Weight=20.1, Item_Fat_Content='Regular', Item_Visibility=0.022460102, Item_Type='Fruits and Vegetables', Item_MRP=226.8036, Outlet_Identifier='OUT049', Outlet_Establishment_Year=1999, Outlet_Size='Medium', Outlet_Location_Type='Tier 1', Outlet_Type='Supermarket Type1', Item_Outlet_Sales=3415.554),\n",
       " Row(Item_Identifier='FDA27', Item_Weight=20.35, Item_Fat_Content='Regular', Item_Visibility=0.0, Item_Type='Dairy', Item_MRP=256.7672, Outlet_Identifier='OUT018', Outlet_Establishment_Year=2009, Outlet_Size='Medium', Outlet_Location_Type='Tier 3', Outlet_Type='Supermarket Type2', Item_Outlet_Sales=5624.6784),\n",
       " Row(Item_Identifier='NCU41', Item_Weight=18.85, Item_Fat_Content='Low Fat', Item_Visibility=0.05213575, Item_Type='Health and Hygiene', Item_MRP=190.1846, Outlet_Identifier='OUT049', Outlet_Establishment_Year=1999, Outlet_Size='Medium', Outlet_Location_Type='Tier 1', Outlet_Type='Supermarket Type1', Item_Outlet_Sales=6687.961),\n",
       " Row(Item_Identifier='FDY56', Item_Weight=16.35, Item_Fat_Content='Regular', Item_Visibility=0.062508438, Item_Type='Fruits and Vegetables', Item_MRP=227.1062, Outlet_Identifier='OUT049', Outlet_Establishment_Year=1999, Outlet_Size='Medium', Outlet_Location_Type='Tier 1', Outlet_Type='Supermarket Type1', Item_Outlet_Sales=5642.655),\n",
       " Row(Item_Identifier='FDV39', Item_Weight=11.3, Item_Fat_Content='Low Fat', Item_Visibility=0.007309544, Item_Type='Meat', Item_MRP=196.2426, Outlet_Identifier='OUT018', Outlet_Establishment_Year=2009, Outlet_Size='Medium', Outlet_Location_Type='Tier 3', Outlet_Type='Supermarket Type2', Item_Outlet_Sales=4943.565),\n",
       " Row(Item_Identifier='FDN32', Item_Weight=17.5, Item_Fat_Content='Low Fat', Item_Visibility=0.015623754, Item_Type='Fruits and Vegetables', Item_MRP=182.6266, Outlet_Identifier='OUT018', Outlet_Establishment_Year=2009, Outlet_Size='Medium', Outlet_Location_Type='Tier 3', Outlet_Type='Supermarket Type2', Item_Outlet_Sales=3135.2522),\n",
       " Row(Item_Identifier='FDW07', Item_Weight=18.0, Item_Fat_Content='Regular', Item_Visibility=0.142978223, Item_Type='Fruits and Vegetables', Item_MRP=87.4514, Outlet_Identifier='OUT045', Outlet_Establishment_Year=2002, Outlet_Size=None, Outlet_Location_Type='Tier 2', Outlet_Type='Supermarket Type1', Item_Outlet_Sales=796.9626),\n",
       " Row(Item_Identifier='FDZ27', Item_Weight=7.935, Item_Fat_Content='Low Fat', Item_Visibility=0.017191055, Item_Type='Dairy', Item_MRP=51.535, Outlet_Identifier='OUT045', Outlet_Establishment_Year=2002, Outlet_Size=None, Outlet_Location_Type='Tier 2', Outlet_Type='Supermarket Type1', Item_Outlet_Sales=848.895),\n",
       " Row(Item_Identifier='FDW23', Item_Weight=None, Item_Fat_Content='Low Fat', Item_Visibility=0.143592939, Item_Type='Baking Goods', Item_MRP=37.3164, Outlet_Identifier='OUT019', Outlet_Establishment_Year=1985, Outlet_Size='Small', Outlet_Location_Type='Tier 1', Outlet_Type='Grocery Store', Item_Outlet_Sales=38.6164),\n",
       " Row(Item_Identifier='FDU01', Item_Weight=20.25, Item_Fat_Content='Regular', Item_Visibility=0.011995271, Item_Type='Canned', Item_MRP=184.5924, Outlet_Identifier='OUT046', Outlet_Establishment_Year=1997, Outlet_Size='Small', Outlet_Location_Type='Tier 1', Outlet_Type='Supermarket Type1', Item_Outlet_Sales=4997.4948),\n",
       " Row(Item_Identifier='FDF10', Item_Weight=15.5, Item_Fat_Content='Regular', Item_Visibility=0.15717236, Item_Type='Snack Foods', Item_MRP=149.1418, Outlet_Identifier='OUT049', Outlet_Establishment_Year=1999, Outlet_Size='Medium', Outlet_Location_Type='Tier 1', Outlet_Type='Supermarket Type1', Item_Outlet_Sales=588.5672),\n",
       " Row(Item_Identifier='DRH03', Item_Weight=None, Item_Fat_Content='Low Fat', Item_Visibility=0.061393095, Item_Type='Dairy', Item_MRP=91.812, Outlet_Identifier='OUT019', Outlet_Establishment_Year=1985, Outlet_Size='Small', Outlet_Location_Type='Tier 1', Outlet_Type='Grocery Store', Item_Outlet_Sales=372.848),\n",
       " Row(Item_Identifier='FDW27', Item_Weight=None, Item_Fat_Content='Regular', Item_Visibility=0.264124669, Item_Type='Meat', Item_MRP=155.7314, Outlet_Identifier='OUT019', Outlet_Establishment_Year=1985, Outlet_Size='Small', Outlet_Location_Type='Tier 1', Outlet_Type='Grocery Store', Item_Outlet_Sales=155.1314),\n",
       " Row(Item_Identifier='DRI13', Item_Weight=15.35, Item_Fat_Content='Low Fat', Item_Visibility=0.020310046, Item_Type='Soft Drinks', Item_MRP=218.0508, Outlet_Identifier='OUT013', Outlet_Establishment_Year=1987, Outlet_Size='High', Outlet_Location_Type='Tier 3', Outlet_Type='Supermarket Type1', Item_Outlet_Sales=3038.7112),\n",
       " Row(Item_Identifier='NCR05', Item_Weight=10.1, Item_Fat_Content='Low Fat', Item_Visibility=0.054630834, Item_Type='Health and Hygiene', Item_MRP=200.2084, Outlet_Identifier='OUT046', Outlet_Establishment_Year=1997, Outlet_Size='Small', Outlet_Location_Type='Tier 1', Outlet_Type='Supermarket Type1', Item_Outlet_Sales=1587.2672),\n",
       " Row(Item_Identifier='FDB29', Item_Weight=16.7, Item_Fat_Content='Regular', Item_Visibility=0.052517969, Item_Type='Frozen Foods', Item_MRP=115.4176, Outlet_Identifier='OUT045', Outlet_Establishment_Year=2002, Outlet_Size=None, Outlet_Location_Type='Tier 2', Outlet_Type='Supermarket Type1', Item_Outlet_Sales=687.1056),\n",
       " Row(Item_Identifier='FDL51', Item_Weight=20.7, Item_Fat_Content='Regular', Item_Visibility=0.047565208, Item_Type='Dairy', Item_MRP=213.4876, Outlet_Identifier='OUT049', Outlet_Establishment_Year=1999, Outlet_Size='Medium', Outlet_Location_Type='Tier 1', Outlet_Type='Supermarket Type1', Item_Outlet_Sales=1929.4884),\n",
       " Row(Item_Identifier='FDB11', Item_Weight=16.0, Item_Fat_Content='LF', Item_Visibility=0.060797393, Item_Type='Starchy Foods', Item_MRP=223.8404, Outlet_Identifier='OUT013', Outlet_Establishment_Year=1987, Outlet_Size='High', Outlet_Location_Type='Tier 3', Outlet_Type='Supermarket Type1', Item_Outlet_Sales=3600.6464),\n",
       " Row(Item_Identifier='FDI35', Item_Weight=14.0, Item_Fat_Content='Low Fat', Item_Visibility=0.041291169, Item_Type='Starchy Foods', Item_MRP=180.7634, Outlet_Identifier='OUT046', Outlet_Establishment_Year=1997, Outlet_Size='Small', Outlet_Location_Type='Tier 1', Outlet_Type='Supermarket Type1', Item_Outlet_Sales=2181.1608),\n",
       " Row(Item_Identifier='FDX08', Item_Weight=12.85, Item_Fat_Content='Low Fat', Item_Visibility=0.022604051, Item_Type='Fruits and Vegetables', Item_MRP=181.4318, Outlet_Identifier='OUT046', Outlet_Establishment_Year=1997, Outlet_Size='Small', Outlet_Location_Type='Tier 1', Outlet_Type='Supermarket Type1', Item_Outlet_Sales=3428.2042),\n",
       " Row(Item_Identifier='FDP59', Item_Weight=20.85, Item_Fat_Content='Regular', Item_Visibility=0.056580228, Item_Type='Breads', Item_MRP=105.6648, Outlet_Identifier='OUT045', Outlet_Establishment_Year=2002, Outlet_Size=None, Outlet_Location_Type='Tier 2', Outlet_Type='Supermarket Type1', Item_Outlet_Sales=623.1888),\n",
       " Row(Item_Identifier='NCJ18', Item_Weight=12.35, Item_Fat_Content='Low Fat', Item_Visibility=0.164196823, Item_Type='Household', Item_MRP=120.5124, Outlet_Identifier='OUT049', Outlet_Establishment_Year=1999, Outlet_Size='Medium', Outlet_Location_Type='Tier 1', Outlet_Type='Supermarket Type1', Item_Outlet_Sales=2133.2232),\n",
       " Row(Item_Identifier='FDJ41', Item_Weight=6.85, Item_Fat_Content='Low Fat', Item_Visibility=0.022976497, Item_Type='Frozen Foods', Item_MRP=261.6594, Outlet_Identifier='OUT018', Outlet_Establishment_Year=2009, Outlet_Size='Medium', Outlet_Location_Type='Tier 3', Outlet_Type='Supermarket Type2', Item_Outlet_Sales=3401.5722),\n",
       " Row(Item_Identifier='FDU08', Item_Weight=10.3, Item_Fat_Content='Low Fat', Item_Visibility=0.027310252, Item_Type='Fruits and Vegetables', Item_MRP=101.0042, Outlet_Identifier='OUT035', Outlet_Establishment_Year=2004, Outlet_Size='Small', Outlet_Location_Type='Tier 2', Outlet_Type='Supermarket Type1', Item_Outlet_Sales=1289.6546),\n",
       " Row(Item_Identifier='FDS09', Item_Weight=None, Item_Fat_Content='Regular', Item_Visibility=0.141975462, Item_Type='Snack Foods', Item_MRP=49.6008, Outlet_Identifier='OUT019', Outlet_Establishment_Year=1985, Outlet_Size='Small', Outlet_Location_Type='Tier 1', Outlet_Type='Grocery Store', Item_Outlet_Sales=50.6008),\n",
       " Row(Item_Identifier='DRH15', Item_Weight=8.775, Item_Fat_Content='Low Fat', Item_Visibility=0.0, Item_Type='Dairy', Item_MRP=45.9428, Outlet_Identifier='OUT013', Outlet_Establishment_Year=1987, Outlet_Size='High', Outlet_Location_Type='Tier 3', Outlet_Type='Supermarket Type1', Item_Outlet_Sales=790.9704),\n",
       " Row(Item_Identifier='NCV17', Item_Weight=18.85, Item_Fat_Content='Low Fat', Item_Visibility=0.01619866, Item_Type='Health and Hygiene', Item_MRP=129.2626, Outlet_Identifier='OUT017', Outlet_Establishment_Year=2007, Outlet_Size=None, Outlet_Location_Type='Tier 2', Outlet_Type='Supermarket Type1', Item_Outlet_Sales=3147.9024),\n",
       " Row(Item_Identifier='NCO54', Item_Weight=None, Item_Fat_Content='Low Fat', Item_Visibility=0.014205168, Item_Type='Household', Item_MRP=56.7614, Outlet_Identifier='OUT027', Outlet_Establishment_Year=1985, Outlet_Size='Medium', Outlet_Location_Type='Tier 3', Outlet_Type='Supermarket Type3', Item_Outlet_Sales=2486.763),\n",
       " Row(Item_Identifier='FDE24', Item_Weight=14.85, Item_Fat_Content='Low Fat', Item_Visibility=0.09344495, Item_Type='Baking Goods', Item_MRP=141.0812, Outlet_Identifier='OUT035', Outlet_Establishment_Year=2004, Outlet_Size='Small', Outlet_Location_Type='Tier 2', Outlet_Type='Supermarket Type1', Item_Outlet_Sales=1139.8496),\n",
       " Row(Item_Identifier='FDH53', Item_Weight=20.5, Item_Fat_Content='Regular', Item_Visibility=0.019199733, Item_Type='Frozen Foods', Item_MRP=84.3592, Outlet_Identifier='OUT046', Outlet_Establishment_Year=1997, Outlet_Size='Small', Outlet_Location_Type='Tier 1', Outlet_Type='Supermarket Type1', Item_Outlet_Sales=1816.3024),\n",
       " Row(Item_Identifier='FDZ13', Item_Weight=7.84, Item_Fat_Content='Regular', Item_Visibility=0.154120252, Item_Type='Canned', Item_MRP=51.935, Outlet_Identifier='OUT018', Outlet_Establishment_Year=2009, Outlet_Size='Medium', Outlet_Location_Type='Tier 3', Outlet_Type='Supermarket Type2', Item_Outlet_Sales=199.74),\n",
       " Row(Item_Identifier='FDW28', Item_Weight=18.25, Item_Fat_Content='Low Fat', Item_Visibility=0.089004389, Item_Type='Frozen Foods', Item_MRP=196.7452, Outlet_Identifier='OUT045', Outlet_Establishment_Year=2002, Outlet_Size=None, Outlet_Location_Type='Tier 2', Outlet_Type='Supermarket Type1', Item_Outlet_Sales=978.726),\n",
       " Row(Item_Identifier='FDU46', Item_Weight=10.3, Item_Fat_Content='Regular', Item_Visibility=0.011117041, Item_Type='Snack Foods', Item_MRP=85.854, Outlet_Identifier='OUT013', Outlet_Establishment_Year=1987, Outlet_Size='High', Outlet_Location_Type='Tier 3', Outlet_Type='Supermarket Type1', Item_Outlet_Sales=2683.174),\n",
       " Row(Item_Identifier='NCE43', Item_Weight=12.5, Item_Fat_Content='LF', Item_Visibility=0.103422709, Item_Type='Household', Item_MRP=169.9448, Outlet_Identifier='OUT035', Outlet_Establishment_Year=2004, Outlet_Size='Small', Outlet_Location_Type='Tier 2', Outlet_Type='Supermarket Type1', Item_Outlet_Sales=2897.5616),\n",
       " Row(Item_Identifier='FDS26', Item_Weight=None, Item_Fat_Content='Low Fat', Item_Visibility=0.089035961, Item_Type='Dairy', Item_MRP=260.5594, Outlet_Identifier='OUT027', Outlet_Establishment_Year=1985, Outlet_Size='Medium', Outlet_Location_Type='Tier 3', Outlet_Type='Supermarket Type3', Item_Outlet_Sales=9158.079),\n",
       " Row(Item_Identifier='FDB14', Item_Weight=20.25, Item_Fat_Content='Regular', Item_Visibility=0.102723919, Item_Type='Canned', Item_MRP=93.212, Outlet_Identifier='OUT046', Outlet_Establishment_Year=1997, Outlet_Size='Small', Outlet_Location_Type='Tier 1', Outlet_Type='Supermarket Type1', Item_Outlet_Sales=1957.452),\n",
       " Row(Item_Identifier='DRB48', Item_Weight=None, Item_Fat_Content='Regular', Item_Visibility=0.024733134, Item_Type='Soft Drinks', Item_MRP=40.2822, Outlet_Identifier='OUT027', Outlet_Establishment_Year=1985, Outlet_Size='Medium', Outlet_Location_Type='Tier 3', Outlet_Type='Supermarket Type3', Item_Outlet_Sales=1296.3126),\n",
       " Row(Item_Identifier='NCC42', Item_Weight=15.0, Item_Fat_Content='Low Fat', Item_Visibility=0.044871033, Item_Type='Health and Hygiene', Item_MRP=140.3838, Outlet_Identifier='OUT013', Outlet_Establishment_Year=1987, Outlet_Size='High', Outlet_Location_Type='Tier 3', Outlet_Type='Supermarket Type1', Item_Outlet_Sales=2528.7084),\n",
       " Row(Item_Identifier='FDQ20', Item_Weight=8.325, Item_Fat_Content='Low Fat', Item_Visibility=0.029760052, Item_Type='Fruits and Vegetables', Item_MRP=38.7138, Outlet_Identifier='OUT013', Outlet_Establishment_Year=1987, Outlet_Size='High', Outlet_Location_Type='Tier 3', Outlet_Type='Supermarket Type1', Item_Outlet_Sales=284.2966),\n",
       " Row(Item_Identifier='FDA13', Item_Weight=15.85, Item_Fat_Content='Low Fat', Item_Visibility=0.078999287, Item_Type='Canned', Item_MRP=38.6506, Outlet_Identifier='OUT017', Outlet_Establishment_Year=2007, Outlet_Size=None, Outlet_Location_Type='Tier 2', Outlet_Type='Supermarket Type1', Item_Outlet_Sales=759.012),\n",
       " Row(Item_Identifier='FDZ15', Item_Weight=13.1, Item_Fat_Content='Low Fat', Item_Visibility=0.020870744, Item_Type='Dairy', Item_MRP=117.3782, Outlet_Identifier='OUT046', Outlet_Establishment_Year=1997, Outlet_Size='Small', Outlet_Location_Type='Tier 1', Outlet_Type='Supermarket Type1', Item_Outlet_Sales=1787.673),\n",
       " Row(Item_Identifier='NCV42', Item_Weight=6.26, Item_Fat_Content='Low Fat', Item_Visibility=0.031599715, Item_Type='Household', Item_MRP=111.3228, Outlet_Identifier='OUT017', Outlet_Establishment_Year=2007, Outlet_Size=None, Outlet_Location_Type='Tier 2', Outlet_Type='Supermarket Type1', Item_Outlet_Sales=2431.5016),\n",
       " Row(Item_Identifier='DRI51', Item_Weight=17.25, Item_Fat_Content='Low Fat', Item_Visibility=0.042413704, Item_Type='Dairy', Item_MRP=173.1764, Outlet_Identifier='OUT018', Outlet_Establishment_Year=2009, Outlet_Size='Medium', Outlet_Location_Type='Tier 3', Outlet_Type='Supermarket Type2', Item_Outlet_Sales=4466.1864),\n",
       " Row(Item_Identifier='FDO28', Item_Weight=5.765, Item_Fat_Content='Low Fat', Item_Visibility=0.072284689, Item_Type='Frozen Foods', Item_MRP=119.9098, Outlet_Identifier='OUT035', Outlet_Establishment_Year=2004, Outlet_Size='Small', Outlet_Location_Type='Tier 2', Outlet_Type='Supermarket Type1', Item_Outlet_Sales=2048.6666),\n",
       " Row(Item_Identifier='NCS54', Item_Weight=13.6, Item_Fat_Content='Low Fat', Item_Visibility=0.009984847, Item_Type='Household', Item_MRP=175.437, Outlet_Identifier='OUT013', Outlet_Establishment_Year=1987, Outlet_Size='High', Outlet_Location_Type='Tier 3', Outlet_Type='Supermarket Type1', Item_Outlet_Sales=1940.807),\n",
       " Row(Item_Identifier='FDH16', Item_Weight=10.5, Item_Fat_Content='Low Fat', Item_Visibility=0.052852621, Item_Type='Frozen Foods', Item_MRP=88.783, Outlet_Identifier='OUT017', Outlet_Establishment_Year=2007, Outlet_Size=None, Outlet_Location_Type='Tier 2', Outlet_Type='Supermarket Type1', Item_Outlet_Sales=2067.309),\n",
       " Row(Item_Identifier='FDG24', Item_Weight=7.975, Item_Fat_Content='Low Fat', Item_Visibility=0.014660821, Item_Type='Baking Goods', Item_MRP=85.125, Outlet_Identifier='OUT045', Outlet_Establishment_Year=2002, Outlet_Size=None, Outlet_Location_Type='Tier 2', Outlet_Type='Supermarket Type1', Item_Outlet_Sales=2663.2),\n",
       " Row(Item_Identifier='FDR52', Item_Weight=12.65, Item_Fat_Content='Regular', Item_Visibility=0.076354362, Item_Type='Frozen Foods', Item_MRP=192.1846, Outlet_Identifier='OUT018', Outlet_Establishment_Year=2009, Outlet_Size='Medium', Outlet_Location_Type='Tier 3', Outlet_Type='Supermarket Type2', Item_Outlet_Sales=1146.5076),\n",
       " Row(Item_Identifier='NCH06', Item_Weight=12.3, Item_Fat_Content='Low Fat', Item_Visibility=0.076709639, Item_Type='Household', Item_MRP=247.846, Outlet_Identifier='OUT045', Outlet_Establishment_Year=2002, Outlet_Size=None, Outlet_Location_Type='Tier 2', Outlet_Type='Supermarket Type1', Item_Outlet_Sales=3448.844),\n",
       " Row(Item_Identifier='FDA36', Item_Weight=5.985, Item_Fat_Content='Low Fat', Item_Visibility=0.005677876, Item_Type='Baking Goods', Item_MRP=184.8924, Outlet_Identifier='OUT045', Outlet_Establishment_Year=2002, Outlet_Size=None, Outlet_Location_Type='Tier 2', Outlet_Type='Supermarket Type1', Item_Outlet_Sales=1665.8316),\n",
       " Row(Item_Identifier='FDU56', Item_Weight=None, Item_Fat_Content='Low Fat', Item_Visibility=0.0, Item_Type='Fruits and Vegetables', Item_MRP=184.7266, Outlet_Identifier='OUT027', Outlet_Establishment_Year=1985, Outlet_Size='Medium', Outlet_Location_Type='Tier 3', Outlet_Type='Supermarket Type3', Item_Outlet_Sales=8114.7704),\n",
       " Row(Item_Identifier='FDT09', Item_Weight=15.15, Item_Fat_Content='Regular', Item_Visibility=0.012282366, Item_Type='Snack Foods', Item_MRP=132.5284, Outlet_Identifier='OUT049', Outlet_Establishment_Year=1999, Outlet_Size='Medium', Outlet_Location_Type='Tier 1', Outlet_Type='Supermarket Type1', Item_Outlet_Sales=1713.7692),\n",
       " Row(Item_Identifier='FDU25', Item_Weight=12.35, Item_Fat_Content='Low Fat', Item_Visibility=0.026681262, Item_Type='Canned', Item_MRP=56.4246, Outlet_Identifier='OUT046', Outlet_Establishment_Year=1997, Outlet_Size='Small', Outlet_Location_Type='Tier 1', Outlet_Type='Supermarket Type1', Item_Outlet_Sales=810.9444),\n",
       " Row(Item_Identifier='FDK41', Item_Weight=14.3, Item_Fat_Content='Low Fat', Item_Visibility=0.127541722, Item_Type='Frozen Foods', Item_MRP=84.9224, Outlet_Identifier='OUT046', Outlet_Establishment_Year=1997, Outlet_Size='Small', Outlet_Location_Type='Tier 1', Outlet_Type='Supermarket Type1', Item_Outlet_Sales=1193.1136),\n",
       " Row(Item_Identifier='NCT54', Item_Weight=8.695, Item_Fat_Content='Low Fat', Item_Visibility=0.119513002, Item_Type='Household', Item_MRP=93.4094, Outlet_Identifier='OUT035', Outlet_Establishment_Year=2004, Outlet_Size='Small', Outlet_Location_Type='Tier 2', Outlet_Type='Supermarket Type1', Item_Outlet_Sales=856.8846),\n",
       " Row(Item_Identifier='FDV51', Item_Weight=16.35, Item_Fat_Content='Low Fat', Item_Visibility=0.054463442, Item_Type='Meat', Item_MRP=163.8842, Outlet_Identifier='OUT010', Outlet_Establishment_Year=1998, Outlet_Size=None, Outlet_Location_Type='Tier 3', Outlet_Type='Grocery Store', Item_Outlet_Sales=165.7842),\n",
       " Row(Item_Identifier='FDM24', Item_Weight=6.135, Item_Fat_Content='Regular', Item_Visibility=0.0, Item_Type='Baking Goods', Item_MRP=151.3366, Outlet_Identifier='OUT045', Outlet_Establishment_Year=2002, Outlet_Size=None, Outlet_Location_Type='Tier 2', Outlet_Type='Supermarket Type1', Item_Outlet_Sales=1057.9562),\n",
       " Row(Item_Identifier='NCO30', Item_Weight=19.5, Item_Fat_Content='Low Fat', Item_Visibility=0.015756784, Item_Type='Household', Item_MRP=185.0608, Outlet_Identifier='OUT045', Outlet_Establishment_Year=2002, Outlet_Size=None, Outlet_Location_Type='Tier 2', Outlet_Type='Supermarket Type1', Item_Outlet_Sales=2205.1296),\n",
       " Row(Item_Identifier='FDQ45', Item_Weight=9.5, Item_Fat_Content='Regular', Item_Visibility=0.010907967, Item_Type='Snack Foods', Item_MRP=182.3608, Outlet_Identifier='OUT013', Outlet_Establishment_Year=1987, Outlet_Size='High', Outlet_Location_Type='Tier 3', Outlet_Type='Supermarket Type1', Item_Outlet_Sales=2940.1728),\n",
       " Row(Item_Identifier='DRK59', Item_Weight=8.895, Item_Fat_Content='LF', Item_Visibility=0.07543556, Item_Type='Hard Drinks', Item_MRP=235.8616, Outlet_Identifier='OUT035', Outlet_Establishment_Year=2004, Outlet_Size='Small', Outlet_Location_Type='Tier 2', Outlet_Type='Supermarket Type1', Item_Outlet_Sales=3046.7008),\n",
       " Row(Item_Identifier='FDW28', Item_Weight=18.25, Item_Fat_Content='Low Fat', Item_Visibility=0.0, Item_Type='Frozen Foods', Item_MRP=196.8452, Outlet_Identifier='OUT046', Outlet_Establishment_Year=1997, Outlet_Size='Small', Outlet_Location_Type='Tier 1', Outlet_Type='Supermarket Type1', Item_Outlet_Sales=3327.6684),\n",
       " Row(Item_Identifier='FDC02', Item_Weight=21.35, Item_Fat_Content='Low Fat', Item_Visibility=0.115194717, Item_Type='Canned', Item_MRP=258.3278, Outlet_Identifier='OUT010', Outlet_Establishment_Year=1998, Outlet_Size=None, Outlet_Location_Type='Tier 3', Outlet_Type='Grocery Store', Item_Outlet_Sales=520.6556),\n",
       " Row(Item_Identifier='FDR21', Item_Weight=19.7, Item_Fat_Content='Low Fat', Item_Visibility=0.066922802, Item_Type='Snack Foods', Item_MRP=174.837, Outlet_Identifier='OUT035', Outlet_Establishment_Year=2004, Outlet_Size='Small', Outlet_Location_Type='Tier 2', Outlet_Type='Supermarket Type1', Item_Outlet_Sales=2999.429),\n",
       " Row(Item_Identifier='FDN48', Item_Weight=None, Item_Fat_Content='Low Fat', Item_Visibility=0.064636203, Item_Type='Baking Goods', Item_MRP=90.0804, Outlet_Identifier='OUT027', Outlet_Establishment_Year=1985, Outlet_Size='Medium', Outlet_Location_Type='Tier 3', Outlet_Type='Supermarket Type3', Item_Outlet_Sales=2113.2492),\n",
       " Row(Item_Identifier='FDT44', Item_Weight=16.6, Item_Fat_Content='Low Fat', Item_Visibility=0.103195401, Item_Type='Fruits and Vegetables', Item_MRP=117.8466, Outlet_Identifier='OUT045', Outlet_Establishment_Year=2002, Outlet_Size=None, Outlet_Location_Type='Tier 2', Outlet_Type='Supermarket Type1', Item_Outlet_Sales=942.7728),\n",
       " Row(Item_Identifier='FDX14', Item_Weight=None, Item_Fat_Content='Low Fat', Item_Visibility=0.13121032, Item_Type='Dairy', Item_MRP=74.0354, Outlet_Identifier='OUT019', Outlet_Establishment_Year=1985, Outlet_Size='Small', Outlet_Location_Type='Tier 1', Outlet_Type='Grocery Store', Item_Outlet_Sales=75.2354),\n",
       " Row(Item_Identifier='FDH57', Item_Weight=10.895, Item_Fat_Content='Low Fat', Item_Visibility=0.035747522, Item_Type='Fruits and Vegetables', Item_MRP=133.6284, Outlet_Identifier='OUT046', Outlet_Establishment_Year=1997, Outlet_Size='Small', Outlet_Location_Type='Tier 1', Outlet_Type='Supermarket Type1', Item_Outlet_Sales=1581.9408),\n",
       " Row(Item_Identifier='FDH28', Item_Weight=None, Item_Fat_Content='reg', Item_Visibility=0.192650072, Item_Type='Frozen Foods', Item_MRP=37.4506, Outlet_Identifier='OUT019', Outlet_Establishment_Year=1985, Outlet_Size='Small', Outlet_Location_Type='Tier 1', Outlet_Type='Grocery Store', Item_Outlet_Sales=37.9506),\n",
       " Row(Item_Identifier='NCT41', Item_Weight=None, Item_Fat_Content='Low Fat', Item_Visibility=0.098031771, Item_Type='Health and Hygiene', Item_MRP=151.3024, Outlet_Identifier='OUT019', Outlet_Establishment_Year=1985, Outlet_Size='Small', Outlet_Location_Type='Tier 1', Outlet_Type='Grocery Store', Item_Outlet_Sales=151.8024),\n",
       " Row(Item_Identifier='FDO11', Item_Weight=None, Item_Fat_Content='Regular', Item_Visibility=0.030118338, Item_Type='Breads', Item_MRP=248.8092, Outlet_Identifier='OUT027', Outlet_Establishment_Year=1985, Outlet_Size='Medium', Outlet_Location_Type='Tier 3', Outlet_Type='Supermarket Type3', Item_Outlet_Sales=3486.1288),\n",
       " Row(Item_Identifier='NCP42', Item_Weight=8.51, Item_Fat_Content='Low Fat', Item_Visibility=0.016201845, Item_Type='Household', Item_MRP=195.2478, Outlet_Identifier='OUT017', Outlet_Establishment_Year=2007, Outlet_Size=None, Outlet_Location_Type='Tier 2', Outlet_Type='Supermarket Type1', Item_Outlet_Sales=4262.4516),\n",
       " Row(Item_Identifier='FDN09', Item_Weight=14.15, Item_Fat_Content='Low Fat', Item_Visibility=0.05837308, Item_Type='Snack Foods', Item_MRP=243.9828, Outlet_Identifier='OUT010', Outlet_Establishment_Year=1998, Outlet_Size=None, Outlet_Location_Type='Tier 3', Outlet_Type='Grocery Store', Item_Outlet_Sales=731.0484),\n",
       " Row(Item_Identifier='FDP32', Item_Weight=6.65, Item_Fat_Content='Low Fat', Item_Visibility=0.087652908, Item_Type='Fruits and Vegetables', Item_MRP=128.8678, Outlet_Identifier='OUT035', Outlet_Establishment_Year=2004, Outlet_Size='Small', Outlet_Location_Type='Tier 2', Outlet_Type='Supermarket Type1', Item_Outlet_Sales=1398.8458),\n",
       " Row(Item_Identifier='FDV57', Item_Weight=15.25, Item_Fat_Content='Regular', Item_Visibility=0.065999008, Item_Type='Snack Foods', Item_MRP=177.966, Outlet_Identifier='OUT049', Outlet_Establishment_Year=1999, Outlet_Size='Medium', Outlet_Location_Type='Tier 1', Outlet_Type='Supermarket Type1', Item_Outlet_Sales=2336.958),\n",
       " Row(Item_Identifier='FDW28', Item_Weight=18.25, Item_Fat_Content='low fat', Item_Visibility=0.088750333, Item_Type='Frozen Foods', Item_MRP=196.5452, Outlet_Identifier='OUT013', Outlet_Establishment_Year=1987, Outlet_Size='High', Outlet_Location_Type='Tier 3', Outlet_Type='Supermarket Type1', Item_Outlet_Sales=2348.9424),\n",
       " Row(Item_Identifier='FDR56', Item_Weight=None, Item_Fat_Content='Regular', Item_Visibility=0.100277876, Item_Type='Fruits and Vegetables', Item_MRP=196.8768, Outlet_Identifier='OUT027', Outlet_Establishment_Year=1985, Outlet_Size='Medium', Outlet_Location_Type='Tier 3', Outlet_Type='Supermarket Type3', Item_Outlet_Sales=7094.7648),\n",
       " Row(Item_Identifier='FDA40', Item_Weight=16.0, Item_Fat_Content='Regular', Item_Visibility=0.099252438, Item_Type='Frozen Foods', Item_MRP=87.4856, Outlet_Identifier='OUT035', Outlet_Establishment_Year=2004, Outlet_Size='Small', Outlet_Location_Type='Tier 2', Outlet_Type='Supermarket Type1', Item_Outlet_Sales=1054.6272),\n",
       " Row(Item_Identifier='NCG42', Item_Weight=19.2, Item_Fat_Content='Low Fat', Item_Visibility=0.0, Item_Type='Household', Item_MRP=127.831, Outlet_Identifier='OUT045', Outlet_Establishment_Year=2002, Outlet_Size=None, Outlet_Location_Type='Tier 2', Outlet_Type='Supermarket Type1', Item_Outlet_Sales=1298.31),\n",
       " Row(Item_Identifier='NCK54', Item_Weight=12.15, Item_Fat_Content='Low Fat', Item_Visibility=0.0, Item_Type='Household', Item_MRP=117.815, Outlet_Identifier='OUT017', Outlet_Establishment_Year=2007, Outlet_Size=None, Outlet_Location_Type='Tier 2', Outlet_Type='Supermarket Type1', Item_Outlet_Sales=2330.3),\n",
       " Row(Item_Identifier='FDE16', Item_Weight=8.895, Item_Fat_Content='Low Fat', Item_Visibility=0.026384672, Item_Type='Frozen Foods', Item_MRP=208.9954, Outlet_Identifier='OUT049', Outlet_Establishment_Year=1999, Outlet_Size='Medium', Outlet_Location_Type='Tier 1', Outlet_Type='Supermarket Type1', Item_Outlet_Sales=4584.6988),\n",
       " Row(Item_Identifier='FDB15', Item_Weight=10.895, Item_Fat_Content='Low Fat', Item_Visibility=0.228993134, Item_Type='Dairy', Item_MRP=263.4568, Outlet_Identifier='OUT010', Outlet_Establishment_Year=1998, Outlet_Size=None, Outlet_Location_Type='Tier 3', Outlet_Type='Grocery Store', Item_Outlet_Sales=527.3136),\n",
       " Row(Item_Identifier='FDC40', Item_Weight=16.0, Item_Fat_Content='Regular', Item_Visibility=0.065431917, Item_Type='Dairy', Item_MRP=76.1986, Outlet_Identifier='OUT017', Outlet_Establishment_Year=2007, Outlet_Size=None, Outlet_Location_Type='Tier 2', Outlet_Type='Supermarket Type1', Item_Outlet_Sales=1869.5664),\n",
       " Row(Item_Identifier='FDE53', Item_Weight=None, Item_Fat_Content='LF', Item_Visibility=0.026749991, Item_Type='Frozen Foods', Item_MRP=106.928, Outlet_Identifier='OUT027', Outlet_Establishment_Year=1985, Outlet_Size='Medium', Outlet_Location_Type='Tier 3', Outlet_Type='Supermarket Type3', Item_Outlet_Sales=2876.256),\n",
       " Row(Item_Identifier='FDK24', Item_Weight=9.195, Item_Fat_Content='Low Fat', Item_Visibility=0.0, Item_Type='Baking Goods', Item_MRP=43.6744, Outlet_Identifier='OUT018', Outlet_Establishment_Year=2009, Outlet_Size='Medium', Outlet_Location_Type='Tier 3', Outlet_Type='Supermarket Type2', Item_Outlet_Sales=407.4696),\n",
       " Row(Item_Identifier='FDW31', Item_Weight=11.35, Item_Fat_Content='Regular', Item_Visibility=0.043333912, Item_Type='Fruits and Vegetables', Item_MRP=201.0742, Outlet_Identifier='OUT018', Outlet_Establishment_Year=2009, Outlet_Size='Medium', Outlet_Location_Type='Tier 3', Outlet_Type='Supermarket Type2', Item_Outlet_Sales=2189.8162),\n",
       " Row(Item_Identifier='NCX29', Item_Weight=10.0, Item_Fat_Content='LF', Item_Visibility=0.089656812, Item_Type='Health and Hygiene', Item_MRP=144.0102, Outlet_Identifier='OUT017', Outlet_Establishment_Year=2007, Outlet_Size=None, Outlet_Location_Type='Tier 2', Outlet_Type='Supermarket Type1', Item_Outlet_Sales=1603.9122),\n",
       " Row(Item_Identifier='NCM07', Item_Weight=9.395, Item_Fat_Content='Low Fat', Item_Visibility=0.039954281, Item_Type='Others', Item_MRP=82.4908, Outlet_Identifier='OUT035', Outlet_Establishment_Year=2004, Outlet_Size='Small', Outlet_Location_Type='Tier 2', Outlet_Type='Supermarket Type1', Item_Outlet_Sales=2013.3792),\n",
       " Row(Item_Identifier='DRN36', Item_Weight=None, Item_Fat_Content='Low Fat', Item_Visibility=0.087854925, Item_Type='Soft Drinks', Item_MRP=95.9752, Outlet_Identifier='OUT019', Outlet_Establishment_Year=1985, Outlet_Size='Small', Outlet_Location_Type='Tier 1', Outlet_Type='Grocery Store', Item_Outlet_Sales=95.8752),\n",
       " Row(Item_Identifier='FDQ37', Item_Weight=20.75, Item_Fat_Content='Low Fat', Item_Visibility=0.149404057, Item_Type='Breakfast', Item_MRP=192.8478, Outlet_Identifier='OUT010', Outlet_Establishment_Year=1998, Outlet_Size=None, Outlet_Location_Type='Tier 3', Outlet_Type='Grocery Store', Item_Outlet_Sales=774.9912),\n",
       " Row(Item_Identifier='FDK43', Item_Weight=9.8, Item_Fat_Content='Low Fat', Item_Visibility=0.0268952, Item_Type='Meat', Item_MRP=128.402, Outlet_Identifier='OUT045', Outlet_Establishment_Year=2002, Outlet_Size=None, Outlet_Location_Type='Tier 2', Outlet_Type='Supermarket Type1', Item_Outlet_Sales=2403.538),\n",
       " Row(Item_Identifier='FDK28', Item_Weight=5.695, Item_Fat_Content='Low Fat', Item_Visibility=0.065857092, Item_Type='Frozen Foods', Item_MRP=258.5646, Outlet_Identifier='OUT018', Outlet_Establishment_Year=2009, Outlet_Size='Medium', Outlet_Location_Type='Tier 3', Outlet_Type='Supermarket Type2', Item_Outlet_Sales=4380.2982),\n",
       " Row(Item_Identifier='FDR43', Item_Weight=18.2, Item_Fat_Content='Low Fat', Item_Visibility=0.161817014, Item_Type='Fruits and Vegetables', Item_MRP=37.819, Outlet_Identifier='OUT045', Outlet_Establishment_Year=2002, Outlet_Size=None, Outlet_Location_Type='Tier 2', Outlet_Type='Supermarket Type1', Item_Outlet_Sales=219.714),\n",
       " Row(Item_Identifier='FDL48', Item_Weight=19.35, Item_Fat_Content='Regular', Item_Visibility=0.082197959, Item_Type='Baking Goods', Item_MRP=49.2034, Outlet_Identifier='OUT013', Outlet_Establishment_Year=1987, Outlet_Size='High', Outlet_Location_Type='Tier 3', Outlet_Type='Supermarket Type1', Item_Outlet_Sales=729.051),\n",
       " Row(Item_Identifier='DRL23', Item_Weight=18.35, Item_Fat_Content='Low Fat', Item_Visibility=0.015335349, Item_Type='Hard Drinks', Item_MRP=106.6938, Outlet_Identifier='OUT045', Outlet_Establishment_Year=2002, Outlet_Size=None, Outlet_Location_Type='Tier 2', Outlet_Type='Supermarket Type1', Item_Outlet_Sales=1393.5194),\n",
       " Row(Item_Identifier='NCX42', Item_Weight=6.36, Item_Fat_Content='Low Fat', Item_Visibility=0.00599072, Item_Type='Household', Item_MRP=163.6526, Outlet_Identifier='OUT045', Outlet_Establishment_Year=2002, Outlet_Size=None, Outlet_Location_Type='Tier 2', Outlet_Type='Supermarket Type1', Item_Outlet_Sales=5262.4832),\n",
       " Row(Item_Identifier='DRD37', Item_Weight=9.8, Item_Fat_Content='Low Fat', Item_Visibility=0.013898123, Item_Type='Soft Drinks', Item_MRP=46.506, Outlet_Identifier='OUT018', Outlet_Establishment_Year=2009, Outlet_Size='Medium', Outlet_Location_Type='Tier 3', Outlet_Type='Supermarket Type2', Item_Outlet_Sales=372.848),\n",
       " Row(Item_Identifier='FDZ47', Item_Weight=None, Item_Fat_Content='Regular', Item_Visibility=0.078912473, Item_Type='Baking Goods', Item_MRP=99.9042, Outlet_Identifier='OUT027', Outlet_Establishment_Year=1985, Outlet_Size='Medium', Outlet_Location_Type='Tier 3', Outlet_Type='Supermarket Type3', Item_Outlet_Sales=3273.7386),\n",
       " Row(Item_Identifier='NCJ54', Item_Weight=None, Item_Fat_Content='Low Fat', Item_Visibility=0.059776237, Item_Type='Household', Item_MRP=231.7642, Outlet_Identifier='OUT027', Outlet_Establishment_Year=1985, Outlet_Size='Medium', Outlet_Location_Type='Tier 3', Outlet_Type='Supermarket Type3', Item_Outlet_Sales=5344.3766),\n",
       " Row(Item_Identifier='FDL52', Item_Weight=6.635, Item_Fat_Content='Regular', Item_Visibility=0.0, Item_Type='Frozen Foods', Item_MRP=39.7506, Outlet_Identifier='OUT013', Outlet_Establishment_Year=1987, Outlet_Size='High', Outlet_Location_Type='Tier 3', Outlet_Type='Supermarket Type1', Item_Outlet_Sales=303.6048),\n",
       " Row(Item_Identifier='FDC15', Item_Weight=18.1, Item_Fat_Content='Low Fat', Item_Visibility=0.297883712, Item_Type='Dairy', Item_MRP=156.7288, Outlet_Identifier='OUT010', Outlet_Establishment_Year=1998, Outlet_Size=None, Outlet_Location_Type='Tier 3', Outlet_Type='Grocery Store', Item_Outlet_Sales=314.2576),\n",
       " Row(Item_Identifier='NCD19', Item_Weight=8.93, Item_Fat_Content='Low Fat', Item_Visibility=0.022059594, Item_Type='Household', Item_MRP=56.0614, Outlet_Identifier='OUT010', Outlet_Establishment_Year=1998, Outlet_Size=None, Outlet_Location_Type='Tier 3', Outlet_Type='Grocery Store', Item_Outlet_Sales=276.307),\n",
       " Row(Item_Identifier='FDD08', Item_Weight=8.3, Item_Fat_Content='Low Fat', Item_Visibility=0.03532494, Item_Type='Fruits and Vegetables', Item_MRP=38.9506, Outlet_Identifier='OUT013', Outlet_Establishment_Year=1987, Outlet_Size='High', Outlet_Location_Type='Tier 3', Outlet_Type='Supermarket Type1', Item_Outlet_Sales=721.0614),\n",
       " Row(Item_Identifier='NCN18', Item_Weight=8.895, Item_Fat_Content='LF', Item_Visibility=0.124967595, Item_Type='Household', Item_MRP=112.7544, Outlet_Identifier='OUT045', Outlet_Establishment_Year=2002, Outlet_Size=None, Outlet_Location_Type='Tier 2', Outlet_Type='Supermarket Type1', Item_Outlet_Sales=3467.4864),\n",
       " Row(Item_Identifier='FDY56', Item_Weight=16.35, Item_Fat_Content='Regular', Item_Visibility=0.062411404, Item_Type='Fruits and Vegetables', Item_MRP=225.9062, Outlet_Identifier='OUT046', Outlet_Establishment_Year=1997, Outlet_Size='Small', Outlet_Location_Type='Tier 1', Outlet_Type='Supermarket Type1', Item_Outlet_Sales=5416.9488),\n",
       " Row(Item_Identifier='NCI29', Item_Weight=8.6, Item_Fat_Content='Low Fat', Item_Visibility=0.032754431, Item_Type='Health and Hygiene', Item_MRP=140.5154, Outlet_Identifier='OUT018', Outlet_Establishment_Year=2009, Outlet_Size='Medium', Outlet_Location_Type='Tier 3', Outlet_Type='Supermarket Type2', Item_Outlet_Sales=283.6308),\n",
       " Row(Item_Identifier='NCE06', Item_Weight=None, Item_Fat_Content='Low Fat', Item_Visibility=0.160178832, Item_Type='Household', Item_MRP=160.2894, Outlet_Identifier='OUT019', Outlet_Establishment_Year=1985, Outlet_Size='Small', Outlet_Location_Type='Tier 1', Outlet_Type='Grocery Store', Item_Outlet_Sales=323.5788),\n",
       " Row(Item_Identifier='FDC08', Item_Weight=19.0, Item_Fat_Content='Regular', Item_Visibility=0.104035148, Item_Type='Fruits and Vegetables', Item_MRP=227.772, Outlet_Identifier='OUT017', Outlet_Establishment_Year=2007, Outlet_Size=None, Outlet_Location_Type='Tier 2', Outlet_Type='Supermarket Type1', Item_Outlet_Sales=5206.556),\n",
       " Row(Item_Identifier='FDU52', Item_Weight=7.56, Item_Fat_Content='Low Fat', Item_Visibility=0.06390019, Item_Type='Frozen Foods', Item_MRP=157.263, Outlet_Identifier='OUT045', Outlet_Establishment_Year=2002, Outlet_Size=None, Outlet_Location_Type='Tier 2', Outlet_Type='Supermarket Type1', Item_Outlet_Sales=2503.408),\n",
       " Row(Item_Identifier='FDN16', Item_Weight=12.6, Item_Fat_Content='Regular', Item_Visibility=0.062648111, Item_Type='Frozen Foods', Item_MRP=104.899, Outlet_Identifier='OUT013', Outlet_Establishment_Year=1987, Outlet_Size='High', Outlet_Location_Type='Tier 3', Outlet_Type='Supermarket Type1', Item_Outlet_Sales=1960.781),\n",
       " Row(Item_Identifier='NCM55', Item_Weight=15.6, Item_Fat_Content='Low Fat', Item_Visibility=0.111685868, Item_Type='Others', Item_MRP=184.7924, Outlet_Identifier='OUT010', Outlet_Establishment_Year=1998, Outlet_Size=None, Outlet_Location_Type='Tier 3', Outlet_Type='Grocery Store', Item_Outlet_Sales=370.1848),\n",
       " Row(Item_Identifier='FDR49', Item_Weight=8.71, Item_Fat_Content='Low Fat', Item_Visibility=0.233039817, Item_Type='Canned', Item_MRP=49.5376, Outlet_Identifier='OUT010', Outlet_Establishment_Year=1998, Outlet_Size=None, Outlet_Location_Type='Tier 3', Outlet_Type='Grocery Store', Item_Outlet_Sales=95.8752),\n",
       " Row(Item_Identifier='FDC15', Item_Weight=18.1, Item_Fat_Content='Low Fat', Item_Visibility=0.17824575, Item_Type='Dairy', Item_MRP=158.1288, Outlet_Identifier='OUT049', Outlet_Establishment_Year=1999, Outlet_Size='Medium', Outlet_Location_Type='Tier 1', Outlet_Type='Supermarket Type1', Item_Outlet_Sales=3299.7048),\n",
       " Row(Item_Identifier='FDB53', Item_Weight=13.35, Item_Fat_Content='Low Fat', Item_Visibility=0.140241213, Item_Type='Frozen Foods', Item_MRP=150.2392, Outlet_Identifier='OUT017', Outlet_Establishment_Year=2007, Outlet_Size=None, Outlet_Location_Type='Tier 2', Outlet_Type='Supermarket Type1', Item_Outlet_Sales=2684.5056),\n",
       " Row(Item_Identifier='FDK44', Item_Weight=16.6, Item_Fat_Content='Low Fat', Item_Visibility=0.0, Item_Type='Fruits and Vegetables', Item_MRP=173.3738, Outlet_Identifier='OUT046', Outlet_Establishment_Year=1997, Outlet_Size='Small', Outlet_Location_Type='Tier 1', Outlet_Type='Supermarket Type1', Item_Outlet_Sales=2085.2856),\n",
       " Row(Item_Identifier='FDA16', Item_Weight=6.695, Item_Fat_Content='Low Fat', Item_Visibility=0.033935576, Item_Type='Frozen Foods', Item_MRP=221.9456, Outlet_Identifier='OUT035', Outlet_Establishment_Year=2004, Outlet_Size='Small', Outlet_Location_Type='Tier 2', Outlet_Type='Supermarket Type1', Item_Outlet_Sales=2210.456),\n",
       " Row(Item_Identifier='FDO19', Item_Weight=None, Item_Fat_Content='Regular', Item_Visibility=0.016516275, Item_Type='Fruits and Vegetables', Item_MRP=47.4034, Outlet_Identifier='OUT027', Outlet_Establishment_Year=1985, Outlet_Size='Medium', Outlet_Location_Type='Tier 3', Outlet_Type='Supermarket Type3', Item_Outlet_Sales=2187.153),\n",
       " Row(Item_Identifier='FDO04', Item_Weight=16.6, Item_Fat_Content='Low Fat', Item_Visibility=0.026537206, Item_Type='Frozen Foods', Item_MRP=57.2614, Outlet_Identifier='OUT046', Outlet_Establishment_Year=1997, Outlet_Size='Small', Outlet_Location_Type='Tier 1', Outlet_Type='Supermarket Type1', Item_Outlet_Sales=1049.9666),\n",
       " Row(Item_Identifier='NCL19', Item_Weight=15.35, Item_Fat_Content='Low Fat', Item_Visibility=0.015673267, Item_Type='Others', Item_MRP=145.047, Outlet_Identifier='OUT035', Outlet_Establishment_Year=2004, Outlet_Size='Small', Outlet_Location_Type='Tier 2', Outlet_Type='Supermarket Type1', Item_Outlet_Sales=2719.793),\n",
       " Row(Item_Identifier='FDA44', Item_Weight=19.7, Item_Fat_Content='Low Fat', Item_Visibility=0.089083914, Item_Type='Fruits and Vegetables', Item_MRP=54.593, Outlet_Identifier='OUT010', Outlet_Establishment_Year=1998, Outlet_Size=None, Outlet_Location_Type='Tier 3', Outlet_Type='Grocery Store', Item_Outlet_Sales=56.593),\n",
       " Row(Item_Identifier='FDR60', Item_Weight=14.3, Item_Fat_Content='Low Fat', Item_Visibility=0.131152799, Item_Type='Baking Goods', Item_MRP=78.6328, Outlet_Identifier='OUT017', Outlet_Establishment_Year=2007, Outlet_Size=None, Outlet_Location_Type='Tier 2', Outlet_Type='Supermarket Type1', Item_Outlet_Sales=231.6984),\n",
       " Row(Item_Identifier='FDV37', Item_Weight=None, Item_Fat_Content='Regular', Item_Visibility=0.083109455, Item_Type='Canned', Item_MRP=195.8426, Outlet_Identifier='OUT027', Outlet_Establishment_Year=1985, Outlet_Size='Medium', Outlet_Location_Type='Tier 3', Outlet_Type='Supermarket Type3', Item_Outlet_Sales=5734.5354),\n",
       " Row(Item_Identifier='FDG53', Item_Weight=10.0, Item_Fat_Content='Low Fat', Item_Visibility=0.045818773, Item_Type='Frozen Foods', Item_MRP=138.718, Outlet_Identifier='OUT013', Outlet_Establishment_Year=1987, Outlet_Size='High', Outlet_Location_Type='Tier 3', Outlet_Type='Supermarket Type1', Item_Outlet_Sales=1398.18),\n",
       " Row(Item_Identifier='DRG01', Item_Weight=14.8, Item_Fat_Content='Low Fat', Item_Visibility=0.044869794, Item_Type='Soft Drinks', Item_MRP=76.467, Outlet_Identifier='OUT035', Outlet_Establishment_Year=2004, Outlet_Size='Small', Outlet_Location_Type='Tier 2', Outlet_Type='Supermarket Type1', Item_Outlet_Sales=1531.34),\n",
       " Row(Item_Identifier='FDB38', Item_Weight=None, Item_Fat_Content='Regular', Item_Visibility=0.0, Item_Type='Canned', Item_MRP=160.692, Outlet_Identifier='OUT019', Outlet_Establishment_Year=1985, Outlet_Size='Small', Outlet_Location_Type='Tier 1', Outlet_Type='Grocery Store', Item_Outlet_Sales=319.584),\n",
       " Row(Item_Identifier='FDI27', Item_Weight=8.71, Item_Fat_Content='Regular', Item_Visibility=0.04605781, Item_Type='Dairy', Item_MRP=43.8744, Outlet_Identifier='OUT049', Outlet_Establishment_Year=1999, Outlet_Size='Medium', Outlet_Location_Type='Tier 1', Outlet_Type='Supermarket Type1', Item_Outlet_Sales=633.8416),\n",
       " Row(Item_Identifier='FDD29', Item_Weight=12.15, Item_Fat_Content='Low Fat', Item_Visibility=0.030815427, Item_Type='Frozen Foods', Item_MRP=252.0698, Outlet_Identifier='OUT010', Outlet_Establishment_Year=1998, Outlet_Size=None, Outlet_Location_Type='Tier 3', Outlet_Type='Grocery Store', Item_Outlet_Sales=1014.6792),\n",
       " Row(Item_Identifier='NCR41', Item_Weight=17.85, Item_Fat_Content='Low Fat', Item_Visibility=0.01806055, Item_Type='Health and Hygiene', Item_MRP=97.0094, Outlet_Identifier='OUT045', Outlet_Establishment_Year=2002, Outlet_Size=None, Outlet_Location_Type='Tier 2', Outlet_Type='Supermarket Type1', Item_Outlet_Sales=2094.6068),\n",
       " Row(Item_Identifier='FDW44', Item_Weight=9.5, Item_Fat_Content='Regular', Item_Visibility=0.035205866, Item_Type='Fruits and Vegetables', Item_MRP=171.3448, Outlet_Identifier='OUT049', Outlet_Establishment_Year=1999, Outlet_Size='Medium', Outlet_Location_Type='Tier 1', Outlet_Type='Supermarket Type1', Item_Outlet_Sales=2386.2272),\n",
       " Row(Item_Identifier='FDU21', Item_Weight=11.8, Item_Fat_Content='Regular', Item_Visibility=0.076705948, Item_Type='Snack Foods', Item_MRP=34.7558, Outlet_Identifier='OUT035', Outlet_Establishment_Year=2004, Outlet_Size='Small', Outlet_Location_Type='Tier 2', Outlet_Type='Supermarket Type1', Item_Outlet_Sales=780.9834),\n",
       " Row(Item_Identifier='FDI14', Item_Weight=14.1, Item_Fat_Content='LF', Item_Visibility=0.089677773, Item_Type='Canned', Item_MRP=139.8496, Outlet_Identifier='OUT046', Outlet_Establishment_Year=1997, Outlet_Size='Small', Outlet_Location_Type='Tier 1', Outlet_Type='Supermarket Type1', Item_Outlet_Sales=1693.7952),\n",
       " Row(Item_Identifier='FDW50', Item_Weight=None, Item_Fat_Content='Low Fat', Item_Visibility=0.132327406, Item_Type='Dairy', Item_MRP=168.4158, Outlet_Identifier='OUT019', Outlet_Establishment_Year=1985, Outlet_Size='Small', Outlet_Location_Type='Tier 1', Outlet_Type='Grocery Store', Item_Outlet_Sales=334.2316),\n",
       " Row(Item_Identifier='FDN39', Item_Weight=19.35, Item_Fat_Content='Regular', Item_Visibility=0.065520388, Item_Type='Meat', Item_MRP=168.3816, Outlet_Identifier='OUT046', Outlet_Establishment_Year=1997, Outlet_Size='Small', Outlet_Location_Type='Tier 1', Outlet_Type='Supermarket Type1', Item_Outlet_Sales=1342.2528),\n",
       " Row(Item_Identifier='FDT31', Item_Weight=19.75, Item_Fat_Content='Low Fat', Item_Visibility=0.012518707, Item_Type='Fruits and Vegetables', Item_MRP=190.6872, Outlet_Identifier='OUT017', Outlet_Establishment_Year=2007, Outlet_Size=None, Outlet_Location_Type='Tier 2', Outlet_Type='Supermarket Type1', Item_Outlet_Sales=4916.2672),\n",
       " Row(Item_Identifier='FDJ14', Item_Weight=10.3, Item_Fat_Content='Regular', Item_Visibility=0.050353695, Item_Type='Canned', Item_MRP=78.696, Outlet_Identifier='OUT017', Outlet_Establishment_Year=2007, Outlet_Size=None, Outlet_Location_Type='Tier 2', Outlet_Type='Supermarket Type1', Item_Outlet_Sales=1757.712),\n",
       " Row(Item_Identifier='NCQ43', Item_Weight=None, Item_Fat_Content='Low Fat', Item_Visibility=0.110762642, Item_Type='Others', Item_MRP=108.5912, Outlet_Identifier='OUT027', Outlet_Establishment_Year=1985, Outlet_Size='Medium', Outlet_Location_Type='Tier 3', Outlet_Type='Supermarket Type3', Item_Outlet_Sales=1637.868),\n",
       " Row(Item_Identifier='FDZ22', Item_Weight=None, Item_Fat_Content='Low Fat', Item_Visibility=0.045050674, Item_Type='Snack Foods', Item_MRP=84.925, Outlet_Identifier='OUT027', Outlet_Establishment_Year=1985, Outlet_Size='Medium', Outlet_Location_Type='Tier 3', Outlet_Type='Supermarket Type3', Item_Outlet_Sales=1747.725),\n",
       " Row(Item_Identifier='FDU38', Item_Weight=10.8, Item_Fat_Content='Low Fat', Item_Visibility=0.083016832, Item_Type='Dairy', Item_MRP=193.4504, Outlet_Identifier='OUT017', Outlet_Establishment_Year=2007, Outlet_Size=None, Outlet_Location_Type='Tier 2', Outlet_Type='Supermarket Type1', Item_Outlet_Sales=2876.256),\n",
       " Row(Item_Identifier='FDS32', Item_Weight=17.75, Item_Fat_Content='Regular', Item_Visibility=0.0, Item_Type='Fruits and Vegetables', Item_MRP=139.9838, Outlet_Identifier='OUT045', Outlet_Establishment_Year=2002, Outlet_Size=None, Outlet_Location_Type='Tier 2', Outlet_Type='Supermarket Type1', Item_Outlet_Sales=1966.7732),\n",
       " Row(Item_Identifier='DRH13', Item_Weight=8.575, Item_Fat_Content='Low Fat', Item_Visibility=0.023983258, Item_Type='Soft Drinks', Item_MRP=106.328, Outlet_Identifier='OUT018', Outlet_Establishment_Year=2009, Outlet_Size='Medium', Outlet_Location_Type='Tier 3', Outlet_Type='Supermarket Type2', Item_Outlet_Sales=958.752),\n",
       " Row(Item_Identifier='DRF03', Item_Weight=19.1, Item_Fat_Content='Low Fat', Item_Visibility=0.075836522, Item_Type='Dairy', Item_MRP=40.2138, Outlet_Identifier='OUT010', Outlet_Establishment_Year=1998, Outlet_Size=None, Outlet_Location_Type='Tier 3', Outlet_Type='Grocery Store', Item_Outlet_Sales=81.2276),\n",
       " Row(Item_Identifier='FDJ20', Item_Weight=20.7, Item_Fat_Content='Regular', Item_Visibility=0.100330684, Item_Type='Fruits and Vegetables', Item_MRP=123.4388, Outlet_Identifier='OUT049', Outlet_Establishment_Year=1999, Outlet_Size='Medium', Outlet_Location_Type='Tier 1', Outlet_Type='Supermarket Type1', Item_Outlet_Sales=1238.388),\n",
       " Row(Item_Identifier='FDE22', Item_Weight=None, Item_Fat_Content='Low Fat', Item_Visibility=0.051778173, Item_Type='Snack Foods', Item_MRP=157.892, Outlet_Identifier='OUT019', Outlet_Establishment_Year=1985, Outlet_Size='Small', Outlet_Location_Type='Tier 1', Outlet_Type='Grocery Store', Item_Outlet_Sales=319.584),\n",
       " Row(Item_Identifier='FDX22', Item_Weight=6.785, Item_Fat_Content='Regular', Item_Visibility=0.022970468, Item_Type='Snack Foods', Item_MRP=211.0928, Outlet_Identifier='OUT035', Outlet_Establishment_Year=2004, Outlet_Size='Small', Outlet_Location_Type='Tier 2', Outlet_Type='Supermarket Type1', Item_Outlet_Sales=4418.2488),\n",
       " Row(Item_Identifier='DRM11', Item_Weight=6.57, Item_Fat_Content='Low Fat', Item_Visibility=0.066014596, Item_Type='Hard Drinks', Item_MRP=259.7278, Outlet_Identifier='OUT013', Outlet_Establishment_Year=1987, Outlet_Size='High', Outlet_Location_Type='Tier 3', Outlet_Type='Supermarket Type1', Item_Outlet_Sales=2863.6058),\n",
       " Row(Item_Identifier='FDL58', Item_Weight=5.78, Item_Fat_Content='Regular', Item_Visibility=0.07429945, Item_Type='Snack Foods', Item_MRP=264.9568, Outlet_Identifier='OUT045', Outlet_Establishment_Year=2002, Outlet_Size=None, Outlet_Location_Type='Tier 2', Outlet_Type='Supermarket Type1', Item_Outlet_Sales=1845.5976),\n",
       " Row(Item_Identifier='FDL25', Item_Weight=6.92, Item_Fat_Content='Regular', Item_Visibility=0.131128467, Item_Type='Breakfast', Item_MRP=93.1804, Outlet_Identifier='OUT049', Outlet_Establishment_Year=1999, Outlet_Size='Medium', Outlet_Location_Type='Tier 1', Outlet_Type='Supermarket Type1', Item_Outlet_Sales=1561.9668),\n",
       " Row(Item_Identifier='FDD40', Item_Weight=20.25, Item_Fat_Content='Regular', Item_Visibility=0.014816356, Item_Type='Dairy', Item_MRP=194.1162, Outlet_Identifier='OUT049', Outlet_Establishment_Year=1999, Outlet_Size='Medium', Outlet_Location_Type='Tier 1', Outlet_Type='Supermarket Type1', Item_Outlet_Sales=3848.324),\n",
       " Row(Item_Identifier='FDT08', Item_Weight=13.65, Item_Fat_Content='Low Fat', Item_Visibility=0.049318315, Item_Type='Fruits and Vegetables', Item_MRP=149.005, Outlet_Identifier='OUT045', Outlet_Establishment_Year=2002, Outlet_Size=None, Outlet_Location_Type='Tier 2', Outlet_Type='Supermarket Type1', Item_Outlet_Sales=2097.27),\n",
       " Row(Item_Identifier='FDO22', Item_Weight=13.5, Item_Fat_Content='Regular', Item_Visibility=0.017960492, Item_Type='Snack Foods', Item_MRP=81.596, Outlet_Identifier='OUT017', Outlet_Establishment_Year=2007, Outlet_Size=None, Outlet_Location_Type='Tier 2', Outlet_Type='Supermarket Type1', Item_Outlet_Sales=639.168),\n",
       " Row(Item_Identifier='NCM41', Item_Weight=16.5, Item_Fat_Content='Low Fat', Item_Visibility=0.035801238, Item_Type='Health and Hygiene', Item_MRP=92.612, Outlet_Identifier='OUT018', Outlet_Establishment_Year=2009, Outlet_Size='Medium', Outlet_Location_Type='Tier 3', Outlet_Type='Supermarket Type2', Item_Outlet_Sales=559.272),\n",
       " Row(Item_Identifier='FDJ21', Item_Weight=16.7, Item_Fat_Content='Regular', Item_Visibility=0.038606365, Item_Type='Snack Foods', Item_MRP=146.5102, Outlet_Identifier='OUT045', Outlet_Establishment_Year=2002, Outlet_Size=None, Outlet_Location_Type='Tier 2', Outlet_Type='Supermarket Type1', Item_Outlet_Sales=2770.3938),\n",
       " Row(Item_Identifier='FDC53', Item_Weight=8.68, Item_Fat_Content='Low Fat', Item_Visibility=0.008871687, Item_Type='Frozen Foods', Item_MRP=99.7384, Outlet_Identifier='OUT018', Outlet_Establishment_Year=2009, Outlet_Size='Medium', Outlet_Location_Type='Tier 3', Outlet_Type='Supermarket Type2', Item_Outlet_Sales=295.6152),\n",
       " Row(Item_Identifier='DRK35', Item_Weight=None, Item_Fat_Content='Low Fat', Item_Visibility=0.125793938, Item_Type='Hard Drinks', Item_MRP=36.2506, Outlet_Identifier='OUT019', Outlet_Establishment_Year=1985, Outlet_Size='Small', Outlet_Location_Type='Tier 1', Outlet_Type='Grocery Store', Item_Outlet_Sales=37.9506),\n",
       " Row(Item_Identifier='FDQ09', Item_Weight=7.235, Item_Fat_Content='Low Fat', Item_Visibility=0.058369013, Item_Type='Snack Foods', Item_MRP=115.2834, Outlet_Identifier='OUT018', Outlet_Establishment_Year=2009, Outlet_Size='Medium', Outlet_Location_Type='Tier 3', Outlet_Type='Supermarket Type2', Item_Outlet_Sales=1267.0174),\n",
       " Row(Item_Identifier='DRB48', Item_Weight=16.75, Item_Fat_Content='Regular', Item_Visibility=0.0, Item_Type='Soft Drinks', Item_MRP=39.3822, Outlet_Identifier='OUT046', Outlet_Establishment_Year=1997, Outlet_Size='Small', Outlet_Location_Type='Tier 1', Outlet_Type='Supermarket Type1', Item_Outlet_Sales=353.5398),\n",
       " Row(Item_Identifier='DRE25', Item_Weight=15.35, Item_Fat_Content='Low Fat', Item_Visibility=0.073269336, Item_Type='Soft Drinks', Item_MRP=92.112, Outlet_Identifier='OUT035', Outlet_Establishment_Year=2004, Outlet_Size='Small', Outlet_Location_Type='Tier 2', Outlet_Type='Supermarket Type1', Item_Outlet_Sales=1118.544),\n",
       " Row(Item_Identifier='FDL08', Item_Weight=10.8, Item_Fat_Content='Low Fat', Item_Visibility=0.049677651, Item_Type='Fruits and Vegetables', Item_MRP=245.9144, Outlet_Identifier='OUT013', Outlet_Establishment_Year=1987, Outlet_Size='High', Outlet_Location_Type='Tier 3', Outlet_Type='Supermarket Type1', Item_Outlet_Sales=4655.2736),\n",
       " Row(Item_Identifier='NCV42', Item_Weight=6.26, Item_Fat_Content='Low Fat', Item_Visibility=0.031470832, Item_Type='Household', Item_MRP=110.2228, Outlet_Identifier='OUT049', Outlet_Establishment_Year=1999, Outlet_Size='Medium', Outlet_Location_Type='Tier 1', Outlet_Type='Supermarket Type1', Item_Outlet_Sales=1547.3192),\n",
       " Row(Item_Identifier='FDW03', Item_Weight=5.63, Item_Fat_Content='Regular', Item_Visibility=0.024579432, Item_Type='Meat', Item_MRP=105.3306, Outlet_Identifier='OUT049', Outlet_Establishment_Year=1999, Outlet_Size='Medium', Outlet_Location_Type='Tier 1', Outlet_Type='Supermarket Type1', Item_Outlet_Sales=1045.306),\n",
       " Row(Item_Identifier='FDL25', Item_Weight=6.92, Item_Fat_Content='Regular', Item_Visibility=0.131665479, Item_Type='Breakfast', Item_MRP=91.8804, Outlet_Identifier='OUT017', Outlet_Establishment_Year=2007, Outlet_Size=None, Outlet_Location_Type='Tier 2', Outlet_Type='Supermarket Type1', Item_Outlet_Sales=275.6412),\n",
       " Row(Item_Identifier='FDC17', Item_Weight=12.15, Item_Fat_Content='Low Fat', Item_Visibility=0.015523707, Item_Type='Frozen Foods', Item_MRP=212.0928, Outlet_Identifier='OUT018', Outlet_Establishment_Year=2009, Outlet_Size='Medium', Outlet_Location_Type='Tier 3', Outlet_Type='Supermarket Type2', Item_Outlet_Sales=2735.1064),\n",
       " Row(Item_Identifier='FDK44', Item_Weight=16.6, Item_Fat_Content='Low Fat', Item_Visibility=0.122475364, Item_Type='Fruits and Vegetables', Item_MRP=175.5738, Outlet_Identifier='OUT045', Outlet_Establishment_Year=2002, Outlet_Size=None, Outlet_Location_Type='Tier 2', Outlet_Type='Supermarket Type1', Item_Outlet_Sales=347.5476),\n",
       " Row(Item_Identifier='FDE34', Item_Weight=9.195, Item_Fat_Content='Low Fat', Item_Visibility=0.107891398, Item_Type='Snack Foods', Item_MRP=182.7634, Outlet_Identifier='OUT046', Outlet_Establishment_Year=1997, Outlet_Size='Small', Outlet_Location_Type='Tier 1', Outlet_Type='Supermarket Type1', Item_Outlet_Sales=3817.0314),\n",
       " Row(Item_Identifier='FDP10', Item_Weight=19.0, Item_Fat_Content='Low Fat', Item_Visibility=0.128065918, Item_Type='Snack Foods', Item_MRP=104.3622, Outlet_Identifier='OUT035', Outlet_Establishment_Year=2004, Outlet_Size='Small', Outlet_Location_Type='Tier 2', Outlet_Type='Supermarket Type1', Item_Outlet_Sales=1905.5196),\n",
       " Row(Item_Identifier='FDZ22', Item_Weight=9.395, Item_Fat_Content='Low Fat', Item_Visibility=0.045361705, Item_Type='Snack Foods', Item_MRP=83.825, Outlet_Identifier='OUT045', Outlet_Establishment_Year=2002, Outlet_Size=None, Outlet_Location_Type='Tier 2', Outlet_Type='Supermarket Type1', Item_Outlet_Sales=665.8),\n",
       " Row(Item_Identifier='NCK19', Item_Weight=9.8, Item_Fat_Content='Low Fat', Item_Visibility=0.090390357, Item_Type='Others', Item_MRP=192.1478, Outlet_Identifier='OUT013', Outlet_Establishment_Year=1987, Outlet_Size='High', Outlet_Location_Type='Tier 3', Outlet_Type='Supermarket Type1', Item_Outlet_Sales=2324.9736),\n",
       " Row(Item_Identifier='FDO44', Item_Weight=None, Item_Fat_Content='Low Fat', Item_Visibility=0.087029712, Item_Type='Fruits and Vegetables', Item_MRP=109.2228, Outlet_Identifier='OUT027', Outlet_Establishment_Year=1985, Outlet_Size='Medium', Outlet_Location_Type='Tier 3', Outlet_Type='Supermarket Type3', Item_Outlet_Sales=3205.1612),\n",
       " Row(Item_Identifier='NCU41', Item_Weight=18.85, Item_Fat_Content='LF', Item_Visibility=0.052054819, Item_Type='Health and Hygiene', Item_MRP=189.1846, Outlet_Identifier='OUT046', Outlet_Establishment_Year=1997, Outlet_Size='Small', Outlet_Location_Type='Tier 1', Outlet_Type='Supermarket Type1', Item_Outlet_Sales=2101.9306),\n",
       " Row(Item_Identifier='NCF31', Item_Weight=9.13, Item_Fat_Content='Low Fat', Item_Visibility=0.051952573, Item_Type='Household', Item_MRP=152.3024, Outlet_Identifier='OUT045', Outlet_Establishment_Year=2002, Outlet_Size=None, Outlet_Location_Type='Tier 2', Outlet_Type='Supermarket Type1', Item_Outlet_Sales=1821.6288),\n",
       " Row(Item_Identifier='FDG14', Item_Weight=9.0, Item_Fat_Content='Regular', Item_Visibility=0.050786366, Item_Type='Canned', Item_MRP=152.2024, Outlet_Identifier='OUT017', Outlet_Establishment_Year=2007, Outlet_Size=None, Outlet_Location_Type='Tier 2', Outlet_Type='Supermarket Type1', Item_Outlet_Sales=3643.2576),\n",
       " Row(Item_Identifier='NCH30', Item_Weight=17.1, Item_Fat_Content='Low Fat', Item_Visibility=0.067141355, Item_Type='Household', Item_MRP=114.586, Outlet_Identifier='OUT035', Outlet_Establishment_Year=2004, Outlet_Size='Small', Outlet_Location_Type='Tier 2', Outlet_Type='Supermarket Type1', Item_Outlet_Sales=2942.836),\n",
       " Row(Item_Identifier='FDR36', Item_Weight=6.715, Item_Fat_Content='Regular', Item_Visibility=0.121485195, Item_Type='Baking Goods', Item_MRP=40.2454, Outlet_Identifier='OUT013', Outlet_Establishment_Year=1987, Outlet_Size='High', Outlet_Location_Type='Tier 3', Outlet_Type='Supermarket Type1', Item_Outlet_Sales=587.2356),\n",
       " Row(Item_Identifier='NCJ30', Item_Weight=5.82, Item_Fat_Content='Low Fat', Item_Visibility=0.080640478, Item_Type='Household', Item_MRP=167.779, Outlet_Identifier='OUT046', Outlet_Establishment_Year=1997, Outlet_Size='Small', Outlet_Location_Type='Tier 1', Outlet_Type='Supermarket Type1', Item_Outlet_Sales=2886.243),\n",
       " Row(Item_Identifier='FDR08', Item_Weight=18.7, Item_Fat_Content='Low Fat', Item_Visibility=0.037699254, Item_Type='Fruits and Vegetables', Item_MRP=110.2886, Outlet_Identifier='OUT045', Outlet_Establishment_Year=2002, Outlet_Size=None, Outlet_Location_Type='Tier 2', Outlet_Type='Supermarket Type1', Item_Outlet_Sales=2223.772),\n",
       " Row(Item_Identifier='FDU04', Item_Weight=7.93, Item_Fat_Content='Low Fat', Item_Visibility=0.0, Item_Type='Frozen Foods', Item_MRP=123.2414, Outlet_Identifier='OUT018', Outlet_Establishment_Year=2009, Outlet_Size='Medium', Outlet_Location_Type='Tier 3', Outlet_Type='Supermarket Type2', Item_Outlet_Sales=487.3656),\n",
       " Row(Item_Identifier='NCQ50', Item_Weight=18.75, Item_Fat_Content='Low Fat', Item_Visibility=0.034501405, Item_Type='Household', Item_MRP=211.7218, Outlet_Identifier='OUT017', Outlet_Establishment_Year=2007, Outlet_Size=None, Outlet_Location_Type='Tier 2', Outlet_Type='Supermarket Type1', Item_Outlet_Sales=5770.4886),\n",
       " Row(Item_Identifier='FDL46', Item_Weight=None, Item_Fat_Content='Low Fat', Item_Visibility=0.053795154, Item_Type='Snack Foods', Item_MRP=117.7466, Outlet_Identifier='OUT027', Outlet_Establishment_Year=1985, Outlet_Size='Medium', Outlet_Location_Type='Tier 3', Outlet_Type='Supermarket Type3', Item_Outlet_Sales=1414.1592),\n",
       " Row(Item_Identifier='DRK37', Item_Weight=5.0, Item_Fat_Content='Low Fat', Item_Visibility=0.044004675, Item_Type='Soft Drinks', Item_MRP=188.853, Outlet_Identifier='OUT046', Outlet_Establishment_Year=1997, Outlet_Size='Small', Outlet_Location_Type='Tier 1', Outlet_Type='Supermarket Type1', Item_Outlet_Sales=5502.837),\n",
       " Row(Item_Identifier='FDK48', Item_Weight=7.445, Item_Fat_Content='low fat', Item_Visibility=0.0, Item_Type='Baking Goods', Item_MRP=76.8354, Outlet_Identifier='OUT046', Outlet_Establishment_Year=1997, Outlet_Size='Small', Outlet_Location_Type='Tier 1', Outlet_Type='Supermarket Type1', Item_Outlet_Sales=2181.8266),\n",
       " Row(Item_Identifier='FDV58', Item_Weight=20.85, Item_Fat_Content='Low Fat', Item_Visibility=0.121250374, Item_Type='Snack Foods', Item_MRP=193.9452, Outlet_Identifier='OUT046', Outlet_Establishment_Year=1997, Outlet_Size='Small', Outlet_Location_Type='Tier 1', Outlet_Type='Supermarket Type1', Item_Outlet_Sales=1565.9616),\n",
       " Row(Item_Identifier='FDN27', Item_Weight=20.85, Item_Fat_Content='Low Fat', Item_Visibility=0.0, Item_Type='Meat', Item_MRP=115.1808, Outlet_Identifier='OUT018', Outlet_Establishment_Year=2009, Outlet_Size='Medium', Outlet_Location_Type='Tier 3', Outlet_Type='Supermarket Type2', Item_Outlet_Sales=1054.6272),\n",
       " Row(Item_Identifier='FDZ52', Item_Weight=19.2, Item_Fat_Content='Low Fat', Item_Visibility=0.100230114, Item_Type='Frozen Foods', Item_MRP=112.9886, Outlet_Identifier='OUT049', Outlet_Establishment_Year=1999, Outlet_Size='Medium', Outlet_Location_Type='Tier 1', Outlet_Type='Supermarket Type1', Item_Outlet_Sales=1667.829),\n",
       " Row(Item_Identifier='NCF42', Item_Weight=17.35, Item_Fat_Content='Low Fat', Item_Visibility=0.167383061, Item_Type='Household', Item_MRP=175.6712, Outlet_Identifier='OUT046', Outlet_Establishment_Year=1997, Outlet_Size='Small', Outlet_Location_Type='Tier 1', Outlet_Type='Supermarket Type1', Item_Outlet_Sales=2812.3392),\n",
       " Row(Item_Identifier='FDQ48', Item_Weight=14.3, Item_Fat_Content='Regular', Item_Visibility=0.034404732, Item_Type='Baking Goods', Item_MRP=98.1726, Outlet_Identifier='OUT035', Outlet_Establishment_Year=2004, Outlet_Size='Small', Outlet_Location_Type='Tier 2', Outlet_Type='Supermarket Type1', Item_Outlet_Sales=489.363),\n",
       " Row(Item_Identifier='FDW49', Item_Weight=19.5, Item_Fat_Content='Low Fat', Item_Visibility=0.082719632, Item_Type='Canned', Item_MRP=179.3002, Outlet_Identifier='OUT045', Outlet_Establishment_Year=2002, Outlet_Size=None, Outlet_Location_Type='Tier 2', Outlet_Type='Supermarket Type1', Item_Outlet_Sales=2865.6032),\n",
       " Row(Item_Identifier='FDR58', Item_Weight=6.675, Item_Fat_Content='Low Fat', Item_Visibility=0.041913535, Item_Type='Snack Foods', Item_MRP=90.7462, Outlet_Identifier='OUT035', Outlet_Establishment_Year=2004, Outlet_Size='Small', Outlet_Location_Type='Tier 2', Outlet_Type='Supermarket Type1', Item_Outlet_Sales=1665.8316),\n",
       " Row(Item_Identifier='NCE07', Item_Weight=8.18, Item_Fat_Content='Low Fat', Item_Visibility=0.0132043, Item_Type='Household', Item_MRP=143.8154, Outlet_Identifier='OUT017', Outlet_Establishment_Year=2007, Outlet_Size=None, Outlet_Location_Type='Tier 2', Outlet_Type='Supermarket Type1', Item_Outlet_Sales=2694.4926),\n",
       " Row(Item_Identifier='FDK14', Item_Weight=6.98, Item_Fat_Content='Low Fat', Item_Visibility=0.041105789, Item_Type='Canned', Item_MRP=83.4934, Outlet_Identifier='OUT046', Outlet_Establishment_Year=1997, Outlet_Size='Small', Outlet_Location_Type='Tier 1', Outlet_Type='Supermarket Type1', Item_Outlet_Sales=1555.9746),\n",
       " Row(Item_Identifier='FDC11', Item_Weight=None, Item_Fat_Content='LF', Item_Visibility=0.141106202, Item_Type='Starchy Foods', Item_MRP=87.9172, Outlet_Identifier='OUT027', Outlet_Establishment_Year=1985, Outlet_Size='Medium', Outlet_Location_Type='Tier 3', Outlet_Type='Supermarket Type3', Item_Outlet_Sales=3836.3396),\n",
       " Row(Item_Identifier='FDL22', Item_Weight=16.85, Item_Fat_Content='Low Fat', Item_Visibility=0.036463975, Item_Type='Snack Foods', Item_MRP=90.7488, Outlet_Identifier='OUT045', Outlet_Establishment_Year=2002, Outlet_Size=None, Outlet_Location_Type='Tier 2', Outlet_Type='Supermarket Type1', Item_Outlet_Sales=543.2928),\n",
       " Row(Item_Identifier='NCQ41', Item_Weight=14.8, Item_Fat_Content='Low Fat', Item_Visibility=0.01946418, Item_Type='Health and Hygiene', Item_MRP=196.3794, Outlet_Identifier='OUT013', Outlet_Establishment_Year=1987, Outlet_Size='High', Outlet_Location_Type='Tier 3', Outlet_Type='Supermarket Type1', Item_Outlet_Sales=1950.794),\n",
       " Row(Item_Identifier='FDX46', Item_Weight=12.3, Item_Fat_Content='Regular', Item_Visibility=0.0, Item_Type='Snack Foods', Item_MRP=57.3562, Outlet_Identifier='OUT013', Outlet_Establishment_Year=1987, Outlet_Size='High', Outlet_Location_Type='Tier 3', Outlet_Type='Supermarket Type1', Item_Outlet_Sales=177.7686),\n",
       " Row(Item_Identifier='FDC35', Item_Weight=7.435, Item_Fat_Content='Low Fat', Item_Visibility=0.123086812, Item_Type='Starchy Foods', Item_MRP=206.9638, Outlet_Identifier='OUT045', Outlet_Establishment_Year=2002, Outlet_Size=None, Outlet_Location_Type='Tier 2', Outlet_Type='Supermarket Type1', Item_Outlet_Sales=1035.319),\n",
       " Row(Item_Identifier='FDH45', Item_Weight=15.1, Item_Fat_Content='reg', Item_Visibility=0.105646853, Item_Type='Fruits and Vegetables', Item_MRP=42.8796, Outlet_Identifier='OUT035', Outlet_Establishment_Year=2004, Outlet_Size='Small', Outlet_Location_Type='Tier 2', Outlet_Type='Supermarket Type1', Item_Outlet_Sales=949.4308),\n",
       " Row(Item_Identifier='FDX33', Item_Weight=9.195, Item_Fat_Content='Regular', Item_Visibility=0.118149377, Item_Type='Snack Foods', Item_MRP=160.5578, Outlet_Identifier='OUT017', Outlet_Establishment_Year=2007, Outlet_Size=None, Outlet_Location_Type='Tier 2', Outlet_Type='Supermarket Type1', Item_Outlet_Sales=1283.6624),\n",
       " Row(Item_Identifier='DRJ35', Item_Weight=10.1, Item_Fat_Content='Low Fat', Item_Visibility=0.046545786, Item_Type='Hard Drinks', Item_MRP=59.9878, Outlet_Identifier='OUT013', Outlet_Establishment_Year=1987, Outlet_Size='High', Outlet_Location_Type='Tier 3', Outlet_Type='Supermarket Type1', Item_Outlet_Sales=484.7024),\n",
       " Row(Item_Identifier='FDC40', Item_Weight=16.0, Item_Fat_Content='Regular', Item_Visibility=0.065009745, Item_Type='Dairy', Item_MRP=79.5986, Outlet_Identifier='OUT013', Outlet_Establishment_Year=1987, Outlet_Size='High', Outlet_Location_Type='Tier 3', Outlet_Type='Supermarket Type1', Item_Outlet_Sales=934.7832),\n",
       " Row(Item_Identifier='FDO19', Item_Weight=17.7, Item_Fat_Content='Regular', Item_Visibility=0.016630303, Item_Type='Fruits and Vegetables', Item_MRP=48.1034, Outlet_Identifier='OUT045', Outlet_Establishment_Year=2002, Outlet_Size=None, Outlet_Location_Type='Tier 2', Outlet_Type='Supermarket Type1', Item_Outlet_Sales=534.6374),\n",
       " Row(Item_Identifier='FDP13', Item_Weight=8.1, Item_Fat_Content='Regular', Item_Visibility=0.134532392, Item_Type='Canned', Item_MRP=39.448, Outlet_Identifier='OUT049', Outlet_Establishment_Year=1999, Outlet_Size='Medium', Outlet_Location_Type='Tier 1', Outlet_Type='Supermarket Type1', Item_Outlet_Sales=878.856),\n",
       " Row(Item_Identifier='FDP24', Item_Weight=20.6, Item_Fat_Content='LF', Item_Visibility=0.083133128, Item_Type='Baking Goods', Item_MRP=120.1756, Outlet_Identifier='OUT049', Outlet_Establishment_Year=1999, Outlet_Size='Medium', Outlet_Location_Type='Tier 1', Outlet_Type='Supermarket Type1', Item_Outlet_Sales=1332.9316),\n",
       " Row(Item_Identifier='NCQ42', Item_Weight=20.35, Item_Fat_Content='Low Fat', Item_Visibility=0.039428167, Item_Type='Household', Item_MRP=127.9678, Outlet_Identifier='OUT018', Outlet_Establishment_Year=2009, Outlet_Size='Medium', Outlet_Location_Type='Tier 3', Outlet_Type='Supermarket Type2', Item_Outlet_Sales=3560.6984),\n",
       " Row(Item_Identifier='FDY59', Item_Weight=8.195, Item_Fat_Content='Low Fat', Item_Visibility=0.0, Item_Type='Baking Goods', Item_MRP=93.1462, Outlet_Identifier='OUT018', Outlet_Establishment_Year=2009, Outlet_Size='Medium', Outlet_Location_Type='Tier 3', Outlet_Type='Supermarket Type2', Item_Outlet_Sales=647.8234),\n",
       " Row(Item_Identifier='FDU14', Item_Weight=17.75, Item_Fat_Content='Low Fat', Item_Visibility=0.034823127, Item_Type='Dairy', Item_MRP=248.675, Outlet_Identifier='OUT045', Outlet_Establishment_Year=2002, Outlet_Size=None, Outlet_Location_Type='Tier 2', Outlet_Type='Supermarket Type1', Item_Outlet_Sales=4993.5),\n",
       " Row(Item_Identifier='FDB21', Item_Weight=7.475, Item_Fat_Content='Low Fat', Item_Visibility=0.148492521, Item_Type='Fruits and Vegetables', Item_MRP=240.6854, Outlet_Identifier='OUT035', Outlet_Establishment_Year=2004, Outlet_Size='Small', Outlet_Location_Type='Tier 2', Outlet_Type='Supermarket Type1', Item_Outlet_Sales=1691.7978),\n",
       " Row(Item_Identifier='FDT32', Item_Weight=19.0, Item_Fat_Content='Regular', Item_Visibility=0.065901299, Item_Type='Fruits and Vegetables', Item_MRP=188.7214, Outlet_Identifier='OUT018', Outlet_Establishment_Year=2009, Outlet_Size='Medium', Outlet_Location_Type='Tier 3', Outlet_Type='Supermarket Type2', Item_Outlet_Sales=1695.7926),\n",
       " Row(Item_Identifier='FDK20', Item_Weight=12.6, Item_Fat_Content='Regular', Item_Visibility=0.041622264, Item_Type='Fruits and Vegetables', Item_MRP=124.0072, Outlet_Identifier='OUT049', Outlet_Establishment_Year=1999, Outlet_Size='Medium', Outlet_Location_Type='Tier 1', Outlet_Type='Supermarket Type1', Item_Outlet_Sales=4042.7376),\n",
       " Row(Item_Identifier='FDX09', Item_Weight=None, Item_Fat_Content='Low Fat', Item_Visibility=0.064933297, Item_Type='Snack Foods', Item_MRP=174.837, Outlet_Identifier='OUT027', Outlet_Establishment_Year=1985, Outlet_Size='Medium', Outlet_Location_Type='Tier 3', Outlet_Type='Supermarket Type3', Item_Outlet_Sales=4763.799),\n",
       " Row(Item_Identifier='FDM01', Item_Weight=7.895, Item_Fat_Content='Regular', Item_Visibility=0.0945493, Item_Type='Breakfast', Item_MRP=102.6332, Outlet_Identifier='OUT035', Outlet_Establishment_Year=2004, Outlet_Size='Small', Outlet_Location_Type='Tier 2', Outlet_Type='Supermarket Type1', Item_Outlet_Sales=1640.5312),\n",
       " Row(Item_Identifier='DRI37', Item_Weight=None, Item_Fat_Content='Low Fat', Item_Visibility=0.107076832, Item_Type='Soft Drinks', Item_MRP=58.7904, Outlet_Identifier='OUT027', Outlet_Establishment_Year=1985, Outlet_Size='Medium', Outlet_Location_Type='Tier 3', Outlet_Type='Supermarket Type3', Item_Outlet_Sales=1288.9888),\n",
       " Row(Item_Identifier='FDL20', Item_Weight=17.1, Item_Fat_Content='Low Fat', Item_Visibility=0.128674983, Item_Type='Fruits and Vegetables', Item_MRP=112.3886, Outlet_Identifier='OUT045', Outlet_Establishment_Year=2002, Outlet_Size=None, Outlet_Location_Type='Tier 2', Outlet_Type='Supermarket Type1', Item_Outlet_Sales=2334.9606),\n",
       " Row(Item_Identifier='FDU13', Item_Weight=8.355, Item_Fat_Content='Low Fat', Item_Visibility=0.188322664, Item_Type='Canned', Item_MRP=148.5418, Outlet_Identifier='OUT018', Outlet_Establishment_Year=2009, Outlet_Size='Medium', Outlet_Location_Type='Tier 3', Outlet_Type='Supermarket Type2', Item_Outlet_Sales=2207.127),\n",
       " Row(Item_Identifier='FDE05', Item_Weight=None, Item_Fat_Content='Regular', Item_Visibility=0.0, Item_Type='Frozen Foods', Item_MRP=145.2102, Outlet_Identifier='OUT019', Outlet_Establishment_Year=1985, Outlet_Size='Small', Outlet_Location_Type='Tier 1', Outlet_Type='Grocery Store', Item_Outlet_Sales=437.4306),\n",
       " Row(Item_Identifier='FDE58', Item_Weight=18.5, Item_Fat_Content='Low Fat', Item_Visibility=0.052025392, Item_Type='Snack Foods', Item_MRP=118.4124, Outlet_Identifier='OUT013', Outlet_Establishment_Year=1987, Outlet_Size='High', Outlet_Location_Type='Tier 3', Outlet_Type='Supermarket Type1', Item_Outlet_Sales=2370.248),\n",
       " Row(Item_Identifier='FDT32', Item_Weight=None, Item_Fat_Content='Regular', Item_Visibility=0.065316099, Item_Type='Fruits and Vegetables', Item_MRP=189.9214, Outlet_Identifier='OUT027', Outlet_Establishment_Year=1985, Outlet_Size='Medium', Outlet_Location_Type='Tier 3', Outlet_Type='Supermarket Type3', Item_Outlet_Sales=5087.3778),\n",
       " Row(Item_Identifier='FDZ01', Item_Weight=8.975, Item_Fat_Content='Regular', Item_Visibility=0.01516265, Item_Type='Canned', Item_MRP=101.899, Outlet_Identifier='OUT010', Outlet_Establishment_Year=1998, Outlet_Size=None, Outlet_Location_Type='Tier 3', Outlet_Type='Grocery Store', Item_Outlet_Sales=103.199),\n",
       " Row(Item_Identifier='FDM08', Item_Weight=10.1, Item_Fat_Content='Regular', Item_Visibility=0.053584207, Item_Type='Fruits and Vegetables', Item_MRP=224.4088, Outlet_Identifier='OUT046', Outlet_Establishment_Year=1997, Outlet_Size='Small', Outlet_Location_Type='Tier 1', Outlet_Type='Supermarket Type1', Item_Outlet_Sales=4697.8848),\n",
       " Row(Item_Identifier='FDS58', Item_Weight=9.285, Item_Fat_Content='Regular', Item_Visibility=0.020989132, Item_Type='Snack Foods', Item_MRP=158.6578, Outlet_Identifier='OUT013', Outlet_Establishment_Year=1987, Outlet_Size='High', Outlet_Location_Type='Tier 3', Outlet_Type='Supermarket Type1', Item_Outlet_Sales=2406.867),\n",
       " Row(Item_Identifier='FDZ26', Item_Weight=11.6, Item_Fat_Content='Regular', Item_Visibility=0.144017405, Item_Type='Dairy', Item_MRP=238.3222, Outlet_Identifier='OUT046', Outlet_Establishment_Year=1997, Outlet_Size='Small', Outlet_Location_Type='Tier 1', Outlet_Type='Supermarket Type1', Item_Outlet_Sales=5736.5328),\n",
       " Row(Item_Identifier='FDC46', Item_Weight=None, Item_Fat_Content='Low Fat', Item_Visibility=0.115978122, Item_Type='Snack Foods', Item_MRP=183.4266, Outlet_Identifier='OUT027', Outlet_Establishment_Year=1985, Outlet_Size='Medium', Outlet_Location_Type='Tier 3', Outlet_Type='Supermarket Type3', Item_Outlet_Sales=7192.6374),\n",
       " Row(Item_Identifier='FDY51', Item_Weight=12.5, Item_Fat_Content='Low Fat', Item_Visibility=0.081465335, Item_Type='Meat', Item_MRP=220.7798, Outlet_Identifier='OUT018', Outlet_Establishment_Year=2009, Outlet_Size='Medium', Outlet_Location_Type='Tier 3', Outlet_Type='Supermarket Type2', Item_Outlet_Sales=6611.394),\n",
       " Row(Item_Identifier='FDL34', Item_Weight=16.0, Item_Fat_Content='Low Fat', Item_Visibility=0.041177505, Item_Type='Snack Foods', Item_MRP=142.3496, Outlet_Identifier='OUT017', Outlet_Establishment_Year=2007, Outlet_Size=None, Outlet_Location_Type='Tier 2', Outlet_Type='Supermarket Type1', Item_Outlet_Sales=3246.4408),\n",
       " Row(Item_Identifier='DRG39', Item_Weight=14.15, Item_Fat_Content='Low Fat', Item_Visibility=0.042352822, Item_Type='Dairy', Item_MRP=51.6982, Outlet_Identifier='OUT018', Outlet_Establishment_Year=2009, Outlet_Size='Medium', Outlet_Location_Type='Tier 3', Outlet_Type='Supermarket Type2', Item_Outlet_Sales=1262.3568),\n",
       " Row(Item_Identifier='NCG43', Item_Weight=20.2, Item_Fat_Content='Low Fat', Item_Visibility=0.074541867, Item_Type='Household', Item_MRP=94.1462, Outlet_Identifier='OUT018', Outlet_Establishment_Year=2009, Outlet_Size='Medium', Outlet_Location_Type='Tier 3', Outlet_Type='Supermarket Type2', Item_Outlet_Sales=1758.3778),\n",
       " Row(Item_Identifier='FDT01', Item_Weight=13.65, Item_Fat_Content='Regular', Item_Visibility=0.18454121, Item_Type='Canned', Item_MRP=211.5902, Outlet_Identifier='OUT045', Outlet_Establishment_Year=2002, Outlet_Size=None, Outlet_Location_Type='Tier 2', Outlet_Type='Supermarket Type1', Item_Outlet_Sales=4672.5844),\n",
       " Row(Item_Identifier='NCR38', Item_Weight=17.25, Item_Fat_Content='Low Fat', Item_Visibility=0.114160573, Item_Type='Household', Item_MRP=253.1724, Outlet_Identifier='OUT017', Outlet_Establishment_Year=2007, Outlet_Size=None, Outlet_Location_Type='Tier 2', Outlet_Type='Supermarket Type1', Item_Outlet_Sales=3775.086),\n",
       " Row(Item_Identifier='DRF01', Item_Weight=5.655, Item_Fat_Content='Low Fat', Item_Visibility=0.175352413, Item_Type='Soft Drinks', Item_MRP=147.4102, Outlet_Identifier='OUT049', Outlet_Establishment_Year=1999, Outlet_Size='Medium', Outlet_Location_Type='Tier 1', Outlet_Type='Supermarket Type1', Item_Outlet_Sales=2478.7734),\n",
       " Row(Item_Identifier='FDF53', Item_Weight=20.75, Item_Fat_Content='Regular', Item_Visibility=0.083590755, Item_Type='Frozen Foods', Item_MRP=182.2318, Outlet_Identifier='OUT035', Outlet_Establishment_Year=2004, Outlet_Size='Small', Outlet_Location_Type='Tier 2', Outlet_Type='Supermarket Type1', Item_Outlet_Sales=3067.3406),\n",
       " Row(Item_Identifier='FDS45', Item_Weight=5.175, Item_Fat_Content='Regular', Item_Visibility=0.029471408, Item_Type='Snack Foods', Item_MRP=105.4622, Outlet_Identifier='OUT013', Outlet_Establishment_Year=1987, Outlet_Size='High', Outlet_Location_Type='Tier 3', Outlet_Type='Supermarket Type1', Item_Outlet_Sales=3281.7282),\n",
       " Row(Item_Identifier='FDR20', Item_Weight=20.0, Item_Fat_Content='Regular', Item_Visibility=0.028282832, Item_Type='Fruits and Vegetables', Item_MRP=46.2744, Outlet_Identifier='OUT017', Outlet_Establishment_Year=2007, Outlet_Size=None, Outlet_Location_Type='Tier 2', Outlet_Type='Supermarket Type1', Item_Outlet_Sales=1086.5856),\n",
       " Row(Item_Identifier='FDY07', Item_Weight=11.8, Item_Fat_Content='Low Fat', Item_Visibility=0.0, Item_Type='Fruits and Vegetables', Item_MRP=46.5402, Outlet_Identifier='OUT010', Outlet_Establishment_Year=1998, Outlet_Size=None, Outlet_Location_Type='Tier 3', Outlet_Type='Grocery Store', Item_Outlet_Sales=229.701),\n",
       " Row(Item_Identifier='FDD38', Item_Weight=16.75, Item_Fat_Content='Regular', Item_Visibility=0.008208342, Item_Type='Canned', Item_MRP=102.8674, Outlet_Identifier='OUT045', Outlet_Establishment_Year=2002, Outlet_Size=None, Outlet_Location_Type='Tier 2', Outlet_Type='Supermarket Type1', Item_Outlet_Sales=1528.011),\n",
       " Row(Item_Identifier='DRF15', Item_Weight=18.35, Item_Fat_Content='Low Fat', Item_Visibility=0.03334929, Item_Type='Dairy', Item_MRP=155.034, Outlet_Identifier='OUT018', Outlet_Establishment_Year=2009, Outlet_Size='Medium', Outlet_Location_Type='Tier 3', Outlet_Type='Supermarket Type2', Item_Outlet_Sales=1990.742),\n",
       " Row(Item_Identifier='FDH32', Item_Weight=12.8, Item_Fat_Content='Low Fat', Item_Visibility=0.076060037, Item_Type='Fruits and Vegetables', Item_MRP=95.141, Outlet_Identifier='OUT046', Outlet_Establishment_Year=1997, Outlet_Size='Small', Outlet_Location_Type='Tier 1', Outlet_Type='Supermarket Type1', Item_Outlet_Sales=868.869),\n",
       " Row(Item_Identifier='NCJ42', Item_Weight=19.75, Item_Fat_Content='Low Fat', Item_Visibility=0.014301326, Item_Type='Household', Item_MRP=103.0332, Outlet_Identifier='OUT046', Outlet_Establishment_Year=1997, Outlet_Size='Small', Outlet_Location_Type='Tier 1', Outlet_Type='Supermarket Type1', Item_Outlet_Sales=1230.3984),\n",
       " Row(Item_Identifier='FDB56', Item_Weight=8.75, Item_Fat_Content='Regular', Item_Visibility=0.074931201, Item_Type='Fruits and Vegetables', Item_MRP=187.6556, Outlet_Identifier='OUT018', Outlet_Establishment_Year=2009, Outlet_Size='Medium', Outlet_Location_Type='Tier 3', Outlet_Type='Supermarket Type2', Item_Outlet_Sales=938.778),\n",
       " Row(Item_Identifier='FDD03', Item_Weight=13.3, Item_Fat_Content='Low Fat', Item_Visibility=0.080131363, Item_Type='Dairy', Item_MRP=234.03, Outlet_Identifier='OUT018', Outlet_Establishment_Year=2009, Outlet_Size='Medium', Outlet_Location_Type='Tier 3', Outlet_Type='Supermarket Type2', Item_Outlet_Sales=4194.54),\n",
       " Row(Item_Identifier='NCL18', Item_Weight=18.85, Item_Fat_Content='Low Fat', Item_Visibility=0.167444431, Item_Type='Household', Item_MRP=194.6136, Outlet_Identifier='OUT013', Outlet_Establishment_Year=1987, Outlet_Size='High', Outlet_Location_Type='Tier 3', Outlet_Type='Supermarket Type1', Item_Outlet_Sales=1166.4816),\n",
       " Row(Item_Identifier='FDW22', Item_Weight=9.695, Item_Fat_Content='Regular', Item_Visibility=0.03033748, Item_Type='Snack Foods', Item_MRP=222.9114, Outlet_Identifier='OUT049', Outlet_Establishment_Year=1999, Outlet_Size='Medium', Outlet_Location_Type='Tier 1', Outlet_Type='Supermarket Type1', Item_Outlet_Sales=5764.4964),\n",
       " Row(Item_Identifier='FDE32', Item_Weight=20.7, Item_Fat_Content='Low Fat', Item_Visibility=0.04874969, Item_Type='Fruits and Vegetables', Item_MRP=37.5506, Outlet_Identifier='OUT035', Outlet_Establishment_Year=2004, Outlet_Size='Small', Outlet_Location_Type='Tier 2', Outlet_Type='Supermarket Type1', Item_Outlet_Sales=113.8518),\n",
       " Row(Item_Identifier='FDA34', Item_Weight=None, Item_Fat_Content='Low Fat', Item_Visibility=0.014788594, Item_Type='Starchy Foods', Item_MRP=174.408, Outlet_Identifier='OUT027', Outlet_Establishment_Year=1985, Outlet_Size='Medium', Outlet_Location_Type='Tier 3', Outlet_Type='Supermarket Type3', Item_Outlet_Sales=7443.644),\n",
       " Row(Item_Identifier='FDJ08', Item_Weight=11.1, Item_Fat_Content='Low Fat', Item_Visibility=0.111298111, Item_Type='Fruits and Vegetables', Item_MRP=191.7846, Outlet_Identifier='OUT017', Outlet_Establishment_Year=2007, Outlet_Size=None, Outlet_Location_Type='Tier 2', Outlet_Type='Supermarket Type1', Item_Outlet_Sales=3057.3536),\n",
       " Row(Item_Identifier='FDG38', Item_Weight=8.975, Item_Fat_Content='Regular', Item_Visibility=0.05268526, Item_Type='Canned', Item_MRP=83.3224, Outlet_Identifier='OUT013', Outlet_Establishment_Year=1987, Outlet_Size='High', Outlet_Location_Type='Tier 3', Outlet_Type='Supermarket Type1', Item_Outlet_Sales=3579.3408),\n",
       " Row(Item_Identifier='FDD29', Item_Weight=12.15, Item_Fat_Content='Low Fat', Item_Visibility=0.018485511, Item_Type='Frozen Foods', Item_MRP=253.1698, Outlet_Identifier='OUT018', Outlet_Establishment_Year=2009, Outlet_Size='Medium', Outlet_Location_Type='Tier 3', Outlet_Type='Supermarket Type2', Item_Outlet_Sales=1522.0188),\n",
       " Row(Item_Identifier='NCE31', Item_Weight=7.67, Item_Fat_Content='Low Fat', Item_Visibility=0.184689756, Item_Type='Household', Item_MRP=35.4216, Outlet_Identifier='OUT013', Outlet_Establishment_Year=1987, Outlet_Size='High', Outlet_Location_Type='Tier 3', Outlet_Type='Supermarket Type1', Item_Outlet_Sales=450.0808),\n",
       " Row(Item_Identifier='FDS19', Item_Weight=13.8, Item_Fat_Content='Regular', Item_Visibility=0.064153845, Item_Type='Fruits and Vegetables', Item_MRP=76.9012, Outlet_Identifier='OUT013', Outlet_Establishment_Year=1987, Outlet_Size='High', Outlet_Location_Type='Tier 3', Outlet_Type='Supermarket Type1', Item_Outlet_Sales=607.2096),\n",
       " Row(Item_Identifier='FDU11', Item_Weight=4.785, Item_Fat_Content='Low Fat', Item_Visibility=0.092516598, Item_Type='Breads', Item_MRP=120.1098, Outlet_Identifier='OUT013', Outlet_Establishment_Year=1987, Outlet_Size='High', Outlet_Location_Type='Tier 3', Outlet_Type='Supermarket Type1', Item_Outlet_Sales=1325.6078),\n",
       " Row(Item_Identifier='FDL02', Item_Weight=20.0, Item_Fat_Content='Regular', Item_Visibility=0.104245198, Item_Type='Canned', Item_MRP=105.3622, Outlet_Identifier='OUT049', Outlet_Establishment_Year=1999, Outlet_Size='Medium', Outlet_Location_Type='Tier 1', Outlet_Type='Supermarket Type1', Item_Outlet_Sales=1270.3464),\n",
       " Row(Item_Identifier='FDO51', Item_Weight=None, Item_Fat_Content='Regular', Item_Visibility=0.041779181, Item_Type='Meat', Item_MRP=43.4112, Outlet_Identifier='OUT027', Outlet_Establishment_Year=1985, Outlet_Size='Medium', Outlet_Location_Type='Tier 3', Outlet_Type='Supermarket Type3', Item_Outlet_Sales=1107.8912),\n",
       " Row(Item_Identifier='DRK23', Item_Weight=8.395, Item_Fat_Content='Low Fat', Item_Visibility=0.07226985, Item_Type='Hard Drinks', Item_MRP=254.104, Outlet_Identifier='OUT018', Outlet_Establishment_Year=2009, Outlet_Size='Medium', Outlet_Location_Type='Tier 3', Outlet_Type='Supermarket Type2', Item_Outlet_Sales=3542.056),\n",
       " Row(Item_Identifier='FDO27', Item_Weight=6.175, Item_Fat_Content='Regular', Item_Visibility=0.179806961, Item_Type='Meat', Item_MRP=95.2752, Outlet_Identifier='OUT018', Outlet_Establishment_Year=2009, Outlet_Size='Medium', Outlet_Location_Type='Tier 3', Outlet_Type='Supermarket Type2', Item_Outlet_Sales=1534.0032),\n",
       " Row(Item_Identifier='FDB16', Item_Weight=8.21, Item_Fat_Content='Low Fat', Item_Visibility=0.044995631, Item_Type='Dairy', Item_MRP=89.2198, Outlet_Identifier='OUT049', Outlet_Establishment_Year=1999, Outlet_Size='Medium', Outlet_Location_Type='Tier 1', Outlet_Type='Supermarket Type1', Item_Outlet_Sales=1308.297),\n",
       " Row(Item_Identifier='FDA44', Item_Weight=19.7, Item_Fat_Content='Low Fat', Item_Visibility=0.053523765, Item_Type='Fruits and Vegetables', Item_MRP=55.393, Outlet_Identifier='OUT017', Outlet_Establishment_Year=2007, Outlet_Size=None, Outlet_Location_Type='Tier 2', Outlet_Type='Supermarket Type1', Item_Outlet_Sales=1471.418),\n",
       " Row(Item_Identifier='NCB18', Item_Weight=19.6, Item_Fat_Content='Low Fat', Item_Visibility=0.041459372, Item_Type='Household', Item_MRP=89.6514, Outlet_Identifier='OUT018', Outlet_Establishment_Year=2009, Outlet_Size='Medium', Outlet_Location_Type='Tier 3', Outlet_Type='Supermarket Type2', Item_Outlet_Sales=1239.7196),\n",
       " Row(Item_Identifier='NCL53', Item_Weight=7.5, Item_Fat_Content='Low Fat', Item_Visibility=0.036234918, Item_Type='Health and Hygiene', Item_MRP=175.3028, Outlet_Identifier='OUT046', Outlet_Establishment_Year=1997, Outlet_Size='Small', Outlet_Location_Type='Tier 1', Outlet_Type='Supermarket Type1', Item_Outlet_Sales=3896.2616),\n",
       " Row(Item_Identifier='FDR16', Item_Weight=5.845, Item_Fat_Content='Regular', Item_Visibility=0.105445801, Item_Type='Frozen Foods', Item_MRP=214.4218, Outlet_Identifier='OUT018', Outlet_Establishment_Year=2009, Outlet_Size='Medium', Outlet_Location_Type='Tier 3', Outlet_Type='Supermarket Type2', Item_Outlet_Sales=1496.0526),\n",
       " Row(Item_Identifier='NCQ05', Item_Weight=11.395, Item_Fat_Content='LF', Item_Visibility=0.0, Item_Type='Health and Hygiene', Item_MRP=151.6708, Outlet_Identifier='OUT013', Outlet_Establishment_Year=1987, Outlet_Size='High', Outlet_Location_Type='Tier 3', Outlet_Type='Supermarket Type1', Item_Outlet_Sales=3460.8284),\n",
       " Row(Item_Identifier='FDF44', Item_Weight=7.17, Item_Fat_Content='Regular', Item_Visibility=0.05997133, Item_Type='Fruits and Vegetables', Item_MRP=132.1968, Outlet_Identifier='OUT018', Outlet_Establishment_Year=2009, Outlet_Size='Medium', Outlet_Location_Type='Tier 3', Outlet_Type='Supermarket Type2', Item_Outlet_Sales=2870.9296),\n",
       " Row(Item_Identifier='FDU50', Item_Weight=5.75, Item_Fat_Content='Regular', Item_Visibility=0.075595405, Item_Type='Dairy', Item_MRP=114.7176, Outlet_Identifier='OUT017', Outlet_Establishment_Year=2007, Outlet_Size=None, Outlet_Location_Type='Tier 2', Outlet_Type='Supermarket Type1', Item_Outlet_Sales=1259.6936),\n",
       " Row(Item_Identifier='FDG20', Item_Weight=15.5, Item_Fat_Content='Regular', Item_Visibility=0.210375806, Item_Type='Fruits and Vegetables', Item_MRP=178.2028, Outlet_Identifier='OUT010', Outlet_Establishment_Year=1998, Outlet_Size=None, Outlet_Location_Type='Tier 3', Outlet_Type='Grocery Store', Item_Outlet_Sales=177.1028),\n",
       " Row(Item_Identifier='FDD58', Item_Weight=7.76, Item_Fat_Content='Low Fat', Item_Visibility=0.059341019, Item_Type='Snack Foods', Item_MRP=99.77, Outlet_Identifier='OUT035', Outlet_Establishment_Year=2004, Outlet_Size='Small', Outlet_Location_Type='Tier 2', Outlet_Type='Supermarket Type1', Item_Outlet_Sales=798.96),\n",
       " Row(Item_Identifier='FDT01', Item_Weight=13.65, Item_Fat_Content='Regular', Item_Visibility=0.18520944, Item_Type='Canned', Item_MRP=212.9902, Outlet_Identifier='OUT017', Outlet_Establishment_Year=2007, Outlet_Size=None, Outlet_Location_Type='Tier 2', Outlet_Type='Supermarket Type1', Item_Outlet_Sales=3185.853),\n",
       " Row(Item_Identifier='FDK15', Item_Weight=10.8, Item_Fat_Content='Low Fat', Item_Visibility=0.098566832, Item_Type='Meat', Item_MRP=98.3042, Outlet_Identifier='OUT049', Outlet_Establishment_Year=1999, Outlet_Size='Medium', Outlet_Location_Type='Tier 1', Outlet_Type='Supermarket Type1', Item_Outlet_Sales=1488.063),\n",
       " Row(Item_Identifier='FDJ08', Item_Weight=11.1, Item_Fat_Content='Low Fat', Item_Visibility=0.11084417, Item_Type='Fruits and Vegetables', Item_MRP=189.2846, Outlet_Identifier='OUT049', Outlet_Establishment_Year=1999, Outlet_Size='Medium', Outlet_Location_Type='Tier 1', Outlet_Type='Supermarket Type1', Item_Outlet_Sales=5159.2842),\n",
       " Row(Item_Identifier='FDS10', Item_Weight=None, Item_Fat_Content='Low Fat', Item_Visibility=0.0350152, Item_Type='Snack Foods', Item_MRP=182.0318, Outlet_Identifier='OUT027', Outlet_Establishment_Year=1985, Outlet_Size='Medium', Outlet_Location_Type='Tier 3', Outlet_Type='Supermarket Type3', Item_Outlet_Sales=5954.2494),\n",
       " Row(Item_Identifier='FDJ55', Item_Weight=12.8, Item_Fat_Content='Regular', Item_Visibility=0.023567538, Item_Type='Meat', Item_MRP=226.8404, Outlet_Identifier='OUT049', Outlet_Establishment_Year=1999, Outlet_Size='Medium', Outlet_Location_Type='Tier 1', Outlet_Type='Supermarket Type1', Item_Outlet_Sales=4500.808),\n",
       " Row(Item_Identifier='FDU32', Item_Weight=8.785, Item_Fat_Content='Low Fat', Item_Visibility=0.0, Item_Type='Fruits and Vegetables', Item_MRP=123.0414, Outlet_Identifier='OUT010', Outlet_Establishment_Year=1998, Outlet_Size=None, Outlet_Location_Type='Tier 3', Outlet_Type='Grocery Store', Item_Outlet_Sales=121.8414),\n",
       " Row(Item_Identifier='FDG09', Item_Weight=20.6, Item_Fat_Content='Regular', Item_Visibility=0.04792722, Item_Type='Fruits and Vegetables', Item_MRP=185.9556, Outlet_Identifier='OUT035', Outlet_Establishment_Year=2004, Outlet_Size='Small', Outlet_Location_Type='Tier 2', Outlet_Type='Supermarket Type1', Item_Outlet_Sales=4318.3788),\n",
       " Row(Item_Identifier='FDE39', Item_Weight=7.89, Item_Fat_Content='Low Fat', Item_Visibility=0.036207786, Item_Type='Dairy', Item_MRP=121.0782, Outlet_Identifier='OUT045', Outlet_Establishment_Year=2002, Outlet_Size=None, Outlet_Location_Type='Tier 2', Outlet_Type='Supermarket Type1', Item_Outlet_Sales=3456.1678),\n",
       " Row(Item_Identifier='FDU56', Item_Weight=16.85, Item_Fat_Content='Low Fat', Item_Visibility=0.044377096, Item_Type='Fruits and Vegetables', Item_MRP=185.8266, Outlet_Identifier='OUT013', Outlet_Establishment_Year=1987, Outlet_Size='High', Outlet_Location_Type='Tier 3', Outlet_Type='Supermarket Type1', Item_Outlet_Sales=1659.8394),\n",
       " Row(Item_Identifier='NCH55', Item_Weight=16.35, Item_Fat_Content='Low Fat', Item_Visibility=0.034742632, Item_Type='Household', Item_MRP=127.402, Outlet_Identifier='OUT045', Outlet_Establishment_Year=2002, Outlet_Size=None, Outlet_Location_Type='Tier 2', Outlet_Type='Supermarket Type1', Item_Outlet_Sales=759.012),\n",
       " Row(Item_Identifier='FDX33', Item_Weight=None, Item_Fat_Content='Regular', Item_Visibility=0.116915909, Item_Type='Snack Foods', Item_MRP=159.4578, Outlet_Identifier='OUT027', Outlet_Establishment_Year=1985, Outlet_Size='Medium', Outlet_Location_Type='Tier 3', Outlet_Type='Supermarket Type3', Item_Outlet_Sales=4974.1918),\n",
       " Row(Item_Identifier='FDR24', Item_Weight=17.35, Item_Fat_Content='Regular', Item_Visibility=0.062979148, Item_Type='Baking Goods', Item_MRP=87.983, Outlet_Identifier='OUT045', Outlet_Establishment_Year=2002, Outlet_Size=None, Outlet_Location_Type='Tier 2', Outlet_Type='Supermarket Type1', Item_Outlet_Sales=1707.777),\n",
       " Row(Item_Identifier='FDC33', Item_Weight=None, Item_Fat_Content='Regular', Item_Visibility=0.068604503, Item_Type='Fruits and Vegetables', Item_MRP=197.3768, Outlet_Identifier='OUT027', Outlet_Establishment_Year=1985, Outlet_Size='Medium', Outlet_Location_Type='Tier 3', Outlet_Type='Supermarket Type3', Item_Outlet_Sales=7488.9184),\n",
       " Row(Item_Identifier='NCV54', Item_Weight=None, Item_Fat_Content='Low Fat', Item_Visibility=0.03294861, Item_Type='Household', Item_MRP=116.8124, Outlet_Identifier='OUT027', Outlet_Establishment_Year=1985, Outlet_Size='Medium', Outlet_Location_Type='Tier 3', Outlet_Type='Supermarket Type3', Item_Outlet_Sales=2488.7604),\n",
       " Row(Item_Identifier='NCQ02', Item_Weight=12.6, Item_Fat_Content='Low Fat', Item_Visibility=0.007450258, Item_Type='Household', Item_MRP=186.7556, Outlet_Identifier='OUT013', Outlet_Establishment_Year=1987, Outlet_Size='High', Outlet_Location_Type='Tier 3', Outlet_Type='Supermarket Type1', Item_Outlet_Sales=2816.334),\n",
       " Row(Item_Identifier='NCU17', Item_Weight=5.32, Item_Fat_Content='Low Fat', Item_Visibility=0.093027718, Item_Type='Health and Hygiene', Item_MRP=101.4674, Outlet_Identifier='OUT049', Outlet_Establishment_Year=1999, Outlet_Size='Medium', Outlet_Location_Type='Tier 1', Outlet_Type='Supermarket Type1', Item_Outlet_Sales=2954.1546),\n",
       " Row(Item_Identifier='NCZ06', Item_Weight=None, Item_Fat_Content='Low Fat', Item_Visibility=0.164864915, Item_Type='Household', Item_MRP=255.2698, Outlet_Identifier='OUT019', Outlet_Establishment_Year=1985, Outlet_Size='Small', Outlet_Location_Type='Tier 1', Outlet_Type='Grocery Store', Item_Outlet_Sales=761.0094),\n",
       " Row(Item_Identifier='FDV37', Item_Weight=13.0, Item_Fat_Content='Regular', Item_Visibility=0.083498083, Item_Type='Canned', Item_MRP=199.4426, Outlet_Identifier='OUT035', Outlet_Establishment_Year=2004, Outlet_Size='Small', Outlet_Location_Type='Tier 2', Outlet_Type='Supermarket Type1', Item_Outlet_Sales=593.2278),\n",
       " Row(Item_Identifier='DRH25', Item_Weight=None, Item_Fat_Content='Low Fat', Item_Visibility=0.014522363, Item_Type='Soft Drinks', Item_MRP=50.2324, Outlet_Identifier='OUT027', Outlet_Establishment_Year=1985, Outlet_Size='Medium', Outlet_Location_Type='Tier 3', Outlet_Type='Supermarket Type3', Item_Outlet_Sales=1298.31),\n",
       " Row(Item_Identifier='NCI43', Item_Weight=19.85, Item_Fat_Content='Low Fat', Item_Visibility=0.025963795, Item_Type='Household', Item_MRP=46.3376, Outlet_Identifier='OUT035', Outlet_Establishment_Year=2004, Outlet_Size='Small', Outlet_Location_Type='Tier 2', Outlet_Type='Supermarket Type1', Item_Outlet_Sales=1150.5024),\n",
       " Row(Item_Identifier='NCQ53', Item_Weight=17.6, Item_Fat_Content='Low Fat', Item_Visibility=0.019012262, Item_Type='Health and Hygiene', Item_MRP=237.159, Outlet_Identifier='OUT017', Outlet_Establishment_Year=2007, Outlet_Size=None, Outlet_Location_Type='Tier 2', Outlet_Type='Supermarket Type1', Item_Outlet_Sales=3072.667),\n",
       " Row(Item_Identifier='NCT18', Item_Weight=14.6, Item_Fat_Content='Low Fat', Item_Visibility=0.059393919, Item_Type='Household', Item_MRP=181.7976, Outlet_Identifier='OUT035', Outlet_Establishment_Year=2004, Outlet_Size='Small', Outlet_Location_Type='Tier 2', Outlet_Type='Supermarket Type1', Item_Outlet_Sales=3259.7568),\n",
       " Row(Item_Identifier='FDF14', Item_Weight=7.55, Item_Fat_Content='Low Fat', Item_Visibility=0.027212058, Item_Type='Canned', Item_MRP=152.734, Outlet_Identifier='OUT049', Outlet_Establishment_Year=1999, Outlet_Size='Medium', Outlet_Location_Type='Tier 1', Outlet_Type='Supermarket Type1', Item_Outlet_Sales=2756.412),\n",
       " Row(Item_Identifier='FDM14', Item_Weight=13.8, Item_Fat_Content='Low Fat', Item_Visibility=0.013263968, Item_Type='Canned', Item_MRP=106.9254, Outlet_Identifier='OUT046', Outlet_Establishment_Year=1997, Outlet_Size='Small', Outlet_Location_Type='Tier 1', Outlet_Type='Supermarket Type1', Item_Outlet_Sales=2930.1858),\n",
       " Row(Item_Identifier='FDX57', Item_Weight=17.25, Item_Fat_Content='Regular', Item_Visibility=0.079113947, Item_Type='Snack Foods', Item_MRP=99.2068, Outlet_Identifier='OUT010', Outlet_Establishment_Year=1998, Outlet_Size=None, Outlet_Location_Type='Tier 3', Outlet_Type='Grocery Store', Item_Outlet_Sales=97.2068),\n",
       " Row(Item_Identifier='NCV05', Item_Weight=10.1, Item_Fat_Content='Low Fat', Item_Visibility=0.03020851, Item_Type='Health and Hygiene', Item_MRP=153.1656, Outlet_Identifier='OUT046', Outlet_Establishment_Year=1997, Outlet_Size='Small', Outlet_Location_Type='Tier 1', Outlet_Type='Supermarket Type1', Item_Outlet_Sales=1544.656),\n",
       " Row(Item_Identifier='FDX39', Item_Weight=14.3, Item_Fat_Content='Regular', Item_Visibility=0.049634817, Item_Type='Meat', Item_MRP=212.5586, Outlet_Identifier='OUT013', Outlet_Establishment_Year=1987, Outlet_Size='High', Outlet_Location_Type='Tier 3', Outlet_Type='Supermarket Type1', Item_Outlet_Sales=3165.879),\n",
       " Row(Item_Identifier='FDA23', Item_Weight=9.8, Item_Fat_Content='Low Fat', Item_Visibility=0.047187038, Item_Type='Baking Goods', Item_MRP=100.6016, Outlet_Identifier='OUT046', Outlet_Establishment_Year=1997, Outlet_Size='Small', Outlet_Location_Type='Tier 1', Outlet_Type='Supermarket Type1', Item_Outlet_Sales=1619.2256),\n",
       " Row(Item_Identifier='NCV06', Item_Weight=11.3, Item_Fat_Content='Low Fat', Item_Visibility=0.066681333, Item_Type='Household', Item_MRP=194.4478, Outlet_Identifier='OUT046', Outlet_Establishment_Year=1997, Outlet_Size='Small', Outlet_Location_Type='Tier 1', Outlet_Type='Supermarket Type1', Item_Outlet_Sales=387.4956),\n",
       " Row(Item_Identifier='NCE31', Item_Weight=7.67, Item_Fat_Content='Low Fat', Item_Visibility=0.185218446, Item_Type='Household', Item_MRP=36.3216, Outlet_Identifier='OUT045', Outlet_Establishment_Year=2002, Outlet_Size=None, Outlet_Location_Type='Tier 2', Outlet_Type='Supermarket Type1', Item_Outlet_Sales=415.4592),\n",
       " Row(Item_Identifier='DRI39', Item_Weight=13.8, Item_Fat_Content='Low Fat', Item_Visibility=0.162462044, Item_Type='Dairy', Item_MRP=55.893, Outlet_Identifier='OUT010', Outlet_Establishment_Year=1998, Outlet_Size=None, Outlet_Location_Type='Tier 3', Outlet_Type='Grocery Store', Item_Outlet_Sales=226.372),\n",
       " Row(Item_Identifier='FDH21', Item_Weight=10.395, Item_Fat_Content='Low Fat', Item_Visibility=0.031273559, Item_Type='Seafood', Item_MRP=160.0604, Outlet_Identifier='OUT049', Outlet_Establishment_Year=1999, Outlet_Size='Medium', Outlet_Location_Type='Tier 1', Outlet_Type='Supermarket Type1', Item_Outlet_Sales=1267.6832),\n",
       " Row(Item_Identifier='FDR26', Item_Weight=20.7, Item_Fat_Content='Low Fat', Item_Visibility=0.042836778, Item_Type='Dairy', Item_MRP=175.8028, Outlet_Identifier='OUT046', Outlet_Establishment_Year=1997, Outlet_Size='Small', Outlet_Location_Type='Tier 1', Outlet_Type='Supermarket Type1', Item_Outlet_Sales=1593.9252),\n",
       " Row(Item_Identifier='FDA14', Item_Weight=None, Item_Fat_Content='Low Fat', Item_Visibility=0.114127418, Item_Type='Dairy', Item_MRP=147.176, Outlet_Identifier='OUT019', Outlet_Establishment_Year=1985, Outlet_Size='Small', Outlet_Location_Type='Tier 1', Outlet_Type='Grocery Store', Item_Outlet_Sales=585.904),\n",
       " Row(Item_Identifier='FDG21', Item_Weight=17.35, Item_Fat_Content='Regular', Item_Visibility=0.146895866, Item_Type='Seafood', Item_MRP=149.605, Outlet_Identifier='OUT018', Outlet_Establishment_Year=2009, Outlet_Size='Medium', Outlet_Location_Type='Tier 3', Outlet_Type='Supermarket Type2', Item_Outlet_Sales=3745.125),\n",
       " Row(Item_Identifier='NCQ38', Item_Weight=16.35, Item_Fat_Content='Low Fat', Item_Visibility=0.013420879, Item_Type='Others', Item_MRP=104.828, Outlet_Identifier='OUT018', Outlet_Establishment_Year=2009, Outlet_Size='Medium', Outlet_Location_Type='Tier 3', Outlet_Type='Supermarket Type2', Item_Outlet_Sales=1810.976),\n",
       " Row(Item_Identifier='FDN20', Item_Weight=19.35, Item_Fat_Content='Low Fat', Item_Visibility=0.026181893, Item_Type='Fruits and Vegetables', Item_MRP=167.0474, Outlet_Identifier='OUT046', Outlet_Establishment_Year=1997, Outlet_Size='Small', Outlet_Location_Type='Tier 1', Outlet_Type='Supermarket Type1', Item_Outlet_Sales=2358.2636),\n",
       " Row(Item_Identifier='NCN29', Item_Weight=15.2, Item_Fat_Content='Low Fat', Item_Visibility=0.012184999, Item_Type='Health and Hygiene', Item_MRP=50.3034, Outlet_Identifier='OUT017', Outlet_Establishment_Year=2007, Outlet_Size=None, Outlet_Location_Type='Tier 2', Outlet_Type='Supermarket Type1', Item_Outlet_Sales=145.8102),\n",
       " Row(Item_Identifier='FDI28', Item_Weight=14.3, Item_Fat_Content='Low Fat', Item_Visibility=0.026428924, Item_Type='Frozen Foods', Item_MRP=78.2302, Outlet_Identifier='OUT018', Outlet_Establishment_Year=2009, Outlet_Size='Medium', Outlet_Location_Type='Tier 3', Outlet_Type='Supermarket Type2', Item_Outlet_Sales=554.6114),\n",
       " Row(Item_Identifier='FDA03', Item_Weight=None, Item_Fat_Content='Regular', Item_Visibility=0.045243613, Item_Type='Dairy', Item_MRP=146.8102, Outlet_Identifier='OUT027', Outlet_Establishment_Year=1985, Outlet_Size='Medium', Outlet_Location_Type='Tier 3', Outlet_Type='Supermarket Type3', Item_Outlet_Sales=3499.4448),\n",
       " Row(Item_Identifier='FDZ28', Item_Weight=20.0, Item_Fat_Content='Regular', Item_Visibility=0.0, Item_Type='Frozen Foods', Item_MRP=127.3678, Outlet_Identifier='OUT046', Outlet_Establishment_Year=1997, Outlet_Size='Small', Outlet_Location_Type='Tier 1', Outlet_Type='Supermarket Type1', Item_Outlet_Sales=1780.3492),\n",
       " Row(Item_Identifier='FDO52', Item_Weight=None, Item_Fat_Content='Regular', Item_Visibility=0.076790922, Item_Type='Frozen Foods', Item_MRP=172.1106, Outlet_Identifier='OUT027', Outlet_Establishment_Year=1985, Outlet_Size='Medium', Outlet_Location_Type='Tier 3', Outlet_Type='Supermarket Type3', Item_Outlet_Sales=2566.659),\n",
       " Row(Item_Identifier='FDU10', Item_Weight=10.1, Item_Fat_Content='Regular', Item_Visibility=0.045950475, Item_Type='Snack Foods', Item_MRP=38.2848, Outlet_Identifier='OUT017', Outlet_Establishment_Year=2007, Outlet_Size=None, Outlet_Location_Type='Tier 2', Outlet_Type='Supermarket Type1', Item_Outlet_Sales=1230.3984),\n",
       " Row(Item_Identifier='FDP13', Item_Weight=None, Item_Fat_Content='Regular', Item_Visibility=0.133673087, Item_Type='Canned', Item_MRP=41.548, Outlet_Identifier='OUT027', Outlet_Establishment_Year=1985, Outlet_Size='Medium', Outlet_Location_Type='Tier 3', Outlet_Type='Supermarket Type3', Item_Outlet_Sales=918.804),\n",
       " Row(Item_Identifier='FDV02', Item_Weight=None, Item_Fat_Content='Low Fat', Item_Visibility=0.060252433, Item_Type='Dairy', Item_MRP=170.7106, Outlet_Identifier='OUT027', Outlet_Establishment_Year=1985, Outlet_Size='Medium', Outlet_Location_Type='Tier 3', Outlet_Type='Supermarket Type3', Item_Outlet_Sales=3079.9908),\n",
       " Row(Item_Identifier='FDS28', Item_Weight=8.18, Item_Fat_Content='reg', Item_Visibility=0.082529704, Item_Type='Frozen Foods', Item_MRP=56.9588, Outlet_Identifier='OUT049', Outlet_Establishment_Year=1999, Outlet_Size='Medium', Outlet_Location_Type='Tier 1', Outlet_Type='Supermarket Type1', Item_Outlet_Sales=744.3644),\n",
       " Row(Item_Identifier='FDW49', Item_Weight=19.5, Item_Fat_Content='Low Fat', Item_Visibility=0.082552214, Item_Type='Canned', Item_MRP=179.8002, Outlet_Identifier='OUT046', Outlet_Establishment_Year=1997, Outlet_Size='Small', Outlet_Location_Type='Tier 1', Outlet_Type='Supermarket Type1', Item_Outlet_Sales=716.4008),\n",
       " Row(Item_Identifier='FDP33', Item_Weight=18.7, Item_Fat_Content='Low Fat', Item_Visibility=0.089272253, Item_Type='Snack Foods', Item_MRP=254.7672, Outlet_Identifier='OUT046', Outlet_Establishment_Year=1997, Outlet_Size='Small', Outlet_Location_Type='Tier 1', Outlet_Type='Supermarket Type1', Item_Outlet_Sales=5113.344),\n",
       " Row(Item_Identifier='FDJ03', Item_Weight=12.35, Item_Fat_Content='Regular', Item_Visibility=0.072541731, Item_Type='Dairy', Item_MRP=48.5692, Outlet_Identifier='OUT045', Outlet_Establishment_Year=2002, Outlet_Size=None, Outlet_Location_Type='Tier 2', Outlet_Type='Supermarket Type1', Item_Outlet_Sales=886.8456),\n",
       " Row(Item_Identifier='FDQ51', Item_Weight=16.0, Item_Fat_Content='Regular', Item_Visibility=0.017536671, Item_Type='Meat', Item_MRP=45.5718, Outlet_Identifier='OUT013', Outlet_Establishment_Year=1987, Outlet_Size='High', Outlet_Location_Type='Tier 3', Outlet_Type='Supermarket Type1', Item_Outlet_Sales=1039.9796),\n",
       " Row(Item_Identifier='DRK23', Item_Weight=8.395, Item_Fat_Content='Low Fat', Item_Visibility=0.072088552, Item_Type='Hard Drinks', Item_MRP=253.704, Outlet_Identifier='OUT049', Outlet_Establishment_Year=1999, Outlet_Size='Medium', Outlet_Location_Type='Tier 1', Outlet_Type='Supermarket Type1', Item_Outlet_Sales=4554.072),\n",
       " Row(Item_Identifier='FDU11', Item_Weight=4.785, Item_Fat_Content='Low Fat', Item_Visibility=0.092781435, Item_Type='Breads', Item_MRP=119.7098, Outlet_Identifier='OUT045', Outlet_Establishment_Year=2002, Outlet_Size=None, Outlet_Location_Type='Tier 2', Outlet_Type='Supermarket Type1', Item_Outlet_Sales=1807.647),\n",
       " Row(Item_Identifier='NCK06', Item_Weight=5.03, Item_Fat_Content='Low Fat', Item_Visibility=0.008644894, Item_Type='Household', Item_MRP=122.6756, Outlet_Identifier='OUT035', Outlet_Establishment_Year=2004, Outlet_Size='Small', Outlet_Location_Type='Tier 2', Outlet_Type='Supermarket Type1', Item_Outlet_Sales=2665.8632),\n",
       " Row(Item_Identifier='FDY09', Item_Weight=15.6, Item_Fat_Content='Low Fat', Item_Visibility=0.025342692, Item_Type='Snack Foods', Item_MRP=174.3054, Outlet_Identifier='OUT017', Outlet_Establishment_Year=2007, Outlet_Size=None, Outlet_Location_Type='Tier 2', Outlet_Type='Supermarket Type1', Item_Outlet_Sales=1751.054),\n",
       " Row(Item_Identifier='NCY18', Item_Weight=7.285, Item_Fat_Content='Low Fat', Item_Visibility=0.031145743, Item_Type='Household', Item_MRP=173.6054, Outlet_Identifier='OUT035', Outlet_Establishment_Year=2004, Outlet_Size='Small', Outlet_Location_Type='Tier 2', Outlet_Type='Supermarket Type1', Item_Outlet_Sales=2626.581),\n",
       " Row(Item_Identifier='FDA10', Item_Weight=20.35, Item_Fat_Content='Low Fat', Item_Visibility=0.0, Item_Type='Snack Foods', Item_MRP=120.9072, Outlet_Identifier='OUT049', Outlet_Establishment_Year=1999, Outlet_Size='Medium', Outlet_Location_Type='Tier 1', Outlet_Type='Supermarket Type1', Item_Outlet_Sales=1470.0864),\n",
       " Row(Item_Identifier='FDO34', Item_Weight=17.7, Item_Fat_Content='Low Fat', Item_Visibility=0.030108283, Item_Type='Snack Foods', Item_MRP=165.9816, Outlet_Identifier='OUT017', Outlet_Establishment_Year=2007, Outlet_Size=None, Outlet_Location_Type='Tier 2', Outlet_Type='Supermarket Type1', Item_Outlet_Sales=4362.3216),\n",
       " Row(Item_Identifier='FDE38', Item_Weight=None, Item_Fat_Content='Low Fat', Item_Visibility=0.044391149, Item_Type='Canned', Item_MRP=164.3842, Outlet_Identifier='OUT027', Outlet_Establishment_Year=1985, Outlet_Size='Medium', Outlet_Location_Type='Tier 3', Outlet_Type='Supermarket Type3', Item_Outlet_Sales=4476.1734),\n",
       " Row(Item_Identifier='FDF40', Item_Weight=20.25, Item_Fat_Content='Regular', Item_Visibility=0.022639471, Item_Type='Dairy', Item_MRP=248.4092, Outlet_Identifier='OUT017', Outlet_Establishment_Year=2007, Outlet_Size=None, Outlet_Location_Type='Tier 2', Outlet_Type='Supermarket Type1', Item_Outlet_Sales=2241.0828),\n",
       " Row(Item_Identifier='FDY02', Item_Weight=8.945, Item_Fat_Content='Regular', Item_Visibility=0.0, Item_Type='Dairy', Item_MRP=264.791, Outlet_Identifier='OUT017', Outlet_Establishment_Year=2007, Outlet_Size=None, Outlet_Location_Type='Tier 2', Outlet_Type='Supermarket Type1', Item_Outlet_Sales=4733.838),\n",
       " Row(Item_Identifier='FDS03', Item_Weight=None, Item_Fat_Content='Low Fat', Item_Visibility=0.139419417, Item_Type='Meat', Item_MRP=66.0826, Outlet_Identifier='OUT019', Outlet_Establishment_Year=1985, Outlet_Size='Small', Outlet_Location_Type='Tier 1', Outlet_Type='Grocery Store', Item_Outlet_Sales=258.3304),\n",
       " Row(Item_Identifier='FDB59', Item_Weight=18.25, Item_Fat_Content='Low Fat', Item_Visibility=0.015278899, Item_Type='Snack Foods', Item_MRP=199.0084, Outlet_Identifier='OUT046', Outlet_Establishment_Year=1997, Outlet_Size='Small', Outlet_Location_Type='Tier 1', Outlet_Type='Supermarket Type1', Item_Outlet_Sales=3174.5344),\n",
       " Row(Item_Identifier='NCQ42', Item_Weight=20.35, Item_Fat_Content='Low Fat', Item_Visibility=0.039329257, Item_Type='Household', Item_MRP=127.6678, Outlet_Identifier='OUT049', Outlet_Establishment_Year=1999, Outlet_Size='Medium', Outlet_Location_Type='Tier 1', Outlet_Type='Supermarket Type1', Item_Outlet_Sales=2924.8594),\n",
       " Row(Item_Identifier='FDO15', Item_Weight=16.75, Item_Fat_Content='Regular', Item_Visibility=0.008579863, Item_Type='Meat', Item_MRP=72.3038, Outlet_Identifier='OUT049', Outlet_Establishment_Year=1999, Outlet_Size='Medium', Outlet_Location_Type='Tier 1', Outlet_Type='Supermarket Type1', Item_Outlet_Sales=960.7494),\n",
       " Row(Item_Identifier='DRN47', Item_Weight=12.1, Item_Fat_Content='Low Fat', Item_Visibility=0.028164527, Item_Type='Hard Drinks', Item_MRP=178.166, Outlet_Identifier='OUT010', Outlet_Establishment_Year=1998, Outlet_Size=None, Outlet_Location_Type='Tier 3', Outlet_Type='Grocery Store', Item_Outlet_Sales=539.298),\n",
       " Row(Item_Identifier='FDA03', Item_Weight=18.5, Item_Fat_Content='Regular', Item_Visibility=0.0, Item_Type='Dairy', Item_MRP=144.2102, Outlet_Identifier='OUT035', Outlet_Establishment_Year=2004, Outlet_Size='Small', Outlet_Location_Type='Tier 2', Outlet_Type='Supermarket Type1', Item_Outlet_Sales=2041.3428),\n",
       " Row(Item_Identifier='FDA01', Item_Weight=15.0, Item_Fat_Content='Regular', Item_Visibility=0.054367971, Item_Type='Canned', Item_MRP=58.5904, Outlet_Identifier='OUT035', Outlet_Establishment_Year=2004, Outlet_Size='Small', Outlet_Location_Type='Tier 2', Outlet_Type='Supermarket Type1', Item_Outlet_Sales=996.0368),\n",
       " Row(Item_Identifier='FDB38', Item_Weight=19.5, Item_Fat_Content='Regular', Item_Visibility=0.0273467, Item_Type='Canned', Item_MRP=158.992, Outlet_Identifier='OUT046', Outlet_Establishment_Year=1997, Outlet_Size='Small', Outlet_Location_Type='Tier 1', Outlet_Type='Supermarket Type1', Item_Outlet_Sales=1757.712),\n",
       " Row(Item_Identifier='FDT59', Item_Weight=13.65, Item_Fat_Content='Low Fat', Item_Visibility=0.016001434, Item_Type='Breads', Item_MRP=230.6668, Outlet_Identifier='OUT017', Outlet_Establishment_Year=2007, Outlet_Size=None, Outlet_Location_Type='Tier 2', Outlet_Type='Supermarket Type1', Item_Outlet_Sales=1842.9344),\n",
       " Row(Item_Identifier='FDG08', Item_Weight=13.15, Item_Fat_Content='Regular', Item_Visibility=0.165328057, Item_Type='Fruits and Vegetables', Item_MRP=170.6764, Outlet_Identifier='OUT035', Outlet_Establishment_Year=2004, Outlet_Size='Small', Outlet_Location_Type='Tier 2', Outlet_Type='Supermarket Type1', Item_Outlet_Sales=3435.528),\n",
       " Row(Item_Identifier='FDV56', Item_Weight=None, Item_Fat_Content='Regular', Item_Visibility=0.013529884, Item_Type='Fruits and Vegetables', Item_MRP=106.2596, Outlet_Identifier='OUT027', Outlet_Establishment_Year=1985, Outlet_Size='Medium', Outlet_Location_Type='Tier 3', Outlet_Type='Supermarket Type3', Item_Outlet_Sales=1402.1748),\n",
       " Row(Item_Identifier='FDY26', Item_Weight=20.6, Item_Fat_Content='reg', Item_Visibility=0.030510526, Item_Type='Dairy', Item_MRP=211.4244, Outlet_Identifier='OUT046', Outlet_Establishment_Year=1997, Outlet_Size='Small', Outlet_Location_Type='Tier 1', Outlet_Type='Supermarket Type1', Item_Outlet_Sales=7833.8028),\n",
       " Row(Item_Identifier='DRE13', Item_Weight=6.28, Item_Fat_Content='Low Fat', Item_Visibility=0.027699863, Item_Type='Soft Drinks', Item_MRP=87.9198, Outlet_Identifier='OUT035', Outlet_Establishment_Year=2004, Outlet_Size='Small', Outlet_Location_Type='Tier 2', Outlet_Type='Supermarket Type1', Item_Outlet_Sales=1221.0772),\n",
       " Row(Item_Identifier='FDE51', Item_Weight=5.925, Item_Fat_Content='Regular', Item_Visibility=0.09646733, Item_Type='Dairy', Item_MRP=42.8086, Outlet_Identifier='OUT046', Outlet_Establishment_Year=1997, Outlet_Size='Small', Outlet_Location_Type='Tier 1', Outlet_Type='Supermarket Type1', Item_Outlet_Sales=669.129),\n",
       " Row(Item_Identifier='FDL40', Item_Weight=17.7, Item_Fat_Content='Low Fat', Item_Visibility=0.011636708, Item_Type='Frozen Foods', Item_MRP=94.541, Outlet_Identifier='OUT045', Outlet_Establishment_Year=2002, Outlet_Size=None, Outlet_Location_Type='Tier 2', Outlet_Type='Supermarket Type1', Item_Outlet_Sales=1061.951),\n",
       " Row(Item_Identifier='FDD50', Item_Weight=18.85, Item_Fat_Content='Low Fat', Item_Visibility=0.141642219, Item_Type='Canned', Item_MRP=168.1132, Outlet_Identifier='OUT046', Outlet_Establishment_Year=1997, Outlet_Size='Small', Outlet_Location_Type='Tier 1', Outlet_Type='Supermarket Type1', Item_Outlet_Sales=2874.9244),\n",
       " Row(Item_Identifier='FDC04', Item_Weight=None, Item_Fat_Content='Low Fat', Item_Visibility=0.044767801, Item_Type='Dairy', Item_MRP=241.8854, Outlet_Identifier='OUT027', Outlet_Establishment_Year=1985, Outlet_Size='Medium', Outlet_Location_Type='Tier 3', Outlet_Type='Supermarket Type3', Item_Outlet_Sales=4592.0226),\n",
       " Row(Item_Identifier='FDN15', Item_Weight=17.5, Item_Fat_Content='Low Fat', Item_Visibility=0.028009382, Item_Type='Meat', Item_MRP=141.718, Outlet_Identifier='OUT010', Outlet_Establishment_Year=1998, Outlet_Size=None, Outlet_Location_Type='Tier 3', Outlet_Type='Grocery Store', Item_Outlet_Sales=419.454),\n",
       " Row(Item_Identifier='FDC46', Item_Weight=17.7, Item_Fat_Content='Low Fat', Item_Visibility=0.1164455, Item_Type='Snack Foods', Item_MRP=182.8266, Outlet_Identifier='OUT013', Outlet_Establishment_Year=1987, Outlet_Size='High', Outlet_Location_Type='Tier 3', Outlet_Type='Supermarket Type1', Item_Outlet_Sales=5163.9448),\n",
       " Row(Item_Identifier='FDV56', Item_Weight=16.1, Item_Fat_Content='Regular', Item_Visibility=0.013584408, Item_Type='Fruits and Vegetables', Item_MRP=107.7596, Outlet_Identifier='OUT013', Outlet_Establishment_Year=1987, Outlet_Size='High', Outlet_Location_Type='Tier 3', Outlet_Type='Supermarket Type1', Item_Outlet_Sales=323.5788),\n",
       " Row(Item_Identifier='FDK43', Item_Weight=9.8, Item_Fat_Content='Low Fat', Item_Visibility=0.026950104, Item_Type='Meat', Item_MRP=128.402, Outlet_Identifier='OUT018', Outlet_Establishment_Year=2009, Outlet_Size='Medium', Outlet_Location_Type='Tier 3', Outlet_Type='Supermarket Type2', Item_Outlet_Sales=1265.02),\n",
       " Row(Item_Identifier='NCR29', Item_Weight=7.565, Item_Fat_Content='Low Fat', Item_Visibility=0.054751689, Item_Type='Health and Hygiene', Item_MRP=54.793, Outlet_Identifier='OUT045', Outlet_Establishment_Year=2002, Outlet_Size=None, Outlet_Location_Type='Tier 2', Outlet_Type='Supermarket Type1', Item_Outlet_Sales=622.523),\n",
       " Row(Item_Identifier='FDY03', Item_Weight=17.6, Item_Fat_Content='Regular', Item_Visibility=0.076121831, Item_Type='Meat', Item_MRP=111.7202, Outlet_Identifier='OUT046', Outlet_Establishment_Year=1997, Outlet_Size='Small', Outlet_Location_Type='Tier 1', Outlet_Type='Supermarket Type1', Item_Outlet_Sales=1125.202),\n",
       " Row(Item_Identifier='FDU44', Item_Weight=12.15, Item_Fat_Content='Regular', Item_Visibility=0.058516562, Item_Type='Fruits and Vegetables', Item_MRP=164.1552, Outlet_Identifier='OUT049', Outlet_Establishment_Year=1999, Outlet_Size='Medium', Outlet_Location_Type='Tier 1', Outlet_Type='Supermarket Type1', Item_Outlet_Sales=5198.5664),\n",
       " Row(Item_Identifier='FDZ04', Item_Weight=9.31, Item_Fat_Content='low fat', Item_Visibility=0.037923509, Item_Type='Frozen Foods', Item_MRP=61.651, Outlet_Identifier='OUT013', Outlet_Establishment_Year=1987, Outlet_Size='High', Outlet_Location_Type='Tier 3', Outlet_Type='Supermarket Type1', Item_Outlet_Sales=379.506),\n",
       " Row(Item_Identifier='FDU16', Item_Weight=19.25, Item_Fat_Content='Regular', Item_Visibility=0.058365706, Item_Type='Frozen Foods', Item_MRP=82.1908, Outlet_Identifier='OUT049', Outlet_Establishment_Year=1999, Outlet_Size='Medium', Outlet_Location_Type='Tier 1', Outlet_Type='Supermarket Type1', Item_Outlet_Sales=2432.8332),\n",
       " Row(Item_Identifier='FDV07', Item_Weight=9.5, Item_Fat_Content='Low Fat', Item_Visibility=0.031346387, Item_Type='Fruits and Vegetables', Item_MRP=110.7228, Outlet_Identifier='OUT045', Outlet_Establishment_Year=2002, Outlet_Size=None, Outlet_Location_Type='Tier 2', Outlet_Type='Supermarket Type1', Item_Outlet_Sales=1657.842),\n",
       " Row(Item_Identifier='NCL19', Item_Weight=15.35, Item_Fat_Content='Low Fat', Item_Visibility=0.015663185, Item_Type='Others', Item_MRP=143.947, Outlet_Identifier='OUT013', Outlet_Establishment_Year=1987, Outlet_Size='High', Outlet_Location_Type='Tier 3', Outlet_Type='Supermarket Type1', Item_Outlet_Sales=3006.087),\n",
       " Row(Item_Identifier='FDW01', Item_Weight=None, Item_Fat_Content='Low Fat', Item_Visibility=0.063750302, Item_Type='Canned', Item_MRP=153.4682, Outlet_Identifier='OUT027', Outlet_Establishment_Year=1985, Outlet_Size='Medium', Outlet_Location_Type='Tier 3', Outlet_Type='Supermarket Type3', Item_Outlet_Sales=2287.023),\n",
       " Row(Item_Identifier='FDC10', Item_Weight=None, Item_Fat_Content='Regular', Item_Visibility=0.07252476, Item_Type='Snack Foods', Item_MRP=120.3098, Outlet_Identifier='OUT027', Outlet_Establishment_Year=1985, Outlet_Size='Medium', Outlet_Location_Type='Tier 3', Outlet_Type='Supermarket Type3', Item_Outlet_Sales=1687.1372),\n",
       " Row(Item_Identifier='DRC12', Item_Weight=17.85, Item_Fat_Content='Low Fat', Item_Visibility=0.038040837, Item_Type='Soft Drinks', Item_MRP=189.1188, Outlet_Identifier='OUT017', Outlet_Establishment_Year=2007, Outlet_Size=None, Outlet_Location_Type='Tier 2', Outlet_Type='Supermarket Type1', Item_Outlet_Sales=3237.1196),\n",
       " Row(Item_Identifier='DRK39', Item_Weight=7.02, Item_Fat_Content='Low Fat', Item_Visibility=0.049823902, Item_Type='Dairy', Item_MRP=82.225, Outlet_Identifier='OUT013', Outlet_Establishment_Year=1987, Outlet_Size='High', Outlet_Location_Type='Tier 3', Outlet_Type='Supermarket Type1', Item_Outlet_Sales=2746.425),\n",
       " Row(Item_Identifier='FDG24', Item_Weight=None, Item_Fat_Content='Low Fat', Item_Visibility=0.014560297, Item_Type='Baking Goods', Item_MRP=81.425, Outlet_Identifier='OUT027', Outlet_Establishment_Year=1985, Outlet_Size='Medium', Outlet_Location_Type='Tier 3', Outlet_Type='Supermarket Type3', Item_Outlet_Sales=1331.6),\n",
       " Row(Item_Identifier='FDO04', Item_Weight=None, Item_Fat_Content='Low Fat', Item_Visibility=0.026408698, Item_Type='Frozen Foods', Item_MRP=53.2614, Outlet_Identifier='OUT027', Outlet_Establishment_Year=1985, Outlet_Size='Medium', Outlet_Location_Type='Tier 3', Outlet_Type='Supermarket Type3', Item_Outlet_Sales=607.8754),\n",
       " Row(Item_Identifier='DRB25', Item_Weight=12.3, Item_Fat_Content='Low Fat', Item_Visibility=0.069446588, Item_Type='Soft Drinks', Item_MRP=106.3938, Outlet_Identifier='OUT035', Outlet_Establishment_Year=2004, Outlet_Size='Small', Outlet_Location_Type='Tier 2', Outlet_Type='Supermarket Type1', Item_Outlet_Sales=857.5504),\n",
       " Row(Item_Identifier='FDK26', Item_Weight=5.46, Item_Fat_Content='Regular', Item_Visibility=0.03217132, Item_Type='Canned', Item_MRP=184.824, Outlet_Identifier='OUT035', Outlet_Establishment_Year=2004, Outlet_Size='Small', Outlet_Location_Type='Tier 2', Outlet_Type='Supermarket Type1', Item_Outlet_Sales=4287.752),\n",
       " Row(Item_Identifier='FDM52', Item_Weight=15.1, Item_Fat_Content='Low Fat', Item_Visibility=0.026046138, Item_Type='Frozen Foods', Item_MRP=147.2076, Outlet_Identifier='OUT045', Outlet_Establishment_Year=2002, Outlet_Size=None, Outlet_Location_Type='Tier 2', Outlet_Type='Supermarket Type1', Item_Outlet_Sales=1773.6912),\n",
       " Row(Item_Identifier='FDY07', Item_Weight=11.8, Item_Fat_Content='Low Fat', Item_Visibility=0.121848436, Item_Type='Fruits and Vegetables', Item_MRP=46.8402, Outlet_Identifier='OUT045', Outlet_Establishment_Year=2002, Outlet_Size=None, Outlet_Location_Type='Tier 2', Outlet_Type='Supermarket Type1', Item_Outlet_Sales=597.2226),\n",
       " Row(Item_Identifier='NCO06', Item_Weight=19.25, Item_Fat_Content='Low Fat', Item_Visibility=0.108470504, Item_Type='Household', Item_MRP=33.4558, Outlet_Identifier='OUT018', Outlet_Establishment_Year=2009, Outlet_Size='Medium', Outlet_Location_Type='Tier 3', Outlet_Type='Supermarket Type2', Item_Outlet_Sales=441.4254),\n",
       " Row(Item_Identifier='FDO10', Item_Weight=13.65, Item_Fat_Content='Regular', Item_Visibility=0.0, Item_Type='Snack Foods', Item_MRP=55.8588, Outlet_Identifier='OUT045', Outlet_Establishment_Year=2002, Outlet_Size=None, Outlet_Location_Type='Tier 2', Outlet_Type='Supermarket Type1', Item_Outlet_Sales=1431.47),\n",
       " Row(Item_Identifier='FDK34', Item_Weight=13.35, Item_Fat_Content='Low Fat', Item_Visibility=0.038494623, Item_Type='Snack Foods', Item_MRP=240.2564, Outlet_Identifier='OUT013', Outlet_Establishment_Year=1987, Outlet_Size='High', Outlet_Location_Type='Tier 3', Outlet_Type='Supermarket Type1', Item_Outlet_Sales=2860.2768),\n",
       " Row(Item_Identifier='FDS33', Item_Weight=None, Item_Fat_Content='Regular', Item_Visibility=0.122830885, Item_Type='Snack Foods', Item_MRP=86.9514, Outlet_Identifier='OUT027', Outlet_Establishment_Year=1985, Outlet_Size='Medium', Outlet_Location_Type='Tier 3', Outlet_Type='Supermarket Type3', Item_Outlet_Sales=3364.9532),\n",
       " Row(Item_Identifier='FDO45', Item_Weight=13.15, Item_Fat_Content='Regular', Item_Visibility=0.038029746, Item_Type='Snack Foods', Item_MRP=88.6856, Outlet_Identifier='OUT045', Outlet_Establishment_Year=2002, Outlet_Size=None, Outlet_Location_Type='Tier 2', Outlet_Type='Supermarket Type1', Item_Outlet_Sales=1757.712),\n",
       " Row(Item_Identifier='FDF08', Item_Weight=14.3, Item_Fat_Content='Regular', Item_Visibility=0.065207559, Item_Type='Fruits and Vegetables', Item_MRP=89.8856, Outlet_Identifier='OUT046', Outlet_Establishment_Year=1997, Outlet_Size='Small', Outlet_Location_Type='Tier 1', Outlet_Type='Supermarket Type1', Item_Outlet_Sales=966.7416),\n",
       " Row(Item_Identifier='FDH58', Item_Weight=12.3, Item_Fat_Content='Low Fat', Item_Visibility=0.037014587, Item_Type='Snack Foods', Item_MRP=115.1834, Outlet_Identifier='OUT045', Outlet_Establishment_Year=2002, Outlet_Size=None, Outlet_Location_Type='Tier 2', Outlet_Type='Supermarket Type1', Item_Outlet_Sales=1958.1178),\n",
       " Row(Item_Identifier='FDS03', Item_Weight=7.825, Item_Fat_Content='Low Fat', Item_Visibility=0.133281968, Item_Type='Meat', Item_MRP=63.2826, Outlet_Identifier='OUT010', Outlet_Establishment_Year=1998, Outlet_Size=None, Outlet_Location_Type='Tier 3', Outlet_Type='Grocery Store', Item_Outlet_Sales=129.1652),\n",
       " Row(Item_Identifier='DRF03', Item_Weight=19.1, Item_Fat_Content='Low Fat', Item_Visibility=0.045299563, Item_Type='Dairy', Item_MRP=38.8138, Outlet_Identifier='OUT035', Outlet_Establishment_Year=2004, Outlet_Size='Small', Outlet_Location_Type='Tier 2', Outlet_Type='Supermarket Type1', Item_Outlet_Sales=365.5242),\n",
       " Row(Item_Identifier='FDE02', Item_Weight=8.71, Item_Fat_Content='low fat', Item_Visibility=0.121149472, Item_Type='Canned', Item_MRP=93.7778, Outlet_Identifier='OUT013', Outlet_Establishment_Year=1987, Outlet_Size='High', Outlet_Location_Type='Tier 3', Outlet_Type='Supermarket Type1', Item_Outlet_Sales=1783.6782),\n",
       " Row(Item_Identifier='NCZ06', Item_Weight=19.6, Item_Fat_Content='Low Fat', Item_Visibility=0.094083303, Item_Type='Household', Item_MRP=252.2698, Outlet_Identifier='OUT013', Outlet_Establishment_Year=1987, Outlet_Size='High', Outlet_Location_Type='Tier 3', Outlet_Type='Supermarket Type1', Item_Outlet_Sales=2790.3678),\n",
       " Row(Item_Identifier='FDW49', Item_Weight=19.5, Item_Fat_Content='Low Fat', Item_Visibility=0.0, Item_Type='Canned', Item_MRP=179.3002, Outlet_Identifier='OUT049', Outlet_Establishment_Year=1999, Outlet_Size='Medium', Outlet_Location_Type='Tier 1', Outlet_Type='Supermarket Type1', Item_Outlet_Sales=2328.3026),\n",
       " Row(Item_Identifier='FDR23', Item_Weight=15.85, Item_Fat_Content='Low Fat', Item_Visibility=0.0, Item_Type='Breads', Item_MRP=174.737, Outlet_Identifier='OUT017', Outlet_Establishment_Year=2007, Outlet_Size=None, Outlet_Location_Type='Tier 2', Outlet_Type='Supermarket Type1', Item_Outlet_Sales=2822.992),\n",
       " Row(Item_Identifier='NCJ29', Item_Weight=None, Item_Fat_Content='Low Fat', Item_Visibility=0.035022503, Item_Type='Health and Hygiene', Item_MRP=85.1224, Outlet_Identifier='OUT027', Outlet_Establishment_Year=1985, Outlet_Size='Medium', Outlet_Location_Type='Tier 3', Outlet_Type='Supermarket Type3', Item_Outlet_Sales=2045.3376),\n",
       " Row(Item_Identifier='FDY35', Item_Weight=17.6, Item_Fat_Content='Regular', Item_Visibility=0.016060186, Item_Type='Breads', Item_MRP=47.2402, Outlet_Identifier='OUT045', Outlet_Establishment_Year=2002, Outlet_Size=None, Outlet_Location_Type='Tier 2', Outlet_Type='Supermarket Type1', Item_Outlet_Sales=505.3422),\n",
       " Row(Item_Identifier='FDZ01', Item_Weight=None, Item_Fat_Content='Regular', Item_Visibility=0.009014978, Item_Type='Canned', Item_MRP=102.699, Outlet_Identifier='OUT027', Outlet_Establishment_Year=1985, Outlet_Size='Medium', Outlet_Location_Type='Tier 3', Outlet_Type='Supermarket Type3', Item_Outlet_Sales=3095.97),\n",
       " Row(Item_Identifier='FDX19', Item_Weight=19.1, Item_Fat_Content='Low Fat', Item_Visibility=0.096733815, Item_Type='Fruits and Vegetables', Item_MRP=233.1958, Outlet_Identifier='OUT046', Outlet_Establishment_Year=1997, Outlet_Size='Small', Outlet_Location_Type='Tier 1', Outlet_Type='Supermarket Type1', Item_Outlet_Sales=5141.3076),\n",
       " Row(Item_Identifier='FDG44', Item_Weight=6.13, Item_Fat_Content='Low Fat', Item_Visibility=0.102607233, Item_Type='Fruits and Vegetables', Item_MRP=54.0298, Outlet_Identifier='OUT018', Outlet_Establishment_Year=2009, Outlet_Size='Medium', Outlet_Location_Type='Tier 3', Outlet_Type='Supermarket Type2', Item_Outlet_Sales=808.947),\n",
       " Row(Item_Identifier='FDQ23', Item_Weight=6.55, Item_Fat_Content='Low Fat', Item_Visibility=0.024521191, Item_Type='Breads', Item_MRP=100.6332, Outlet_Identifier='OUT035', Outlet_Establishment_Year=2004, Outlet_Size='Small', Outlet_Location_Type='Tier 2', Outlet_Type='Supermarket Type1', Item_Outlet_Sales=2665.8632),\n",
       " Row(Item_Identifier='FDY22', Item_Weight=16.5, Item_Fat_Content='Regular', Item_Visibility=0.160624116, Item_Type='Snack Foods', Item_MRP=143.8128, Outlet_Identifier='OUT017', Outlet_Establishment_Year=2007, Outlet_Size=None, Outlet_Location_Type='Tier 2', Outlet_Type='Supermarket Type1', Item_Outlet_Sales=2588.6304),\n",
       " Row(Item_Identifier='NCN41', Item_Weight=17.0, Item_Fat_Content='Low Fat', Item_Visibility=0.052165855, Item_Type='Health and Hygiene', Item_MRP=125.073, Outlet_Identifier='OUT013', Outlet_Establishment_Year=1987, Outlet_Size='High', Outlet_Location_Type='Tier 3', Outlet_Type='Supermarket Type1', Item_Outlet_Sales=1108.557),\n",
       " Row(Item_Identifier='FDA47', Item_Weight=10.5, Item_Fat_Content='Regular', Item_Visibility=0.0, Item_Type='Baking Goods', Item_MRP=162.421, Outlet_Identifier='OUT045', Outlet_Establishment_Year=2002, Outlet_Size=None, Outlet_Location_Type='Tier 2', Outlet_Type='Supermarket Type1', Item_Outlet_Sales=1304.968),\n",
       " Row(Item_Identifier='NCD19', Item_Weight=8.93, Item_Fat_Content='Low Fat', Item_Visibility=0.0, Item_Type='Household', Item_MRP=55.4614, Outlet_Identifier='OUT045', Outlet_Establishment_Year=2002, Outlet_Size=None, Outlet_Location_Type='Tier 2', Outlet_Type='Supermarket Type1', Item_Outlet_Sales=331.5684),\n",
       " Row(Item_Identifier='FDO36', Item_Weight=None, Item_Fat_Content='Low Fat', Item_Visibility=0.07753654, Item_Type='Baking Goods', Item_MRP=180.866, Outlet_Identifier='OUT027', Outlet_Establishment_Year=1985, Outlet_Size='Medium', Outlet_Location_Type='Tier 3', Outlet_Type='Supermarket Type3', Item_Outlet_Sales=3235.788),\n",
       " Row(Item_Identifier='FDH20', Item_Weight=16.1, Item_Fat_Content='Regular', Item_Visibility=0.024928351, Item_Type='Fruits and Vegetables', Item_MRP=95.141, Outlet_Identifier='OUT013', Outlet_Establishment_Year=1987, Outlet_Size='High', Outlet_Location_Type='Tier 3', Outlet_Type='Supermarket Type1', Item_Outlet_Sales=3089.312),\n",
       " Row(Item_Identifier='FDN12', Item_Weight=None, Item_Fat_Content='LF', Item_Visibility=0.08071118, Item_Type='Baking Goods', Item_MRP=113.1544, Outlet_Identifier='OUT027', Outlet_Establishment_Year=1985, Outlet_Size='Medium', Outlet_Location_Type='Tier 3', Outlet_Type='Supermarket Type3', Item_Outlet_Sales=3355.632),\n",
       " Row(Item_Identifier='NCJ30', Item_Weight=5.82, Item_Fat_Content='Low Fat', Item_Visibility=0.080968973, Item_Type='Household', Item_MRP=171.379, Outlet_Identifier='OUT018', Outlet_Establishment_Year=2009, Outlet_Size='Medium', Outlet_Location_Type='Tier 3', Outlet_Type='Supermarket Type2', Item_Outlet_Sales=2037.348),\n",
       " Row(Item_Identifier='FDB09', Item_Weight=16.25, Item_Fat_Content='Low Fat', Item_Visibility=0.057485328, Item_Type='Fruits and Vegetables', Item_MRP=126.2046, Outlet_Identifier='OUT049', Outlet_Establishment_Year=1999, Outlet_Size='Medium', Outlet_Location_Type='Tier 1', Outlet_Type='Supermarket Type1', Item_Outlet_Sales=1867.569),\n",
       " Row(Item_Identifier='FDA09', Item_Weight=13.35, Item_Fat_Content='Regular', Item_Visibility=0.149669322, Item_Type='Snack Foods', Item_MRP=180.266, Outlet_Identifier='OUT045', Outlet_Establishment_Year=2002, Outlet_Size=None, Outlet_Location_Type='Tier 2', Outlet_Type='Supermarket Type1', Item_Outlet_Sales=898.83),\n",
       " Row(Item_Identifier='FDL24', Item_Weight=None, Item_Fat_Content='Regular', Item_Visibility=0.024776026, Item_Type='Baking Goods', Item_MRP=172.3422, Outlet_Identifier='OUT027', Outlet_Establishment_Year=1985, Outlet_Size='Medium', Outlet_Location_Type='Tier 3', Outlet_Type='Supermarket Type3', Item_Outlet_Sales=7759.899),\n",
       " Row(Item_Identifier='FDP03', Item_Weight=5.15, Item_Fat_Content='Regular', Item_Visibility=0.061165512, Item_Type='Meat', Item_MRP=125.6388, Outlet_Identifier='OUT035', Outlet_Establishment_Year=2004, Outlet_Size='Small', Outlet_Location_Type='Tier 2', Outlet_Type='Supermarket Type1', Item_Outlet_Sales=2848.2924),\n",
       " Row(Item_Identifier='FDR58', Item_Weight=None, Item_Fat_Content='Low Fat', Item_Visibility=0.041718456, Item_Type='Snack Foods', Item_MRP=94.5462, Outlet_Identifier='OUT027', Outlet_Establishment_Year=1985, Outlet_Size='Medium', Outlet_Location_Type='Tier 3', Outlet_Type='Supermarket Type3', Item_Outlet_Sales=2868.9322),\n",
       " Row(Item_Identifier='FDO13', Item_Weight=7.865, Item_Fat_Content='Low Fat', Item_Visibility=0.06100886, Item_Type='Breakfast', Item_MRP=166.0526, Outlet_Identifier='OUT013', Outlet_Establishment_Year=1987, Outlet_Size='High', Outlet_Location_Type='Tier 3', Outlet_Type='Supermarket Type1', Item_Outlet_Sales=3617.9572),\n",
       " Row(Item_Identifier='DRD49', Item_Weight=9.895, Item_Fat_Content='Low Fat', Item_Visibility=0.167799329, Item_Type='Soft Drinks', Item_MRP=239.4564, Outlet_Identifier='OUT035', Outlet_Establishment_Year=2004, Outlet_Size='Small', Outlet_Location_Type='Tier 2', Outlet_Type='Supermarket Type1', Item_Outlet_Sales=5243.8408),\n",
       " Row(Item_Identifier='NCF42', Item_Weight=17.35, Item_Fat_Content='Low Fat', Item_Visibility=0.167351411, Item_Type='Household', Item_MRP=176.0712, Outlet_Identifier='OUT035', Outlet_Establishment_Year=2004, Outlet_Size='Small', Outlet_Location_Type='Tier 2', Outlet_Type='Supermarket Type1', Item_Outlet_Sales=2109.2544),\n",
       " Row(Item_Identifier='DRK35', Item_Weight=8.365, Item_Fat_Content='Low Fat', Item_Visibility=0.071832909, Item_Type='Hard Drinks', Item_MRP=36.1506, Outlet_Identifier='OUT035', Outlet_Establishment_Year=2004, Outlet_Size='Small', Outlet_Location_Type='Tier 2', Outlet_Type='Supermarket Type1', Item_Outlet_Sales=721.0614),\n",
       " Row(Item_Identifier='FDR58', Item_Weight=6.675, Item_Fat_Content='Low Fat', Item_Visibility=0.041886576, Item_Type='Snack Foods', Item_MRP=92.1462, Outlet_Identifier='OUT013', Outlet_Establishment_Year=1987, Outlet_Size='High', Outlet_Location_Type='Tier 3', Outlet_Type='Supermarket Type1', Item_Outlet_Sales=1203.1006),\n",
       " Row(Item_Identifier='FDQ15', Item_Weight=None, Item_Fat_Content='Regular', Item_Visibility=0.150341867, Item_Type='Meat', Item_MRP=83.1276, Outlet_Identifier='OUT027', Outlet_Establishment_Year=1985, Outlet_Size='Medium', Outlet_Location_Type='Tier 3', Outlet_Type='Supermarket Type3', Item_Outlet_Sales=1868.2348),\n",
       " Row(Item_Identifier='NCP50', Item_Weight=17.35, Item_Fat_Content='Low Fat', Item_Visibility=0.020542737, Item_Type='Others', Item_MRP=80.5618, Outlet_Identifier='OUT013', Outlet_Establishment_Year=1987, Outlet_Size='High', Outlet_Location_Type='Tier 3', Outlet_Type='Supermarket Type1', Item_Outlet_Sales=322.2472),\n",
       " Row(Item_Identifier='FDV45', Item_Weight=16.75, Item_Fat_Content='Low Fat', Item_Visibility=0.045047439, Item_Type='Snack Foods', Item_MRP=186.4556, Outlet_Identifier='OUT046', Outlet_Establishment_Year=1997, Outlet_Size='Small', Outlet_Location_Type='Tier 1', Outlet_Type='Supermarket Type1', Item_Outlet_Sales=3942.8676),\n",
       " Row(Item_Identifier='DRP35', Item_Weight=18.85, Item_Fat_Content='Low Fat', Item_Visibility=0.091008572, Item_Type='Hard Drinks', Item_MRP=129.6336, Outlet_Identifier='OUT049', Outlet_Establishment_Year=1999, Outlet_Size='Medium', Outlet_Location_Type='Tier 1', Outlet_Type='Supermarket Type1', Item_Outlet_Sales=3195.84),\n",
       " Row(Item_Identifier='FDN23', Item_Weight=6.575, Item_Fat_Content='Regular', Item_Visibility=0.07549348, Item_Type='Breads', Item_MRP=143.5444, Outlet_Identifier='OUT035', Outlet_Establishment_Year=2004, Outlet_Size='Small', Outlet_Location_Type='Tier 2', Outlet_Type='Supermarket Type1', Item_Outlet_Sales=3338.3212),\n",
       " Row(Item_Identifier='FDS44', Item_Weight=12.65, Item_Fat_Content='Regular', Item_Visibility=0.156286566, Item_Type='Fruits and Vegetables', Item_MRP=238.9538, Outlet_Identifier='OUT049', Outlet_Establishment_Year=1999, Outlet_Size='Medium', Outlet_Location_Type='Tier 1', Outlet_Type='Supermarket Type1', Item_Outlet_Sales=4086.0146),\n",
       " Row(Item_Identifier='NCI54', Item_Weight=15.2, Item_Fat_Content='Low Fat', Item_Visibility=0.033735909, Item_Type='Household', Item_MRP=110.9912, Outlet_Identifier='OUT018', Outlet_Establishment_Year=2009, Outlet_Size='Medium', Outlet_Location_Type='Tier 3', Outlet_Type='Supermarket Type2', Item_Outlet_Sales=1856.2504),\n",
       " Row(Item_Identifier='FDH40', Item_Weight=None, Item_Fat_Content='Regular', Item_Visibility=0.078547351, Item_Type='Frozen Foods', Item_MRP=79.3276, Outlet_Identifier='OUT027', Outlet_Establishment_Year=1985, Outlet_Size='Medium', Outlet_Location_Type='Tier 3', Outlet_Type='Supermarket Type3', Item_Outlet_Sales=1380.8692),\n",
       " Row(Item_Identifier='FDF46', Item_Weight=7.07, Item_Fat_Content='Low Fat', Item_Visibility=0.093653464, Item_Type='Snack Foods', Item_MRP=113.3834, Outlet_Identifier='OUT035', Outlet_Establishment_Year=2004, Outlet_Size='Small', Outlet_Location_Type='Tier 2', Outlet_Type='Supermarket Type1', Item_Outlet_Sales=1267.0174),\n",
       " Row(Item_Identifier='FDA21', Item_Weight=13.65, Item_Fat_Content='Low Fat', Item_Visibility=0.036107198, Item_Type='Snack Foods', Item_MRP=184.4924, Outlet_Identifier='OUT018', Outlet_Establishment_Year=2009, Outlet_Size='Medium', Outlet_Location_Type='Tier 3', Outlet_Type='Supermarket Type2', Item_Outlet_Sales=5182.5872),\n",
       " Row(Item_Identifier='FDI41', Item_Weight=None, Item_Fat_Content='Regular', Item_Visibility=0.109003832, Item_Type='Frozen Foods', Item_MRP=145.2418, Outlet_Identifier='OUT019', Outlet_Establishment_Year=1985, Outlet_Size='Small', Outlet_Location_Type='Tier 1', Outlet_Type='Grocery Store', Item_Outlet_Sales=147.1418),\n",
       " Row(Item_Identifier='FDE35', Item_Weight=7.06, Item_Fat_Content='Regular', Item_Visibility=0.073480266, Item_Type='Starchy Foods', Item_MRP=58.8904, Outlet_Identifier='OUT010', Outlet_Establishment_Year=1998, Outlet_Size=None, Outlet_Location_Type='Tier 3', Outlet_Type='Grocery Store', Item_Outlet_Sales=58.5904),\n",
       " Row(Item_Identifier='DRJ24', Item_Weight=11.8, Item_Fat_Content='Low Fat', Item_Visibility=0.113234914, Item_Type='Soft Drinks', Item_MRP=186.3924, Outlet_Identifier='OUT013', Outlet_Establishment_Year=1987, Outlet_Size='High', Outlet_Location_Type='Tier 3', Outlet_Type='Supermarket Type1', Item_Outlet_Sales=5367.6796),\n",
       " Row(Item_Identifier='NCK17', Item_Weight=None, Item_Fat_Content='Low Fat', Item_Visibility=0.037711338, Item_Type='Health and Hygiene', Item_MRP=41.548, Outlet_Identifier='OUT027', Outlet_Establishment_Year=1985, Outlet_Size='Medium', Outlet_Location_Type='Tier 3', Outlet_Type='Supermarket Type3', Item_Outlet_Sales=1358.232),\n",
       " Row(Item_Identifier='FDA15', Item_Weight=9.3, Item_Fat_Content='Low Fat', Item_Visibility=0.016054884, Item_Type='Dairy', Item_MRP=250.2092, Outlet_Identifier='OUT045', Outlet_Establishment_Year=2002, Outlet_Size=None, Outlet_Location_Type='Tier 2', Outlet_Type='Supermarket Type1', Item_Outlet_Sales=5976.2208),\n",
       " Row(Item_Identifier='FDD36', Item_Weight=None, Item_Fat_Content='Low Fat', Item_Visibility=0.021170542, Item_Type='Baking Goods', Item_MRP=117.6124, Outlet_Identifier='OUT027', Outlet_Establishment_Year=1985, Outlet_Size='Medium', Outlet_Location_Type='Tier 3', Outlet_Type='Supermarket Type3', Item_Outlet_Sales=2251.7356),\n",
       " Row(Item_Identifier='DRD60', Item_Weight=None, Item_Fat_Content='Low Fat', Item_Visibility=0.065188619, Item_Type='Soft Drinks', Item_MRP=181.1634, Outlet_Identifier='OUT019', Outlet_Establishment_Year=1985, Outlet_Size='Small', Outlet_Location_Type='Tier 1', Outlet_Type='Grocery Store', Item_Outlet_Sales=181.7634),\n",
       " Row(Item_Identifier='FDA46', Item_Weight=13.6, Item_Fat_Content='Low Fat', Item_Visibility=0.117537563, Item_Type='Snack Foods', Item_MRP=195.4136, Outlet_Identifier='OUT013', Outlet_Establishment_Year=1987, Outlet_Size='High', Outlet_Location_Type='Tier 3', Outlet_Type='Supermarket Type1', Item_Outlet_Sales=5443.5808),\n",
       " Row(Item_Identifier='NCO54', Item_Weight=19.5, Item_Fat_Content='Low Fat', Item_Visibility=0.01430324, Item_Type='Household', Item_MRP=57.2614, Outlet_Identifier='OUT045', Outlet_Establishment_Year=2002, Outlet_Size=None, Outlet_Location_Type='Tier 2', Outlet_Type='Supermarket Type1', Item_Outlet_Sales=1547.3192),\n",
       " Row(Item_Identifier='FDL48', Item_Weight=19.35, Item_Fat_Content='Regular', Item_Visibility=0.137697119, Item_Type='Baking Goods', Item_MRP=47.1034, Outlet_Identifier='OUT010', Outlet_Establishment_Year=1998, Outlet_Size=None, Outlet_Location_Type='Tier 3', Outlet_Type='Grocery Store', Item_Outlet_Sales=145.8102),\n",
       " Row(Item_Identifier='NCM19', Item_Weight=None, Item_Fat_Content='Low Fat', Item_Visibility=0.047008497, Item_Type='Others', Item_MRP=112.0202, Outlet_Identifier='OUT027', Outlet_Establishment_Year=1985, Outlet_Size='Medium', Outlet_Location_Type='Tier 3', Outlet_Type='Supermarket Type3', Item_Outlet_Sales=5063.409),\n",
       " Row(Item_Identifier='FDS31', Item_Weight=13.1, Item_Fat_Content='reg', Item_Visibility=0.0, Item_Type='Fruits and Vegetables', Item_MRP=178.9318, Outlet_Identifier='OUT049', Outlet_Establishment_Year=1999, Outlet_Size='Medium', Outlet_Location_Type='Tier 1', Outlet_Type='Supermarket Type1', Item_Outlet_Sales=3067.3406),\n",
       " Row(Item_Identifier='FDV12', Item_Weight=16.7, Item_Fat_Content='Regular', Item_Visibility=0.060863167, Item_Type='Baking Goods', Item_MRP=97.6384, Outlet_Identifier='OUT035', Outlet_Establishment_Year=2004, Outlet_Size='Small', Outlet_Location_Type='Tier 2', Outlet_Type='Supermarket Type1', Item_Outlet_Sales=2857.6136),\n",
       " Row(Item_Identifier='FDQ31', Item_Weight=5.785, Item_Fat_Content='Regular', Item_Visibility=0.0, Item_Type='Fruits and Vegetables', Item_MRP=87.1856, Outlet_Identifier='OUT035', Outlet_Establishment_Year=2004, Outlet_Size='Small', Outlet_Location_Type='Tier 2', Outlet_Type='Supermarket Type1', Item_Outlet_Sales=1406.1696),\n",
       " Row(Item_Identifier='FDK55', Item_Weight=None, Item_Fat_Content='Low Fat', Item_Visibility=0.045105407, Item_Type='Meat', Item_MRP=89.4172, Outlet_Identifier='OUT019', Outlet_Establishment_Year=1985, Outlet_Size='Small', Outlet_Location_Type='Tier 1', Outlet_Type='Grocery Store', Item_Outlet_Sales=178.4344),\n",
       " Row(Item_Identifier='DRG15', Item_Weight=6.13, Item_Fat_Content='Low Fat', Item_Visibility=0.076855207, Item_Type='Dairy', Item_MRP=59.3536, Outlet_Identifier='OUT049', Outlet_Establishment_Year=1999, Outlet_Size='Medium', Outlet_Location_Type='Tier 1', Outlet_Type='Supermarket Type1', Item_Outlet_Sales=1470.0864),\n",
       " Row(Item_Identifier='NCR17', Item_Weight=9.8, Item_Fat_Content='Low Fat', Item_Visibility=0.024482644, Item_Type='Health and Hygiene', Item_MRP=116.2492, Outlet_Identifier='OUT018', Outlet_Establishment_Year=2009, Outlet_Size='Medium', Outlet_Location_Type='Tier 3', Outlet_Type='Supermarket Type2', Item_Outlet_Sales=2896.23),\n",
       " Row(Item_Identifier='FDV01', Item_Weight=None, Item_Fat_Content='Regular', Item_Visibility=0.0, Item_Type='Canned', Item_MRP=154.6314, Outlet_Identifier='OUT027', Outlet_Establishment_Year=1985, Outlet_Size='Medium', Outlet_Location_Type='Tier 3', Outlet_Type='Supermarket Type3', Item_Outlet_Sales=6515.5188),\n",
       " Row(Item_Identifier='FDT21', Item_Weight=7.42, Item_Fat_Content='Low Fat', Item_Visibility=0.020474913, Item_Type='Snack Foods', Item_MRP=248.4092, Outlet_Identifier='OUT018', Outlet_Establishment_Year=2009, Outlet_Size='Medium', Outlet_Location_Type='Tier 3', Outlet_Type='Supermarket Type2', Item_Outlet_Sales=996.0368),\n",
       " Row(Item_Identifier='FDT10', Item_Weight=16.7, Item_Fat_Content='Regular', Item_Visibility=0.062044506, Item_Type='Snack Foods', Item_MRP=57.4562, Outlet_Identifier='OUT046', Outlet_Establishment_Year=1997, Outlet_Size='Small', Outlet_Location_Type='Tier 1', Outlet_Type='Supermarket Type1', Item_Outlet_Sales=948.0992),\n",
       " Row(Item_Identifier='FDL56', Item_Weight=None, Item_Fat_Content='Low Fat', Item_Visibility=0.220225608, Item_Type='Fruits and Vegetables', Item_MRP=85.6198, Outlet_Identifier='OUT019', Outlet_Establishment_Year=1985, Outlet_Size='Small', Outlet_Location_Type='Tier 1', Outlet_Type='Grocery Store', Item_Outlet_Sales=87.2198),\n",
       " Row(Item_Identifier='FDS49', Item_Weight=9.0, Item_Fat_Content='Low Fat', Item_Visibility=0.079794329, Item_Type='Canned', Item_MRP=80.1644, Outlet_Identifier='OUT017', Outlet_Establishment_Year=2007, Outlet_Size=None, Outlet_Location_Type='Tier 2', Outlet_Type='Supermarket Type1', Item_Outlet_Sales=1178.466),\n",
       " Row(Item_Identifier='FDT32', Item_Weight=None, Item_Fat_Content='Regular', Item_Visibility=0.114916546, Item_Type='Fruits and Vegetables', Item_MRP=188.4214, Outlet_Identifier='OUT019', Outlet_Establishment_Year=1985, Outlet_Size='Small', Outlet_Location_Type='Tier 1', Outlet_Type='Grocery Store', Item_Outlet_Sales=565.2642),\n",
       " Row(Item_Identifier='NCX42', Item_Weight=6.36, Item_Fat_Content='Low Fat', Item_Visibility=0.00597362, Item_Type='Household', Item_MRP=164.5526, Outlet_Identifier='OUT013', Outlet_Establishment_Year=1987, Outlet_Size='High', Outlet_Location_Type='Tier 3', Outlet_Type='Supermarket Type1', Item_Outlet_Sales=2137.8838),\n",
       " Row(Item_Identifier='FDX26', Item_Weight=17.7, Item_Fat_Content='LF', Item_Visibility=0.146973462, Item_Type='Dairy', Item_MRP=184.1292, Outlet_Identifier='OUT010', Outlet_Establishment_Year=1998, Outlet_Size=None, Outlet_Location_Type='Tier 3', Outlet_Type='Grocery Store', Item_Outlet_Sales=547.2876),\n",
       " Row(Item_Identifier='FDN02', Item_Weight=16.5, Item_Fat_Content='Low Fat', Item_Visibility=0.07376631, Item_Type='Canned', Item_MRP=208.5638, Outlet_Identifier='OUT013', Outlet_Establishment_Year=1987, Outlet_Size='High', Outlet_Location_Type='Tier 3', Outlet_Type='Supermarket Type1', Item_Outlet_Sales=2691.8294),\n",
       " Row(Item_Identifier='FDJ40', Item_Weight=None, Item_Fat_Content='Regular', Item_Visibility=0.049349121, Item_Type='Frozen Foods', Item_MRP=108.6912, Outlet_Identifier='OUT027', Outlet_Establishment_Year=1985, Outlet_Size='Medium', Outlet_Location_Type='Tier 3', Outlet_Type='Supermarket Type3', Item_Outlet_Sales=3057.3536),\n",
       " Row(Item_Identifier='FDU13', Item_Weight=None, Item_Fat_Content='low fat', Item_Visibility=0.328390948, Item_Type='Canned', Item_MRP=146.0418, Outlet_Identifier='OUT019', Outlet_Establishment_Year=1985, Outlet_Size='Small', Outlet_Location_Type='Tier 1', Outlet_Type='Grocery Store', Item_Outlet_Sales=588.5672),\n",
       " Row(Item_Identifier='DRE27', Item_Weight=11.85, Item_Fat_Content='Low Fat', Item_Visibility=0.13267058, Item_Type='Dairy', Item_MRP=96.4726, Outlet_Identifier='OUT046', Outlet_Establishment_Year=1997, Outlet_Size='Small', Outlet_Location_Type='Tier 1', Outlet_Type='Supermarket Type1', Item_Outlet_Sales=978.726),\n",
       " Row(Item_Identifier='FDS27', Item_Weight=10.195, Item_Fat_Content='Regular', Item_Visibility=0.012455787, Item_Type='Meat', Item_MRP=197.511, Outlet_Identifier='OUT035', Outlet_Establishment_Year=2004, Outlet_Size='Small', Outlet_Location_Type='Tier 2', Outlet_Type='Supermarket Type1', Item_Outlet_Sales=2356.932),\n",
       " Row(Item_Identifier='FDU44', Item_Weight=None, Item_Fat_Content='Regular', Item_Visibility=0.058142797, Item_Type='Fruits and Vegetables', Item_MRP=162.1552, Outlet_Identifier='OUT027', Outlet_Establishment_Year=1985, Outlet_Size='Medium', Outlet_Location_Type='Tier 3', Outlet_Type='Supermarket Type3', Item_Outlet_Sales=3086.6488),\n",
       " Row(Item_Identifier='DRM59', Item_Weight=None, Item_Fat_Content='Low Fat', Item_Visibility=0.006289291, Item_Type='Hard Drinks', Item_MRP=153.2998, Outlet_Identifier='OUT019', Outlet_Establishment_Year=1985, Outlet_Size='Small', Outlet_Location_Type='Tier 1', Outlet_Type='Grocery Store', Item_Outlet_Sales=461.3994),\n",
       " Row(Item_Identifier='FDT08', Item_Weight=13.65, Item_Fat_Content='Low Fat', Item_Visibility=0.04929502, Item_Type='Fruits and Vegetables', Item_MRP=150.505, Outlet_Identifier='OUT049', Outlet_Establishment_Year=1999, Outlet_Size='Medium', Outlet_Location_Type='Tier 1', Outlet_Type='Supermarket Type1', Item_Outlet_Sales=2696.49),\n",
       " Row(Item_Identifier='FDL46', Item_Weight=20.35, Item_Fat_Content='low fat', Item_Visibility=0.054362695, Item_Type='Snack Foods', Item_MRP=117.9466, Outlet_Identifier='OUT017', Outlet_Establishment_Year=2007, Outlet_Size=None, Outlet_Location_Type='Tier 2', Outlet_Type='Supermarket Type1', Item_Outlet_Sales=1649.8524),\n",
       " Row(Item_Identifier='NCV30', Item_Weight=20.2, Item_Fat_Content='Low Fat', Item_Visibility=0.110356797, Item_Type='Household', Item_MRP=62.051, Outlet_Identifier='OUT010', Outlet_Establishment_Year=1998, Outlet_Size=None, Outlet_Location_Type='Tier 3', Outlet_Type='Grocery Store', Item_Outlet_Sales=126.502),\n",
       " Row(Item_Identifier='FDP51', Item_Weight=13.85, Item_Fat_Content='Regular', Item_Visibility=0.085274988, Item_Type='Meat', Item_MRP=119.6124, Outlet_Identifier='OUT046', Outlet_Establishment_Year=1997, Outlet_Size='Small', Outlet_Location_Type='Tier 1', Outlet_Type='Supermarket Type1', Item_Outlet_Sales=2014.7108),\n",
       " Row(Item_Identifier='FDA51', Item_Weight=8.05, Item_Fat_Content='Regular', Item_Visibility=0.164542555, Item_Type='Dairy', Item_MRP=112.2518, Outlet_Identifier='OUT013', Outlet_Establishment_Year=1987, Outlet_Size='High', Outlet_Location_Type='Tier 3', Outlet_Type='Supermarket Type1', Item_Outlet_Sales=1707.777),\n",
       " Row(Item_Identifier='FDM46', Item_Weight=7.365, Item_Fat_Content='Low Fat', Item_Visibility=0.160292264, Item_Type='Snack Foods', Item_MRP=94.712, Outlet_Identifier='OUT045', Outlet_Establishment_Year=2002, Outlet_Size=None, Outlet_Location_Type='Tier 2', Outlet_Type='Supermarket Type1', Item_Outlet_Sales=932.12),\n",
       " Row(Item_Identifier='FDK02', Item_Weight=12.5, Item_Fat_Content='Low Fat', Item_Visibility=0.112859454, Item_Type='Canned', Item_MRP=118.344, Outlet_Identifier='OUT017', Outlet_Establishment_Year=2007, Outlet_Size=None, Outlet_Location_Type='Tier 2', Outlet_Type='Supermarket Type1', Item_Outlet_Sales=2157.192),\n",
       " Row(Item_Identifier='FDJ57', Item_Weight=7.42, Item_Fat_Content='Regular', Item_Visibility=0.021569566, Item_Type='Seafood', Item_MRP=184.8582, Outlet_Identifier='OUT035', Outlet_Establishment_Year=2004, Outlet_Size='Small', Outlet_Location_Type='Tier 2', Outlet_Type='Supermarket Type1', Item_Outlet_Sales=4643.955),\n",
       " Row(Item_Identifier='FDJ45', Item_Weight=None, Item_Fat_Content='Low Fat', Item_Visibility=0.073055148, Item_Type='Seafood', Item_MRP=33.7216, Outlet_Identifier='OUT027', Outlet_Establishment_Year=1985, Outlet_Size='Medium', Outlet_Location_Type='Tier 3', Outlet_Type='Supermarket Type3', Item_Outlet_Sales=1280.9992),\n",
       " Row(Item_Identifier='NCB31', Item_Weight=6.235, Item_Fat_Content='Low Fat', Item_Visibility=0.119345629, Item_Type='Household', Item_MRP=261.991, Outlet_Identifier='OUT017', Outlet_Establishment_Year=2007, Outlet_Size=None, Outlet_Location_Type='Tier 2', Outlet_Type='Supermarket Type1', Item_Outlet_Sales=2366.919),\n",
       " Row(Item_Identifier='FDJ03', Item_Weight=12.35, Item_Fat_Content='Regular', Item_Visibility=0.072334667, Item_Type='Dairy', Item_MRP=49.1692, Outlet_Identifier='OUT013', Outlet_Establishment_Year=1987, Outlet_Size='High', Outlet_Location_Type='Tier 3', Outlet_Type='Supermarket Type1', Item_Outlet_Sales=886.8456),\n",
       " Row(Item_Identifier='FDT50', Item_Weight=6.75, Item_Fat_Content='Regular', Item_Visibility=0.108148913, Item_Type='Dairy', Item_MRP=95.6752, Outlet_Identifier='OUT013', Outlet_Establishment_Year=1987, Outlet_Size='High', Outlet_Location_Type='Tier 3', Outlet_Type='Supermarket Type1', Item_Outlet_Sales=958.752),\n",
       " Row(Item_Identifier='NCY41', Item_Weight=16.75, Item_Fat_Content='Low Fat', Item_Visibility=0.07585337, Item_Type='Health and Hygiene', Item_MRP=36.8532, Outlet_Identifier='OUT049', Outlet_Establishment_Year=1999, Outlet_Size='Medium', Outlet_Location_Type='Tier 1', Outlet_Type='Supermarket Type1', Item_Outlet_Sales=1150.5024),\n",
       " Row(Item_Identifier='FDJ60', Item_Weight=19.35, Item_Fat_Content='Regular', Item_Visibility=0.062655235, Item_Type='Baking Goods', Item_MRP=163.3184, Outlet_Identifier='OUT045', Outlet_Establishment_Year=2002, Outlet_Size=None, Outlet_Location_Type='Tier 2', Outlet_Type='Supermarket Type1', Item_Outlet_Sales=2641.8944),\n",
       " Row(Item_Identifier='FDZ35', Item_Weight=9.6, Item_Fat_Content='Regular', Item_Visibility=0.022278477, Item_Type='Breads', Item_MRP=102.499, Outlet_Identifier='OUT046', Outlet_Establishment_Year=1997, Outlet_Size='Small', Outlet_Location_Type='Tier 1', Outlet_Type='Supermarket Type1', Item_Outlet_Sales=1547.985),\n",
       " Row(Item_Identifier='FDS21', Item_Weight=19.85, Item_Fat_Content='Regular', Item_Visibility=0.020961192, Item_Type='Snack Foods', Item_MRP=62.0194, Outlet_Identifier='OUT018', Outlet_Establishment_Year=2009, Outlet_Size='Medium', Outlet_Location_Type='Tier 3', Outlet_Type='Supermarket Type2', Item_Outlet_Sales=619.194),\n",
       " Row(Item_Identifier='FDM52', Item_Weight=15.1, Item_Fat_Content='Low Fat', Item_Visibility=0.025993423, Item_Type='Frozen Foods', Item_MRP=147.4076, Outlet_Identifier='OUT046', Outlet_Establishment_Year=1997, Outlet_Size='Small', Outlet_Location_Type='Tier 1', Outlet_Type='Supermarket Type1', Item_Outlet_Sales=2808.3444),\n",
       " Row(Item_Identifier='FDQ08', Item_Weight=None, Item_Fat_Content='Regular', Item_Visibility=0.018838681, Item_Type='Fruits and Vegetables', Item_MRP=62.9536, Outlet_Identifier='OUT027', Outlet_Establishment_Year=1985, Outlet_Size='Medium', Outlet_Location_Type='Tier 3', Outlet_Type='Supermarket Type3', Item_Outlet_Sales=2266.3832),\n",
       " Row(Item_Identifier='FDQ56', Item_Weight=6.59, Item_Fat_Content='Low Fat', Item_Visibility=0.105577348, Item_Type='Fruits and Vegetables', Item_MRP=85.6908, Outlet_Identifier='OUT035', Outlet_Establishment_Year=2004, Outlet_Size='Small', Outlet_Location_Type='Tier 2', Outlet_Type='Supermarket Type1', Item_Outlet_Sales=1929.4884),\n",
       " Row(Item_Identifier='FDS47', Item_Weight=16.75, Item_Fat_Content='Low Fat', Item_Visibility=0.129086113, Item_Type='Breads', Item_MRP=89.4856, Outlet_Identifier='OUT049', Outlet_Establishment_Year=1999, Outlet_Size='Medium', Outlet_Location_Type='Tier 1', Outlet_Type='Supermarket Type1', Item_Outlet_Sales=1054.6272),\n",
       " Row(Item_Identifier='DRM48', Item_Weight=15.2, Item_Fat_Content='Low Fat', Item_Visibility=0.113125627, Item_Type='Soft Drinks', Item_MRP=38.6848, Outlet_Identifier='OUT045', Outlet_Establishment_Year=2002, Outlet_Size=None, Outlet_Location_Type='Tier 2', Outlet_Type='Supermarket Type1', Item_Outlet_Sales=1155.8288),\n",
       " Row(Item_Identifier='FDW46', Item_Weight=13.0, Item_Fat_Content='Regular', Item_Visibility=0.070699313, Item_Type='Snack Foods', Item_MRP=65.7484, Outlet_Identifier='OUT017', Outlet_Establishment_Year=2007, Outlet_Size=None, Outlet_Location_Type='Tier 2', Outlet_Type='Supermarket Type1', Item_Outlet_Sales=1174.4712),\n",
       " Row(Item_Identifier='FDW27', Item_Weight=5.86, Item_Fat_Content='Regular', Item_Visibility=0.151467821, Item_Type='Meat', Item_MRP=154.1314, Outlet_Identifier='OUT018', Outlet_Establishment_Year=2009, Outlet_Size='Medium', Outlet_Location_Type='Tier 3', Outlet_Type='Supermarket Type2', Item_Outlet_Sales=3412.8908),\n",
       " Row(Item_Identifier='NCQ05', Item_Weight=11.395, Item_Fat_Content='Low Fat', Item_Visibility=0.03616416, Item_Type='Health and Hygiene', Item_MRP=150.1708, Outlet_Identifier='OUT010', Outlet_Establishment_Year=1998, Outlet_Size=None, Outlet_Location_Type='Tier 3', Outlet_Type='Grocery Store', Item_Outlet_Sales=300.9416),\n",
       " Row(Item_Identifier='FDU40', Item_Weight=20.85, Item_Fat_Content='Low Fat', Item_Visibility=0.062606583, Item_Type='Frozen Foods', Item_MRP=192.2478, Outlet_Identifier='OUT010', Outlet_Establishment_Year=1998, Outlet_Size=None, Outlet_Location_Type='Tier 3', Outlet_Type='Grocery Store', Item_Outlet_Sales=387.4956),\n",
       " Row(Item_Identifier='DRE12', Item_Weight=None, Item_Fat_Content='Low Fat', Item_Visibility=0.0704378, Item_Type='Soft Drinks', Item_MRP=112.886, Outlet_Identifier='OUT027', Outlet_Establishment_Year=1985, Outlet_Size='Medium', Outlet_Location_Type='Tier 3', Outlet_Type='Supermarket Type3', Item_Outlet_Sales=2942.836),\n",
       " Row(Item_Identifier='FDX35', Item_Weight=5.035, Item_Fat_Content='Regular', Item_Visibility=0.079844043, Item_Type='Breads', Item_MRP=226.3036, Outlet_Identifier='OUT013', Outlet_Establishment_Year=1987, Outlet_Size='High', Outlet_Location_Type='Tier 3', Outlet_Type='Supermarket Type1', Item_Outlet_Sales=4098.6648),\n",
       " Row(Item_Identifier='FDD51', Item_Weight=11.15, Item_Fat_Content='Low Fat', Item_Visibility=0.120139206, Item_Type='Dairy', Item_MRP=45.0744, Outlet_Identifier='OUT049', Outlet_Establishment_Year=1999, Outlet_Size='Medium', Outlet_Location_Type='Tier 1', Outlet_Type='Supermarket Type1', Item_Outlet_Sales=452.744),\n",
       " Row(Item_Identifier='FDY27', Item_Weight=6.38, Item_Fat_Content='Low Fat', Item_Visibility=0.032028115, Item_Type='Dairy', Item_MRP=178.3344, Outlet_Identifier='OUT018', Outlet_Establishment_Year=2009, Outlet_Size='Medium', Outlet_Location_Type='Tier 3', Outlet_Type='Supermarket Type2', Item_Outlet_Sales=3211.8192),\n",
       " Row(Item_Identifier='NCN06', Item_Weight=8.39, Item_Fat_Content='Low Fat', Item_Visibility=0.120497266, Item_Type='Household', Item_MRP=162.2868, Outlet_Identifier='OUT046', Outlet_Establishment_Year=1997, Outlet_Size='Small', Outlet_Location_Type='Tier 1', Outlet_Type='Supermarket Type1', Item_Outlet_Sales=2620.5888),\n",
       " Row(Item_Identifier='FDR57', Item_Weight=5.675, Item_Fat_Content='Regular', Item_Visibility=0.023492524, Item_Type='Snack Foods', Item_MRP=155.5288, Outlet_Identifier='OUT035', Outlet_Establishment_Year=2004, Outlet_Size='Small', Outlet_Location_Type='Tier 2', Outlet_Type='Supermarket Type1', Item_Outlet_Sales=1414.1592),\n",
       " Row(Item_Identifier='FDL32', Item_Weight=15.7, Item_Fat_Content='Regular', Item_Visibility=0.122657336, Item_Type='Fruits and Vegetables', Item_MRP=110.1544, Outlet_Identifier='OUT049', Outlet_Establishment_Year=1999, Outlet_Size='Medium', Outlet_Location_Type='Tier 1', Outlet_Type='Supermarket Type1', Item_Outlet_Sales=1565.9616),\n",
       " Row(Item_Identifier='FDW46', Item_Weight=13.0, Item_Fat_Content='reg', Item_Visibility=0.070588037, Item_Type='Snack Foods', Item_MRP=65.9484, Outlet_Identifier='OUT018', Outlet_Establishment_Year=2009, Outlet_Size='Medium', Outlet_Location_Type='Tier 3', Outlet_Type='Supermarket Type2', Item_Outlet_Sales=1043.9744),\n",
       " Row(Item_Identifier='NCO17', Item_Weight=None, Item_Fat_Content='Low Fat', Item_Visibility=0.073024401, Item_Type='Health and Hygiene', Item_MRP=121.844, Outlet_Identifier='OUT027', Outlet_Establishment_Year=1985, Outlet_Size='Medium', Outlet_Location_Type='Tier 3', Outlet_Type='Supermarket Type3', Item_Outlet_Sales=3115.944),\n",
       " Row(Item_Identifier='FDR19', Item_Weight=13.5, Item_Fat_Content='Regular', Item_Visibility=0.159587755, Item_Type='Fruits and Vegetables', Item_MRP=145.3102, Outlet_Identifier='OUT013', Outlet_Establishment_Year=1987, Outlet_Size='High', Outlet_Location_Type='Tier 3', Outlet_Type='Supermarket Type1', Item_Outlet_Sales=729.051),\n",
       " Row(Item_Identifier='FDJ33', Item_Weight=8.895, Item_Fat_Content='Regular', Item_Visibility=0.088821765, Item_Type='Snack Foods', Item_MRP=125.173, Outlet_Identifier='OUT017', Outlet_Establishment_Year=2007, Outlet_Size=None, Outlet_Location_Type='Tier 2', Outlet_Type='Supermarket Type1', Item_Outlet_Sales=2956.152),\n",
       " Row(Item_Identifier='FDB15', Item_Weight=10.895, Item_Fat_Content='Low Fat', Item_Visibility=0.136810742, Item_Type='Dairy', Item_MRP=263.0568, Outlet_Identifier='OUT046', Outlet_Establishment_Year=1997, Outlet_Size='Small', Outlet_Location_Type='Tier 1', Outlet_Type='Supermarket Type1', Item_Outlet_Sales=527.3136),\n",
       " Row(Item_Identifier='FDA52', Item_Weight=16.2, Item_Fat_Content='Regular', Item_Visibility=0.128682722, Item_Type='Frozen Foods', Item_MRP=178.437, Outlet_Identifier='OUT045', Outlet_Establishment_Year=2002, Outlet_Size=None, Outlet_Location_Type='Tier 2', Outlet_Type='Supermarket Type1', Item_Outlet_Sales=1058.622),\n",
       " Row(Item_Identifier='FDZ08', Item_Weight=None, Item_Fat_Content='Regular', Item_Visibility=0.109459733, Item_Type='Fruits and Vegetables', Item_MRP=84.1592, Outlet_Identifier='OUT027', Outlet_Establishment_Year=1985, Outlet_Size='Medium', Outlet_Location_Type='Tier 3', Outlet_Type='Supermarket Type3', Item_Outlet_Sales=1320.9472),\n",
       " Row(Item_Identifier='FDR27', Item_Weight=15.1, Item_Fat_Content='Regular', Item_Visibility=0.096644015, Item_Type='Meat', Item_MRP=131.9942, Outlet_Identifier='OUT017', Outlet_Establishment_Year=2007, Outlet_Size=None, Outlet_Location_Type='Tier 2', Outlet_Type='Supermarket Type1', Item_Outlet_Sales=3047.3666),\n",
       " Row(Item_Identifier='NCK42', Item_Weight=7.475, Item_Fat_Content='Low Fat', Item_Visibility=0.013120028, Item_Type='Household', Item_MRP=217.6192, Outlet_Identifier='OUT046', Outlet_Establishment_Year=1997, Outlet_Size='Small', Outlet_Location_Type='Tier 1', Outlet_Type='Supermarket Type1', Item_Outlet_Sales=1725.7536),\n",
       " Row(Item_Identifier='FDZ12', Item_Weight=None, Item_Fat_Content='Low Fat', Item_Visibility=0.0, Item_Type='Baking Goods', Item_MRP=144.847, Outlet_Identifier='OUT019', Outlet_Establishment_Year=1985, Outlet_Size='Small', Outlet_Location_Type='Tier 1', Outlet_Type='Grocery Store', Item_Outlet_Sales=143.147),\n",
       " Row(Item_Identifier='FDM60', Item_Weight=10.8, Item_Fat_Content='Regular', Item_Visibility=0.048339408, Item_Type='Baking Goods', Item_MRP=41.5138, Outlet_Identifier='OUT018', Outlet_Establishment_Year=2009, Outlet_Size='Medium', Outlet_Location_Type='Tier 3', Outlet_Type='Supermarket Type2', Item_Outlet_Sales=446.7518),\n",
       " Row(Item_Identifier='NCI31', Item_Weight=20.0, Item_Fat_Content='Low Fat', Item_Visibility=0.08165845, Item_Type='Others', Item_MRP=35.019, Outlet_Identifier='OUT018', Outlet_Establishment_Year=2009, Outlet_Size='Medium', Outlet_Location_Type='Tier 3', Outlet_Type='Supermarket Type2', Item_Outlet_Sales=585.904),\n",
       " Row(Item_Identifier='FDX39', Item_Weight=14.3, Item_Fat_Content='Regular', Item_Visibility=0.04975339, Item_Type='Meat', Item_MRP=210.3586, Outlet_Identifier='OUT049', Outlet_Establishment_Year=1999, Outlet_Size='Medium', Outlet_Location_Type='Tier 1', Outlet_Type='Supermarket Type1', Item_Outlet_Sales=6331.758),\n",
       " Row(Item_Identifier='NCV05', Item_Weight=10.1, Item_Fat_Content='Low Fat', Item_Visibility=0.030379382, Item_Type='Health and Hygiene', Item_MRP=153.4656, Outlet_Identifier='OUT017', Outlet_Establishment_Year=2007, Outlet_Size=None, Outlet_Location_Type='Tier 2', Outlet_Type='Supermarket Type1', Item_Outlet_Sales=1853.5872),\n",
       " Row(Item_Identifier='FDX16', Item_Weight=17.85, Item_Fat_Content='LF', Item_Visibility=0.065810045, Item_Type='Frozen Foods', Item_MRP=149.105, Outlet_Identifier='OUT046', Outlet_Establishment_Year=1997, Outlet_Size='Small', Outlet_Location_Type='Tier 1', Outlet_Type='Supermarket Type1', Item_Outlet_Sales=2247.075),\n",
       " Row(Item_Identifier='DRK12', Item_Weight=9.5, Item_Fat_Content='Low Fat', Item_Visibility=0.0, Item_Type='Soft Drinks', Item_MRP=32.89, Outlet_Identifier='OUT010', Outlet_Establishment_Year=1998, Outlet_Size=None, Outlet_Location_Type='Tier 3', Outlet_Type='Grocery Store', Item_Outlet_Sales=33.29),\n",
       " Row(Item_Identifier='NCA05', Item_Weight=20.75, Item_Fat_Content='Low Fat', Item_Visibility=0.025272781, Item_Type='Health and Hygiene', Item_MRP=146.6734, Outlet_Identifier='OUT017', Outlet_Establishment_Year=2007, Outlet_Size=None, Outlet_Location_Type='Tier 2', Outlet_Type='Supermarket Type1', Item_Outlet_Sales=445.4202),\n",
       " Row(Item_Identifier='DRG51', Item_Weight=12.1, Item_Fat_Content='Low Fat', Item_Visibility=0.019314961, Item_Type='Dairy', Item_MRP=164.6526, Outlet_Identifier='OUT010', Outlet_Establishment_Year=1998, Outlet_Size=None, Outlet_Location_Type='Tier 3', Outlet_Type='Grocery Store', Item_Outlet_Sales=657.8104),\n",
       " Row(Item_Identifier='NCR30', Item_Weight=20.6, Item_Fat_Content='Low Fat', Item_Visibility=0.071282168, Item_Type='Household', Item_MRP=74.4696, Outlet_Identifier='OUT018', Outlet_Establishment_Year=2009, Outlet_Size='Medium', Outlet_Location_Type='Tier 3', Outlet_Type='Supermarket Type2', Item_Outlet_Sales=223.7088),\n",
       " Row(Item_Identifier='NCE31', Item_Weight=7.67, Item_Fat_Content='Low Fat', Item_Visibility=0.184843579, Item_Type='Household', Item_MRP=33.1216, Outlet_Identifier='OUT046', Outlet_Establishment_Year=1997, Outlet_Size='Small', Outlet_Location_Type='Tier 1', Outlet_Type='Supermarket Type1', Item_Outlet_Sales=727.0536),\n",
       " Row(Item_Identifier='FDM56', Item_Weight=None, Item_Fat_Content='Low Fat', Item_Visibility=0.122896411, Item_Type='Fruits and Vegetables', Item_MRP=111.1912, Outlet_Identifier='OUT019', Outlet_Establishment_Year=1985, Outlet_Size='Small', Outlet_Location_Type='Tier 1', Outlet_Type='Grocery Store', Item_Outlet_Sales=218.3824),\n",
       " Row(Item_Identifier='FDP24', Item_Weight=20.6, Item_Fat_Content='Low Fat', Item_Visibility=0.082935004, Item_Type='Baking Goods', Item_MRP=119.5756, Outlet_Identifier='OUT013', Outlet_Establishment_Year=1987, Outlet_Size='High', Outlet_Location_Type='Tier 3', Outlet_Type='Supermarket Type1', Item_Outlet_Sales=2665.8632),\n",
       " Row(Item_Identifier='DRM37', Item_Weight=15.35, Item_Fat_Content='Low Fat', Item_Visibility=0.161350176, Item_Type='Soft Drinks', Item_MRP=196.6768, Outlet_Identifier='OUT010', Outlet_Establishment_Year=1998, Outlet_Size=None, Outlet_Location_Type='Tier 3', Outlet_Type='Grocery Store', Item_Outlet_Sales=591.2304),\n",
       " Row(Item_Identifier='FDN56', Item_Weight=5.46, Item_Fat_Content='Regular', Item_Visibility=0.106968096, Item_Type='Fruits and Vegetables', Item_MRP=142.6786, Outlet_Identifier='OUT013', Outlet_Establishment_Year=1987, Outlet_Size='High', Outlet_Location_Type='Tier 3', Outlet_Type='Supermarket Type1', Item_Outlet_Sales=2311.6576),\n",
       " Row(Item_Identifier='DRE60', Item_Weight=9.395, Item_Fat_Content='Low Fat', Item_Visibility=0.159582185, Item_Type='Soft Drinks', Item_MRP=224.772, Outlet_Identifier='OUT049', Outlet_Establishment_Year=1999, Outlet_Size='Medium', Outlet_Location_Type='Tier 1', Outlet_Type='Supermarket Type1', Item_Outlet_Sales=7017.532),\n",
       " Row(Item_Identifier='FDW49', Item_Weight=None, Item_Fat_Content='Low Fat', Item_Visibility=0.14453827, Item_Type='Canned', Item_MRP=180.6002, Outlet_Identifier='OUT019', Outlet_Establishment_Year=1985, Outlet_Size='Small', Outlet_Location_Type='Tier 1', Outlet_Type='Grocery Store', Item_Outlet_Sales=895.501),\n",
       " Row(Item_Identifier='FDM20', Item_Weight=10.0, Item_Fat_Content='Low Fat', Item_Visibility=0.038685802, Item_Type='Fruits and Vegetables', Item_MRP=243.8144, Outlet_Identifier='OUT046', Outlet_Establishment_Year=1997, Outlet_Size='Small', Outlet_Location_Type='Tier 1', Outlet_Type='Supermarket Type1', Item_Outlet_Sales=4655.2736),\n",
       " Row(Item_Identifier='FDK15', Item_Weight=None, Item_Fat_Content='Low Fat', Item_Visibility=0.172309903, Item_Type='Meat', Item_MRP=98.2042, Outlet_Identifier='OUT019', Outlet_Establishment_Year=1985, Outlet_Size='Small', Outlet_Location_Type='Tier 1', Outlet_Type='Grocery Store', Item_Outlet_Sales=198.4084),\n",
       " Row(Item_Identifier='FDK48', Item_Weight=7.445, Item_Fat_Content='Low Fat', Item_Visibility=0.037690731, Item_Type='Baking Goods', Item_MRP=73.3354, Outlet_Identifier='OUT049', Outlet_Establishment_Year=1999, Outlet_Size='Medium', Outlet_Location_Type='Tier 1', Outlet_Type='Supermarket Type1', Item_Outlet_Sales=451.4124),\n",
       " Row(Item_Identifier='FDO49', Item_Weight=None, Item_Fat_Content='Regular', Item_Visibility=0.05787008, Item_Type='Breakfast', Item_MRP=49.7008, Outlet_Identifier='OUT019', Outlet_Establishment_Year=1985, Outlet_Size='Small', Outlet_Location_Type='Tier 1', Outlet_Type='Grocery Store', Item_Outlet_Sales=50.6008),\n",
       " Row(Item_Identifier='FDC09', Item_Weight=15.5, Item_Fat_Content='Regular', Item_Visibility=0.026409147, Item_Type='Fruits and Vegetables', Item_MRP=102.1332, Outlet_Identifier='OUT018', Outlet_Establishment_Year=2009, Outlet_Size='Medium', Outlet_Location_Type='Tier 3', Outlet_Type='Supermarket Type2', Item_Outlet_Sales=615.1992),\n",
       " Row(Item_Identifier='NCZ41', Item_Weight=19.85, Item_Fat_Content='Low Fat', Item_Visibility=0.064367627, Item_Type='Health and Hygiene', Item_MRP=126.1704, Outlet_Identifier='OUT013', Outlet_Establishment_Year=1987, Outlet_Size='High', Outlet_Location_Type='Tier 3', Outlet_Type='Supermarket Type1', Item_Outlet_Sales=876.1928),\n",
       " Row(Item_Identifier='FDP19', Item_Weight=11.5, Item_Fat_Content='Low Fat', Item_Visibility=0.173516063, Item_Type='Fruits and Vegetables', Item_MRP=128.1652, Outlet_Identifier='OUT046', Outlet_Establishment_Year=1997, Outlet_Size='Small', Outlet_Location_Type='Tier 1', Outlet_Type='Supermarket Type1', Item_Outlet_Sales=2454.1388),\n",
       " Row(Item_Identifier='FDQ24', Item_Weight=None, Item_Fat_Content='Low Fat', Item_Visibility=0.12898088, Item_Type='Baking Goods', Item_MRP=250.4724, Outlet_Identifier='OUT019', Outlet_Establishment_Year=1985, Outlet_Size='Small', Outlet_Location_Type='Tier 1', Outlet_Type='Grocery Store', Item_Outlet_Sales=251.6724),\n",
       " Row(Item_Identifier='DRL11', Item_Weight=10.5, Item_Fat_Content='Low Fat', Item_Visibility=0.048115543, Item_Type='Hard Drinks', Item_MRP=159.0946, Outlet_Identifier='OUT045', Outlet_Establishment_Year=2002, Outlet_Size=None, Outlet_Location_Type='Tier 2', Outlet_Type='Supermarket Type1', Item_Outlet_Sales=4102.6596),\n",
       " Row(Item_Identifier='FDO36', Item_Weight=19.7, Item_Fat_Content='Low Fat', Item_Visibility=0.077899109, Item_Type='Baking Goods', Item_MRP=177.766, Outlet_Identifier='OUT035', Outlet_Establishment_Year=2004, Outlet_Size='Small', Outlet_Location_Type='Tier 2', Outlet_Type='Supermarket Type1', Item_Outlet_Sales=2696.49),\n",
       " Row(Item_Identifier='FDN52', Item_Weight=None, Item_Fat_Content='Regular', Item_Visibility=0.13093275, Item_Type='Frozen Foods', Item_MRP=86.9198, Outlet_Identifier='OUT027', Outlet_Establishment_Year=1985, Outlet_Size='Medium', Outlet_Location_Type='Tier 3', Outlet_Type='Supermarket Type3', Item_Outlet_Sales=1569.9564),\n",
       " Row(Item_Identifier='FDF21', Item_Weight=10.3, Item_Fat_Content='Regular', Item_Visibility=0.098464979, Item_Type='Fruits and Vegetables', Item_MRP=188.653, Outlet_Identifier='OUT010', Outlet_Establishment_Year=1998, Outlet_Size=None, Outlet_Location_Type='Tier 3', Outlet_Type='Grocery Store', Item_Outlet_Sales=189.753),\n",
       " Row(Item_Identifier='FDU40', Item_Weight=20.85, Item_Fat_Content='Low Fat', Item_Visibility=0.037372847, Item_Type='Frozen Foods', Item_MRP=192.7478, Outlet_Identifier='OUT013', Outlet_Establishment_Year=1987, Outlet_Size='High', Outlet_Location_Type='Tier 3', Outlet_Type='Supermarket Type1', Item_Outlet_Sales=3099.9648),\n",
       " Row(Item_Identifier='FDS51', Item_Weight=13.35, Item_Fat_Content='Low Fat', Item_Visibility=0.032230526, Item_Type='Meat', Item_MRP=61.4194, Outlet_Identifier='OUT049', Outlet_Establishment_Year=1999, Outlet_Size='Medium', Outlet_Location_Type='Tier 1', Outlet_Type='Supermarket Type1', Item_Outlet_Sales=743.0328),\n",
       " Row(Item_Identifier='FDE45', Item_Weight=12.1, Item_Fat_Content='Low Fat', Item_Visibility=0.040357315, Item_Type='Fruits and Vegetables', Item_MRP=177.8002, Outlet_Identifier='OUT046', Outlet_Establishment_Year=1997, Outlet_Size='Small', Outlet_Location_Type='Tier 1', Outlet_Type='Supermarket Type1', Item_Outlet_Sales=1611.9018),\n",
       " Row(Item_Identifier='FDX50', Item_Weight=20.1, Item_Fat_Content='Low Fat', Item_Visibility=0.07461309, Item_Type='Dairy', Item_MRP=108.7228, Outlet_Identifier='OUT035', Outlet_Establishment_Year=2004, Outlet_Size='Small', Outlet_Location_Type='Tier 2', Outlet_Type='Supermarket Type1', Item_Outlet_Sales=1215.7508),\n",
       " Row(Item_Identifier='NCN14', Item_Weight=None, Item_Fat_Content='Low Fat', Item_Visibility=0.160936178, Item_Type='Others', Item_MRP=184.2608, Outlet_Identifier='OUT019', Outlet_Establishment_Year=1985, Outlet_Size='Small', Outlet_Location_Type='Tier 1', Outlet_Type='Grocery Store', Item_Outlet_Sales=367.5216),\n",
       " Row(Item_Identifier='FDQ21', Item_Weight=21.25, Item_Fat_Content='Low Fat', Item_Visibility=0.019502354, Item_Type='Snack Foods', Item_MRP=120.8756, Outlet_Identifier='OUT018', Outlet_Establishment_Year=2009, Outlet_Size='Medium', Outlet_Location_Type='Tier 3', Outlet_Type='Supermarket Type2', Item_Outlet_Sales=3150.5656),\n",
       " Row(Item_Identifier='FDV57', Item_Weight=None, Item_Fat_Content='Regular', Item_Visibility=0.065577449, Item_Type='Snack Foods', Item_MRP=181.766, Outlet_Identifier='OUT027', Outlet_Establishment_Year=1985, Outlet_Size='Medium', Outlet_Location_Type='Tier 3', Outlet_Type='Supermarket Type3', Item_Outlet_Sales=7370.406),\n",
       " Row(Item_Identifier='FDB44', Item_Weight=6.655, Item_Fat_Content='Low Fat', Item_Visibility=0.016944719, Item_Type='Fruits and Vegetables', Item_MRP=209.2586, Outlet_Identifier='OUT013', Outlet_Establishment_Year=1987, Outlet_Size='High', Outlet_Location_Type='Tier 3', Outlet_Type='Supermarket Type1', Item_Outlet_Sales=2954.8204),\n",
       " Row(Item_Identifier='FDG52', Item_Weight=13.65, Item_Fat_Content='Low Fat', Item_Visibility=0.065576228, Item_Type='Frozen Foods', Item_MRP=47.7402, Outlet_Identifier='OUT013', Outlet_Establishment_Year=1987, Outlet_Size='High', Outlet_Location_Type='Tier 3', Outlet_Type='Supermarket Type1', Item_Outlet_Sales=643.1628),\n",
       " Row(Item_Identifier='FDL38', Item_Weight=None, Item_Fat_Content='Regular', Item_Visibility=0.02579577, Item_Type='Canned', Item_MRP=88.4172, Outlet_Identifier='OUT019', Outlet_Establishment_Year=1985, Outlet_Size='Small', Outlet_Location_Type='Tier 1', Outlet_Type='Grocery Store', Item_Outlet_Sales=89.2172),\n",
       " Row(Item_Identifier='NCS54', Item_Weight=13.6, Item_Fat_Content='Low Fat', Item_Visibility=0.010008699, Item_Type='Household', Item_MRP=176.737, Outlet_Identifier='OUT049', Outlet_Establishment_Year=1999, Outlet_Size='Medium', Outlet_Location_Type='Tier 1', Outlet_Type='Supermarket Type1', Item_Outlet_Sales=4940.236),\n",
       " Row(Item_Identifier='DRL37', Item_Weight=15.5, Item_Fat_Content='Low Fat', Item_Visibility=0.053362086, Item_Type='Soft Drinks', Item_MRP=41.577, Outlet_Identifier='OUT035', Outlet_Establishment_Year=2004, Outlet_Size='Small', Outlet_Location_Type='Tier 2', Outlet_Type='Supermarket Type1', Item_Outlet_Sales=735.709),\n",
       " Row(Item_Identifier='FDA43', Item_Weight=10.895, Item_Fat_Content='Low Fat', Item_Visibility=0.064621927, Item_Type='Fruits and Vegetables', Item_MRP=196.6794, Outlet_Identifier='OUT013', Outlet_Establishment_Year=1987, Outlet_Size='High', Outlet_Location_Type='Tier 3', Outlet_Type='Supermarket Type1', Item_Outlet_Sales=1170.4764),\n",
       " Row(Item_Identifier='FDZ39', Item_Weight=19.7, Item_Fat_Content='Regular', Item_Visibility=0.018126724, Item_Type='Meat', Item_MRP=101.799, Outlet_Identifier='OUT017', Outlet_Establishment_Year=2007, Outlet_Size=None, Outlet_Location_Type='Tier 2', Outlet_Type='Supermarket Type1', Item_Outlet_Sales=1135.189),\n",
       " Row(Item_Identifier='FDG45', Item_Weight=8.1, Item_Fat_Content='Low Fat', Item_Visibility=0.0, Item_Type='Fruits and Vegetables', Item_MRP=211.8902, Outlet_Identifier='OUT018', Outlet_Establishment_Year=2009, Outlet_Size='Medium', Outlet_Location_Type='Tier 3', Outlet_Type='Supermarket Type2', Item_Outlet_Sales=3823.0236),\n",
       " Row(Item_Identifier='FDH10', Item_Weight=21.0, Item_Fat_Content='Low Fat', Item_Visibility=0.049263979, Item_Type='Snack Foods', Item_MRP=195.0478, Outlet_Identifier='OUT013', Outlet_Establishment_Year=1987, Outlet_Size='High', Outlet_Location_Type='Tier 3', Outlet_Type='Supermarket Type1', Item_Outlet_Sales=1549.9824),\n",
       " Row(Item_Identifier='FDO10', Item_Weight=13.65, Item_Fat_Content='Regular', Item_Visibility=0.021343732, Item_Type='Snack Foods', Item_MRP=58.3588, Outlet_Identifier='OUT010', Outlet_Establishment_Year=1998, Outlet_Size=None, Outlet_Location_Type='Tier 3', Outlet_Type='Grocery Store', Item_Outlet_Sales=114.5176),\n",
       " Row(Item_Identifier='FDS35', Item_Weight=None, Item_Fat_Content='LF', Item_Visibility=0.110681931, Item_Type='Breads', Item_MRP=63.2826, Outlet_Identifier='OUT027', Outlet_Establishment_Year=1985, Outlet_Size='Medium', Outlet_Location_Type='Tier 3', Outlet_Type='Supermarket Type3', Item_Outlet_Sales=1033.3216),\n",
       " Row(Item_Identifier='FDI41', Item_Weight=None, Item_Fat_Content='Regular', Item_Visibility=0.061955439, Item_Type='Frozen Foods', Item_MRP=145.1418, Outlet_Identifier='OUT027', Outlet_Establishment_Year=1985, Outlet_Size='Medium', Outlet_Location_Type='Tier 3', Outlet_Type='Supermarket Type3', Item_Outlet_Sales=4561.3958),\n",
       " Row(Item_Identifier='FDN21', Item_Weight=None, Item_Fat_Content='LF', Item_Visibility=0.076483451, Item_Type='Snack Foods', Item_MRP=163.1236, Outlet_Identifier='OUT027', Outlet_Establishment_Year=1985, Outlet_Size='Medium', Outlet_Location_Type='Tier 3', Outlet_Type='Supermarket Type3', Item_Outlet_Sales=2416.854),\n",
       " Row(Item_Identifier='NCO18', Item_Weight=13.15, Item_Fat_Content='Low Fat', Item_Visibility=0.024701262, Item_Type='Household', Item_MRP=176.8686, Outlet_Identifier='OUT045', Outlet_Establishment_Year=2002, Outlet_Size=None, Outlet_Location_Type='Tier 2', Outlet_Type='Supermarket Type1', Item_Outlet_Sales=2133.2232),\n",
       " Row(Item_Identifier='FDB34', Item_Weight=15.25, Item_Fat_Content='Low Fat', Item_Visibility=0.02671821, Item_Type='Snack Foods', Item_MRP=85.2198, Outlet_Identifier='OUT018', Outlet_Establishment_Year=2009, Outlet_Size='Medium', Outlet_Location_Type='Tier 3', Outlet_Type='Supermarket Type2', Item_Outlet_Sales=1482.7366),\n",
       " Row(Item_Identifier='FDD05', Item_Weight=19.35, Item_Fat_Content='Low Fat', Item_Visibility=0.016597651, Item_Type='Frozen Foods', Item_MRP=121.5098, Outlet_Identifier='OUT013', Outlet_Establishment_Year=1987, Outlet_Size='High', Outlet_Location_Type='Tier 3', Outlet_Type='Supermarket Type1', Item_Outlet_Sales=2892.2352),\n",
       " Row(Item_Identifier='FDX59', Item_Weight=None, Item_Fat_Content='Low Fat', Item_Visibility=0.0514111, Item_Type='Breads', Item_MRP=33.0558, Outlet_Identifier='OUT027', Outlet_Establishment_Year=1985, Outlet_Size='Medium', Outlet_Location_Type='Tier 3', Outlet_Type='Supermarket Type3', Item_Outlet_Sales=984.7182),\n",
       " Row(Item_Identifier='FDZ23', Item_Weight=17.75, Item_Fat_Content='Regular', Item_Visibility=0.112985849, Item_Type='Baking Goods', Item_MRP=185.424, Outlet_Identifier='OUT010', Outlet_Establishment_Year=1998, Outlet_Size=None, Outlet_Location_Type='Tier 3', Outlet_Type='Grocery Store', Item_Outlet_Sales=745.696),\n",
       " Row(Item_Identifier='FDX27', Item_Weight=20.7, Item_Fat_Content='Regular', Item_Visibility=0.11411709, Item_Type='Dairy', Item_MRP=92.7436, Outlet_Identifier='OUT046', Outlet_Establishment_Year=1997, Outlet_Size='Small', Outlet_Location_Type='Tier 1', Outlet_Type='Supermarket Type1', Item_Outlet_Sales=1323.6104),\n",
       " Row(Item_Identifier='FDV07', Item_Weight=9.5, Item_Fat_Content='Low Fat', Item_Visibility=0.0, Item_Type='Fruits and Vegetables', Item_MRP=110.4228, Outlet_Identifier='OUT017', Outlet_Establishment_Year=2007, Outlet_Size=None, Outlet_Location_Type='Tier 2', Outlet_Type='Supermarket Type1', Item_Outlet_Sales=1547.3192),\n",
       " Row(Item_Identifier='FDR14', Item_Weight=11.65, Item_Fat_Content='Low Fat', Item_Visibility=0.175033524, Item_Type='Dairy', Item_MRP=55.5298, Outlet_Identifier='OUT017', Outlet_Establishment_Year=2007, Outlet_Size=None, Outlet_Location_Type='Tier 2', Outlet_Type='Supermarket Type1', Item_Outlet_Sales=647.1576),\n",
       " Row(Item_Identifier='FDO01', Item_Weight=21.1, Item_Fat_Content='Regular', Item_Visibility=0.020760673, Item_Type='Breakfast', Item_MRP=128.7994, Outlet_Identifier='OUT045', Outlet_Establishment_Year=2002, Outlet_Size=None, Outlet_Location_Type='Tier 2', Outlet_Type='Supermarket Type1', Item_Outlet_Sales=1798.9916),\n",
       " Row(Item_Identifier='FDO13', Item_Weight=7.865, Item_Fat_Content='Low Fat', Item_Visibility=0.061405051, Item_Type='Breakfast', Item_MRP=166.3526, Outlet_Identifier='OUT017', Outlet_Establishment_Year=2007, Outlet_Size=None, Outlet_Location_Type='Tier 2', Outlet_Type='Supermarket Type1', Item_Outlet_Sales=1973.4312),\n",
       " Row(Item_Identifier='FDU25', Item_Weight=12.35, Item_Fat_Content='Low Fat', Item_Visibility=0.026676216, Item_Type='Canned', Item_MRP=57.0246, Outlet_Identifier='OUT035', Outlet_Establishment_Year=2004, Outlet_Size='Small', Outlet_Location_Type='Tier 2', Outlet_Type='Supermarket Type1', Item_Outlet_Sales=1737.738),\n",
       " Row(Item_Identifier='NCK54', Item_Weight=None, Item_Fat_Content='Low Fat', Item_Visibility=0.029380407, Item_Type='Household', Item_MRP=114.715, Outlet_Identifier='OUT027', Outlet_Establishment_Year=1985, Outlet_Size='Medium', Outlet_Location_Type='Tier 3', Outlet_Type='Supermarket Type3', Item_Outlet_Sales=1864.24),\n",
       " Row(Item_Identifier='FDZ56', Item_Weight=16.25, Item_Fat_Content='Low Fat', Item_Visibility=0.025715562, Item_Type='Fruits and Vegetables', Item_MRP=168.1474, Outlet_Identifier='OUT013', Outlet_Establishment_Year=1987, Outlet_Size='High', Outlet_Location_Type='Tier 3', Outlet_Type='Supermarket Type1', Item_Outlet_Sales=1516.0266),\n",
       " Row(Item_Identifier='NCL55', Item_Weight=12.15, Item_Fat_Content='Low Fat', Item_Visibility=0.065026434, Item_Type='Others', Item_MRP=253.704, Outlet_Identifier='OUT017', Outlet_Establishment_Year=2007, Outlet_Size=None, Outlet_Location_Type='Tier 2', Outlet_Type='Supermarket Type1', Item_Outlet_Sales=5060.08),\n",
       " Row(Item_Identifier='FDD59', Item_Weight=10.5, Item_Fat_Content='Regular', Item_Visibility=0.066315023, Item_Type='Starchy Foods', Item_MRP=78.296, Outlet_Identifier='OUT045', Outlet_Establishment_Year=2002, Outlet_Size=None, Outlet_Location_Type='Tier 2', Outlet_Type='Supermarket Type1', Item_Outlet_Sales=2157.192),\n",
       " Row(Item_Identifier='FDJ55', Item_Weight=12.8, Item_Fat_Content='Regular', Item_Visibility=0.023664054, Item_Type='Meat', Item_MRP=226.0404, Outlet_Identifier='OUT017', Outlet_Establishment_Year=2007, Outlet_Size=None, Outlet_Location_Type='Tier 2', Outlet_Type='Supermarket Type1', Item_Outlet_Sales=5400.9696),\n",
       " Row(Item_Identifier='FDA45', Item_Weight=None, Item_Fat_Content='Low Fat', Item_Visibility=0.154627247, Item_Type='Snack Foods', Item_MRP=177.637, Outlet_Identifier='OUT027', Outlet_Establishment_Year=1985, Outlet_Size='Medium', Outlet_Location_Type='Tier 3', Outlet_Type='Supermarket Type3', Item_Outlet_Sales=5469.547),\n",
       " Row(Item_Identifier='DRF23', Item_Weight=4.61, Item_Fat_Content='Low Fat', Item_Visibility=0.205294827, Item_Type='Hard Drinks', Item_MRP=172.8396, Outlet_Identifier='OUT010', Outlet_Establishment_Year=1998, Outlet_Size=None, Outlet_Location_Type='Tier 3', Outlet_Type='Grocery Store', Item_Outlet_Sales=174.4396),\n",
       " Row(Item_Identifier='FDT49', Item_Weight=7.0, Item_Fat_Content='Low Fat', Item_Visibility=0.152261999, Item_Type='Canned', Item_MRP=105.728, Outlet_Identifier='OUT017', Outlet_Establishment_Year=2007, Outlet_Size=None, Outlet_Location_Type='Tier 2', Outlet_Type='Supermarket Type1', Item_Outlet_Sales=1278.336),\n",
       " Row(Item_Identifier='NCO17', Item_Weight=10.0, Item_Fat_Content='Low Fat', Item_Visibility=0.0, Item_Type='Health and Hygiene', Item_MRP=120.644, Outlet_Identifier='OUT035', Outlet_Establishment_Year=2004, Outlet_Size='Small', Outlet_Location_Type='Tier 2', Outlet_Type='Supermarket Type1', Item_Outlet_Sales=1917.504),\n",
       " Row(Item_Identifier='FDH22', Item_Weight=6.405, Item_Fat_Content='Low Fat', Item_Visibility=0.136275173, Item_Type='Snack Foods', Item_MRP=128.1678, Outlet_Identifier='OUT035', Outlet_Establishment_Year=2004, Outlet_Size='Small', Outlet_Location_Type='Tier 2', Outlet_Type='Supermarket Type1', Item_Outlet_Sales=1017.3424),\n",
       " Row(Item_Identifier='FDT34', Item_Weight=9.3, Item_Fat_Content='Low Fat', Item_Visibility=0.174621343, Item_Type='Snack Foods', Item_MRP=104.2964, Outlet_Identifier='OUT049', Outlet_Establishment_Year=1999, Outlet_Size='Medium', Outlet_Location_Type='Tier 1', Outlet_Type='Supermarket Type1', Item_Outlet_Sales=1998.7316),\n",
       " Row(Item_Identifier='FDB39', Item_Weight=11.6, Item_Fat_Content='Low Fat', Item_Visibility=0.038597077, Item_Type='Dairy', Item_MRP=57.9272, Outlet_Identifier='OUT045', Outlet_Establishment_Year=2002, Outlet_Size=None, Outlet_Location_Type='Tier 2', Outlet_Type='Supermarket Type1', Item_Outlet_Sales=615.1992),\n",
       " Row(Item_Identifier='FDQ22', Item_Weight=16.75, Item_Fat_Content='Low Fat', Item_Visibility=0.029799965, Item_Type='Snack Foods', Item_MRP=39.1822, Outlet_Identifier='OUT045', Outlet_Establishment_Year=2002, Outlet_Size=None, Outlet_Location_Type='Tier 2', Outlet_Type='Supermarket Type1', Item_Outlet_Sales=314.2576),\n",
       " Row(Item_Identifier='NCN43', Item_Weight=12.15, Item_Fat_Content='Low Fat', Item_Visibility=0.011314423, Item_Type='Others', Item_MRP=122.973, Outlet_Identifier='OUT010', Outlet_Establishment_Year=1998, Outlet_Size=None, Outlet_Location_Type='Tier 3', Outlet_Type='Grocery Store', Item_Outlet_Sales=123.173),\n",
       " Row(Item_Identifier='FDG57', Item_Weight=14.7, Item_Fat_Content='Low Fat', Item_Visibility=0.072410764, Item_Type='Fruits and Vegetables', Item_MRP=48.2034, Outlet_Identifier='OUT049', Outlet_Establishment_Year=1999, Outlet_Size='Medium', Outlet_Location_Type='Tier 1', Outlet_Type='Supermarket Type1', Item_Outlet_Sales=1020.6714),\n",
       " Row(Item_Identifier='FDR20', Item_Weight=20.0, Item_Fat_Content='Regular', Item_Visibility=0.028118435, Item_Type='Fruits and Vegetables', Item_MRP=46.7744, Outlet_Identifier='OUT035', Outlet_Establishment_Year=2004, Outlet_Size='Small', Outlet_Location_Type='Tier 2', Outlet_Type='Supermarket Type1', Item_Outlet_Sales=1222.4088),\n",
       " Row(Item_Identifier='FDU22', Item_Weight=None, Item_Fat_Content='Low Fat', Item_Visibility=0.163350221, Item_Type='Snack Foods', Item_MRP=120.2124, Outlet_Identifier='OUT019', Outlet_Establishment_Year=1985, Outlet_Size='Small', Outlet_Location_Type='Tier 1', Outlet_Type='Grocery Store', Item_Outlet_Sales=474.0496),\n",
       " Row(Item_Identifier='NCC43', Item_Weight=7.39, Item_Fat_Content='Low Fat', Item_Visibility=0.093307713, Item_Type='Household', Item_MRP=250.9066, Outlet_Identifier='OUT017', Outlet_Establishment_Year=2007, Outlet_Size=None, Outlet_Location_Type='Tier 2', Outlet_Type='Supermarket Type1', Item_Outlet_Sales=1506.0396),\n",
       " Row(Item_Identifier='FDP01', Item_Weight=20.75, Item_Fat_Content='Regular', Item_Visibility=0.105994654, Item_Type='Breakfast', Item_MRP=150.5682, Outlet_Identifier='OUT010', Outlet_Establishment_Year=1998, Outlet_Size=None, Outlet_Location_Type='Tier 3', Outlet_Type='Grocery Store', Item_Outlet_Sales=762.341),\n",
       " Row(Item_Identifier='FDF52', Item_Weight=9.3, Item_Fat_Content='Low Fat', Item_Visibility=0.067055339, Item_Type='Frozen Foods', Item_MRP=184.2292, Outlet_Identifier='OUT018', Outlet_Establishment_Year=2009, Outlet_Size='Medium', Outlet_Location_Type='Tier 3', Outlet_Type='Supermarket Type2', Item_Outlet_Sales=1277.0044),\n",
       " Row(Item_Identifier='FDZ33', Item_Weight=10.195, Item_Fat_Content='Low Fat', Item_Visibility=0.107376743, Item_Type='Snack Foods', Item_MRP=147.6076, Outlet_Identifier='OUT035', Outlet_Establishment_Year=2004, Outlet_Size='Small', Outlet_Location_Type='Tier 2', Outlet_Type='Supermarket Type1', Item_Outlet_Sales=3547.3824),\n",
       " Row(Item_Identifier='FDP48', Item_Weight=None, Item_Fat_Content='Regular', Item_Visibility=0.043810028, Item_Type='Baking Goods', Item_MRP=181.395, Outlet_Identifier='OUT027', Outlet_Establishment_Year=1985, Outlet_Size='Medium', Outlet_Location_Type='Tier 3', Outlet_Type='Supermarket Type3', Item_Outlet_Sales=6042.135),\n",
       " Row(Item_Identifier='FDW56', Item_Weight=7.68, Item_Fat_Content='Low Fat', Item_Visibility=0.118672537, Item_Type='Fruits and Vegetables', Item_MRP=192.2162, Outlet_Identifier='OUT010', Outlet_Establishment_Year=1998, Outlet_Size=None, Outlet_Location_Type='Tier 3', Outlet_Type='Grocery Store', Item_Outlet_Sales=384.8324),\n",
       " Row(Item_Identifier='FDC26', Item_Weight=10.195, Item_Fat_Content='Low Fat', Item_Visibility=0.126897925, Item_Type='Canned', Item_MRP=110.6886, Outlet_Identifier='OUT018', Outlet_Establishment_Year=2009, Outlet_Size='Medium', Outlet_Location_Type='Tier 3', Outlet_Type='Supermarket Type2', Item_Outlet_Sales=1223.0746),\n",
       " Row(Item_Identifier='FDF34', Item_Weight=9.3, Item_Fat_Content='Regular', Item_Visibility=0.014076503, Item_Type='Snack Foods', Item_MRP=200.0084, Outlet_Identifier='OUT018', Outlet_Establishment_Year=2009, Outlet_Size='Medium', Outlet_Location_Type='Tier 3', Outlet_Type='Supermarket Type2', Item_Outlet_Sales=2182.4924),\n",
       " Row(Item_Identifier='FDJ33', Item_Weight=8.895, Item_Fat_Content='Regular', Item_Visibility=0.088305478, Item_Type='Snack Foods', Item_MRP=123.473, Outlet_Identifier='OUT035', Outlet_Establishment_Year=2004, Outlet_Size='Small', Outlet_Location_Type='Tier 2', Outlet_Type='Supermarket Type1', Item_Outlet_Sales=1478.076),\n",
       " Row(Item_Identifier='FDD04', Item_Weight=16.0, Item_Fat_Content='Low Fat', Item_Visibility=0.090153756, Item_Type='Dairy', Item_MRP=143.2154, Outlet_Identifier='OUT045', Outlet_Establishment_Year=2002, Outlet_Size=None, Outlet_Location_Type='Tier 2', Outlet_Type='Supermarket Type1', Item_Outlet_Sales=1418.154),\n",
       " Row(Item_Identifier='NCJ31', Item_Weight=19.2, Item_Fat_Content='Low Fat', Item_Visibility=0.182501773, Item_Type='Others', Item_MRP=239.2196, Outlet_Identifier='OUT013', Outlet_Establishment_Year=1987, Outlet_Size='High', Outlet_Location_Type='Tier 3', Outlet_Type='Supermarket Type1', Item_Outlet_Sales=5061.4116),\n",
       " Row(Item_Identifier='FDO57', Item_Weight=20.75, Item_Fat_Content='Low Fat', Item_Visibility=0.108710162, Item_Type='Snack Foods', Item_MRP=161.7578, Outlet_Identifier='OUT046', Outlet_Establishment_Year=1997, Outlet_Size='Small', Outlet_Location_Type='Tier 1', Outlet_Type='Supermarket Type1', Item_Outlet_Sales=2888.2404),\n",
       " Row(Item_Identifier='FDM36', Item_Weight=None, Item_Fat_Content='Regular', Item_Visibility=0.058446424, Item_Type='Baking Goods', Item_MRP=172.1422, Outlet_Identifier='OUT027', Outlet_Establishment_Year=1985, Outlet_Size='Medium', Outlet_Location_Type='Tier 3', Outlet_Type='Supermarket Type3', Item_Outlet_Sales=5518.1504),\n",
       " Row(Item_Identifier='NCY05', Item_Weight=13.5, Item_Fat_Content='Low Fat', Item_Visibility=0.054990009, Item_Type='Health and Hygiene', Item_MRP=35.2874, Outlet_Identifier='OUT046', Outlet_Establishment_Year=1997, Outlet_Size='Small', Outlet_Location_Type='Tier 1', Outlet_Type='Supermarket Type1', Item_Outlet_Sales=741.0354),\n",
       " Row(Item_Identifier='FDS44', Item_Weight=None, Item_Fat_Content='Regular', Item_Visibility=0.15528831, Item_Type='Fruits and Vegetables', Item_MRP=241.7538, Outlet_Identifier='OUT027', Outlet_Establishment_Year=1985, Outlet_Size='Medium', Outlet_Location_Type='Tier 3', Outlet_Type='Supermarket Type3', Item_Outlet_Sales=9133.4444),\n",
       " Row(Item_Identifier='FDZ39', Item_Weight=19.7, Item_Fat_Content='Regular', Item_Visibility=0.018021361, Item_Type='Meat', Item_MRP=101.199, Outlet_Identifier='OUT035', Outlet_Establishment_Year=2004, Outlet_Size='Small', Outlet_Location_Type='Tier 2', Outlet_Type='Supermarket Type1', Item_Outlet_Sales=1857.582),\n",
       " Row(Item_Identifier='NCM31', Item_Weight=6.095, Item_Fat_Content='Low Fat', Item_Visibility=0.0816559, Item_Type='Others', Item_MRP=143.3154, Outlet_Identifier='OUT017', Outlet_Establishment_Year=2007, Outlet_Size=None, Outlet_Location_Type='Tier 2', Outlet_Type='Supermarket Type1', Item_Outlet_Sales=2836.308),\n",
       " Row(Item_Identifier='DRK11', Item_Weight=8.21, Item_Fat_Content='Low Fat', Item_Visibility=0.010755465, Item_Type='Hard Drinks', Item_MRP=150.8392, Outlet_Identifier='OUT013', Outlet_Establishment_Year=1987, Outlet_Size='High', Outlet_Location_Type='Tier 3', Outlet_Type='Supermarket Type1', Item_Outlet_Sales=2982.784),\n",
       " Row(Item_Identifier='FDO34', Item_Weight=17.7, Item_Fat_Content='Low Fat', Item_Visibility=0.050111641, Item_Type='Snack Foods', Item_MRP=165.9816, Outlet_Identifier='OUT010', Outlet_Establishment_Year=1998, Outlet_Size=None, Outlet_Location_Type='Tier 3', Outlet_Type='Grocery Store', Item_Outlet_Sales=167.7816),\n",
       " Row(Item_Identifier='NCL30', Item_Weight=18.1, Item_Fat_Content='Low Fat', Item_Visibility=0.048931174, Item_Type='Household', Item_MRP=127.3336, Outlet_Identifier='OUT035', Outlet_Establishment_Year=2004, Outlet_Size='Small', Outlet_Location_Type='Tier 2', Outlet_Type='Supermarket Type1', Item_Outlet_Sales=1150.5024),\n",
       " Row(Item_Identifier='FDK28', Item_Weight=5.695, Item_Fat_Content='Low Fat', Item_Visibility=0.065960909, Item_Type='Frozen Foods', Item_MRP=259.2646, Outlet_Identifier='OUT017', Outlet_Establishment_Year=2007, Outlet_Size=None, Outlet_Location_Type='Tier 2', Outlet_Type='Supermarket Type1', Item_Outlet_Sales=9275.9256),\n",
       " Row(Item_Identifier='DRJ39', Item_Weight=20.25, Item_Fat_Content='Low Fat', Item_Visibility=0.036319195, Item_Type='Dairy', Item_MRP=219.3482, Outlet_Identifier='OUT035', Outlet_Establishment_Year=2004, Outlet_Size='Small', Outlet_Location_Type='Tier 2', Outlet_Type='Supermarket Type1', Item_Outlet_Sales=5038.1086),\n",
       " Row(Item_Identifier='NCP06', Item_Weight=None, Item_Fat_Content='Low Fat', Item_Visibility=0.039055756, Item_Type='Household', Item_MRP=152.3366, Outlet_Identifier='OUT027', Outlet_Establishment_Year=1985, Outlet_Size='Medium', Outlet_Location_Type='Tier 3', Outlet_Type='Supermarket Type3', Item_Outlet_Sales=2115.9124),\n",
       " ...]"
      ]
     },
     "execution_count": 146,
     "metadata": {},
     "output_type": "execute_result"
    }
   ],
   "source": [
    "df.collect()"
   ]
  },
  {
   "cell_type": "code",
   "execution_count": 147,
   "id": "9187c467-cc80-4c19-b936-1eba4519bb17",
   "metadata": {},
   "outputs": [
    {
     "data": {
      "text/plain": [
       "[Row(Item_Identifier='FDA15', Item_Weight=9.3, Item_Fat_Content='Low Fat', Item_Visibility=0.016047301, Item_Type='Dairy', Item_MRP=249.8092, Outlet_Identifier='OUT049', Outlet_Establishment_Year=1999, Outlet_Size='Medium', Outlet_Location_Type='Tier 1', Outlet_Type='Supermarket Type1', Item_Outlet_Sales=3735.138),\n",
       " Row(Item_Identifier='DRC01', Item_Weight=5.92, Item_Fat_Content='Regular', Item_Visibility=0.019278216, Item_Type='Soft Drinks', Item_MRP=48.2692, Outlet_Identifier='OUT018', Outlet_Establishment_Year=2009, Outlet_Size='Medium', Outlet_Location_Type='Tier 3', Outlet_Type='Supermarket Type2', Item_Outlet_Sales=443.4228),\n",
       " Row(Item_Identifier='FDN15', Item_Weight=17.5, Item_Fat_Content='Low Fat', Item_Visibility=0.016760075, Item_Type='Meat', Item_MRP=141.618, Outlet_Identifier='OUT049', Outlet_Establishment_Year=1999, Outlet_Size='Medium', Outlet_Location_Type='Tier 1', Outlet_Type='Supermarket Type1', Item_Outlet_Sales=2097.27),\n",
       " Row(Item_Identifier='FDX07', Item_Weight=19.2, Item_Fat_Content='Regular', Item_Visibility=0.0, Item_Type='Fruits and Vegetables', Item_MRP=182.095, Outlet_Identifier='OUT010', Outlet_Establishment_Year=1998, Outlet_Size=None, Outlet_Location_Type='Tier 3', Outlet_Type='Grocery Store', Item_Outlet_Sales=732.38)]"
      ]
     },
     "execution_count": 147,
     "metadata": {},
     "output_type": "execute_result"
    }
   ],
   "source": [
    "df.take(4)"
   ]
  },
  {
   "cell_type": "code",
   "execution_count": 148,
   "id": "fcbd8855-2739-4841-8295-c7a3056ee8e0",
   "metadata": {},
   "outputs": [
    {
     "data": {
      "text/plain": [
       "8523"
      ]
     },
     "execution_count": 148,
     "metadata": {},
     "output_type": "execute_result"
    }
   ],
   "source": [
    "df.count()"
   ]
  },
  {
   "cell_type": "code",
   "execution_count": 149,
   "id": "59db4ee5-8c67-4934-af02-7ccb5035d92b",
   "metadata": {},
   "outputs": [
    {
     "name": "stdout",
     "output_type": "stream",
     "text": [
      "+---------------+-----------+----------------+---------------+-----------+--------+-----------------+-------------------------+-----------+--------------------+-----------------+-----------------+\n",
      "|Item_Identifier|Item_Weight|Item_Fat_Content|Item_Visibility|  Item_Type|Item_MRP|Outlet_Identifier|Outlet_Establishment_Year|Outlet_Size|Outlet_Location_Type|      Outlet_Type|Item_Outlet_Sales|\n",
      "+---------------+-----------+----------------+---------------+-----------+--------+-----------------+-------------------------+-----------+--------------------+-----------------+-----------------+\n",
      "|          FDA15|        9.3|         Low Fat|    0.016047301|      Dairy|249.8092|           OUT049|                     1999|     Medium|              Tier 1|Supermarket Type1|         3735.138|\n",
      "|          DRC01|       5.92|         Regular|    0.019278216|Soft Drinks| 48.2692|           OUT018|                     2009|     Medium|              Tier 3|Supermarket Type2|         443.4228|\n",
      "+---------------+-----------+----------------+---------------+-----------+--------+-----------------+-------------------------+-----------+--------------------+-----------------+-----------------+\n",
      "only showing top 2 rows\n",
      "\n"
     ]
    }
   ],
   "source": [
    "df.show(2)"
   ]
  },
  {
   "cell_type": "code",
   "execution_count": 92,
   "id": "7f8727d0-af59-4879-9219-275369a30fbd",
   "metadata": {},
   "outputs": [
    {
     "name": "stdout",
     "output_type": "stream",
     "text": [
      "+-----------+\n",
      "|Outlet_Size|\n",
      "+-----------+\n",
      "|     Medium|\n",
      "|     Medium|\n",
      "|     Medium|\n",
      "+-----------+\n",
      "only showing top 3 rows\n",
      "\n"
     ]
    }
   ],
   "source": [
    "df.select(\"Outlet_Size\").show(3)"
   ]
  },
  {
   "cell_type": "code",
   "execution_count": 93,
   "id": "1a4d150e-0078-4f94-b770-bd4a346508b5",
   "metadata": {},
   "outputs": [
    {
     "name": "stdout",
     "output_type": "stream",
     "text": [
      "+-----------+--------------------+\n",
      "|Outlet_Size|Outlet_Location_Type|\n",
      "+-----------+--------------------+\n",
      "|     Medium|              Tier 1|\n",
      "|     Medium|              Tier 3|\n",
      "|     Medium|              Tier 1|\n",
      "+-----------+--------------------+\n",
      "only showing top 3 rows\n",
      "\n"
     ]
    }
   ],
   "source": [
    "df.select('Outlet_Size','Outlet_Location_Type').show(3)"
   ]
  },
  {
   "cell_type": "code",
   "execution_count": 94,
   "id": "4e05dbf8-f38e-4678-9e62-095d98f68f95",
   "metadata": {},
   "outputs": [
    {
     "name": "stdout",
     "output_type": "stream",
     "text": [
      "+---------------+-----------+----------------+---------------+--------------------+--------+-----------------+-------------------------+-----------+--------------------+-----------------+-----------------+\n",
      "|Item_Identifier|Item_Weight|Item_Fat_Content|Item_Visibility|           Item_Type|Item_MRP|Outlet_Identifier|Outlet_Establishment_Year|Outlet_Size|Outlet_Location_Type|      Outlet_Type|Item_Outlet_Sales|\n",
      "+---------------+-----------+----------------+---------------+--------------------+--------+-----------------+-------------------------+-----------+--------------------+-----------------+-----------------+\n",
      "|          FDA15|        9.3|         Low Fat|    0.016047301|               Dairy|249.8092|           OUT049|                     1999|     Medium|              Tier 1|Supermarket Type1|         3735.138|\n",
      "|          DRC01|       5.92|         Regular|    0.019278216|         Soft Drinks| 48.2692|           OUT018|                     2009|     Medium|              Tier 3|Supermarket Type2|         443.4228|\n",
      "|          FDN15|       17.5|         Low Fat|    0.016760075|                Meat| 141.618|           OUT049|                     1999|     Medium|              Tier 1|Supermarket Type1|          2097.27|\n",
      "|          FDX07|       19.2|         Regular|            0.0|Fruits and Vegeta...| 182.095|           OUT010|                     1998|       NULL|              Tier 3|    Grocery Store|           732.38|\n",
      "|          NCD19|       8.93|         Low Fat|            0.0|           Household| 53.8614|           OUT013|                     1987|       High|              Tier 3|Supermarket Type1|         994.7052|\n",
      "+---------------+-----------+----------------+---------------+--------------------+--------+-----------------+-------------------------+-----------+--------------------+-----------------+-----------------+\n",
      "only showing top 5 rows\n",
      "\n"
     ]
    }
   ],
   "source": [
    "df.filter(df[\"Item_Outlet_Sales\"]>100).show(5)"
   ]
  },
  {
   "cell_type": "code",
   "execution_count": 95,
   "id": "a1d4dfc7-97e5-4b15-a8ea-6e5a5ec2cfe8",
   "metadata": {},
   "outputs": [
    {
     "name": "stdout",
     "output_type": "stream",
     "text": [
      "+-----------------+\n",
      "|Item_Outlet_Sales|\n",
      "+-----------------+\n",
      "|         3735.138|\n",
      "|         443.4228|\n",
      "|          2097.27|\n",
      "|           732.38|\n",
      "|         994.7052|\n",
      "+-----------------+\n",
      "only showing top 5 rows\n",
      "\n"
     ]
    }
   ],
   "source": [
    "df.select('Item_Outlet_Sales').filter(df['Item_Outlet_Sales']>50).show(5)"
   ]
  },
  {
   "cell_type": "code",
   "execution_count": 96,
   "id": "1b2420eb-9919-4b0a-8b4c-368c312d0770",
   "metadata": {},
   "outputs": [
    {
     "name": "stdout",
     "output_type": "stream",
     "text": [
      "+---------------+-----------+----------------+---------------+--------------------+--------+-----------------+-------------------------+-----------+--------------------+-----------------+-----------------+\n",
      "|Item_Identifier|Item_Weight|Item_Fat_Content|Item_Visibility|           Item_Type|Item_MRP|Outlet_Identifier|Outlet_Establishment_Year|Outlet_Size|Outlet_Location_Type|      Outlet_Type|Item_Outlet_Sales|\n",
      "+---------------+-----------+----------------+---------------+--------------------+--------+-----------------+-------------------------+-----------+--------------------+-----------------+-----------------+\n",
      "|          FDA15|        9.3|         Low Fat|    0.016047301|               Dairy|249.8092|           OUT049|                     1999|     Medium|              Tier 1|Supermarket Type1|         3735.138|\n",
      "|          FDN15|       17.5|         Low Fat|    0.016760075|                Meat| 141.618|           OUT049|                     1999|     Medium|              Tier 1|Supermarket Type1|          2097.27|\n",
      "|          FDX07|       19.2|         Regular|            0.0|Fruits and Vegeta...| 182.095|           OUT010|                     1998|       NULL|              Tier 3|    Grocery Store|           732.38|\n",
      "|          FDP36|     10.395|         Regular|            0.0|        Baking Goods| 51.4008|           OUT018|                     2009|     Medium|              Tier 3|Supermarket Type2|         556.6088|\n",
      "|          FDO10|      13.65|         Regular|    0.012741089|         Snack Foods| 57.6588|           OUT013|                     1987|       High|              Tier 3|Supermarket Type1|         343.5528|\n",
      "+---------------+-----------+----------------+---------------+--------------------+--------+-----------------+-------------------------+-----------+--------------------+-----------------+-----------------+\n",
      "only showing top 5 rows\n",
      "\n"
     ]
    }
   ],
   "source": [
    "df.filter(\"Item_Identifier like 'F%'\").show(5)"
   ]
  },
  {
   "cell_type": "code",
   "execution_count": 97,
   "id": "da2e567d-ef66-4349-9577-236f8e9f06f4",
   "metadata": {},
   "outputs": [
    {
     "name": "stdout",
     "output_type": "stream",
     "text": [
      "+---------------+-----------+----------------+---------------+--------------------+--------+-----------------+-------------------------+-----------+--------------------+-----------------+-----------------+\n",
      "|Item_Identifier|Item_Weight|Item_Fat_Content|Item_Visibility|           Item_Type|Item_MRP|Outlet_Identifier|Outlet_Establishment_Year|Outlet_Size|Outlet_Location_Type|      Outlet_Type|Item_Outlet_Sales|\n",
      "+---------------+-----------+----------------+---------------+--------------------+--------+-----------------+-------------------------+-----------+--------------------+-----------------+-----------------+\n",
      "|          NCD19|       8.93|         Low Fat|            0.0|           Household| 53.8614|           OUT013|                     1987|       High|              Tier 3|Supermarket Type1|         994.7052|\n",
      "|          FDV51|      16.35|         Low Fat|    0.032511818|                Meat|165.0842|           OUT013|                     1987|       High|              Tier 3|Supermarket Type1|         994.7052|\n",
      "|          FDE09|      8.775|         Low Fat|    0.021647195|Fruits and Vegeta...|109.5228|           OUT045|                     2002|       NULL|              Tier 2|Supermarket Type1|         994.7052|\n",
      "+---------------+-----------+----------------+---------------+--------------------+--------+-----------------+-------------------------+-----------+--------------------+-----------------+-----------------+\n",
      "\n"
     ]
    }
   ],
   "source": [
    "df.filter(df[\"Item_Outlet_Sales\"]=='994.7052').show(5)"
   ]
  },
  {
   "cell_type": "code",
   "execution_count": 98,
   "id": "5d79ef43-1d4b-46a0-9704-0be074acbfea",
   "metadata": {},
   "outputs": [
    {
     "name": "stdout",
     "output_type": "stream",
     "text": [
      "+-----------------+--------+\n",
      "|Item_Outlet_Sales|Item_MRP|\n",
      "+-----------------+--------+\n",
      "|           898.83|   31.29|\n",
      "|           466.06|   31.49|\n",
      "|           366.19|   31.89|\n",
      "|         984.7182| 31.9558|\n",
      "|         373.5138| 31.9558|\n",
      "+-----------------+--------+\n",
      "only showing top 5 rows\n",
      "\n"
     ]
    }
   ],
   "source": [
    "df.select('Item_Outlet_Sales','Item_MRP').sort(\"Item_MRP\").show(5)"
   ]
  },
  {
   "cell_type": "code",
   "execution_count": 99,
   "id": "a834007d-df8b-4c1f-8ad8-7256bc35e7c0",
   "metadata": {},
   "outputs": [
    {
     "name": "stdout",
     "output_type": "stream",
     "text": [
      "+---------------+-----------+----------------+---------------+------------+--------+-----------------+-------------------------+-----------+--------------------+-----------------+-----------------+\n",
      "|Item_Identifier|Item_Weight|Item_Fat_Content|Item_Visibility|   Item_Type|Item_MRP|Outlet_Identifier|Outlet_Establishment_Year|Outlet_Size|Outlet_Location_Type|      Outlet_Type|Item_Outlet_Sales|\n",
      "+---------------+-----------+----------------+---------------+------------+--------+-----------------+-------------------------+-----------+--------------------+-----------------+-----------------+\n",
      "|          DRK12|       NULL|         Low Fat|    0.041683481| Soft Drinks|   31.29|           OUT027|                     1985|     Medium|              Tier 3|Supermarket Type3|           898.83|\n",
      "|          DRK12|        9.5|         Low Fat|    0.041851461| Soft Drinks|   31.49|           OUT013|                     1987|       High|              Tier 3|Supermarket Type1|           466.06|\n",
      "|          DRK12|        9.5|         Low Fat|    0.042056944| Soft Drinks|   31.89|           OUT018|                     2009|     Medium|              Tier 3|Supermarket Type2|           366.19|\n",
      "|          FDG40|       NULL|         Low Fat|    0.039631495|Frozen Foods| 31.9558|           OUT027|                     1985|     Medium|              Tier 3|Supermarket Type3|         984.7182|\n",
      "|          FDX59|     10.195|         Low Fat|    0.051618281|      Breads| 31.9558|           OUT013|                     1987|       High|              Tier 3|Supermarket Type1|         373.5138|\n",
      "+---------------+-----------+----------------+---------------+------------+--------+-----------------+-------------------------+-----------+--------------------+-----------------+-----------------+\n",
      "only showing top 5 rows\n",
      "\n"
     ]
    }
   ],
   "source": [
    "df.sort(\"Item_MRP\").show(5)"
   ]
  },
  {
   "cell_type": "code",
   "execution_count": 100,
   "id": "8f51bd65-965d-41ee-88e9-0f6f3cef509c",
   "metadata": {},
   "outputs": [
    {
     "name": "stdout",
     "output_type": "stream",
     "text": [
      "+---------------+-----------+----------------+---------------+--------------------+--------+-----------------+-------------------------+-----------+--------------------+-----------------+-----------------+\n",
      "|Item_Identifier|Item_Weight|Item_Fat_Content|Item_Visibility|           Item_Type|Item_MRP|Outlet_Identifier|Outlet_Establishment_Year|Outlet_Size|Outlet_Location_Type|      Outlet_Type|Item_Outlet_Sales|\n",
      "+---------------+-----------+----------------+---------------+--------------------+--------+-----------------+-------------------------+-----------+--------------------+-----------------+-----------------+\n",
      "|          FDA15|        9.3|         Low Fat|    0.016047301|               Dairy|249.8092|           OUT049|                     1999|     Medium|              Tier 1|Supermarket Type1|         3735.138|\n",
      "|          DRC01|       5.92|         Regular|    0.019278216|         Soft Drinks| 48.2692|           OUT018|                     2009|     Medium|              Tier 3|Supermarket Type2|         443.4228|\n",
      "|          FDN15|       17.5|         Low Fat|    0.016760075|                Meat| 141.618|           OUT049|                     1999|     Medium|              Tier 1|Supermarket Type1|          2097.27|\n",
      "|          FDX07|       19.2|         Regular|            0.0|Fruits and Vegeta...| 182.095|           OUT010|                     1998|       NULL|              Tier 3|    Grocery Store|           732.38|\n",
      "|          NCD19|       8.93|         Low Fat|            0.0|           Household| 53.8614|           OUT013|                     1987|       High|              Tier 3|Supermarket Type1|         994.7052|\n",
      "+---------------+-----------+----------------+---------------+--------------------+--------+-----------------+-------------------------+-----------+--------------------+-----------------+-----------------+\n",
      "only showing top 5 rows\n",
      "\n"
     ]
    }
   ],
   "source": [
    "df.show(5)"
   ]
  },
  {
   "cell_type": "raw",
   "id": "37d7884d-5c5a-4394-8937-4a25d7ca930e",
   "metadata": {},
   "source": [
    "How to create Temprorary view"
   ]
  },
  {
   "cell_type": "code",
   "execution_count": 101,
   "id": "626b880a-fd7d-4159-a8a8-664026bfa6a8",
   "metadata": {},
   "outputs": [
    {
     "name": "stdout",
     "output_type": "stream",
     "text": [
      "+---------------+-----------+----------------+---------------+---------+--------+-----------------+-------------------------+-----------+--------------------+-----------------+-----------------+\n",
      "|Item_Identifier|Item_Weight|Item_Fat_Content|Item_Visibility|Item_Type|Item_MRP|Outlet_Identifier|Outlet_Establishment_Year|Outlet_Size|Outlet_Location_Type|      Outlet_Type|Item_Outlet_Sales|\n",
      "+---------------+-----------+----------------+---------------+---------+--------+-----------------+-------------------------+-----------+--------------------+-----------------+-----------------+\n",
      "|          FDA15|        9.3|         Low Fat|    0.016047301|    Dairy|249.8092|           OUT049|                     1999|     Medium|              Tier 1|Supermarket Type1|         3735.138|\n",
      "|          FDA03|       18.5|         Regular|    0.045463773|    Dairy|144.1102|           OUT046|                     1997|      Small|              Tier 1|Supermarket Type1|         2187.153|\n",
      "|          FDU02|      13.35|         Low Fat|     0.10249212|    Dairy|230.5352|           OUT035|                     2004|      Small|              Tier 2|Supermarket Type1|        2748.4224|\n",
      "|          FDE51|      5.925|         Regular|    0.161466534|    Dairy| 45.5086|           OUT010|                     1998|       NULL|              Tier 3|    Grocery Store|         178.4344|\n",
      "|          FDV38|      19.25|         Low Fat|    0.170348551|    Dairy| 55.7956|           OUT010|                     1998|       NULL|              Tier 3|    Grocery Store|         163.7868|\n",
      "+---------------+-----------+----------------+---------------+---------+--------+-----------------+-------------------------+-----------+--------------------+-----------------+-----------------+\n",
      "only showing top 5 rows\n",
      "\n"
     ]
    }
   ],
   "source": [
    "df.createOrReplaceTempView(\"sales_view\")\n",
    "result=spark.sql(\"SELECT * from sales_view WHERE Item_Type='Dairy'\")\n",
    "result.show(5)"
   ]
  },
  {
   "cell_type": "raw",
   "id": "71d8385b-d9c3-44ef-a8cc-5bcb948a7ae6",
   "metadata": {},
   "source": [
    "How to create Global temp View"
   ]
  },
  {
   "cell_type": "code",
   "execution_count": 102,
   "id": "ad7c20a0-5757-43d5-89f4-a53af52468b9",
   "metadata": {},
   "outputs": [
    {
     "name": "stdout",
     "output_type": "stream",
     "text": [
      "+---------------+-----------+----------------+---------------+--------------------+--------+-----------------+-------------------------+-----------+--------------------+-----------------+-----------------+\n",
      "|Item_Identifier|Item_Weight|Item_Fat_Content|Item_Visibility|           Item_Type|Item_MRP|Outlet_Identifier|Outlet_Establishment_Year|Outlet_Size|Outlet_Location_Type|      Outlet_Type|Item_Outlet_Sales|\n",
      "+---------------+-----------+----------------+---------------+--------------------+--------+-----------------+-------------------------+-----------+--------------------+-----------------+-----------------+\n",
      "|          FDA15|        9.3|         Low Fat|    0.016047301|               Dairy|249.8092|           OUT049|                     1999|     Medium|              Tier 1|Supermarket Type1|         3735.138|\n",
      "|          DRC01|       5.92|         Regular|    0.019278216|         Soft Drinks| 48.2692|           OUT018|                     2009|     Medium|              Tier 3|Supermarket Type2|         443.4228|\n",
      "|          FDN15|       17.5|         Low Fat|    0.016760075|                Meat| 141.618|           OUT049|                     1999|     Medium|              Tier 1|Supermarket Type1|          2097.27|\n",
      "|          FDX07|       19.2|         Regular|            0.0|Fruits and Vegeta...| 182.095|           OUT010|                     1998|       NULL|              Tier 3|    Grocery Store|           732.38|\n",
      "|          NCD19|       8.93|         Low Fat|            0.0|           Household| 53.8614|           OUT013|                     1987|       High|              Tier 3|Supermarket Type1|         994.7052|\n",
      "+---------------+-----------+----------------+---------------+--------------------+--------+-----------------+-------------------------+-----------+--------------------+-----------------+-----------------+\n",
      "only showing top 5 rows\n",
      "\n"
     ]
    }
   ],
   "source": [
    "df.createGlobalTempView(\"sales_view3\")\n",
    "result1=spark.sql(\"SELECT * from global_temp.sales_view3\")\n",
    "result1.show(5)"
   ]
  },
  {
   "cell_type": "code",
   "execution_count": 103,
   "id": "0592b864-4808-41b4-8f12-b3cd0c229290",
   "metadata": {},
   "outputs": [
    {
     "name": "stdout",
     "output_type": "stream",
     "text": [
      "+----------------+\n",
      "|count(Item_Type)|\n",
      "+----------------+\n",
      "|            8523|\n",
      "+----------------+\n",
      "\n"
     ]
    }
   ],
   "source": [
    "spark.sql(\"SELECT count(Item_Type) from sales_view\").show()"
   ]
  },
  {
   "cell_type": "raw",
   "id": "ef4d2482-12a4-4ce2-b97c-facb9fa27bbb",
   "metadata": {},
   "source": [
    "                                                        withColumnname and replace column operations"
   ]
  },
  {
   "cell_type": "code",
   "execution_count": 104,
   "id": "715fe1f3-4089-4ded-a4f6-76b5f0e2a91f",
   "metadata": {},
   "outputs": [
    {
     "name": "stdout",
     "output_type": "stream",
     "text": [
      "+----------+------------+---------------+-----+-----+-----+-------+--------+------+-----------+-----------------------+----------+-------------------+-------------------+\n",
      "|Product ID|Product Name|       Category|Price|Stock|Sales|  Brand|Discount|Rating|Launch Date|Warranty Period (Years)|  Supplier|Product Description|Manufacture Country|\n",
      "+----------+------------+---------------+-----+-----+-----+-------+--------+------+-----------+-----------------------+----------+-------------------+-------------------+\n",
      "|       101|     Monitor|    Accessories| 1156|  482|   29|Brand C|    0.21|  NULL| 2020-07-20|                    2.0|      NULL|      Best in class|              India|\n",
      "|       102|  Headphones|       Clothing|  289|  305|   45|Brand E|    0.06|   3.0| 2022-01-16|                    1.0|Supplier B|      Best in class|              China|\n",
      "|       103|     Charger|Home Appliances| 4942|  197|  106|Brand E|    0.07|  NULL| 2024-11-11|                    2.0|Supplier C|        Top selling|              China|\n",
      "|       104|      Laptop|       Clothing| 1359|  328|  259|Brand E|    0.13|  NULL| 2022-12-18|                   NULL|      NULL|   Affordable price|              India|\n",
      "|       105|      Camera|    Electronics| 4382|  204|  166|Brand E|    0.34|  NULL| 2024-08-26|                    3.0|Supplier B|      Best in class|              China|\n",
      "+----------+------------+---------------+-----+-----+-----+-------+--------+------+-----------+-----------------------+----------+-------------------+-------------------+\n",
      "only showing top 5 rows\n",
      "\n"
     ]
    }
   ],
   "source": [
    "df=spark.read.csv('Products.csv',header='True',inferSchema='True')\n",
    "df.show(5)"
   ]
  },
  {
   "cell_type": "raw",
   "id": "729929c5-6ede-4ef5-8c24-6bed220e6ef6",
   "metadata": {},
   "source": [
    "To create a new column\n",
    "we should use withcolumnname"
   ]
  },
  {
   "cell_type": "code",
   "execution_count": 105,
   "id": "24a0a8d9-d213-4d3c-b5d6-94471e298a41",
   "metadata": {},
   "outputs": [
    {
     "name": "stdout",
     "output_type": "stream",
     "text": [
      "+----------+------------+-----------+-----+-----+-----+-------+--------+------+-----------+-----------------------+----------+-------------------+-------------------+--------+\n",
      "|Product ID|Product Name|   Category|Price|Stock|Sales|  Brand|Discount|Rating|Launch Date|Warranty Period (Years)|  Supplier|Product Description|Manufacture Country|NewPrice|\n",
      "+----------+------------+-----------+-----+-----+-----+-------+--------+------+-----------+-----------------------+----------+-------------------+-------------------+--------+\n",
      "|       101|     Monitor|Accessories| 1156|  482|   29|Brand C|    0.21|  NULL| 2020-07-20|                    2.0|      NULL|      Best in class|              India|    2312|\n",
      "|       102|  Headphones|   Clothing|  289|  305|   45|Brand E|    0.06|   3.0| 2022-01-16|                    1.0|Supplier B|      Best in class|              China|     578|\n",
      "+----------+------------+-----------+-----+-----+-----+-------+--------+------+-----------+-----------------------+----------+-------------------+-------------------+--------+\n",
      "only showing top 2 rows\n",
      "\n"
     ]
    }
   ],
   "source": [
    "df.withColumn(\"NewPrice\",df['Price']*2).show(2)"
   ]
  },
  {
   "cell_type": "raw",
   "id": "e3e083a1-63b3-48e0-a812-746d292701ef",
   "metadata": {},
   "source": [
    "To replace the name of existing column"
   ]
  },
  {
   "cell_type": "code",
   "execution_count": 106,
   "id": "21765acf-c737-45bf-8664-87dde36e599a",
   "metadata": {},
   "outputs": [
    {
     "name": "stdout",
     "output_type": "stream",
     "text": [
      "+----------+------------+-----------+---------+-----+-----+-------+--------+------+-----------+-----------------------+----------+-------------------+-------------------+\n",
      "|Product ID|Product Name|   Category|New_price|Stock|Sales|  Brand|Discount|Rating|Launch Date|Warranty Period (Years)|  Supplier|Product Description|Manufacture Country|\n",
      "+----------+------------+-----------+---------+-----+-----+-------+--------+------+-----------+-----------------------+----------+-------------------+-------------------+\n",
      "|       101|     Monitor|Accessories|     1156|  482|   29|Brand C|    0.21|  NULL| 2020-07-20|                    2.0|      NULL|      Best in class|              India|\n",
      "|       102|  Headphones|   Clothing|      289|  305|   45|Brand E|    0.06|   3.0| 2022-01-16|                    1.0|Supplier B|      Best in class|              China|\n",
      "+----------+------------+-----------+---------+-----+-----+-------+--------+------+-----------+-----------------------+----------+-------------------+-------------------+\n",
      "only showing top 2 rows\n",
      "\n"
     ]
    }
   ],
   "source": [
    "a=df.withColumnRenamed('Price','New_price')\n",
    "a.show(2)"
   ]
  },
  {
   "cell_type": "raw",
   "id": "d5173930-b312-436d-b0d0-bc6b454f09bc",
   "metadata": {},
   "source": [
    "Alias Transformation"
   ]
  },
  {
   "cell_type": "code",
   "execution_count": 107,
   "id": "7fb3e049-4aa3-47b0-9066-2b28d54a12a5",
   "metadata": {},
   "outputs": [
    {
     "name": "stdout",
     "output_type": "stream",
     "text": [
      "+---------------+\n",
      "|            Cat|\n",
      "+---------------+\n",
      "|    Accessories|\n",
      "|       Clothing|\n",
      "|Home Appliances|\n",
      "|       Clothing|\n",
      "|    Electronics|\n",
      "|       Clothing|\n",
      "|    Accessories|\n",
      "|    Electronics|\n",
      "|Home Appliances|\n",
      "|       Clothing|\n",
      "|Home Appliances|\n",
      "|       Clothing|\n",
      "|      Furniture|\n",
      "|    Electronics|\n",
      "|      Furniture|\n",
      "|Home Appliances|\n",
      "|      Furniture|\n",
      "|Home Appliances|\n",
      "|Home Appliances|\n",
      "|    Electronics|\n",
      "+---------------+\n",
      "only showing top 20 rows\n",
      "\n"
     ]
    }
   ],
   "source": [
    "df.select(df['Category'].alias('Cat')).show()"
   ]
  },
  {
   "cell_type": "raw",
   "id": "5e9f4d99-e22a-4348-9a49-e23771caa9fb",
   "metadata": {},
   "source": [
    "OrderBy operation"
   ]
  },
  {
   "cell_type": "code",
   "execution_count": 108,
   "id": "12a7fc8c-49f6-4b9f-b12a-825c0cb784dc",
   "metadata": {},
   "outputs": [
    {
     "name": "stdout",
     "output_type": "stream",
     "text": [
      "+----------+------------+-----------+-----+-----+-----+-------+--------+------+-----------+-----------------------+----------+-------------------+-------------------+\n",
      "|Product ID|Product Name|   Category|Price|Stock|Sales|  Brand|Discount|Rating|Launch Date|Warranty Period (Years)|  Supplier|Product Description|Manufacture Country|\n",
      "+----------+------------+-----------+-----+-----+-----+-------+--------+------+-----------+-----------------------+----------+-------------------+-------------------+\n",
      "|       123|  Headphones|Accessories| 1745|  340|   28|Brand D|    0.13|   2.0| 2021-03-12|                    5.0|Supplier C|               NULL|              India|\n",
      "|       136|     Charger|Accessories| 1880|  200|  253|Brand B|    0.35|   5.0| 2022-03-28|                    1.0|      NULL|        Top selling|            Germany|\n",
      "|       124|  Headphones|Accessories|  564|  478|   77|Brand D|    0.32|   3.0| 2023-04-03|                   NULL|Supplier B|               NULL|               NULL|\n",
      "|       101|     Monitor|Accessories| 1156|  482|   29|Brand C|    0.21|  NULL| 2020-07-20|                    2.0|      NULL|      Best in class|              India|\n",
      "|       127|       Phone|Accessories| 2909|  184|  296|Brand D|    0.07|   3.0| 2024-01-30|                   NULL|Supplier B|               NULL|              China|\n",
      "+----------+------------+-----------+-----+-----+-----+-------+--------+------+-----------+-----------------------+----------+-------------------+-------------------+\n",
      "only showing top 5 rows\n",
      "\n"
     ]
    }
   ],
   "source": [
    "df.orderBy('Category').show(5)  #ascending order"
   ]
  },
  {
   "cell_type": "code",
   "execution_count": 109,
   "id": "a9e69f2a-5b70-4b43-85d7-593de4d750c4",
   "metadata": {},
   "outputs": [
    {
     "name": "stdout",
     "output_type": "stream",
     "text": [
      "+----------+------------+---------------+-----+-----+-----+-------+--------+------+-----------+-----------------------+----------+-------------------+-------------------+\n",
      "|Product ID|Product Name|       Category|Price|Stock|Sales|  Brand|Discount|Rating|Launch Date|Warranty Period (Years)|  Supplier|Product Description|Manufacture Country|\n",
      "+----------+------------+---------------+-----+-----+-----+-------+--------+------+-----------+-----------------------+----------+-------------------+-------------------+\n",
      "|       103|     Charger|Home Appliances| 4942|  197|  106|Brand E|    0.07|  NULL| 2024-11-11|                    2.0|Supplier C|        Top selling|              China|\n",
      "|       109|       Mouse|Home Appliances|  482|  400|   11|Brand D|    0.16|   5.0| 2024-08-23|                   NULL|      NULL|               NULL|               NULL|\n",
      "|       111|    Keyboard|Home Appliances| 4350|  408|  241|Brand C|    0.24|   2.0| 2022-10-07|                    1.0|Supplier B|   Affordable price|              India|\n",
      "|       116|  Smartwatch|Home Appliances| 2255|  337|   71|Brand C|    0.21|   5.0| 2022-02-25|                    5.0|      NULL|   Affordable price|               NULL|\n",
      "|       118|       Mouse|Home Appliances| 2294|   14|  187|Brand D|    0.28|   4.0| 2021-07-05|                    2.0|Supplier A|   Affordable price|               NULL|\n",
      "+----------+------------+---------------+-----+-----+-----+-------+--------+------+-----------+-----------------------+----------+-------------------+-------------------+\n",
      "only showing top 5 rows\n",
      "\n"
     ]
    }
   ],
   "source": [
    "df.orderBy(df['Category'].desc()).show(5) #Descing order"
   ]
  },
  {
   "cell_type": "code",
   "execution_count": 110,
   "id": "c990d019-bca7-4901-977e-8a4ab5b72a94",
   "metadata": {},
   "outputs": [
    {
     "name": "stdout",
     "output_type": "stream",
     "text": [
      "+---------------+\n",
      "|       Category|\n",
      "+---------------+\n",
      "|Home Appliances|\n",
      "|Home Appliances|\n",
      "|Home Appliances|\n",
      "|Home Appliances|\n",
      "|Home Appliances|\n",
      "+---------------+\n",
      "only showing top 5 rows\n",
      "\n"
     ]
    }
   ],
   "source": [
    "df.select('Category').orderBy(df['Category'].desc()).show(5)"
   ]
  },
  {
   "cell_type": "raw",
   "id": "b61d8d8e-2e95-4634-96c1-073f29d6d0d0",
   "metadata": {},
   "source": [
    "To get Distinct Values"
   ]
  },
  {
   "cell_type": "code",
   "execution_count": 111,
   "id": "9f0220fa-7db9-49e1-9958-ee86021dfb99",
   "metadata": {},
   "outputs": [
    {
     "data": {
      "text/plain": [
       "['Product ID',\n",
       " 'Product Name',\n",
       " 'Category',\n",
       " 'Price',\n",
       " 'Stock',\n",
       " 'Sales',\n",
       " 'Brand',\n",
       " 'Discount',\n",
       " 'Rating',\n",
       " 'Launch Date',\n",
       " 'Warranty Period (Years)',\n",
       " 'Supplier',\n",
       " 'Product Description',\n",
       " 'Manufacture Country']"
      ]
     },
     "execution_count": 111,
     "metadata": {},
     "output_type": "execute_result"
    }
   ],
   "source": [
    "df.columns"
   ]
  },
  {
   "cell_type": "raw",
   "id": "6def9cfb-866b-4fa2-9824-7bfae164583f",
   "metadata": {},
   "source": [
    "To get distinct values"
   ]
  },
  {
   "cell_type": "code",
   "execution_count": 112,
   "id": "9964469c-12ba-447f-9a55-38132e100984",
   "metadata": {},
   "outputs": [
    {
     "name": "stdout",
     "output_type": "stream",
     "text": [
      "+---------------+\n",
      "|       Category|\n",
      "+---------------+\n",
      "|    Electronics|\n",
      "|       Clothing|\n",
      "|Home Appliances|\n",
      "|    Accessories|\n",
      "|      Furniture|\n",
      "+---------------+\n",
      "\n"
     ]
    }
   ],
   "source": [
    "df.select('Category').distinct().show(5)"
   ]
  },
  {
   "cell_type": "raw",
   "id": "03ae3b74-4808-43f6-a1cc-24b63530d6bc",
   "metadata": {},
   "source": [
    "isNull() Function"
   ]
  },
  {
   "cell_type": "code",
   "execution_count": 113,
   "id": "911fe344-e988-4c99-86fa-49e55758990d",
   "metadata": {},
   "outputs": [
    {
     "name": "stdout",
     "output_type": "stream",
     "text": [
      "+----------+------------+---------------+-----+-----+-----+-------+--------+------+-----------+-----------------------+--------+-------------------+-------------------+\n",
      "|Product ID|Product Name|       Category|Price|Stock|Sales|  Brand|Discount|Rating|Launch Date|Warranty Period (Years)|Supplier|Product Description|Manufacture Country|\n",
      "+----------+------------+---------------+-----+-----+-----+-------+--------+------+-----------+-----------------------+--------+-------------------+-------------------+\n",
      "|       101|     Monitor|    Accessories| 1156|  482|   29|Brand C|    0.21|  NULL| 2020-07-20|                    2.0|    NULL|      Best in class|              India|\n",
      "|       104|      Laptop|       Clothing| 1359|  328|  259|Brand E|    0.13|  NULL| 2022-12-18|                   NULL|    NULL|   Affordable price|              India|\n",
      "|       109|       Mouse|Home Appliances|  482|  400|   11|Brand D|    0.16|   5.0| 2024-08-23|                   NULL|    NULL|               NULL|               NULL|\n",
      "|       115|       Phone|      Furniture| 4875|  237|   21|Brand E|    0.09|   5.0| 2021-05-07|                    2.0|    NULL|   Affordable price|              China|\n",
      "|       116|  Smartwatch|Home Appliances| 2255|  337|   71|Brand C|    0.21|   5.0| 2022-02-25|                    5.0|    NULL|   Affordable price|               NULL|\n",
      "+----------+------------+---------------+-----+-----+-----+-------+--------+------+-----------+-----------------------+--------+-------------------+-------------------+\n",
      "only showing top 5 rows\n",
      "\n"
     ]
    }
   ],
   "source": [
    "df.filter(df['Supplier'].isNull()).show(5)"
   ]
  },
  {
   "cell_type": "raw",
   "id": "d59ffd00-056e-47aa-abfb-6b7b77b982a6",
   "metadata": {},
   "source": [
    "isNotNull() Function"
   ]
  },
  {
   "cell_type": "code",
   "execution_count": 114,
   "id": "d0217023-2b2c-410b-995d-cb6c73c48e4c",
   "metadata": {},
   "outputs": [
    {
     "name": "stdout",
     "output_type": "stream",
     "text": [
      "+----------+------------+---------------+-----+-----+-----+-------+--------+------+-----------+-----------------------+----------+--------------------+-------------------+\n",
      "|Product ID|Product Name|       Category|Price|Stock|Sales|  Brand|Discount|Rating|Launch Date|Warranty Period (Years)|  Supplier| Product Description|Manufacture Country|\n",
      "+----------+------------+---------------+-----+-----+-----+-------+--------+------+-----------+-----------------------+----------+--------------------+-------------------+\n",
      "|       101|     Monitor|    Accessories| 1156|  482|   29|Brand C|    0.21|  NULL| 2020-07-20|                    2.0|      NULL|       Best in class|              India|\n",
      "|       102|  Headphones|       Clothing|  289|  305|   45|Brand E|    0.06|   3.0| 2022-01-16|                    1.0|Supplier B|       Best in class|              China|\n",
      "|       103|     Charger|Home Appliances| 4942|  197|  106|Brand E|    0.07|  NULL| 2024-11-11|                    2.0|Supplier C|         Top selling|              China|\n",
      "|       105|      Camera|    Electronics| 4382|  204|  166|Brand E|    0.34|  NULL| 2024-08-26|                    3.0|Supplier B|       Best in class|              China|\n",
      "|       107|     Charger|    Accessories|  963|  324|  118|Brand A|    0.16|   4.0| 2022-07-26|                    2.0|Supplier B|Good quality product|                USA|\n",
      "+----------+------------+---------------+-----+-----+-----+-------+--------+------+-----------+-----------------------+----------+--------------------+-------------------+\n",
      "only showing top 5 rows\n",
      "\n"
     ]
    }
   ],
   "source": [
    "df.filter(df['Warranty Period (Years)'].isNotNull()).show(5)"
   ]
  },
  {
   "cell_type": "raw",
   "id": "991fa2e9-1d68-4fdc-b45d-c7fa89793e85",
   "metadata": {},
   "source": [
    ".na.drop()"
   ]
  },
  {
   "cell_type": "code",
   "execution_count": 115,
   "id": "7eab2e56-8471-4f4a-a250-80d904d10977",
   "metadata": {},
   "outputs": [
    {
     "name": "stdout",
     "output_type": "stream",
     "text": [
      "+----------+------------+---------------+-----+-----+-----+-------+--------+------+-----------+-----------------------+----------+--------------------+-------------------+\n",
      "|Product ID|Product Name|       Category|Price|Stock|Sales|  Brand|Discount|Rating|Launch Date|Warranty Period (Years)|  Supplier| Product Description|Manufacture Country|\n",
      "+----------+------------+---------------+-----+-----+-----+-------+--------+------+-----------+-----------------------+----------+--------------------+-------------------+\n",
      "|       102|  Headphones|       Clothing|  289|  305|   45|Brand E|    0.06|   3.0| 2022-01-16|                    1.0|Supplier B|       Best in class|              China|\n",
      "|       107|     Charger|    Accessories|  963|  324|  118|Brand A|    0.16|   4.0| 2022-07-26|                    2.0|Supplier B|Good quality product|                USA|\n",
      "|       110|     Charger|       Clothing| 2344|  292|  254|Brand B|    0.12|   5.0| 2023-03-10|                    5.0|Supplier B|Good quality product|                USA|\n",
      "|       111|    Keyboard|Home Appliances| 4350|  408|  241|Brand C|    0.24|   2.0| 2022-10-07|                    1.0|Supplier B|    Affordable price|              India|\n",
      "+----------+------------+---------------+-----+-----+-----+-------+--------+------+-----------+-----------------------+----------+--------------------+-------------------+\n",
      "only showing top 4 rows\n",
      "\n"
     ]
    }
   ],
   "source": [
    "df.na.drop().show(4)"
   ]
  },
  {
   "cell_type": "raw",
   "id": "51646c8f-6bfd-47df-a40b-690825208b44",
   "metadata": {},
   "source": [
    ".na.fill()"
   ]
  },
  {
   "cell_type": "code",
   "execution_count": 116,
   "id": "e3bbf46a-039f-4a81-9c00-ac980e69186a",
   "metadata": {},
   "outputs": [
    {
     "name": "stdout",
     "output_type": "stream",
     "text": [
      "+----------+------------+---------------+-----+-----+-----+-------+--------+------+-----------+-----------------------+----------+-------------------+-------------------+\n",
      "|Product ID|Product Name|       Category|Price|Stock|Sales|  Brand|Discount|Rating|Launch Date|Warranty Period (Years)|  Supplier|Product Description|Manufacture Country|\n",
      "+----------+------------+---------------+-----+-----+-----+-------+--------+------+-----------+-----------------------+----------+-------------------+-------------------+\n",
      "|       101|     Monitor|    Accessories| 1156|  482|   29|Brand C|    0.21|  NULL| 2020-07-20|                    2.0|      NULL|      Best in class|              India|\n",
      "|       102|  Headphones|       Clothing|  289|  305|   45|Brand E|    0.06|   3.0| 2022-01-16|                    1.0|Supplier B|      Best in class|              China|\n",
      "|       103|     Charger|Home Appliances| 4942|  197|  106|Brand E|    0.07|  NULL| 2024-11-11|                    2.0|Supplier C|        Top selling|              China|\n",
      "|       104|      Laptop|       Clothing| 1359|  328|  259|Brand E|    0.13|  NULL| 2022-12-18|                   10.0|      NULL|   Affordable price|              India|\n",
      "|       105|      Camera|    Electronics| 4382|  204|  166|Brand E|    0.34|  NULL| 2024-08-26|                    3.0|Supplier B|      Best in class|              China|\n",
      "+----------+------------+---------------+-----+-----+-----+-------+--------+------+-----------+-----------------------+----------+-------------------+-------------------+\n",
      "only showing top 5 rows\n",
      "\n"
     ]
    }
   ],
   "source": [
    "df.na.fill({\"Warranty Period (Years)\":10}).show(5)"
   ]
  },
  {
   "cell_type": "code",
   "execution_count": 117,
   "id": "08f7a383-554e-477b-a444-48a4435462b0",
   "metadata": {},
   "outputs": [
    {
     "name": "stdout",
     "output_type": "stream",
     "text": [
      "+----------+------------+---------------+-----+-----+-----+-------+--------+------+-----------+-----------------------+----------+-------------------+-------------------+\n",
      "|Product ID|Product Name|       Category|Price|Stock|Sales|  Brand|Discount|Rating|Launch Date|Warranty Period (Years)|  Supplier|Product Description|Manufacture Country|\n",
      "+----------+------------+---------------+-----+-----+-----+-------+--------+------+-----------+-----------------------+----------+-------------------+-------------------+\n",
      "|       101|     Monitor|    Accessories| 1156|  482|   29|Brand C|    0.21|  NULL| 2020-07-20|                    2.0|      NULL|      Best in class|              India|\n",
      "|       102|  Headphones|       Clothing|  289|  305|   45|Brand E|    0.06|   3.0| 2022-01-16|                    1.0|Supplier B|      Best in class|              China|\n",
      "|       103|     Charger|Home Appliances| 4942|  197|  106|Brand E|    0.07|  NULL| 2024-11-11|                    2.0|Supplier C|        Top selling|              China|\n",
      "|       104|      Laptop|       Clothing| 1359|  328|  259|Brand E|    0.13|  NULL| 2022-12-18|                   NULL|      NULL|   Affordable price|              India|\n",
      "|       105|      Camera|    Electronics| 4382|  204|  166|Brand E|    0.34|  NULL| 2024-08-26|                    3.0|Supplier B|      Best in class|              China|\n",
      "+----------+------------+---------------+-----+-----+-----+-------+--------+------+-----------+-----------------------+----------+-------------------+-------------------+\n",
      "only showing top 5 rows\n",
      "\n"
     ]
    }
   ],
   "source": [
    "df.show(5)"
   ]
  },
  {
   "cell_type": "raw",
   "id": "822f0cec-7779-4f3f-a7a2-be33444074d4",
   "metadata": {},
   "source": [
    "                                                        Agg Functions"
   ]
  },
  {
   "cell_type": "code",
   "execution_count": 119,
   "id": "a7d67a18-1044-4081-9e69-5d46f4971dd8",
   "metadata": {},
   "outputs": [],
   "source": [
    "import pyspark.sql.functions  as F"
   ]
  },
  {
   "cell_type": "code",
   "execution_count": 121,
   "id": "cdb63836-d3ac-4047-b416-d1bd3fe72c6e",
   "metadata": {},
   "outputs": [
    {
     "data": {
      "text/plain": [
       "['Product ID',\n",
       " 'Product Name',\n",
       " 'Category',\n",
       " 'Price',\n",
       " 'Stock',\n",
       " 'Sales',\n",
       " 'Brand',\n",
       " 'Discount',\n",
       " 'Rating',\n",
       " 'Launch Date',\n",
       " 'Warranty Period (Years)',\n",
       " 'Supplier',\n",
       " 'Product Description',\n",
       " 'Manufacture Country']"
      ]
     },
     "execution_count": 121,
     "metadata": {},
     "output_type": "execute_result"
    }
   ],
   "source": [
    "df.columns\n"
   ]
  },
  {
   "cell_type": "code",
   "execution_count": 130,
   "id": "6f8dd4b7-0143-4a05-afb7-0dbef963fab6",
   "metadata": {},
   "outputs": [
    {
     "name": "stdout",
     "output_type": "stream",
     "text": [
      "+------------+-------------+\n",
      "|Product Name|Minimum Price|\n",
      "+------------+-------------+\n",
      "|       Phone|          142|\n",
      "|  Smartwatch|          116|\n",
      "|      Laptop|          212|\n",
      "|     Charger|          461|\n",
      "|       Mouse|          101|\n",
      "|      Camera|          249|\n",
      "|      Tablet|          290|\n",
      "|    Keyboard|          134|\n",
      "|     Monitor|          272|\n",
      "|  Headphones|          169|\n",
      "+------------+-------------+\n",
      "\n"
     ]
    }
   ],
   "source": [
    "gdf=df.groupBy('Product Name').agg(F.min('Price').alias('Minimum Price'))\n",
    "gdf.show()"
   ]
  },
  {
   "cell_type": "code",
   "execution_count": 131,
   "id": "b35671bd-7e87-4387-bb30-77d856c5ccfe",
   "metadata": {},
   "outputs": [
    {
     "name": "stdout",
     "output_type": "stream",
     "text": [
      "+------------+-------------+\n",
      "|Product Name|Maximum Price|\n",
      "+------------+-------------+\n",
      "|       Phone|         4875|\n",
      "|  Smartwatch|         4964|\n",
      "|      Laptop|         4588|\n",
      "|     Charger|         4981|\n",
      "|       Mouse|         4795|\n",
      "|      Camera|         4989|\n",
      "|      Tablet|         4911|\n",
      "|    Keyboard|         4833|\n",
      "|     Monitor|         4999|\n",
      "|  Headphones|         4616|\n",
      "+------------+-------------+\n",
      "\n"
     ]
    }
   ],
   "source": [
    "gdf=df.groupBy('Product Name').agg(F.max('Price').alias('Maximum Price'))\n",
    "gdf.show()"
   ]
  },
  {
   "cell_type": "code",
   "execution_count": 132,
   "id": "6be7c3e5-fc56-4070-b484-d34f75807cd9",
   "metadata": {},
   "outputs": [
    {
     "name": "stdout",
     "output_type": "stream",
     "text": [
      "+------------+------------------+\n",
      "|Product Name|     Average Price|\n",
      "+------------+------------------+\n",
      "|       Phone| 2571.871794871795|\n",
      "|  Smartwatch|2446.4210526315787|\n",
      "|      Laptop| 2187.054054054054|\n",
      "|     Charger| 2930.108695652174|\n",
      "|       Mouse|2477.5208333333335|\n",
      "|      Camera| 2809.323529411765|\n",
      "|      Tablet|        2784.15625|\n",
      "|    Keyboard|2898.4347826086955|\n",
      "|     Monitor|2609.4651162790697|\n",
      "|  Headphones|2020.3513513513512|\n",
      "+------------+------------------+\n",
      "\n"
     ]
    }
   ],
   "source": [
    "gdf=df.groupBy('Product Name').agg(F.avg('Price').alias('Average Price'))\n",
    "gdf.show()"
   ]
  },
  {
   "cell_type": "code",
   "execution_count": 134,
   "id": "6385e0a3-291e-4947-ba10-030dd0b23128",
   "metadata": {},
   "outputs": [
    {
     "name": "stdout",
     "output_type": "stream",
     "text": [
      "+------------+--------------+\n",
      "|Product Name|Total Products|\n",
      "+------------+--------------+\n",
      "|       Phone|            39|\n",
      "|  Smartwatch|            38|\n",
      "|      Laptop|            37|\n",
      "|     Charger|            46|\n",
      "|       Mouse|            48|\n",
      "|      Camera|            34|\n",
      "|      Tablet|            32|\n",
      "|    Keyboard|            46|\n",
      "|     Monitor|            43|\n",
      "|  Headphones|            37|\n",
      "+------------+--------------+\n",
      "\n"
     ]
    }
   ],
   "source": [
    "gdf=df.groupBy('Product Name').agg(F.count('Sales').alias('Total Products'))\n",
    "gdf.show()"
   ]
  },
  {
   "cell_type": "code",
   "execution_count": 140,
   "id": "fe3933e7-dcdc-432c-8e67-d7615e831301",
   "metadata": {},
   "outputs": [
    {
     "name": "stdout",
     "output_type": "stream",
     "text": [
      "+------------+-----------+\n",
      "|Product Name|Total Price|\n",
      "+------------+-----------+\n",
      "|       Phone|     100303|\n",
      "|  Smartwatch|      92964|\n",
      "|      Laptop|      80921|\n",
      "|     Charger|     134785|\n",
      "|       Mouse|     118921|\n",
      "|      Camera|      95517|\n",
      "|      Tablet|      89093|\n",
      "|    Keyboard|     133328|\n",
      "|     Monitor|     112207|\n",
      "|  Headphones|      74753|\n",
      "+------------+-----------+\n",
      "\n"
     ]
    }
   ],
   "source": [
    "gdf=df.groupBy('Product Name').agg(F.sum('Price').alias('Total Price'))\n",
    "gdf.show()"
   ]
  },
  {
   "cell_type": "code",
   "execution_count": null,
   "id": "7ccb1d1e-7a72-4e78-ad58-b4f048fab8d5",
   "metadata": {},
   "outputs": [],
   "source": []
  }
 ],
 "metadata": {
  "kernelspec": {
   "display_name": "Python 3 (ipykernel)",
   "language": "python",
   "name": "python3"
  },
  "language_info": {
   "codemirror_mode": {
    "name": "ipython",
    "version": 3
   },
   "file_extension": ".py",
   "mimetype": "text/x-python",
   "name": "python",
   "nbconvert_exporter": "python",
   "pygments_lexer": "ipython3",
   "version": "3.11.0"
  }
 },
 "nbformat": 4,
 "nbformat_minor": 5
}
