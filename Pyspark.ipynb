{
 "cells": [
  {
   "cell_type": "code",
   "execution_count": 1,
   "id": "e0f70977-3685-4aef-b7be-740cd849c6d0",
   "metadata": {},
   "outputs": [],
   "source": [
    "from pyspark.sql import SparkSession\n"
   ]
  },
  {
   "cell_type": "raw",
   "id": "88f2e8e9-a07c-4f1d-bc9d-45fa9733d8b0",
   "metadata": {},
   "source": [
    "Creating RDD"
   ]
  },
  {
   "cell_type": "code",
   "execution_count": 2,
   "id": "62637756-c982-4eda-aa36-c4b97437f1ad",
   "metadata": {},
   "outputs": [
    {
     "data": {
      "text/plain": [
       "[('Mysore', 1), ('Bengaluru', 2)]"
      ]
     },
     "execution_count": 2,
     "metadata": {},
     "output_type": "execute_result"
    }
   ],
   "source": [
    "\n",
    "spark=SparkSession.builder.getOrCreate()\n",
    "\n",
    "rdd=spark.sparkContext.parallelize([('Mysore',1),(\"Bengaluru\",2)])\n",
    "rdd.collect()"
   ]
  },
  {
   "cell_type": "code",
   "execution_count": 3,
   "id": "8f6f30c3-7654-4ae9-85e5-a63371cbe7c5",
   "metadata": {},
   "outputs": [
    {
     "data": {
      "text/plain": [
       "2"
      ]
     },
     "execution_count": 3,
     "metadata": {},
     "output_type": "execute_result"
    }
   ],
   "source": [
    "rdd.count()"
   ]
  },
  {
   "cell_type": "raw",
   "id": "3f559532-c730-471b-b175-5ab516a88c5e",
   "metadata": {},
   "source": [
    "\n",
    "Dataframe from RDD"
   ]
  },
  {
   "cell_type": "code",
   "execution_count": 4,
   "id": "fb6a61b8-0673-4855-a10e-7407e8e47487",
   "metadata": {},
   "outputs": [
    {
     "name": "stdout",
     "output_type": "stream",
     "text": [
      "+---------+----+\n",
      "|     City|Rank|\n",
      "+---------+----+\n",
      "|   Mysore|   1|\n",
      "|Bengaluru|   2|\n",
      "+---------+----+\n",
      "\n"
     ]
    }
   ],
   "source": [
    "\n",
    "df=spark.createDataFrame(rdd,schema=['City','Rank'])\n",
    "df.show()"
   ]
  },
  {
   "cell_type": "code",
   "execution_count": 5,
   "id": "fb503af1-2894-4d4a-a48e-862aae8a8189",
   "metadata": {},
   "outputs": [
    {
     "name": "stdout",
     "output_type": "stream",
     "text": [
      "+------+----+\n",
      "|  City|Rank|\n",
      "+------+----+\n",
      "|Mysore|   1|\n",
      "+------+----+\n",
      "only showing top 1 row\n",
      "\n"
     ]
    }
   ],
   "source": [
    "df.show(1)"
   ]
  },
  {
   "cell_type": "code",
   "execution_count": 6,
   "id": "f49b9f3e-06ce-4494-881f-9fbb4360df10",
   "metadata": {},
   "outputs": [
    {
     "name": "stdout",
     "output_type": "stream",
     "text": [
      "root\n",
      " |-- City: string (nullable = true)\n",
      " |-- Rank: long (nullable = true)\n",
      "\n"
     ]
    }
   ],
   "source": [
    "df.printSchema()"
   ]
  },
  {
   "cell_type": "raw",
   "id": "202f3cf2-8cd1-4e54-bb05-ea6881908a7a",
   "metadata": {},
   "source": [
    "DataFrame"
   ]
  },
  {
   "cell_type": "code",
   "execution_count": 7,
   "id": "d6d5a91b-d377-4646-8690-ded8e8b11006",
   "metadata": {},
   "outputs": [],
   "source": [
    "from datetime import date,datetime"
   ]
  },
  {
   "cell_type": "code",
   "execution_count": 8,
   "id": "50178ba3-6b6d-4af3-a6da-be14b3490d07",
   "metadata": {},
   "outputs": [
    {
     "name": "stdout",
     "output_type": "stream",
     "text": [
      "+-----------+---+-------------------+\n",
      "|       NAME|AGE|               DATE|\n",
      "+-----------+---+-------------------+\n",
      "|  Chaitresh| 24|2024-12-14 10:00:00|\n",
      "|Shivaprasad| 23|2024-12-14 10:00:00|\n",
      "+-----------+---+-------------------+\n",
      "\n",
      "root\n",
      " |-- NAME: string (nullable = true)\n",
      " |-- AGE: long (nullable = true)\n",
      " |-- DATE: timestamp (nullable = true)\n",
      "\n"
     ]
    }
   ],
   "source": [
    "df=spark.createDataFrame([(\"Chaitresh\",24,datetime(2024,12,14,10)),(\"Shivaprasad\",23,datetime(2024,12,14,10))],schema=['NAME','AGE',\"DATE\"])\n",
    "\n",
    "df.show()\n",
    "df.printSchema()"
   ]
  },
  {
   "cell_type": "raw",
   "id": "07aa0dbe-3d64-425b-bac8-2a4677392179",
   "metadata": {},
   "source": [
    "Read a csv file"
   ]
  },
  {
   "cell_type": "code",
   "execution_count": 9,
   "id": "10980345-97b9-4899-8c15-c4bf819bd889",
   "metadata": {},
   "outputs": [
    {
     "name": "stdout",
     "output_type": "stream",
     "text": [
      "+---------------+-----------+----------------+---------------+--------------------+--------+-----------------+-------------------------+-----------+--------------------+-----------------+-----------------+\n",
      "|Item_Identifier|Item_Weight|Item_Fat_Content|Item_Visibility|           Item_Type|Item_MRP|Outlet_Identifier|Outlet_Establishment_Year|Outlet_Size|Outlet_Location_Type|      Outlet_Type|Item_Outlet_Sales|\n",
      "+---------------+-----------+----------------+---------------+--------------------+--------+-----------------+-------------------------+-----------+--------------------+-----------------+-----------------+\n",
      "|          FDA15|        9.3|         Low Fat|    0.016047301|               Dairy|249.8092|           OUT049|                     1999|     Medium|              Tier 1|Supermarket Type1|         3735.138|\n",
      "|          DRC01|       5.92|         Regular|    0.019278216|         Soft Drinks| 48.2692|           OUT018|                     2009|     Medium|              Tier 3|Supermarket Type2|         443.4228|\n",
      "|          FDN15|       17.5|         Low Fat|    0.016760075|                Meat| 141.618|           OUT049|                     1999|     Medium|              Tier 1|Supermarket Type1|          2097.27|\n",
      "|          FDX07|       19.2|         Regular|            0.0|Fruits and Vegeta...| 182.095|           OUT010|                     1998|       NULL|              Tier 3|    Grocery Store|           732.38|\n",
      "|          NCD19|       8.93|         Low Fat|            0.0|           Household| 53.8614|           OUT013|                     1987|       High|              Tier 3|Supermarket Type1|         994.7052|\n",
      "+---------------+-----------+----------------+---------------+--------------------+--------+-----------------+-------------------------+-----------+--------------------+-----------------+-----------------+\n",
      "only showing top 5 rows\n",
      "\n"
     ]
    }
   ],
   "source": [
    "df=spark.read.csv(\"BigMart Sales.csv\",inferSchema=True,header=True)\n",
    "df.show(5)"
   ]
  },
  {
   "cell_type": "code",
   "execution_count": 10,
   "id": "c165e7fb-56ac-44ac-b54c-3dbb6a6af625",
   "metadata": {},
   "outputs": [
    {
     "name": "stdout",
     "output_type": "stream",
     "text": [
      "root\n",
      " |-- Item_Identifier: string (nullable = true)\n",
      " |-- Item_Weight: double (nullable = true)\n",
      " |-- Item_Fat_Content: string (nullable = true)\n",
      " |-- Item_Visibility: double (nullable = true)\n",
      " |-- Item_Type: string (nullable = true)\n",
      " |-- Item_MRP: double (nullable = true)\n",
      " |-- Outlet_Identifier: string (nullable = true)\n",
      " |-- Outlet_Establishment_Year: integer (nullable = true)\n",
      " |-- Outlet_Size: string (nullable = true)\n",
      " |-- Outlet_Location_Type: string (nullable = true)\n",
      " |-- Outlet_Type: string (nullable = true)\n",
      " |-- Item_Outlet_Sales: double (nullable = true)\n",
      "\n"
     ]
    }
   ],
   "source": [
    "df.printSchema()"
   ]
  },
  {
   "cell_type": "code",
   "execution_count": 11,
   "id": "9187c467-cc80-4c19-b936-1eba4519bb17",
   "metadata": {},
   "outputs": [
    {
     "data": {
      "text/plain": [
       "[Row(Item_Identifier='FDA15', Item_Weight=9.3, Item_Fat_Content='Low Fat', Item_Visibility=0.016047301, Item_Type='Dairy', Item_MRP=249.8092, Outlet_Identifier='OUT049', Outlet_Establishment_Year=1999, Outlet_Size='Medium', Outlet_Location_Type='Tier 1', Outlet_Type='Supermarket Type1', Item_Outlet_Sales=3735.138),\n",
       " Row(Item_Identifier='DRC01', Item_Weight=5.92, Item_Fat_Content='Regular', Item_Visibility=0.019278216, Item_Type='Soft Drinks', Item_MRP=48.2692, Outlet_Identifier='OUT018', Outlet_Establishment_Year=2009, Outlet_Size='Medium', Outlet_Location_Type='Tier 3', Outlet_Type='Supermarket Type2', Item_Outlet_Sales=443.4228),\n",
       " Row(Item_Identifier='FDN15', Item_Weight=17.5, Item_Fat_Content='Low Fat', Item_Visibility=0.016760075, Item_Type='Meat', Item_MRP=141.618, Outlet_Identifier='OUT049', Outlet_Establishment_Year=1999, Outlet_Size='Medium', Outlet_Location_Type='Tier 1', Outlet_Type='Supermarket Type1', Item_Outlet_Sales=2097.27),\n",
       " Row(Item_Identifier='FDX07', Item_Weight=19.2, Item_Fat_Content='Regular', Item_Visibility=0.0, Item_Type='Fruits and Vegetables', Item_MRP=182.095, Outlet_Identifier='OUT010', Outlet_Establishment_Year=1998, Outlet_Size=None, Outlet_Location_Type='Tier 3', Outlet_Type='Grocery Store', Item_Outlet_Sales=732.38)]"
      ]
     },
     "execution_count": 11,
     "metadata": {},
     "output_type": "execute_result"
    }
   ],
   "source": [
    "df.take(4)"
   ]
  },
  {
   "cell_type": "code",
   "execution_count": 12,
   "id": "fcbd8855-2739-4841-8295-c7a3056ee8e0",
   "metadata": {},
   "outputs": [
    {
     "data": {
      "text/plain": [
       "8523"
      ]
     },
     "execution_count": 12,
     "metadata": {},
     "output_type": "execute_result"
    }
   ],
   "source": [
    "df.count()"
   ]
  },
  {
   "cell_type": "code",
   "execution_count": 13,
   "id": "59db4ee5-8c67-4934-af02-7ccb5035d92b",
   "metadata": {},
   "outputs": [
    {
     "name": "stdout",
     "output_type": "stream",
     "text": [
      "+---------------+-----------+----------------+---------------+-----------+--------+-----------------+-------------------------+-----------+--------------------+-----------------+-----------------+\n",
      "|Item_Identifier|Item_Weight|Item_Fat_Content|Item_Visibility|  Item_Type|Item_MRP|Outlet_Identifier|Outlet_Establishment_Year|Outlet_Size|Outlet_Location_Type|      Outlet_Type|Item_Outlet_Sales|\n",
      "+---------------+-----------+----------------+---------------+-----------+--------+-----------------+-------------------------+-----------+--------------------+-----------------+-----------------+\n",
      "|          FDA15|        9.3|         Low Fat|    0.016047301|      Dairy|249.8092|           OUT049|                     1999|     Medium|              Tier 1|Supermarket Type1|         3735.138|\n",
      "|          DRC01|       5.92|         Regular|    0.019278216|Soft Drinks| 48.2692|           OUT018|                     2009|     Medium|              Tier 3|Supermarket Type2|         443.4228|\n",
      "+---------------+-----------+----------------+---------------+-----------+--------+-----------------+-------------------------+-----------+--------------------+-----------------+-----------------+\n",
      "only showing top 2 rows\n",
      "\n"
     ]
    }
   ],
   "source": [
    "df.show(2)"
   ]
  },
  {
   "cell_type": "code",
   "execution_count": 14,
   "id": "7f8727d0-af59-4879-9219-275369a30fbd",
   "metadata": {},
   "outputs": [
    {
     "name": "stdout",
     "output_type": "stream",
     "text": [
      "+-----------+\n",
      "|Outlet_Size|\n",
      "+-----------+\n",
      "|     Medium|\n",
      "|     Medium|\n",
      "|     Medium|\n",
      "+-----------+\n",
      "only showing top 3 rows\n",
      "\n"
     ]
    }
   ],
   "source": [
    "df.select(\"Outlet_Size\").show(3)"
   ]
  },
  {
   "cell_type": "code",
   "execution_count": 15,
   "id": "1a4d150e-0078-4f94-b770-bd4a346508b5",
   "metadata": {},
   "outputs": [
    {
     "name": "stdout",
     "output_type": "stream",
     "text": [
      "+-----------+--------------------+\n",
      "|Outlet_Size|Outlet_Location_Type|\n",
      "+-----------+--------------------+\n",
      "|     Medium|              Tier 1|\n",
      "|     Medium|              Tier 3|\n",
      "|     Medium|              Tier 1|\n",
      "+-----------+--------------------+\n",
      "only showing top 3 rows\n",
      "\n"
     ]
    }
   ],
   "source": [
    "df.select('Outlet_Size','Outlet_Location_Type').show(3)"
   ]
  },
  {
   "cell_type": "code",
   "execution_count": 16,
   "id": "4e05dbf8-f38e-4678-9e62-095d98f68f95",
   "metadata": {},
   "outputs": [
    {
     "name": "stdout",
     "output_type": "stream",
     "text": [
      "+---------------+-----------+----------------+---------------+--------------------+--------+-----------------+-------------------------+-----------+--------------------+-----------------+-----------------+\n",
      "|Item_Identifier|Item_Weight|Item_Fat_Content|Item_Visibility|           Item_Type|Item_MRP|Outlet_Identifier|Outlet_Establishment_Year|Outlet_Size|Outlet_Location_Type|      Outlet_Type|Item_Outlet_Sales|\n",
      "+---------------+-----------+----------------+---------------+--------------------+--------+-----------------+-------------------------+-----------+--------------------+-----------------+-----------------+\n",
      "|          FDA15|        9.3|         Low Fat|    0.016047301|               Dairy|249.8092|           OUT049|                     1999|     Medium|              Tier 1|Supermarket Type1|         3735.138|\n",
      "|          DRC01|       5.92|         Regular|    0.019278216|         Soft Drinks| 48.2692|           OUT018|                     2009|     Medium|              Tier 3|Supermarket Type2|         443.4228|\n",
      "|          FDN15|       17.5|         Low Fat|    0.016760075|                Meat| 141.618|           OUT049|                     1999|     Medium|              Tier 1|Supermarket Type1|          2097.27|\n",
      "|          FDX07|       19.2|         Regular|            0.0|Fruits and Vegeta...| 182.095|           OUT010|                     1998|       NULL|              Tier 3|    Grocery Store|           732.38|\n",
      "|          NCD19|       8.93|         Low Fat|            0.0|           Household| 53.8614|           OUT013|                     1987|       High|              Tier 3|Supermarket Type1|         994.7052|\n",
      "+---------------+-----------+----------------+---------------+--------------------+--------+-----------------+-------------------------+-----------+--------------------+-----------------+-----------------+\n",
      "only showing top 5 rows\n",
      "\n"
     ]
    }
   ],
   "source": [
    "df.filter(df[\"Item_Outlet_Sales\"]>100).show(5)"
   ]
  },
  {
   "cell_type": "code",
   "execution_count": 17,
   "id": "a1d4dfc7-97e5-4b15-a8ea-6e5a5ec2cfe8",
   "metadata": {},
   "outputs": [
    {
     "name": "stdout",
     "output_type": "stream",
     "text": [
      "+-----------------+\n",
      "|Item_Outlet_Sales|\n",
      "+-----------------+\n",
      "|         3735.138|\n",
      "|         443.4228|\n",
      "|          2097.27|\n",
      "|           732.38|\n",
      "|         994.7052|\n",
      "+-----------------+\n",
      "only showing top 5 rows\n",
      "\n"
     ]
    }
   ],
   "source": [
    "df.select('Item_Outlet_Sales').filter(df['Item_Outlet_Sales']>50).show(5)"
   ]
  },
  {
   "cell_type": "code",
   "execution_count": 18,
   "id": "1b2420eb-9919-4b0a-8b4c-368c312d0770",
   "metadata": {},
   "outputs": [
    {
     "name": "stdout",
     "output_type": "stream",
     "text": [
      "+---------------+-----------+----------------+---------------+--------------------+--------+-----------------+-------------------------+-----------+--------------------+-----------------+-----------------+\n",
      "|Item_Identifier|Item_Weight|Item_Fat_Content|Item_Visibility|           Item_Type|Item_MRP|Outlet_Identifier|Outlet_Establishment_Year|Outlet_Size|Outlet_Location_Type|      Outlet_Type|Item_Outlet_Sales|\n",
      "+---------------+-----------+----------------+---------------+--------------------+--------+-----------------+-------------------------+-----------+--------------------+-----------------+-----------------+\n",
      "|          FDA15|        9.3|         Low Fat|    0.016047301|               Dairy|249.8092|           OUT049|                     1999|     Medium|              Tier 1|Supermarket Type1|         3735.138|\n",
      "|          FDN15|       17.5|         Low Fat|    0.016760075|                Meat| 141.618|           OUT049|                     1999|     Medium|              Tier 1|Supermarket Type1|          2097.27|\n",
      "|          FDX07|       19.2|         Regular|            0.0|Fruits and Vegeta...| 182.095|           OUT010|                     1998|       NULL|              Tier 3|    Grocery Store|           732.38|\n",
      "|          FDP36|     10.395|         Regular|            0.0|        Baking Goods| 51.4008|           OUT018|                     2009|     Medium|              Tier 3|Supermarket Type2|         556.6088|\n",
      "|          FDO10|      13.65|         Regular|    0.012741089|         Snack Foods| 57.6588|           OUT013|                     1987|       High|              Tier 3|Supermarket Type1|         343.5528|\n",
      "+---------------+-----------+----------------+---------------+--------------------+--------+-----------------+-------------------------+-----------+--------------------+-----------------+-----------------+\n",
      "only showing top 5 rows\n",
      "\n"
     ]
    }
   ],
   "source": [
    "df.filter(\"Item_Identifier like 'F%'\").show(5)"
   ]
  },
  {
   "cell_type": "code",
   "execution_count": 19,
   "id": "da2e567d-ef66-4349-9577-236f8e9f06f4",
   "metadata": {},
   "outputs": [
    {
     "name": "stdout",
     "output_type": "stream",
     "text": [
      "+---------------+-----------+----------------+---------------+--------------------+--------+-----------------+-------------------------+-----------+--------------------+-----------------+-----------------+\n",
      "|Item_Identifier|Item_Weight|Item_Fat_Content|Item_Visibility|           Item_Type|Item_MRP|Outlet_Identifier|Outlet_Establishment_Year|Outlet_Size|Outlet_Location_Type|      Outlet_Type|Item_Outlet_Sales|\n",
      "+---------------+-----------+----------------+---------------+--------------------+--------+-----------------+-------------------------+-----------+--------------------+-----------------+-----------------+\n",
      "|          NCD19|       8.93|         Low Fat|            0.0|           Household| 53.8614|           OUT013|                     1987|       High|              Tier 3|Supermarket Type1|         994.7052|\n",
      "|          FDV51|      16.35|         Low Fat|    0.032511818|                Meat|165.0842|           OUT013|                     1987|       High|              Tier 3|Supermarket Type1|         994.7052|\n",
      "|          FDE09|      8.775|         Low Fat|    0.021647195|Fruits and Vegeta...|109.5228|           OUT045|                     2002|       NULL|              Tier 2|Supermarket Type1|         994.7052|\n",
      "+---------------+-----------+----------------+---------------+--------------------+--------+-----------------+-------------------------+-----------+--------------------+-----------------+-----------------+\n",
      "\n"
     ]
    }
   ],
   "source": [
    "df.filter(df[\"Item_Outlet_Sales\"]=='994.7052').show(5)"
   ]
  },
  {
   "cell_type": "code",
   "execution_count": 20,
   "id": "5d79ef43-1d4b-46a0-9704-0be074acbfea",
   "metadata": {},
   "outputs": [
    {
     "name": "stdout",
     "output_type": "stream",
     "text": [
      "+-----------------+--------+\n",
      "|Item_Outlet_Sales|Item_MRP|\n",
      "+-----------------+--------+\n",
      "|           898.83|   31.29|\n",
      "|           466.06|   31.49|\n",
      "|           366.19|   31.89|\n",
      "|         984.7182| 31.9558|\n",
      "|         373.5138| 31.9558|\n",
      "+-----------------+--------+\n",
      "only showing top 5 rows\n",
      "\n"
     ]
    }
   ],
   "source": [
    "df.select('Item_Outlet_Sales','Item_MRP').sort(\"Item_MRP\").show(5)"
   ]
  },
  {
   "cell_type": "code",
   "execution_count": 21,
   "id": "a834007d-df8b-4c1f-8ad8-7256bc35e7c0",
   "metadata": {},
   "outputs": [
    {
     "name": "stdout",
     "output_type": "stream",
     "text": [
      "+---------------+-----------+----------------+---------------+------------+--------+-----------------+-------------------------+-----------+--------------------+-----------------+-----------------+\n",
      "|Item_Identifier|Item_Weight|Item_Fat_Content|Item_Visibility|   Item_Type|Item_MRP|Outlet_Identifier|Outlet_Establishment_Year|Outlet_Size|Outlet_Location_Type|      Outlet_Type|Item_Outlet_Sales|\n",
      "+---------------+-----------+----------------+---------------+------------+--------+-----------------+-------------------------+-----------+--------------------+-----------------+-----------------+\n",
      "|          DRK12|       NULL|         Low Fat|    0.041683481| Soft Drinks|   31.29|           OUT027|                     1985|     Medium|              Tier 3|Supermarket Type3|           898.83|\n",
      "|          DRK12|        9.5|         Low Fat|    0.041851461| Soft Drinks|   31.49|           OUT013|                     1987|       High|              Tier 3|Supermarket Type1|           466.06|\n",
      "|          DRK12|        9.5|         Low Fat|    0.042056944| Soft Drinks|   31.89|           OUT018|                     2009|     Medium|              Tier 3|Supermarket Type2|           366.19|\n",
      "|          FDG40|       NULL|         Low Fat|    0.039631495|Frozen Foods| 31.9558|           OUT027|                     1985|     Medium|              Tier 3|Supermarket Type3|         984.7182|\n",
      "|          FDX59|     10.195|         Low Fat|    0.051618281|      Breads| 31.9558|           OUT013|                     1987|       High|              Tier 3|Supermarket Type1|         373.5138|\n",
      "+---------------+-----------+----------------+---------------+------------+--------+-----------------+-------------------------+-----------+--------------------+-----------------+-----------------+\n",
      "only showing top 5 rows\n",
      "\n"
     ]
    }
   ],
   "source": [
    "df.sort(\"Item_MRP\").show(5)"
   ]
  },
  {
   "cell_type": "code",
   "execution_count": 22,
   "id": "8f51bd65-965d-41ee-88e9-0f6f3cef509c",
   "metadata": {},
   "outputs": [
    {
     "name": "stdout",
     "output_type": "stream",
     "text": [
      "+---------------+-----------+----------------+---------------+--------------------+--------+-----------------+-------------------------+-----------+--------------------+-----------------+-----------------+\n",
      "|Item_Identifier|Item_Weight|Item_Fat_Content|Item_Visibility|           Item_Type|Item_MRP|Outlet_Identifier|Outlet_Establishment_Year|Outlet_Size|Outlet_Location_Type|      Outlet_Type|Item_Outlet_Sales|\n",
      "+---------------+-----------+----------------+---------------+--------------------+--------+-----------------+-------------------------+-----------+--------------------+-----------------+-----------------+\n",
      "|          FDA15|        9.3|         Low Fat|    0.016047301|               Dairy|249.8092|           OUT049|                     1999|     Medium|              Tier 1|Supermarket Type1|         3735.138|\n",
      "|          DRC01|       5.92|         Regular|    0.019278216|         Soft Drinks| 48.2692|           OUT018|                     2009|     Medium|              Tier 3|Supermarket Type2|         443.4228|\n",
      "|          FDN15|       17.5|         Low Fat|    0.016760075|                Meat| 141.618|           OUT049|                     1999|     Medium|              Tier 1|Supermarket Type1|          2097.27|\n",
      "|          FDX07|       19.2|         Regular|            0.0|Fruits and Vegeta...| 182.095|           OUT010|                     1998|       NULL|              Tier 3|    Grocery Store|           732.38|\n",
      "|          NCD19|       8.93|         Low Fat|            0.0|           Household| 53.8614|           OUT013|                     1987|       High|              Tier 3|Supermarket Type1|         994.7052|\n",
      "+---------------+-----------+----------------+---------------+--------------------+--------+-----------------+-------------------------+-----------+--------------------+-----------------+-----------------+\n",
      "only showing top 5 rows\n",
      "\n"
     ]
    }
   ],
   "source": [
    "df.show(5)"
   ]
  },
  {
   "cell_type": "raw",
   "id": "37d7884d-5c5a-4394-8937-4a25d7ca930e",
   "metadata": {},
   "source": [
    "How to create Temprorary view"
   ]
  },
  {
   "cell_type": "code",
   "execution_count": 23,
   "id": "626b880a-fd7d-4159-a8a8-664026bfa6a8",
   "metadata": {},
   "outputs": [
    {
     "name": "stdout",
     "output_type": "stream",
     "text": [
      "+---------------+-----------+----------------+---------------+---------+--------+-----------------+-------------------------+-----------+--------------------+-----------------+-----------------+\n",
      "|Item_Identifier|Item_Weight|Item_Fat_Content|Item_Visibility|Item_Type|Item_MRP|Outlet_Identifier|Outlet_Establishment_Year|Outlet_Size|Outlet_Location_Type|      Outlet_Type|Item_Outlet_Sales|\n",
      "+---------------+-----------+----------------+---------------+---------+--------+-----------------+-------------------------+-----------+--------------------+-----------------+-----------------+\n",
      "|          FDA15|        9.3|         Low Fat|    0.016047301|    Dairy|249.8092|           OUT049|                     1999|     Medium|              Tier 1|Supermarket Type1|         3735.138|\n",
      "|          FDA03|       18.5|         Regular|    0.045463773|    Dairy|144.1102|           OUT046|                     1997|      Small|              Tier 1|Supermarket Type1|         2187.153|\n",
      "|          FDU02|      13.35|         Low Fat|     0.10249212|    Dairy|230.5352|           OUT035|                     2004|      Small|              Tier 2|Supermarket Type1|        2748.4224|\n",
      "|          FDE51|      5.925|         Regular|    0.161466534|    Dairy| 45.5086|           OUT010|                     1998|       NULL|              Tier 3|    Grocery Store|         178.4344|\n",
      "|          FDV38|      19.25|         Low Fat|    0.170348551|    Dairy| 55.7956|           OUT010|                     1998|       NULL|              Tier 3|    Grocery Store|         163.7868|\n",
      "+---------------+-----------+----------------+---------------+---------+--------+-----------------+-------------------------+-----------+--------------------+-----------------+-----------------+\n",
      "only showing top 5 rows\n",
      "\n"
     ]
    }
   ],
   "source": [
    "df.createOrReplaceTempView(\"sales_view\")\n",
    "result=spark.sql(\"SELECT * from sales_view WHERE Item_Type='Dairy'\")\n",
    "result.show(5)"
   ]
  },
  {
   "cell_type": "raw",
   "id": "71d8385b-d9c3-44ef-a8cc-5bcb948a7ae6",
   "metadata": {},
   "source": [
    "How to create Global temp View"
   ]
  },
  {
   "cell_type": "code",
   "execution_count": 24,
   "id": "ad7c20a0-5757-43d5-89f4-a53af52468b9",
   "metadata": {},
   "outputs": [
    {
     "name": "stdout",
     "output_type": "stream",
     "text": [
      "+---------------+-----------+----------------+---------------+--------------------+--------+-----------------+-------------------------+-----------+--------------------+-----------------+-----------------+\n",
      "|Item_Identifier|Item_Weight|Item_Fat_Content|Item_Visibility|           Item_Type|Item_MRP|Outlet_Identifier|Outlet_Establishment_Year|Outlet_Size|Outlet_Location_Type|      Outlet_Type|Item_Outlet_Sales|\n",
      "+---------------+-----------+----------------+---------------+--------------------+--------+-----------------+-------------------------+-----------+--------------------+-----------------+-----------------+\n",
      "|          FDA15|        9.3|         Low Fat|    0.016047301|               Dairy|249.8092|           OUT049|                     1999|     Medium|              Tier 1|Supermarket Type1|         3735.138|\n",
      "|          DRC01|       5.92|         Regular|    0.019278216|         Soft Drinks| 48.2692|           OUT018|                     2009|     Medium|              Tier 3|Supermarket Type2|         443.4228|\n",
      "|          FDN15|       17.5|         Low Fat|    0.016760075|                Meat| 141.618|           OUT049|                     1999|     Medium|              Tier 1|Supermarket Type1|          2097.27|\n",
      "|          FDX07|       19.2|         Regular|            0.0|Fruits and Vegeta...| 182.095|           OUT010|                     1998|       NULL|              Tier 3|    Grocery Store|           732.38|\n",
      "|          NCD19|       8.93|         Low Fat|            0.0|           Household| 53.8614|           OUT013|                     1987|       High|              Tier 3|Supermarket Type1|         994.7052|\n",
      "+---------------+-----------+----------------+---------------+--------------------+--------+-----------------+-------------------------+-----------+--------------------+-----------------+-----------------+\n",
      "only showing top 5 rows\n",
      "\n"
     ]
    }
   ],
   "source": [
    "\n",
    "df.createGlobalTempView(\"sales_view3\")\n",
    "result1=spark.sql(\"SELECT * from global_temp.sales_view3\")\n",
    "result1.show(5)"
   ]
  },
  {
   "cell_type": "code",
   "execution_count": 25,
   "id": "0592b864-4808-41b4-8f12-b3cd0c229290",
   "metadata": {},
   "outputs": [
    {
     "name": "stdout",
     "output_type": "stream",
     "text": [
      "+----------------+\n",
      "|count(Item_Type)|\n",
      "+----------------+\n",
      "|            8523|\n",
      "+----------------+\n",
      "\n"
     ]
    }
   ],
   "source": [
    "spark.sql(\"SELECT count(Item_Type) from sales_view\").show()"
   ]
  },
  {
   "cell_type": "raw",
   "id": "ef4d2482-12a4-4ce2-b97c-facb9fa27bbb",
   "metadata": {},
   "source": [
    "                                                        withColumnname and replace column operations"
   ]
  },
  {
   "cell_type": "code",
   "execution_count": 26,
   "id": "715fe1f3-4089-4ded-a4f6-76b5f0e2a91f",
   "metadata": {},
   "outputs": [
    {
     "name": "stdout",
     "output_type": "stream",
     "text": [
      "+----------+------------+---------------+-----+-----+-----+-------+--------+------+-----------+-----------------------+----------+-------------------+-------------------+\n",
      "|Product ID|Product Name|       Category|Price|Stock|Sales|  Brand|Discount|Rating|Launch Date|Warranty Period (Years)|  Supplier|Product Description|Manufacture Country|\n",
      "+----------+------------+---------------+-----+-----+-----+-------+--------+------+-----------+-----------------------+----------+-------------------+-------------------+\n",
      "|       101|     Monitor|    Accessories| 1156|  482|   29|Brand C|    0.21|  NULL| 2020-07-20|                    2.0|      NULL|      Best in class|              India|\n",
      "|       102|  Headphones|       Clothing|  289|  305|   45|Brand E|    0.06|   3.0| 2022-01-16|                    1.0|Supplier B|      Best in class|              China|\n",
      "|       103|     Charger|Home Appliances| 4942|  197|  106|Brand E|    0.07|  NULL| 2024-11-11|                    2.0|Supplier C|        Top selling|              China|\n",
      "|       104|      Laptop|       Clothing| 1359|  328|  259|Brand E|    0.13|  NULL| 2022-12-18|                   NULL|      NULL|   Affordable price|              India|\n",
      "|       105|      Camera|    Electronics| 4382|  204|  166|Brand E|    0.34|  NULL| 2024-08-26|                    3.0|Supplier B|      Best in class|              China|\n",
      "+----------+------------+---------------+-----+-----+-----+-------+--------+------+-----------+-----------------------+----------+-------------------+-------------------+\n",
      "only showing top 5 rows\n",
      "\n"
     ]
    }
   ],
   "source": [
    "df=spark.read.csv('Products.csv',header='True',inferSchema='True')\n",
    "df.show(5)"
   ]
  },
  {
   "cell_type": "raw",
   "id": "729929c5-6ede-4ef5-8c24-6bed220e6ef6",
   "metadata": {},
   "source": [
    "To create a new column\n",
    "we should use withcolumnname"
   ]
  },
  {
   "cell_type": "code",
   "execution_count": 27,
   "id": "24a0a8d9-d213-4d3c-b5d6-94471e298a41",
   "metadata": {},
   "outputs": [
    {
     "name": "stdout",
     "output_type": "stream",
     "text": [
      "+----------+------------+-----------+-----+-----+-----+-------+--------+------+-----------+-----------------------+----------+-------------------+-------------------+--------+\n",
      "|Product ID|Product Name|   Category|Price|Stock|Sales|  Brand|Discount|Rating|Launch Date|Warranty Period (Years)|  Supplier|Product Description|Manufacture Country|NewPrice|\n",
      "+----------+------------+-----------+-----+-----+-----+-------+--------+------+-----------+-----------------------+----------+-------------------+-------------------+--------+\n",
      "|       101|     Monitor|Accessories| 1156|  482|   29|Brand C|    0.21|  NULL| 2020-07-20|                    2.0|      NULL|      Best in class|              India|    2312|\n",
      "|       102|  Headphones|   Clothing|  289|  305|   45|Brand E|    0.06|   3.0| 2022-01-16|                    1.0|Supplier B|      Best in class|              China|     578|\n",
      "+----------+------------+-----------+-----+-----+-----+-------+--------+------+-----------+-----------------------+----------+-------------------+-------------------+--------+\n",
      "only showing top 2 rows\n",
      "\n"
     ]
    }
   ],
   "source": [
    "df.withColumn(\"NewPrice\",df['Price']*2).show(2)"
   ]
  },
  {
   "cell_type": "raw",
   "id": "e3e083a1-63b3-48e0-a812-746d292701ef",
   "metadata": {},
   "source": [
    "To replace the name of existing column"
   ]
  },
  {
   "cell_type": "code",
   "execution_count": 28,
   "id": "21765acf-c737-45bf-8664-87dde36e599a",
   "metadata": {},
   "outputs": [
    {
     "name": "stdout",
     "output_type": "stream",
     "text": [
      "+----------+------------+-----------+---------+-----+-----+-------+--------+------+-----------+-----------------------+----------+-------------------+-------------------+\n",
      "|Product ID|Product Name|   Category|New_price|Stock|Sales|  Brand|Discount|Rating|Launch Date|Warranty Period (Years)|  Supplier|Product Description|Manufacture Country|\n",
      "+----------+------------+-----------+---------+-----+-----+-------+--------+------+-----------+-----------------------+----------+-------------------+-------------------+\n",
      "|       101|     Monitor|Accessories|     1156|  482|   29|Brand C|    0.21|  NULL| 2020-07-20|                    2.0|      NULL|      Best in class|              India|\n",
      "|       102|  Headphones|   Clothing|      289|  305|   45|Brand E|    0.06|   3.0| 2022-01-16|                    1.0|Supplier B|      Best in class|              China|\n",
      "+----------+------------+-----------+---------+-----+-----+-------+--------+------+-----------+-----------------------+----------+-------------------+-------------------+\n",
      "only showing top 2 rows\n",
      "\n"
     ]
    }
   ],
   "source": [
    "a=df.withColumnRenamed('Price','New_price')\n",
    "a.show(2)"
   ]
  },
  {
   "cell_type": "raw",
   "id": "d5173930-b312-436d-b0d0-bc6b454f09bc",
   "metadata": {},
   "source": [
    "Alias Transformation"
   ]
  },
  {
   "cell_type": "code",
   "execution_count": 29,
   "id": "7fb3e049-4aa3-47b0-9066-2b28d54a12a5",
   "metadata": {},
   "outputs": [
    {
     "name": "stdout",
     "output_type": "stream",
     "text": [
      "+---------------+\n",
      "|            Cat|\n",
      "+---------------+\n",
      "|    Accessories|\n",
      "|       Clothing|\n",
      "|Home Appliances|\n",
      "|       Clothing|\n",
      "|    Electronics|\n",
      "|       Clothing|\n",
      "|    Accessories|\n",
      "|    Electronics|\n",
      "|Home Appliances|\n",
      "|       Clothing|\n",
      "|Home Appliances|\n",
      "|       Clothing|\n",
      "|      Furniture|\n",
      "|    Electronics|\n",
      "|      Furniture|\n",
      "|Home Appliances|\n",
      "|      Furniture|\n",
      "|Home Appliances|\n",
      "|Home Appliances|\n",
      "|    Electronics|\n",
      "+---------------+\n",
      "only showing top 20 rows\n",
      "\n"
     ]
    }
   ],
   "source": [
    "df.select(df['Category'].alias('Cat')).show()"
   ]
  },
  {
   "cell_type": "raw",
   "id": "5e9f4d99-e22a-4348-9a49-e23771caa9fb",
   "metadata": {},
   "source": [
    "OrderBy operation"
   ]
  },
  {
   "cell_type": "code",
   "execution_count": 30,
   "id": "12a7fc8c-49f6-4b9f-b12a-825c0cb784dc",
   "metadata": {},
   "outputs": [
    {
     "name": "stdout",
     "output_type": "stream",
     "text": [
      "+----------+------------+-----------+-----+-----+-----+-------+--------+------+-----------+-----------------------+----------+-------------------+-------------------+\n",
      "|Product ID|Product Name|   Category|Price|Stock|Sales|  Brand|Discount|Rating|Launch Date|Warranty Period (Years)|  Supplier|Product Description|Manufacture Country|\n",
      "+----------+------------+-----------+-----+-----+-----+-------+--------+------+-----------+-----------------------+----------+-------------------+-------------------+\n",
      "|       123|  Headphones|Accessories| 1745|  340|   28|Brand D|    0.13|   2.0| 2021-03-12|                    5.0|Supplier C|               NULL|              India|\n",
      "|       136|     Charger|Accessories| 1880|  200|  253|Brand B|    0.35|   5.0| 2022-03-28|                    1.0|      NULL|        Top selling|            Germany|\n",
      "|       124|  Headphones|Accessories|  564|  478|   77|Brand D|    0.32|   3.0| 2023-04-03|                   NULL|Supplier B|               NULL|               NULL|\n",
      "|       101|     Monitor|Accessories| 1156|  482|   29|Brand C|    0.21|  NULL| 2020-07-20|                    2.0|      NULL|      Best in class|              India|\n",
      "|       127|       Phone|Accessories| 2909|  184|  296|Brand D|    0.07|   3.0| 2024-01-30|                   NULL|Supplier B|               NULL|              China|\n",
      "+----------+------------+-----------+-----+-----+-----+-------+--------+------+-----------+-----------------------+----------+-------------------+-------------------+\n",
      "only showing top 5 rows\n",
      "\n"
     ]
    }
   ],
   "source": [
    "df.orderBy('Category').show(5)  #ascending order"
   ]
  },
  {
   "cell_type": "code",
   "execution_count": 31,
   "id": "a9e69f2a-5b70-4b43-85d7-593de4d750c4",
   "metadata": {},
   "outputs": [
    {
     "name": "stdout",
     "output_type": "stream",
     "text": [
      "+----------+------------+---------------+-----+-----+-----+-------+--------+------+-----------+-----------------------+----------+-------------------+-------------------+\n",
      "|Product ID|Product Name|       Category|Price|Stock|Sales|  Brand|Discount|Rating|Launch Date|Warranty Period (Years)|  Supplier|Product Description|Manufacture Country|\n",
      "+----------+------------+---------------+-----+-----+-----+-------+--------+------+-----------+-----------------------+----------+-------------------+-------------------+\n",
      "|       103|     Charger|Home Appliances| 4942|  197|  106|Brand E|    0.07|  NULL| 2024-11-11|                    2.0|Supplier C|        Top selling|              China|\n",
      "|       109|       Mouse|Home Appliances|  482|  400|   11|Brand D|    0.16|   5.0| 2024-08-23|                   NULL|      NULL|               NULL|               NULL|\n",
      "|       111|    Keyboard|Home Appliances| 4350|  408|  241|Brand C|    0.24|   2.0| 2022-10-07|                    1.0|Supplier B|   Affordable price|              India|\n",
      "|       116|  Smartwatch|Home Appliances| 2255|  337|   71|Brand C|    0.21|   5.0| 2022-02-25|                    5.0|      NULL|   Affordable price|               NULL|\n",
      "|       118|       Mouse|Home Appliances| 2294|   14|  187|Brand D|    0.28|   4.0| 2021-07-05|                    2.0|Supplier A|   Affordable price|               NULL|\n",
      "+----------+------------+---------------+-----+-----+-----+-------+--------+------+-----------+-----------------------+----------+-------------------+-------------------+\n",
      "only showing top 5 rows\n",
      "\n"
     ]
    }
   ],
   "source": [
    "df.orderBy(df['Category'].desc()).show(5) #Descending order"
   ]
  },
  {
   "cell_type": "code",
   "execution_count": 32,
   "id": "c990d019-bca7-4901-977e-8a4ab5b72a94",
   "metadata": {},
   "outputs": [
    {
     "name": "stdout",
     "output_type": "stream",
     "text": [
      "+---------------+\n",
      "|       Category|\n",
      "+---------------+\n",
      "|Home Appliances|\n",
      "|Home Appliances|\n",
      "|Home Appliances|\n",
      "|Home Appliances|\n",
      "|Home Appliances|\n",
      "+---------------+\n",
      "only showing top 5 rows\n",
      "\n"
     ]
    }
   ],
   "source": [
    "df.select('Category').orderBy(df['Category'].desc()).show(5)"
   ]
  },
  {
   "cell_type": "raw",
   "id": "b61d8d8e-2e95-4634-96c1-073f29d6d0d0",
   "metadata": {},
   "source": [
    "To get Distinct Values"
   ]
  },
  {
   "cell_type": "code",
   "execution_count": 33,
   "id": "9f0220fa-7db9-49e1-9958-ee86021dfb99",
   "metadata": {},
   "outputs": [
    {
     "data": {
      "text/plain": [
       "['Product ID',\n",
       " 'Product Name',\n",
       " 'Category',\n",
       " 'Price',\n",
       " 'Stock',\n",
       " 'Sales',\n",
       " 'Brand',\n",
       " 'Discount',\n",
       " 'Rating',\n",
       " 'Launch Date',\n",
       " 'Warranty Period (Years)',\n",
       " 'Supplier',\n",
       " 'Product Description',\n",
       " 'Manufacture Country']"
      ]
     },
     "execution_count": 33,
     "metadata": {},
     "output_type": "execute_result"
    }
   ],
   "source": [
    "df.columns"
   ]
  },
  {
   "cell_type": "raw",
   "id": "6def9cfb-866b-4fa2-9824-7bfae164583f",
   "metadata": {},
   "source": [
    "To get distinct values"
   ]
  },
  {
   "cell_type": "code",
   "execution_count": 34,
   "id": "9964469c-12ba-447f-9a55-38132e100984",
   "metadata": {},
   "outputs": [
    {
     "name": "stdout",
     "output_type": "stream",
     "text": [
      "+---------------+\n",
      "|       Category|\n",
      "+---------------+\n",
      "|    Electronics|\n",
      "|       Clothing|\n",
      "|Home Appliances|\n",
      "|    Accessories|\n",
      "|      Furniture|\n",
      "+---------------+\n",
      "\n"
     ]
    }
   ],
   "source": [
    "df.select('Category').distinct().show(5)"
   ]
  },
  {
   "cell_type": "raw",
   "id": "03ae3b74-4808-43f6-a1cc-24b63530d6bc",
   "metadata": {},
   "source": [
    "isNull() Function"
   ]
  },
  {
   "cell_type": "code",
   "execution_count": 35,
   "id": "911fe344-e988-4c99-86fa-49e55758990d",
   "metadata": {},
   "outputs": [
    {
     "name": "stdout",
     "output_type": "stream",
     "text": [
      "+----------+------------+---------------+-----+-----+-----+-------+--------+------+-----------+-----------------------+--------+-------------------+-------------------+\n",
      "|Product ID|Product Name|       Category|Price|Stock|Sales|  Brand|Discount|Rating|Launch Date|Warranty Period (Years)|Supplier|Product Description|Manufacture Country|\n",
      "+----------+------------+---------------+-----+-----+-----+-------+--------+------+-----------+-----------------------+--------+-------------------+-------------------+\n",
      "|       101|     Monitor|    Accessories| 1156|  482|   29|Brand C|    0.21|  NULL| 2020-07-20|                    2.0|    NULL|      Best in class|              India|\n",
      "|       104|      Laptop|       Clothing| 1359|  328|  259|Brand E|    0.13|  NULL| 2022-12-18|                   NULL|    NULL|   Affordable price|              India|\n",
      "|       109|       Mouse|Home Appliances|  482|  400|   11|Brand D|    0.16|   5.0| 2024-08-23|                   NULL|    NULL|               NULL|               NULL|\n",
      "|       115|       Phone|      Furniture| 4875|  237|   21|Brand E|    0.09|   5.0| 2021-05-07|                    2.0|    NULL|   Affordable price|              China|\n",
      "|       116|  Smartwatch|Home Appliances| 2255|  337|   71|Brand C|    0.21|   5.0| 2022-02-25|                    5.0|    NULL|   Affordable price|               NULL|\n",
      "+----------+------------+---------------+-----+-----+-----+-------+--------+------+-----------+-----------------------+--------+-------------------+-------------------+\n",
      "only showing top 5 rows\n",
      "\n"
     ]
    }
   ],
   "source": [
    "df.filter(df['Supplier'].isNull()).show(5)"
   ]
  },
  {
   "cell_type": "raw",
   "id": "d59ffd00-056e-47aa-abfb-6b7b77b982a6",
   "metadata": {},
   "source": [
    "isNotNull() Function"
   ]
  },
  {
   "cell_type": "code",
   "execution_count": 36,
   "id": "d0217023-2b2c-410b-995d-cb6c73c48e4c",
   "metadata": {},
   "outputs": [
    {
     "name": "stdout",
     "output_type": "stream",
     "text": [
      "+----------+------------+---------------+-----+-----+-----+-------+--------+------+-----------+-----------------------+----------+--------------------+-------------------+\n",
      "|Product ID|Product Name|       Category|Price|Stock|Sales|  Brand|Discount|Rating|Launch Date|Warranty Period (Years)|  Supplier| Product Description|Manufacture Country|\n",
      "+----------+------------+---------------+-----+-----+-----+-------+--------+------+-----------+-----------------------+----------+--------------------+-------------------+\n",
      "|       101|     Monitor|    Accessories| 1156|  482|   29|Brand C|    0.21|  NULL| 2020-07-20|                    2.0|      NULL|       Best in class|              India|\n",
      "|       102|  Headphones|       Clothing|  289|  305|   45|Brand E|    0.06|   3.0| 2022-01-16|                    1.0|Supplier B|       Best in class|              China|\n",
      "|       103|     Charger|Home Appliances| 4942|  197|  106|Brand E|    0.07|  NULL| 2024-11-11|                    2.0|Supplier C|         Top selling|              China|\n",
      "|       105|      Camera|    Electronics| 4382|  204|  166|Brand E|    0.34|  NULL| 2024-08-26|                    3.0|Supplier B|       Best in class|              China|\n",
      "|       107|     Charger|    Accessories|  963|  324|  118|Brand A|    0.16|   4.0| 2022-07-26|                    2.0|Supplier B|Good quality product|                USA|\n",
      "+----------+------------+---------------+-----+-----+-----+-------+--------+------+-----------+-----------------------+----------+--------------------+-------------------+\n",
      "only showing top 5 rows\n",
      "\n"
     ]
    }
   ],
   "source": [
    "df.filter(df['Warranty Period (Years)'].isNotNull()).show(5)"
   ]
  },
  {
   "cell_type": "raw",
   "id": "991fa2e9-1d68-4fdc-b45d-c7fa89793e85",
   "metadata": {},
   "source": [
    ".na.drop()"
   ]
  },
  {
   "cell_type": "code",
   "execution_count": 37,
   "id": "7eab2e56-8471-4f4a-a250-80d904d10977",
   "metadata": {},
   "outputs": [
    {
     "name": "stdout",
     "output_type": "stream",
     "text": [
      "+----------+------------+---------------+-----+-----+-----+-------+--------+------+-----------+-----------------------+----------+--------------------+-------------------+\n",
      "|Product ID|Product Name|       Category|Price|Stock|Sales|  Brand|Discount|Rating|Launch Date|Warranty Period (Years)|  Supplier| Product Description|Manufacture Country|\n",
      "+----------+------------+---------------+-----+-----+-----+-------+--------+------+-----------+-----------------------+----------+--------------------+-------------------+\n",
      "|       102|  Headphones|       Clothing|  289|  305|   45|Brand E|    0.06|   3.0| 2022-01-16|                    1.0|Supplier B|       Best in class|              China|\n",
      "|       107|     Charger|    Accessories|  963|  324|  118|Brand A|    0.16|   4.0| 2022-07-26|                    2.0|Supplier B|Good quality product|                USA|\n",
      "|       110|     Charger|       Clothing| 2344|  292|  254|Brand B|    0.12|   5.0| 2023-03-10|                    5.0|Supplier B|Good quality product|                USA|\n",
      "|       111|    Keyboard|Home Appliances| 4350|  408|  241|Brand C|    0.24|   2.0| 2022-10-07|                    1.0|Supplier B|    Affordable price|              India|\n",
      "+----------+------------+---------------+-----+-----+-----+-------+--------+------+-----------+-----------------------+----------+--------------------+-------------------+\n",
      "only showing top 4 rows\n",
      "\n"
     ]
    }
   ],
   "source": [
    "df.na.drop().show(4)"
   ]
  },
  {
   "cell_type": "raw",
   "id": "51646c8f-6bfd-47df-a40b-690825208b44",
   "metadata": {},
   "source": [
    ".na.fill()"
   ]
  },
  {
   "cell_type": "code",
   "execution_count": 38,
   "id": "e3bbf46a-039f-4a81-9c00-ac980e69186a",
   "metadata": {},
   "outputs": [
    {
     "name": "stdout",
     "output_type": "stream",
     "text": [
      "+----------+------------+---------------+-----+-----+-----+-------+--------+------+-----------+-----------------------+----------+-------------------+-------------------+\n",
      "|Product ID|Product Name|       Category|Price|Stock|Sales|  Brand|Discount|Rating|Launch Date|Warranty Period (Years)|  Supplier|Product Description|Manufacture Country|\n",
      "+----------+------------+---------------+-----+-----+-----+-------+--------+------+-----------+-----------------------+----------+-------------------+-------------------+\n",
      "|       101|     Monitor|    Accessories| 1156|  482|   29|Brand C|    0.21|  NULL| 2020-07-20|                    2.0|      NULL|      Best in class|              India|\n",
      "|       102|  Headphones|       Clothing|  289|  305|   45|Brand E|    0.06|   3.0| 2022-01-16|                    1.0|Supplier B|      Best in class|              China|\n",
      "|       103|     Charger|Home Appliances| 4942|  197|  106|Brand E|    0.07|  NULL| 2024-11-11|                    2.0|Supplier C|        Top selling|              China|\n",
      "|       104|      Laptop|       Clothing| 1359|  328|  259|Brand E|    0.13|  NULL| 2022-12-18|                   10.0|      NULL|   Affordable price|              India|\n",
      "|       105|      Camera|    Electronics| 4382|  204|  166|Brand E|    0.34|  NULL| 2024-08-26|                    3.0|Supplier B|      Best in class|              China|\n",
      "+----------+------------+---------------+-----+-----+-----+-------+--------+------+-----------+-----------------------+----------+-------------------+-------------------+\n",
      "only showing top 5 rows\n",
      "\n"
     ]
    }
   ],
   "source": [
    "df.na.fill({\"Warranty Period (Years)\":10}).show(5)"
   ]
  },
  {
   "cell_type": "code",
   "execution_count": 39,
   "id": "08f7a383-554e-477b-a444-48a4435462b0",
   "metadata": {},
   "outputs": [
    {
     "name": "stdout",
     "output_type": "stream",
     "text": [
      "+----------+------------+---------------+-----+-----+-----+-------+--------+------+-----------+-----------------------+----------+-------------------+-------------------+\n",
      "|Product ID|Product Name|       Category|Price|Stock|Sales|  Brand|Discount|Rating|Launch Date|Warranty Period (Years)|  Supplier|Product Description|Manufacture Country|\n",
      "+----------+------------+---------------+-----+-----+-----+-------+--------+------+-----------+-----------------------+----------+-------------------+-------------------+\n",
      "|       101|     Monitor|    Accessories| 1156|  482|   29|Brand C|    0.21|  NULL| 2020-07-20|                    2.0|      NULL|      Best in class|              India|\n",
      "|       102|  Headphones|       Clothing|  289|  305|   45|Brand E|    0.06|   3.0| 2022-01-16|                    1.0|Supplier B|      Best in class|              China|\n",
      "|       103|     Charger|Home Appliances| 4942|  197|  106|Brand E|    0.07|  NULL| 2024-11-11|                    2.0|Supplier C|        Top selling|              China|\n",
      "|       104|      Laptop|       Clothing| 1359|  328|  259|Brand E|    0.13|  NULL| 2022-12-18|                   NULL|      NULL|   Affordable price|              India|\n",
      "|       105|      Camera|    Electronics| 4382|  204|  166|Brand E|    0.34|  NULL| 2024-08-26|                    3.0|Supplier B|      Best in class|              China|\n",
      "+----------+------------+---------------+-----+-----+-----+-------+--------+------+-----------+-----------------------+----------+-------------------+-------------------+\n",
      "only showing top 5 rows\n",
      "\n"
     ]
    }
   ],
   "source": [
    "df.show(5)"
   ]
  },
  {
   "cell_type": "raw",
   "id": "822f0cec-7779-4f3f-a7a2-be33444074d4",
   "metadata": {},
   "source": [
    "                                                        Agg Functions"
   ]
  },
  {
   "cell_type": "code",
   "execution_count": 40,
   "id": "a7d67a18-1044-4081-9e69-5d46f4971dd8",
   "metadata": {},
   "outputs": [],
   "source": [
    "import pyspark.sql.functions  as F"
   ]
  },
  {
   "cell_type": "code",
   "execution_count": 41,
   "id": "cdb63836-d3ac-4047-b416-d1bd3fe72c6e",
   "metadata": {},
   "outputs": [
    {
     "data": {
      "text/plain": [
       "['Product ID',\n",
       " 'Product Name',\n",
       " 'Category',\n",
       " 'Price',\n",
       " 'Stock',\n",
       " 'Sales',\n",
       " 'Brand',\n",
       " 'Discount',\n",
       " 'Rating',\n",
       " 'Launch Date',\n",
       " 'Warranty Period (Years)',\n",
       " 'Supplier',\n",
       " 'Product Description',\n",
       " 'Manufacture Country']"
      ]
     },
     "execution_count": 41,
     "metadata": {},
     "output_type": "execute_result"
    }
   ],
   "source": [
    "df.columns\n"
   ]
  },
  {
   "cell_type": "code",
   "execution_count": 42,
   "id": "6f8dd4b7-0143-4a05-afb7-0dbef963fab6",
   "metadata": {},
   "outputs": [
    {
     "name": "stdout",
     "output_type": "stream",
     "text": [
      "+------------+-------------+\n",
      "|Product Name|Minimum Price|\n",
      "+------------+-------------+\n",
      "|       Phone|          142|\n",
      "|  Smartwatch|          116|\n",
      "|      Laptop|          212|\n",
      "|     Charger|          461|\n",
      "|       Mouse|          101|\n",
      "|      Camera|          249|\n",
      "|      Tablet|          290|\n",
      "|    Keyboard|          134|\n",
      "|     Monitor|          272|\n",
      "|  Headphones|          169|\n",
      "+------------+-------------+\n",
      "\n"
     ]
    }
   ],
   "source": [
    "gdf=df.groupBy('Product Name').agg(F.min('Price').alias('Minimum Price'))\n",
    "gdf.show()"
   ]
  },
  {
   "cell_type": "code",
   "execution_count": 43,
   "id": "b35671bd-7e87-4387-bb30-77d856c5ccfe",
   "metadata": {},
   "outputs": [
    {
     "name": "stdout",
     "output_type": "stream",
     "text": [
      "+------------+-------------+\n",
      "|Product Name|Maximum Price|\n",
      "+------------+-------------+\n",
      "|       Phone|         4875|\n",
      "|  Smartwatch|         4964|\n",
      "|      Laptop|         4588|\n",
      "|     Charger|         4981|\n",
      "|       Mouse|         4795|\n",
      "|      Camera|         4989|\n",
      "|      Tablet|         4911|\n",
      "|    Keyboard|         4833|\n",
      "|     Monitor|         4999|\n",
      "|  Headphones|         4616|\n",
      "+------------+-------------+\n",
      "\n"
     ]
    }
   ],
   "source": [
    "gdf=df.groupBy('Product Name').agg(F.max('Price').alias('Maximum Price'))\n",
    "gdf.show()"
   ]
  },
  {
   "cell_type": "code",
   "execution_count": 44,
   "id": "6be7c3e5-fc56-4070-b484-d34f75807cd9",
   "metadata": {},
   "outputs": [
    {
     "name": "stdout",
     "output_type": "stream",
     "text": [
      "+------------+------------------+\n",
      "|Product Name|     Average Price|\n",
      "+------------+------------------+\n",
      "|       Phone| 2571.871794871795|\n",
      "|  Smartwatch|2446.4210526315787|\n",
      "|      Laptop| 2187.054054054054|\n",
      "|     Charger| 2930.108695652174|\n",
      "|       Mouse|2477.5208333333335|\n",
      "|      Camera| 2809.323529411765|\n",
      "|      Tablet|        2784.15625|\n",
      "|    Keyboard|2898.4347826086955|\n",
      "|     Monitor|2609.4651162790697|\n",
      "|  Headphones|2020.3513513513512|\n",
      "+------------+------------------+\n",
      "\n"
     ]
    }
   ],
   "source": [
    "gdf=df.groupBy('Product Name').agg(F.avg('Price').alias('Average Price'))\n",
    "gdf.show()"
   ]
  },
  {
   "cell_type": "code",
   "execution_count": 45,
   "id": "6385e0a3-291e-4947-ba10-030dd0b23128",
   "metadata": {},
   "outputs": [
    {
     "name": "stdout",
     "output_type": "stream",
     "text": [
      "+------------+--------------+\n",
      "|Product Name|Total Products|\n",
      "+------------+--------------+\n",
      "|       Phone|            39|\n",
      "|  Smartwatch|            38|\n",
      "|      Laptop|            37|\n",
      "|     Charger|            46|\n",
      "|       Mouse|            48|\n",
      "|      Camera|            34|\n",
      "|      Tablet|            32|\n",
      "|    Keyboard|            46|\n",
      "|     Monitor|            43|\n",
      "|  Headphones|            37|\n",
      "+------------+--------------+\n",
      "\n"
     ]
    }
   ],
   "source": [
    "gdf=df.groupBy('Product Name').agg(F.count('Sales').alias('Total Products'))\n",
    "gdf.show()"
   ]
  },
  {
   "cell_type": "code",
   "execution_count": 46,
   "id": "fe3933e7-dcdc-432c-8e67-d7615e831301",
   "metadata": {},
   "outputs": [
    {
     "name": "stdout",
     "output_type": "stream",
     "text": [
      "+------------+-----------+\n",
      "|Product Name|Total Price|\n",
      "+------------+-----------+\n",
      "|       Phone|     100303|\n",
      "|  Smartwatch|      92964|\n",
      "|      Laptop|      80921|\n",
      "|     Charger|     134785|\n",
      "|       Mouse|     118921|\n",
      "|      Camera|      95517|\n",
      "|      Tablet|      89093|\n",
      "|    Keyboard|     133328|\n",
      "|     Monitor|     112207|\n",
      "|  Headphones|      74753|\n",
      "+------------+-----------+\n",
      "\n"
     ]
    }
   ],
   "source": [
    "gdf=df.groupBy('Product Name').agg(F.sum('Price').alias('Total Price'))\n",
    "gdf.show()"
   ]
  },
  {
   "cell_type": "code",
   "execution_count": 47,
   "id": "28e5e5d0-6792-455b-ac2f-5a0a20e856b3",
   "metadata": {},
   "outputs": [
    {
     "name": "stdout",
     "output_type": "stream",
     "text": [
      "root\n",
      " |-- Product ID: integer (nullable = true)\n",
      " |-- Product Name: string (nullable = true)\n",
      " |-- Category: string (nullable = true)\n",
      " |-- Price: integer (nullable = true)\n",
      " |-- Stock: integer (nullable = true)\n",
      " |-- Sales: integer (nullable = true)\n",
      " |-- Brand: string (nullable = true)\n",
      " |-- Discount: double (nullable = true)\n",
      " |-- Rating: double (nullable = true)\n",
      " |-- Launch Date: date (nullable = true)\n",
      " |-- Warranty Period (Years): double (nullable = true)\n",
      " |-- Supplier: string (nullable = true)\n",
      " |-- Product Description: string (nullable = true)\n",
      " |-- Manufacture Country: string (nullable = true)\n",
      "\n"
     ]
    }
   ],
   "source": [
    "df.printSchema()\n"
   ]
  },
  {
   "cell_type": "code",
   "execution_count": 48,
   "id": "86106978-1e31-4463-993f-7ea47a4e5cdd",
   "metadata": {},
   "outputs": [
    {
     "name": "stdout",
     "output_type": "stream",
     "text": [
      "+------------+\n",
      "|String value|\n",
      "+------------+\n",
      "|        1156|\n",
      "|         289|\n",
      "|        4942|\n",
      "|        1359|\n",
      "|        4382|\n",
      "|        3038|\n",
      "|         963|\n",
      "|        4092|\n",
      "|         482|\n",
      "|        2344|\n",
      "|        4350|\n",
      "|        3847|\n",
      "|        3100|\n",
      "|        1207|\n",
      "|        4875|\n",
      "|        2255|\n",
      "|        4065|\n",
      "|        2294|\n",
      "|        2731|\n",
      "|        1502|\n",
      "+------------+\n",
      "only showing top 20 rows\n",
      "\n"
     ]
    }
   ],
   "source": [
    "a=df.select(df['Price'].cast('string').alias(\"String value\"))\n",
    "a.show()#To covert the price column from integer to string"
   ]
  },
  {
   "cell_type": "code",
   "execution_count": 49,
   "id": "1f2ae785-8747-4e3e-bc29-34f3c04a836b",
   "metadata": {},
   "outputs": [
    {
     "name": "stdout",
     "output_type": "stream",
     "text": [
      "root\n",
      " |-- String value: string (nullable = true)\n",
      "\n"
     ]
    }
   ],
   "source": [
    "a.printSchema()"
   ]
  },
  {
   "cell_type": "code",
   "execution_count": 50,
   "id": "4f94260b-a117-498c-95c2-95dd6470872e",
   "metadata": {},
   "outputs": [
    {
     "name": "stdout",
     "output_type": "stream",
     "text": [
      "+-------+------------------+\n",
      "|summary|             Price|\n",
      "+-------+------------------+\n",
      "|  count|               400|\n",
      "|   mean|           2581.98|\n",
      "| stddev|1446.6005556195514|\n",
      "|    min|               101|\n",
      "|    max|              4999|\n",
      "+-------+------------------+\n",
      "\n"
     ]
    }
   ],
   "source": [
    "df.select('Price').describe().show()"
   ]
  },
  {
   "cell_type": "code",
   "execution_count": 51,
   "id": "386ec5c9-6a92-4090-ab38-16a784e69fa5",
   "metadata": {},
   "outputs": [
    {
     "data": {
      "text/plain": [
       "[Row(Product ID=500, Product Name='Monitor', Category='Electronics', Price=3403, Stock=255, Sales=97, Brand='Brand B', Discount=0.18, Rating=3.0, Launch Date=datetime.date(2021, 1, 13), Warranty Period (Years)=1.0, Supplier='Supplier B', Product Description='Top selling', Manufacture Country='Germany')]"
      ]
     },
     "execution_count": 51,
     "metadata": {},
     "output_type": "execute_result"
    }
   ],
   "source": [
    "df.tail(1) #to display last row"
   ]
  },
  {
   "cell_type": "code",
   "execution_count": 52,
   "id": "f2f97a1a-56fa-45b8-9807-9dd9e08f4c66",
   "metadata": {},
   "outputs": [
    {
     "name": "stdout",
     "output_type": "stream",
     "text": [
      "+----------------------------+\n",
      "|count(DISTINCT Product Name)|\n",
      "+----------------------------+\n",
      "|                          10|\n",
      "+----------------------------+\n",
      "\n"
     ]
    }
   ],
   "source": [
    "df.agg(F.countDistinct('Product Name')).show() #to count the total number of distinct values"
   ]
  },
  {
   "cell_type": "code",
   "execution_count": 53,
   "id": "173b5f4f-965b-462c-8e00-c6d87a321eb5",
   "metadata": {},
   "outputs": [
    {
     "data": {
      "text/plain": [
       "10"
      ]
     },
     "execution_count": 53,
     "metadata": {},
     "output_type": "execute_result"
    }
   ],
   "source": [
    "df.select('Product Name').distinct().count() #same with different approach\n"
   ]
  },
  {
   "cell_type": "code",
   "execution_count": 54,
   "id": "66e72fd0-aff6-4bf4-9623-d23898d89982",
   "metadata": {},
   "outputs": [
    {
     "name": "stdout",
     "output_type": "stream",
     "text": [
      "+----------------+\n",
      "|length(Category)|\n",
      "+----------------+\n",
      "|              11|\n",
      "|               8|\n",
      "|              15|\n",
      "|               8|\n",
      "|              11|\n",
      "|               8|\n",
      "|              11|\n",
      "|              11|\n",
      "|              15|\n",
      "|               8|\n",
      "|              15|\n",
      "|               8|\n",
      "|               9|\n",
      "|              11|\n",
      "|               9|\n",
      "|              15|\n",
      "|               9|\n",
      "|              15|\n",
      "|              15|\n",
      "|              11|\n",
      "+----------------+\n",
      "only showing top 20 rows\n",
      "\n"
     ]
    }
   ],
   "source": [
    "df.select(F.length('Category')).show() #it calculates length of each word in column Category"
   ]
  },
  {
   "cell_type": "code",
   "execution_count": 55,
   "id": "a387f481-201d-4bab-af16-3a978ffd9897",
   "metadata": {},
   "outputs": [],
   "source": [
    "df=df.withColumn(\"lengthofcat\",F.length('Category'))"
   ]
  },
  {
   "cell_type": "code",
   "execution_count": 56,
   "id": "f27a61ec-3dfc-4a25-873b-bc855312c489",
   "metadata": {},
   "outputs": [
    {
     "name": "stdout",
     "output_type": "stream",
     "text": [
      "+----------+------------+---------------+-----+-----+-----+-------+--------+------+-----------+-----------------------+----------+--------------------+-------------------+-----------+\n",
      "|Product ID|Product Name|       Category|Price|Stock|Sales|  Brand|Discount|Rating|Launch Date|Warranty Period (Years)|  Supplier| Product Description|Manufacture Country|lengthofcat|\n",
      "+----------+------------+---------------+-----+-----+-----+-------+--------+------+-----------+-----------------------+----------+--------------------+-------------------+-----------+\n",
      "|       101|     Monitor|    Accessories| 1156|  482|   29|Brand C|    0.21|  NULL| 2020-07-20|                    2.0|      NULL|       Best in class|              India|         11|\n",
      "|       102|  Headphones|       Clothing|  289|  305|   45|Brand E|    0.06|   3.0| 2022-01-16|                    1.0|Supplier B|       Best in class|              China|          8|\n",
      "|       103|     Charger|Home Appliances| 4942|  197|  106|Brand E|    0.07|  NULL| 2024-11-11|                    2.0|Supplier C|         Top selling|              China|         15|\n",
      "|       104|      Laptop|       Clothing| 1359|  328|  259|Brand E|    0.13|  NULL| 2022-12-18|                   NULL|      NULL|    Affordable price|              India|          8|\n",
      "|       105|      Camera|    Electronics| 4382|  204|  166|Brand E|    0.34|  NULL| 2024-08-26|                    3.0|Supplier B|       Best in class|              China|         11|\n",
      "|       106|      Laptop|       Clothing| 3038|  182|  213|Brand B|    0.13|  NULL| 2020-04-22|                   NULL|Supplier A|         Top selling|            Germany|          8|\n",
      "|       107|     Charger|    Accessories|  963|  324|  118|Brand A|    0.16|   4.0| 2022-07-26|                    2.0|Supplier B|Good quality product|                USA|         11|\n",
      "|       108|     Charger|    Electronics| 4092|  388|  119|Brand A|    0.05|  NULL| 2021-12-30|                    2.0|Supplier C|                NULL|              China|         11|\n",
      "|       109|       Mouse|Home Appliances|  482|  400|   11|Brand D|    0.16|   5.0| 2024-08-23|                   NULL|      NULL|                NULL|               NULL|         15|\n",
      "|       110|     Charger|       Clothing| 2344|  292|  254|Brand B|    0.12|   5.0| 2023-03-10|                    5.0|Supplier B|Good quality product|                USA|          8|\n",
      "|       111|    Keyboard|Home Appliances| 4350|  408|  241|Brand C|    0.24|   2.0| 2022-10-07|                    1.0|Supplier B|    Affordable price|              India|         15|\n",
      "|       112|  Smartwatch|       Clothing| 3847|  484|   45|Brand D|    0.19|   2.0| 2023-03-07|                    5.0|Supplier B|       Best in class|            Germany|          8|\n",
      "|       113|    Keyboard|      Furniture| 3100|  190|  144|Brand C|    0.13|   3.0| 2021-02-21|                   NULL|Supplier B|       Best in class|                USA|          9|\n",
      "|       114|      Camera|    Electronics| 1207|  385|   28|Brand D|    0.08|   3.0| 2021-10-05|                    2.0|Supplier C|Good quality product|                USA|         11|\n",
      "|       115|       Phone|      Furniture| 4875|  237|   21|Brand E|    0.09|   5.0| 2021-05-07|                    2.0|      NULL|    Affordable price|              China|          9|\n",
      "|       116|  Smartwatch|Home Appliances| 2255|  337|   71|Brand C|    0.21|   5.0| 2022-02-25|                    5.0|      NULL|    Affordable price|               NULL|         15|\n",
      "|       117|     Charger|      Furniture| 4065|  448|   61|Brand E|    0.24|   2.0| 2023-12-15|                    3.0|Supplier A|         Top selling|              India|          9|\n",
      "|       118|       Mouse|Home Appliances| 2294|   14|  187|Brand D|    0.28|   4.0| 2021-07-05|                    2.0|Supplier A|    Affordable price|               NULL|         15|\n",
      "|       119|       Phone|Home Appliances| 2731|  162|  256|Brand A|    0.14|   3.0| 2022-04-20|                   NULL|Supplier C|    Affordable price|               NULL|         15|\n",
      "|       120|       Mouse|    Electronics| 1502|  371|  232|Brand E|    0.09|   3.0| 2023-02-27|                    2.0|      NULL|    Affordable price|               NULL|         11|\n",
      "+----------+------------+---------------+-----+-----+-----+-------+--------+------+-----------+-----------------------+----------+--------------------+-------------------+-----------+\n",
      "only showing top 20 rows\n",
      "\n"
     ]
    }
   ],
   "source": [
    "df.show()"
   ]
  },
  {
   "cell_type": "code",
   "execution_count": 57,
   "id": "2d599ee2-73d6-4f50-9a09-2ad146f12fd4",
   "metadata": {},
   "outputs": [
    {
     "name": "stdout",
     "output_type": "stream",
     "text": [
      "+------------------------------+\n",
      "|concat(Product Name, Category)|\n",
      "+------------------------------+\n",
      "|            MonitorAccessories|\n",
      "|            HeadphonesClothing|\n",
      "|          ChargerHome Appli...|\n",
      "|                LaptopClothing|\n",
      "|             CameraElectronics|\n",
      "|                LaptopClothing|\n",
      "|            ChargerAccessories|\n",
      "|            ChargerElectronics|\n",
      "|          MouseHome Appliances|\n",
      "|               ChargerClothing|\n",
      "|          KeyboardHome Appl...|\n",
      "|            SmartwatchClothing|\n",
      "|             KeyboardFurniture|\n",
      "|             CameraElectronics|\n",
      "|                PhoneFurniture|\n",
      "|          SmartwatchHome Ap...|\n",
      "|              ChargerFurniture|\n",
      "|          MouseHome Appliances|\n",
      "|          PhoneHome Appliances|\n",
      "|              MouseElectronics|\n",
      "+------------------------------+\n",
      "only showing top 20 rows\n",
      "\n"
     ]
    }
   ],
   "source": [
    "df.select(F.concat('Product Name','Category')).show() #to concat two columns"
   ]
  },
  {
   "cell_type": "code",
   "execution_count": 58,
   "id": "4805bea2-0a7e-4479-8bf4-534357147cfb",
   "metadata": {},
   "outputs": [
    {
     "name": "stdout",
     "output_type": "stream",
     "text": [
      "+----------+------------+--------+-----+-----+-----+-------+--------+------+-----------+-----------------------+----------+--------------------+-------------------+-----------+\n",
      "|Product ID|Product Name|Category|Price|Stock|Sales|  Brand|Discount|Rating|Launch Date|Warranty Period (Years)|  Supplier| Product Description|Manufacture Country|lengthofcat|\n",
      "+----------+------------+--------+-----+-----+-----+-------+--------+------+-----------+-----------------------+----------+--------------------+-------------------+-----------+\n",
      "|       102|  Headphones|Clothing|  289|  305|   45|Brand E|    0.06|   3.0| 2022-01-16|                    1.0|Supplier B|       Best in class|              China|          8|\n",
      "|       104|      Laptop|Clothing| 1359|  328|  259|Brand E|    0.13|  NULL| 2022-12-18|                   NULL|      NULL|    Affordable price|              India|          8|\n",
      "|       106|      Laptop|Clothing| 3038|  182|  213|Brand B|    0.13|  NULL| 2020-04-22|                   NULL|Supplier A|         Top selling|            Germany|          8|\n",
      "|       110|     Charger|Clothing| 2344|  292|  254|Brand B|    0.12|   5.0| 2023-03-10|                    5.0|Supplier B|Good quality product|                USA|          8|\n",
      "|       112|  Smartwatch|Clothing| 3847|  484|   45|Brand D|    0.19|   2.0| 2023-03-07|                    5.0|Supplier B|       Best in class|            Germany|          8|\n",
      "|       121|    Keyboard|Clothing|  134|  499|  236|Brand C|    0.18|   1.0| 2024-09-28|                    3.0|Supplier C|         Top selling|              China|          8|\n",
      "|       128|       Mouse|Clothing| 3041|  193|  270|Brand C|    0.13|  NULL| 2021-10-31|                    3.0|Supplier A|    Affordable price|              China|          8|\n",
      "|       138|      Laptop|Clothing| 2924|  329|   72|Brand E|    0.12|   2.0| 2022-04-18|                    3.0|Supplier C|       Best in class|                USA|          8|\n",
      "|       148|    Keyboard|Clothing| 2709|   25|  113|Brand B|    0.17|   3.0| 2024-05-25|                    1.0|Supplier B|       Best in class|               NULL|          8|\n",
      "|       153|      Camera|Clothing| 4959|  147|  104|Brand B|    0.13|   3.0| 2021-04-03|                   NULL|      NULL|         Top selling|                USA|          8|\n",
      "|       154|      Laptop|Clothing| 4281|  417|  199|Brand B|    0.25|   5.0| 2021-11-30|                    1.0|Supplier B|       Best in class|            Germany|          8|\n",
      "|       157|  Smartwatch|Clothing|  915|   36|   68|Brand B|    0.13|   3.0| 2020-07-30|                    1.0|      NULL|       Best in class|                USA|          8|\n",
      "|       159|      Laptop|Clothing| 3186|  133|  141|Brand D|     0.2|   1.0| 2022-01-29|                    2.0|      NULL|    Affordable price|            Germany|          8|\n",
      "|       163|      Camera|Clothing| 4499|  176|  176|Brand E|    0.27|   3.0| 2021-03-28|                    3.0|Supplier C|                NULL|                USA|          8|\n",
      "|       164|      Tablet|Clothing| 3491|  475|  203|Brand B|    0.09|  NULL| 2021-04-27|                    5.0|Supplier B|                NULL|               NULL|          8|\n",
      "|       166|      Camera|Clothing| 1786|  449|  280|Brand C|    0.31|   2.0| 2022-04-22|                    1.0|      NULL|Good quality product|               NULL|          8|\n",
      "|       167|  Headphones|Clothing| 1526|  338|  122|Brand E|    0.23|   4.0| 2022-10-12|                    2.0|      NULL|    Affordable price|              China|          8|\n",
      "|       176|     Charger|Clothing| 1201|  434|  287|Brand D|    0.23|   2.0| 2021-10-08|                    3.0|      NULL|         Top selling|            Germany|          8|\n",
      "|       178|     Monitor|Clothing|  477|  154|   86|Brand E|    0.09|   1.0| 2023-04-05|                    3.0|Supplier A|       Best in class|               NULL|          8|\n",
      "|       183|       Mouse|Clothing|  751|  479|   45|Brand B|     0.2|   4.0| 2021-09-25|                    3.0|Supplier B|                NULL|              India|          8|\n",
      "+----------+------------+--------+-----+-----+-----+-------+--------+------+-----------+-----------------------+----------+--------------------+-------------------+-----------+\n",
      "only showing top 20 rows\n",
      "\n"
     ]
    }
   ],
   "source": [
    "df.filter(df['Category'].isin('Clothing')).show()"
   ]
  },
  {
   "cell_type": "raw",
   "id": "a49148b3-c602-42e1-8ea5-7e6873ac27b8",
   "metadata": {},
   "source": [
    "                                        Window Functions"
   ]
  },
  {
   "cell_type": "code",
   "execution_count": 59,
   "id": "ff6193dc-949d-4c54-ad79-d369474cd48f",
   "metadata": {},
   "outputs": [],
   "source": [
    "from pyspark.sql import Window"
   ]
  },
  {
   "cell_type": "code",
   "execution_count": 60,
   "id": "978c74eb-61e7-46fb-bd0e-89f6db56a8a1",
   "metadata": {},
   "outputs": [],
   "source": [
    "windowSpec=Window.partitionBy('Category')"
   ]
  },
  {
   "cell_type": "code",
   "execution_count": 63,
   "id": "f06ab080-4250-43ed-bb36-406497139d69",
   "metadata": {},
   "outputs": [
    {
     "name": "stdout",
     "output_type": "stream",
     "text": [
      "+----------+------------+-----------+-----+-----+-----+-------+--------+------+-----------+-----------------------+----------+--------------------+-------------------+-----------+------------------+------------+\n",
      "|Product ID|Product Name|   Category|Price|Stock|Sales|  Brand|Discount|Rating|Launch Date|Warranty Period (Years)|  Supplier| Product Description|Manufacture Country|lengthofcat|     Average Price|Total Salary|\n",
      "+----------+------------+-----------+-----+-----+-----+-------+--------+------+-----------+-----------------------+----------+--------------------+-------------------+-----------+------------------+------------+\n",
      "|       101|     Monitor|Accessories| 1156|  482|   29|Brand C|    0.21|  NULL| 2020-07-20|                    2.0|      NULL|       Best in class|              India|         11|2438.5128205128203|      190204|\n",
      "|       107|     Charger|Accessories|  963|  324|  118|Brand A|    0.16|   4.0| 2022-07-26|                    2.0|Supplier B|Good quality product|                USA|         11|2438.5128205128203|      190204|\n",
      "|       123|  Headphones|Accessories| 1745|  340|   28|Brand D|    0.13|   2.0| 2021-03-12|                    5.0|Supplier C|                NULL|              India|         11|2438.5128205128203|      190204|\n",
      "+----------+------------+-----------+-----+-----+-----+-------+--------+------+-----------+-----------------------+----------+--------------------+-------------------+-----------+------------------+------------+\n",
      "only showing top 3 rows\n",
      "\n"
     ]
    }
   ],
   "source": [
    "data=df.withColumn('Average Price',F.avg('Price').over(windowSpec))\\\n",
    "       .withColumn('Total Salary',F.sum('Price').over(windowSpec))\n",
    "data.show(3)"
   ]
  },
  {
   "cell_type": "code",
   "execution_count": null,
   "id": "0f195c52-1154-46f5-b41a-b839bbb50a57",
   "metadata": {},
   "outputs": [],
   "source": []
  }
 ],
 "metadata": {
  "kernelspec": {
   "display_name": "Python 3 (ipykernel)",
   "language": "python",
   "name": "python3"
  },
  "language_info": {
   "codemirror_mode": {
    "name": "ipython",
    "version": 3
   },
   "file_extension": ".py",
   "mimetype": "text/x-python",
   "name": "python",
   "nbconvert_exporter": "python",
   "pygments_lexer": "ipython3",
   "version": "3.11.0"
  }
 },
 "nbformat": 4,
 "nbformat_minor": 5
}
